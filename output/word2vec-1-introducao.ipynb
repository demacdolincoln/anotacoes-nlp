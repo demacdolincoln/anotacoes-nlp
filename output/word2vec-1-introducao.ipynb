{
 "cells": [
  {
   "cell_type": "code",
   "execution_count": 1,
   "metadata": {},
   "outputs": [],
   "source": [
    "from IPython.display import Markdown\n",
    "import warnings\n",
    "warnings.filterwarnings(\"ignore\")"
   ]
  },
  {
   "cell_type": "markdown",
   "metadata": {},
   "source": [
    "# simples tutorial word2vec com o Gensim\n",
    "\n",
    "Gensim é uma biblioteca que de forma simples e nada burocratica nos permite usar vários algoritmos voltados para processamento de linguagem natural. Aqui falarei sobre como usar o word2vec e interagir um pouco com o skip-gram e cbow, mais à frente explicarei o que cada um é."
   ]
  },
  {
   "cell_type": "markdown",
   "metadata": {},
   "source": [
    "## 1. pegando um texto\n",
    "\n",
    "* pegar um artigo na wikipédia\n",
    "* limpando o texto!\n",
    "    - remover pontuação, converter para minúsculas, etc.\n",
    "    - remover stopwords (palavras que não nos interessam tanto e se repetem muito como \"que\", \"até\", \"mas\", etc)"
   ]
  },
  {
   "cell_type": "code",
   "execution_count": 2,
   "metadata": {},
   "outputs": [],
   "source": [
    "import gensim"
   ]
  },
  {
   "cell_type": "code",
   "execution_count": 3,
   "metadata": {},
   "outputs": [],
   "source": [
    "import pickle\n",
    "\n",
    "sentences = pickle.load(\n",
    "    open(\"corpus_text.pickle\", \"rb\")\n",
    ")"
   ]
  },
  {
   "cell_type": "code",
   "execution_count": 4,
   "metadata": {},
   "outputs": [
    {
     "data": {
      "text/plain": [
       "['alan',\n",
       " 'mathison',\n",
       " 'turing',\n",
       " 'obe',\n",
       " 'paddington',\n",
       " 'londres',\n",
       " 'junho',\n",
       " 'cheshire',\n",
       " 'east',\n",
       " 'cheshire']"
      ]
     },
     "execution_count": 4,
     "metadata": {},
     "output_type": "execute_result"
    }
   ],
   "source": [
    "sentences[0][:10]"
   ]
  },
  {
   "cell_type": "markdown",
   "metadata": {},
   "source": [
    "## 2. skip-gram e cbow\n",
    "\n",
    "Uma das grandes vantagens do word2vec é que ele por si não é um fim, mas uma base para outros algoritmos, a idéia por trás é verdadeiramente simples: usar esses pares de ids para evidenciar a relação entre as palavras e assim poder usar outros métodos como o skip-gram e o cbow para identificar padrões e encontrar palavras semanticamente próximas ou classificar textos, por exemplo."
   ]
  },
  {
   "cell_type": "markdown",
   "metadata": {},
   "source": [
    "### 2.1 skip-gram\n",
    "\n",
    "Usamos uma rede neural para predizer a probabilidade do uso de alguma palavra com base em outra, ex.:\n",
    "\n",
    "```python\n",
    "word = \"computador\"\n",
    "\n",
    "pares = [(\"computador\", \"ibm\"),\n",
    "         (\"computador\", \"sistema\"),\n",
    "         (\"computador\", \"componentes\"),\n",
    "         ...\n",
    "        ]\n",
    "```\n",
    "\n",
    "Logicamente, no uso real lidamos com ids já que o processamento é a nível numérico, mas a idéia é a partir desses pares compreender as propabilidades de uso das palavras e assim acabamos identificando uma proximidade semântica.\n",
    "\n",
    "Desse modo temos como entrada uma palavra e como saída as palavras mais prováveis dela estar relacionada."
   ]
  },
  {
   "cell_type": "markdown",
   "metadata": {},
   "source": [
    "### 2.2 cbow\n",
    "\n",
    "O cbow segue um caminho quase que contrário ao skip-gram, partimos das relações entre palavras (dos pares de ids) para predizer a palavra central. Dessa forma também chegamos a uma ~estatística~ de proximidade semântica.\n",
    "\n",
    "Seguindo a lógica do exemplo acima, no cbow partimos de \"ibm\", \"sistema\", \"componentes\", etc para predizer a palavra \"computador\""
   ]
  },
  {
   "cell_type": "markdown",
   "metadata": {},
   "source": [
    "Imagem abaixo ilustra a arquitetura dos dois modelos, esta imagem está no artigo [Efficient Estimation of Word Representations in Vector Space](https://arxiv.org/pdf/1301.3781.pdf)\n",
    "\n",
    "![](skip-gram_cbow.png)"
   ]
  },
  {
   "cell_type": "markdown",
   "metadata": {},
   "source": [
    "O parâmetro que define o uso de um ou outro método é o `sg` (sigla de skip-gram), e diferentemente de outras bibliotecas onde se usa *True* ou *False*, nele usamos 1 ou 0, por padrão é 0. Então se `sg=0` o método usado será o cbow e se `sg=1` o método usado será o skip-gram"
   ]
  },
  {
   "cell_type": "code",
   "execution_count": 5,
   "metadata": {},
   "outputs": [
    {
     "data": {
      "text/plain": [
       "(80345, 91500)"
      ]
     },
     "execution_count": 5,
     "metadata": {},
     "output_type": "execute_result"
    }
   ],
   "source": [
    "# sg=1 ~> skip-gram mode, if sg=0 ~> cbow mode\n",
    "\n",
    "model_sg = gensim.models.Word2Vec(sentences, min_count=1, window=2, compute_loss=True, sg=1) \n",
    "model_sg.train(sentences, total_examples=len(sentences), epochs=100)\n",
    "\n",
    "model_cb = gensim.models.Word2Vec(sentences, min_count=1, window=2, compute_loss=True, sg=0) \n",
    "model_cb.train(sentences, total_examples=len(sentences), epochs=100)"
   ]
  },
  {
   "cell_type": "code",
   "execution_count": 6,
   "metadata": {},
   "outputs": [
    {
     "data": {
      "text/plain": [
       "['alan',\n",
       " 'mathison',\n",
       " 'turing',\n",
       " 'obe',\n",
       " 'paddington',\n",
       " 'londres',\n",
       " 'junho',\n",
       " 'cheshire',\n",
       " 'east',\n",
       " 'matemático']"
      ]
     },
     "execution_count": 6,
     "metadata": {},
     "output_type": "execute_result"
    }
   ],
   "source": [
    "# acessando o vocabulário\n",
    "words = list(model_cb.wv.vocab)\n",
    "words[:10]"
   ]
  },
  {
   "cell_type": "code",
   "execution_count": 7,
   "metadata": {},
   "outputs": [
    {
     "data": {
      "text/plain": [
       "((100,), (100,))"
      ]
     },
     "execution_count": 7,
     "metadata": {},
     "output_type": "execute_result"
    }
   ],
   "source": [
    "# repare que a matriz de saída de ambos os métodos no gensim tem as mesmas dimensões\n",
    "\n",
    "model_sg[\"alan\"].shape, model_cb[\"alan\"].shape"
   ]
  },
  {
   "cell_type": "markdown",
   "metadata": {},
   "source": [
    "### 3 visualização\n",
    "\n",
    "Devido à nossa impossibilidade de visualizar algo em 100 dimensões, usei o sklearn para reduzir as dimensões para 2, o algoritmo usado é o Principal component analysis (PCA), mais detalhes sobre ele na [documentação](https://scikit-learn.org/stable/modules/generated/sklearn.decomposition.PCA.html) e [aqui](https://jakevdp.github.io/PythonDataScienceHandbook/05.09-principal-component-analysis.html).\n",
    "\n",
    "O objetivo do PCA é permitir a visualização da distribuição, lógico que acabam-se perdendo informações e analisando mais à frente a similaridade vamos notar algumas discrepâncias entre o resultado da similaridade entre as palavras e os pontos mais proximos nos gráficos, o que é bem previsível tendo em vista a redução de 100 dimensões para 2"
   ]
  },
  {
   "cell_type": "code",
   "execution_count": 8,
   "metadata": {},
   "outputs": [],
   "source": [
    "from sklearn.decomposition import PCA"
   ]
  },
  {
   "cell_type": "code",
   "execution_count": 9,
   "metadata": {},
   "outputs": [],
   "source": [
    "# para começar, pegando as matrizes, terão no total (tamanho do vocabulário x 100)\n",
    "\n",
    "X_sg = model_sg[model_sg.wv.vocab]\n",
    "X_cb = model_cb[model_cb.wv.vocab]"
   ]
  },
  {
   "cell_type": "code",
   "execution_count": 10,
   "metadata": {},
   "outputs": [
    {
     "data": {
      "text/plain": [
       "((618, 100), (618, 100))"
      ]
     },
     "execution_count": 10,
     "metadata": {},
     "output_type": "execute_result"
    }
   ],
   "source": [
    "(X_cb.shape, X_sg.shape) # 3472 palavras!"
   ]
  },
  {
   "cell_type": "code",
   "execution_count": 11,
   "metadata": {},
   "outputs": [],
   "source": [
    "# n_components ~> dimensões de saída\n",
    "\n",
    "pca_sg = PCA(n_components=2)\n",
    "result_sg = pca_sg.fit_transform(X_sg)\n",
    "\n",
    "pca_cb = PCA(n_components=2)\n",
    "result_cb = pca_cb.fit_transform(X_cb)"
   ]
  },
  {
   "cell_type": "code",
   "execution_count": 12,
   "metadata": {},
   "outputs": [
    {
     "data": {
      "text/plain": [
       "(618, 2)"
      ]
     },
     "execution_count": 12,
     "metadata": {},
     "output_type": "execute_result"
    }
   ],
   "source": [
    "# agora temos 2 dimensões para cada palavra\n",
    "result_sg.shape"
   ]
  },
  {
   "cell_type": "code",
   "execution_count": 13,
   "metadata": {},
   "outputs": [],
   "source": [
    "import altair as alt\n",
    "import pandas as pd # infelizmente o altair exige o pandas"
   ]
  },
  {
   "cell_type": "code",
   "execution_count": 14,
   "metadata": {},
   "outputs": [
    {
     "data": {
      "application/vnd.vegalite.v2+json": {
       "$schema": "https://vega.github.io/schema/vega-lite/v2.6.0.json",
       "config": {
        "background": "white",
        "view": {
         "height": 300,
         "width": 400
        }
       },
       "datasets": {
        "data-9bf58dd24ffcdc89b5f2e9e978d299e7": [
         {
          "label": "alan",
          "x_cb": 0.7435145378112793,
          "x_sg": 0.019771290943026543,
          "y_cb": -0.006100631318986416,
          "y_sg": -0.04404726251959801
         },
         {
          "label": "mathison",
          "x_cb": -0.14634761214256287,
          "x_sg": 0.05128908157348633,
          "y_cb": 0.0005381089285947382,
          "y_sg": -0.026895899325609207
         },
         {
          "label": "turing",
          "x_cb": 2.136113405227661,
          "x_sg": -0.04568753391504288,
          "y_cb": -0.008421448990702629,
          "y_sg": -0.04193146899342537
         },
         {
          "label": "obe",
          "x_cb": -0.3263225853443146,
          "x_sg": 0.15059052407741547,
          "y_cb": 0.0034526486415416002,
          "y_sg": -0.007900433614850044
         },
         {
          "label": "paddington",
          "x_cb": -0.22955194115638733,
          "x_sg": 0.08897851407527924,
          "y_cb": 0.0017876008059829473,
          "y_sg": -0.016951236873865128
         },
         {
          "label": "londres",
          "x_cb": 0.4999736249446869,
          "x_sg": 0.015404528938233852,
          "y_cb": 0.005179125349968672,
          "y_sg": -0.02539129927754402
         },
         {
          "label": "junho",
          "x_cb": 0.5496929287910461,
          "x_sg": -0.06259649991989136,
          "y_cb": -0.00322026782669127,
          "y_sg": -0.037635546177625656
         },
         {
          "label": "cheshire",
          "x_cb": 0.7873202562332153,
          "x_sg": -0.10262173414230347,
          "y_cb": 0.0072387102991342545,
          "y_sg": -0.04025857150554657
         },
         {
          "label": "east",
          "x_cb": -0.26517316699028015,
          "x_sg": 0.07800867408514023,
          "y_cb": 0.0019053526921197772,
          "y_sg": -0.023163095116615295
         },
         {
          "label": "matemático",
          "x_cb": 0.38360369205474854,
          "x_sg": -0.04208105430006981,
          "y_cb": -0.000773779524024576,
          "y_sg": -0.06195814162492752
         },
         {
          "label": "lógico",
          "x_cb": -0.11776982992887497,
          "x_sg": -0.0234326533973217,
          "y_cb": 0.00019996301853097975,
          "y_sg": -0.023063039407134056
         },
         {
          "label": "criptoanalista",
          "x_cb": -0.11892656236886978,
          "x_sg": -0.011009447276592255,
          "y_cb": 0.0010564362164586782,
          "y_sg": -0.007852110080420971
         },
         {
          "label": "cientista",
          "x_cb": -0.17391295731067657,
          "x_sg": 0.055862415581941605,
          "y_cb": 0.004414824303239584,
          "y_sg": 0.015651950612664223
         },
         {
          "label": "computação",
          "x_cb": 0.8718729615211487,
          "x_sg": -0.04056865721940994,
          "y_cb": -0.0027171610854566097,
          "y_sg": -0.03264082595705986
         },
         {
          "label": "britânico",
          "x_cb": 0.8187627792358398,
          "x_sg": -0.18763937056064606,
          "y_cb": 0.029532618820667267,
          "y_sg": 0.20998133718967438
         },
         {
          "label": "influente",
          "x_cb": -0.1728985756635666,
          "x_sg": 0.04962572082877159,
          "y_cb": 0.0046094609424471855,
          "y_sg": 0.02847006916999817
         },
         {
          "label": "desenvolvimento",
          "x_cb": -0.21367968618869781,
          "x_sg": 0.06631205976009369,
          "y_cb": 0.011152043007314205,
          "y_sg": 0.018144827336072922
         },
         {
          "label": "ciência",
          "x_cb": 0.37539950013160706,
          "x_sg": 0.023650817573070526,
          "y_cb": 0.007170503959059715,
          "y_sg": -0.02639651484787464
         },
         {
          "label": "formalização",
          "x_cb": -0.15128245949745178,
          "x_sg": 0.04961511492729187,
          "y_cb": 0.006394092924892902,
          "y_sg": -0.0033338929060846567
         },
         {
          "label": "conceito",
          "x_cb": -0.23675203323364258,
          "x_sg": 0.06523726880550385,
          "y_cb": -0.006413345690816641,
          "y_sg": -0.01758887805044651
         },
         {
          "label": "algoritmo",
          "x_cb": -0.2878611981868744,
          "x_sg": 0.11548185348510742,
          "y_cb": 0.0026892146561294794,
          "y_sg": -0.007020581513643265
         },
         {
          "label": "máquina",
          "x_cb": 1.165700078010559,
          "x_sg": -0.03828112781047821,
          "y_cb": -0.01258380152285099,
          "y_sg": -0.11449575424194336
         },
         {
          "label": "desempenhando",
          "x_cb": -0.37870168685913086,
          "x_sg": 0.12388443946838379,
          "y_cb": -0.0031454681884497404,
          "y_sg": -0.023344697430729866
         },
         {
          "label": "papel",
          "x_cb": 0.5250992178916931,
          "x_sg": -0.10938966274261475,
          "y_cb": -0.0025231095496565104,
          "y_sg": -0.03353077918291092
         },
         {
          "label": "importante",
          "x_cb": -0.12029264867305756,
          "x_sg": -0.026587899774312973,
          "y_cb": -0.008111598901450634,
          "y_sg": -0.02608642540872097
         },
         {
          "label": "criação",
          "x_cb": 0.42064371705055237,
          "x_sg": -0.08164457231760025,
          "y_cb": -0.009532521478831768,
          "y_sg": -0.06317315250635147
         },
         {
          "label": "computador",
          "x_cb": 1.181105375289917,
          "x_sg": -0.11085758358240128,
          "y_cb": -0.0031909681856632233,
          "y_sg": -0.054295387119054794
         },
         {
          "label": "moderno",
          "x_cb": -0.19904567301273346,
          "x_sg": 0.011743073351681232,
          "y_cb": -0.00962213147431612,
          "y_sg": -0.038346484303474426
         },
         {
          "label": "pioneiro",
          "x_cb": -0.23600248992443085,
          "x_sg": 0.07349269837141037,
          "y_cb": -0.005088310223072767,
          "y_sg": -0.03745724633336067
         },
         {
          "label": "inteligência",
          "x_cb": 0.9695272445678711,
          "x_sg": -0.0715758204460144,
          "y_cb": -0.012595083564519882,
          "y_sg": -0.13337834179401398
         },
         {
          "label": "artificial",
          "x_cb": 0.6470933556556702,
          "x_sg": -0.04317308962345123,
          "y_cb": -0.008933459408581257,
          "y_sg": -0.10501962155103683
         },
         {
          "label": "conhecido",
          "x_cb": -0.452254980802536,
          "x_sg": 0.23388327658176422,
          "y_cb": 0.0005779654020443559,
          "y_sg": -0.01360132172703743
         },
         {
          "label": "pai",
          "x_cb": 1.025498628616333,
          "x_sg": -0.06768108904361725,
          "y_cb": -0.00901896320283413,
          "y_sg": -0.05660192295908928
         },
         {
          "label": "durante",
          "x_cb": 0.5631622672080994,
          "x_sg": -0.082944355905056,
          "y_cb": -0.006195964757353067,
          "y_sg": -0.010224292986094952
         },
         {
          "label": "segunda",
          "x_cb": 0.3736523687839508,
          "x_sg": -0.01411780621856451,
          "y_cb": -0.015307624824345112,
          "y_sg": -0.025135522708296776
         },
         {
          "label": "guerra",
          "x_cb": 1.0091842412948608,
          "x_sg": -0.05831105634570122,
          "y_cb": -0.01334342174232006,
          "y_sg": -0.024903832003474236
         },
         {
          "label": "mundial",
          "x_cb": 0.16453416645526886,
          "x_sg": -0.0034910496324300766,
          "y_cb": -0.018352244049310684,
          "y_sg": -0.03719494491815567
         },
         {
          "label": "trabalhou",
          "x_cb": -0.07703415304422379,
          "x_sg": 0.055919840931892395,
          "y_cb": -0.012276645749807358,
          "y_sg": -0.04332773759961128
         },
         {
          "label": "britânica",
          "x_cb": 0.6256874799728394,
          "x_sg": -0.054148606956005096,
          "y_cb": -0.010407126508653164,
          "y_sg": -0.08641194552183151
         },
         {
          "label": "bletchley",
          "x_cb": 0.4990822672843933,
          "x_sg": -0.03970899060368538,
          "y_cb": -0.019734254106879234,
          "y_sg": -0.12035393714904785
         },
         {
          "label": "park",
          "x_cb": 0.4222160577774048,
          "x_sg": -0.05913196876645088,
          "y_cb": -0.015398808754980564,
          "y_sg": -0.09403069317340851
         },
         {
          "label": "centro",
          "x_cb": -0.1687019020318985,
          "x_sg": 0.043074656277894974,
          "y_cb": -0.0026902086101472378,
          "y_sg": -0.0334433950483799
         },
         {
          "label": "especializado",
          "x_cb": -0.1302690953016281,
          "x_sg": -0.008148877881467342,
          "y_cb": -0.0060291294939816,
          "y_sg": -0.022326793521642685
         },
         {
          "label": "quebra",
          "x_cb": -0.12180590629577637,
          "x_sg": -0.050959646701812744,
          "y_cb": 0.006832538638263941,
          "y_sg": 0.0010236914968118072
         },
         {
          "label": "códigos",
          "x_cb": 1.0871589183807373,
          "x_sg": -0.1645965725183487,
          "y_cb": 0.0013235920341685414,
          "y_sg": -0.010112871415913105
         },
         {
          "label": "tempo",
          "x_cb": -0.10971007496118546,
          "x_sg": -0.04881757125258446,
          "y_cb": 0.0008034994825720787,
          "y_sg": 0.000573779281694442
         },
         {
          "label": "chefe",
          "x_cb": 0.5261195302009583,
          "x_sg": -0.13841862976551056,
          "y_cb": 0.006608937866985798,
          "y_sg": 0.005339884664863348
         },
         {
          "label": "hut",
          "x_cb": -0.07898101955652237,
          "x_sg": -0.09399762749671936,
          "y_cb": -0.00029039871878921986,
          "y_sg": -0.0031364276073873043
         },
         {
          "label": "seção",
          "x_cb": -0.07134807854890823,
          "x_sg": -0.100497767329216,
          "y_cb": 0.0010299459099769592,
          "y_sg": -0.005272698123008013
         },
         {
          "label": "responsável",
          "x_cb": -0.04089842364192009,
          "x_sg": -0.09172126650810242,
          "y_cb": -0.0021808927413076162,
          "y_sg": -0.012291538529098034
         },
         {
          "label": "criptoanálise",
          "x_cb": 0.3611558973789215,
          "x_sg": -0.08364399522542953,
          "y_cb": -0.010240883566439152,
          "y_sg": -0.051546502858400345
         },
         {
          "label": "frota",
          "x_cb": -0.10131702572107315,
          "x_sg": -0.044562675058841705,
          "y_cb": 0.0008489192696288228,
          "y_sg": -0.005014216061681509
         },
         {
          "label": "naval",
          "x_cb": -0.09853210300207138,
          "x_sg": -0.0491233728826046,
          "y_cb": -0.008592936210334301,
          "y_sg": -0.012373009696602821
         },
         {
          "label": "alemã",
          "x_cb": 0.5109813809394836,
          "x_sg": -0.08678599447011948,
          "y_cb": 0.005688166711479425,
          "y_sg": 0.00481100520119071
         },
         {
          "label": "planejou",
          "x_cb": -0.09963743388652802,
          "x_sg": -0.03561196103692055,
          "y_cb": 0.003380886511877179,
          "y_sg": 0.003878565039485693
         },
         {
          "label": "série",
          "x_cb": -0.09584399312734604,
          "x_sg": -0.07121828198432922,
          "y_cb": 0.0016253571957349777,
          "y_sg": -0.001299699884839356
         },
         {
          "label": "técnicas",
          "x_cb": -0.09023581445217133,
          "x_sg": -0.07070565223693848,
          "y_cb": 0.005691253114491701,
          "y_sg": 0.0016506473766639829
         },
         {
          "label": "quebrar",
          "x_cb": -0.10289931297302246,
          "x_sg": -0.056783825159072876,
          "y_cb": 0.008845148608088493,
          "y_sg": 0.005948356352746487
         },
         {
          "label": "alemães",
          "x_cb": -0.1121666356921196,
          "x_sg": -0.054123248904943466,
          "y_cb": 0.006053117103874683,
          "y_sg": 0.005541443359106779
         },
         {
          "label": "incluindo",
          "x_cb": -0.16633988916873932,
          "x_sg": -0.0367356538772583,
          "y_cb": 0.00512726092711091,
          "y_sg": -0.01654086634516716
         },
         {
          "label": "método",
          "x_cb": -0.22544199228286743,
          "x_sg": -0.0005732487770728767,
          "y_cb": 0.004544513300061226,
          "y_sg": -0.015339631587266922
         },
         {
          "label": "bomba",
          "x_cb": 0.6489251852035522,
          "x_sg": -0.06627827137708664,
          "y_cb": 0.0035744993947446346,
          "y_sg": -0.07595829665660858
         },
         {
          "label": "eletromecânica",
          "x_cb": 0.5003966689109802,
          "x_sg": -0.061619024723768234,
          "y_cb": -0.014314503408968449,
          "y_sg": -0.11805972456932068
         },
         {
          "label": "poderia",
          "x_cb": 0.9090093374252319,
          "x_sg": -0.0854475274682045,
          "y_cb": -0.007760602980852127,
          "y_sg": -0.0913129523396492
         },
         {
          "label": "encontrar",
          "x_cb": -0.3429833650588989,
          "x_sg": 0.10839582234621048,
          "y_cb": -0.010633363388478756,
          "y_sg": -0.05112054571509361
         },
         {
          "label": "definições",
          "x_cb": -0.4063056707382202,
          "x_sg": 0.15732690691947937,
          "y_cb": -0.006255123298615217,
          "y_sg": -0.027431800961494446
         },
         {
          "label": "enigma",
          "x_cb": 0.6111380457878113,
          "x_sg": 0.016803527250885963,
          "y_cb": -0.012468749657273293,
          "y_sg": -0.09392821043729782
         },
         {
          "label": "após",
          "x_cb": 0.7081519365310669,
          "x_sg": -0.051642123609781265,
          "y_cb": 0.007914694957435131,
          "y_sg": 0.10436812043190002
         },
         {
          "label": "laboratório",
          "x_cb": 0.8416963815689087,
          "x_sg": -0.15344950556755066,
          "y_cb": -0.007743102964013815,
          "y_sg": -0.02813471481204033
         },
         {
          "label": "nacional",
          "x_cb": -0.24770782887935638,
          "x_sg": -0.005700242705643177,
          "y_cb": 0.00022471006377600133,
          "y_sg": 0.014329440891742706
         },
         {
          "label": "física",
          "x_cb": -0.24289318919181824,
          "x_sg": 0.04570396989583969,
          "y_cb": 0.0038596929516643286,
          "y_sg": 0.05056760832667351
         },
         {
          "label": "reino",
          "x_cb": 0.915255069732666,
          "x_sg": -0.10430041700601578,
          "y_cb": 0.014043813571333885,
          "y_sg": 0.24230308830738068
         },
         {
          "label": "unido",
          "x_cb": 0.9503722190856934,
          "x_sg": -0.11152812093496323,
          "y_cb": 0.014636172913014889,
          "y_sg": 0.22991538047790527
         },
         {
          "label": "onde",
          "x_cb": 0.8308272957801819,
          "x_sg": -0.11253654956817627,
          "y_cb": -0.0030493540689349174,
          "y_sg": 0.016389714553952217
         },
         {
          "label": "criou",
          "x_cb": -0.13935358822345734,
          "x_sg": 0.018713131546974182,
          "y_cb": -0.004717723932117224,
          "y_sg": 0.029350046068429947
         },
         {
          "label": "primeiros",
          "x_cb": -0.13318389654159546,
          "x_sg": 0.0038998553063720465,
          "y_cb": 0.004901927430182695,
          "y_sg": 0.021602140739560127
         },
         {
          "label": "projetos",
          "x_cb": -0.07954609394073486,
          "x_sg": -0.020029062405228615,
          "y_cb": 0.006546620279550552,
          "y_sg": 0.009284310974180698
         },
         {
          "label": "programa",
          "x_cb": -0.0297987200319767,
          "x_sg": -0.0014947040472179651,
          "y_cb": 0.003949406091123819,
          "y_sg": -0.002375392010435462
         },
         {
          "label": "armazenado",
          "x_cb": -0.09085562825202942,
          "x_sg": -0.026263782754540443,
          "y_cb": -0.0009690736187621951,
          "y_sg": -0.0002970411442220211
         },
         {
          "label": "ace",
          "x_cb": -0.07505844533443451,
          "x_sg": -0.0470314621925354,
          "y_cb": -0.0015701479278504848,
          "y_sg": 0.001193470787256956
         },
         {
          "label": "posteriormente",
          "x_cb": -0.1707320362329483,
          "x_sg": 0.015219566412270069,
          "y_cb": 0.0020081845577806234,
          "y_sg": 0.006038544233888388
         },
         {
          "label": "interessou",
          "x_cb": -0.21410278975963593,
          "x_sg": 0.017176372930407524,
          "y_cb": 0.0021795365028083324,
          "y_sg": 0.0033161176834255457
         },
         {
          "label": "química",
          "x_cb": 1.2448533773422241,
          "x_sg": -0.1361435055732727,
          "y_cb": 0.01089885737746954,
          "y_sg": 0.03891851007938385
         },
         {
          "label": "escreveu",
          "x_cb": -0.14890863001346588,
          "x_sg": -0.025913260877132416,
          "y_cb": 0.0028159331995993853,
          "y_sg": 0.014755122363567352
         },
         {
          "label": "artigo",
          "x_cb": -0.1196487545967102,
          "x_sg": -0.035846445709466934,
          "y_cb": -0.004341396037489176,
          "y_sg": 0.002409773413091898
         },
         {
          "label": "sobre",
          "x_cb": 0.5366958379745483,
          "x_sg": -0.1522071808576584,
          "y_cb": -0.0037685574498027563,
          "y_sg": 0.0017201710725203156
         },
         {
          "label": "base",
          "x_cb": 0.49519065022468567,
          "x_sg": -0.16365166008472443,
          "y_cb": 0.003361209062859416,
          "y_sg": 0.028386378660798073
         },
         {
          "label": "morfogênese",
          "x_cb": -0.17299829423427582,
          "x_sg": -0.003014226444065571,
          "y_cb": 0.0030341458041220903,
          "y_sg": 0.012586534023284912
         },
         {
          "label": "previu",
          "x_cb": -0.08997837454080582,
          "x_sg": -0.05736266076564789,
          "y_cb": -0.00036568663199432194,
          "y_sg": 0.001956577179953456
         },
         {
          "label": "reações",
          "x_cb": -0.07214374095201492,
          "x_sg": -0.09894812107086182,
          "y_cb": 0.00041483441600576043,
          "y_sg": -0.0026458846405148506
         },
         {
          "label": "químicas",
          "x_cb": -0.02438266947865486,
          "x_sg": -0.05918644741177559,
          "y_cb": 0.0015575417783111334,
          "y_sg": -0.005652187392115593
         },
         {
          "label": "oscilantes",
          "x_cb": -0.07262975722551346,
          "x_sg": -0.024905942380428314,
          "y_cb": 0.005555193405598402,
          "y_sg": 0.000511073914822191
         },
         {
          "label": "reação",
          "x_cb": -0.037580933421850204,
          "x_sg": -0.05099225789308548,
          "y_cb": 0.003613109700381756,
          "y_sg": -0.0026640964206308126
         },
         {
          "label": "belousov",
          "x_cb": -0.0047678956761956215,
          "x_sg": -0.044997330754995346,
          "y_cb": 0.0006770889740437269,
          "y_sg": -0.009294678457081318
         },
         {
          "label": "zhabotinsky",
          "x_cb": -0.06419756263494492,
          "x_sg": -0.026807453483343124,
          "y_cb": 0.0005016407230868936,
          "y_sg": -0.01106055174022913
         },
         {
          "label": "observadas",
          "x_cb": -0.0560968853533268,
          "x_sg": -0.014149262569844723,
          "y_cb": -0.006044983398169279,
          "y_sg": -0.01615162193775177
         },
         {
          "label": "primeira",
          "x_cb": -0.07888011634349823,
          "x_sg": 0.01865418255329132,
          "y_cb": -0.008089647628366947,
          "y_sg": -0.01334119588136673
         },
         {
          "label": "vez",
          "x_cb": -0.14022575318813324,
          "x_sg": 0.0928051695227623,
          "y_cb": -0.009438819251954556,
          "y_sg": -0.017648091539740562
         },
         {
          "label": "década",
          "x_cb": -0.4141823351383209,
          "x_sg": 0.25533169507980347,
          "y_cb": -0.0008518745307810605,
          "y_sg": -0.0039656758308410645
         },
         {
          "label": "resultou",
          "x_cb": -0.4491276144981384,
          "x_sg": 0.28097423911094666,
          "y_cb": 0.005820462945848703,
          "y_sg": 0.01811940409243107
         },
         {
          "label": "processo",
          "x_cb": -0.1776217371225357,
          "x_sg": 0.09441909193992615,
          "y_cb": -0.004208785947412252,
          "y_sg": 0.0037363937590271235
         },
         {
          "label": "criminal",
          "x_cb": -0.07858634740114212,
          "x_sg": 0.039844851940870285,
          "y_cb": 0.003922879695892334,
          "y_sg": 0.013597083278000355
         },
         {
          "label": "pois",
          "x_cb": -0.09244152158498764,
          "x_sg": 0.027261609211564064,
          "y_cb": 0.009078134782612324,
          "y_sg": 0.020373482257127762
         },
         {
          "label": "atos",
          "x_cb": -0.03906667232513428,
          "x_sg": -0.024730386212468147,
          "y_cb": -0.0017298905877396464,
          "y_sg": 0.014619993045926094
         },
         {
          "label": "homossexuais",
          "x_cb": -0.07284395396709442,
          "x_sg": -0.03325866162776947,
          "y_cb": 0.0004492410516832024,
          "y_sg": 0.035473309457302094
         },
         {
          "label": "ilegais",
          "x_cb": -0.16999061405658722,
          "x_sg": 0.03268159553408623,
          "y_cb": 0.009735136292874813,
          "y_sg": 0.06883309036493301
         },
         {
          "label": "época",
          "x_cb": -0.14913319051265717,
          "x_sg": -0.0016434481367468834,
          "y_cb": 0.005289625376462936,
          "y_sg": 0.07318391650915146
         },
         {
          "label": "aceitou",
          "x_cb": -0.13797786831855774,
          "x_sg": -0.018246645107865334,
          "y_cb": 0.008114829659461975,
          "y_sg": 0.06930820643901825
         },
         {
          "label": "tratamento",
          "x_cb": 0.68393874168396,
          "x_sg": -0.19091345369815826,
          "y_cb": 0.015168368816375732,
          "y_sg": 0.0929642841219902
         },
         {
          "label": "hormônios",
          "x_cb": -0.138754203915596,
          "x_sg": -0.04717468470335007,
          "y_cb": 0.012831599451601505,
          "y_sg": 0.04305893927812576
         },
         {
          "label": "femininos",
          "x_cb": -0.11821460723876953,
          "x_sg": 0.02075725421309471,
          "y_cb": 0.013266002759337425,
          "y_sg": 0.043555956333875656
         },
         {
          "label": "castração",
          "x_cb": 0.6379656195640564,
          "x_sg": -0.10430408269166946,
          "y_cb": 0.016161426901817322,
          "y_sg": 0.06794045120477676
         },
         {
          "label": "alternativa",
          "x_cb": -0.14951670169830322,
          "x_sg": 0.03410620614886284,
          "y_cb": 0.002454401459544897,
          "y_sg": 0.020234355702996254
         },
         {
          "label": "prisão",
          "x_cb": -0.07646431773900986,
          "x_sg": -0.012028428725898266,
          "y_cb": 0.0027552652172744274,
          "y_sg": 0.017125790938735008
         },
         {
          "label": "morreu",
          "x_cb": -0.00633092038333416,
          "x_sg": -0.02203739993274212,
          "y_cb": 0.005607683677226305,
          "y_sg": 0.008462520316243172
         },
         {
          "label": "algumas",
          "x_cb": -0.03685484081506729,
          "x_sg": -0.01314632873982191,
          "y_cb": -0.0021932243835181,
          "y_sg": -0.00040515651926398277
         },
         {
          "label": "semanas",
          "x_cb": -0.07439137995243073,
          "x_sg": -0.044764552265405655,
          "y_cb": 0.001993671292439103,
          "y_sg": -0.0002465990255586803
         },
         {
          "label": "antes",
          "x_cb": -0.057788457721471786,
          "x_sg": 0.011594435200095177,
          "y_cb": -0.003887750906869769,
          "y_sg": 0.0002588570350781083
         },
         {
          "label": "aniversário",
          "x_cb": -0.1257878988981247,
          "x_sg": 0.06972888112068176,
          "y_cb": 0.0008043246925808489,
          "y_sg": 0.01278815045952797
         },
         {
          "label": "anos",
          "x_cb": 0.8868178725242615,
          "x_sg": -0.05722754821181297,
          "y_cb": 0.0029200909193605185,
          "y_sg": 0.06067758798599243
         },
         {
          "label": "devido",
          "x_cb": 0.7592915296554565,
          "x_sg": -0.10740865767002106,
          "y_cb": -0.00882780458778143,
          "y_sg": 0.026894686743617058
         },
         {
          "label": "aparente",
          "x_cb": -0.23419296741485596,
          "x_sg": 0.07374164462089539,
          "y_cb": -0.00950484536588192,
          "y_sg": 0.002458340022712946
         },
         {
          "label": "envenenamento",
          "x_cb": 0.28496596217155457,
          "x_sg": -0.05006709694862366,
          "y_cb": -0.0014671400422230363,
          "y_sg": 0.018832998350262642
         },
         {
          "label": "cianeto",
          "x_cb": 1.2705612182617188,
          "x_sg": -0.15193194150924683,
          "y_cb": -0.004108556546270847,
          "y_sg": -0.0010883249342441559
         },
         {
          "label": "apesar",
          "x_cb": -0.21243490278720856,
          "x_sg": 0.03883817791938782,
          "y_cb": -0.0031571961008012295,
          "y_sg": 0.003990775439888239
         },
         {
          "label": "mãe",
          "x_cb": 0.7881566286087036,
          "x_sg": -0.07060792297124863,
          "y_cb": -0.004410336725413799,
          "y_sg": -0.014368688687682152
         },
         {
          "label": "alguns",
          "x_cb": -0.155298113822937,
          "x_sg": 0.01708127371966839,
          "y_cb": -0.0015387785388156772,
          "y_sg": -0.005702469497919083
         },
         {
          "label": "outros",
          "x_cb": 0.5413731336593628,
          "x_sg": -0.1422991305589676,
          "y_cb": -0.00539724575355649,
          "y_sg": -0.00586177222430706
         },
         {
          "label": "terem",
          "x_cb": -0.18929652869701385,
          "x_sg": -0.006401850376278162,
          "y_cb": -0.0016786609776318073,
          "y_sg": 0.00041970948223024607
         },
         {
          "label": "considerado",
          "x_cb": 0.21030278503894806,
          "x_sg": -0.03174713999032974,
          "y_cb": -0.00803621020168066,
          "y_sg": -0.02861146628856659
         },
         {
          "label": "morte",
          "x_cb": 0.6704584956169128,
          "x_sg": -0.10282798111438751,
          "y_cb": 0.0021051608491688967,
          "y_sg": 0.06851919740438461
         },
         {
          "label": "acidental",
          "x_cb": 0.6913101077079773,
          "x_sg": -0.11739185452461243,
          "y_cb": 0.009497896768152714,
          "y_sg": 0.06014014035463333
         },
         {
          "label": "setembro",
          "x_cb": 0.1757430136203766,
          "x_sg": -0.011706695891916752,
          "y_cb": 0.008598411455750465,
          "y_sg": 0.09317198395729065
         },
         {
          "label": "campanha",
          "x_cb": -0.22477993369102478,
          "x_sg": 0.01149542536586523,
          "y_cb": 0.007303563877940178,
          "y_sg": 0.0678585022687912
         },
         {
          "label": "internet",
          "x_cb": -0.1681903898715973,
          "x_sg": -0.031230341643095016,
          "y_cb": 0.008544287644326687,
          "y_sg": 0.10261596739292145
         },
         {
          "label": "primeiro",
          "x_cb": 0.2605305314064026,
          "x_sg": -0.07537663727998734,
          "y_cb": 0.01843925751745701,
          "y_sg": 0.22863943874835968
         },
         {
          "label": "ministro",
          "x_cb": 0.7069290280342102,
          "x_sg": -0.12155351787805557,
          "y_cb": 0.026079991832375526,
          "y_sg": 0.3530665636062622
         },
         {
          "label": "gordon",
          "x_cb": 0.33283406496047974,
          "x_sg": -0.17980988323688507,
          "y_cb": 0.026001904159784317,
          "y_sg": 0.2708910405635834
         },
         {
          "label": "brown",
          "x_cb": 0.5312246680259705,
          "x_sg": -0.21921895444393158,
          "y_cb": 0.03437531366944313,
          "y_sg": 0.2684420347213745
         },
         {
          "label": "fez",
          "x_cb": -0.10254175215959549,
          "x_sg": -0.14086419343948364,
          "y_cb": 0.015926804393529892,
          "y_sg": 0.12135142832994461
         },
         {
          "label": "pedido",
          "x_cb": 0.8062713146209717,
          "x_sg": -0.27396103739738464,
          "y_cb": 0.012715775519609451,
          "y_sg": 0.2198992371559143
         },
         {
          "label": "oficial",
          "x_cb": -0.11419765651226044,
          "x_sg": -0.11191239207983017,
          "y_cb": 0.014024991542100906,
          "y_sg": 0.1012168824672699
         },
         {
          "label": "desculpas",
          "x_cb": 0.5162968039512634,
          "x_sg": -0.2500403821468353,
          "y_cb": 0.011678483337163925,
          "y_sg": 0.1335195153951645
         },
         {
          "label": "público",
          "x_cb": 0.8832510709762573,
          "x_sg": -0.22841548919677734,
          "y_cb": 0.007515115663409233,
          "y_sg": 0.09784962236881256
         },
         {
          "label": "nome",
          "x_cb": 0.41603928804397583,
          "x_sg": -0.21667256951332092,
          "y_cb": 0.006735517177730799,
          "y_sg": 0.1266021430492401
         },
         {
          "label": "governo",
          "x_cb": 0.7990960478782654,
          "x_sg": -0.20978760719299316,
          "y_cb": 0.021484578028321266,
          "y_sg": 0.15769191086292267
         },
         {
          "label": "maneira",
          "x_cb": -0.38090160489082336,
          "x_sg": 0.10372833907604218,
          "y_cb": -7.615175854880363e-05,
          "y_sg": 0.03281770646572113
         },
         {
          "label": "tratado",
          "x_cb": -0.4172571301460266,
          "x_sg": 0.10906558483839035,
          "y_cb": -0.002931613475084305,
          "y_sg": 0.016558602452278137
         },
         {
          "label": "dezembro",
          "x_cb": 0.20608091354370117,
          "x_sg": -0.004147435072809458,
          "y_cb": 0.0016591701423749328,
          "y_sg": 0.012272906489670277
         },
         {
          "label": "recebeu",
          "x_cb": -0.3188476264476776,
          "x_sg": 0.09972941875457764,
          "y_cb": -0.004623784683644772,
          "y_sg": 0.018704451620578766
         },
         {
          "label": "perdão",
          "x_cb": 0.5432363748550415,
          "x_sg": -0.11673317849636078,
          "y_cb": 0.0036382151301950216,
          "y_sg": 0.058413803577423096
         },
         {
          "label": "real",
          "x_cb": 0.4830479919910431,
          "x_sg": -0.1702963262796402,
          "y_cb": -0.004558107815682888,
          "y_sg": 0.06759615987539291
         },
         {
          "label": "rainha",
          "x_cb": 0.41853785514831543,
          "x_sg": -0.1621922254562378,
          "y_cb": 0.0005768305854871869,
          "y_sg": 0.15384024381637573
         },
         {
          "label": "elizabeth",
          "x_cb": 0.4528796374797821,
          "x_sg": -0.17909160256385803,
          "y_cb": 0.016139332205057144,
          "y_sg": 0.19007456302642822
         },
         {
          "label": "ii",
          "x_cb": 0.32687732577323914,
          "x_sg": -0.1651371419429779,
          "y_cb": 0.021839816123247147,
          "y_sg": 0.2112501710653305
         },
         {
          "label": "condenação",
          "x_cb": -0.4280153512954712,
          "x_sg": 0.11795550584793091,
          "y_cb": 0.0060284677892923355,
          "y_sg": 0.06532543152570724
         },
         {
          "label": "juventude",
          "x_cb": -0.5320839285850525,
          "x_sg": 0.5185057520866394,
          "y_cb": 0.003955089952796698,
          "y_sg": 0.01634342037141323
         },
         {
          "label": "carreira",
          "x_cb": -0.5035166144371033,
          "x_sg": 0.4933180510997772,
          "y_cb": -0.0005732073332183063,
          "y_sg": 0.016965080052614212
         },
         {
          "label": "nasceu",
          "x_cb": -0.5057905912399292,
          "x_sg": 0.2915470004081726,
          "y_cb": -0.001433378318324685,
          "y_sg": -0.001616190536879003
         },
         {
          "label": "enquanto",
          "x_cb": -0.24876780807971954,
          "x_sg": 0.1114087700843811,
          "y_cb": 0.0004655896918848157,
          "y_sg": -0.013185599818825722
         },
         {
          "label": "férias",
          "x_cb": -0.20233231782913208,
          "x_sg": 0.07276775687932968,
          "y_cb": 0.0006487297941930592,
          "y_sg": -0.01475115679204464
         },
         {
          "label": "trabalho",
          "x_cb": 0.9833194017410278,
          "x_sg": -0.1419472098350525,
          "y_cb": -0.007449479773640633,
          "y_sg": -0.045027609914541245
         },
         {
          "label": "indian",
          "x_cb": -0.18299391865730286,
          "x_sg": 0.008043649606406689,
          "y_cb": -0.0034736022353172302,
          "y_sg": -0.01901109516620636
         },
         {
          "label": "civil",
          "x_cb": 0.5291681289672852,
          "x_sg": -0.10093507915735245,
          "y_cb": -0.0025924460496753454,
          "y_sg": -0.03151063621044159
         },
         {
          "label": "service",
          "x_cb": -0.10982228070497513,
          "x_sg": -0.03209763020277023,
          "y_cb": -0.002214804757386446,
          "y_sg": -0.01562587544322014
         },
         {
          "label": "ics",
          "x_cb": 0.5083054304122925,
          "x_sg": -0.12836408615112305,
          "y_cb": -0.010524931363761425,
          "y_sg": -0.05248541012406349
         },
         {
          "label": "chhatrapur",
          "x_cb": -0.10644248127937317,
          "x_sg": -0.06989707052707672,
          "y_cb": 0.002880274783819914,
          "y_sg": -0.011275339871644974
         },
         {
          "label": "província",
          "x_cb": -0.10647298395633698,
          "x_sg": -0.0622921921312809,
          "y_cb": 0.002858140040189028,
          "y_sg": -0.004692539107054472
         },
         {
          "label": "bihar",
          "x_cb": -0.10250481963157654,
          "x_sg": -0.05327014997601509,
          "y_cb": -0.006021784618496895,
          "y_sg": -0.016078848391771317
         },
         {
          "label": "orissa",
          "x_cb": -0.13179422914981842,
          "x_sg": -0.04069463536143303,
          "y_cb": -0.0021452964283525944,
          "y_sg": -0.019355533644557
         },
         {
          "label": "índia",
          "x_cb": 0.6857530474662781,
          "x_sg": -0.09317602962255478,
          "y_cb": 0.0010465761879459023,
          "y_sg": -0.03117986023426056
         },
         {
          "label": "julius",
          "x_cb": 0.6549832820892334,
          "x_sg": -0.08136793971061707,
          "y_cb": 0.008177139796316624,
          "y_sg": -0.03988029062747955
         },
         {
          "label": "filho",
          "x_cb": 0.3775399625301361,
          "x_sg": -0.09771246463060379,
          "y_cb": -0.005140198860317469,
          "y_sg": -0.03530307486653328
         },
         {
          "label": "clérigo",
          "x_cb": -0.25091639161109924,
          "x_sg": 0.03856742009520531,
          "y_cb": 4.987077772966586e-05,
          "y_sg": -0.01700078882277012
         },
         {
          "label": "família",
          "x_cb": 0.860418438911438,
          "x_sg": -0.12594285607337952,
          "y_cb": -0.008184117265045643,
          "y_sg": -0.0587204247713089
         },
         {
          "label": "comerciantes",
          "x_cb": -0.14259418845176697,
          "x_sg": -0.017073187977075577,
          "y_cb": 0.0038241338916122913,
          "y_sg": -0.006083309184759855
         },
         {
          "label": "escoceses",
          "x_cb": -0.12292438000440598,
          "x_sg": -0.018628178164362907,
          "y_cb": -0.0058672153390944,
          "y_sg": -0.019935015588998795
         },
         {
          "label": "havia",
          "x_cb": 0.7365983128547668,
          "x_sg": -0.14347468316555023,
          "y_cb": 0.0021077319979667664,
          "y_sg": -0.016885720193386078
         },
         {
          "label": "estabelecido",
          "x_cb": -0.038551658391952515,
          "x_sg": -0.018413448706269264,
          "y_cb": -0.005497021600604057,
          "y_sg": -0.019635766744613647
         },
         {
          "label": "países",
          "x_cb": -0.12186750024557114,
          "x_sg": -0.009867927059531212,
          "y_cb": -0.0012158536119386554,
          "y_sg": -0.007068654987961054
         },
         {
          "label": "baixos",
          "x_cb": -0.1432732790708542,
          "x_sg": 0.06610478460788727,
          "y_cb": 0.005862039513885975,
          "y_sg": 0.0029625114984810352
         },
         {
          "label": "ethel",
          "x_cb": 0.4037409722805023,
          "x_sg": -0.07402488589286804,
          "y_cb": 0.00041926250560209155,
          "y_sg": -0.025420356541872025
         },
         {
          "label": "sara",
          "x_cb": -0.16722942888736725,
          "x_sg": 0.013221193104982376,
          "y_cb": -0.0011341169010847807,
          "y_sg": -0.01582474075257778
         },
         {
          "label": "nascida",
          "x_cb": -0.11675409972667694,
          "x_sg": -0.018236257135868073,
          "y_cb": 0.0046583907678723335,
          "y_sg": -0.005753290373831987
         },
         {
          "label": "stoney",
          "x_cb": 0.5911533236503601,
          "x_sg": -0.17807823419570923,
          "y_cb": 0.001355932792648673,
          "y_sg": -0.015496860258281231
         },
         {
          "label": "filha",
          "x_cb": -0.0472128689289093,
          "x_sg": -0.04973270744085312,
          "y_cb": 0.0031600212678313255,
          "y_sg": -0.011879440397024155
         },
         {
          "label": "edward",
          "x_cb": -0.12565124034881592,
          "x_sg": -0.037711162120103836,
          "y_cb": 0.0047383843921124935,
          "y_sg": 0.00022733713558409363
         },
         {
          "label": "waller",
          "x_cb": -0.07998687028884888,
          "x_sg": -0.058447521179914474,
          "y_cb": 0.0026671525556594133,
          "y_sg": -0.009555771015584469
         },
         {
          "label": "engenheiro",
          "x_cb": -0.05881686508655548,
          "x_sg": -0.04719509929418564,
          "y_cb": 0.0057084993459284306,
          "y_sg": -0.0014888837467879057
         },
         {
          "label": "estrada",
          "x_cb": -0.07737623900175095,
          "x_sg": -0.004896757658571005,
          "y_cb": 0.0062456438317894936,
          "y_sg": 0.004083381500095129
         },
         {
          "label": "ferro",
          "x_cb": -0.20117832720279694,
          "x_sg": 0.0646253451704979,
          "y_cb": 0.0032604397274553776,
          "y_sg": 0.0024256629403680563
         },
         {
          "label": "madras",
          "x_cb": -0.42015692591667175,
          "x_sg": 0.20755398273468018,
          "y_cb": -0.004004917573183775,
          "y_sg": 0.0027736471965909004
         },
         {
          "label": "stoneys",
          "x_cb": -0.43450185656547546,
          "x_sg": 0.23776674270629883,
          "y_cb": -0.0011918925447389483,
          "y_sg": 0.004269476514309645
         },
         {
          "label": "gentia",
          "x_cb": -0.10928303748369217,
          "x_sg": 0.004353945143520832,
          "y_cb": 0.004104346502572298,
          "y_sg": -0.0031421114690601826
         },
         {
          "label": "anglo",
          "x_cb": -0.027187054976820946,
          "x_sg": -0.033387865871191025,
          "y_cb": 0.001411521458067,
          "y_sg": -0.0010156689677387476
         },
         {
          "label": "irlandeses",
          "x_cb": -0.07312892377376556,
          "x_sg": -0.09481439739465714,
          "y_cb": -0.002204739488661289,
          "y_sg": -0.01172684133052826
         },
         {
          "label": "protestantes",
          "x_cb": -0.003906944300979376,
          "x_sg": -0.06450562179088593,
          "y_cb": -0.0006739984382875264,
          "y_sg": -0.0005053291097283363
         },
         {
          "label": "condados",
          "x_cb": 0.019080499187111855,
          "x_sg": -0.06911561638116837,
          "y_cb": 0.007827183231711388,
          "y_sg": 0.00883219949901104
         },
         {
          "label": "tipperary",
          "x_cb": -0.050246305763721466,
          "x_sg": -0.08813413232564926,
          "y_cb": 0.00029464488034136593,
          "y_sg": -0.00513713713735342
         },
         {
          "label": "condado",
          "x_cb": -0.0763649120926857,
          "x_sg": -0.04984884336590767,
          "y_cb": -0.004082981031388044,
          "y_sg": -0.0035269157961010933
         },
         {
          "label": "longford",
          "x_cb": -0.12165307998657227,
          "x_sg": -0.018793143332004547,
          "y_cb": 0.0018914309330284595,
          "y_sg": -0.006783117074519396
         },
         {
          "label": "trazido",
          "x_cb": -0.28327223658561707,
          "x_sg": 0.008114252239465714,
          "y_cb": -0.003433549776673317,
          "y_sg": -0.027120228856801987
         },
         {
          "label": "avô",
          "x_cb": -0.2564969062805176,
          "x_sg": 0.03613392263650894,
          "y_cb": 0.00017558332183398306,
          "y_sg": -0.01653042621910572
         },
         {
          "label": "sido",
          "x_cb": 0.7805582880973816,
          "x_sg": -0.14539356529712677,
          "y_cb": 0.006865864619612694,
          "y_sg": 0.005036893766373396
         },
         {
          "label": "general",
          "x_cb": -0.1616019606590271,
          "x_sg": -0.007443877402693033,
          "y_cb": 0.0021769511513412,
          "y_sg": 2.2909063773113303e-05
         },
         {
          "label": "exército",
          "x_cb": -0.13603274524211884,
          "x_sg": -0.0464603528380394,
          "y_cb": 0.005726482253521681,
          "y_sg": -0.00016620743554085493
         },
         {
          "label": "bengali",
          "x_cb": -0.09703847020864487,
          "x_sg": -0.07042177021503448,
          "y_cb": 0.0015242184745147824,
          "y_sg": -0.005556331016123295
         },
         {
          "label": "entretanto",
          "x_cb": -0.15010932087898254,
          "x_sg": -0.03145356848835945,
          "y_cb": 0.005807925947010517,
          "y_sg": -0.0031894128769636154
         },
         {
          "label": "queriam",
          "x_cb": -0.13599558174610138,
          "x_sg": -0.03605961799621582,
          "y_cb": 0.0015300455270335078,
          "y_sg": -0.014584541320800781
         },
         {
          "label": "filhos",
          "x_cb": 0.5893763899803162,
          "x_sg": -0.1418747454881668,
          "y_cb": -0.004370860755443573,
          "y_sg": -0.023755906149744987
         },
         {
          "label": "criados",
          "x_cb": -0.15113790333271027,
          "x_sg": -0.03646446764469147,
          "y_cb": 0.003665528493002057,
          "y_sg": -0.0019281404092907906
         },
         {
          "label": "inglaterra",
          "x_cb": 0.45935019850730896,
          "x_sg": -0.17495642602443695,
          "y_cb": -6.008587661199272e-05,
          "y_sg": -0.01771238073706627
         },
         {
          "label": "então",
          "x_cb": 0.554909348487854,
          "x_sg": -0.13722172379493713,
          "y_cb": 0.0017831570003181696,
          "y_sg": 0.0037996829487383366
         },
         {
          "label": "mudaram",
          "x_cb": -0.10301429778337479,
          "x_sg": -0.04255247861146927,
          "y_cb": -0.0011968176113441586,
          "y_sg": -0.004109741188585758
         },
         {
          "label": "maida",
          "x_cb": -0.04085797816514969,
          "x_sg": -0.05325784534215927,
          "y_cb": -0.0045186178758740425,
          "y_sg": -0.0019573792815208435
         },
         {
          "label": "vale",
          "x_cb": -0.05865418538451195,
          "x_sg": -0.048052411526441574,
          "y_cb": 0.005986293777823448,
          "y_sg": 0.0055631427094340324
         },
         {
          "label": "irmão",
          "x_cb": -0.029508313164114952,
          "x_sg": -0.0221131332218647,
          "y_cb": 0.000367730506695807,
          "y_sg": -0.0032847044058144093
         },
         {
          "label": "velho",
          "x_cb": -0.10685043036937714,
          "x_sg": -0.012639693915843964,
          "y_cb": 0.003736235899850726,
          "y_sg": 0.006184519734233618
         },
         {
          "label": "john",
          "x_cb": 0.5033826231956482,
          "x_sg": -0.07917385548353195,
          "y_cb": -0.0051774377934634686,
          "y_sg": -0.03182407468557358
         },
         {
          "label": "sir",
          "x_cb": -0.20199351012706757,
          "x_sg": 0.04254324361681938,
          "y_cb": -0.004328073002398014,
          "y_sg": -0.012855861335992813
         },
         {
          "label": "dermot",
          "x_cb": -0.23138241469860077,
          "x_sg": 0.01459143590182066,
          "y_cb": -0.0017269386444240808,
          "y_sg": -0.00987997930496931
         },
         {
          "label": "barão",
          "x_cb": -0.22825312614440918,
          "x_sg": 0.05354642868041992,
          "y_cb": -0.00314905378036201,
          "y_sg": -0.01763198710978031
         },
         {
          "label": "baronete",
          "x_cb": -0.2352062612771988,
          "x_sg": 0.020908288657665253,
          "y_cb": -0.003187282010912895,
          "y_sg": -0.011359594762325287
         },
         {
          "label": "comissão",
          "x_cb": -0.15579518675804138,
          "x_sg": -0.0014615559484809637,
          "y_cb": -0.0016089908313006163,
          "y_sg": -0.011022623628377914
         },
         {
          "label": "serviço",
          "x_cb": -0.15404270589351654,
          "x_sg": 0.02181728556752205,
          "y_cb": -0.00421757809817791,
          "y_sg": -0.012629296630620956
         },
         {
          "label": "ainda",
          "x_cb": -0.2022312730550766,
          "x_sg": 0.040352750569581985,
          "y_cb": -0.0012340445537120104,
          "y_sg": -0.005727928131818771
         },
         {
          "label": "ativa",
          "x_cb": -0.1407107412815094,
          "x_sg": 0.017729295417666435,
          "y_cb": -0.008047197014093399,
          "y_sg": -0.011256556957960129
         },
         {
          "label": "infância",
          "x_cb": 0.34127935767173767,
          "x_sg": -0.059512875974178314,
          "y_cb": -0.0034696904476732016,
          "y_sg": -0.010108893737196922
         },
         {
          "label": "viajaram",
          "x_cb": -0.31019896268844604,
          "x_sg": 0.03273145854473114,
          "y_cb": 0.0026654708199203014,
          "y_sg": 0.009682225994765759
         },
         {
          "label": "hastings",
          "x_cb": -0.23005801439285278,
          "x_sg": -0.025277506560087204,
          "y_cb": 2.9412354706437327e-05,
          "y_sg": -0.004196427762508392
         },
         {
          "label": "deixando",
          "x_cb": -0.14646798372268677,
          "x_sg": -0.05101057142019272,
          "y_cb": -0.002814044477418065,
          "y_sg": -0.01201237179338932
         },
         {
          "label": "dois",
          "x_cb": -0.10114198178052902,
          "x_sg": -0.04915454611182213,
          "y_cb": -0.0017014965415000916,
          "y_sg": -0.013369820080697536
         },
         {
          "label": "casal",
          "x_cb": -0.17208483815193176,
          "x_sg": 0.05140966549515724,
          "y_cb": -0.0011868028668686748,
          "y_sg": -0.00551334535703063
         },
         {
          "label": "aposentados",
          "x_cb": -0.45023733377456665,
          "x_sg": 0.23449859023094177,
          "y_cb": 0.0011707331286743283,
          "y_sg": 0.0033983346074819565
         },
         {
          "label": "dedicação",
          "x_cb": -0.7818072438240051,
          "x_sg": 1.2168296575546265,
          "y_cb": -0.001790095237083733,
          "y_sg": 0.02977793477475643
         },
         {
          "label": "dedicava",
          "x_cb": -0.3948545753955841,
          "x_sg": 0.2035098820924759,
          "y_cb": -0.005895973648875952,
          "y_sg": 0.0021717131603509188
         },
         {
          "label": "teoremas",
          "x_cb": -0.17186065018177032,
          "x_sg": 0.07340244203805923,
          "y_cb": -0.0012691845186054707,
          "y_sg": -0.009104492142796516
         },
         {
          "label": "podiam",
          "x_cb": -0.1168321743607521,
          "x_sg": 0.03563249483704567,
          "y_cb": -0.006393796298652887,
          "y_sg": -0.014834190718829632
         },
         {
          "label": "ser",
          "x_cb": 0.9880548119544983,
          "x_sg": -0.10720332711935043,
          "y_cb": -0.010978889651596546,
          "y_sg": -0.0639081671833992
         },
         {
          "label": "comprovados",
          "x_cb": -0.0923803374171257,
          "x_sg": -0.02254093438386917,
          "y_cb": -0.006734935566782951,
          "y_sg": -0.026401877403259277
         },
         {
          "label": "teoria",
          "x_cb": -0.09338772296905518,
          "x_sg": -0.03783964738249779,
          "y_cb": -0.0022968854755163193,
          "y_sg": -0.02087349072098732
         },
         {
          "label": "computabilidade",
          "x_cb": 0.566153347492218,
          "x_sg": -0.19992122054100037,
          "y_cb": -0.007556442636996508,
          "y_sg": -0.0559980534017086
         },
         {
          "label": "preocupação",
          "x_cb": -0.14927321672439575,
          "x_sg": -0.057985566556453705,
          "y_cb": -0.007702438160777092,
          "y_sg": -0.038527462631464005
         },
         {
          "label": "formado",
          "x_cb": -0.19330602884292603,
          "x_sg": -0.009078911505639553,
          "y_cb": -0.014358959160745144,
          "y_sg": -0.045110832899808884
         },
         {
          "label": "fazer",
          "x_cb": 0.9244518280029297,
          "x_sg": -0.15880748629570007,
          "y_cb": -0.008096902631223202,
          "y_sg": -0.052825260907411575
         },
         {
          "label": "através",
          "x_cb": 0.3177979588508606,
          "x_sg": -0.12056301534175873,
          "y_cb": 0.0016159182414412498,
          "y_sg": 0.01357491035014391
         },
         {
          "label": "respostas",
          "x_cb": 0.5562911033630371,
          "x_sg": -0.13043469190597534,
          "y_cb": 0.005710335914045572,
          "y_sg": -0.014070618897676468
         },
         {
          "label": "iniciais",
          "x_cb": -0.11800079792737961,
          "x_sg": -0.010266557335853577,
          "y_cb": 0.006317853461951017,
          "y_sg": 0.0001699629647191614
         },
         {
          "label": "vieram",
          "x_cb": -0.1411387324333191,
          "x_sg": 0.0019260834669694304,
          "y_cb": -0.0016841626493260264,
          "y_sg": -0.005626821890473366
         },
         {
          "label": "sob",
          "x_cb": -0.11559593677520752,
          "x_sg": 0.041680820286273956,
          "y_cb": 7.290075154742226e-05,
          "y_sg": -0.007273665629327297
         },
         {
          "label": "forma",
          "x_cb": 0.7847373485565186,
          "x_sg": -0.08616721630096436,
          "y_cb": 0.008115146309137344,
          "y_sg": -0.005375041160732508
         },
         {
          "label": "teórica",
          "x_cb": -0.030937878414988518,
          "x_sg": 0.018506010994315147,
          "y_cb": -0.006347264628857374,
          "y_sg": -0.04335695132613182
         },
         {
          "label": "consagração",
          "x_cb": -0.7786762714385986,
          "x_sg": 1.2139942646026611,
          "y_cb": 0.0004763050237670541,
          "y_sg": 0.031493354588747025
         },
         {
          "label": "consagrou",
          "x_cb": -0.30528590083122253,
          "x_sg": 0.14279772341251373,
          "y_cb": -0.0005123178707435727,
          "y_sg": 0.0018436773680150509
         },
         {
          "label": "projeção",
          "x_cb": -0.2201191931962967,
          "x_sg": 0.08868900686502457,
          "y_cb": 0.001104343798942864,
          "y_sg": -0.007818376645445824
         },
         {
          "label": "acordo",
          "x_cb": -0.19332177937030792,
          "x_sg": 0.03439762070775032,
          "y_cb": -0.001677997992374003,
          "y_sg": -0.033193185925483704
         },
         {
          "label": "sistema",
          "x_cb": 0.9402996301651001,
          "x_sg": -0.1901758760213852,
          "y_cb": -0.005018653813749552,
          "y_sg": -0.07065460830926895
         },
         {
          "label": "formal",
          "x_cb": 0.5012057423591614,
          "x_sg": -0.14820221066474915,
          "y_cb": -0.00040614826139062643,
          "y_sg": -0.06060713157057762
         },
         {
          "label": "pudesse",
          "x_cb": -0.1357821226119995,
          "x_sg": -0.0655391737818718,
          "y_cb": -0.001536207739263773,
          "y_sg": -0.029916109517216682
         },
         {
          "label": "operações",
          "x_cb": -0.09345772862434387,
          "x_sg": -0.09486130625009537,
          "y_cb": -0.00034088350366801023,
          "y_sg": -0.021354271098971367
         },
         {
          "label": "computacionais",
          "x_cb": -0.07054673135280609,
          "x_sg": -0.06593426316976547,
          "y_cb": -0.0031546950340270996,
          "y_sg": -0.019260842353105545
         },
         {
          "label": "mostrou",
          "x_cb": -0.08687920868396759,
          "x_sg": -0.06989089399576187,
          "y_cb": 0.0037408890202641487,
          "y_sg": -0.011580385267734528
         },
         {
          "label": "simples",
          "x_cb": -0.1621963530778885,
          "x_sg": -0.04260922968387604,
          "y_cb": -0.005477545782923698,
          "y_sg": -0.03379511088132858
         },
         {
          "label": "automático",
          "x_cb": -0.17383353412151337,
          "x_sg": -0.014519943855702877,
          "y_cb": -0.00865537952631712,
          "y_sg": -0.04347971826791763
         },
         {
          "label": "manipular",
          "x_cb": -0.200694277882576,
          "x_sg": -0.014926210977137089,
          "y_cb": -0.0035087692085653543,
          "y_sg": -0.040196262300014496
         },
         {
          "label": "símbolos",
          "x_cb": 0.6012633442878723,
          "x_sg": -0.1693478226661682,
          "y_cb": -0.0060240887105464935,
          "y_sg": -0.05701753869652748
         },
         {
          "label": "regras",
          "x_cb": -0.20205356180667877,
          "x_sg": 0.04541730508208275,
          "y_cb": -0.003505699336528778,
          "y_sg": -0.03478146716952324
         },
         {
          "label": "próprias",
          "x_cb": -0.24157600104808807,
          "x_sg": 0.08151143044233322,
          "y_cb": -0.005145103204995394,
          "y_sg": -0.03634894639253616
         },
         {
          "label": "pode",
          "x_cb": 0.639298141002655,
          "x_sg": -0.05469493940472603,
          "y_cb": -0.005126314703375101,
          "y_sg": -0.05983494594693184
         },
         {
          "label": "indicar",
          "x_cb": -0.2422638237476349,
          "x_sg": 0.09214898943901062,
          "y_cb": -0.007554355077445507,
          "y_sg": -0.04180289804935455
         },
         {
          "label": "sistemas",
          "x_cb": 0.8216396570205688,
          "x_sg": -0.13813064992427826,
          "y_cb": -0.006814715452492237,
          "y_sg": -0.08003011345863342
         },
         {
          "label": "poderosos",
          "x_cb": -0.11590898782014847,
          "x_sg": -0.015178772620856762,
          "y_cb": -0.0019824306946247816,
          "y_sg": -0.0337945930659771
         },
         {
          "label": "poderiam",
          "x_cb": -0.1223636195063591,
          "x_sg": -0.013412443920969963,
          "y_cb": 0.0011797870974987745,
          "y_sg": -0.01862230710685253
         },
         {
          "label": "construídos",
          "x_cb": -0.13309378921985626,
          "x_sg": -0.026105301454663277,
          "y_cb": 8.48950439831242e-05,
          "y_sg": -0.017076190561056137
         },
         {
          "label": "tornou",
          "x_cb": -0.061471711844205856,
          "x_sg": -0.05147349461913109,
          "y_cb": 0.0011204649927094579,
          "y_sg": -0.003375469008460641
         },
         {
          "label": "possível",
          "x_cb": -0.06498195230960846,
          "x_sg": -0.07068111002445221,
          "y_cb": -0.0005750201526097953,
          "y_sg": -0.006092968862503767
         },
         {
          "label": "processamento",
          "x_cb": -0.09203281253576279,
          "x_sg": -0.061694491654634476,
          "y_cb": -0.0030849496833980083,
          "y_sg": -0.01321334671229124
         },
         {
          "label": "ligando",
          "x_cb": -0.12150566279888153,
          "x_sg": -0.05211525410413742,
          "y_cb": 0.0002144113532267511,
          "y_sg": -0.01741895079612732
         },
         {
          "label": "abstração",
          "x_cb": -0.1493007242679596,
          "x_sg": -0.02562638558447361,
          "y_cb": -0.0025702831335365772,
          "y_sg": -0.026427987962961197
         },
         {
          "label": "cognitivos",
          "x_cb": -0.07959788292646408,
          "x_sg": -0.040116991847753525,
          "y_cb": -0.002830115146934986,
          "y_sg": -0.0266147181391716
         },
         {
          "label": "realidade",
          "x_cb": -0.09746004641056061,
          "x_sg": -0.06558908522129059,
          "y_cb": -0.003561877179890871,
          "y_sg": -0.022518254816532135
         },
         {
          "label": "concreta",
          "x_cb": -0.1040862426161766,
          "x_sg": -0.04601804167032242,
          "y_cb": 0.00017841004591900855,
          "y_sg": -0.011334960348904133
         },
         {
          "label": "números",
          "x_cb": -0.07083003968000412,
          "x_sg": -0.05146282911300659,
          "y_cb": 8.744738443056121e-05,
          "y_sg": -0.012142689898610115
         },
         {
          "label": "buscado",
          "x_cb": -0.032385487109422684,
          "x_sg": -0.09068543463945389,
          "y_cb": -0.0012966204667463899,
          "y_sg": -0.01420393493026495
         },
         {
          "label": "hoje",
          "x_cb": -0.0981975644826889,
          "x_sg": -0.054615821689367294,
          "y_cb": -0.0004487736150622368,
          "y_sg": -0.017507463693618774
         },
         {
          "label": "pesquisadores",
          "x_cb": -0.18888509273529053,
          "x_sg": 0.025836968794465065,
          "y_cb": -0.003350400598719716,
          "y_sg": -0.03264133632183075
         },
         {
          "label": "ia",
          "x_cb": -0.23492617905139923,
          "x_sg": 0.030436454340815544,
          "y_cb": -0.013967510312795639,
          "y_sg": -0.0584118515253067
         },
         {
          "label": "comprovar",
          "x_cb": -0.27124977111816406,
          "x_sg": 0.07744517177343369,
          "y_cb": -0.005862148012965918,
          "y_sg": -0.05377425253391266
         },
         {
          "label": "desenvolveu",
          "x_cb": -0.2575885057449341,
          "x_sg": 0.049028150737285614,
          "y_cb": -0.00017685398051980883,
          "y_sg": -0.02612675167620182
         },
         {
          "label": "teste",
          "x_cb": -0.18324412405490875,
          "x_sg": -0.02893870510160923,
          "y_cb": 0.001351930433884263,
          "y_sg": -0.009489055722951889
         },
         {
          "label": "consistia",
          "x_cb": -0.05298583582043648,
          "x_sg": -0.06565817445516586,
          "y_cb": 0.0007886281237006187,
          "y_sg": -0.007386147044599056
         },
         {
          "label": "operador",
          "x_cb": 0.611825168132782,
          "x_sg": -0.1685938686132431,
          "y_cb": -0.007856245152652264,
          "y_sg": -0.032476216554641724
         },
         {
          "label": "poder",
          "x_cb": -0.05383436754345894,
          "x_sg": -0.04787544161081314,
          "y_cb": -0.00225213635712862,
          "y_sg": -0.011011650785803795
         },
         {
          "label": "diferenciar",
          "x_cb": -0.027751917019486427,
          "x_sg": -0.0766548216342926,
          "y_cb": 0.0018253683811053634,
          "y_sg": -0.009023594669997692
         },
         {
          "label": "perguntas",
          "x_cb": -0.0959884449839592,
          "x_sg": -0.06926508992910385,
          "y_cb": -0.0016946922987699509,
          "y_sg": -0.014028104953467846
         },
         {
          "label": "elaboradas",
          "x_cb": -0.04569372162222862,
          "x_sg": -0.08008591085672379,
          "y_cb": -0.002494699787348509,
          "y_sg": -0.008733020164072514
         },
         {
          "label": "vindas",
          "x_cb": -0.14256924390792847,
          "x_sg": -0.013837195001542568,
          "y_cb": -0.002863521222025156,
          "y_sg": -0.01114584133028984
         },
         {
          "label": "caso",
          "x_cb": -0.2110210359096527,
          "x_sg": 0.031400032341480255,
          "y_cb": -0.0013564598048105836,
          "y_sg": -0.011932114139199257
         },
         {
          "label": "afirmativo",
          "x_cb": -0.27197399735450745,
          "x_sg": 0.0451483316719532,
          "y_cb": -0.003527820110321045,
          "y_sg": -0.019244544208049774
         },
         {
          "label": "dotado",
          "x_cb": -0.3174063265323639,
          "x_sg": 0.07580029964447021,
          "y_cb": -0.004691399168223143,
          "y_sg": -0.03899604454636574
         },
         {
          "label": "programada",
          "x_cb": -0.2474040985107422,
          "x_sg": 0.055704884231090546,
          "y_cb": 0.0031450586393475533,
          "y_sg": -0.028338033705949783
         },
         {
          "label": "tal",
          "x_cb": -0.17885132133960724,
          "x_sg": -0.007907106541097164,
          "y_cb": 0.00444341916590929,
          "y_sg": -0.012974129989743233
         },
         {
          "label": "modo",
          "x_cb": 0.5525641441345215,
          "x_sg": -0.1573677510023117,
          "y_cb": -0.0010180406970903277,
          "y_sg": -0.027930693700909615
         },
         {
          "label": "imitar",
          "x_cb": -0.1686827391386032,
          "x_sg": -0.012923243455588818,
          "y_cb": -0.0013156463392078876,
          "y_sg": -0.022051319479942322
         },
         {
          "label": "qualquer",
          "x_cb": -0.1540852189064026,
          "x_sg": -0.03963442146778107,
          "y_cb": 0.0019580412190407515,
          "y_sg": -0.028285222128033638
         },
         {
          "label": "ideia",
          "x_cb": -0.13114747405052185,
          "x_sg": -0.08383966982364655,
          "y_cb": -0.006247466895729303,
          "y_sg": -0.03868269547820091
         },
         {
          "label": "começou",
          "x_cb": -0.1731773018836975,
          "x_sg": -0.002399349818006158,
          "y_cb": -0.007841556333005428,
          "y_sg": -0.022862976416945457
         },
         {
          "label": "delineada",
          "x_cb": -0.19723255932331085,
          "x_sg": 0.0365685373544693,
          "y_cb": -0.004030824173241854,
          "y_sg": -0.009162780828773975
         },
         {
          "label": "feitos",
          "x_cb": -0.30944064259529114,
          "x_sg": 0.11330268532037735,
          "y_cb": -0.0009189578704535961,
          "y_sg": -0.0061320532113313675
         },
         {
          "label": "tido",
          "x_cb": -0.38402998447418213,
          "x_sg": 0.17837850749492645,
          "y_cb": -0.00545387901365757,
          "y_sg": -0.013215797021985054
         },
         {
          "label": "uniu",
          "x_cb": -0.44828882813453674,
          "x_sg": 0.21628724038600922,
          "y_cb": 0.0007670849445275962,
          "y_sg": -0.013196460902690887
         },
         {
          "label": "gc",
          "x_cb": 0.4160026013851166,
          "x_sg": -0.06316077709197998,
          "y_cb": -0.0036625093780457973,
          "y_sg": -0.042210277169942856
         },
         {
          "label": "cs",
          "x_cb": 0.45615094900131226,
          "x_sg": -0.021691644564270973,
          "y_cb": -0.009634881280362606,
          "y_sg": -0.07362799346446991
         },
         {
          "label": "braço",
          "x_cb": -0.05491788685321808,
          "x_sg": -0.040904704481363297,
          "y_cb": -0.0013920122291892767,
          "y_sg": -0.025373339653015137
         },
         {
          "label": "decodificação",
          "x_cb": -0.05576974153518677,
          "x_sg": -0.02694741077721119,
          "y_cb": -0.0043791295029222965,
          "y_sg": -0.03300178423523903
         },
         {
          "label": "mensagens",
          "x_cb": 0.5233567953109741,
          "x_sg": -0.08865097910165787,
          "y_cb": -0.013681487180292606,
          "y_sg": -0.06539320945739746
         },
         {
          "label": "efetuar",
          "x_cb": -0.28022268414497375,
          "x_sg": 0.06150094419717789,
          "y_cb": -0.01058945246040821,
          "y_sg": -0.041418641805648804
         },
         {
          "label": "codificação",
          "x_cb": -0.3096478283405304,
          "x_sg": 0.09055938571691513,
          "y_cb": -0.002763396129012108,
          "y_sg": -0.02612815797328949
         },
         {
          "label": "mudava",
          "x_cb": -0.15474358201026917,
          "x_sg": -0.01234098058193922,
          "y_cb": 0.003602528478950262,
          "y_sg": -0.010882781818509102
         },
         {
          "label": "diariamente",
          "x_cb": -0.10411924123764038,
          "x_sg": -0.04933881014585495,
          "y_cb": -0.001424655900336802,
          "y_sg": -0.008683903142809868
         },
         {
          "label": "obrigando",
          "x_cb": -0.12882399559020996,
          "x_sg": -0.05756022036075592,
          "y_cb": -0.0026243494357913733,
          "y_sg": -0.012033501639962196
         },
         {
          "label": "projeto",
          "x_cb": 0.6186114549636841,
          "x_sg": -0.13777309656143188,
          "y_cb": 0.0065315901301801205,
          "y_sg": -0.012451868504285812
         },
         {
          "label": "decifração",
          "x_cb": -0.09605995565652847,
          "x_sg": -0.03452743589878082,
          "y_cb": -0.003108970820903778,
          "y_sg": -0.001554860733449459
         },
         {
          "label": "tornasse",
          "x_cb": -0.06579217314720154,
          "x_sg": -0.08341488987207413,
          "y_cb": 0.004165427293628454,
          "y_sg": 0.01039895974099636
         },
         {
          "label": "bastante",
          "x_cb": 0.4911142885684967,
          "x_sg": -0.11986572295427322,
          "y_cb": 0.007926922291517258,
          "y_sg": 0.02403443679213524
         },
         {
          "label": "rápido",
          "x_cb": -0.28575941920280457,
          "x_sg": 0.09205541014671326,
          "y_cb": 0.006774518638849258,
          "y_sg": 0.06229164078831673
         },
         {
          "label": "iniciar",
          "x_cb": -0.2887418270111084,
          "x_sg": 0.09187908470630646,
          "y_cb": -0.002581935375928879,
          "y_sg": 0.048340119421482086
         },
         {
          "label": "declarar",
          "x_cb": -0.2150733470916748,
          "x_sg": 0.052345603704452515,
          "y_cb": -0.008727801032364368,
          "y_sg": -0.020692134276032448
         },
         {
          "label": "alemanha",
          "x_cb": -0.20909693837165833,
          "x_sg": 0.011905930936336517,
          "y_cb": -0.005087009631097317,
          "y_sg": -0.014710016548633575
         },
         {
          "label": "direcionado",
          "x_cb": -0.18797792494297028,
          "x_sg": 0.037915363907814026,
          "y_cb": 0.0016974976751953363,
          "y_sg": -0.014980942010879517
         },
         {
          "label": "quartel",
          "x_cb": -0.15762688219547272,
          "x_sg": -0.02397250197827816,
          "y_cb": -0.0028959903866052628,
          "y_sg": -0.026234030723571777
         },
         {
          "label": "partir",
          "x_cb": -0.22726991772651672,
          "x_sg": 0.09737382084131241,
          "y_cb": -0.010622598230838776,
          "y_sg": -0.04851479083299637
         },
         {
          "label": "decodificadora",
          "x_cb": -0.1994791328907013,
          "x_sg": 0.024520738050341606,
          "y_cb": -0.0009475773549638689,
          "y_sg": -0.032195206731557846
         },
         {
          "label": "polonesa",
          "x_cb": -0.22218066453933716,
          "x_sg": 0.04630902782082558,
          "y_cb": -0.003265052568167448,
          "y_sg": -0.0344100147485733
         },
         {
          "label": "projetou",
          "x_cb": 0.4643389582633972,
          "x_sg": -0.09600716829299927,
          "y_cb": -0.006708373315632343,
          "y_sg": -0.060845620930194855
         },
         {
          "label": "bombe",
          "x_cb": -0.11371591687202454,
          "x_sg": -0.006765219382941723,
          "y_cb": 0.0009129745303653181,
          "y_sg": -0.029840335249900818
         },
         {
          "label": "equipamento",
          "x_cb": -0.06486725807189941,
          "x_sg": -0.07398238033056259,
          "y_cb": -0.0039140647277235985,
          "y_sg": -0.02716347761452198
         },
         {
          "label": "eletromecânico",
          "x_cb": -0.07168838381767273,
          "x_sg": -0.05326700955629349,
          "y_cb": -0.005053977947682142,
          "y_sg": -0.017089033499360085
         },
         {
          "label": "ajudaria",
          "x_cb": -0.1027044728398323,
          "x_sg": -0.03646206483244896,
          "y_cb": -0.000711759552359581,
          "y_sg": -0.013921122066676617
         },
         {
          "label": "decriptar",
          "x_cb": -0.06782834231853485,
          "x_sg": -0.020540345460176468,
          "y_cb": -0.006065415684133768,
          "y_sg": -0.027410084381699562
         },
         {
          "label": "montada",
          "x_cb": -0.08776478469371796,
          "x_sg": 0.025961725041270256,
          "y_cb": -0.007550181820988655,
          "y_sg": -0.021932328119874
         },
         {
          "label": "novas",
          "x_cb": -0.041860681027173996,
          "x_sg": -0.050880610942840576,
          "y_cb": -0.007102251518517733,
          "y_sg": -0.014463011175394058
         },
         {
          "label": "bombas",
          "x_cb": -0.0842350423336029,
          "x_sg": -0.03792915120720863,
          "y_cb": 0.004246211610734463,
          "y_sg": 0.0038388988468796015
         },
         {
          "label": "construídas",
          "x_cb": -0.19698332250118256,
          "x_sg": 0.051624931395053864,
          "y_cb": 0.008739916607737541,
          "y_sg": 0.0123357018455863
         },
         {
          "label": "equipe",
          "x_cb": 0.27406367659568787,
          "x_sg": -0.002014766912907362,
          "y_cb": -0.004313929006457329,
          "y_sg": -0.02974409982562065
         },
         {
          "label": "pedirem",
          "x_cb": -0.1322399228811264,
          "x_sg": -0.013906524516642094,
          "y_cb": -0.0009875820251181722,
          "y_sg": -0.0008187939529307187
         },
         {
          "label": "apoio",
          "x_cb": -0.03577892482280731,
          "x_sg": -0.06535515189170837,
          "y_cb": 0.0029543000273406506,
          "y_sg": 0.0023260933812707663
         },
         {
          "label": "winston",
          "x_cb": -0.030477266758680344,
          "x_sg": -0.0584927536547184,
          "y_cb": -0.0017496475484222174,
          "y_sg": 0.000647931476123631
         },
         {
          "label": "churchill",
          "x_cb": -0.046953774988651276,
          "x_sg": -0.025888925418257713,
          "y_cb": -0.0009820895502343774,
          "y_sg": -0.00404522567987442
         },
         {
          "label": "duzentas",
          "x_cb": -0.009698559530079365,
          "x_sg": -0.06626222282648087,
          "y_cb": 0.006651198957115412,
          "y_sg": 0.006317452527582645
         },
         {
          "label": "operavam",
          "x_cb": -0.1672714799642563,
          "x_sg": 0.0011099635157734156,
          "y_cb": -0.0011353096924722195,
          "y_sg": 0.0005981164867989719
         },
         {
          "label": "fim",
          "x_cb": -0.20507295429706573,
          "x_sg": 0.04794740304350853,
          "y_cb": -0.002399114891886711,
          "y_sg": -0.005866269581019878
         },
         {
          "label": "introduziu",
          "x_cb": -0.33054494857788086,
          "x_sg": 0.08005009591579437,
          "y_cb": -0.006831008475273848,
          "y_sg": -0.025026094168424606
         },
         {
          "label": "tommy",
          "x_cb": -0.17279234528541565,
          "x_sg": -0.011519070714712143,
          "y_cb": -0.0059853820130229,
          "y_sg": -0.043255846947431564
         },
         {
          "label": "flowers",
          "x_cb": -0.06441076099872589,
          "x_sg": -0.06155635043978691,
          "y_cb": 0.0033006188459694386,
          "y_sg": -0.02040211297571659
         },
         {
          "label": "colossus",
          "x_cb": -0.12827058136463165,
          "x_sg": -0.005581942852586508,
          "y_cb": -0.0014802917139604688,
          "y_sg": -0.016252340748906136
         },
         {
          "label": "primitivo",
          "x_cb": -0.048814065754413605,
          "x_sg": -0.005762137472629547,
          "y_cb": -0.003384578740224242,
          "y_sg": -0.011518719606101513
         },
         {
          "label": "ajudou",
          "x_cb": -0.0690288171172142,
          "x_sg": -0.06164569407701492,
          "y_cb": 0.004440000280737877,
          "y_sg": -0.0034261683467775583
         },
         {
          "label": "decodificar",
          "x_cb": -0.04941807687282562,
          "x_sg": -0.06309392303228378,
          "y_cb": -0.0038920287042856216,
          "y_sg": -0.013764603063464165
         },
         {
          "label": "outra",
          "x_cb": -0.06339641660451889,
          "x_sg": -0.00010840898903552443,
          "y_cb": -0.0025990530848503113,
          "y_sg": -0.006968905217945576
         },
         {
          "label": "criptográfica",
          "x_cb": -0.13096942007541656,
          "x_sg": 0.0365031473338604,
          "y_cb": -0.0018081440357491374,
          "y_sg": -0.0076860045082867146
         },
         {
          "label": "lorenz",
          "x_cb": -0.424620658159256,
          "x_sg": 0.20865824818611145,
          "y_cb": 0.005213188473135233,
          "y_sg": 0.011888498440384865
         },
         {
          "label": "estados",
          "x_cb": -0.4839630424976349,
          "x_sg": 0.2382924109697342,
          "y_cb": -0.005577580071985722,
          "y_sg": -0.003997783176600933
         },
         {
          "label": "unidos",
          "x_cb": -0.25261592864990234,
          "x_sg": 0.11035820096731186,
          "y_cb": -0.0010440900223329663,
          "y_sg": -0.0062961154617369175
         },
         {
          "label": "transmissão",
          "x_cb": -0.06993758678436279,
          "x_sg": -0.011982042342424393,
          "y_cb": -0.0019251450430601835,
          "y_sg": -0.010324372909963131
         },
         {
          "label": "dados",
          "x_cb": -0.05628557503223419,
          "x_sg": -0.01007162593305111,
          "y_cb": 0.00024021377612370998,
          "y_sg": -0.009019366465508938
         },
         {
          "label": "transatlânticos",
          "x_cb": -0.12506231665611267,
          "x_sg": 0.04465702921152115,
          "y_cb": -0.0016750904032960534,
          "y_sg": 0.0014016007771715522
         },
         {
          "label": "segura",
          "x_cb": -0.4438938796520233,
          "x_sg": 0.28843408823013306,
          "y_cb": -0.000886806461494416,
          "y_sg": 0.007081956136971712
         },
         {
          "label": "homossexual",
          "x_cb": -0.461594820022583,
          "x_sg": 0.24717719852924347,
          "y_cb": 0.0028346877079457045,
          "y_sg": 0.013028389774262905
         },
         {
          "label": "declarado",
          "x_cb": -0.2004590481519699,
          "x_sg": 0.1185019314289093,
          "y_cb": 0.004985509905964136,
          "y_sg": 0.010998680256307125
         },
         {
          "label": "início",
          "x_cb": -0.150053933262825,
          "x_sg": 0.09844096750020981,
          "y_cb": 0.0036777087952941656,
          "y_sg": 0.01883375458419323
         },
         {
          "label": "humilhado",
          "x_cb": -0.19965824484825134,
          "x_sg": 0.01370737049728632,
          "y_cb": 0.009158279746770859,
          "y_sg": 0.041524313390254974
         },
         {
          "label": "impedido",
          "x_cb": -0.08201232552528381,
          "x_sg": -0.10184918344020844,
          "y_cb": 0.003880054922774434,
          "y_sg": 0.027692144736647606
         },
         {
          "label": "acompanhar",
          "x_cb": -0.12173350900411606,
          "x_sg": -0.08101758360862732,
          "y_cb": 0.008968372829258442,
          "y_sg": 0.027490483596920967
         },
         {
          "label": "estudos",
          "x_cb": -0.11009290814399719,
          "x_sg": -0.08294369280338287,
          "y_cb": -0.0016675377264618874,
          "y_sg": 0.005762180313467979
         },
         {
          "label": "computadores",
          "x_cb": -0.10179350525140762,
          "x_sg": -0.06337407231330872,
          "y_cb": -0.0034089135006070137,
          "y_sg": -0.0031443233601748943
         },
         {
          "label": "julgado",
          "x_cb": -0.0763687938451767,
          "x_sg": -0.04997548833489418,
          "y_cb": -0.0038243948947638273,
          "y_sg": -0.0029840574134141207
         },
         {
          "label": "vícios",
          "x_cb": -0.022102391347289085,
          "x_sg": -0.05461544916033745,
          "y_cb": -0.004055324010550976,
          "y_sg": -0.009531085379421711
         },
         {
          "label": "impróprios",
          "x_cb": -0.04790050908923149,
          "x_sg": -0.058107081800699234,
          "y_cb": -0.004449537023901939,
          "y_sg": -0.001114214421249926
         },
         {
          "label": "condenado",
          "x_cb": -0.09397915005683899,
          "x_sg": -0.02642473392188549,
          "y_cb": 0.0005678804591298103,
          "y_sg": -0.0014464062405750155
         },
         {
          "label": "terapias",
          "x_cb": -0.060998059809207916,
          "x_sg": -0.0497591495513916,
          "y_cb": 0.004781374707818031,
          "y_sg": 0.009918018244206905
         },
         {
          "label": "estrogênio",
          "x_cb": -0.0954856425523758,
          "x_sg": -0.029567362740635872,
          "y_cb": 0.005876574665307999,
          "y_sg": 0.02064211294054985
         },
         {
          "label": "equivalia",
          "x_cb": -0.1707700937986374,
          "x_sg": -0.011539357714354992,
          "y_cb": 0.007633560802787542,
          "y_sg": 0.02593846432864666
         },
         {
          "label": "humilhante",
          "x_cb": -0.17441987991333008,
          "x_sg": -0.010941748507320881,
          "y_cb": 0.0006589554250240326,
          "y_sg": 0.0186434518545866
         },
         {
          "label": "efeito",
          "x_cb": 0.49579301476478577,
          "x_sg": -0.1866355538368225,
          "y_cb": 0.0008126670145429671,
          "y_sg": 0.023351069539785385
         },
         {
          "label": "secundário",
          "x_cb": -0.07125828415155411,
          "x_sg": -0.07468758523464203,
          "y_cb": -0.011974360793828964,
          "y_sg": -0.018118135631084442
         },
         {
          "label": "crescer",
          "x_cb": -0.09257522225379944,
          "x_sg": 0.008546190336346626,
          "y_cb": -0.0022541661746799946,
          "y_sg": -0.014504124410450459
         },
         {
          "label": "seios",
          "x_cb": -0.19407778978347778,
          "x_sg": 0.0986408144235611,
          "y_cb": 0.003192069474607706,
          "y_sg": -0.005047844257205725
         },
         {
          "label": "ginecomastia",
          "x_cb": -0.37993425130844116,
          "x_sg": 0.16857917606830597,
          "y_cb": 0.002625763416290283,
          "y_sg": 0.006603835616260767
         },
         {
          "label": "criado",
          "x_cb": -0.30290794372558594,
          "x_sg": 0.1668604612350464,
          "y_cb": 0.0037187577690929174,
          "y_sg": 0.001894438173621893
         },
         {
          "label": "encontrou",
          "x_cb": -0.14085882902145386,
          "x_sg": 0.0518832802772522,
          "y_cb": 0.0020778717007488012,
          "y_sg": -0.0007667351164855063
         },
         {
          "label": "morto",
          "x_cb": -0.051711466163396835,
          "x_sg": 0.0023423905950039625,
          "y_cb": -0.002964695217087865,
          "y_sg": -0.005941824056208134
         },
         {
          "label": "ocorrido",
          "x_cb": -0.025515731424093246,
          "x_sg": -0.03826729208230972,
          "y_cb": 0.004076198674738407,
          "y_sg": 0.0017827015835791826
         },
         {
          "label": "dia",
          "x_cb": -0.01927921175956726,
          "x_sg": -0.03686158359050751,
          "y_cb": 0.005986917298287153,
          "y_sg": 0.0020892766769975424
         },
         {
          "label": "anterior",
          "x_cb": -0.044172223657369614,
          "x_sg": -0.0706976056098938,
          "y_cb": -0.0002671015972737223,
          "y_sg": -0.00732593284919858
         },
         {
          "label": "residência",
          "x_cb": -0.061323825269937515,
          "x_sg": -0.06394966691732407,
          "y_cb": -0.001887128921225667,
          "y_sg": -0.00695054093375802
         },
         {
          "label": "wilmslow",
          "x_cb": -0.09090523421764374,
          "x_sg": -0.02610466629266739,
          "y_cb": 0.002608761191368103,
          "y_sg": -0.01364890206605196
         },
         {
          "label": "exame",
          "x_cb": -0.03731891140341759,
          "x_sg": -0.0434635765850544,
          "y_cb": 0.0053666033782064915,
          "y_sg": -0.008459841832518578
         },
         {
          "label": "post",
          "x_cb": -0.09222805500030518,
          "x_sg": -0.06533215939998627,
          "y_cb": 0.0007688081823289394,
          "y_sg": 0.0002298092149430886
         },
         {
          "label": "mortem",
          "x_cb": -0.041008029133081436,
          "x_sg": -0.08232801407575607,
          "y_cb": -0.00023158523254096508,
          "y_sg": 0.002280178479850292
         },
         {
          "label": "estabeleceu",
          "x_cb": -0.08060121536254883,
          "x_sg": -0.050175268203020096,
          "y_cb": 0.0021589596290141344,
          "y_sg": 0.008916502818465233
         },
         {
          "label": "causa",
          "x_cb": 0.3532882332801819,
          "x_sg": -0.031697798520326614,
          "y_cb": -0.0032588751055300236,
          "y_sg": 0.02170696295797825
         },
         {
          "label": "corpo",
          "x_cb": -0.20874544978141785,
          "x_sg": -0.01842944324016571,
          "y_cb": -0.005212412215769291,
          "y_sg": 0.003446792485192418
         },
         {
          "label": "descoberto",
          "x_cb": -0.22040274739265442,
          "x_sg": -0.0048662167973816395,
          "y_cb": -0.0011263007763773203,
          "y_sg": 0.011248132213950157
         },
         {
          "label": "maçã",
          "x_cb": 1.1051690578460693,
          "x_sg": -0.1648561954498291,
          "y_cb": 0.002327235648408532,
          "y_sg": 0.009383958764374256
         },
         {
          "label": "meio",
          "x_cb": 0.9545776844024658,
          "x_sg": -0.16325318813323975,
          "y_cb": 0.006908503361046314,
          "y_sg": 0.021770289167761803
         },
         {
          "label": "comida",
          "x_cb": -0.1354573518037796,
          "x_sg": -0.00461215153336525,
          "y_cb": -0.000544191338121891,
          "y_sg": 0.002121918834745884
         },
         {
          "label": "lado",
          "x_cb": -0.08839844912290573,
          "x_sg": -0.08425745368003845,
          "y_cb": 0.006111475173383951,
          "y_sg": 0.0010401729959994555
         },
         {
          "label": "cama",
          "x_cb": -0.13712474703788757,
          "x_sg": -0.05989380553364754,
          "y_cb": -0.00018394897051621228,
          "y_sg": -0.005258601158857346
         },
         {
          "label": "embora",
          "x_cb": -0.15443789958953857,
          "x_sg": 0.031043654307723045,
          "y_cb": 0.010829634964466095,
          "y_sg": 0.014755197800695896
         },
         {
          "label": "testada",
          "x_cb": 0.4949357509613037,
          "x_sg": -0.14088180661201477,
          "y_cb": 0.008647963404655457,
          "y_sg": 0.021720582619309425
         },
         {
          "label": "quanto",
          "x_cb": -0.1852543205022812,
          "x_sg": -0.01886729896068573,
          "y_cb": 0.006152202375233173,
          "y_sg": 0.019788846373558044
         },
         {
          "label": "especula",
          "x_cb": -0.19389468431472778,
          "x_sg": -0.01394672878086567,
          "y_cb": 0.0007033382426016033,
          "y_sg": 0.008333060890436172
         },
         {
          "label": "dose",
          "x_cb": -0.0760071724653244,
          "x_sg": -0.08674903959035873,
          "y_cb": -0.00045728328404948115,
          "y_sg": 0.0056793768890202045
         },
         {
          "label": "fatal",
          "x_cb": -0.012952900491654873,
          "x_sg": -0.03161100670695305,
          "y_cb": 0.004006482195109129,
          "y_sg": 0.005805354565382004
         },
         {
          "label": "ingerida",
          "x_cb": -0.07587648928165436,
          "x_sg": -0.03154628351330757,
          "y_cb": 0.0072625260800123215,
          "y_sg": 0.005839536432176828
         },
         {
          "label": "inquérito",
          "x_cb": -0.023998387157917023,
          "x_sg": -0.03227267786860466,
          "y_cb": 0.006605576723814011,
          "y_sg": 0.009185885079205036
         },
         {
          "label": "determinou",
          "x_cb": -0.054386205971241,
          "x_sg": 0.002049064263701439,
          "y_cb": 0.0034563380759209394,
          "y_sg": 0.012936543673276901
         },
         {
          "label": "cometido",
          "x_cb": -0.0648084282875061,
          "x_sg": 0.02802254445850849,
          "y_cb": 0.0014171969378367066,
          "y_sg": 0.010798330418765545
         },
         {
          "label": "suicídio",
          "x_cb": 0.6216577887535095,
          "x_sg": -0.11210216581821442,
          "y_cb": 0.0030092676170170307,
          "y_sg": 0.020088637247681618
         },
         {
          "label": "tendo",
          "x_cb": -0.17949339747428894,
          "x_sg": 0.036057475954294205,
          "y_cb": -0.00011403606185922399,
          "y_sg": 0.009938635863363743
         },
         {
          "label": "cremado",
          "x_cb": -0.05060504376888275,
          "x_sg": -0.03653956204652786,
          "y_cb": 0.0035999484825879335,
          "y_sg": 0.003283372614532709
         },
         {
          "label": "crematório",
          "x_cb": -0.11518153548240662,
          "x_sg": 0.012061722576618195,
          "y_cb": 0.004684655461460352,
          "y_sg": -0.0006688401335850358
         },
         {
          "label": "woking",
          "x_cb": -0.28228259086608887,
          "x_sg": 0.10611360520124435,
          "y_cb": 0.004953016061335802,
          "y_sg": 0.00047599870595149696
         },
         {
          "label": "argumentou",
          "x_cb": -0.41784510016441345,
          "x_sg": 0.11904782056808472,
          "y_cb": 0.0034301085397601128,
          "y_sg": 0.008034877479076385
         },
         {
          "label": "veemência",
          "x_cb": -0.21957305073738098,
          "x_sg": 0.027767565101385117,
          "y_cb": 0.00809440203011036,
          "y_sg": 0.018751082941889763
         },
         {
          "label": "ingestão",
          "x_cb": 0.6313289403915405,
          "x_sg": -0.18212415277957916,
          "y_cb": 0.005565224681049585,
          "y_sg": 0.011319389566779137
         },
         {
          "label": "causada",
          "x_cb": -0.06325220316648483,
          "x_sg": -0.08558734506368637,
          "y_cb": 0.000356604577973485,
          "y_sg": 0.005280085373669863
         },
         {
          "label": "armazenamento",
          "x_cb": -0.06948098540306091,
          "x_sg": -0.09845251590013504,
          "y_cb": -0.004443370271474123,
          "y_sg": -0.009437276981770992
         },
         {
          "label": "descuidado",
          "x_cb": -0.013862907886505127,
          "x_sg": -0.13642139732837677,
          "y_cb": -0.00448575709015131,
          "y_sg": -0.01893879659473896
         },
         {
          "label": "produtos",
          "x_cb": -0.057246483862400055,
          "x_sg": -0.08709780871868134,
          "y_cb": -0.0020084006246179342,
          "y_sg": -0.019542373716831207
         },
         {
          "label": "químicos",
          "x_cb": -0.1353142410516739,
          "x_sg": -0.037791505455970764,
          "y_cb": -0.0008398634963668883,
          "y_sg": -0.017390724271535873
         },
         {
          "label": "biógrafo",
          "x_cb": -0.12087029963731766,
          "x_sg": -0.000507409917190671,
          "y_cb": -0.0020564578007906675,
          "y_sg": -0.029537010937929153
         },
         {
          "label": "andrew",
          "x_cb": 0.2225373089313507,
          "x_sg": 0.04227186366915703,
          "y_cb": -0.008597251959145069,
          "y_sg": -0.04894930124282837
         },
         {
          "label": "hodges",
          "x_cb": 0.05071452260017395,
          "x_sg": -0.006092656869441271,
          "y_cb": -0.003673638217151165,
          "y_sg": -0.04008195176720619
         },
         {
          "label": "sugere",
          "x_cb": -0.2725721597671509,
          "x_sg": 0.08851227164268494,
          "y_cb": -0.0019215885549783707,
          "y_sg": -0.021774351596832275
         },
         {
          "label": "ter",
          "x_cb": 0.7308793663978577,
          "x_sg": -0.11705408245325089,
          "y_cb": -0.0009164325892925262,
          "y_sg": -0.0010180049575865269
         },
         {
          "label": "matado",
          "x_cb": -0.1904844045639038,
          "x_sg": -0.022844137623906136,
          "y_cb": -0.00016956182662397623,
          "y_sg": -0.006542396266013384
         },
         {
          "label": "deliberadamente",
          "x_cb": -0.14257916808128357,
          "x_sg": -0.0019450412364676595,
          "y_cb": -0.0032730463426560163,
          "y_sg": 0.005403431132435799
         },
         {
          "label": "ambígua",
          "x_cb": -0.11004073917865753,
          "x_sg": 0.013631889596581459,
          "y_cb": 0.005436155945062637,
          "y_sg": 0.018368350341916084
         },
         {
          "label": "dar",
          "x_cb": -0.08995797485113144,
          "x_sg": 0.0014386465772986412,
          "y_cb": 0.011647175997495651,
          "y_sg": 0.019982120022177696
         },
         {
          "label": "alguma",
          "x_cb": -0.10123410820960999,
          "x_sg": 0.003493034280836582,
          "y_cb": 0.006752724759280682,
          "y_sg": 0.014622503891587257
         },
         {
          "label": "negação",
          "x_cb": -0.06659497320652008,
          "x_sg": -0.0348890982568264,
          "y_cb": -0.0009448578930459917,
          "y_sg": 0.005335075780749321
         },
         {
          "label": "plausível",
          "x_cb": -0.08353476226329803,
          "x_sg": -0.026369355618953705,
          "y_cb": 0.005301365163177252,
          "y_sg": 0.004754666704684496
         },
         {
          "label": "sugerem",
          "x_cb": -0.20427988469600677,
          "x_sg": -0.003090339247137308,
          "y_cb": -0.0032928672153502703,
          "y_sg": -0.011343253776431084
         },
         {
          "label": "encenando",
          "x_cb": -0.21462726593017578,
          "x_sg": 0.02590882033109665,
          "y_cb": -0.002865965012460947,
          "y_sg": -0.011176818050444126
         },
         {
          "label": "cena",
          "x_cb": 0.5780754089355469,
          "x_sg": -0.17513135075569153,
          "y_cb": -0.009419286623597145,
          "y_sg": -0.033920127898454666
         },
         {
          "label": "filme",
          "x_cb": 0.5459657311439514,
          "x_sg": -0.15489767491817474,
          "y_cb": -0.009294282644987106,
          "y_sg": -0.033428166061639786
         },
         {
          "label": "branca",
          "x_cb": -0.1243516057729721,
          "x_sg": -0.05261832848191261,
          "y_cb": -0.011957152746617794,
          "y_sg": -0.02490503340959549
         },
         {
          "label": "neve",
          "x_cb": -0.03198879584670067,
          "x_sg": -0.0932866781949997,
          "y_cb": -0.0014306552475318313,
          "y_sg": -0.010155939497053623
         },
         {
          "label": "conto",
          "x_cb": -0.024771222844719887,
          "x_sg": -0.1024179682135582,
          "y_cb": 0.0018109075026586652,
          "y_sg": -0.0057867662981152534
         },
         {
          "label": "fadas",
          "x_cb": -0.06147613376379013,
          "x_sg": -0.054932355880737305,
          "y_cb": -1.7134330846602097e-05,
          "y_sg": -0.005235545337200165
         },
         {
          "label": "favorito",
          "x_cb": -0.033106688410043716,
          "x_sg": -0.04933822527527809,
          "y_cb": -0.0005910610198043287,
          "y_sg": -0.003732819575816393
         },
         {
          "label": "salientando",
          "x_cb": -0.022466139867901802,
          "x_sg": -0.044082604348659515,
          "y_cb": -0.006422113627195358,
          "y_sg": -0.0137900086119771
         },
         {
          "label": "prazer",
          "x_cb": -0.05479111149907112,
          "x_sg": -0.06030259281396866,
          "y_cb": -0.002857521176338196,
          "y_sg": -0.01375818531960249
         },
         {
          "label": "especialmente",
          "x_cb": -0.0995660200715065,
          "x_sg": -0.03920603170990944,
          "y_cb": -0.0075983693823218346,
          "y_sg": -0.015471206046640873
         },
         {
          "label": "mordaz",
          "x_cb": -0.07838873565196991,
          "x_sg": -0.05067836493253708,
          "y_cb": -0.0045767296105623245,
          "y_sg": -0.018527040258049965
         },
         {
          "label": "bruxa",
          "x_cb": -0.09595131874084473,
          "x_sg": -0.048987552523612976,
          "y_cb": -0.001385689596645534,
          "y_sg": -0.010645543225109577
         },
         {
          "label": "malvada",
          "x_cb": -0.04980852082371712,
          "x_sg": -0.05425279214978218,
          "y_cb": -0.005046572536230087,
          "y_sg": -0.00575031666085124
         },
         {
          "label": "mergulha",
          "x_cb": -0.09496335685253143,
          "x_sg": -0.040637269616127014,
          "y_cb": 0.004525984171777964,
          "y_sg": 0.006389642134308815
         },
         {
          "label": "poção",
          "x_cb": -0.056627463549375534,
          "x_sg": -0.037444353103637695,
          "y_cb": 0.005682718474417925,
          "y_sg": 0.016591746360063553
         },
         {
          "label": "venenosa",
          "x_cb": -0.08461954444646835,
          "x_sg": -0.05130013823509216,
          "y_cb": 0.015018891543149948,
          "y_sg": 0.0224386565387249
         },
         {
          "label": "jack",
          "x_cb": -0.03949997201561928,
          "x_sg": -0.0849357545375824,
          "y_cb": 0.001649686018936336,
          "y_sg": 0.0007962864474393427
         },
         {
          "label": "copeland",
          "x_cb": -0.1235448569059372,
          "x_sg": -0.005853412207216024,
          "y_cb": 0.007692484185099602,
          "y_sg": 0.012975146993994713
         },
         {
          "label": "defende",
          "x_cb": -0.21108900010585785,
          "x_sg": 0.058860961347818375,
          "y_cb": 0.007271480280905962,
          "y_sg": 0.01573275774717331
         },
         {
          "label": "resultado",
          "x_cb": -0.20124690234661102,
          "x_sg": -0.053017307072877884,
          "y_cb": -0.00014917728549335152,
          "y_sg": 0.01000281609594822
         },
         {
          "label": "inalação",
          "x_cb": 0.5487291216850281,
          "x_sg": -0.18773238360881805,
          "y_cb": 0.0032634937670081854,
          "y_sg": 0.006047346163541079
         },
         {
          "label": "vapores",
          "x_cb": -0.1791464388370514,
          "x_sg": -0.016602030023932457,
          "y_cb": 0.0032542473636567593,
          "y_sg": 0.01148383691906929
         },
         {
          "label": "experiência",
          "x_cb": -0.2554481327533722,
          "x_sg": 0.03798576071858406,
          "y_cb": -0.0005478633102029562,
          "y_sg": 0.008680981583893299
         },
         {
          "label": "conduzida",
          "x_cb": 0.5312760472297668,
          "x_sg": -0.17044027149677277,
          "y_cb": -0.005261474754661322,
          "y_sg": -0.007296620402485132
         },
         {
          "label": "improvisado",
          "x_cb": -0.14535050094127655,
          "x_sg": -0.04521537944674492,
          "y_cb": -0.0058359792456030846,
          "y_sg": -0.011121714487671852
         },
         {
          "label": "casa",
          "x_cb": -0.14736667275428772,
          "x_sg": -0.026057150214910507,
          "y_cb": 3.860345532302745e-05,
          "y_sg": -0.0019019475439563394
         },
         {
          "label": "anteriormente",
          "x_cb": -0.10815288126468658,
          "x_sg": -0.022295527160167694,
          "y_cb": -0.00937498640269041,
          "y_sg": -0.01067052036523819
         },
         {
          "label": "sofrera",
          "x_cb": -0.03210505470633507,
          "x_sg": -0.07305428385734558,
          "y_cb": -0.0010496842442080379,
          "y_sg": -0.0018692706944420934
         },
         {
          "label": "acidentes",
          "x_cb": 0.001673516584560275,
          "x_sg": -0.08046674728393555,
          "y_cb": -0.0024499378632754087,
          "y_sg": -0.0058947354555130005
         },
         {
          "label": "descuido",
          "x_cb": -0.02056781016290188,
          "x_sg": -0.07329820096492767,
          "y_cb": -0.0021406582091003656,
          "y_sg": -0.012994532473385334
         },
         {
          "label": "autor",
          "x_cb": -0.012787086889147758,
          "x_sg": -0.06357648223638535,
          "y_cb": -0.0006616641185246408,
          "y_sg": -0.009241994470357895
         },
         {
          "label": "afirma",
          "x_cb": -0.0236155167222023,
          "x_sg": -0.09011679142713547,
          "y_cb": -0.006693426053971052,
          "y_sg": -0.018827147781848907
         },
         {
          "label": "contrariamente",
          "x_cb": -0.012872155755758286,
          "x_sg": -0.08236683905124664,
          "y_cb": -0.004320458043366671,
          "y_sg": -0.018356751650571823
         },
         {
          "label": "afirmado",
          "x_cb": -0.005812831688672304,
          "x_sg": -0.08603912591934204,
          "y_cb": -0.005511910188943148,
          "y_sg": -0.01591135747730732
         },
         {
          "label": "corria",
          "x_cb": -0.06872090697288513,
          "x_sg": -0.023425502702593803,
          "y_cb": -0.002888796152547002,
          "y_sg": -0.010017002001404762
         },
         {
          "label": "bem",
          "x_cb": -0.02267303504049778,
          "x_sg": -0.04607709124684334,
          "y_cb": -0.0017958972603082657,
          "y_sg": -0.012931810691952705
         },
         {
          "label": "andava",
          "x_cb": -0.019528821110725403,
          "x_sg": -0.09219025820493698,
          "y_cb": 0.003391244914382696,
          "y_sg": -0.0003992656129412353
         },
         {
          "label": "alegre",
          "x_cb": -0.006563388276845217,
          "x_sg": -0.034627724438905716,
          "y_cb": -0.0038133328780531883,
          "y_sg": -0.012470834888517857
         },
         {
          "label": "interagia",
          "x_cb": -0.09169606119394302,
          "x_sg": -0.02933061495423317,
          "y_cb": -0.005277948919683695,
          "y_sg": -0.012726804241538048
         },
         {
          "label": "socialmente",
          "x_cb": -0.04275299608707428,
          "x_sg": -0.04144436493515968,
          "y_cb": -0.0006037472048774362,
          "y_sg": -0.011537439189851284
         },
         {
          "label": "normalidade",
          "x_cb": -0.030919892713427544,
          "x_sg": -0.06173871457576752,
          "y_cb": -0.009647190570831299,
          "y_sg": -0.012960363179445267
         },
         {
          "label": "boa",
          "x_cb": -0.026364970952272415,
          "x_sg": -0.05952896550297737,
          "y_cb": -0.005026580765843391,
          "y_sg": -0.0128937354311347
         },
         {
          "label": "disposição",
          "x_cb": -0.07473824173212051,
          "x_sg": -0.026933681219816208,
          "y_cb": -0.0007204614230431616,
          "y_sg": -0.00138992874417454
         },
         {
          "label": "constata",
          "x_cb": -0.056150808930397034,
          "x_sg": -0.031170770525932312,
          "y_cb": 0.004888506606221199,
          "y_sg": 0.006960802245885134
         },
         {
          "label": "encontrada",
          "x_cb": -0.05990646034479141,
          "x_sg": -0.05763470008969307,
          "y_cb": 0.007572755217552185,
          "y_sg": 0.013753644190728664
         },
         {
          "label": "cabeceira",
          "x_cb": -0.045455217361450195,
          "x_sg": -0.056081101298332214,
          "y_cb": 0.005480304826050997,
          "y_sg": 0.00943266972899437
         },
         {
          "label": "determinar",
          "x_cb": -0.09392975270748138,
          "x_sg": -0.08136231452226639,
          "y_cb": 0.005231768358498812,
          "y_sg": 0.01203186810016632
         },
         {
          "label": "presença",
          "x_cb": -0.12753556668758392,
          "x_sg": -0.0665721446275711,
          "y_cb": 0.004412510432302952,
          "y_sg": 0.015368330292403698
         },
         {
          "label": "níveis",
          "x_cb": -0.07851661741733551,
          "x_sg": -0.08260690420866013,
          "y_cb": 0.00015024705498944968,
          "y_sg": 0.003653050633147359
         },
         {
          "label": "veneno",
          "x_cb": -0.09971826523542404,
          "x_sg": -0.05298343300819397,
          "y_cb": 0.0038502190727740526,
          "y_sg": 0.006581077817827463
         },
         {
          "label": "organismo",
          "x_cb": -0.06290744245052338,
          "x_sg": -0.08035806566476822,
          "y_cb": -0.0015611060662195086,
          "y_sg": -0.003453589743003249
         },
         {
          "label": "uniformes",
          "x_cb": -0.012848981656134129,
          "x_sg": -0.0897957906126976,
          "y_cb": -0.0006741974502801895,
          "y_sg": -0.001229957677423954
         },
         {
          "label": "portanto",
          "x_cb": -0.05656464770436287,
          "x_sg": -0.06692774593830109,
          "y_cb": -0.0017805910902097821,
          "y_sg": 0.002515873871743679
         },
         {
          "label": "compatíveis",
          "x_cb": -0.052320413291454315,
          "x_sg": -0.08503346145153046,
          "y_cb": 0.0050321053713560104,
          "y_sg": 0.008723549544811249
         },
         {
          "label": "lenta",
          "x_cb": -0.1134423315525055,
          "x_sg": -0.05457164719700813,
          "y_cb": 0.008555501699447632,
          "y_sg": 0.02144121564924717
         },
         {
          "label": "conclui",
          "x_cb": -0.04464324936270714,
          "x_sg": -0.08110467344522476,
          "y_cb": 0.007802505977451801,
          "y_sg": 0.013155397959053516
         },
         {
          "label": "deste",
          "x_cb": -0.16850529611110687,
          "x_sg": -0.027057543396949768,
          "y_cb": 0.00891582015901804,
          "y_sg": 0.008285102434456348
         },
         {
          "label": "investigação",
          "x_cb": -0.1062333881855011,
          "x_sg": -0.08838234096765518,
          "y_cb": 0.00894120056182146,
          "y_sg": 0.007367711514234543
         },
         {
          "label": "mal",
          "x_cb": -0.057420212775468826,
          "x_sg": -0.1123892068862915,
          "y_cb": 0.0011119869304820895,
          "y_sg": -0.005971142556518316
         },
         {
          "label": "precipitada",
          "x_cb": 0.0015968435909599066,
          "x_sg": -0.11441203951835632,
          "y_cb": 0.007500355131924152,
          "y_sg": -4.433832145878114e-05
         },
         {
          "label": "elementos",
          "x_cb": -0.038831356912851334,
          "x_sg": -0.10824716836214066,
          "y_cb": -0.003223245032131672,
          "y_sg": -0.008308863267302513
         },
         {
          "label": "disponíveis",
          "x_cb": -0.008342756889760494,
          "x_sg": -0.09530934691429138,
          "y_cb": -0.005883816163986921,
          "y_sg": -0.006571749225258827
         },
         {
          "label": "indiciam",
          "x_cb": -0.033152490854263306,
          "x_sg": -0.08318191766738892,
          "y_cb": 0.0017066606087610126,
          "y_sg": 0.0003683385730255395
         },
         {
          "label": "necessariamente",
          "x_cb": -0.12794435024261475,
          "x_sg": -0.013211565092206001,
          "y_cb": -0.001392823993228376,
          "y_sg": 0.011184505186975002
         },
         {
          "label": "pedidos",
          "x_cb": -0.38251569867134094,
          "x_sg": 0.3197493553161621,
          "y_cb": -0.00311328680254519,
          "y_sg": 0.005536247976124287
         },
         {
          "label": "oficiais",
          "x_cb": -0.2506811022758484,
          "x_sg": 0.24003885686397552,
          "y_cb": -0.0007325512124225497,
          "y_sg": 0.0013754325918853283
         },
         {
          "label": "desculpa",
          "x_cb": -0.3855101466178894,
          "x_sg": 0.3499304950237274,
          "y_cb": -0.00047781754983589053,
          "y_sg": 0.011108539998531342
         },
         {
          "label": "muitos",
          "x_cb": -0.4105819761753082,
          "x_sg": 0.2655562460422516,
          "y_cb": -0.00709980633109808,
          "y_sg": 0.007545584812760353
         },
         {
          "label": "feitas",
          "x_cb": -0.13944493234157562,
          "x_sg": 0.07723741233348846,
          "y_cb": -0.0032223036978393793,
          "y_sg": 0.007702066097408533
         },
         {
          "label": "campanhas",
          "x_cb": -0.04221057519316673,
          "x_sg": -0.01160725113004446,
          "y_cb": 0.0007324767066165805,
          "y_sg": 0.003853615839034319
         },
         {
          "label": "envolveram",
          "x_cb": -0.013255748897790909,
          "x_sg": -0.04930657893419266,
          "y_cb": -0.0011643054895102978,
          "y_sg": -0.0034701628610491753
         },
         {
          "label": "ativistas",
          "x_cb": -0.03696305677294731,
          "x_sg": -0.06463772803544998,
          "y_cb": -0.006584829185158014,
          "y_sg": -0.011528091505169868
         },
         {
          "label": "tecnologia",
          "x_cb": -0.06253107637166977,
          "x_sg": -0.08397895097732544,
          "y_cb": 0.0030205626972019672,
          "y_sg": 0.004442682024091482
         },
         {
          "label": "informação",
          "x_cb": -0.05443217232823372,
          "x_sg": -0.0872044637799263,
          "y_cb": -0.0013669077306985855,
          "y_sg": -0.001936565968208015
         },
         {
          "label": "político",
          "x_cb": -0.13242174685001373,
          "x_sg": -0.07876329123973846,
          "y_cb": -0.00041402585338801146,
          "y_sg": 0.024432050064206123
         },
         {
          "label": "lgbt",
          "x_cb": -0.15407821536064148,
          "x_sg": -0.04617929831147194,
          "y_cb": 0.003929241094738245,
          "y_sg": 0.04797786846756935
         },
         {
          "label": "seguindo",
          "x_cb": -0.12534207105636597,
          "x_sg": -0.12422740459442139,
          "y_cb": 0.008809897117316723,
          "y_sg": 0.122635118663311
         },
         {
          "label": "feito",
          "x_cb": -0.14938899874687195,
          "x_sg": -0.08731776475906372,
          "y_cb": 0.009460510686039925,
          "y_sg": 0.07300553470849991
         },
         {
          "label": "petição",
          "x_cb": 0.6166089773178101,
          "x_sg": -0.20806840062141418,
          "y_cb": 0.006730936001986265,
          "y_sg": 0.05095339193940163
         },
         {
          "label": "direcionada",
          "x_cb": -0.1941787302494049,
          "x_sg": -0.06091916561126709,
          "y_cb": 0.011247323825955391,
          "y_sg": 0.06309635192155838
         },
         {
          "label": "pediu",
          "x_cb": -0.16251859068870544,
          "x_sg": -0.09447801113128662,
          "y_cb": 0.004322528373450041,
          "y_sg": 0.07181011140346527
         },
         {
          "label": "formais",
          "x_cb": -0.11827606707811356,
          "x_sg": -0.1484559178352356,
          "y_cb": 0.0062818024307489395,
          "y_sg": 0.06979688256978989
         },
         {
          "label": "preconceituoso",
          "x_cb": -0.0636642649769783,
          "x_sg": -0.0865667313337326,
          "y_cb": 0.0012857741676270962,
          "y_sg": 0.03216823190450668
         },
         {
          "label": "desumano",
          "x_cb": -0.1218327209353447,
          "x_sg": -0.037642158567905426,
          "y_cb": 0.0015316010685637593,
          "y_sg": 0.013818802312016487
         },
         {
          "label": "dado",
          "x_cb": -0.19823074340820312,
          "x_sg": 0.016943443566560745,
          "y_cb": -0.0017883541295304894,
          "y_sg": 0.002461144933477044
         },
         {
          "label": "levou",
          "x_cb": -0.22117041051387787,
          "x_sg": 0.05512115731835365,
          "y_cb": -0.005660857539623976,
          "y_sg": -0.002513037994503975
         },
         {
          "label": "passou",
          "x_cb": -0.18633097410202026,
          "x_sg": -0.03139405697584152,
          "y_cb": -0.0007420675829052925,
          "y_sg": 0.005814326461404562
         },
         {
          "label": "prerrogativa",
          "x_cb": -0.11664748936891556,
          "x_sg": -0.05395986884832382,
          "y_cb": -0.0051050432957708836,
          "y_sg": 0.03346579521894455
         },
         {
          "label": "concedida",
          "x_cb": -0.25851356983184814,
          "x_sg": 0.0016303828451782465,
          "y_cb": -0.006799588445574045,
          "y_sg": 0.045650627464056015
         },
         {
          "label": "justiça",
          "x_cb": -0.23962724208831787,
          "x_sg": 0.0014709415845572948,
          "y_cb": 0.012738016434013844,
          "y_sg": 0.1475626826286316
         },
         {
          "label": "chirs",
          "x_cb": -0.20713961124420166,
          "x_sg": -0.0282102283090353,
          "y_cb": 0.0118926502764225,
          "y_sg": 0.08843167126178741
         },
         {
          "label": "grayling",
          "x_cb": -0.1531800478696823,
          "x_sg": -0.05692794546484947,
          "y_cb": -0.0007820589817129076,
          "y_sg": 0.043669406324625015
         },
         {
          "label": "criada",
          "x_cb": -0.019667748361825943,
          "x_sg": -0.07832062989473343,
          "y_cb": 0.0037192776799201965,
          "y_sg": 0.013896418735384941
         },
         {
          "label": "obteve",
          "x_cb": -0.035543374717235565,
          "x_sg": -0.0882716178894043,
          "y_cb": 0.0029866027180105448,
          "y_sg": 0.004919809754937887
         },
         {
          "label": "assinaturas",
          "x_cb": -0.06947512924671173,
          "x_sg": -0.038386691361665726,
          "y_cb": -0.004556896630674601,
          "y_sg": -0.004426755476742983
         },
         {
          "label": "solicitando",
          "x_cb": -0.14525620639324188,
          "x_sg": 0.06145468354225159,
          "y_cb": -0.010424836538732052,
          "y_sg": -0.004802852403372526
         },
         {
          "label": "cinebiografias",
          "x_cb": -0.7759145498275757,
          "x_sg": 1.2118829488754272,
          "y_cb": -0.0006640600040555,
          "y_sg": 0.034023985266685486
         },
         {
          "label": "parte",
          "x_cb": -0.40330615639686584,
          "x_sg": 0.23881545662879944,
          "y_cb": 0.0006697236676700413,
          "y_sg": 0.010744966566562653
         },
         {
          "label": "vida",
          "x_cb": -0.1450689285993576,
          "x_sg": 0.07567889243364334,
          "y_cb": 0.005071124527603388,
          "y_sg": 0.011890915222465992
         },
         {
          "label": "retratada",
          "x_cb": -0.0062232124619185925,
          "x_sg": 0.028947873041033745,
          "y_cb": 0.011758788488805294,
          "y_sg": 0.012339762412011623
         },
         {
          "label": "telefilme",
          "x_cb": -0.06712331622838974,
          "x_sg": -0.03212901949882507,
          "y_cb": 0.010233904235064983,
          "y_sg": 0.005442731082439423
         },
         {
          "label": "breaking",
          "x_cb": -0.018683815374970436,
          "x_sg": -0.057121142745018005,
          "y_cb": 0.0028781930450350046,
          "y_sg": -0.0011116445530205965
         },
         {
          "label": "code",
          "x_cb": -0.0032341962214559317,
          "x_sg": -0.07157275825738907,
          "y_cb": 0.004463500343263149,
          "y_sg": -0.0033767814747989178
         },
         {
          "label": "ator",
          "x_cb": -0.021796192973852158,
          "x_sg": -0.08253607153892517,
          "y_cb": 0.0004575610510073602,
          "y_sg": -0.007602221332490444
         },
         {
          "label": "derek",
          "x_cb": -0.05697494000196457,
          "x_sg": -0.09011441469192505,
          "y_cb": -0.003990789409726858,
          "y_sg": -0.016791557893157005
         },
         {
          "label": "jacobi",
          "x_cb": 0.0001348280202364549,
          "x_sg": -0.09253774583339691,
          "y_cb": -0.0032530506141483784,
          "y_sg": -0.01969694159924984
         },
         {
          "label": "principal",
          "x_cb": -0.11813653260469437,
          "x_sg": -0.011795075610280037,
          "y_cb": -0.005352231208235025,
          "y_sg": -0.023834776133298874
         },
         {
          "label": "retratado",
          "x_cb": -0.14274626970291138,
          "x_sg": -0.027629006654024124,
          "y_cb": -0.011248893104493618,
          "y_sg": -0.017822464928030968
         },
         {
          "label": "imitation",
          "x_cb": -0.04501776397228241,
          "x_sg": -0.049444761127233505,
          "y_cb": -0.004761664662510157,
          "y_sg": -0.009826733730733395
         },
         {
          "label": "game",
          "x_cb": -0.04749145731329918,
          "x_sg": -0.07278399914503098,
          "y_cb": -0.0027633027639240026,
          "y_sg": -0.01022002287209034
         },
         {
          "label": "interpretado",
          "x_cb": 0.5316051840782166,
          "x_sg": -0.13211627304553986,
          "y_cb": -0.0012820431729778647,
          "y_sg": -0.003303754376247525
         },
         {
          "label": "benedict",
          "x_cb": -0.06997203826904297,
          "x_sg": -0.03050711378455162,
          "y_cb": 0.0009811314521357417,
          "y_sg": 0.004290781449526548
         },
         {
          "label": "cumberbatch",
          "x_cb": -0.05013345181941986,
          "x_sg": -0.05509418249130249,
          "y_cb": 0.003082366194576025,
          "y_sg": -0.0032402800861746073
         },
         {
          "label": "dirigido",
          "x_cb": -0.006839354056864977,
          "x_sg": -0.06991710513830185,
          "y_cb": -0.002448316430673003,
          "y_sg": -0.0027884102892130613
         },
         {
          "label": "norueguês",
          "x_cb": -0.057729773223400116,
          "x_sg": -0.05518762394785881,
          "y_cb": 0.007448575459420681,
          "y_sg": -0.00182388536632061
         },
         {
          "label": "morten",
          "x_cb": -0.0669083297252655,
          "x_sg": -0.07682463526725769,
          "y_cb": -0.0018878347473219037,
          "y_sg": -0.013966208323836327
         },
         {
          "label": "tyldum",
          "x_cb": -0.011819634586572647,
          "x_sg": -0.10262355953454971,
          "y_cb": -0.0017897103680297732,
          "y_sg": -0.016234824433922768
         },
         {
          "label": "focado",
          "x_cb": -0.29691630601882935,
          "x_sg": 0.045623715966939926,
          "y_cb": -0.002305575180798769,
          "y_sg": -0.010224061086773872
         },
         {
          "label": "decisivo",
          "x_cb": -0.1904630810022354,
          "x_sg": 0.027805889025330544,
          "y_cb": -0.007956492714583874,
          "y_sg": -0.03372425213456154
         },
         {
          "label": "além",
          "x_cb": -0.09891501814126968,
          "x_sg": -0.023921646177768707,
          "y_cb": -0.0009007963817566633,
          "y_sg": -0.03206675127148628
         },
         {
          "label": "passagens",
          "x_cb": -0.12775669991970062,
          "x_sg": -0.013497638516128063,
          "y_cb": -0.0012634829618036747,
          "y_sg": -0.007274922449141741
         },
         {
          "label": "jovem",
          "x_cb": -0.294575035572052,
          "x_sg": 0.05906029790639877,
          "y_cb": -0.008823015727102757,
          "y_sg": -0.0022809074725955725
         },
         {
          "label": "alex",
          "x_cb": -0.20720995962619781,
          "x_sg": -0.018070658668875694,
          "y_cb": -0.009190134704113007,
          "y_sg": -0.013342397287487984
         },
         {
          "label": "lawther",
          "x_cb": -0.1351119428873062,
          "x_sg": -0.010600833222270012,
          "y_cb": -0.004771941341459751,
          "y_sg": -0.009789008647203445
         },
         {
          "label": "pós",
          "x_cb": -0.25110694766044617,
          "x_sg": 0.06726334244012833,
          "y_cb": -0.0019506242824718356,
          "y_sg": 0.0028546785470098257
         },
         {
          "label": "preso",
          "x_cb": -0.2739675045013428,
          "x_sg": 0.08990641683340073,
          "y_cb": -0.0004564797563944012,
          "y_sg": 0.009640919044613838
         },
         {
          "label": "sodomia",
          "x_cb": -0.24425870180130005,
          "x_sg": 0.03877397999167442,
          "y_cb": 0.003058074275031686,
          "y_sg": 0.020588980987668037
         },
         {
          "label": "forçado",
          "x_cb": -0.1934683471918106,
          "x_sg": 0.019383637234568596,
          "y_cb": 0.004521907772868872,
          "y_sg": 0.02099337801337242
         },
         {
          "label": "ver",
          "x_cb": -0.7770546078681946,
          "x_sg": 1.2128232717514038,
          "y_cb": 0.006229179911315441,
          "y_sg": 0.03949177637696266
         },
         {
          "label": "homofobia",
          "x_cb": -0.7791000008583069,
          "x_sg": 1.2152336835861206,
          "y_cb": 0.0015592933632433414,
          "y_sg": 0.03620712831616402
         },
         {
          "label": "marian",
          "x_cb": -0.5096797943115234,
          "x_sg": 0.49172258377075195,
          "y_cb": -0.0005180861917324364,
          "y_sg": 0.011155937798321247
         },
         {
          "label": "rejewski",
          "x_cb": -0.4889797568321228,
          "x_sg": 0.4836728870868683,
          "y_cb": -0.004533290863037109,
          "y_sg": 0.008947680704295635
         },
         {
          "label": "memorial",
          "x_cb": -0.7153794765472412,
          "x_sg": 0.8009241223335266,
          "y_cb": 0.0020984101574867964,
          "y_sg": 0.01962624490261078
         },
         {
          "label": "prêmio",
          "x_cb": -0.8316582441329956,
          "x_sg": 1.0940208435058594,
          "y_cb": -0.008550259284675121,
          "y_sg": 0.023605823516845703
         },
         {
          "label": "referências",
          "x_cb": -0.7773741483688354,
          "x_sg": 1.212807297706604,
          "y_cb": 0.0013391126412898302,
          "y_sg": 0.036672383546829224
         },
         {
          "label": "bibliografia",
          "x_cb": -0.7817689776420593,
          "x_sg": 1.21721613407135,
          "y_cb": 0.004869397729635239,
          "y_sg": 0.03838484361767769
         },
         {
          "label": "intelligence",
          "x_cb": -0.20671525597572327,
          "x_sg": 0.11128436028957367,
          "y_cb": 0.00013856047007720917,
          "y_sg": -0.020525094121694565
         },
         {
          "label": "london",
          "x_cb": -0.08281797170639038,
          "x_sg": 0.020022502169013023,
          "y_cb": -0.004249874968081713,
          "y_sg": -0.013520939275622368
         },
         {
          "label": "burnett",
          "x_cb": -0.12015623599290848,
          "x_sg": 0.06791491061449051,
          "y_cb": -0.005246397573500872,
          "y_sg": -0.01127861998975277
         },
         {
          "label": "books",
          "x_cb": -0.25363749265670776,
          "x_sg": 0.19991974532604218,
          "y_cb": 0.009651747532188892,
          "y_sg": 0.009482577443122864
         },
         {
          "label": "isbn",
          "x_cb": 0.19273872673511505,
          "x_sg": -0.07747720927000046,
          "y_cb": 0.003554416121914983,
          "y_sg": -0.02199511229991913
         },
         {
          "label": "leavitt",
          "x_cb": -0.3996891975402832,
          "x_sg": 0.2520256042480469,
          "y_cb": 0.0011457718210294843,
          "y_sg": 0.0052129970863461494
         },
         {
          "label": "david",
          "x_cb": -0.12110211700201035,
          "x_sg": 0.11326782405376434,
          "y_cb": -0.007038954645395279,
          "y_sg": -0.01700386218726635
         },
         {
          "label": "man",
          "x_cb": -0.025017647072672844,
          "x_sg": 0.05565282702445984,
          "y_cb": -0.0072169494815170765,
          "y_sg": -0.01714995875954628
         },
         {
          "label": "knew",
          "x_cb": -0.093068428337574,
          "x_sg": 0.07131267338991165,
          "y_cb": -0.00014697907317895442,
          "y_sg": -0.011979128234088421
         },
         {
          "label": "much",
          "x_cb": -0.21412606537342072,
          "x_sg": 0.1156592145562172,
          "y_cb": -0.0006161380442790687,
          "y_sg": -0.012584911659359932
         },
         {
          "label": "invention",
          "x_cb": -0.2434685230255127,
          "x_sg": 0.1020757406949997,
          "y_cb": -4.040219573653303e-05,
          "y_sg": -0.010733777657151222
         },
         {
          "label": "computer",
          "x_cb": 0.41923707723617554,
          "x_sg": -0.015430163592100143,
          "y_cb": 0.0027196742594242096,
          "y_sg": -0.019728736951947212
         },
         {
          "label": "phoenix",
          "x_cb": -0.28643330931663513,
          "x_sg": 0.18141406774520874,
          "y_cb": -0.0023760381154716015,
          "y_sg": -0.0038591641932725906
         },
         {
          "label": "agar",
          "x_cb": -0.4455437958240509,
          "x_sg": 0.17428511381149292,
          "y_cb": 0.0035788901150226593,
          "y_sg": -0.0020291239488869905
         },
         {
          "label": "jon",
          "x_cb": -0.21320781111717224,
          "x_sg": 0.0643041729927063,
          "y_cb": -0.007390312850475311,
          "y_sg": -0.0222165510058403
         },
         {
          "label": "mit",
          "x_cb": 0.5033053159713745,
          "x_sg": -0.13016773760318756,
          "y_cb": -0.011236551217734814,
          "y_sg": -0.05611465871334076
         },
         {
          "label": "press",
          "x_cb": 0.5327710509300232,
          "x_sg": -0.20547443628311157,
          "y_cb": -0.0024738600477576256,
          "y_sg": -0.05325945094227791
         },
         {
          "label": "ed",
          "x_cb": 0.5677934885025024,
          "x_sg": -0.25511080026626587,
          "y_cb": -0.0014841352822259068,
          "y_sg": -0.05665794387459755
         },
         {
          "label": "government",
          "x_cb": -0.1007918193936348,
          "x_sg": -0.1186688020825386,
          "y_cb": 0.004365431610494852,
          "y_sg": -0.005559357814490795
         },
         {
          "label": "machine",
          "x_cb": -0.03521425276994705,
          "x_sg": -0.11297931522130966,
          "y_cb": -0.002512336242944002,
          "y_sg": -0.012419041246175766
         },
         {
          "label": "revolutionary",
          "x_cb": -0.08217687159776688,
          "x_sg": -0.07230927050113678,
          "y_cb": 0.0020872342865914106,
          "y_sg": -0.0026711057871580124
         },
         {
          "label": "history",
          "x_cb": 0.5513735413551331,
          "x_sg": -0.09844917804002762,
          "y_cb": -0.005837853066623211,
          "y_sg": -0.03409988805651665
         },
         {
          "label": "inglês",
          "x_cb": 0.601545512676239,
          "x_sg": -0.05974387004971504,
          "y_cb": -0.0037645406555384398,
          "y_sg": -0.03999115899205208
         },
         {
          "label": "cambridge",
          "x_cb": 0.39506983757019043,
          "x_sg": -0.06834439933300018,
          "y_cb": 0.0010435542790219188,
          "y_sg": -0.04798300191760063
         },
         {
          "label": "massachusetts",
          "x_cb": 0.12635578215122223,
          "x_sg": 0.004159537144005299,
          "y_cb": 0.008483873680233955,
          "y_sg": -0.018875449895858765
         },
         {
          "label": "paul",
          "x_cb": -0.38103073835372925,
          "x_sg": 0.21817535161972046,
          "y_cb": 0.003845083061605692,
          "y_sg": 0.0037559522315859795
         },
         {
          "label": "ceruzzi",
          "x_cb": -0.16101019084453583,
          "x_sg": 0.09380369633436203,
          "y_cb": -0.0012276711640879512,
          "y_sg": -0.0039054916705936193
         },
         {
          "label": "modern",
          "x_cb": -0.07440965622663498,
          "x_sg": -0.013338329270482063,
          "y_cb": 0.0017941646510735154,
          "y_sg": -0.014581392519176006
         },
         {
          "label": "computing",
          "x_cb": -0.10952899605035782,
          "x_sg": -0.005248910281807184,
          "y_cb": -0.005906397011131048,
          "y_sg": -0.026245824992656708
         },
         {
          "label": "ligações",
          "x_cb": -0.4663078784942627,
          "x_sg": 0.5025008320808411,
          "y_cb": -0.0030960107687860727,
          "y_sg": 0.014697580598294735
         },
         {
          "label": "externas",
          "x_cb": -0.4896892011165619,
          "x_sg": 0.49987274408340454,
          "y_cb": 0.0013404719065874815,
          "y_sg": 0.013998354785144329
         },
         {
          "label": "biografia",
          "x_cb": -0.43245407938957214,
          "x_sg": 0.31161487102508545,
          "y_cb": 0.002143454970791936,
          "y_sg": 0.005192341282963753
         },
         {
          "label": "mactutor",
          "x_cb": -0.36170533299446106,
          "x_sg": 0.29537615180015564,
          "y_cb": 0.004724867641925812,
          "y_sg": 0.0065480503253638744
         },
         {
          "label": "mathematics",
          "x_cb": -0.24885626137256622,
          "x_sg": 0.22083118557929993,
          "y_cb": -0.0005872432957403362,
          "y_sg": -0.0005822227103635669
         },
         {
          "label": "genealogy",
          "x_cb": -0.18934637308120728,
          "x_sg": 0.14262916147708893,
          "y_cb": -0.004841831978410482,
          "y_sg": -0.008632638491690159
         },
         {
          "label": "project",
          "x_cb": -0.37885579466819763,
          "x_sg": 0.22868692874908447,
          "y_cb": 0.0022134450264275074,
          "y_sg": 0.0069356877356767654
         }
        ]
       },
       "hconcat": [
        {
         "data": {
          "name": "data-9bf58dd24ffcdc89b5f2e9e978d299e7"
         },
         "encoding": {
          "color": {
           "condition": {
            "field": "label",
            "legend": null,
            "selection": "selector001",
            "type": "ordinal"
           },
           "value": "transparent"
          },
          "tooltip": {
           "field": "label",
           "type": "nominal"
          },
          "x": {
           "field": "x_sg",
           "title": "SKIP-GRAM",
           "type": "quantitative"
          },
          "y": {
           "field": "y_sg",
           "type": "quantitative"
          }
         },
         "height": 500,
         "mark": {
          "size": 180,
          "type": "circle"
         },
         "selection": {
          "selector001": {
           "empty": "all",
           "fields": [
            "label"
           ],
           "on": "click",
           "resolve": "global",
           "toggle": "event.shiftKey",
           "type": "multi"
          }
         },
         "width": 500
        },
        {
         "data": {
          "name": "data-9bf58dd24ffcdc89b5f2e9e978d299e7"
         },
         "encoding": {
          "color": {
           "condition": {
            "field": "label",
            "legend": null,
            "selection": "selector001",
            "type": "ordinal"
           },
           "value": "transparent"
          },
          "tooltip": {
           "field": "label",
           "type": "nominal"
          },
          "x": {
           "field": "x_cb",
           "title": "CBOW",
           "type": "quantitative"
          },
          "y": {
           "field": "y_cb",
           "type": "quantitative"
          }
         },
         "height": 500,
         "mark": {
          "size": 180,
          "type": "circle"
         },
         "selection": {
          "selector001": {
           "empty": "all",
           "fields": [
            "label"
           ],
           "on": "click",
           "resolve": "global",
           "toggle": "event.shiftKey",
           "type": "multi"
          }
         },
         "width": 500
        }
       ]
      },
      "image/png": "[encoded data removed]",
      "text/plain": [
       "<VegaLite 2 object>\n",
       "\n",
       "If you see this message, it means the renderer has not been properly enabled\n",
       "for the frontend that you are using. For more information, see\n",
       "https://altair-viz.github.io/user_guide/troubleshooting.html\n"
      ]
     },
     "execution_count": 14,
     "metadata": {},
     "output_type": "execute_result"
    }
   ],
   "source": [
    "alt.themes.enable('opaque')\n",
    "alt.renderers.enable('jupyterlab')\n",
    "\n",
    "selector = alt.selection_multi(empty='all', fields=['label'])\n",
    "base = alt.Chart(pd.DataFrame({\n",
    "        \"x_sg\" : result_sg[:, 0],\n",
    "        \"y_sg\" : result_sg[:, 1],\n",
    "        \"x_cb\" : result_cb[:, 0],\n",
    "        \"y_cb\" : result_cb[:, 1],\n",
    "        \"label\" : words\n",
    "    })).properties(\n",
    "        width=500,\n",
    "        height=500\n",
    "    ).add_selection(selector)\n",
    "\n",
    "c1 = base.mark_circle(size=180).encode(\n",
    "        x=\"x_sg\",\n",
    "        y=\"y_sg\",\n",
    "        tooltip=\"label\",\n",
    "        color=alt.condition(selector, 'label:O', alt.value('transparent'), legend=None)\n",
    "    )\n",
    "c1.encoding.x.title = \"skip-gram\".upper()\n",
    "\n",
    "c2 = base.mark_circle(size=180).encode(\n",
    "        x=\"x_cb\",\n",
    "        y=\"y_cb\",\n",
    "        tooltip=\"label\",\n",
    "        color=alt.condition(selector, 'label:O', alt.value('transparent'), legend=None),\n",
    "    )\n",
    "c2.encoding.x.title = \"cbow\".upper()\n",
    "\n",
    "c1|c2"
   ]
  },
  {
   "cell_type": "markdown",
   "metadata": {},
   "source": [
    "> use o shift + click para ir selecionando vários, e passe o mouse para ver as palavras que cada ponto representa"
   ]
  },
  {
   "cell_type": "markdown",
   "metadata": {},
   "source": [
    "## 4. similaridade\n",
    "\n",
    "O comportamento mais natural diante de um gráfico como esses acima é considerar a similaridade pela proximidade entre 2 pontos através da distância euclidiana, só que este é um caso que exige outro cálculo: **similaridade de cossenos**\n",
    "\n",
    "este cálculo é bem útil no processamento de palavras que fizemos já que as características de todo o processo são bem distintos de apenas criar regiões num gráfico, neste caso é mais relevante tratar com a diferença entre ângulos de vetores do que usarmos uma régua entre os pontos.\n",
    "\n",
    "para compreender melhor as diferenças entre similaridade de cossenos e distância euclidiana, recomendo este [link](https://cmry.github.io/notes/euclidean-v-cosine) e para ver outros cálculos que podem ser úteis mais à frente, recomendo este [link](http://dataaspirant.com/2015/04/11/five-most-popular-similarity-measures-implementation-in-python/) que tem ótimas imagens ilustrativas."
   ]
  },
  {
   "cell_type": "markdown",
   "metadata": {},
   "source": [
    "> obs sobre similaridade: o gensim tem vários métodos (descrições das docstrings)\n",
    ">\n",
    "> * similarity_matrix: Construct a term similarity matrix for computing Soft Cosine Measure.\n",
    "> * similarity: Compute cosine similarity between two words.\n",
    "> * most_similar_cosmul: using the multiplicative combination objective, proposed by `Omer Levy and Yoav Goldberg \"Linguistic Regularities in Sparse and Explicit Word Representations\"\n",
    "> * similar_by_word: (a docstring não diz mas usa similaridade de cossenos)\n",
    "> * similar_by_vector: Find the top-N most similar words by vector."
   ]
  },
  {
   "cell_type": "code",
   "execution_count": 15,
   "metadata": {},
   "outputs": [],
   "source": [
    "# palavra escolhida para ver quais as mais similares de acordo com cada método\n",
    "w = \"cianeto\""
   ]
  },
  {
   "cell_type": "code",
   "execution_count": 16,
   "metadata": {},
   "outputs": [
    {
     "data": {
      "text/plain": [
       "[('corpo', 0.9956434965133667),\n",
       " ('envenenamento', 0.9950364828109741),\n",
       " ('apesar', 0.9946295022964478),\n",
       " ('aparente', 0.9940468668937683),\n",
       " ('presença', 0.9939732551574707),\n",
       " ('descoberto', 0.9937050342559814),\n",
       " ('níveis', 0.9936593770980835),\n",
       " ('quanto', 0.993450403213501),\n",
       " ('testada', 0.9933900833129883),\n",
       " ('determinar', 0.9930295944213867)]"
      ]
     },
     "execution_count": 16,
     "metadata": {},
     "output_type": "execute_result"
    }
   ],
   "source": [
    "# repare que quanto mais próximo de 1, mais similar\n",
    "model_sg.wv.most_similar(w)"
   ]
  },
  {
   "cell_type": "code",
   "execution_count": 17,
   "metadata": {},
   "outputs": [
    {
     "data": {
      "text/markdown": [
       "| skip-gram | cbow |\n",
       "|--|--|\n",
       "| causa |  turing |\n",
       "| defende |  maçã |\n",
       "| setembro |  suicídio |\n",
       "| acidental |  após |\n",
       "| estabeleceu |  cianeto |\n",
       "| campanha |  computador |\n",
       "| necessariamente |  onde |\n",
       "| copeland |  ser |\n",
       "| suicídio |  anos |\n",
       "| resultado |  ter |\n"
      ],
      "text/plain": [
       "<IPython.core.display.Markdown object>"
      ]
     },
     "execution_count": 17,
     "metadata": {},
     "output_type": "execute_result"
    }
   ],
   "source": [
    "w = \"morte\"\n",
    "\n",
    "md = \"| skip-gram | cbow |\\n|--|--|\\n\"\n",
    "for i in zip(model_sg.wv.similar_by_word(w), model_cb.wv.similar_by_word(w)):\n",
    "    md += f\"| {i[0][0]} |  {i[1][0]} |\\n\"\n",
    "\n",
    "Markdown(md)"
   ]
  },
  {
   "cell_type": "markdown",
   "metadata": {},
   "source": [
    "Como todos nós sabemos, a palavra \"cozido\" se refere à comida (ao menos na maior parte do tempo, costumo dizer que no verão aqui em Recife somos cozidos ao sol, mas isto não vem ao caso), mas o fato é que com base no conteúdo de 1 único artigo na wikipédia, a similaridade pôde inferir até que com bastante precisão o contexto de uso, dos 10 resultados mais próximos no skip-gram, os 4 primeiros inferem diretamente de acordo com o que consideramos correto (dependendo do lugar no mundo podem considerar os 5 primeiros) e as demais palavras compreendemos que pode fazer sentido elas estarem alí pelo que é contado no texto sobre Pernambuco, então é compreensível que em algum momento fale sobre classes abastadas em relação à história da culinária. Se formos verificar o texto vamos considerar essa impressão errônea, lá está escrito: \"Antes, as canoas eram o principal meio de transporte de pessoas e cargas da capital pernambucana, e para os mais abastados, cavalos e carruagens.\", sabendo disso podemos apostar em alguns fatores:\n",
    "\n",
    "* foi 1 único artigo, então a margem de erro é alta, afinal não usamos nada específico de culinária que envolvesse \"cozido\", mais texto == mais precisão?\n",
    "* faltou mais treinamento?\n",
    "* que algoritmos foram usados na função de ativação, erro e otimização? como poderemos saber se são os mais adequados à essa situação?\n",
    "\n",
    "Futuramente vou implementar esses algoritmos manualmente e essas dúvidas serão exploradas"
   ]
  }
 ],
 "metadata": {
  "kernelspec": {
   "display_name": "Python 3",
   "language": "python",
   "name": "python3"
  },
  "language_info": {
   "codemirror_mode": {
    "name": "ipython",
    "version": 3
   },
   "file_extension": ".py",
   "mimetype": "text/x-python",
   "name": "python",
   "nbconvert_exporter": "python",
   "pygments_lexer": "ipython3",
   "version": "3.7.1"
  }
 },
 "nbformat": 4,
 "nbformat_minor": 2
}
