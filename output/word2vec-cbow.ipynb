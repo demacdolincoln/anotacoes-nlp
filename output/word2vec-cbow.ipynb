{
 "cells": [
  {
   "cell_type": "code",
   "execution_count": 1,
   "metadata": {},
   "outputs": [
    {
     "name": "stdout",
     "output_type": "stream",
     "text": [
      "Populating the interactive namespace from numpy and matplotlib\n"
     ]
    }
   ],
   "source": [
    "%pylab inline\n",
    "import torch"
   ]
  },
  {
   "cell_type": "code",
   "execution_count": 2,
   "metadata": {},
   "outputs": [],
   "source": [
    "figsize(10, 8)\n",
    "plt.style.use(['dark_background'])"
   ]
  },
  {
   "cell_type": "code",
   "execution_count": 3,
   "metadata": {},
   "outputs": [],
   "source": [
    "import pickle\n",
    "\n",
    "corpus_text = pickle.load(\n",
    "    open(\"corpus_text.pickle\", \"rb\")\n",
    ")"
   ]
  },
  {
   "cell_type": "code",
   "execution_count": 4,
   "metadata": {},
   "outputs": [],
   "source": [
    "word2id, id2word = {}, {}\n",
    "\n",
    "uniques = set()\n",
    "for words in corpus_text:\n",
    "    for w in words:\n",
    "        uniques.add(w)\n",
    "\n",
    "count_id = 0\n",
    "for word in uniques:\n",
    "    word2id[word] = count_id\n",
    "    id2word[count_id] = word\n",
    "    count_id += 1"
   ]
  },
  {
   "cell_type": "code",
   "execution_count": 5,
   "metadata": {},
   "outputs": [
    {
     "data": {
      "text/plain": [
       "'bem'"
      ]
     },
     "execution_count": 5,
     "metadata": {},
     "output_type": "execute_result"
    }
   ],
   "source": [
    "id2word[23]"
   ]
  },
  {
   "cell_type": "code",
   "execution_count": 6,
   "metadata": {},
   "outputs": [
    {
     "data": {
      "text/plain": [
       "(618, 61)"
      ]
     },
     "execution_count": 6,
     "metadata": {},
     "output_type": "execute_result"
    }
   ],
   "source": [
    "len(uniques), len(corpus_text)"
   ]
  },
  {
   "cell_type": "code",
   "execution_count": 7,
   "metadata": {},
   "outputs": [],
   "source": [
    "window = 2\n",
    "pair_ids = []\n",
    "\n",
    "text_size = len(corpus_text)\n",
    "\n",
    "corpus_text = np.array(corpus_text)\n",
    "mask = np.array([i for i in range(-window, window+1) if i is not 0])\n",
    "\n",
    "for paragraph in corpus_text:\n",
    "    paragraph = np.array(paragraph)\n",
    "    text_size = len(paragraph)\n",
    "\n",
    "    for center_word in range(window, text_size-window):\n",
    "        center_word_id = word2id[paragraph[center_word]]\n",
    "        context_words = [word2id[i] for i in paragraph[mask + center_word]]\n",
    "\n",
    "        pair_ids.append([context_words, center_word_id])"
   ]
  },
  {
   "cell_type": "code",
   "execution_count": 8,
   "metadata": {},
   "outputs": [],
   "source": [
    "from IPython.display import Markdown"
   ]
  },
  {
   "cell_type": "code",
   "execution_count": 9,
   "metadata": {},
   "outputs": [
    {
     "data": {
      "text/markdown": [
       "|contexto | central | contexto | central |\n",
       "|--|--|--|--|\n",
       "|[282, 334, 610, 418] | 151 | ['sobre', 'base', 'morfogênese', 'previu'] | química|\n",
       "|[334, 151, 418, 235] | 610 | ['base', 'química', 'previu', 'reações'] | morfogênese|\n",
       "|[151, 610, 235, 441] | 418 | ['química', 'morfogênese', 'reações', 'químicas'] | previu|\n",
       "|[610, 418, 441, 325] | 235 | ['morfogênese', 'previu', 'químicas', 'oscilantes'] | reações|\n",
       "|[418, 235, 325, 350] | 441 | ['previu', 'reações', 'oscilantes', 'reação'] | químicas|\n",
       "|[235, 441, 350, 47] | 325 | ['reações', 'químicas', 'reação', 'belousov'] | oscilantes|\n",
       "|[441, 325, 47, 251] | 350 | ['químicas', 'oscilantes', 'belousov', 'zhabotinsky'] | reação|\n",
       "|[325, 350, 251, 275] | 47 | ['oscilantes', 'reação', 'zhabotinsky', 'observadas'] | belousov|\n",
       "|[350, 47, 275, 348] | 251 | ['reação', 'belousov', 'observadas', 'primeira'] | zhabotinsky|\n",
       "|[47, 251, 348, 80] | 275 | ['belousov', 'zhabotinsky', 'primeira', 'vez'] | observadas|\n",
       "|[251, 275, 80, 356] | 348 | ['zhabotinsky', 'observadas', 'vez', 'década'] | primeira|\n"
      ],
      "text/plain": [
       "<IPython.core.display.Markdown object>"
      ]
     },
     "execution_count": 9,
     "metadata": {},
     "output_type": "execute_result"
    }
   ],
   "source": [
    "ex_out = \"|contexto | central | contexto | central |\\n|--|--|--|--|\\n\"\n",
    "for i in range(95, 106):\n",
    "    w0, w1 = pair_ids[i]\n",
    "    ex_out += f\"|{w0} | {w1} | {[id2word[w] for w in w0]} | {id2word[w1]}|\\n\"\n",
    "\n",
    "Markdown(ex_out)"
   ]
  },
  {
   "cell_type": "code",
   "execution_count": 10,
   "metadata": {},
   "outputs": [],
   "source": [
    "class CBOW(torch.nn.Module):\n",
    "    def __init__(self, vocab_size, emb_size, context_size):\n",
    "        super(CBOW, self).__init__()\n",
    "        \n",
    "        self.embeddings = torch.nn.Embedding(vocab_size, emb_size)\n",
    "        \n",
    "        self.linear0 =  torch.nn.Linear(2*emb_size*context_size, 512)\n",
    "        self.linear1 = torch.nn.Linear(512, vocab_size)\n",
    "\n",
    "        self.log_softmax = torch.nn.LogSoftmax(dim=1)\n",
    "        \n",
    "    def forward(self, x):\n",
    "        out = self.embeddings(x).view(1, -1)\n",
    "\n",
    "        out = self.linear0(out)\n",
    "        out = self.linear1(out)\n",
    "        \n",
    "        out = self.log_softmax(out)\n",
    "        return out\n",
    "    \n",
    "    def get_word_emb(self, word_id):\n",
    "        word = torch.LongTensor([word_id])\n",
    "        return self.embeddings(word).view(1, -1)"
   ]
  },
  {
   "cell_type": "code",
   "execution_count": 11,
   "metadata": {},
   "outputs": [],
   "source": [
    "cbow = CBOW(len(uniques), 10, 2)"
   ]
  },
  {
   "cell_type": "code",
   "execution_count": 12,
   "metadata": {},
   "outputs": [
    {
     "data": {
      "text/plain": [
       "'estrogênio'"
      ]
     },
     "execution_count": 12,
     "metadata": {},
     "output_type": "execute_result"
    }
   ],
   "source": [
    "teste_data = torch.LongTensor(pair_ids[100][0])\n",
    "target_data = torch.LongTensor(pair_ids[100][1])\n",
    "res = cbow(teste_data).argmax().item()\n",
    "id2word[res]"
   ]
  },
  {
   "cell_type": "code",
   "execution_count": 13,
   "metadata": {},
   "outputs": [
    {
     "name": "stdout",
     "output_type": "stream",
     "text": [
      "0  - 6.357\n",
      "20 - 2.174\n",
      "40 - 0.297\n",
      "60 - 0.219\n",
      "80 - 0.156\n",
      "100 - 0.031\n",
      "120 - 0.057\n",
      "140 - 0.037\n",
      "160 - 0.063\n",
      "180 - 0.020\n",
      "200 - 0.011\n"
     ]
    }
   ],
   "source": [
    "nll_loss = torch.nn.NLLLoss()\n",
    "optimizer = torch.optim.SGD(cbow.parameters(), lr=0.001)\n",
    "\n",
    "indexes = np.arange(len(pair_ids))\n",
    "losses = []\n",
    "for epoch in range(201):\n",
    "    np.random.shuffle(indexes)\n",
    "    for index in indexes:\n",
    "        context, target = pair_ids[index]\n",
    "        optimizer.zero_grad()\n",
    "        cbow.zero_grad()\n",
    "        \n",
    "        X = torch.LongTensor(context)\n",
    "        Y = torch.LongTensor([target])\n",
    "        out_prob = cbow(X)\n",
    "        loss = nll_loss(out_prob, Y)\n",
    "        loss.backward()\n",
    "        optimizer.step()\n",
    "        \n",
    "        losses.append(loss.item())\n",
    "    if epoch %20 == 0:\n",
    "        print(f\"{epoch:<2} - {loss.item():.3f}\")"
   ]
  },
  {
   "cell_type": "code",
   "execution_count": 50,
   "metadata": {},
   "outputs": [
    {
     "data": {
      "image/png": "[encoded data removed]",
      "text/plain": [
       "<Figure size 720x576 with 1 Axes>"
      ]
     },
     "metadata": {},
     "output_type": "display_data"
    }
   ],
   "source": [
    "fig = figure()\n",
    "ax = fig.gca()\n",
    "ax.plot(losses, c=\"darkcyan\")\n",
    "savefig(\"../images/word2vec-cbow-loss.png\", dpi=\"figure\", transparent=True)"
   ]
  },
  {
   "cell_type": "code",
   "execution_count": 15,
   "metadata": {},
   "outputs": [
    {
     "name": "stdout",
     "output_type": "stream",
     "text": [
      "data:['papel', 'importante', 'computador', 'moderno'] | target: criação\n",
      "criação\n"
     ]
    }
   ],
   "source": [
    "_pos = 28\n",
    "teste_data = torch.LongTensor(pair_ids[_pos][0])\n",
    "target_data = torch.LongTensor(pair_ids[_pos][1])\n",
    "res = cbow(teste_data).argmax().item()\n",
    "print(f\"data:{[id2word[i] for i in pair_ids[_pos][0]]} | target: {id2word[pair_ids[_pos][1]]}\")\n",
    "print(f\"{id2word[res]}\")\n"
   ]
  },
  {
   "cell_type": "code",
   "execution_count": 16,
   "metadata": {},
   "outputs": [
    {
     "data": {
      "text/plain": [
       "array([[ 0.04994071,  1.0177861 ,  1.45093   , -0.19134155, -0.6032207 ,\n",
       "         1.9121735 , -1.211824  , -2.03557   ,  1.1069264 ,  0.06765856]],\n",
       "      dtype=float32)"
      ]
     },
     "execution_count": 16,
     "metadata": {},
     "output_type": "execute_result"
    }
   ],
   "source": [
    "cbow.get_word_emb(_pos).detach().numpy()"
   ]
  },
  {
   "cell_type": "code",
   "execution_count": 17,
   "metadata": {},
   "outputs": [],
   "source": [
    "from sklearn.decomposition import PCA\n",
    "import pandas as pd"
   ]
  },
  {
   "cell_type": "code",
   "execution_count": 18,
   "metadata": {},
   "outputs": [],
   "source": [
    "dataf = pd.DataFrame({\n",
    "    \"words\":list(uniques),\n",
    "    \"id\": [word2id[i] for i in uniques],\n",
    "    \"emb\": [cbow.get_word_emb(word2id[i]).detach().numpy()[0] for i in uniques],\n",
    "    \"x\" : [0]*len(uniques),\n",
    "    \"y\": [0]*len(uniques)\n",
    "})"
   ]
  },
  {
   "cell_type": "code",
   "execution_count": 19,
   "metadata": {},
   "outputs": [
    {
     "data": {
      "text/html": [
       "<div>\n",
       "<style scoped>\n",
       "    .dataframe tbody tr th:only-of-type {\n",
       "        vertical-align: middle;\n",
       "    }\n",
       "\n",
       "    .dataframe tbody tr th {\n",
       "        vertical-align: top;\n",
       "    }\n",
       "\n",
       "    .dataframe thead th {\n",
       "        text-align: right;\n",
       "    }\n",
       "</style>\n",
       "<table border=\"1\" class=\"dataframe\">\n",
       "  <thead>\n",
       "    <tr style=\"text-align: right;\">\n",
       "      <th></th>\n",
       "      <th>words</th>\n",
       "      <th>id</th>\n",
       "      <th>emb</th>\n",
       "      <th>x</th>\n",
       "      <th>y</th>\n",
       "    </tr>\n",
       "  </thead>\n",
       "  <tbody>\n",
       "    <tr>\n",
       "      <th>0</th>\n",
       "      <td>pedirem</td>\n",
       "      <td>0</td>\n",
       "      <td>[-0.7472434, 1.1953129, 0.6171143, 1.159434, 0...</td>\n",
       "      <td>0</td>\n",
       "      <td>0</td>\n",
       "    </tr>\n",
       "    <tr>\n",
       "      <th>1</th>\n",
       "      <td>apesar</td>\n",
       "      <td>1</td>\n",
       "      <td>[1.4737017, -2.0915306, -0.7725572, -0.9709654...</td>\n",
       "      <td>0</td>\n",
       "      <td>0</td>\n",
       "    </tr>\n",
       "    <tr>\n",
       "      <th>2</th>\n",
       "      <td>matado</td>\n",
       "      <td>2</td>\n",
       "      <td>[0.41868037, -1.2745695, 0.4692667, 0.8028619,...</td>\n",
       "      <td>0</td>\n",
       "      <td>0</td>\n",
       "    </tr>\n",
       "    <tr>\n",
       "      <th>3</th>\n",
       "      <td>books</td>\n",
       "      <td>3</td>\n",
       "      <td>[-0.5160581, -1.2895256, -1.379968, -1.163356,...</td>\n",
       "      <td>0</td>\n",
       "      <td>0</td>\n",
       "    </tr>\n",
       "    <tr>\n",
       "      <th>4</th>\n",
       "      <td>argumentou</td>\n",
       "      <td>4</td>\n",
       "      <td>[0.7462581, 0.4990972, -1.4993006, -0.06217622...</td>\n",
       "      <td>0</td>\n",
       "      <td>0</td>\n",
       "    </tr>\n",
       "  </tbody>\n",
       "</table>\n",
       "</div>"
      ],
      "text/plain": [
       "        words  id                                                emb  x  y\n",
       "0     pedirem   0  [-0.7472434, 1.1953129, 0.6171143, 1.159434, 0...  0  0\n",
       "1      apesar   1  [1.4737017, -2.0915306, -0.7725572, -0.9709654...  0  0\n",
       "2      matado   2  [0.41868037, -1.2745695, 0.4692667, 0.8028619,...  0  0\n",
       "3       books   3  [-0.5160581, -1.2895256, -1.379968, -1.163356,...  0  0\n",
       "4  argumentou   4  [0.7462581, 0.4990972, -1.4993006, -0.06217622...  0  0"
      ]
     },
     "execution_count": 19,
     "metadata": {},
     "output_type": "execute_result"
    }
   ],
   "source": [
    "dataf.head()"
   ]
  },
  {
   "cell_type": "code",
   "execution_count": 20,
   "metadata": {},
   "outputs": [],
   "source": [
    "pca = PCA(n_components=2)\n",
    "a = np.array([cbow.get_word_emb(word2id[i]).detach().numpy()[0] for i in uniques],)\n",
    "XY = pca.fit_transform(a)"
   ]
  },
  {
   "cell_type": "code",
   "execution_count": 21,
   "metadata": {},
   "outputs": [
    {
     "data": {
      "text/html": [
       "<div>\n",
       "<style scoped>\n",
       "    .dataframe tbody tr th:only-of-type {\n",
       "        vertical-align: middle;\n",
       "    }\n",
       "\n",
       "    .dataframe tbody tr th {\n",
       "        vertical-align: top;\n",
       "    }\n",
       "\n",
       "    .dataframe thead th {\n",
       "        text-align: right;\n",
       "    }\n",
       "</style>\n",
       "<table border=\"1\" class=\"dataframe\">\n",
       "  <thead>\n",
       "    <tr style=\"text-align: right;\">\n",
       "      <th></th>\n",
       "      <th>words</th>\n",
       "      <th>id</th>\n",
       "      <th>emb</th>\n",
       "      <th>x</th>\n",
       "      <th>y</th>\n",
       "    </tr>\n",
       "  </thead>\n",
       "  <tbody>\n",
       "    <tr>\n",
       "      <th>0</th>\n",
       "      <td>pedirem</td>\n",
       "      <td>0</td>\n",
       "      <td>[-0.7472434, 1.1953129, 0.6171143, 1.159434, 0...</td>\n",
       "      <td>-1.913741</td>\n",
       "      <td>0.762647</td>\n",
       "    </tr>\n",
       "    <tr>\n",
       "      <th>1</th>\n",
       "      <td>apesar</td>\n",
       "      <td>1</td>\n",
       "      <td>[1.4737017, -2.0915306, -0.7725572, -0.9709654...</td>\n",
       "      <td>1.505951</td>\n",
       "      <td>-1.844195</td>\n",
       "    </tr>\n",
       "    <tr>\n",
       "      <th>2</th>\n",
       "      <td>matado</td>\n",
       "      <td>2</td>\n",
       "      <td>[0.41868037, -1.2745695, 0.4692667, 0.8028619,...</td>\n",
       "      <td>0.579081</td>\n",
       "      <td>0.473435</td>\n",
       "    </tr>\n",
       "    <tr>\n",
       "      <th>3</th>\n",
       "      <td>books</td>\n",
       "      <td>3</td>\n",
       "      <td>[-0.5160581, -1.2895256, -1.379968, -1.163356,...</td>\n",
       "      <td>1.531998</td>\n",
       "      <td>0.597777</td>\n",
       "    </tr>\n",
       "    <tr>\n",
       "      <th>4</th>\n",
       "      <td>argumentou</td>\n",
       "      <td>4</td>\n",
       "      <td>[0.7462581, 0.4990972, -1.4993006, -0.06217622...</td>\n",
       "      <td>1.537176</td>\n",
       "      <td>0.908637</td>\n",
       "    </tr>\n",
       "  </tbody>\n",
       "</table>\n",
       "</div>"
      ],
      "text/plain": [
       "        words  id                                                emb  \\\n",
       "0     pedirem   0  [-0.7472434, 1.1953129, 0.6171143, 1.159434, 0...   \n",
       "1      apesar   1  [1.4737017, -2.0915306, -0.7725572, -0.9709654...   \n",
       "2      matado   2  [0.41868037, -1.2745695, 0.4692667, 0.8028619,...   \n",
       "3       books   3  [-0.5160581, -1.2895256, -1.379968, -1.163356,...   \n",
       "4  argumentou   4  [0.7462581, 0.4990972, -1.4993006, -0.06217622...   \n",
       "\n",
       "          x         y  \n",
       "0 -1.913741  0.762647  \n",
       "1  1.505951 -1.844195  \n",
       "2  0.579081  0.473435  \n",
       "3  1.531998  0.597777  \n",
       "4  1.537176  0.908637  "
      ]
     },
     "execution_count": 21,
     "metadata": {},
     "output_type": "execute_result"
    }
   ],
   "source": [
    "dataf[\"x\"] = XY[:, 0]\n",
    "dataf[\"y\"] = XY[:, 1]\n",
    "dataf.head()"
   ]
  },
  {
   "cell_type": "code",
   "execution_count": 22,
   "metadata": {},
   "outputs": [],
   "source": [
    "import altair as alt"
   ]
  },
  {
   "cell_type": "code",
   "execution_count": 23,
   "metadata": {},
   "outputs": [
    {
     "data": {
      "application/vnd.vegalite.v2+json": {
       "$schema": "https://vega.github.io/schema/vega-lite/v2.6.0.json",
       "config": {
        "background": "white",
        "view": {
         "height": 300,
         "width": 400
        }
       },
       "data": {
        "name": "data-74a7ed973983995ce993515546300d4d"
       },
       "datasets": {
        "data-74a7ed973983995ce993515546300d4d": [
         {
          "emb": [
           -0.7472434043884277,
           1.1953128576278687,
           0.6171143054962158,
           1.1594339609146118,
           0.7577781677246094,
           -2.8302595615386963,
           1.0384665727615356,
           -0.18790596723556519,
           -1.1853880882263184,
           -0.9015057682991028
          ],
          "id": 0,
          "words": "pedirem",
          "x": -1.9137405157089233,
          "y": 0.7626467347145081
         },
         {
          "emb": [
           1.4737017154693604,
           -2.0915305614471436,
           -0.7725571990013123,
           -0.9709654450416565,
           -0.0012343204580247402,
           0.2954636216163635,
           1.0504062175750732,
           -1.0468354225158691,
           -0.43818822503089905,
           -0.04852649196982384
          ],
          "id": 1,
          "words": "apesar",
          "x": 1.505951166152954,
          "y": -1.8441951274871826
         },
         {
          "emb": [
           0.4186803698539734,
           -1.2745695114135742,
           0.46926671266555786,
           0.8028619289398193,
           0.8229871392250061,
           0.09303630143404007,
           -0.595422089099884,
           1.0476839542388916,
           -0.23786380887031555,
           -0.3358322083950043
          ],
          "id": 2,
          "words": "matado",
          "x": 0.579081118106842,
          "y": 0.473434716463089
         },
         {
          "emb": [
           -0.516058087348938,
           -1.2895256280899048,
           -1.3799680471420288,
           -1.1633559465408325,
           0.14117056131362915,
           -0.687688946723938,
           -0.5832032561302185,
           1.3741424083709717,
           0.8756468892097473,
           0.9372921586036682
          ],
          "id": 3,
          "words": "books",
          "x": 1.531997561454773,
          "y": 0.5977773070335388
         },
         {
          "emb": [
           0.7462580800056458,
           0.49909719824790955,
           -1.4993005990982056,
           -0.06217622011899948,
           -2.0842034816741943,
           0.45836207270622253,
           -0.4478963613510132,
           0.02707827463746071,
           -1.2822694778442383,
           -1.2515182495117188
          ],
          "id": 4,
          "words": "argumentou",
          "x": 1.5371757745742798,
          "y": 0.908637285232544
         },
         {
          "emb": [
           -1.3550574779510498,
           0.8891080617904663,
           -2.0658812522888184,
           0.4645732343196869,
           -1.0357917547225952,
           -1.890276312828064,
           -0.0816245898604393,
           -0.4544154107570648,
           1.262457251548767,
           0.5886847376823425
          ],
          "id": 5,
          "words": "campanha",
          "x": -1.1766068935394287,
          "y": 1.6564866304397583
         },
         {
          "emb": [
           0.564192533493042,
           0.9410024881362915,
           1.416880488395691,
           -1.0649868249893188,
           0.3206722140312195,
           0.512479841709137,
           -0.9823585152626038,
           0.5090964436531067,
           -0.0753159299492836,
           -0.17409920692443848
          ],
          "id": 6,
          "words": "projetou",
          "x": 0.29407036304473877,
          "y": -0.8639823794364929
         },
         {
          "emb": [
           2.9079108238220215,
           -0.22539383172988892,
           -0.5959387421607971,
           1.1790943145751953,
           1.5064215660095215,
           1.8471466302871704,
           0.07556428015232086,
           -1.8778481483459473,
           2.2068450450897217,
           0.38542744517326355
          ],
          "id": 7,
          "words": "então",
          "x": -1.4220844507217407,
          "y": -2.215543508529663
         },
         {
          "emb": [
           -1.3751038312911987,
           0.8011475801467896,
           -0.13075944781303406,
           1.6990306377410889,
           1.4092329740524292,
           -0.5466213226318359,
           -0.24746261537075043,
           -1.8733017444610596,
           -0.1433648020029068,
           0.5878426432609558
          ],
          "id": 8,
          "words": "much",
          "x": -2.434781789779663,
          "y": 0.40319761633872986
         },
         {
          "emb": [
           0.11645567417144775,
           0.7761514186859131,
           -2.116039752960205,
           0.5792402029037476,
           0.5510063767433167,
           1.6809340715408325,
           1.607207179069519,
           -0.6175864934921265,
           2.301192045211792,
           0.3704373240470886
          ],
          "id": 9,
          "words": "outros",
          "x": -1.1999316215515137,
          "y": -0.07598064839839935
         },
         {
          "emb": [
           -0.32134348154067993,
           -1.6815812587738037,
           -0.3642873764038086,
           -0.938567042350769,
           0.4156978726387024,
           1.391076922416687,
           -0.7221877574920654,
           0.5628735423088074,
           -0.7427279353141785,
           -2.0233006477355957
          ],
          "id": 10,
          "words": "influente",
          "x": 2.3994040489196777,
          "y": 0.41387537121772766
         },
         {
          "emb": [
           0.5618994832038879,
           -0.09248083084821701,
           1.1238949298858643,
           0.847174346446991,
           -0.20841607451438904,
           2.8029890060424805,
           2.342736005783081,
           -1.9833799600601196,
           -1.5885279178619385,
           -0.4107663333415985
          ],
          "id": 11,
          "words": "hodges",
          "x": -0.5214719772338867,
          "y": -1.7249122858047485
         },
         {
          "emb": [
           0.30576378107070923,
           -0.7553151249885559,
           1.181943416595459,
           0.9155891537666321,
           0.1597737967967987,
           -0.3012206256389618,
           -1.2574419975280762,
           -0.3381866216659546,
           -0.9778299331665039,
           -1.2772659063339233
          ],
          "id": 12,
          "words": "fatal",
          "x": 0.07695247232913971,
          "y": 0.304466187953949
         },
         {
          "emb": [
           0.5119924545288086,
           0.9482152462005615,
           1.313226580619812,
           -0.24371372163295746,
           -1.0319629907608032,
           1.9107155799865723,
           0.9826622605323792,
           0.18420879542827606,
           -0.40637218952178955,
           -2.027871608734131
          ],
          "id": 13,
          "words": "recebeu",
          "x": 0.2614805996417999,
          "y": -0.32556119561195374
         },
         {
          "emb": [
           0.18941041827201843,
           0.08726858347654343,
           -1.6733696460723877,
           -0.8222095370292664,
           0.83088618516922,
           0.3834940493106842,
           -0.8172155022621155,
           0.8195671439170837,
           0.6856211423873901,
           -2.356787919998169
          ],
          "id": 14,
          "words": "unidos",
          "x": 1.296726942062378,
          "y": 0.8858441710472107
         },
         {
          "emb": [
           1.6914037466049194,
           -1.717449426651001,
           0.19593976438045502,
           0.2599336802959442,
           2.594174385070801,
           -0.3353794813156128,
           0.05566381290555,
           -0.025415420532226562,
           -0.11045938730239868,
           0.9256758689880371
          ],
          "id": 15,
          "words": "primeiros",
          "x": 0.1915893852710724,
          "y": -1.7112387418746948
         },
         {
          "emb": [
           -0.8719886541366577,
           1.4995185136795044,
           -2.454606056213379,
           0.6834993362426758,
           -0.8486324548721313,
           -0.3691519796848297,
           0.7259199023246765,
           -0.4390430450439453,
           -0.7374849915504456,
           -0.4248447120189667
          ],
          "id": 16,
          "words": "tratamento",
          "x": -0.3385506868362427,
          "y": 1.5720826387405396
         },
         {
          "emb": [
           -2.351511240005493,
           0.49051329493522644,
           -0.03501329943537712,
           1.639946460723877,
           0.33478933572769165,
           0.31119099259376526,
           1.2012560367584229,
           0.41733360290527344,
           0.26029983162879944,
           0.61822909116745
          ],
          "id": 17,
          "words": "índia",
          "x": -1.6060936450958252,
          "y": 1.7513909339904785
         },
         {
          "emb": [
           0.22291357815265656,
           1.9294309616088867,
           1.1062827110290527,
           -0.669038712978363,
           -0.6158848404884338,
           1.5278023481369019,
           -0.46792566776275635,
           -0.4062105119228363,
           -0.3428891897201538,
           -1.518335223197937
          ],
          "id": 18,
          "words": "aceitou",
          "x": -0.11459610611200333,
          "y": -0.4262281358242035
         },
         {
          "emb": [
           -0.8913447260856628,
           0.6171858906745911,
           -0.41010531783103943,
           -1.1349689960479736,
           0.17946025729179382,
           0.3480541706085205,
           0.8633185029029846,
           1.9816173315048218,
           -1.680704116821289,
           0.2673996686935425
          ],
          "id": 19,
          "words": "desenvolvimento",
          "x": 1.582737684249878,
          "y": 0.6211348176002502
         },
         {
          "emb": [
           -0.38759878277778625,
           0.5465473532676697,
           -0.09135311841964722,
           0.9702311158180237,
           -0.4839569926261902,
           -0.645045816898346,
           0.40343114733695984,
           0.8628372550010681,
           0.9365692138671875,
           -1.6421154737472534
          ],
          "id": 20,
          "words": "comprovados",
          "x": -0.7810463905334473,
          "y": 1.5907891988754272
         },
         {
          "emb": [
           0.6344982981681824,
           -0.3326267898082733,
           0.7035180926322937,
           1.9355354309082031,
           -0.32528018951416016,
           1.1287811994552612,
           -1.162698745727539,
           0.9373837113380432,
           0.153103768825531,
           -1.7366465330123901
          ],
          "id": 21,
          "words": "pesquisadores",
          "x": 0.02300308085978031,
          "y": 1.4949195384979248
         },
         {
          "emb": [
           -0.9934592843055725,
           -0.5636130571365356,
           -0.10359993577003479,
           -2.576885223388672,
           0.34190455079078674,
           1.2342909574508667,
           1.3485996723175049,
           0.8401114344596863,
           0.13549882173538208,
           -1.3939709663391113
          ],
          "id": 22,
          "words": "encontrar",
          "x": 1.882116675376892,
          "y": -0.5476133227348328
         },
         {
          "emb": [
           -0.7952966690063477,
           -0.015781905502080917,
           -3.255617141723633,
           1.146279215812683,
           -2.440699815750122,
           -0.7716413140296936,
           0.5877118110656738,
           0.797559380531311,
           0.5879582762718201,
           0.9918849468231201
          ],
          "id": 23,
          "words": "bem",
          "x": 0.3541985750198364,
          "y": 2.6154205799102783
         },
         {
          "emb": [
           -0.9678696990013123,
           -0.31527087092399597,
           1.4672178030014038,
           0.409890353679657,
           0.7209101915359497,
           -0.2627854645252228,
           -0.4127163589000702,
           -0.2532694637775421,
           0.4610500931739807,
           -0.17915987968444824
          ],
          "id": 24,
          "words": "memorial",
          "x": -0.9941307306289673,
          "y": 0.10036900639533997
         },
         {
          "emb": [
           -0.42313432693481445,
           -0.16200567781925201,
           -1.3082294464111328,
           -0.26123571395874023,
           -1.6231619119644165,
           -0.8352967500686646,
           0.4222117066383362,
           -1.2972710132598877,
           0.7478969693183899,
           0.15902264416217804
          ],
          "id": 25,
          "words": "computabilidade",
          "x": -0.2529617249965668,
          "y": 0.18391256034374237
         },
         {
          "emb": [
           -1.040049433708191,
           -1.3072658777236938,
           1.4047715663909912,
           1.5123075246810913,
           0.25503039360046387,
           1.0293651819229126,
           -0.24763119220733643,
           1.600062608718872,
           0.5190170407295227,
           1.4316246509552002
          ],
          "id": 26,
          "words": "ativistas",
          "x": -0.2676115930080414,
          "y": 1.1200631856918335
         },
         {
          "emb": [
           0.8786504864692688,
           1.0161643028259277,
           0.4099130630493164,
           0.38239532709121704,
           -0.20027416944503784,
           -0.911809504032135,
           -0.7134981751441956,
           1.000074863433838,
           1.0725315809249878,
           0.07390143722295761
          ],
          "id": 27,
          "words": "direcionada",
          "x": -0.7354046702384949,
          "y": 0.3586604595184326
         },
         {
          "emb": [
           0.04994070902466774,
           1.0177861452102661,
           1.4509299993515015,
           -0.1913415491580963,
           -0.6032207012176514,
           1.9121735095977783,
           -1.2118240594863892,
           -2.035569906234741,
           1.106926441192627,
           0.06765855848789215
          ],
          "id": 28,
          "words": "segunda",
          "x": -1.2028154134750366,
          "y": -1.235079288482666
         },
         {
          "emb": [
           -0.45239752531051636,
           0.2633448839187622,
           1.580202341079712,
           -4.022285461425781,
           -0.65800541639328,
           -0.3982101082801819,
           -0.4719714820384979,
           -0.44622913002967834,
           -0.5250557065010071,
           1.3683122396469116
          ],
          "id": 29,
          "words": "física",
          "x": 1.4837572574615479,
          "y": -2.534097194671631
         },
         {
          "emb": [
           -0.9318424463272095,
           0.1992470622062683,
           -0.41357421875,
           -1.2897671461105347,
           -0.7195584774017334,
           -0.04141567274928093,
           -0.145293191075325,
           1.5169470310211182,
           0.9092991352081299,
           -0.9543284773826599
          ],
          "id": 30,
          "words": "femininos",
          "x": 1.053853988647461,
          "y": 1.081318974494934
         },
         {
          "emb": [
           -1.1204746961593628,
           -0.7335238456726074,
           -1.3338505029678345,
           0.048024073243141174,
           -0.2316037267446518,
           1.3112744092941284,
           -1.0108832120895386,
           -0.12313482165336609,
           -0.8110432028770447,
           -0.3178447186946869
          ],
          "id": 31,
          "words": "decriptar",
          "x": 1.372206449508667,
          "y": 1.1685435771942139
         },
         {
          "emb": [
           2.011932373046875,
           -1.2499220371246338,
           0.5941378474235535,
           0.6428145170211792,
           -1.3256115913391113,
           1.5041087865829468,
           2.3573293685913086,
           1.7134239673614502,
           -0.47723641991615295,
           1.100709080696106
          ],
          "id": 32,
          "words": "morreu",
          "x": 1.1576931476593018,
          "y": -0.7639156579971313
         },
         {
          "emb": [
           -0.5723074674606323,
           -2.357266664505005,
           -0.11972770094871521,
           -0.3560696840286255,
           -0.8798119425773621,
           0.501794695854187,
           1.6505372524261475,
           0.5235447883605957,
           -0.6806333065032959,
           -0.2823723554611206
          ],
          "id": 33,
          "words": "armazenamento",
          "x": 1.6385395526885986,
          "y": 0.15217454731464386
         },
         {
          "emb": [
           -0.694283127784729,
           0.08290538191795349,
           0.4465370774269104,
           0.05871931090950966,
           -0.0784502848982811,
           0.5906925201416016,
           0.006178644951432943,
           0.6577416062355042,
           -0.7058573365211487,
           0.9434437155723572
          ],
          "id": 34,
          "words": "sir",
          "x": 0.2817222774028778,
          "y": 0.29548659920692444
         },
         {
          "emb": [
           0.32814082503318787,
           0.6362541317939758,
           -1.550870656967163,
           -0.7105413675308228,
           1.3395212888717651,
           0.35508620738983154,
           1.3355894088745117,
           0.7372964024543762,
           -0.9223160147666931,
           0.6246829032897949
          ],
          "id": 35,
          "words": "experiência",
          "x": 0.7516460418701172,
          "y": -0.47589874267578125
         },
         {
          "emb": [
           -1.5815119743347168,
           0.7385073900222778,
           -0.6007112860679626,
           1.9500246047973633,
           -0.2499864548444748,
           -1.7505009174346924,
           0.06332778185606003,
           1.2245038747787476,
           -2.350822925567627,
           -1.4828165769577026
          ],
          "id": 36,
          "words": "tempo",
          "x": -0.2278209924697876,
          "y": 3.107546806335449
         },
         {
          "emb": [
           -0.7294662594795227,
           1.2016818523406982,
           -0.6538876891136169,
           1.120642900466919,
           0.0038453359156847,
           0.20714804530143738,
           0.03863849490880966,
           -0.038181889802217484,
           -0.3889481723308563,
           -1.5908616781234741
          ],
          "id": 37,
          "words": "interagia",
          "x": -0.6882653832435608,
          "y": 1.5204063653945923
         },
         {
          "emb": [
           -2.139524459838867,
           -1.5945305824279785,
           -0.8373006582260132,
           2.3292205333709717,
           -1.128173589706421,
           -1.4549833536148071,
           0.6764864921569824,
           1.0312873125076294,
           0.8036908507347107,
           -1.9487369060516357
          ],
          "id": 38,
          "words": "processamento",
          "x": -0.5384958982467651,
          "y": 3.6298322677612305
         },
         {
          "emb": [
           -0.4791167974472046,
           -0.6580631732940674,
           0.1694561243057251,
           0.16123701632022858,
           0.4738365411758423,
           1.6462364196777344,
           -0.27349403500556946,
           -1.0499060153961182,
           0.10203930735588074,
           1.7540158033370972
          ],
          "id": 39,
          "words": "corpo",
          "x": -0.18157941102981567,
          "y": -0.8370862007141113
         },
         {
          "emb": [
           -1.0643223524093628,
           0.17134547233581543,
           -0.45059046149253845,
           1.4670382738113403,
           -0.8991893529891968,
           -0.7319981455802917,
           0.28616467118263245,
           -0.47507211565971375,
           -0.4133569598197937,
           1.7989813089370728
          ],
          "id": 40,
          "words": "conhecido",
          "x": -1.13174307346344,
          "y": 0.9873726963996887
         },
         {
          "emb": [
           0.6220316886901855,
           0.02020987682044506,
           -1.5795550346374512,
           -0.5741351842880249,
           1.0819343328475952,
           1.3960061073303223,
           -0.19581453502178192,
           0.007906043902039528,
           0.24947363138198853,
           -0.08669468760490417
          ],
          "id": 41,
          "words": "oficial",
          "x": 0.9187772870063782,
          "y": -0.42834222316741943
         },
         {
          "emb": [
           -0.7062914371490479,
           2.0958008766174316,
           0.2492128610610962,
           0.6892619729042053,
           0.8596688508987427,
           1.3987675905227661,
           -0.16203834116458893,
           -1.679472804069519,
           0.2600761651992798,
           -0.5617826581001282
          ],
          "id": 42,
          "words": "iniciais",
          "x": -1.938812494277954,
          "y": -0.1972040832042694
         },
         {
          "emb": [
           0.26097530126571655,
           0.8199626207351685,
           0.8292023539543152,
           -0.7664423584938049,
           -0.9823760986328125,
           0.2172607034444809,
           1.4483791589736938,
           0.5864703059196472,
           0.06986110657453537,
           -1.0170353651046753
          ],
          "id": 43,
          "words": "dose",
          "x": 0.07973034679889679,
          "y": -0.3537132143974304
         },
         {
          "emb": [
           -0.6261764764785767,
           -0.5094972848892212,
           -0.267037957906723,
           1.236985683441162,
           1.1366679668426514,
           -1.550779938697815,
           1.592774510383606,
           1.6596457958221436,
           -0.6191350221633911,
           0.5118420124053955
          ],
          "id": 44,
          "words": "massachusetts",
          "x": -0.46894270181655884,
          "y": 1.1495389938354492
         },
         {
          "emb": [
           1.4434657096862793,
           -0.02017573080956936,
           -0.9484855532646179,
           -2.2383439540863037,
           -2.7241172790527344,
           2.408477544784546,
           0.5218261480331421,
           1.9689311981201172,
           -2.4007010459899902,
           0.24742639064788818
          ],
          "id": 45,
          "words": "turing",
          "x": 4.2307634353637695,
          "y": -0.4208332598209381
         },
         {
          "emb": [
           0.8264018297195435,
           -0.09688817709684372,
           -1.4815679788589478,
           0.183503195643425,
           -1.095577359199524,
           0.2961401045322418,
           1.2517305612564087,
           0.36058005690574646,
           0.8697758913040161,
           -0.04458698630332947
          ],
          "id": 46,
          "words": "interessou",
          "x": 0.3128993511199951,
          "y": 0.2378798872232437
         },
         {
          "emb": [
           1.1523295640945435,
           2.18174409866333,
           1.5558037757873535,
           1.2654718160629272,
           1.5156875848770142,
           -0.23919373750686646,
           0.14927014708518982,
           -0.2803676426410675,
           0.8507465720176697,
           0.8162851929664612
          ],
          "id": 47,
          "words": "belousov",
          "x": -2.8020665645599365,
          "y": -1.0458582639694214
         },
         {
          "emb": [
           0.8119732737541199,
           -0.05272257700562477,
           -0.15663717687129974,
           -0.8115763664245605,
           0.22175918519496918,
           0.08502625674009323,
           1.4629428386688232,
           -0.773419976234436,
           -0.07561644166707993,
           1.9727486371994019
          ],
          "id": 48,
          "words": "podiam",
          "x": -0.16395437717437744,
          "y": -2.0016555786132812
         },
         {
          "emb": [
           -0.9346791505813599,
           0.45785054564476013,
           -0.46303460001945496,
           0.4650260806083679,
           0.43786248564720154,
           1.8351171016693115,
           -0.5299751162528992,
           1.0387109518051147,
           -0.017134321853518486,
           0.8120198249816895
          ],
          "id": 49,
          "words": "naval",
          "x": 0.32211971282958984,
          "y": 1.0322937965393066
         },
         {
          "emb": [
           1.1603668928146362,
           0.9658522009849548,
           0.6267849802970886,
           0.35253995656967163,
           1.4851938486099243,
           -0.4454874098300934,
           0.21921119093894958,
           -0.466685026884079,
           -0.46953919529914856,
           0.5369763374328613
          ],
          "id": 50,
          "words": "vida",
          "x": -1.0958917140960693,
          "y": -1.2893863916397095
         },
         {
          "emb": [
           -1.1885515451431274,
           0.41828006505966187,
           0.48451900482177734,
           1.2626904249191284,
           2.5042684078216553,
           2.8165688514709473,
           1.9409964084625244,
           -0.48354533314704895,
           0.4621107280254364,
           1.0606001615524292
          ],
          "id": 51,
          "words": "alegre",
          "x": -1.7849196195602417,
          "y": -0.5852468013763428
         },
         {
          "emb": [
           0.013051312416791916,
           -0.1765931248664856,
           -1.1055270433425903,
           -0.08086394518613815,
           0.5199916362762451,
           -1.6354652643203735,
           -0.5231974720954895,
           -1.4147963523864746,
           -0.6019599437713623,
           1.3720566034317017
          ],
          "id": 52,
          "words": "david",
          "x": -0.36733052134513855,
          "y": -0.5830482244491577
         },
         {
          "emb": [
           1.5724308490753174,
           -0.22530469298362732,
           1.1609288454055786,
           -0.5218417644500732,
           0.6792292594909668,
           -1.3836530447006226,
           0.5378072261810303,
           0.7748773097991943,
           -0.45501214265823364,
           0.1552719920873642
          ],
          "id": 53,
          "words": "disponíveis",
          "x": 0.1637464463710785,
          "y": -1.3101842403411865
         },
         {
          "emb": [
           1.782349944114685,
           0.09584484994411469,
           -0.1510777324438095,
           0.5376492142677307,
           0.3793613016605377,
           -0.4434150457382202,
           0.2092619240283966,
           -0.9368370771408081,
           -0.00737729063257575,
           0.38810208439826965
          ],
          "id": 54,
          "words": "veemência",
          "x": -0.6446038484573364,
          "y": -1.2383649349212646
         },
         {
          "emb": [
           -1.397013783454895,
           0.8411247730255127,
           0.8659801483154297,
           0.9779307246208191,
           -1.686049222946167,
           0.179582417011261,
           -1.6972428560256958,
           0.49499303102493286,
           0.5330539345741272,
           -0.9347633719444275
          ],
          "id": 55,
          "words": "bombe",
          "x": -0.588912308216095,
          "y": 2.1765737533569336
         },
         {
          "emb": [
           -0.1340537816286087,
           -1.0850743055343628,
           1.2442728281021118,
           -1.2633415460586548,
           0.5375611782073975,
           0.890241801738739,
           -1.0009247064590454,
           -0.2404061108827591,
           -0.4985749125480652,
           -0.9023595452308655
          ],
          "id": 56,
          "words": "quebra",
          "x": 1.2630082368850708,
          "y": -0.8833792209625244
         },
         {
          "emb": [
           -1.1136716604232788,
           -0.23118211328983307,
           0.6585452556610107,
           0.8281035423278809,
           -0.18857678771018982,
           -2.1702792644500732,
           0.9757928252220154,
           -0.5169726610183716,
           -0.7686817049980164,
           -0.7732788920402527
          ],
          "id": 57,
          "words": "hormônios",
          "x": -1.1389013528823853,
          "y": 0.7122174501419067
         },
         {
          "emb": [
           -1.5572479963302612,
           -0.991223156452179,
           -0.21365773677825928,
           -0.40994808077812195,
           -0.3931414484977722,
           0.39186394214630127,
           -0.17076656222343445,
           -1.1717543601989746,
           -0.5716986656188965,
           1.8146798610687256
          ],
          "id": 58,
          "words": "poderia",
          "x": 0.2881731390953064,
          "y": -0.2582348585128784
         },
         {
          "emb": [
           0.8671479821205139,
           0.7757628560066223,
           -0.2104211151599884,
           -0.9425601363182068,
           1.3276585340499878,
           -0.5347757935523987,
           0.4652635455131531,
           0.1427001953125,
           -1.3532521724700928,
           -0.7901164293289185
          ],
          "id": 59,
          "words": "equipamento",
          "x": 0.5469442009925842,
          "y": -0.9585411548614502
         },
         {
          "emb": [
           -0.7042792439460754,
           -0.7652080059051514,
           0.9816213846206665,
           -0.4119362235069275,
           -0.13150273263454437,
           -1.340804100036621,
           -0.16071359813213348,
           -0.5816763043403625,
           -2.1380844116210938,
           -1.0598069429397583
          ],
          "id": 60,
          "words": "crematório",
          "x": 0.6423196792602539,
          "y": -0.0396432988345623
         },
         {
          "emb": [
           0.6500686407089233,
           1.2866787910461426,
           -0.6674554944038391,
           -0.4877414405345917,
           -0.7948395609855652,
           -1.2519762516021729,
           -0.5116873979568481,
           -0.8270673155784607,
           0.5928454995155334,
           1.2532153129577637
          ],
          "id": 61,
          "words": "modo",
          "x": -0.7583937644958496,
          "y": -0.6209354400634766
         },
         {
          "emb": [
           -0.42099469900131226,
           -1.145135760307312,
           -1.2211227416992188,
           -0.7439051866531372,
           0.040857650339603424,
           0.3103225827217102,
           0.8113226890563965,
           0.17187172174453735,
           -0.39174360036849976,
           1.7638306617736816
          ],
          "id": 62,
          "words": "considerado",
          "x": 1.1412869691848755,
          "y": -0.39154210686683655
         },
         {
          "emb": [
           1.8564584255218506,
           -0.9214587211608887,
           -0.2014653980731964,
           -3.180018424987793,
           -0.26394885778427124,
           -0.057759083807468414,
           1.1125432252883911,
           -0.9698835015296936,
           0.4436040222644806,
           0.2536543011665344
          ],
          "id": 63,
          "words": "plausível",
          "x": 1.6429412364959717,
          "y": -3.2504072189331055
         },
         {
          "emb": [
           0.8147004842758179,
           0.7040408253669739,
           2.063570261001587,
           -0.9397209882736206,
           -0.1662328690290451,
           -1.0789480209350586,
           -0.7725604772567749,
           -0.8401786088943481,
           1.5877617597579956,
           0.45307788252830505
          ],
          "id": 64,
          "words": "dedicava",
          "x": -1.3614120483398438,
          "y": -1.7224098443984985
         },
         {
          "emb": [
           1.21805739402771,
           -0.6632683277130127,
           0.8959941864013672,
           0.7205414772033691,
           0.06039287522435188,
           0.3402267098426819,
           0.8548926115036011,
           -1.5576927661895752,
           0.11687052249908447,
           -0.8425145745277405
          ],
          "id": 65,
          "words": "residência",
          "x": -0.8270074129104614,
          "y": -1.3318885564804077
         },
         {
          "emb": [
           -0.45599454641342163,
           -0.22959163784980774,
           -0.4164353609085083,
           -0.489938348531723,
           0.13051792979240417,
           -0.5198425054550171,
           -0.03419257700443268,
           0.1751333624124527,
           0.7339735627174377,
           0.20946650207042694
          ],
          "id": 66,
          "words": "declarado",
          "x": 0.046011388301849365,
          "y": 0.14322437345981598
         },
         {
          "emb": [
           -0.4840724468231201,
           1.501476526260376,
           -0.5430577397346497,
           0.6948245167732239,
           0.4731215536594391,
           0.09766194969415665,
           0.08322323113679886,
           0.7663490772247314,
           0.6860995292663574,
           1.3101457357406616
          ],
          "id": 67,
          "words": "sistema",
          "x": -1.1261919736862183,
          "y": 0.7304703593254089
         },
         {
          "emb": [
           0.8959975838661194,
           0.880474865436554,
           -0.2537741959095001,
           1.3731056451797485,
           1.4844213724136353,
           -1.0210373401641846,
           0.6548120975494385,
           0.297119140625,
           -0.42286837100982666,
           -0.9077121615409851
          ],
          "id": 68,
          "words": "pai",
          "x": -1.1650844812393188,
          "y": 0.27545255422592163
         },
         {
          "emb": [
           -0.4847754240036011,
           0.11999054998159409,
           0.43067315220832825,
           -1.6969997882843018,
           0.20912732183933258,
           1.8233256340026855,
           -0.885998010635376,
           -0.556765079498291,
           1.3092901706695557,
           -0.24876022338867188
          ],
          "id": 69,
          "words": "frota",
          "x": 0.5062412619590759,
          "y": -0.9399281144142151
         },
         {
          "emb": [
           -1.1123803853988647,
           0.4785681962966919,
           -1.4891397953033447,
           1.0619984865188599,
           1.054196834564209,
           -1.1851578950881958,
           1.8876895904541016,
           -0.6055130362510681,
           -0.19607745110988617,
           -1.4680742025375366
          ],
          "id": 70,
          "words": "início",
          "x": -1.2996680736541748,
          "y": 1.082303762435913
         },
         {
          "emb": [
           1.0950381755828857,
           1.4936548471450806,
           -0.353982150554657,
           0.2632981240749359,
           -0.02646663971245289,
           -0.01722872443497181,
           0.18883508443832397,
           -0.1539389193058014,
           1.4334726333618164,
           0.49449431896209717
          ],
          "id": 71,
          "words": "forçado",
          "x": -1.2532179355621338,
          "y": -0.49689599871635437
         },
         {
          "emb": [
           -0.8200645446777344,
           1.614451289176941,
           0.1071820855140686,
           0.23908774554729462,
           0.5108100175857544,
           2.61832332611084,
           1.7405555248260498,
           -0.6203329563140869,
           0.06942160427570343,
           0.5384038090705872
          ],
          "id": 72,
          "words": "construídos",
          "x": -1.124009132385254,
          "y": -0.5454277396202087
         },
         {
          "emb": [
           -0.8692291378974915,
           0.3898826837539673,
           0.7524048686027527,
           -2.09696888923645,
           0.86027592420578,
           -2.238884925842285,
           0.6436342000961304,
           -1.163042426109314,
           -0.9551204442977905,
           0.9141011238098145
          ],
          "id": 73,
          "words": "norueguês",
          "x": -0.3551328778266907,
          "y": -1.760981798171997
         },
         {
          "emb": [
           1.416016697883606,
           2.9900426864624023,
           -2.0016467571258545,
           0.9590283632278442,
           0.11423004418611526,
           0.24973760545253754,
           -0.2382877916097641,
           -0.9555624127388,
           -0.9179810881614685,
           0.38779377937316895
          ],
          "id": 74,
          "words": "químicos",
          "x": -1.0269241333007812,
          "y": -0.041733626276254654
         },
         {
          "emb": [
           1.7238726615905762,
           1.0912880897521973,
           1.046045184135437,
           -0.5347440242767334,
           2.4493861198425293,
           0.495236873626709,
           1.0593165159225464,
           0.4407375156879425,
           1.0082792043685913,
           1.9452030658721924
          ],
          "id": 75,
          "words": "forma",
          "x": -1.21956205368042,
          "y": -2.550967216491699
         },
         {
          "emb": [
           -0.6694121956825256,
           -1.6306185722351074,
           -0.8137797117233276,
           -0.8377270698547363,
           -0.2394895851612091,
           0.5003076195716858,
           1.9604719877243042,
           2.0096042156219482,
           -0.03462952375411987,
           0.307594358921051
          ],
          "id": 76,
          "words": "cumberbatch",
          "x": 1.839875340461731,
          "y": 0.5328860282897949
         },
         {
          "emb": [
           -0.11400694400072098,
           1.1141353845596313,
           -1.1494325399398804,
           -0.8544943928718567,
           -0.25404173135757446,
           -0.025092177093029022,
           -0.43135684728622437,
           -0.3804202675819397,
           -0.4351513683795929,
           0.7974758148193359
          ],
          "id": 77,
          "words": "alemã",
          "x": 0.3355174958705902,
          "y": -0.19181318581104279
         },
         {
          "emb": [
           -1.669986367225647,
           -0.690259575843811,
           0.07359536737203598,
           -0.7155520915985107,
           0.8236246705055237,
           -0.44505852460861206,
           1.4154523611068726,
           -0.5121214389801025,
           -0.5396826863288879,
           2.1123194694519043
          ],
          "id": 78,
          "words": "projetos",
          "x": -0.28121739625930786,
          "y": -0.7636809945106506
         },
         {
          "emb": [
           0.01136159710586071,
           -1.0404794216156006,
           2.2463183403015137,
           -0.35105717182159424,
           0.8310613036155701,
           -0.27428823709487915,
           0.4640677869319916,
           -1.4082229137420654,
           -0.3836984634399414,
           1.0560609102249146
          ],
          "id": 79,
          "words": "estabeleceu",
          "x": -0.7973694801330566,
          "y": -2.106912136077881
         },
         {
          "emb": [
           -0.8208175301551819,
           -0.9577526450157166,
           -0.5428006649017334,
           1.7347161769866943,
           1.6265236139297485,
           -0.14227977395057678,
           0.6054771542549133,
           0.955462634563446,
           0.13338983058929443,
           0.4647941291332245
          ],
          "id": 80,
          "words": "vez",
          "x": -0.6069573163986206,
          "y": 1.2505671977996826
         },
         {
          "emb": [
           1.062361717224121,
           -0.03234951198101044,
           -0.5581464767456055,
           -1.258028268814087,
           2.8941800594329834,
           -0.23457583785057068,
           0.17472821474075317,
           0.5024421215057373,
           0.49509644508361816,
           -0.3600301444530487
          ],
          "id": 81,
          "words": "acidentes",
          "x": 0.42616045475006104,
          "y": -1.4054415225982666
         },
         {
          "emb": [
           0.8411988019943237,
           -0.26741430163383484,
           -1.5870425701141357,
           -0.7135385870933533,
           -0.3809554874897003,
           -0.4063369035720825,
           -0.41512492299079895,
           0.20965498685836792,
           -1.48879873752594,
           -0.8775134682655334
          ],
          "id": 82,
          "words": "andava",
          "x": 1.8683375120162964,
          "y": 0.18358196318149567
         },
         {
          "emb": [
           -0.6970397233963013,
           -0.1319369673728943,
           -1.1740591526031494,
           0.00876031257212162,
           -1.4148002862930298,
           -0.18126240372657776,
           1.5934934616088867,
           -1.0404642820358276,
           -0.04305361956357956,
           -1.2041255235671997
          ],
          "id": 83,
          "words": "hoje",
          "x": -0.047554999589920044,
          "y": 0.5074834823608398
         },
         {
          "emb": [
           -0.7691630125045776,
           0.9201506972312927,
           0.027621133252978325,
           -0.428499698638916,
           -1.8629382848739624,
           0.22628751397132874,
           -1.2826604843139648,
           0.495315819978714,
           -2.1511645317077637,
           -0.14479155838489532
          ],
          "id": 84,
          "words": "indiciam",
          "x": 1.3625766038894653,
          "y": 1.1606651544570923
         },
         {
          "emb": [
           -0.0870118960738182,
           -0.225070521235466,
           -2.144749402999878,
           1.2148467302322388,
           -0.652312695980072,
           -1.8821498155593872,
           -0.7737415432929993,
           0.45222121477127075,
           -0.0035700968001037836,
           -0.5014656782150269
          ],
          "id": 85,
          "words": "delineada",
          "x": 0.13013313710689545,
          "y": 2.0940256118774414
         },
         {
          "emb": [
           -0.8133408427238464,
           -0.031946972012519836,
           -0.4414783716201782,
           1.151103138923645,
           0.21394334733486176,
           1.2773220539093018,
           -1.579720377922058,
           -0.10659071803092957,
           0.2220703661441803,
           0.12847353518009186
          ],
          "id": 86,
          "words": "pós",
          "x": -0.15595054626464844,
          "y": 1.2483688592910767
         },
         {
          "emb": [
           0.6545879244804382,
           -0.2459069788455963,
           0.9082501530647278,
           0.4374394714832306,
           -0.3480100929737091,
           -0.3250589072704315,
           -0.9717154502868652,
           -0.08133833110332489,
           -1.224316954612732,
           -1.7723941802978516
          ],
          "id": 87,
          "words": "queriam",
          "x": 0.5016694664955139,
          "y": 0.27968788146972656
         },
         {
          "emb": [
           -0.23492544889450073,
           2.0129611492156982,
           -1.3937016725540161,
           0.90087890625,
           0.4732500910758972,
           -1.5105427503585815,
           -1.5704385042190552,
           -0.263937383890152,
           -0.6873267889022827,
           -1.2906867265701294
          ],
          "id": 88,
          "words": "escreveu",
          "x": -0.8211455941200256,
          "y": 1.6169718503952026
         },
         {
          "emb": [
           -1.1435908079147339,
           0.613169252872467,
           -0.3302333652973175,
           0.20919543504714966,
           0.8496633768081665,
           0.8308441638946533,
           0.7199578881263733,
           0.22095724940299988,
           -3.310870885848999,
           0.18411868810653687
          ],
          "id": 89,
          "words": "ferro",
          "x": 0.8125512599945068,
          "y": 0.4552888572216034
         },
         {
          "emb": [
           0.1657683104276657,
           -1.1977297067642212,
           0.8953709006309509,
           -0.784761905670166,
           0.2782498300075531,
           -0.48417526483535767,
           -0.6431586146354675,
           0.583436906337738,
           0.7240021824836731,
           -0.9363501667976379
          ],
          "id": 90,
          "words": "obrigando",
          "x": 0.7090581059455872,
          "y": -0.21907544136047363
         },
         {
          "emb": [
           -0.7276632189750671,
           -1.6541364192962646,
           -0.6533520817756653,
           -0.8378772139549255,
           -1.326676845550537,
           -0.18897512555122375,
           -0.6470640301704407,
           1.3073867559432983,
           0.38758620619773865,
           0.8062573671340942
          ],
          "id": 91,
          "words": "tendo",
          "x": 1.8419837951660156,
          "y": 0.949326753616333
         },
         {
          "emb": [
           0.5962691903114319,
           -0.11263293027877808,
           1.6022465229034424,
           -1.7028605937957764,
           -0.47829675674438477,
           -1.2134679555892944,
           0.07074566185474396,
           -0.5015966296195984,
           0.04996725916862488,
           -1.196470022201538
          ],
          "id": 92,
          "words": "encontrada",
          "x": 0.26739516854286194,
          "y": -1.444170594215393
         },
         {
          "emb": [
           0.31664326786994934,
           0.28983816504478455,
           1.298337459564209,
           1.9395575523376465,
           -0.2904738783836365,
           -1.0216144323349,
           -0.28083688020706177,
           1.680516242980957,
           1.076811671257019,
           -2.20585298538208
          ],
          "id": 93,
          "words": "ethel",
          "x": -1.1621317863464355,
          "y": 1.9209721088409424
         },
         {
          "emb": [
           1.1263831853866577,
           -0.35466817021369934,
           0.49564793705940247,
           -0.037953540682792664,
           1.1283204555511475,
           2.2255587577819824,
           -0.1533113718032837,
           -0.5892006754875183,
           -2.437329053878784,
           -0.8852441310882568
          ],
          "id": 94,
          "words": "tal",
          "x": 1.3363755941390991,
          "y": -1.2450588941574097
         },
         {
          "emb": [
           -0.34099894762039185,
           -0.4758172631263733,
           0.07421650737524033,
           -0.686120331287384,
           -0.6380934119224548,
           1.697364091873169,
           0.18290886282920837,
           -0.061871036887168884,
           -0.32433536648750305,
           0.6763171553611755
          ],
          "id": 95,
          "words": "solicitando",
          "x": 1.0006951093673706,
          "y": -0.43667101860046387
         },
         {
          "emb": [
           -0.8181578516960144,
           0.5101604461669922,
           -0.611662745475769,
           0.8901913166046143,
           -0.896368145942688,
           0.7692821025848389,
           1.7344343662261963,
           -1.652644395828247,
           -0.48841094970703125,
           0.09971752017736435
          ],
          "id": 96,
          "words": "petição",
          "x": -1.0727143287658691,
          "y": 0.0558684766292572
         },
         {
          "emb": [
           0.14322784543037415,
           -1.4930329322814941,
           -0.0013627414591610432,
           1.779584288597107,
           0.904660701751709,
           0.20593583583831787,
           -0.5848664045333862,
           0.8934656977653503,
           1.2487232685089111,
           1.200325608253479
          ],
          "id": 97,
          "words": "stoney",
          "x": -0.5225247740745544,
          "y": 0.7827566862106323
         },
         {
          "emb": [
           2.8132553100585938,
           -1.615000605583191,
           -1.1719305515289307,
           -1.5024954080581665,
           0.7286710739135742,
           -1.081687092781067,
           0.19450916349887848,
           0.02497311681509018,
           -1.2961138486862183,
           0.4006558358669281
          ],
          "id": 98,
          "words": "diferenciar",
          "x": 2.281796932220459,
          "y": -2.1525304317474365
         },
         {
          "emb": [
           -0.6781123280525208,
           -0.7665878534317017,
           -0.1736723929643631,
           -1.0559942722320557,
           -0.32318586111068726,
           1.0060374736785889,
           0.61167973279953,
           -0.48894473910331726,
           1.0901095867156982,
           -0.741325318813324
          ],
          "id": 99,
          "words": "chefe",
          "x": 0.496073454618454,
          "y": -0.3613458275794983
         },
         {
          "emb": [
           -0.7952162027359009,
           -0.47214123606681824,
           0.5736831426620483,
           1.0937576293945312,
           0.7875728607177734,
           -0.3106376528739929,
           1.178193211555481,
           0.2657144069671631,
           -1.6044665575027466,
           -0.3641054332256317
          ],
          "id": 100,
          "words": "novas",
          "x": -0.3107033669948578,
          "y": 0.5482600927352905
         },
         {
          "emb": [
           -1.6542311906814575,
           2.224627733230591,
           0.9775635004043579,
           0.40360283851623535,
           1.1796611547470093,
           -0.9516769647598267,
           0.7685213685035706,
           0.6954399943351746,
           2.3227784633636475,
           0.6817320585250854
          ],
          "id": 101,
          "words": "pedidos",
          "x": -2.980100154876709,
          "y": 0.6328098177909851
         },
         {
          "emb": [
           1.7115362882614136,
           0.042370811104774475,
           -0.33715125918388367,
           0.09828653186559677,
           -1.1202332973480225,
           1.282342553138733,
           -0.6661790609359741,
           0.34303203225135803,
           0.1598050743341446,
           -1.387172818183899
          ],
          "id": 102,
          "words": "rejewski",
          "x": 1.0835734605789185,
          "y": 0.04912036657333374
         },
         {
          "emb": [
           -0.6020088195800781,
           0.661389946937561,
           0.1402239203453064,
           1.0715556144714355,
           -0.7755841016769409,
           -0.41240647435188293,
           0.4681202471256256,
           0.7869763374328613,
           0.10657384991645813,
           -1.4928606748580933
          ],
          "id": 103,
          "words": "concedida",
          "x": -0.612838864326477,
          "y": 1.6523106098175049
         },
         {
          "emb": [
           -1.04115891456604,
           -0.5499923229217529,
           0.3540779650211334,
           -0.6702560186386108,
           1.4810200929641724,
           0.14893509447574615,
           -0.8748666644096375,
           0.7235644459724426,
           -0.19183477759361267,
           -1.3445073366165161
          ],
          "id": 104,
          "words": "venenosa",
          "x": 0.7875573635101318,
          "y": 0.5448582768440247
         },
         {
          "emb": [
           0.27329951524734497,
           -0.24005265533924103,
           -1.112151026725769,
           1.4626660346984863,
           0.5460246801376343,
           1.2203036546707153,
           -0.20193959772586823,
           -0.6602897644042969,
           0.5269097089767456,
           -0.7659505009651184
          ],
          "id": 105,
          "words": "alemães",
          "x": -0.45536988973617554,
          "y": 0.6206634044647217
         },
         {
          "emb": [
           -1.6319878101348877,
           -1.9638524055480957,
           0.17289960384368896,
           0.07372524589300156,
           -0.7143017649650574,
           1.7324671745300293,
           -1.583009958267212,
           -1.1736525297164917,
           -0.7025734186172485,
           1.3734949827194214
          ],
          "id": 106,
          "words": "ministro",
          "x": 1.0700068473815918,
          "y": 0.2507016062736511
         },
         {
          "emb": [
           0.06854958832263947,
           -0.49805501103401184,
           0.30858805775642395,
           -0.4161481559276581,
           -0.1484585553407669,
           -2.3292181491851807,
           1.094458818435669,
           -0.027677319943904877,
           1.155853509902954,
           0.8417350649833679
          ],
          "id": 107,
          "words": "filho",
          "x": -0.9004290699958801,
          "y": -0.6149303913116455
         },
         {
          "emb": [
           0.10110630095005035,
           -0.9438969492912292,
           0.2407352477312088,
           -1.1876405477523804,
           -0.4791140854358673,
           0.2116485983133316,
           -1.5416861772537231,
           -0.8273400664329529,
           0.06321960687637329,
           1.0436856746673584
          ],
          "id": 108,
          "words": "comerciantes",
          "x": 0.9651114344596863,
          "y": -0.9751837253570557
         },
         {
          "emb": [
           -0.14520294964313507,
           -0.15656059980392456,
           1.108180046081543,
           2.4490089416503906,
           0.7809274792671204,
           -1.2161123752593994,
           1.7328065633773804,
           -0.6583664417266846,
           0.03659607097506523,
           0.892813503742218
          ],
          "id": 109,
          "words": "paddington",
          "x": -2.661487579345703,
          "y": -0.028979774564504623
         },
         {
          "emb": [
           0.10862266272306442,
           -0.2436584234237671,
           -0.4196118712425232,
           0.6901810169219971,
           1.7255178689956665,
           -1.820583462715149,
           1.586792230606079,
           -0.19636772572994232,
           -0.3882984519004822,
           -0.6413837671279907
          ],
          "id": 110,
          "words": "comprovar",
          "x": -0.9934784770011902,
          "y": -0.14851346611976624
         },
         {
          "emb": [
           -1.3190228939056396,
           1.4653953313827515,
           1.6323691606521606,
           1.6019539833068848,
           -0.51212477684021,
           0.5748937726020813,
           1.1745073795318604,
           0.2802574634552002,
           -0.48132240772247314,
           0.5051685571670532
          ],
          "id": 111,
          "words": "defende",
          "x": -1.9072530269622803,
          "y": 0.8684945702552795
         },
         {
          "emb": [
           1.0089858770370483,
           0.4640907049179077,
           0.4568159580230713,
           0.9101037383079529,
           1.4841269254684448,
           1.0245425701141357,
           0.2666867673397064,
           0.0852956548333168,
           0.8373748660087585,
           0.8240557312965393
          ],
          "id": 112,
          "words": "oficiais",
          "x": -1.1366654634475708,
          "y": -0.8336635231971741
         },
         {
          "emb": [
           0.6931975483894348,
           0.07548501342535019,
           0.8694841861724854,
           1.6231796741485596,
           -0.2798124849796295,
           0.4786455035209656,
           1.189794659614563,
           0.03127888962626457,
           1.4072341918945312,
           -0.44024407863616943
          ],
          "id": 113,
          "words": "grayling",
          "x": -1.6033412218093872,
          "y": 0.06952005624771118
         },
         {
          "emb": [
           2.2195699214935303,
           0.9131643772125244,
           0.7178264856338501,
           0.1376938670873642,
           1.007798433303833,
           -1.841955304145813,
           -1.6360485553741455,
           0.7984582781791687,
           -1.5018699169158936,
           1.3215078115463257
          ],
          "id": 114,
          "words": "intelligence",
          "x": 0.07019862532615662,
          "y": -0.9543507695198059
         },
         {
          "emb": [
           1.0595098733901978,
           1.0841553211212158,
           -0.10111025720834732,
           1.363033413887024,
           -0.14877037703990936,
           0.5082336068153381,
           0.3442946970462799,
           -0.08328671008348465,
           -0.7654648423194885,
           0.5059043765068054
          ],
          "id": 115,
          "words": "dar",
          "x": -0.7398599982261658,
          "y": -0.03255433589220047
         },
         {
          "emb": [
           -0.6456806063652039,
           1.5084198713302612,
           0.402221143245697,
           -0.29970231652259827,
           0.8310507535934448,
           0.847370445728302,
           0.8739050030708313,
           -0.8098276853561401,
           0.6773813962936401,
           -0.6240890026092529
          ],
          "id": 116,
          "words": "mal",
          "x": -1.3369616270065308,
          "y": -0.5651487708091736
         },
         {
          "emb": [
           -0.3218468129634857,
           -1.4810189008712769,
           -2.6842291355133057,
           0.2362375259399414,
           -1.1031668186187744,
           -0.5268027782440186,
           -0.8950785994529724,
           2.2213189601898193,
           -1.1964629888534546,
           1.2757072448730469
          ],
          "id": 117,
          "words": "telefilme",
          "x": 2.687091588973999,
          "y": 2.2567834854125977
         },
         {
          "emb": [
           0.5570277571678162,
           -0.06053270772099495,
           2.154909133911133,
           0.3817185163497925,
           -2.0675580501556396,
           0.21853451430797577,
           0.6228988170623779,
           -0.2446678876876831,
           0.526513397693634,
           0.7139831185340881
          ],
          "id": 118,
          "words": "mostrou",
          "x": -0.8066298365592957,
          "y": -0.7319490909576416
         },
         {
          "emb": [
           -0.3453819751739502,
           1.5219415426254272,
           0.7660863995552063,
           0.41082513332366943,
           0.2770056128501892,
           0.2770662009716034,
           0.34809747338294983,
           0.3627929091453552,
           -1.3767077922821045,
           1.110398530960083
          ],
          "id": 119,
          "words": "eletromecânico",
          "x": -0.6575354933738708,
          "y": -0.05377385392785072
         },
         {
          "emb": [
           0.2602623403072357,
           0.6729665994644165,
           -0.9280892610549927,
           -1.444828748703003,
           1.8196923732757568,
           -1.2627023458480835,
           0.6653009653091431,
           -0.14519821107387543,
           -0.6797921657562256,
           -0.14397209882736206
          ],
          "id": 120,
          "words": "impedido",
          "x": 0.2574808895587921,
          "y": -1.0687004327774048
         },
         {
          "emb": [
           -0.7276192307472229,
           -1.0742844343185425,
           -1.3807905912399292,
           0.48648756742477417,
           0.9133428335189819,
           0.19253894686698914,
           -1.077366828918457,
           -0.013188639655709267,
           0.5573545694351196,
           -0.8062517642974854
          ],
          "id": 121,
          "words": "favorito",
          "x": 0.47977346181869507,
          "y": 1.1873186826705933
         },
         {
          "emb": [
           1.448193073272705,
           -0.5770506262779236,
           0.35571765899658203,
           -0.7350595593452454,
           0.47092947363853455,
           -1.4015339612960815,
           0.22805514931678772,
           -1.7717291116714478,
           0.630430281162262,
           -0.6300179362297058
          ],
          "id": 122,
          "words": "planejou",
          "x": -0.5636966228485107,
          "y": -1.9911614656448364
         },
         {
          "emb": [
           -0.5346503853797913,
           -0.780396580696106,
           -1.7532727718353271,
           -0.25772276520729065,
           -0.18648868799209595,
           -0.2523224353790283,
           -2.480574131011963,
           0.5762839913368225,
           -0.1250433474779129,
           1.2667359113693237
          ],
          "id": 123,
          "words": "biógrafo",
          "x": 1.5030511617660522,
          "y": 1.217521071434021
         },
         {
          "emb": [
           -0.2800721526145935,
           0.09364018589258194,
           -0.32529187202453613,
           -0.31442147493362427,
           1.590924859046936,
           -0.5142008066177368,
           -1.399259328842163,
           2.6005663871765137,
           -0.47580695152282715,
           -0.34463295340538025
          ],
          "id": 124,
          "words": "poderiam",
          "x": 1.2606433629989624,
          "y": 1.3371599912643433
         },
         {
          "emb": [
           0.03854818269610405,
           1.0614057779312134,
           0.8283659815788269,
           0.6272343993186951,
           0.7246838808059692,
           -1.2466838359832764,
           0.5838143825531006,
           0.6397472620010376,
           -1.915575385093689,
           -0.05576878786087036
          ],
          "id": 125,
          "words": "vale",
          "x": -0.5689477920532227,
          "y": 0.18236280977725983
         },
         {
          "emb": [
           2.1969897747039795,
           -0.04447243735194206,
           0.875701904296875,
           -1.2677857875823975,
           -0.37677592039108276,
           1.1325029134750366,
           -0.4076072871685028,
           -0.31602194905281067,
           0.510466456413269,
           -0.5137171149253845
          ],
          "id": 126,
          "words": "trazido",
          "x": 0.8624165058135986,
          "y": -2.001607894897461
         },
         {
          "emb": [
           1.2340346574783325,
           -0.22161903977394104,
           1.4315111637115479,
           0.5297191739082336,
           -1.0005419254302979,
           0.3404000401496887,
           -0.5742673873901367,
           -1.5105925798416138,
           0.7993274331092834,
           -1.4373823404312134
          ],
          "id": 127,
          "words": "teoria",
          "x": -0.8037725687026978,
          "y": -0.8607504963874817
         },
         {
          "emb": [
           -0.43148961663246155,
           3.034900665283203,
           -0.0614192821085453,
           -1.393009901046753,
           -0.7879055142402649,
           -0.8520035147666931,
           1.2657960653305054,
           -1.0218119621276855,
           0.7461379170417786,
           -0.3284062147140503
          ],
          "id": 128,
          "words": "testada",
          "x": -1.5948117971420288,
          "y": -0.7700861096382141
         },
         {
          "emb": [
           -0.30230456590652466,
           0.23401924967765808,
           0.262655109167099,
           0.8245863318443298,
           -0.9369638562202454,
           -1.3972342014312744,
           -1.2641208171844482,
           1.980207085609436,
           0.2339784950017929,
           -0.5665022134780884
          ],
          "id": 129,
          "words": "estados",
          "x": 0.15085941553115845,
          "y": 2.140848398208618
         },
         {
          "emb": [
           -0.9221495389938354,
           0.7314167618751526,
           -1.236166000366211,
           1.5410512685775757,
           -0.9461646676063538,
           -0.8745564222335815,
           0.5646708607673645,
           0.1261574774980545,
           -0.09871480613946915,
           -0.375118613243103
          ],
          "id": 130,
          "words": "transatlânticos",
          "x": -0.9154754877090454,
          "y": 1.9692227840423584
         },
         {
          "emb": [
           1.1093640327453613,
           0.2821936011314392,
           1.8027960062026978,
           -1.270067811012268,
           0.012103940360248089,
           0.6759669184684753,
           -0.46413663029670715,
           1.4710524082183838,
           -0.012866652570664883,
           0.13701044023036957
          ],
          "id": 131,
          "words": "anglo",
          "x": 0.9557406902313232,
          "y": -1.0829339027404785
         },
         {
          "emb": [
           1.2609343528747559,
           0.19270353019237518,
           1.2131218910217285,
           -1.4684261083602905,
           -0.3924533724784851,
           -0.06416620314121246,
           -1.8560607433319092,
           0.17002643644809723,
           -0.9453171491622925,
           -0.2988000810146332
          ],
          "id": 132,
          "words": "mensagens",
          "x": 1.3705612421035767,
          "y": -1.1237940788269043
         },
         {
          "emb": [
           -1.0050603151321411,
           0.5233522057533264,
           -0.07569190114736557,
           0.7256284356117249,
           -0.246686190366745,
           -0.6579197645187378,
           -0.19474007189273834,
           0.19226251542568207,
           0.5908008813858032,
           -0.783456563949585
          ],
          "id": 133,
          "words": "teórica",
          "x": -0.869726300239563,
          "y": 1.3469334840774536
         },
         {
          "emb": [
           -0.08457759767770767,
           0.5728229880332947,
           -0.3094671666622162,
           0.10281864553689957,
           -0.17674557864665985,
           -2.0211169719696045,
           -1.3739875555038452,
           2.328758716583252,
           -2.0802173614501953,
           1.1016031503677368
          ],
          "id": 134,
          "words": "cremado",
          "x": 1.1753307580947876,
          "y": 1.5157536268234253
         },
         {
          "emb": [
           0.1889098584651947,
           -0.2875763475894928,
           -1.7229503393173218,
           -0.05452220141887665,
           0.9891223907470703,
           -0.5625899434089661,
           0.5331848859786987,
           1.6486026048660278,
           1.4146631956100464,
           0.27232658863067627
          ],
          "id": 135,
          "words": "direcionado",
          "x": 0.33075952529907227,
          "y": 0.7737991213798523
         },
         {
          "emb": [
           0.41181471943855286,
           2.1029903888702393,
           1.6484943628311157,
           -0.3296624422073364,
           -0.7623338103294373,
           1.2106962203979492,
           0.9831573963165283,
           -0.7390344142913818,
           0.6617090702056885,
           -0.09258607774972916
          ],
          "id": 136,
          "words": "sob",
          "x": -1.4901715517044067,
          "y": -1.2640931606292725
         },
         {
          "emb": [
           -0.3051877021789551,
           0.4902917742729187,
           -0.2920845150947571,
           -0.5198283195495605,
           0.3655916154384613,
           -0.970695436000824,
           -2.3728926181793213,
           0.4250570833683014,
           2.346774101257324,
           -0.384543240070343
          ],
          "id": 137,
          "words": "partir",
          "x": -0.4402044713497162,
          "y": 0.7917410731315613
         },
         {
          "emb": [
           -1.1693456172943115,
           -0.057378076016902924,
           -1.2429605722427368,
           0.1603110283613205,
           -1.6647428274154663,
           -1.7414196729660034,
           -0.4645504951477051,
           -1.0201836824417114,
           -0.6296416521072388,
           -1.7367082834243774
          ],
          "id": 138,
          "words": "mathematics",
          "x": 0.16618597507476807,
          "y": 1.619566798210144
         },
         {
          "emb": [
           0.38943958282470703,
           0.5115911364555359,
           0.699662983417511,
           1.9156301021575928,
           0.1356573849916458,
           0.7085509896278381,
           0.9211601614952087,
           -0.38868850469589233,
           1.3731070756912231,
           -0.38868051767349243
          ],
          "id": 139,
          "words": "apoio",
          "x": -2.062265157699585,
          "y": 0.18554793298244476
         },
         {
          "emb": [
           2.7013537883758545,
           -0.019213363528251648,
           -2.0649330615997314,
           -1.1726787090301514,
           0.7681527733802795,
           -0.297366201877594,
           0.667014479637146,
           1.6553386449813843,
           1.5791372060775757,
           0.8430395722389221
          ],
          "id": 140,
          "words": "homossexual",
          "x": 1.1865649223327637,
          "y": -1.1102994680404663
         },
         {
          "emb": [
           -0.6524951457977295,
           0.6521033048629761,
           -0.25225093960762024,
           -0.6113483309745789,
           -0.5879579782485962,
           -0.1841079145669937,
           -0.745985209941864,
           -0.8314139246940613,
           -1.2739835977554321,
           -2.110429286956787
          ],
          "id": 141,
          "words": "compatíveis",
          "x": 0.6192780137062073,
          "y": 0.5527334809303284
         },
         {
          "emb": [
           0.06578941643238068,
           1.3144447803497314,
           -0.9584558010101318,
           0.5458582043647766,
           1.3794139623641968,
           -0.936399519443512,
           -1.358621597290039,
           -1.5535589456558228,
           -1.4471755027770996,
           0.17327897250652313
          ],
          "id": 142,
          "words": "ideia",
          "x": -0.8263472318649292,
          "y": -0.1246349960565567
         },
         {
          "emb": [
           -0.4908874034881592,
           0.8749839067459106,
           -2.3086190223693848,
           -1.0285664796829224,
           -1.1436395645141602,
           -0.9826444983482361,
           -1.8704299926757812,
           0.8436197638511658,
           -1.3360590934753418,
           -2.6168322563171387
          ],
          "id": 143,
          "words": "dezembro",
          "x": 2.201037883758545,
          "y": 2.2317087650299072
         },
         {
          "emb": [
           1.552517056465149,
           1.5709984302520752,
           1.702231764793396,
           -1.9845008850097656,
           -0.7754769921302795,
           0.4948905408382416,
           1.2558026313781738,
           -1.7653354406356812,
           -0.6786196827888489,
           1.5664969682693481
          ],
          "id": 144,
          "words": "colossus",
          "x": -0.5043416619300842,
          "y": -3.601097345352173
         },
         {
          "emb": [
           0.30992043018341064,
           -1.4929120540618896,
           -0.3972986936569214,
           -0.23443995416164398,
           0.07194789499044418,
           -1.5012820959091187,
           0.36954325437545776,
           -0.05631492659449577,
           -1.0610504150390625,
           -0.8451066613197327
          ],
          "id": 145,
          "words": "criado",
          "x": 0.9955019354820251,
          "y": -0.041567448526620865
         },
         {
          "emb": [
           0.3881623446941376,
           -0.2873714566230774,
           -0.17997464537620544,
           -0.31479552388191223,
           -0.0212524626404047,
           1.6416460275650024,
           1.1200295686721802,
           1.1250085830688477,
           -0.7157758474349976,
           -0.35929441452026367
          ],
          "id": 146,
          "words": "ingerida",
          "x": 1.3045271635055542,
          "y": -0.09329504519701004
         },
         {
          "emb": [
           0.53486567735672,
           0.9912335276603699,
           0.08224914968013763,
           -0.7546585202217102,
           -0.1481669694185257,
           0.23692424595355988,
           -1.198683261871338,
           1.3468818664550781,
           0.04208144173026085,
           -0.3658471703529358
          ],
          "id": 147,
          "words": "jon",
          "x": 0.845527172088623,
          "y": 0.3319260776042938
         },
         {
          "emb": [
           -1.0733805894851685,
           1.3114036321640015,
           -0.2645138204097748,
           -2.423609972000122,
           0.9250662326812744,
           1.485573410987854,
           -0.5030877590179443,
           0.9806978106498718,
           0.5609383583068848,
           0.15431229770183563
          ],
          "id": 148,
          "words": "havia",
          "x": 1.0399036407470703,
          "y": -0.34766608476638794
         },
         {
          "emb": [
           -0.9807309508323669,
           -1.0974962711334229,
           0.15738502144813538,
           -0.883244514465332,
           1.1339919567108154,
           1.4600430727005005,
           -0.7260832190513611,
           3.171008586883545,
           -0.5834820866584778,
           0.6661322712898254
          ],
          "id": 149,
          "words": "descoberto",
          "x": 2.409977674484253,
          "y": 1.0437926054000854
         },
         {
          "emb": [
           -0.10313435643911362,
           -0.6898943185806274,
           -0.943719208240509,
           -0.17939448356628418,
           1.0524941682815552,
           1.0716404914855957,
           0.6972978711128235,
           0.5362464785575867,
           -1.46139657497406,
           -1.2336645126342773
          ],
          "id": 150,
          "words": "ajudaria",
          "x": 1.488749384880066,
          "y": 0.27199408411979675
         },
         {
          "emb": [
           0.3130321204662323,
           -0.5000678300857544,
           -1.1113711595535278,
           -0.09666666388511658,
           1.3401844501495361,
           1.1965134143829346,
           -0.33700862526893616,
           -0.3241490125656128,
           0.28091785311698914,
           -0.5288838744163513
          ],
          "id": 151,
          "words": "química",
          "x": 0.5656076669692993,
          "y": -0.25492292642593384
         },
         {
          "emb": [
           0.1743232011795044,
           -0.09934313595294952,
           -0.04048829898238182,
           1.0120142698287964,
           0.08294911682605743,
           0.6079601049423218,
           -1.5025821924209595,
           0.016070721670985222,
           -1.292626142501831,
           1.0814329385757446
          ],
          "id": 152,
          "words": "trabalhou",
          "x": 0.35043495893478394,
          "y": 0.434824675321579
         },
         {
          "emb": [
           0.0011149918427690864,
           -0.34853386878967285,
           1.198677659034729,
           0.3511504530906677,
           -1.356942892074585,
           -0.8469685912132263,
           1.6803288459777832,
           -1.0357396602630615,
           -1.9414647817611694,
           0.19624602794647217
          ],
          "id": 153,
          "words": "artigo",
          "x": -0.3174954056739807,
          "y": -0.7334325909614563
         },
         {
          "emb": [
           0.06880570203065872,
           2.323765754699707,
           0.16735729575157166,
           -1.2991822957992554,
           0.9467984437942505,
           -0.3111960291862488,
           -0.825141191482544,
           -0.45935916900634766,
           -1.022374153137207,
           -0.42056983709335327
          ],
          "id": 154,
          "words": "possível",
          "x": -0.2014354020357132,
          "y": -0.7856537103652954
         },
         {
          "emb": [
           -1.5156115293502808,
           1.1236839294433594,
           0.89829421043396,
           -0.5811039209365845,
           0.5655640959739685,
           -1.3837779760360718,
           0.34715935587882996,
           0.014897222630679607,
           -1.2515523433685303,
           -0.41365742683410645
          ],
          "id": 155,
          "words": "principal",
          "x": -0.6033726334571838,
          "y": 0.2538846731185913
         },
         {
          "emb": [
           -1.0215606689453125,
           0.9109118580818176,
           1.9886605739593506,
           0.47359636425971985,
           -0.39482274651527405,
           0.09387342631816864,
           -0.7778923511505127,
           -1.1346523761749268,
           1.0556479692459106,
           -0.566504955291748
          ],
          "id": 156,
          "words": "lgbt",
          "x": -1.9101150035858154,
          "y": 0.04843687266111374
         },
         {
          "emb": [
           1.0700129270553589,
           0.4178836941719055,
           -0.6411842703819275,
           -2.444634437561035,
           1.1539925336837769,
           0.5454882383346558,
           0.4251621961593628,
           0.9410600066184998,
           -1.0310978889465332,
           1.610388994216919
          ],
          "id": 157,
          "words": "burnett",
          "x": 1.8604453802108765,
          "y": -1.940073847770691
         },
         {
          "emb": [
           0.3321778178215027,
           0.47610267996788025,
           0.4048222005367279,
           -3.1863980293273926,
           -0.905299723148346,
           0.1623414307832718,
           0.7428713440895081,
           1.7892632484436035,
           0.8157761693000793,
           0.8571380972862244
          ],
          "id": 158,
          "words": "marian",
          "x": 1.7188993692398071,
          "y": -1.2472128868103027
         },
         {
          "emb": [
           0.20340335369110107,
           0.07343768328428268,
           -0.5640323758125305,
           -0.11242953687906265,
           -0.20963001251220703,
           0.16524489223957062,
           2.3463656902313232,
           1.7000501155853271,
           0.41555336117744446,
           0.8420595526695251
          ],
          "id": 159,
          "words": "abstração",
          "x": 0.24216027557849884,
          "y": 0.10717318952083588
         },
         {
          "emb": [
           0.74214768409729,
           0.338349312543869,
           -2.2445180416107178,
           0.7393030524253845,
           -1.609633207321167,
           1.016892671585083,
           -0.2011047750711441,
           2.447026014328003,
           0.9360172152519226,
           1.8840957880020142
          ],
          "id": 160,
          "words": "referências",
          "x": 1.1332736015319824,
          "y": 1.7071267366409302
         },
         {
          "emb": [
           -0.29096028208732605,
           -0.008599772118031979,
           1.1184394359588623,
           0.2711575925350189,
           -0.8143231868743896,
           0.19143922626972198,
           0.14298687875270844,
           0.7756475806236267,
           -0.5246300101280212,
           1.7007747888565063
          ],
          "id": 161,
          "words": "viajaram",
          "x": -0.024865826591849327,
          "y": 0.02889334224164486
         },
         {
          "emb": [
           0.6909967064857483,
           0.3884420692920685,
           1.901566743850708,
           1.0869358777999878,
           0.04391380399465561,
           -0.47874829173088074,
           -0.287740558385849,
           2.2153987884521484,
           -0.9146990776062012,
           0.3790614902973175
          ],
          "id": 162,
          "words": "hastings",
          "x": -0.11241302639245987,
          "y": 0.6309154629707336
         },
         {
          "emb": [
           -0.6638563275337219,
           0.5468819737434387,
           0.3117327094078064,
           -1.5159295797348022,
           -0.17728500068187714,
           1.1612275838851929,
           -2.8112452030181885,
           -1.403814435005188,
           0.3913232386112213,
           0.3565027713775635
          ],
          "id": 163,
          "words": "dirigido",
          "x": 0.4851182997226715,
          "y": -0.6699915528297424
         },
         {
          "emb": [
           -0.19667120277881622,
           -0.3785008192062378,
           0.5622844696044922,
           -0.08757202327251434,
           0.7580426931381226,
           -0.9879509806632996,
           -1.3805251121520996,
           0.5759871006011963,
           -1.2620970010757446,
           -0.959612250328064
          ],
          "id": 164,
          "words": "avô",
          "x": 0.737180769443512,
          "y": 0.5519447326660156
         },
         {
          "emb": [
           0.18645508587360382,
           0.9436372518539429,
           0.04700344800949097,
           1.143876314163208,
           -2.230074405670166,
           1.3801599740982056,
           -0.542597770690918,
           0.39215853810310364,
           0.6473297476768494,
           0.6289201974868774
          ],
          "id": 165,
          "words": "criptoanalista",
          "x": -0.3703363835811615,
          "y": 1.0589832067489624
         },
         {
          "emb": [
           -0.5777847766876221,
           0.8815874457359314,
           0.28965938091278076,
           0.5002321600914001,
           1.2236769199371338,
           0.7001318335533142,
           -0.464627206325531,
           -0.2185392528772354,
           -0.6820590496063232,
           0.8559256196022034
          ],
          "id": 166,
          "words": "cheshire",
          "x": -0.6890538930892944,
          "y": -0.04933546110987663
         },
         {
          "emb": [
           0.8724621534347534,
           -0.33116650581359863,
           1.0253820419311523,
           0.0034855890553444624,
           0.1032927855849266,
           -0.8563551902770996,
           -1.1311112642288208,
           -1.0315104722976685,
           0.8471313714981079,
           1.196053385734558
          ],
          "id": 167,
          "words": "resultado",
          "x": -0.8796638250350952,
          "y": -1.2624069452285767
         },
         {
          "emb": [
           -1.4208426475524902,
           -0.2042410671710968,
           0.8042219877243042,
           1.925949215888977,
           2.198107957839966,
           -0.07271468639373779,
           -1.1304171085357666,
           -1.0609097480773926,
           -0.30821967124938965,
           -0.7290017604827881
          ],
          "id": 168,
          "words": "operador",
          "x": -1.7371200323104858,
          "y": 0.8712515830993652
         },
         {
          "emb": [
           0.021877450868487358,
           0.0773610770702362,
           1.3560999631881714,
           -0.5697226524353027,
           -0.1560373157262802,
           -0.3728669285774231,
           0.3455621004104614,
           -0.49575275182724,
           1.297279953956604,
           1.5220146179199219
          ],
          "id": 169,
          "words": "resultou",
          "x": -1.0993212461471558,
          "y": -1.327764630317688
         },
         {
          "emb": [
           -1.111256718635559,
           -1.0080631971359253,
           -0.1954670399427414,
           1.5279127359390259,
           1.7232199907302856,
           -2.459423065185547,
           0.6731140613555908,
           -0.5050944089889526,
           -1.513458251953125,
           -0.14927980303764343
          ],
          "id": 170,
          "words": "desculpas",
          "x": -1.0270715951919556,
          "y": 0.7994678020477295
         },
         {
          "emb": [
           2.181912660598755,
           -0.4766351580619812,
           -0.5739947557449341,
           1.8460043668746948,
           -1.421166181564331,
           1.4946140050888062,
           3.277280330657959,
           0.9595938324928284,
           -1.0801162719726562,
           0.3717154264450073
          ],
          "id": 171,
          "words": "maçã",
          "x": 0.40658310055732727,
          "y": -0.20362412929534912
         },
         {
          "emb": [
           -0.6692343950271606,
           0.9679584503173828,
           -0.3239028751850128,
           -0.1866738349199295,
           -0.5548829436302185,
           -2.003343105316162,
           0.544582188129425,
           -0.3341343402862549,
           1.2668894529342651,
           1.4944679737091064
          ],
          "id": 172,
          "words": "rainha",
          "x": -1.5641230344772339,
          "y": 0.03658122941851616
         },
         {
          "emb": [
           -0.1517520695924759,
           -0.6720744371414185,
           1.4595543146133423,
           -1.1680463552474976,
           -0.6547497510910034,
           -0.1398262083530426,
           0.22135208547115326,
           -0.7715622782707214,
           2.739539861679077,
           0.9781819581985474
          ],
          "id": 173,
          "words": "baixos",
          "x": -0.9472768306732178,
          "y": -1.4783118963241577
         },
         {
          "emb": [
           1.2585926055908203,
           -0.6169188022613525,
           -0.463220477104187,
           0.43142950534820557,
           0.795933723449707,
           -0.08898860961198807,
           -0.8278163075447083,
           1.8555641174316406,
           0.9002315402030945,
           -1.482491135597229
          ],
          "id": 174,
          "words": "rápido",
          "x": 0.859024703502655,
          "y": 0.8799155950546265
         },
         {
          "emb": [
           0.425514280796051,
           0.12447233498096466,
           -0.6047711968421936,
           -0.565714955329895,
           0.7592670917510986,
           -1.5780045986175537,
           1.2844343185424805,
           -1.3271496295928955,
           2.00919246673584,
           1.8871742486953735
          ],
          "id": 175,
          "words": "humilhante",
          "x": -1.7405601739883423,
          "y": -1.724108099937439
         },
         {
          "emb": [
           1.4606322050094604,
           1.0848314762115479,
           -0.3838736414909363,
           -0.426179438829422,
           -0.1293695718050003,
           -2.0412001609802246,
           1.4786244630813599,
           -2.4849157333374023,
           -0.6321115493774414,
           -0.29504621028900146
          ],
          "id": 176,
          "words": "computador",
          "x": -1.3439431190490723,
          "y": -2.036649227142334
         },
         {
          "emb": [
           0.7183830738067627,
           0.6048312187194824,
           -0.9334115982055664,
           1.3020967245101929,
           -0.08274571597576141,
           -1.1663081645965576,
           -0.3438253700733185,
           -1.0537784099578857,
           1.4358035326004028,
           -0.5139031410217285
          ],
          "id": 177,
          "words": "anos",
          "x": -1.674789309501648,
          "y": 0.407785028219223
         },
         {
          "emb": [
           0.4078911244869232,
           -1.2282674312591553,
           -0.43097907304763794,
           0.27489519119262695,
           -0.011745772324502468,
           -0.2884029746055603,
           -0.002447431441396475,
           0.8579899072647095,
           0.4328271150588989,
           0.9596059918403625
          ],
          "id": 178,
          "words": "civil",
          "x": 0.575249433517456,
          "y": 0.19017858803272247
         },
         {
          "emb": [
           0.14834897220134735,
           -0.3557775914669037,
           0.920887291431427,
           -0.34950584173202515,
           -0.5193864107131958,
           -1.33781099319458,
           1.0508043766021729,
           -0.8005714416503906,
           0.5603408813476562,
           0.5299264788627625
          ],
          "id": 179,
          "words": "dermot",
          "x": -0.8973016142845154,
          "y": -1.0685702562332153
         },
         {
          "emb": [
           2.230672597885132,
           -1.6325271129608154,
           0.17732517421245575,
           -1.0168530941009521,
           0.20226185023784637,
           0.2693239152431488,
           0.20844173431396484,
           -1.243064522743225,
           -0.6409397125244141,
           0.03272472321987152
          ],
          "id": 180,
          "words": "cama",
          "x": 1.2648524045944214,
          "y": -2.503934383392334
         },
         {
          "emb": [
           -1.6259063482284546,
           -1.322710633277893,
           0.7231520414352417,
           -0.047083571553230286,
           -2.240478277206421,
           0.21749448776245117,
           -0.3992309272289276,
           0.8347758054733276,
           -1.0224040746688843,
           0.14475667476654053
          ],
          "id": 181,
          "words": "gentia",
          "x": 1.3988935947418213,
          "y": 1.4703431129455566
         },
         {
          "emb": [
           -1.7692381143569946,
           0.09782061725854874,
           0.05657535418868065,
           -0.3743892312049866,
           0.6885687112808228,
           0.28451284766197205,
           -0.921495795249939,
           -0.6769419312477112,
           -0.104009248316288,
           -0.3126041889190674
          ],
          "id": 182,
          "words": "jack",
          "x": -0.16184981167316437,
          "y": 0.4860250651836395
         },
         {
          "emb": [
           0.4256729185581207,
           0.34217050671577454,
           -0.49720126390457153,
           0.5596920847892761,
           0.4244120419025421,
           1.0208773612976074,
           -0.4491356909275055,
           1.08243727684021,
           0.004991590511053801,
           -0.7933279871940613
          ],
          "id": 183,
          "words": "waller",
          "x": 0.49162378907203674,
          "y": 0.82711261510849
         },
         {
          "emb": [
           -0.17173466086387634,
           -1.358067274093628,
           -0.15505969524383545,
           2.3991897106170654,
           -0.37516745924949646,
           -0.0783703476190567,
           -0.6423658728599548,
           0.3502408564090729,
           2.0607736110687256,
           0.40125495195388794
          ],
          "id": 184,
          "words": "inglaterra",
          "x": -1.1737148761749268,
          "y": 1.5829776525497437
         },
         {
          "emb": [
           0.3486171066761017,
           0.23120693862438202,
           -0.10488928854465485,
           -0.44492730498313904,
           -0.561170220375061,
           -0.5817514657974243,
           -1.2542630434036255,
           0.841619074344635,
           -1.7772855758666992,
           0.816596508026123
          ],
          "id": 185,
          "words": "alex",
          "x": 1.3341375589370728,
          "y": 0.26968127489089966
         },
         {
          "emb": [
           0.8801905512809753,
           1.6843706369400024,
           -0.9292475581169128,
           -1.6965574026107788,
           0.918846845626831,
           -0.41949668526649475,
           -0.2399791032075882,
           0.9707338213920593,
           -0.3005358874797821,
           0.7394559383392334
          ],
          "id": 186,
          "words": "decisivo",
          "x": 0.7297112941741943,
          "y": -0.8255013227462769
         },
         {
          "emb": [
           1.5179708003997803,
           1.2152113914489746,
           0.9790472984313965,
           -0.07578928023576736,
           0.43950071930885315,
           -0.3737137019634247,
           -0.7078500390052795,
           -1.1929552555084229,
           0.20464575290679932,
           0.6907599568367004
          ],
          "id": 187,
          "words": "férias",
          "x": -1.2140171527862549,
          "y": -1.7206089496612549
         },
         {
          "emb": [
           -0.7011500000953674,
           0.34299200773239136,
           -0.5178422331809998,
           -2.631049633026123,
           0.465148001909256,
           1.061933159828186,
           2.462188959121704,
           -1.1430776119232178,
           0.5877159237861633,
           1.446208119392395
          ],
          "id": 188,
          "words": "bruxa",
          "x": 0.16983957588672638,
          "y": -2.406799554824829
         },
         {
          "emb": [
           0.4540252685546875,
           -0.07697366178035736,
           0.21988247334957123,
           0.0007356485002674162,
           -1.1459834575653076,
           -1.605349063873291,
           0.14669007062911987,
           -0.6126450300216675,
           1.0718821287155151,
           -1.1546976566314697
          ],
          "id": 189,
          "words": "inglês",
          "x": -0.6911464333534241,
          "y": 0.02809419110417366
         },
         {
          "emb": [
           -0.12473782151937485,
           0.08400598913431168,
           0.13775719702243805,
           2.112438678741455,
           -0.35033735632896423,
           0.01443486288189888,
           0.1961989551782608,
           -0.6420287489891052,
           0.10674183815717697,
           -0.7939465045928955
          ],
          "id": 190,
          "words": "genealogy",
          "x": -1.3803375959396362,
          "y": 1.0122350454330444
         },
         {
          "emb": [
           0.060501862317323685,
           0.0063238549046218395,
           0.08731525391340256,
           -1.5182204246520996,
           -0.4250963032245636,
           0.2789073884487152,
           0.004069642163813114,
           -1.3212534189224243,
           0.36585718393325806,
           -0.7218174934387207
          ],
          "id": 191,
          "words": "game",
          "x": 0.34804999828338623,
          "y": -1.2019563913345337
         },
         {
          "emb": [
           0.9718675017356873,
           -1.7195087671279907,
           0.08300144225358963,
           1.4556231498718262,
           -0.41420164704322815,
           -0.1651865690946579,
           1.5322892665863037,
           0.18011045455932617,
           -1.511218786239624,
           -0.2541270852088928
          ],
          "id": 192,
          "words": "criação",
          "x": 0.5258740186691284,
          "y": 0.03705250099301338
         },
         {
          "emb": [
           0.29617753624916077,
           1.269410490989685,
           0.6983963847160339,
           -0.7090509533882141,
           0.14353077113628387,
           -1.0123414993286133,
           0.04539700970053673,
           -0.6427420377731323,
           -1.1551194190979004,
           -2.055591583251953
          ],
          "id": 193,
          "words": "braço",
          "x": -0.2010619193315506,
          "y": -0.4628930687904358
         },
         {
          "emb": [
           0.604738712310791,
           0.607174813747406,
           -0.7667515873908997,
           0.9830846190452576,
           0.20958568155765533,
           -1.0346348285675049,
           0.16639438271522522,
           0.6695765852928162,
           0.535286009311676,
           2.3063876628875732
          ],
          "id": 194,
          "words": "consagrou",
          "x": -0.981654703617096,
          "y": 0.1918713003396988
         },
         {
          "emb": [
           -2.26649808883667,
           0.21318627893924713,
           -0.7221810817718506,
           2.0298190116882324,
           0.0688648372888565,
           2.137777805328369,
           -0.2227759212255478,
           0.9999409317970276,
           2.756167411804199,
           0.0696963369846344
          ],
          "id": 195,
          "words": "focado",
          "x": -1.4300018548965454,
          "y": 2.737898111343384
         },
         {
          "emb": [
           -1.3259292840957642,
           -0.802769124507904,
           1.4107263088226318,
           0.4945943057537079,
           0.006849687546491623,
           -1.492403507232666,
           -0.9081842303276062,
           0.10548418760299683,
           -0.7314813137054443,
           -1.170763611793518
          ],
          "id": 196,
          "words": "eletromecânica",
          "x": -0.21402707695960999,
          "y": 1.094959020614624
         },
         {
          "emb": [
           -0.1470842808485031,
           -1.2603846788406372,
           0.4509115517139435,
           -1.1711806058883667,
           0.23855623602867126,
           0.24334616959095,
           0.20142973959445953,
           -0.057922109961509705,
           -0.06273318082094193,
           1.5727382898330688
          ],
          "id": 197,
          "words": "alguns",
          "x": 0.8388898372650146,
          "y": -1.238930344581604
         },
         {
          "emb": [
           1.8784586191177368,
           0.20594708621501923,
           -1.5890889167785645,
           -0.8841657042503357,
           -1.535124659538269,
           -2.2491137981414795,
           3.7194716930389404,
           -0.07617489248514175,
           0.9230159521102905,
           0.35260283946990967
          ],
          "id": 198,
          "words": "decifração",
          "x": -0.2905977666378021,
          "y": -1.3440907001495361
         },
         {
          "emb": [
           0.07270348817110062,
           -0.9532485008239746,
           0.1617286503314972,
           1.3272184133529663,
           0.30672746896743774,
           -0.7889982461929321,
           1.5496923923492432,
           0.5060554146766663,
           1.7827955484390259,
           0.10646038502454758
          ],
          "id": 199,
          "words": "fadas",
          "x": -1.3496907949447632,
          "y": 0.38810858130455017
         },
         {
          "emb": [
           -0.684312105178833,
           0.8974795937538147,
           -0.8426648378372192,
           -0.05708673596382141,
           -0.6084778904914856,
           0.2648209035396576,
           1.408954381942749,
           -0.5247175097465515,
           -0.7960760593414307,
           1.2222542762756348
          ],
          "id": 200,
          "words": "ciência",
          "x": -0.3347552716732025,
          "y": -0.10738099366426468
         },
         {
          "emb": [
           -0.4617784917354584,
           -1.3747055530548096,
           0.11329272389411926,
           -1.154888391494751,
           -2.1003475189208984,
           0.5136484503746033,
           -1.8361822366714478,
           -3.5693652629852295,
           0.3018835186958313,
           -0.5767709016799927
          ],
          "id": 201,
          "words": "série",
          "x": 0.5448517799377441,
          "y": -1.1090278625488281
         },
         {
          "emb": [
           0.5099597573280334,
           0.32821670174598694,
           0.057291846722364426,
           -0.8262529969215393,
           -0.41064566373825073,
           0.018378520384430885,
           1.0941027402877808,
           1.0809783935546875,
           -0.35860124230384827,
           1.0206166505813599
          ],
          "id": 202,
          "words": "imitation",
          "x": 0.6503075957298279,
          "y": -0.5888469815254211
         },
         {
          "emb": [
           0.7042321562767029,
           -1.4713953733444214,
           0.5808215141296387,
           -0.0757734626531601,
           2.26106333732605,
           -0.061682526022195816,
           -0.7528381943702698,
           0.6783671975135803,
           -0.19396209716796875,
           -1.3953580856323242
          ],
          "id": 203,
          "words": "sofrera",
          "x": 0.8320978283882141,
          "y": -0.3697863221168518
         },
         {
          "emb": [
           0.20265454053878784,
           -0.33048492670059204,
           0.46714743971824646,
           1.0487723350524902,
           0.2649382948875427,
           -0.20569461584091187,
           0.17528566718101501,
           -0.076874278485775,
           2.447923183441162,
           0.8915339112281799
          ],
          "id": 204,
          "words": "tornou",
          "x": -1.7101963758468628,
          "y": -0.07555966079235077
         },
         {
          "emb": [
           0.20973627269268036,
           0.04017799347639084,
           0.6434736251831055,
           -0.3577790856361389,
           -0.6920216679573059,
           0.9581559300422668,
           0.5519720315933228,
           0.283621221780777,
           0.629880964756012,
           -0.12350939214229584
          ],
          "id": 205,
          "words": "dedicação",
          "x": 0.12225400656461716,
          "y": -0.37390175461769104
         },
         {
          "emb": [
           0.43855345249176025,
           -0.15976214408874512,
           2.0126140117645264,
           1.3095234632492065,
           1.0124934911727905,
           -0.5424787998199463,
           -0.7354185581207275,
           0.48923325538635254,
           0.7591552734375,
           -0.3914584517478943
          ],
          "id": 206,
          "words": "portanto",
          "x": -1.3726341724395752,
          "y": 0.08147287368774414
         },
         {
          "emb": [
           0.00360396527685225,
           0.32682928442955017,
           2.2028164863586426,
           0.3758624494075775,
           0.5224121809005737,
           -1.558227777481079,
           0.09526623040437698,
           -0.2488192319869995,
           1.276336908340454,
           0.6762089729309082
          ],
          "id": 207,
          "words": "justiça",
          "x": -2.1073365211486816,
          "y": -0.787791907787323
         },
         {
          "emb": [
           -0.2960782051086426,
           -0.47613760828971863,
           0.7142033576965332,
           -0.790671169757843,
           -0.6000758409500122,
           -0.7708463668823242,
           -0.3721398115158081,
           1.0831559896469116,
           -1.0621905326843262,
           -1.0588889122009277
          ],
          "id": 208,
          "words": "transmissão",
          "x": 1.3127903938293457,
          "y": 0.530305027961731
         },
         {
          "emb": [
           0.5641696453094482,
           0.03800012171268463,
           0.2105492204427719,
           -1.949897050857544,
           0.20689859986305237,
           -0.17007727921009064,
           0.0850253626704216,
           -0.7662501335144043,
           1.1701176166534424,
           1.5099375247955322
          ],
          "id": 209,
          "words": "morte",
          "x": 0.03033788688480854,
          "y": -2.120695114135742
         },
         {
          "emb": [
           0.1671854853630066,
           -0.26669758558273315,
           2.076594352722168,
           -0.20415422320365906,
           0.1904895007610321,
           0.61012202501297,
           0.9858003854751587,
           -0.19813275337219238,
           -0.18892784416675568,
           0.02134944684803486
          ],
          "id": 210,
          "words": "andrew",
          "x": -0.4418100118637085,
          "y": -1.2593709230422974
         },
         {
          "emb": [
           -1.3891046047210693,
           0.42213019728660583,
           2.5382626056671143,
           -0.2286001592874527,
           1.418830156326294,
           -0.7158191204071045,
           2.2205076217651367,
           0.2692948281764984,
           -0.3120484948158264,
           1.413369059562683
          ],
          "id": 211,
          "words": "equivalia",
          "x": -1.7483731508255005,
          "y": -1.1455605030059814
         },
         {
          "emb": [
           -0.8662299513816833,
           1.7199227809906006,
           0.7930377125740051,
           1.3501427173614502,
           -0.6172612905502319,
           0.985906183719635,
           1.398435354232788,
           -0.3187802731990814,
           0.5063140988349915,
           -0.05268637835979462
          ],
          "id": 212,
          "words": "conceito",
          "x": -2.065110683441162,
          "y": 0.5749280452728271
         },
         {
          "emb": [
           -0.6789595484733582,
           -1.756115436553955,
           -0.11559107899665833,
           0.22637112438678741,
           1.0347745418548584,
           1.410879135131836,
           1.554256558418274,
           0.6439621448516846,
           -0.3394566774368286,
           -0.11578312516212463
          ],
          "id": 213,
          "words": "posteriormente",
          "x": 0.838367760181427,
          "y": 0.05018395557999611
         },
         {
          "emb": [
           -0.19019858539104462,
           -1.0299277305603027,
           0.48741233348846436,
           1.032925009727478,
           0.12148088216781616,
           0.4498458802700043,
           0.9646421670913696,
           -0.7254381775856018,
           -1.2221240997314453,
           -2.124516248703003
          ],
          "id": 214,
          "words": "devido",
          "x": 0.06472698599100113,
          "y": 0.308516263961792
         },
         {
          "emb": [
           -0.18685050308704376,
           0.43315982818603516,
           0.42270657420158386,
           0.5848494172096252,
           -0.591614842414856,
           -1.1517059803009033,
           1.0575493574142456,
           1.0672752857208252,
           0.0429220050573349,
           1.1773582696914673
          ],
          "id": 215,
          "words": "simples",
          "x": -0.7434912919998169,
          "y": 0.4756375551223755
         },
         {
          "emb": [
           0.20367558300495148,
           0.6156177520751953,
           0.2515941560268402,
           -0.5347248315811157,
           1.7642297744750977,
           1.3520596027374268,
           1.4727253913879395,
           0.517326295375824,
           -0.8527840971946716,
           0.669613242149353
          ],
          "id": 216,
          "words": "computer",
          "x": 0.13963870704174042,
          "y": -1.1969695091247559
         },
         {
          "emb": [
           -1.9246104955673218,
           0.9263167977333069,
           -0.7677902579307556,
           0.6094678044319153,
           -1.6968783140182495,
           0.7536231875419617,
           -1.0555579662322998,
           0.3241853415966034,
           0.4037421643733978,
           0.15905901789665222
          ],
          "id": 217,
          "words": "operações",
          "x": -0.1459760218858719,
          "y": 2.252017021179199
         },
         {
          "emb": [
           -0.4649055302143097,
           0.7693143486976624,
           1.4726829528808594,
           1.2260798215866089,
           -0.08463631570339203,
           0.04695962369441986,
           0.04221569746732712,
           0.8015349507331848,
           -0.6640956401824951,
           -0.2710745334625244
          ],
          "id": 218,
          "words": "polonesa",
          "x": -0.8699281215667725,
          "y": 0.8686814904212952
         },
         {
          "emb": [
           -0.6392902731895447,
           -1.1989370584487915,
           -0.47890082001686096,
           0.15703986585140228,
           -0.7516566514968872,
           0.7980918884277344,
           0.21966488659381866,
           0.7630931735038757,
           0.6391339898109436,
           -0.699993371963501
          ],
          "id": 219,
          "words": "baronete",
          "x": 0.891116201877594,
          "y": 1.078229308128357
         },
         {
          "emb": [
           -0.1274707317352295,
           -0.6872296929359436,
           -0.506779134273529,
           1.2248507738113403,
           0.44257745146751404,
           0.9797582030296326,
           0.050643440335989,
           -0.4758772850036621,
           -0.15077702701091766,
           0.6728587746620178
          ],
          "id": 220,
          "words": "agar",
          "x": -0.264239639043808,
          "y": 0.23421542346477509
         },
         {
          "emb": [
           -1.7100608348846436,
           -2.0162034034729004,
           -0.32594648003578186,
           -1.7719738483428955,
           0.12027756869792938,
           -0.7796920537948608,
           -1.334342360496521,
           1.1929571628570557,
           0.9671471118927002,
           -0.5984458327293396
          ],
          "id": 221,
          "words": "primitivo",
          "x": 1.8912718296051025,
          "y": 1.0095127820968628
         },
         {
          "emb": [
           1.002792239189148,
           -0.21909376978874207,
           -1.4432214498519897,
           -0.15738129615783691,
           0.1693037748336792,
           0.27177339792251587,
           0.6747989058494568,
           0.16328266263008118,
           -1.816209077835083,
           0.6517365574836731
          ],
          "id": 222,
          "words": "pediu",
          "x": 1.3347119092941284,
          "y": -0.46316391229629517
         },
         {
          "emb": [
           0.3002261221408844,
           1.4363386631011963,
           0.18097759783267975,
           -0.4341413080692291,
           0.7521507740020752,
           0.9103156328201294,
           -1.3448048830032349,
           0.6406572461128235,
           -2.6953585147857666,
           -1.8480514287948608
          ],
          "id": 223,
          "words": "winston",
          "x": 1.3904348611831665,
          "y": 0.40146952867507935
         },
         {
          "emb": [
           0.2599027752876282,
           -0.08428719639778137,
           -0.014211969450116158,
           2.616286039352417,
           1.6159712076187134,
           -0.22461354732513428,
           1.3051302433013916,
           -1.8008501529693604,
           0.36838582158088684,
           0.07462260127067566
          ],
          "id": 224,
          "words": "decodificação",
          "x": -2.715334177017212,
          "y": -0.3140757381916046
         },
         {
          "emb": [
           -2.1098363399505615,
           0.6530465483665466,
           -0.3357947766780853,
           -0.4113171398639679,
           -2.626150131225586,
           1.0561892986297607,
           -0.1718972623348236,
           2.2802631855010986,
           0.008006537333130836,
           0.03530426695942879
          ],
          "id": 225,
          "words": "fazer",
          "x": 1.333565592765808,
          "y": 2.6155195236206055
         },
         {
          "emb": [
           0.4683510959148407,
           -0.0858883336186409,
           0.3371070921421051,
           0.6671082973480225,
           -0.10637882351875305,
           0.28885117173194885,
           1.0102722644805908,
           -0.2654663622379303,
           -1.3573212623596191,
           -0.21912774443626404
          ],
          "id": 226,
          "words": "laboratório",
          "x": -0.008718145079910755,
          "y": -0.3152615427970886
         },
         {
          "emb": [
           -0.09606634825468063,
           0.5310042500495911,
           0.0217241533100605,
           -0.694282591342926,
           0.12538659572601318,
           0.9246290922164917,
           -1.1377938985824585,
           0.9865506291389465,
           2.1981635093688965,
           -1.100465178489685
          ],
          "id": 227,
          "words": "indicar",
          "x": 0.15506330132484436,
          "y": 0.5666167140007019
         },
         {
          "emb": [
           1.8554348945617676,
           0.5921879410743713,
           -0.1013868972659111,
           1.7714983224868774,
           1.1234054565429688,
           -0.478402316570282,
           1.3808594942092896,
           -8.950464689405635e-05,
           0.7684953212738037,
           -0.23182182013988495
          ],
          "id": 228,
          "words": "leavitt",
          "x": -1.7593600749969482,
          "y": -0.4947642385959625
         },
         {
          "emb": [
           -0.8951653242111206,
           0.4274353086948395,
           -0.18112391233444214,
           -1.7677220106124878,
           -1.0980685949325562,
           -1.8514569997787476,
           -0.1415092647075653,
           0.6018539667129517,
           0.9613423347473145,
           -0.32117345929145813
          ],
          "id": 229,
          "words": "passagens",
          "x": 0.3594530522823334,
          "y": 0.4121059477329254
         },
         {
          "emb": [
           0.019231457263231277,
           -0.06969921290874481,
           0.006754005793482065,
           0.10003867000341415,
           -0.18476097285747528,
           0.008744020946323872,
           -0.03405009210109711,
           -1.1572388410568237,
           0.23764480650424957,
           0.84527188539505
          ],
          "id": 230,
          "words": "matemático",
          "x": -0.5999342203140259,
          "y": -0.6605544686317444
         },
         {
          "emb": [
           0.7501073479652405,
           -0.7136683464050293,
           -2.0101163387298584,
           -1.0249342918395996,
           1.185895323753357,
           -0.6016485691070557,
           1.1840920448303223,
           -0.12736542522907257,
           -0.6233490705490112,
           2.2489261627197266
          ],
          "id": 231,
          "words": "enquanto",
          "x": 0.9297524094581604,
          "y": -1.4102741479873657
         },
         {
          "emb": [
           -0.24261890351772308,
           -0.9012769460678101,
           -1.7009197473526,
           -1.9408975839614868,
           0.0050848438404500484,
           0.035715892910957336,
           -0.9736729860305786,
           -0.20603087544441223,
           0.9361241459846497,
           0.4693375527858734
          ],
          "id": 232,
          "words": "chhatrapur",
          "x": 1.5872750282287598,
          "y": -0.3785702586174011
         },
         {
          "emb": [
           1.1808034181594849,
           0.11782579869031906,
           -0.9376145601272583,
           0.26271089911460876,
           1.8199247121810913,
           0.12378174811601639,
           0.11267180740833282,
           0.10833525657653809,
           -1.3260387182235718,
           -0.13176757097244263
          ],
          "id": 233,
          "words": "cometido",
          "x": 0.49764496088027954,
          "y": -0.5728222131729126
         },
         {
          "emb": [
           0.702573835849762,
           -0.6923456192016602,
           -0.8610191941261292,
           1.3578877449035645,
           0.36436358094215393,
           -0.13336893916130066,
           -0.9205601215362549,
           -1.5695079565048218,
           -0.1673041731119156,
           0.8698341846466064
          ],
          "id": 234,
          "words": "feitas",
          "x": -0.6034796833992004,
          "y": -0.253929078578949
         },
         {
          "emb": [
           1.0385053157806396,
           -0.345103919506073,
           -0.35707154870033264,
           -1.4005160331726074,
           -1.9700201749801636,
           1.1286202669143677,
           0.2274513840675354,
           -0.17450958490371704,
           -0.17809230089187622,
           0.9592415690422058
          ],
          "id": 235,
          "words": "reações",
          "x": 1.5923182964324951,
          "y": -1.151995062828064
         },
         {
          "emb": [
           1.0388948917388916,
           -0.6221229434013367,
           0.19365346431732178,
           0.19953906536102295,
           -0.2963862121105194,
           0.09563753008842468,
           -1.3364914655685425,
           1.2402753829956055,
           -0.22068007290363312,
           0.20506389439105988
          ],
          "id": 236,
          "words": "família",
          "x": 1.1159709692001343,
          "y": 0.34213969111442566
         },
         {
          "emb": [
           0.05652336776256561,
           -0.6552059650421143,
           -0.38352227210998535,
           -1.745466709136963,
           -1.0477187633514404,
           0.8494768142700195,
           -0.21801897883415222,
           0.017331887036561966,
           -0.8808977603912354,
           0.37516072392463684
          ],
          "id": 237,
          "words": "criptográfica",
          "x": 2.0548901557922363,
          "y": -0.6898850798606873
         },
         {
          "emb": [
           1.1662167310714722,
           -0.711595892906189,
           -1.3402760028839111,
           -0.5065984129905701,
           -2.283184289932251,
           0.9160085916519165,
           0.18217000365257263,
           0.9606145024299622,
           -0.17978116869926453,
           1.896215796470642
          ],
          "id": 238,
          "words": "revolutionary",
          "x": 1.9360827207565308,
          "y": -0.07647041231393814
         },
         {
          "emb": [
           0.40915802121162415,
           -0.8780572414398193,
           -1.8843305110931396,
           -0.8183836936950684,
           0.22959846258163452,
           0.8862489461898804,
           0.09260988980531693,
           1.833152413368225,
           0.5327727198600769,
           0.41626083850860596
          ],
          "id": 239,
          "words": "salientando",
          "x": 2.0144293308258057,
          "y": 0.5105783343315125
         },
         {
          "emb": [
           -1.318285346031189,
           -1.3152769804000854,
           -1.6197868585586548,
           -0.03599080815911293,
           -0.4775688648223877,
           -0.3923652172088623,
           0.5944675803184509,
           -0.30781087279319763,
           1.5690840482711792,
           0.05887456610798836
          ],
          "id": 240,
          "words": "homofobia",
          "x": 0.04931997135281563,
          "y": 0.9520742893218994
         },
         {
          "emb": [
           -1.578116774559021,
           0.5356317162513733,
           -1.10150146484375,
           0.4494249224662781,
           0.901220977306366,
           0.0732337087392807,
           0.18475289642810822,
           0.18859931826591492,
           0.49851658940315247,
           1.2433561086654663
          ],
          "id": 241,
          "words": "equipe",
          "x": -0.7904019355773926,
          "y": 0.9351226091384888
         },
         {
          "emb": [
           2.692775011062622,
           1.0514885187149048,
           -0.05019637197256088,
           0.22055871784687042,
           -1.1308685541152954,
           0.25177645683288574,
           1.153314471244812,
           0.989386260509491,
           -1.0102043151855469,
           0.9559460878372192
          ],
          "id": 242,
          "words": "retratada",
          "x": 0.491733193397522,
          "y": -1.0183943510055542
         },
         {
          "emb": [
           -1.7175811529159546,
           -1.5283746719360352,
           -1.0144239664077759,
           0.7416602373123169,
           0.2545236647129059,
           0.0117877796292305,
           -0.7179462909698486,
           0.6780575513839722,
           -0.25483036041259766,
           -1.230450987815857
          ],
          "id": 243,
          "words": "ligações",
          "x": 0.9350360631942749,
          "y": 2.204993724822998
         },
         {
          "emb": [
           0.4943055212497711,
           0.48170894384384155,
           -0.14794568717479706,
           -1.1351593732833862,
           -0.44010043144226074,
           0.08876964449882507,
           -0.34875816106796265,
           0.5532130002975464,
           -0.9993606209754944,
           0.4104452431201935
          ],
          "id": 244,
          "words": "poder",
          "x": 1.2095365524291992,
          "y": -0.44750240445137024
         },
         {
          "emb": [
           1.201021671295166,
           0.5023649334907532,
           1.2153518199920654,
           -0.018041014671325684,
           0.8790063858032227,
           0.7090221643447876,
           0.7703166007995605,
           0.031234001740813255,
           0.7449013590812683,
           -0.3018408417701721
          ],
          "id": 245,
          "words": "protestantes",
          "x": -0.7899889945983887,
          "y": -1.341099500656128
         },
         {
          "emb": [
           1.0623517036437988,
           -1.207145094871521,
           0.11146412789821625,
           -2.276000499725342,
           0.035039085894823074,
           0.874700665473938,
           -1.3410509824752808,
           0.9057185053825378,
           -1.1343021392822266,
           -0.5273960828781128
          ],
          "id": 246,
          "words": "terapias",
          "x": 3.129559278488159,
          "y": -1.0401748418807983
         },
         {
          "emb": [
           -1.518056035041809,
           -0.8545817136764526,
           0.2987498342990875,
           0.13784454762935638,
           0.023168504238128662,
           -0.19874845445156097,
           0.2203844040632248,
           1.265057921409607,
           -0.7138392329216003,
           0.4994966387748718
          ],
          "id": 247,
          "words": "manipular",
          "x": 0.6311929225921631,
          "y": 1.1438802480697632
         },
         {
          "emb": [
           -0.39501163363456726,
           -0.06497218459844589,
           0.6050243973731995,
           0.17211559414863586,
           -0.6789910197257996,
           1.48445725440979,
           0.5173166990280151,
           2.125375509262085,
           -0.18983455002307892,
           1.040639042854309
          ],
          "id": 248,
          "words": "sugere",
          "x": 0.8400653600692749,
          "y": 0.7544806599617004
         },
         {
          "emb": [
           -0.5618484616279602,
           1.5356651544570923,
           -0.3443947732448578,
           1.2475059032440186,
           -0.829243004322052,
           -0.46714380383491516,
           0.35042932629585266,
           0.1939331442117691,
           -0.3682706356048584,
           -0.6731818914413452
          ],
          "id": 249,
          "words": "condados",
          "x": -1.0551230907440186,
          "y": 1.4827852249145508
         },
         {
          "emb": [
           -1.8472328186035156,
           1.9622578620910645,
           -0.2372121512889862,
           2.692105531692505,
           -0.4778413474559784,
           -0.42870619893074036,
           -0.8077945113182068,
           1.427298665046692,
           0.45102837681770325,
           0.10998152941465378
          ],
          "id": 250,
          "words": "parte",
          "x": -1.9697344303131104,
          "y": 3.4206812381744385
         },
         {
          "emb": [
           1.3809250593185425,
           -0.00450595049187541,
           -0.47876039147377014,
           0.31978416442871094,
           -0.9480150938034058,
           -0.5105764269828796,
           -0.4518474042415619,
           0.38021236658096313,
           1.1070103645324707,
           -0.9740309119224548
          ],
          "id": 251,
          "words": "zhabotinsky",
          "x": 0.10924409329891205,
          "y": 0.3443182706832886
         },
         {
          "emb": [
           -0.9334723353385925,
           -0.015448035672307014,
           0.3410242795944214,
           1.3791204690933228,
           -0.12138738483190536,
           0.40893542766571045,
           0.0676000565290451,
           -0.6646375060081482,
           0.8505726456642151,
           -1.348775863647461
          ],
          "id": 252,
          "words": "filhos",
          "x": -1.2809267044067383,
          "y": 1.059077501296997
         },
         {
          "emb": [
           0.6924228072166443,
           0.9831226468086243,
           0.42427003383636475,
           0.4142734408378601,
           0.8499161601066589,
           0.623377799987793,
           0.9372059106826782,
           -0.30255934596061707,
           -1.3830604553222656,
           -1.5889493227005005
          ],
          "id": 253,
          "words": "qualquer",
          "x": -0.28316161036491394,
          "y": -0.4658850133419037
         },
         {
          "emb": [
           -0.5832052826881409,
           0.2844623625278473,
           0.9832262396812439,
           0.2209700345993042,
           0.8830181956291199,
           -1.793156623840332,
           0.06123202666640282,
           -0.6080354452133179,
           0.9976910948753357,
           2.2082667350769043
          ],
          "id": 254,
          "words": "lawther",
          "x": -2.028871774673462,
          "y": -0.7727482914924622
         },
         {
          "emb": [
           0.18804126977920532,
           -0.09837386012077332,
           0.6252227425575256,
           0.3670007586479187,
           0.6859974265098572,
           -1.9777309894561768,
           0.7662643194198608,
           0.09204159677028656,
           0.151386559009552,
           -0.018590906634926796
          ],
          "id": 255,
          "words": "atos",
          "x": -1.0446685552597046,
          "y": -0.25058019161224365
         },
         {
          "emb": [
           -0.43140655755996704,
           0.43199923634529114,
           2.0696969032287598,
           0.35417336225509644,
           0.5834062099456787,
           -0.359502375125885,
           -1.9503296613693237,
           0.9459612965583801,
           0.3926237225532532,
           0.024835988879203796
          ],
          "id": 256,
          "words": "lorenz",
          "x": -0.6457574367523193,
          "y": 0.5217065215110779
         },
         {
          "emb": [
           0.3702293634414673,
           0.9869946241378784,
           1.3857864141464233,
           -0.18043743073940277,
           -1.3928245306015015,
           1.0314747095108032,
           -0.9609839916229248,
           -1.470635175704956,
           0.016249867156147957,
           -1.9359629154205322
          ],
          "id": 257,
          "words": "desenvolveu",
          "x": -0.39845457673072815,
          "y": -0.44701144099235535
         },
         {
          "emb": [
           -0.6455718278884888,
           -0.056864913552999496,
           -0.9375957250595093,
           1.1364820003509521,
           0.29122045636177063,
           -1.0199915170669556,
           -0.22100618481636047,
           -0.5301414728164673,
           0.7281873822212219,
           0.12960770726203918
          ],
          "id": 258,
          "words": "juventude",
          "x": -1.1237850189208984,
          "y": 0.9696453213691711
         },
         {
          "emb": [
           0.43200191855430603,
           0.030759712681174278,
           -0.4099957346916199,
           -0.5919819474220276,
           0.38633450865745544,
           -0.5395928025245667,
           -1.1699281930923462,
           0.07154243439435959,
           0.27451592683792114,
           1.4603732824325562
          ],
          "id": 259,
          "words": "computing",
          "x": 0.2751501500606537,
          "y": -0.5118234157562256
         },
         {
          "emb": [
           0.5978425145149231,
           0.3787442743778229,
           0.35951000452041626,
           -0.015528345480561256,
           0.8754321932792664,
           1.4142533540725708,
           0.5238043069839478,
           -0.2167130410671234,
           -0.30041950941085815,
           1.8931124210357666
          ],
          "id": 260,
          "words": "mundial",
          "x": -0.27811238169670105,
          "y": -1.3996742963790894
         },
         {
          "emb": [
           0.10715396702289581,
           -0.48196086287498474,
           0.679275631904602,
           -1.3727545738220215,
           1.2337989807128906,
           0.034576982259750366,
           1.3018461465835571,
           -0.006172491237521172,
           -0.23070687055587769,
           -0.8351888060569763
          ],
          "id": 261,
          "words": "desempenhando",
          "x": 0.4726595878601074,
          "y": -1.3742810487747192
         },
         {
          "emb": [
           -0.582571268081665,
           1.77509605884552,
           0.11436617374420166,
           0.7068802714347839,
           -0.33138495683670044,
           -0.24463680386543274,
           -0.8836770057678223,
           1.5850064754486084,
           0.5418469309806824,
           -1.7791553735733032
          ],
          "id": 262,
          "words": "alemanha",
          "x": -0.5228895545005798,
          "y": 2.129815101623535
         },
         {
          "emb": [
           0.12175195664167404,
           -1.3027491569519043,
           2.350694417953491,
           -2.032930850982666,
           0.9298145174980164,
           0.8071181178092957,
           0.36656615138053894,
           -0.9960329532623291,
           -1.3814133405685425,
           0.9934203028678894
          ],
          "id": 263,
          "words": "computação",
          "x": 0.9857948422431946,
          "y": -2.938887357711792
         },
         {
          "emb": [
           -0.5641921162605286,
           -0.8546460270881653,
           0.6997350454330444,
           -0.008045629598200321,
           0.04753648862242699,
           0.4508591592311859,
           0.02963247150182724,
           2.511282205581665,
           0.5799647569656372,
           0.3278564214706421
          ],
          "id": 264,
          "words": "bombas",
          "x": 0.8888513445854187,
          "y": 1.0524605512619019
         },
         {
          "emb": [
           -0.011813430115580559,
           0.7632890939712524,
           -0.3023577630519867,
           -0.6384045481681824,
           -0.9739422798156738,
           0.613021194934845,
           0.9095155000686646,
           0.3981577754020691,
           0.5591623187065125,
           -0.7749112248420715
          ],
          "id": 265,
          "words": "flowers",
          "x": 0.23575326800346375,
          "y": 0.14185133576393127
         },
         {
          "emb": [
           -0.212386816740036,
           -0.7029610872268677,
           0.15354850888252258,
           -0.055273666977882385,
           0.34067854285240173,
           -2.962311029434204,
           1.101178526878357,
           -0.5437180399894714,
           0.4889366030693054,
           -1.0239094495773315
          ],
          "id": 266,
          "words": "elementos",
          "x": -0.9652644395828247,
          "y": -0.11031603813171387
         },
         {
          "emb": [
           -0.5331876277923584,
           1.306603193283081,
           -0.33139896392822266,
           1.4093694686889648,
           -0.10794970393180847,
           -0.35379132628440857,
           0.15053324401378632,
           -1.6093708276748657,
           0.5075167417526245,
           -0.7795884013175964
          ],
          "id": 267,
          "words": "assinaturas",
          "x": -2.1126625537872314,
          "y": 0.5973949432373047
         },
         {
          "emb": [
           0.5506871938705444,
           -0.7951645255088806,
           -0.4782946705818176,
           -0.2905251979827881,
           -0.16574741899967194,
           1.3244638442993164,
           -0.2445388287305832,
           1.3095899820327759,
           -2.0186939239501953,
           -0.2712865471839905
          ],
          "id": 268,
          "words": "escoceses",
          "x": 2.403313159942627,
          "y": 0.32776570320129395
         },
         {
          "emb": [
           0.31634342670440674,
           -0.21537667512893677,
           0.24269968271255493,
           -0.30811938643455505,
           0.0634823739528656,
           -0.9908313155174255,
           1.6991798877716064,
           -2.9307940006256104,
           0.5622349977493286,
           -2.1435325145721436
          ],
          "id": 269,
          "words": "época",
          "x": -1.4372655153274536,
          "y": -1.574235200881958
         },
         {
          "emb": [
           -0.6814443469047546,
           -0.2126048356294632,
           0.8928609490394592,
           0.5134979486465454,
           -0.9879741072654724,
           0.16675184667110443,
           -1.0916008949279785,
           2.805778741836548,
           -1.0151958465576172,
           -0.5465278029441833
          ],
          "id": 270,
          "words": "longford",
          "x": 1.4069838523864746,
          "y": 2.1967453956604004
         },
         {
          "emb": [
           0.33364737033843994,
           -0.2720952033996582,
           2.0361075401306152,
           0.8054563403129578,
           -0.39852064847946167,
           1.1234138011932373,
           -0.8415011167526245,
           0.3947334885597229,
           -1.4674766063690186,
           0.8072987198829651
          ],
          "id": 271,
          "words": "morten",
          "x": 0.26855969429016113,
          "y": -0.23491403460502625
         },
         {
          "emb": [
           -0.7357689738273621,
           -1.1151587963104248,
           0.19696755707263947,
           -1.7704545259475708,
           -0.339728444814682,
           -0.722449541091919,
           -1.581480622291565,
           -0.4396795332431793,
           1.9458354711532593,
           -0.26140329241752625
          ],
          "id": 272,
          "words": "engenheiro",
          "x": 0.5741607546806335,
          "y": -0.2948223054409027
         },
         {
          "emb": [
           0.5674178600311279,
           -1.108765721321106,
           -0.31103256344795227,
           1.227089524269104,
           2.0316150188446045,
           -1.4199779033660889,
           0.9906796813011169,
           1.5913549661636353,
           -0.06899216771125793,
           -1.4666144847869873
          ],
          "id": 273,
          "words": "comissão",
          "x": -0.06936977058649063,
          "y": 0.8638516068458557
         },
         {
          "emb": [
           -0.7189380526542664,
           0.5969778299331665,
           -0.3301135003566742,
           -0.6034775376319885,
           0.048208095133304596,
           0.8502734303474426,
           -1.272437334060669,
           -0.5666719079017639,
           -0.18715447187423706,
           1.0199004411697388
          ],
          "id": 274,
          "words": "gc",
          "x": 0.23149248957633972,
          "y": -0.11638844758272171
         },
         {
          "emb": [
           -0.6101350784301758,
           -1.4675499200820923,
           -0.2672748565673828,
           0.41324302554130554,
           -2.1278111934661865,
           -0.30341407656669617,
           0.3158246874809265,
           0.20350991189479828,
           -0.054967187345027924,
           -1.683955430984497
          ],
          "id": 275,
          "words": "observadas",
          "x": 0.9469157457351685,
          "y": 1.4734312295913696
         },
         {
          "emb": [
           0.9805837869644165,
           0.33816272020339966,
           0.897908627986908,
           -0.5415599942207336,
           1.0795408487319946,
           -0.1701662838459015,
           0.4242347478866577,
           1.3408095836639404,
           0.8766922950744629,
           0.7171252369880676
          ],
          "id": 276,
          "words": "contrariamente",
          "x": -0.20877167582511902,
          "y": -0.9408079981803894
         },
         {
          "emb": [
           0.8140163421630859,
           -0.408057302236557,
           0.3351903259754181,
           -0.45821723341941833,
           -1.083116054534912,
           -2.7547402381896973,
           0.12792052328586578,
           -0.35628876090049744,
           1.907949686050415,
           -0.2614009976387024
          ],
          "id": 277,
          "words": "conclui",
          "x": -0.8777565360069275,
          "y": -0.4564673602581024
         },
         {
          "emb": [
           -0.9837738871574402,
           -0.005649354308843613,
           -1.1140104532241821,
           1.334725022315979,
           -0.616130530834198,
           1.5861022472381592,
           -0.13467513024806976,
           0.9772358536720276,
           -0.18775203824043274,
           -1.6941416263580322
          ],
          "id": 278,
          "words": "estabelecido",
          "x": 0.6095195412635803,
          "y": 2.4205832481384277
         },
         {
          "emb": [
           0.3206622302532196,
           0.15268811583518982,
           1.3156239986419678,
           0.7402410507202148,
           -1.2470184564590454,
           -0.19635672867298126,
           -1.197835922241211,
           1.4651193618774414,
           -1.5427792072296143,
           2.0111336708068848
          ],
          "id": 279,
          "words": "infância",
          "x": 0.546048641204834,
          "y": 0.5648383498191833
         },
         {
          "emb": [
           -0.10772208124399185,
           -1.3570750951766968,
           -0.0035546962171792984,
           -0.16924358904361725,
           -1.8705005645751953,
           -0.5563751459121704,
           0.4278213083744049,
           1.885672926902771,
           0.7522083520889282,
           -0.1782761961221695
          ],
          "id": 280,
          "words": "sugerem",
          "x": 1.2392934560775757,
          "y": 1.1954574584960938
         },
         {
          "emb": [
           -0.6846957206726074,
           0.1958913952112198,
           -0.891716718673706,
           -1.0810562372207642,
           0.03113100863993168,
           0.053930070251226425,
           2.030432939529419,
           0.2073705643415451,
           0.6306561827659607,
           0.9796218872070312
          ],
          "id": 281,
          "words": "artificial",
          "x": 0.003070051083341241,
          "y": -0.5148709416389465
         },
         {
          "emb": [
           -2.332468032836914,
           0.542815089225769,
           -0.26788488030433655,
           0.42347252368927,
           0.2018156200647354,
           1.2552093267440796,
           2.087495803833008,
           0.5898253917694092,
           1.577422022819519,
           0.025061622262001038
          ],
          "id": 282,
          "words": "sobre",
          "x": -1.2312343120574951,
          "y": 1.1824220418930054
         },
         {
          "emb": [
           -0.9216147065162659,
           1.0357873439788818,
           -1.7465057373046875,
           2.498081684112549,
           0.7910924553871155,
           0.8642067313194275,
           1.7345504760742188,
           -0.23293577134609222,
           2.8020095825195312,
           0.20232810080051422
          ],
          "id": 283,
          "words": "britânica",
          "x": -2.853283643722534,
          "y": 1.5278351306915283
         },
         {
          "emb": [
           0.9995461702346802,
           1.073441982269287,
           -0.13013602793216705,
           0.7691192626953125,
           0.04955246299505234,
           -0.6447693705558777,
           -1.3627358675003052,
           0.42812100052833557,
           1.6850751638412476,
           -0.5275086760520935
          ],
          "id": 284,
          "words": "perdão",
          "x": -1.041407585144043,
          "y": 0.6036645174026489
         },
         {
          "emb": [
           -0.8777021169662476,
           -0.7207491993904114,
           1.376041054725647,
           1.458329200744629,
           0.11426965892314911,
           -0.5744262337684631,
           0.49254265427589417,
           0.19212479889392853,
           0.45726779103279114,
           0.7912725210189819
          ],
          "id": 285,
          "words": "neve",
          "x": -1.3958362340927124,
          "y": 0.5371437072753906
         },
         {
          "emb": [
           -0.3647201955318451,
           0.7225302457809448,
           0.9375085234642029,
           0.5041926503181458,
           0.7592633366584778,
           1.8812271356582642,
           0.8726896047592163,
           -1.6204689741134644,
           1.0200796127319336,
           -0.6784197688102722
          ],
          "id": 286,
          "words": "ser",
          "x": -1.7152259349822998,
          "y": -0.9258823990821838
         },
         {
          "emb": [
           -1.8271255493164062,
           0.46050724387168884,
           1.2216854095458984,
           -1.3013008832931519,
           0.23273016512393951,
           1.3236327171325684,
           0.22986960411071777,
           -0.19591358304023743,
           -1.7401753664016724,
           1.3721953630447388
          ],
          "id": 287,
          "words": "deixando",
          "x": 0.5552864670753479,
          "y": -0.7011402249336243
         },
         {
          "emb": [
           0.3044719398021698,
           1.0098389387130737,
           -1.325891375541687,
           -0.4050922393798828,
           0.4161537289619446,
           1.2067813873291016,
           -0.00615428201854229,
           0.34127867221832275,
           0.5273624658584595,
           -1.4659448862075806
          ],
          "id": 288,
          "words": "bomba",
          "x": 0.47411656379699707,
          "y": 0.3929017186164856
         },
         {
          "emb": [
           -1.6433525085449219,
           1.977541208267212,
           0.3551650643348694,
           0.41133394837379456,
           0.3662036955356598,
           -0.1876010000705719,
           -0.7343704104423523,
           0.9477470517158508,
           0.7855093479156494,
           -0.7140900492668152
          ],
          "id": 289,
          "words": "criada",
          "x": -1.2530169486999512,
          "y": 1.7202163934707642
         },
         {
          "emb": [
           -0.16406971216201782,
           -2.1894772052764893,
           -1.2730664014816284,
           0.8085209131240845,
           0.5127399563789368,
           -1.6626389026641846,
           -0.9278948307037354,
           -1.224708080291748,
           -0.20313863456249237,
           0.7496515512466431
          ],
          "id": 290,
          "words": "ocorrido",
          "x": 0.13879738748073578,
          "y": 0.25314807891845703
         },
         {
          "emb": [
           -1.112304449081421,
           -1.0703068971633911,
           -0.3893902897834778,
           -0.2327057123184204,
           -2.109269857406616,
           -0.30983924865722656,
           1.1804720163345337,
           0.08174706250429153,
           0.9216850996017456,
           1.0576283931732178
          ],
          "id": 291,
          "words": "londres",
          "x": 0.19892975687980652,
          "y": 0.5629903674125671
         },
         {
          "emb": [
           -1.5119470357894897,
           0.35028207302093506,
           -0.3843211829662323,
           -1.9760175943374634,
           -1.0048965215682983,
           1.8231531381607056,
           -0.6864417791366577,
           0.9152606725692749,
           0.7712856531143188,
           0.057372722774744034
          ],
          "id": 292,
          "words": "branca",
          "x": 1.5597130060195923,
          "y": 0.5578745007514954
         },
         {
          "emb": [
           -0.7166689038276672,
           1.2087160348892212,
           -1.3389816284179688,
           -1.2765681743621826,
           -0.37664780020713806,
           0.2917865514755249,
           -1.6398946046829224,
           -0.14379119873046875,
           -1.0952448844909668,
           -0.22839239239692688
          ],
          "id": 293,
          "words": "corria",
          "x": 1.2668063640594482,
          "y": 0.5915672779083252
         },
         {
          "emb": [
           1.288402795791626,
           -1.2374082803726196,
           -0.23447850346565247,
           -0.6917537450790405,
           -0.3125935196876526,
           -0.44325754046440125,
           2.171736478805542,
           0.8040128946304321,
           -0.34831029176712036,
           0.7435623407363892
          ],
          "id": 294,
          "words": "perguntas",
          "x": 1.0556777715682983,
          "y": -1.1878938674926758
         },
         {
          "emb": [
           0.46120259165763855,
           -0.0655631572008133,
           1.4678387641906738,
           0.5851181149482727,
           -0.637850284576416,
           -0.5040913820266724,
           -1.2366169691085815,
           -0.4549698531627655,
           0.5544558167457581,
           -1.000000238418579
          ],
          "id": 295,
          "words": "seios",
          "x": -0.6957911849021912,
          "y": 0.07368547469377518
         },
         {
          "emb": [
           -0.4892074763774872,
           -0.6081745028495789,
           -1.0428606271743774,
           -0.9150157570838928,
           -1.2398964166641235,
           -0.7720361351966858,
           0.7306278347969055,
           0.47311219573020935,
           -0.22565363347530365,
           -0.6215296983718872
          ],
          "id": 296,
          "words": "filha",
          "x": 1.2226814031600952,
          "y": 0.6256726384162903
         },
         {
          "emb": [
           1.0021895170211792,
           -0.28244730830192566,
           -0.806535542011261,
           0.05063748359680176,
           -0.1991378515958786,
           -0.5714541077613831,
           -0.48571357131004333,
           -0.14253051578998566,
           -0.44324615597724915,
           -0.3981918692588806
          ],
          "id": 297,
          "words": "poção",
          "x": 0.6227908134460449,
          "y": -0.04451705887913704
         },
         {
          "emb": [
           -1.1110506057739258,
           0.3129754960536957,
           -0.8748056292533875,
           1.2921611070632935,
           0.38450613617897034,
           1.313583493232727,
           -0.5141651034355164,
           0.07803833484649658,
           2.424386501312256,
           -0.4447624683380127
          ],
          "id": 298,
          "words": "começou",
          "x": -1.243468999862671,
          "y": 1.5663145780563354
         },
         {
          "emb": [
           0.36391302943229675,
           -0.2645610272884369,
           0.6574008464813232,
           2.108811855316162,
           -0.8736826777458191,
           0.7889946699142456,
           0.6913951635360718,
           2.2199275493621826,
           0.06871623545885086,
           -0.05024067685008049
          ],
          "id": 299,
          "words": "tommy",
          "x": -0.11264752596616745,
          "y": 1.6786025762557983
         },
         {
          "emb": [
           0.8074179887771606,
           -1.3011990785598755,
           0.6438521146774292,
           0.2771245837211609,
           -1.0152480602264404,
           -1.6000679731369019,
           0.13515523076057434,
           -0.5637869238853455,
           -0.9526532292366028,
           -0.4785938858985901
          ],
          "id": 300,
          "words": "condenação",
          "x": 0.34288886189460754,
          "y": -0.3633776307106018
         },
         {
          "emb": [
           -1.8975452184677124,
           0.20870935916900635,
           2.333570957183838,
           -0.7135323882102966,
           -0.19762066006660461,
           -0.6124529242515564,
           0.23487745225429535,
           0.10090819001197815,
           0.6389927864074707,
           -0.20950143039226532
          ],
          "id": 301,
          "words": "ace",
          "x": -0.98592209815979,
          "y": 0.03656468167901039
         },
         {
          "emb": [
           -0.1332363337278366,
           -0.5140596032142639,
           -1.1660758256912231,
           1.187549114227295,
           -0.28587472438812256,
           0.6317692399024963,
           -0.7985201478004456,
           -0.2407686412334442,
           0.35291650891304016,
           -0.3568514585494995
          ],
          "id": 302,
          "words": "crescer",
          "x": 0.08053820580244064,
          "y": 1.163511872291565
         },
         {
          "emb": [
           0.46427270770072937,
           1.6690843105316162,
           -0.011632843874394894,
           0.5024461150169373,
           1.4078941345214844,
           0.8723318576812744,
           -0.5661279559135437,
           -0.2676343321800232,
           -0.7478039860725403,
           1.0187795162200928
          ],
          "id": 303,
          "words": "jovem",
          "x": -0.7972765564918518,
          "y": -0.5574183464050293
         },
         {
          "emb": [
           -0.30122318863868713,
           -2.596588373184204,
           -0.4781937003135681,
           -1.8526227474212646,
           -0.2629599869251251,
           1.9584593772888184,
           0.8013811707496643,
           -0.6273510456085205,
           -0.1197466105222702,
           1.018127202987671
          ],
          "id": 304,
          "words": "teoremas",
          "x": 2.2693638801574707,
          "y": -1.5525403022766113
         },
         {
          "emb": [
           -0.21487922966480255,
           1.0257717370986938,
           -0.8573682308197021,
           2.1934564113616943,
           -1.0215498208999634,
           2.421647310256958,
           -0.6605668067932129,
           -1.4525001049041748,
           -1.2705174684524536,
           -0.0003396955435164273
          ],
          "id": 305,
          "words": "poderosos",
          "x": -0.5916881561279297,
          "y": 1.045997977256775
         },
         {
          "emb": [
           -1.394579529762268,
           -0.13300031423568726,
           -1.3076859712600708,
           -1.0261406898498535,
           -1.0428656339645386,
           -0.8068750500679016,
           -0.6951048374176025,
           0.8213096261024475,
           0.8007126450538635,
           0.03389366716146469
          ],
          "id": 306,
          "words": "armazenado",
          "x": 0.9221116304397583,
          "y": 1.4173282384872437
         },
         {
          "emb": [
           -0.6835552453994751,
           -0.01736326329410076,
           0.46501749753952026,
           0.37972408533096313,
           -3.0232250690460205,
           -3.4534008502960205,
           0.9039748311042786,
           -2.8105790615081787,
           0.13274911046028137,
           0.5217509269714355
          ],
          "id": 307,
          "words": "modern",
          "x": -2.0250003337860107,
          "y": -0.2615673243999481
         },
         {
          "emb": [
           2.1004838943481445,
           0.13380023837089539,
           -0.9377098083496094,
           -0.8895419836044312,
           1.448241114616394,
           0.7631383538246155,
           -1.165446400642395,
           0.34216901659965515,
           0.4053274691104889,
           -0.8227425813674927
          ],
          "id": 308,
          "words": "obteve",
          "x": 1.164011001586914,
          "y": -1.0441235303878784
         },
         {
          "emb": [
           0.88841313123703,
           0.6725180745124817,
           -0.08865492790937424,
           0.3629167973995209,
           0.3806125521659851,
           1.167447566986084,
           -0.8827317357063293,
           0.8004975318908691,
           1.780732274055481,
           0.04575023055076599
          ],
          "id": 309,
          "words": "desumano",
          "x": -0.3673534095287323,
          "y": 0.14058449864387512
         },
         {
          "emb": [
           0.5422543883323669,
           -0.6335761547088623,
           -0.15217968821525574,
           -0.4586760699748993,
           -1.361352562904358,
           1.544629454612732,
           0.11898931115865707,
           -0.5867600440979004,
           0.7882998585700989,
           -0.1460394412279129
          ],
          "id": 310,
          "words": "preconceituoso",
          "x": 0.6938388347625732,
          "y": -0.571076512336731
         },
         {
          "emb": [
           0.21734030544757843,
           0.20961791276931763,
           0.4291039705276489,
           0.9673352241516113,
           -1.225582480430603,
           -0.06974998116493225,
           -0.6470630764961243,
           0.5078802704811096,
           0.6054461002349854,
           -1.8278014659881592
          ],
          "id": 311,
          "words": "serviço",
          "x": -0.22760702669620514,
          "y": 1.3395347595214844
         },
         {
          "emb": [
           1.7497369050979614,
           -1.1853471994400024,
           0.6731863021850586,
           0.8047761917114258,
           0.21727120876312256,
           1.3030706644058228,
           -0.08728774636983871,
           0.4636046290397644,
           -1.7457271814346313,
           -0.9501236081123352
          ],
          "id": 312,
          "words": "semanas",
          "x": 1.367438554763794,
          "y": -0.46357372403144836
         },
         {
          "emb": [
           -0.4703647494316101,
           -0.6573838591575623,
           -1.5887603759765625,
           0.08852934092283249,
           -1.6277589797973633,
           0.25892651081085205,
           -2.5119283199310303,
           -0.3792146146297455,
           -0.4847094714641571,
           0.8229721188545227
          ],
          "id": 313,
          "words": "history",
          "x": 1.4235012531280518,
          "y": 1.280449390411377
         },
         {
          "emb": [
           0.1745373159646988,
           0.12570182979106903,
           -0.2852792739868164,
           0.6788619756698608,
           -0.38136833906173706,
           -1.7764134407043457,
           2.040250539779663,
           0.8484419584274292,
           0.1946977972984314,
           -0.6860682964324951
          ],
          "id": 314,
          "words": "aparente",
          "x": -0.7155004143714905,
          "y": 0.66376793384552
         },
         {
          "emb": [
           0.7547386884689331,
           1.5119181871414185,
           2.43573260307312,
           0.5051125884056091,
           1.0514681339263916,
           0.21064502000808716,
           -0.24246513843536377,
           -0.03326566144824028,
           -0.4648166298866272,
           -0.9368754625320435
          ],
          "id": 315,
          "words": "especialmente",
          "x": -1.369086503982544,
          "y": -0.836760938167572
         },
         {
          "emb": [
           0.5687869787216187,
           -0.42127835750579834,
           -0.3083726167678833,
           -0.25092795491218567,
           -0.16611547768115997,
           -1.0669834613800049,
           1.1848679780960083,
           -0.7457568645477295,
           -0.28955212235450745,
           -0.6564375758171082
          ],
          "id": 316,
          "words": "tornasse",
          "x": -0.05778920277953148,
          "y": -0.6863381862640381
         },
         {
          "emb": [
           0.854695737361908,
           -0.07276829332113266,
           -0.5531456470489502,
           0.46319150924682617,
           1.3032333850860596,
           -0.04743627458810806,
           0.6715551614761353,
           -0.8304780721664429,
           0.9964783787727356,
           0.30400267243385315
          ],
          "id": 317,
          "words": "exército",
          "x": -1.0348446369171143,
          "y": -0.9551997184753418
         },
         {
          "emb": [
           -0.10329470783472061,
           1.6312867403030396,
           -0.7292405962944031,
           0.13167057931423187,
           -1.6312702894210815,
           1.5031636953353882,
           0.41306447982788086,
           1.0167351961135864,
           0.6912506818771362,
           0.12578505277633667
          ],
          "id": 318,
          "words": "inteligência",
          "x": 0.058828942477703094,
          "y": 1.0139763355255127
         },
         {
          "emb": [
           -0.2721192240715027,
           -0.4609491527080536,
           0.6376135945320129,
           -0.028817560523748398,
           -0.49908360838890076,
           -0.03448566421866417,
           1.7309386730194092,
           -0.2862611413002014,
           -0.5936780571937561,
           0.0851902961730957
          ],
          "id": 319,
          "words": "mudava",
          "x": -0.13982734084129333,
          "y": -0.5164592862129211
         },
         {
          "emb": [
           0.4047635495662689,
           -1.350156307220459,
           -0.5695657730102539,
           1.6431881189346313,
           0.7423601746559143,
           -0.7899327278137207,
           -1.3813843727111816,
           0.19673141837120056,
           -1.9431706666946411,
           0.2636147737503052
          ],
          "id": 320,
          "words": "ator",
          "x": 0.7073296308517456,
          "y": 0.9494762420654297
         },
         {
          "emb": [
           -0.3739550709724426,
           1.7993676662445068,
           -1.2934343814849854,
           1.794601321220398,
           -0.46334534883499146,
           -0.7353626489639282,
           0.17737601697444916,
           -1.2312456369400024,
           0.25449272990226746,
           1.285982370376587
          ],
          "id": 321,
          "words": "government",
          "x": -2.237868070602417,
          "y": 0.8198661804199219
         },
         {
          "emb": [
           1.6737174987792969,
           -0.2998732030391693,
           -0.2696583569049835,
           0.5841286182403564,
           -0.4566253423690796,
           -0.20392344892024994,
           0.3305135667324066,
           0.6058934926986694,
           0.38462522625923157,
           -1.0028446912765503
          ],
          "id": 322,
          "words": "malvada",
          "x": 0.28329992294311523,
          "y": 0.05053991451859474
         },
         {
          "emb": [
           -0.10370178520679474,
           -0.5187625288963318,
           -0.7995951175689697,
           -1.262030005455017,
           0.42795124650001526,
           -0.39760804176330566,
           0.7961114645004272,
           -1.5167728662490845,
           -0.8878788948059082,
           -2.0987179279327393
          ],
          "id": 323,
          "words": "produtos",
          "x": 0.7839876413345337,
          "y": -0.8200058341026306
         },
         {
          "emb": [
           -0.7433347702026367,
           0.17630527913570404,
           -0.9146064519882202,
           -0.06703407317399979,
           0.5805844664573669,
           -0.08526358008384705,
           0.572729229927063,
           -0.6403032541275024,
           -0.06997251510620117,
           2.0142431259155273
          ],
          "id": 324,
          "words": "vícios",
          "x": -0.5317806601524353,
          "y": -0.3960496783256531
         },
         {
          "emb": [
           1.4713408946990967,
           -0.8258956670761108,
           0.19448643922805786,
           -0.3889526128768921,
           0.05569085106253624,
           0.7611973881721497,
           1.508715271949768,
           -1.514553427696228,
           -0.6592770218849182,
           -0.11178725957870483
          ],
          "id": 325,
          "words": "oscilantes",
          "x": 0.2797357141971588,
          "y": -2.1433887481689453
         },
         {
          "emb": [
           0.40321817994117737,
           -0.09644641727209091,
           0.10922843217849731,
           -1.1458333730697632,
           -0.8514001369476318,
           0.818973183631897,
           0.20939721167087555,
           -0.2090192586183548,
           -0.1545173078775406,
           -0.6890415549278259
          ],
          "id": 326,
          "words": "general",
          "x": 1.0156831741333008,
          "y": -0.6847087144851685
         },
         {
          "emb": [
           2.253236770629883,
           0.6448153853416443,
           -0.5791475772857666,
           -0.06408263742923737,
           -1.0441192388534546,
           2.5875470638275146,
           -1.6009446382522583,
           0.7571235299110413,
           1.5068414211273193,
           -0.5805765390396118
          ],
          "id": 327,
          "words": "ii",
          "x": 1.0580345392227173,
          "y": -0.12614743411540985
         },
         {
          "emb": [
           -0.3253293037414551,
           -2.538186550140381,
           -0.34252166748046875,
           -0.4426784813404083,
           0.018080249428749084,
           -0.7506390810012817,
           -0.8213866949081421,
           -0.5495072603225708,
           1.2417515516281128,
           0.4161335825920105
          ],
          "id": 328,
          "words": "concreta",
          "x": 0.6657555103302002,
          "y": -0.18784365057945251
         },
         {
          "emb": [
           0.49316316843032837,
           1.9829702377319336,
           -0.8004429340362549,
           -0.2692438066005707,
           0.3398957848548889,
           -0.289249986410141,
           0.31395646929740906,
           2.0237507820129395,
           -0.953075647354126,
           1.0713082551956177
          ],
          "id": 329,
          "words": "teste",
          "x": 0.3999062180519104,
          "y": 0.4812343418598175
         },
         {
          "emb": [
           -0.496978759765625,
           0.5690557360649109,
           -0.024083206430077553,
           1.4238957166671753,
           0.48049649596214294,
           -1.0656129121780396,
           -0.16444814205169678,
           -0.028857240453362465,
           -0.04981841892004013,
           0.4541782736778259
          ],
          "id": 330,
          "words": "realidade",
          "x": -1.3957000970840454,
          "y": 0.8843494653701782
         },
         {
          "emb": [
           -0.8215163946151733,
           1.0918684005737305,
           -0.8553564548492432,
           -0.5845251679420471,
           1.4381768703460693,
           -0.20172753930091858,
           -0.3217753469944,
           -1.600468397140503,
           0.16567325592041016,
           0.0478547140955925
          ],
          "id": 331,
          "words": "castração",
          "x": -0.9496028423309326,
          "y": -0.5683011412620544
         },
         {
          "emb": [
           0.15015605092048645,
           0.003984909970313311,
           -0.8847583532333374,
           0.5527704358100891,
           0.5918915271759033,
           -0.2176719605922699,
           0.19877532124519348,
           0.1920294612646103,
           1.7555227279663086,
           -0.10429845005273819
          ],
          "id": 332,
          "words": "indian",
          "x": -0.8012748956680298,
          "y": 0.41161999106407166
         },
         {
          "emb": [
           -1.298758864402771,
           -0.13214924931526184,
           1.2549821138381958,
           2.086516857147217,
           -0.9553472995758057,
           -0.23756296932697296,
           -1.463272213935852,
           2.1918585300445557,
           0.3254583477973938,
           0.25085556507110596
          ],
          "id": 333,
          "words": "mudaram",
          "x": -0.5065426826477051,
          "y": 2.8389406204223633
         },
         {
          "emb": [
           0.8758382797241211,
           0.06065770983695984,
           -0.5358031988143921,
           -0.4776884615421295,
           0.989324688911438,
           0.3887755870819092,
           1.1873924732208252,
           1.690834641456604,
           -0.6142366528511047,
           0.46870988607406616
          ],
          "id": 334,
          "words": "base",
          "x": 1.0181849002838135,
          "y": -0.3923923969268799
         },
         {
          "emb": [
           0.3676702380180359,
           -1.9525660276412964,
           -0.06430710852146149,
           -1.1995158195495605,
           -0.48864567279815674,
           1.3831082582473755,
           0.3444191515445709,
           -0.2692628502845764,
           -1.3356133699417114,
           -0.3927764296531677
          ],
          "id": 335,
          "words": "pois",
          "x": 2.3572661876678467,
          "y": -0.9734290242195129
         },
         {
          "emb": [
           0.18428558111190796,
           -0.801638126373291,
           -0.5930540561676025,
           0.22250138223171234,
           -1.7563890218734741,
           -2.6644210815429688,
           -2.1285789012908936,
           0.8556497693061829,
           0.5963886976242065,
           -1.6771912574768066
          ],
          "id": 336,
          "words": "inalação",
          "x": 0.8082340955734253,
          "y": 2.024777889251709
         },
         {
          "emb": [
           0.47610771656036377,
           -0.7322625517845154,
           0.07764536887407303,
           -0.7335392832756042,
           0.34930846095085144,
           -0.8583441376686096,
           -0.6697577834129333,
           -0.6559299230575562,
           0.40867072343826294,
           2.578664779663086
          ],
          "id": 337,
          "words": "fez",
          "x": -0.054055970162153244,
          "y": -1.466343879699707
         },
         {
          "emb": [
           -0.024525778368115425,
           0.823154866695404,
           0.831476092338562,
           -0.677793025970459,
           -0.9450292587280273,
           -0.19607003033161163,
           0.7927477955818176,
           0.024719757959246635,
           -2.7952077388763428,
           -0.015891456976532936
          ],
          "id": 338,
          "words": "causada",
          "x": 0.8079320192337036,
          "y": -0.48903533816337585
         },
         {
          "emb": [
           -0.24369485676288605,
           -0.14739187061786652,
           -0.4514581859111786,
           -0.0618307963013649,
           1.1785953044891357,
           0.23308518528938293,
           0.9743182063102722,
           -0.4415920674800873,
           0.30540427565574646,
           -0.5490726232528687
          ],
          "id": 339,
          "words": "internet",
          "x": -0.3687727451324463,
          "y": -0.3635367155075073
         },
         {
          "emb": [
           -0.23951102793216705,
           0.8965690732002258,
           -1.7187272310256958,
           -0.6206014752388,
           1.4312371015548706,
           -0.5056203007698059,
           -0.4655376076698303,
           -1.1855958700180054,
           0.7800664901733398,
           -0.16773943603038788
          ],
          "id": 340,
          "words": "descuido",
          "x": -0.6137686371803284,
          "y": -0.3316984474658966
         },
         {
          "emb": [
           -1.5027447938919067,
           -0.4525616765022278,
           -0.4568071663379669,
           -1.7421537637710571,
           -0.05641327053308487,
           -0.438583642244339,
           -1.0249664783477783,
           0.7768558263778687,
           -0.2512335479259491,
           -0.3899780213832855
          ],
          "id": 341,
          "words": "dados",
          "x": 1.5884218215942383,
          "y": 0.729758083820343
         },
         {
          "emb": [
           0.9226912260055542,
           0.2829294800758362,
           0.4809604287147522,
           -1.287535548210144,
           -0.6436183452606201,
           -0.9321046471595764,
           -0.6969484686851501,
           -1.4675838947296143,
           0.2168613225221634,
           -1.1923506259918213
          ],
          "id": 342,
          "words": "reino",
          "x": 0.050311941653490067,
          "y": -1.3009788990020752
         },
         {
          "emb": [
           -0.0004688600020017475,
           -1.600722312927246,
           2.7693710327148438,
           0.9341316819190979,
           0.2996385991573334,
           -1.4592646360397339,
           -0.9080038666725159,
           0.6724803447723389,
           -1.118975043296814,
           -0.11479991674423218
          ],
          "id": 343,
          "words": "programa",
          "x": -0.09853475540876389,
          "y": 0.11743234097957611
         },
         {
          "emb": [
           -0.5576203465461731,
           1.357120394706726,
           -0.5025529861450195,
           -1.4644510746002197,
           -0.6671563386917114,
           0.5180495977401733,
           -0.9335537552833557,
           -1.0536073446273804,
           1.1898174285888672,
           -0.5572596788406372
          ],
          "id": 344,
          "words": "codificação",
          "x": -0.15010887384414673,
          "y": -0.2858286499977112
         },
         {
          "emb": [
           0.5506083369255066,
           0.2196188122034073,
           -0.4920493960380554,
           -0.4918874204158783,
           -0.02076047845184803,
           -0.9086877703666687,
           0.8057811260223389,
           -1.410949468612671,
           0.156083345413208,
           -2.7557599544525146
          ],
          "id": 345,
          "words": "aniversário",
          "x": -0.2871534526348114,
          "y": -0.48805391788482666
         },
         {
          "emb": [
           1.5044727325439453,
           -0.47615355253219604,
           -0.849872887134552,
           0.039852075278759,
           0.9536905884742737,
           2.283921957015991,
           -1.2751609086990356,
           1.4276050329208374,
           0.9755342602729797,
           0.26576295495033264
          ],
          "id": 346,
          "words": "east",
          "x": 1.3727622032165527,
          "y": -0.05151929706335068
         },
         {
          "emb": [
           1.237821102142334,
           0.3811584413051605,
           3.0726330280303955,
           -0.9040342569351196,
           -0.44204676151275635,
           -0.23745021224021912,
           -0.8087166547775269,
           -0.9063656330108643,
           -0.5139490962028503,
           1.9094640016555786
          ],
          "id": 347,
          "words": "nome",
          "x": -0.5910089015960693,
          "y": -2.6162657737731934
         },
         {
          "emb": [
           -2.4925549030303955,
           -1.41396963596344,
           -1.1594407558441162,
           2.554826259613037,
           0.36733272671699524,
           0.01580880954861641,
           0.10842253267765045,
           -0.03060859814286232,
           -0.40836504101753235,
           -0.18995210528373718
          ],
          "id": 348,
          "words": "primeira",
          "x": -0.6250784397125244,
          "y": 2.794494390487671
         },
         {
          "emb": [
           1.3427129983901978,
           2.7197394371032715,
           0.3342224657535553,
           -0.6909711956977844,
           -0.8810392022132874,
           0.3254084289073944,
           0.9376307725906372,
           -1.5805985927581787,
           2.3431310653686523,
           -1.900848627090454
          ],
          "id": 349,
          "words": "próprias",
          "x": -2.021622896194458,
          "y": -1.3538615703582764
         },
         {
          "emb": [
           -1.0312858819961548,
           0.12672001123428345,
           -2.282425880432129,
           1.4654649496078491,
           -0.33468157052993774,
           0.2847377061843872,
           -0.21870973706245422,
           0.2759053111076355,
           1.2622209787368774,
           1.6598573923110962
          ],
          "id": 350,
          "words": "reação",
          "x": -0.6926582455635071,
          "y": 1.8142188787460327
         },
         {
          "emb": [
           -0.28293484449386597,
           2.3601138591766357,
           -0.445596307516098,
           1.4636380672454834,
           -0.4544331133365631,
           -1.5941952466964722,
           -1.3491405248641968,
           0.31006598472595215,
           -1.3778736591339111,
           0.7623178362846375
          ],
          "id": 351,
          "words": "bastante",
          "x": -1.1828320026397705,
          "y": 1.6014519929885864
         },
         {
          "emb": [
           0.6713175177574158,
           1.1621484756469727,
           0.22200503945350647,
           -0.862095296382904,
           1.0570456981658936,
           -0.3564588725566864,
           -2.010681629180908,
           -0.006229761987924576,
           -1.675215244293213,
           0.22294212877750397
          ],
          "id": 352,
          "words": "barão",
          "x": 0.7022468447685242,
          "y": -0.6476302742958069
         },
         {
          "emb": [
           0.45875635743141174,
           -0.5796974301338196,
           -0.8823133707046509,
           0.40073361992836,
           0.2774277925491333,
           -0.5370342135429382,
           -0.5520559549331665,
           -0.703309953212738,
           0.34014004468917847,
           1.5275641679763794
          ],
          "id": 353,
          "words": "respostas",
          "x": -0.25964611768722534,
          "y": -0.3869556784629822
         },
         {
          "emb": [
           -0.1125974953174591,
           -1.461520791053772,
           -0.38891494274139404,
           0.9584298729896545,
           -1.8341792821884155,
           0.27398061752319336,
           0.894345760345459,
           0.6259490251541138,
           -0.5147200226783752,
           -1.7587753534317017
          ],
          "id": 354,
          "words": "edward",
          "x": 1.0757369995117188,
          "y": 1.5021123886108398
         },
         {
          "emb": [
           -0.22480876743793488,
           -0.23864267766475677,
           -0.5186747312545776,
           -0.7447013854980469,
           -0.22709700465202332,
           0.16471847891807556,
           0.4692840874195099,
           1.1045972108840942,
           -0.4858265519142151,
           -1.451492428779602
          ],
          "id": 355,
          "words": "press",
          "x": 1.3660125732421875,
          "y": 0.6666713953018188
         },
         {
          "emb": [
           0.5305095911026001,
           -1.4994421005249023,
           0.6942161917686462,
           0.5770535469055176,
           -0.26395997405052185,
           -0.22017088532447815,
           -0.08059544861316681,
           1.332268476486206,
           0.8256751298904419,
           -0.7216233611106873
          ],
          "id": 356,
          "words": "década",
          "x": 0.5037311315536499,
          "y": 0.607153058052063
         },
         {
          "emb": [
           0.8782025575637817,
           0.8744579553604126,
           0.6151251196861267,
           0.9866898059844971,
           0.3205135762691498,
           -0.0840863361954689,
           -0.6894341707229614,
           0.36249029636383057,
           0.5528793931007385,
           1.3071057796478271
          ],
          "id": 357,
          "words": "algoritmo",
          "x": -1.1263558864593506,
          "y": -0.17942474782466888
         },
         {
          "emb": [
           1.6845296621322632,
           -0.45220887660980225,
           1.1166743040084839,
           -0.519923210144043,
           -0.868667483329773,
           -0.3743039667606354,
           0.44847607612609863,
           0.7481036186218262,
           0.9954696297645569,
           -1.297003149986267
          ],
          "id": 358,
          "words": "phoenix",
          "x": 0.38858291506767273,
          "y": -0.7312836647033691
         },
         {
          "emb": [
           -0.3056204617023468,
           -0.20735353231430054,
           0.6002611517906189,
           -2.307767629623413,
           -0.3124029338359833,
           0.9800552129745483,
           -1.8668817281723022,
           0.6238939762115479,
           1.3561804294586182,
           0.8302465677261353
          ],
          "id": 359,
          "words": "bletchley",
          "x": 1.3496617078781128,
          "y": -0.7178354263305664
         },
         {
          "emb": [
           0.6389007568359375,
           0.8818836808204651,
           0.6765591502189636,
           -0.3763273060321808,
           1.1640616655349731,
           -0.0804789811372757,
           -0.7718362808227539,
           0.4200432300567627,
           -0.4148043394088745,
           0.14106301963329315
          ],
          "id": 360,
          "words": "iniciar",
          "x": -0.07430758327245712,
          "y": -0.6398176550865173
         },
         {
          "emb": [
           0.9531567692756653,
           0.9254764914512634,
           0.8636545538902283,
           0.32813844084739685,
           -1.4070403575897217,
           2.151400566101074,
           -0.5858775973320007,
           0.8964713215827942,
           0.18438811600208282,
           -0.8272330164909363
          ],
          "id": 361,
          "words": "província",
          "x": 0.49517565965652466,
          "y": 0.33107420802116394
         },
         {
          "emb": [
           -0.11321933567523956,
           -1.0563716888427734,
           0.6209173798561096,
           0.5001115202903748,
           -0.8439702391624451,
           -0.2812540531158447,
           -0.18473654985427856,
           -0.016893306747078896,
           -0.6271169781684875,
           2.9995930194854736
          ],
          "id": 362,
          "words": "exame",
          "x": 0.051046501845121384,
          "y": -0.39560404419898987
         },
         {
          "emb": [
           0.3345957100391388,
           0.3922559916973114,
           0.5794783234596252,
           -0.026199396699666977,
           0.7287959456443787,
           -0.9512903690338135,
           -0.36911118030548096,
           0.7272500395774841,
           -0.08010706305503845,
           -2.4747395515441895
          ],
          "id": 363,
          "words": "definições",
          "x": 0.0076246606186032295,
          "y": 0.5438823699951172
         },
         {
          "emb": [
           0.06514735519886017,
           0.2906125485897064,
           0.25079450011253357,
           -0.2409573644399643,
           0.05907808989286423,
           0.30756986141204834,
           0.6096971035003662,
           -1.0377579927444458,
           -0.46963343024253845,
           1.0451728105545044
          ],
          "id": 364,
          "words": "woking",
          "x": -0.4439716339111328,
          "y": -1.1302752494812012
         },
         {
          "emb": [
           1.1677320003509521,
           -0.49289220571517944,
           0.20461499691009521,
           -0.9124490022659302,
           1.8933440446853638,
           0.8426891565322876,
           0.7478201985359192,
           0.7667798399925232,
           -0.3176824748516083,
           0.10644197463989258
          ],
          "id": 365,
          "words": "efetuar",
          "x": 0.918286144733429,
          "y": -1.5048151016235352
         },
         {
          "emb": [
           0.5282130241394043,
           -1.1127336025238037,
           -0.002412164583802223,
           -0.2992868721485138,
           -1.3431776762008667,
           -1.6777095794677734,
           0.4587917923927307,
           2.1470985412597656,
           1.6342132091522217,
           -0.13680565357208252
          ],
          "id": 366,
          "words": "impróprios",
          "x": 0.6832781434059143,
          "y": 0.8768278360366821
         },
         {
          "emb": [
           -1.687780737876892,
           1.022046446800232,
           1.7467329502105713,
           0.9084040522575378,
           2.1624903678894043,
           -0.6259371638298035,
           -0.15215307474136353,
           0.6946495771408081,
           0.3391026556491852,
           0.9797990322113037
          ],
          "id": 367,
          "words": "projeto",
          "x": -2.1251838207244873,
          "y": 0.49639150500297546
         },
         {
          "emb": [
           0.3296106159687042,
           1.5062670707702637,
           -1.3946725130081177,
           0.937691867351532,
           1.6967506408691406,
           0.07469876110553741,
           1.4708980321884155,
           0.9733928442001343,
           0.5665886402130127,
           -0.011471052654087543
          ],
          "id": 368,
          "words": "irmão",
          "x": -1.1193552017211914,
          "y": 0.5148582458496094
         },
         {
          "emb": [
           1.6263747215270996,
           -1.031211495399475,
           -0.16786839067935944,
           1.356661081314087,
           0.1295635849237442,
           1.1408923864364624,
           0.19820177555084229,
           0.8962821364402771,
           1.3618439435958862,
           0.0827820673584938
          ],
          "id": 369,
          "words": "declarar",
          "x": 0.014298159629106522,
          "y": 0.07099922001361847
         },
         {
          "emb": [
           -0.9321304559707642,
           -0.8861746191978455,
           0.056306954473257065,
           0.8479817509651184,
           -0.7146511673927307,
           0.6300709247589111,
           -0.8146239519119263,
           -1.4033836126327515,
           -0.829636812210083,
           0.5328795313835144
          ],
          "id": 370,
          "words": "programada",
          "x": -0.03688674047589302,
          "y": 0.3698218762874603
         },
         {
          "emb": [
           -0.30511099100112915,
           -0.29330435395240784,
           -1.0846351385116577,
           0.5422664284706116,
           -0.143940731883049,
           -0.05683847516775131,
           -0.4098172187805176,
           0.9248072504997253,
           0.49140679836273193,
           0.1298486441373825
          ],
          "id": 371,
          "words": "computadores",
          "x": 0.357529878616333,
          "y": 1.2668728828430176
         },
         {
          "emb": [
           1.3333358764648438,
           0.47190457582473755,
           -0.7457889318466187,
           -0.1905120313167572,
           -0.7983689904212952,
           1.1592555046081543,
           0.10667828470468521,
           -1.2707079648971558,
           0.20026063919067383,
           0.7393641471862793
          ],
          "id": 372,
          "words": "suicídio",
          "x": 0.031503304839134216,
          "y": -1.238585352897644
         },
         {
          "emb": [
           0.03856738656759262,
           -0.37700167298316956,
           0.7772975564002991,
           1.1099331378936768,
           1.806808590888977,
           0.6514021158218384,
           -0.7314473390579224,
           -0.22584488987922668,
           0.399118572473526,
           0.07473554462194443
          ],
          "id": 373,
          "words": "governo",
          "x": -0.9122579097747803,
          "y": -0.15633906424045563
         },
         {
          "emb": [
           2.2298662662506104,
           0.4961288273334503,
           -0.2834528088569641,
           1.4357246160507202,
           -0.9733372330665588,
           -1.0608359575271606,
           -1.8339987993240356,
           0.5855334401130676,
           0.321961373090744,
           2.575080394744873
          ],
          "id": 374,
          "words": "sido",
          "x": -0.49160701036453247,
          "y": 0.03777953237295151
         },
         {
          "emb": [
           0.5077157616615295,
           -0.49915531277656555,
           0.7242242693901062,
           -0.42346814274787903,
           -1.4948164224624634,
           -0.24562683701515198,
           0.3260056972503662,
           1.8245104551315308,
           0.35728856921195984,
           -1.1016284227371216
          ],
          "id": 375,
          "words": "seção",
          "x": 1.1132258176803589,
          "y": 0.6604433655738831
         },
         {
          "emb": [
           0.27773526310920715,
           -1.638244867324829,
           -0.2534935772418976,
           0.1999501734972,
           -2.458489418029785,
           -0.9405685067176819,
           -1.0353069305419922,
           -0.7507563233375549,
           1.5095489025115967,
           -0.19726669788360596
          ],
          "id": 376,
          "words": "diariamente",
          "x": 0.29505372047424316,
          "y": 0.5238019824028015
         },
         {
          "emb": [
           0.07074157148599625,
           -1.6029149293899536,
           0.7788095474243164,
           0.8989728689193726,
           -1.1993292570114136,
           1.6743252277374268,
           -1.1521711349487305,
           -1.457549810409546,
           2.2731516361236572,
           -0.3818165957927704
          ],
          "id": 377,
          "words": "desculpa",
          "x": -0.5610376596450806,
          "y": -0.08134395629167557
         },
         {
          "emb": [
           0.23518605530261993,
           2.773621082305908,
           -0.3662826120853424,
           -0.6200441718101501,
           -0.18460994958877563,
           -1.0329240560531616,
           0.3971288502216339,
           -1.1462795734405518,
           1.5019574165344238,
           1.6005537509918213
          ],
          "id": 378,
          "words": "projeção",
          "x": -2.2306017875671387,
          "y": -1.090200424194336
         },
         {
          "emb": [
           0.591239869594574,
           -0.7346394658088684,
           0.5157155990600586,
           0.08464950323104858,
           0.5131489634513855,
           0.08665347844362259,
           -0.16974470019340515,
           -0.7605358958244324,
           -0.8940431475639343,
           0.185764878988266
          ],
          "id": 379,
          "words": "bihar",
          "x": 0.21113437414169312,
          "y": -0.9497026205062866
         },
         {
          "emb": [
           0.30788740515708923,
           -2.306499481201172,
           0.8658916354179382,
           0.9608047008514404,
           -0.8795069456100464,
           -0.3985101878643036,
           -0.7254923582077026,
           0.1601361334323883,
           0.6682940721511841,
           -0.8715860843658447
          ],
          "id": 380,
          "words": "invention",
          "x": 0.4014958441257477,
          "y": 0.6230926513671875
         },
         {
          "emb": [
           0.3371969163417816,
           -0.6271352171897888,
           -1.1991431713104248,
           -0.469341903924942,
           -0.42155924439430237,
           0.9538511633872986,
           -0.34615981578826904,
           -2.7750046253204346,
           0.3978233337402344,
           0.8050171136856079
          ],
          "id": 381,
          "words": "papel",
          "x": -0.015071782283484936,
          "y": -1.4507955312728882
         },
         {
          "emb": [
           -0.6357061266899109,
           -1.8844674825668335,
           0.1362481564283371,
           1.0434092283248901,
           -0.10060485452413559,
           -0.8056966662406921,
           1.1846338510513306,
           1.2662824392318726,
           0.7287035584449768,
           0.18358951807022095
          ],
          "id": 382,
          "words": "homossexuais",
          "x": -0.048524677753448486,
          "y": 1.0890729427337646
         },
         {
          "emb": [
           1.2736127376556396,
           0.1698009967803955,
           -1.8550851345062256,
           -1.3378591537475586,
           -1.5136163234710693,
           -1.116702675819397,
           -0.9446843862533569,
           0.08062395453453064,
           -0.8581594824790955,
           -0.32218295335769653
          ],
          "id": 383,
          "words": "bibliografia",
          "x": 1.9229096174240112,
          "y": -0.012993961572647095
         },
         {
          "emb": [
           -0.2174799144268036,
           0.3222966492176056,
           0.20102611184120178,
           -0.9697492122650146,
           -0.8571313619613647,
           -1.151497483253479,
           -0.7113154530525208,
           0.546870231628418,
           0.6198986172676086,
           2.0960922241210938
          ],
          "id": 384,
          "words": "junho",
          "x": 0.050074249505996704,
          "y": -0.23892813920974731
         },
         {
          "emb": [
           -2.575214147567749,
           -0.353346049785614,
           -0.5800936818122864,
           -0.18359901010990143,
           0.28504207730293274,
           0.8646169900894165,
           -0.9935992360115051,
           0.8175269961357117,
           -1.7133681774139404,
           1.2286410331726074
          ],
          "id": 385,
          "words": "anterior",
          "x": 1.261694312095642,
          "y": 1.5687599182128906
         },
         {
          "emb": [
           0.7856507301330566,
           -1.4032270908355713,
           -0.33662164211273193,
           1.3575937747955322,
           -0.013629156164824963,
           0.7998371124267578,
           0.9774808287620544,
           0.5915951728820801,
           -1.579939842224121,
           0.24696409702301025
          ],
          "id": 386,
          "words": "terem",
          "x": 0.9208593964576721,
          "y": 0.25352057814598083
         },
         {
          "emb": [
           -1.4713839292526245,
           -0.9776033759117126,
           0.3119969964027405,
           -0.524136483669281,
           -0.4202467203140259,
           -2.0408072471618652,
           -1.8225997686386108,
           1.3966064453125,
           1.4593807458877563,
           -0.7315708994865417
          ],
          "id": 387,
          "words": "hut",
          "x": 0.419410765171051,
          "y": 1.8196624517440796
         },
         {
          "emb": [
           0.9000263810157776,
           0.00468960078433156,
           -0.2204301953315735,
           0.6980702877044678,
           -1.081956386566162,
           0.8924486041069031,
           -0.060409024357795715,
           1.8284952640533447,
           -1.4455277919769287,
           1.3477731943130493
          ],
          "id": 388,
          "words": "deliberadamente",
          "x": 1.3311280012130737,
          "y": 0.6632204055786133
         },
         {
          "emb": [
           0.4377988278865814,
           -0.036818988621234894,
           0.8019332885742188,
           0.7507749199867249,
           0.859298825263977,
           -0.3603799641132355,
           -1.840478777885437,
           0.7150987386703491,
           -0.3025038242340088,
           0.29035982489585876
          ],
          "id": 389,
          "words": "responsável",
          "x": -0.07711408287286758,
          "y": 0.3857805132865906
         },
         {
          "emb": [
           1.1109696626663208,
           -0.40757623314857483,
           0.3306189477443695,
           -0.3646397590637207,
           -0.2811809182167053,
           0.6017457842826843,
           0.714712381362915,
           0.8474562168121338,
           1.2889107465744019,
           0.0212356336414814
          ],
          "id": 390,
          "words": "computacionais",
          "x": 0.29563409090042114,
          "y": -0.6457993984222412
         },
         {
          "emb": [
           0.011163018643856049,
           -0.28872376680374146,
           0.7758839130401611,
           0.39334413409233093,
           -0.17835041880607605,
           -2.188871145248413,
           -1.0514684915542603,
           1.3291866779327393,
           -0.7496724724769592,
           0.16936925053596497
          ],
          "id": 391,
          "words": "regras",
          "x": 0.20561157166957855,
          "y": 0.942836344242096
         },
         {
          "emb": [
           -1.196780800819397,
           -0.15979315340518951,
           0.33075928688049316,
           0.29428237676620483,
           -0.9085933566093445,
           -1.2022814750671387,
           -1.370611548423767,
           -0.2952146530151367,
           0.3844967782497406,
           0.8938695192337036
          ],
          "id": 392,
          "words": "cambridge",
          "x": -0.5490038990974426,
          "y": 0.9060393571853638
         },
         {
          "emb": [
           0.41735342144966125,
           -1.1638191938400269,
           2.0189754962921143,
           -0.22184321284294128,
           -1.1948293447494507,
           -1.970688819885254,
           0.23839302361011505,
           0.5853715538978577,
           0.7275297045707703,
           0.13121439516544342
          ],
          "id": 393,
          "words": "seguindo",
          "x": -0.2585085332393646,
          "y": -0.3996942937374115
         },
         {
          "emb": [
           -2.239927291870117,
           0.5360586047172546,
           0.5646787881851196,
           -0.8117313385009766,
           0.45333677530288696,
           0.035192497074604034,
           0.08925473690032959,
           0.5142519474029541,
           0.18812592327594757,
           1.1537251472473145
          ],
          "id": 394,
          "words": "mit",
          "x": -0.3593498766422272,
          "y": 0.42453792691230774
         },
         {
          "emb": [
           -0.3523333966732025,
           1.046413540840149,
           0.05134664475917816,
           1.066930890083313,
           -1.195936679840088,
           0.9235284924507141,
           -0.1399749219417572,
           0.29792559146881104,
           -1.829734444618225,
           -0.00464011961594224
          ],
          "id": 395,
          "words": "nascida",
          "x": 0.17981886863708496,
          "y": 1.116098403930664
         },
         {
          "emb": [
           0.06827328354120255,
           1.9286617040634155,
           -2.180553913116455,
           -0.2515503466129303,
           -1.1069315671920776,
           0.12111783027648926,
           -0.15292571485042572,
           1.1878687143325806,
           -1.8054306507110596,
           -0.05281480774283409
          ],
          "id": 396,
          "words": "filme",
          "x": 1.3244411945343018,
          "y": 1.4220913648605347
         },
         {
          "emb": [
           -0.06562570482492447,
           -0.968896210193634,
           -0.21689270436763763,
           -0.06741835176944733,
           -0.14492730796337128,
           -0.8818522095680237,
           1.168830156326294,
           -0.5970794558525085,
           1.3895806074142456,
           1.0116817951202393
          ],
          "id": 397,
          "words": "ainda",
          "x": -0.748466432094574,
          "y": -0.657295823097229
         },
         {
          "emb": [
           0.34316930174827576,
           -0.08271025121212006,
           -0.0019231569021940231,
           0.4124540090560913,
           -0.34128910303115845,
           0.49431470036506653,
           0.36772000789642334,
           -1.4248344898223877,
           -0.2881384491920471,
           1.4409825801849365
          ],
          "id": 398,
          "words": "fim",
          "x": -0.611595094203949,
          "y": -1.0217278003692627
         },
         {
          "emb": [
           0.3818577229976654,
           -0.1820313036441803,
           0.6045178771018982,
           -0.9504075050354004,
           -0.5306152701377869,
           -2.052917242050171,
           0.23073957860469818,
           -0.5723071098327637,
           0.2811708450317383,
           1.5785598754882812
          ],
          "id": 399,
          "words": "tyldum",
          "x": -0.45534825325012207,
          "y": -1.2938933372497559
         },
         {
          "emb": [
           0.36768025159835815,
           1.1047780513763428,
           0.876478374004364,
           0.48511797189712524,
           0.8089234828948975,
           -0.719562292098999,
           -0.2899091839790344,
           1.1415809392929077,
           0.3073754608631134,
           -0.12484607845544815
          ],
          "id": 400,
          "words": "lado",
          "x": -0.874394953250885,
          "y": 0.3059781789779663
         },
         {
          "emb": [
           1.3812330961227417,
           -1.240990161895752,
           1.2226701974868774,
           0.2585572898387909,
           -0.7324169278144836,
           -0.31371065974235535,
           -0.39764833450317383,
           -0.5531495809555054,
           -1.5552743673324585,
           -0.24831072986125946
          ],
          "id": 401,
          "words": "vieram",
          "x": 0.7928593754768372,
          "y": -0.9433256983757019
         },
         {
          "emb": [
           -0.2660345137119293,
           -0.3563637137413025,
           0.38732028007507324,
           -0.42492297291755676,
           0.2122715562582016,
           -1.3413187265396118,
           -1.17534601688385,
           0.2869876027107239,
           1.1271321773529053,
           0.940807580947876
          ],
          "id": 402,
          "words": "dois",
          "x": -0.3113340437412262,
          "y": -0.0024575060233473778
         },
         {
          "emb": [
           0.38496941328048706,
           0.9055361747741699,
           0.7585379481315613,
           0.26254022121429443,
           0.2122233510017395,
           -0.2635149359703064,
           0.23245887458324432,
           0.9473702311515808,
           -0.023999692872166634,
           -0.24306465685367584
          ],
          "id": 403,
          "words": "algumas",
          "x": -0.4566408395767212,
          "y": 0.13925427198410034
         },
         {
          "emb": [
           -1.4089503288269043,
           1.6029105186462402,
           -1.182836890220642,
           0.15989919006824493,
           1.0524377822875977,
           0.6292740702629089,
           0.1611986756324768,
           1.3207510709762573,
           -0.4792250096797943,
           0.9638859629631042
          ],
          "id": 404,
          "words": "decodificar",
          "x": -0.12333150207996368,
          "y": 1.2869789600372314
         },
         {
          "emb": [
           2.448606252670288,
           0.5619984865188599,
           -0.2178495079278946,
           1.9817306995391846,
           -0.3618377149105072,
           1.810103178024292,
           -0.6521815061569214,
           0.3843410313129425,
           0.4972888231277466,
           1.4923384189605713
          ],
          "id": 405,
          "words": "london",
          "x": -0.5050954818725586,
          "y": -0.2754148244857788
         },
         {
          "emb": [
           0.2873036861419678,
           -0.5774716734886169,
           0.43666982650756836,
           -1.8764125108718872,
           0.2971023917198181,
           1.8654290437698364,
           0.4986373484134674,
           1.1973118782043457,
           -1.0947245359420776,
           -0.07335855811834335
          ],
          "id": 406,
          "words": "tratado",
          "x": 2.3202593326568604,
          "y": -1.023332953453064
         },
         {
          "emb": [
           -0.2887899577617645,
           1.0255399942398071,
           0.5229352712631226,
           0.5981142520904541,
           1.0453441143035889,
           0.36484721302986145,
           1.7900381088256836,
           -0.6518364548683167,
           0.09166242927312851,
           0.7591559290885925
          ],
          "id": 407,
          "words": "trabalho",
          "x": -1.7622865438461304,
          "y": -0.8216589689254761
         },
         {
          "emb": [
           -0.6217266321182251,
           -0.6944636106491089,
           -0.19658051431179047,
           -2.908860206604004,
           -1.302230954170227,
           0.4633454978466034,
           -0.5549927353858948,
           -0.8356197476387024,
           -0.9129452109336853,
           -0.0671977549791336
          ],
          "id": 408,
          "words": "descuidado",
          "x": 2.294935703277588,
          "y": -1.1125476360321045
         },
         {
          "emb": [
           0.22639785706996918,
           -0.5267691016197205,
           -2.089780569076538,
           0.42215800285339355,
           -0.20693771541118622,
           2.0798938274383545,
           -0.6623263359069824,
           -1.4245549440383911,
           -0.22541888058185577,
           1.2337100505828857
          ],
          "id": 409,
          "words": "mergulha",
          "x": 0.7046598792076111,
          "y": -0.20732420682907104
         },
         {
          "emb": [
           0.5813177227973938,
           -1.454634666442871,
           -2.607478141784668,
           0.42014002799987793,
           0.46888935565948486,
           -0.1783113330602646,
           -0.8289130330085754,
           1.6380701065063477,
           -0.41893526911735535,
           -0.2937818467617035
          ],
          "id": 410,
          "words": "retratado",
          "x": 2.11139178276062,
          "y": 1.5543437004089355
         },
         {
          "emb": [
           0.17843839526176453,
           0.641242265701294,
           1.5380322933197021,
           1.0956226587295532,
           -0.7113630771636963,
           -3.0968151092529297,
           -0.4795473515987396,
           0.9027777314186096,
           -0.6097705960273743,
           -0.27842506766319275
          ],
          "id": 411,
          "words": "especula",
          "x": -1.168928623199463,
          "y": 0.9925942420959473
         },
         {
          "emb": [
           1.2888563871383667,
           0.9968514442443848,
           3.292691469192505,
           1.5836251974105835,
           -0.39991295337677,
           0.0036668870598077774,
           1.498355746269226,
           -0.7591274380683899,
           -0.3113882839679718,
           1.36422598361969
          ],
          "id": 412,
          "words": "mordaz",
          "x": -2.5873830318450928,
          "y": -1.763261318206787
         },
         {
          "emb": [
           -0.858241856098175,
           0.06325738877058029,
           1.4666125774383545,
           0.18108049035072327,
           -1.152904748916626,
           -0.16065078973770142,
           0.371933251619339,
           -0.6157711744308472,
           0.39447569847106934,
           0.44309747219085693
          ],
          "id": 413,
          "words": "pode",
          "x": -1.0036433935165405,
          "y": -0.11607444286346436
         },
         {
          "emb": [
           -0.9147175550460815,
           -1.0946764945983887,
           -2.5376832485198975,
           -0.9009257555007935,
           -0.5839061141014099,
           0.08839201927185059,
           -0.9764270186424255,
           1.055575966835022,
           1.5008774995803833,
           0.5906044244766235
          ],
          "id": 414,
          "words": "segura",
          "x": 1.6428334712982178,
          "y": 1.4336488246917725
         },
         {
          "emb": [
           1.62726891040802,
           -0.8570682406425476,
           0.23340755701065063,
           -2.4763426780700684,
           1.7279542684555054,
           -0.04914712533354759,
           1.1219353675842285,
           -0.3266744911670685,
           -1.8369989395141602,
           -1.0866891145706177
          ],
          "id": 415,
          "words": "copeland",
          "x": 2.007378101348877,
          "y": -2.7574245929718018
         },
         {
          "emb": [
           1.4748865365982056,
           -0.5695391893386841,
           0.6527143716812134,
           0.8809145092964172,
           -1.430235505104065,
           -2.1678626537323,
           0.18355290591716766,
           -0.255751371383667,
           -2.418706178665161,
           -1.1663275957107544
          ],
          "id": 416,
          "words": "morto",
          "x": 0.4762458801269531,
          "y": 0.05849572643637657
         },
         {
          "emb": [
           -0.7711755633354187,
           2.1268582344055176,
           -0.8077924251556396,
           2.79685378074646,
           1.3465635776519775,
           0.3299720585346222,
           0.8431052565574646,
           -1.378180980682373,
           0.08795630931854248,
           -0.7064501643180847
          ],
          "id": 417,
          "words": "alternativa",
          "x": -3.0865061283111572,
          "y": 1.1529966592788696
         },
         {
          "emb": [
           -1.49834406375885,
           2.1229300498962402,
           -1.1478755474090576,
           0.047280073165893555,
           -0.7598444819450378,
           -0.21389201283454895,
           -0.9474123120307922,
           -1.1994587182998657,
           -0.58565753698349,
           0.1445707380771637
          ],
          "id": 418,
          "words": "previu",
          "x": -0.812873363494873,
          "y": 1.0481030941009521
         },
         {
          "emb": [
           0.08396834880113602,
           0.4968922734260559,
           0.40641868114471436,
           -0.9700954556465149,
           -0.13490550220012665,
           -0.7574575543403625,
           -0.15093278884887695,
           1.8951201438903809,
           -1.2171595096588135,
           0.881223201751709
          ],
          "id": 419,
          "words": "através",
          "x": 1.1605134010314941,
          "y": 0.13673177361488342
         },
         {
          "emb": [
           1.1221340894699097,
           0.7507621645927429,
           -1.4435193538665771,
           1.0530165433883667,
           0.630752682685852,
           -1.2614763975143433,
           1.829403281211853,
           0.9298611879348755,
           0.9412997961044312,
           0.9062396883964539
          ],
          "id": 420,
          "words": "constata",
          "x": -1.1699519157409668,
          "y": 0.17863944172859192
         },
         {
          "emb": [
           0.31420016288757324,
           -0.9103738069534302,
           -0.29299893975257874,
           0.3862466812133789,
           -0.7481619119644165,
           -0.3496030569076538,
           0.6805392503738403,
           1.1125346422195435,
           -0.20462003350257874,
           2.048583745956421
          ],
          "id": 421,
          "words": "formalização",
          "x": 0.5366747379302979,
          "y": 0.15155398845672607
         },
         {
          "emb": [
           0.8320367336273193,
           -1.9988104104995728,
           1.0067768096923828,
           -0.7654187679290771,
           2.070892572402954,
           -1.1628321409225464,
           -1.5652397871017456,
           0.7855127453804016,
           -0.6233378648757935,
           0.13715720176696777
          ],
          "id": 422,
          "words": "cinebiografias",
          "x": 1.3051879405975342,
          "y": -0.9450318217277527
         },
         {
          "emb": [
           -0.8790400624275208,
           -0.7262216806411743,
           1.0985478162765503,
           -0.14865262806415558,
           -0.7231557369232178,
           -0.4740836024284363,
           0.15118174254894257,
           0.5372933149337769,
           -0.45373451709747314,
           -1.8864613771438599
          ],
          "id": 423,
          "words": "prerrogativa",
          "x": 0.5300326347351074,
          "y": 0.8633402585983276
         },
         {
          "emb": [
           -1.5062439441680908,
           1.553195834159851,
           -0.3098973333835602,
           0.15139862895011902,
           0.4786302447319031,
           0.3417331576347351,
           -0.4957174062728882,
           -0.8841208815574646,
           0.5605018734931946,
           0.8333538174629211
          ],
          "id": 424,
          "words": "onde",
          "x": -1.4302784204483032,
          "y": 0.37496039271354675
         },
         {
          "emb": [
           2.2106854915618896,
           0.054710209369659424,
           -0.14612561464309692,
           1.6363998651504517,
           0.5469570159912109,
           0.07064776867628098,
           0.8324565887451172,
           0.5266098380088806,
           1.0670294761657715,
           0.6617185473442078
          ],
          "id": 425,
          "words": "ilegais",
          "x": -1.0682127475738525,
          "y": -0.5127782821655273
         },
         {
          "emb": [
           0.27634865045547485,
           -0.6279176473617554,
           -0.26679858565330505,
           0.3959919512271881,
           0.03666084632277489,
           0.058600012212991714,
           -0.8006284832954407,
           0.05268852785229683,
           -1.754082202911377,
           -0.695397138595581
          ],
          "id": 426,
          "words": "determinou",
          "x": 1.116108775138855,
          "y": 0.4527161717414856
         },
         {
          "emb": [
           -0.9640018343925476,
           -0.9239778518676758,
           0.5403174757957458,
           -1.3223038911819458,
           0.1614072322845459,
           -1.4953607320785522,
           0.9643078446388245,
           0.9053500294685364,
           1.0544100999832153,
           0.9354962706565857
          ],
          "id": 427,
          "words": "ajudou",
          "x": 0.10548947751522064,
          "y": -0.32666969299316406
         },
         {
          "emb": [
           0.9293496608734131,
           -0.9321518540382385,
           -0.701667845249176,
           -0.44323650002479553,
           -0.5239731073379517,
           0.8817641735076904,
           0.540622353553772,
           2.154331684112549,
           -0.8265697360038757,
           -0.7495822310447693
          ],
          "id": 428,
          "words": "operavam",
          "x": 2.3810763359069824,
          "y": 0.5637274980545044
         },
         {
          "emb": [
           -0.7863196134567261,
           1.9726283550262451,
           -0.040444515645504,
           -0.7615231871604919,
           1.5046064853668213,
           2.22575044631958,
           -0.6950498223304749,
           -0.16792896389961243,
           -1.2803378105163574,
           -0.8232950568199158
          ],
          "id": 429,
          "words": "chirs",
          "x": 0.32816994190216064,
          "y": -0.14296521246433258
         },
         {
          "emb": [
           0.8986623883247375,
           -0.9455316066741943,
           -0.08724052459001541,
           -0.289644330739975,
           1.4409302473068237,
           -0.9229192137718201,
           -2.144595146179199,
           -0.4063671827316284,
           -0.7157068848609924,
           0.28649306297302246
          ],
          "id": 430,
          "words": "humilhado",
          "x": 0.7567200660705566,
          "y": -0.6856945157051086
         },
         {
          "emb": [
           0.4367895722389221,
           -0.08059462159872055,
           -0.6548014879226685,
           -0.2534731924533844,
           -1.5539395809173584,
           0.43320170044898987,
           -0.3129342794418335,
           -0.1864149272441864,
           -0.673189640045166,
           0.2414218783378601
          ],
          "id": 431,
          "words": "precipitada",
          "x": 1.011658787727356,
          "y": 0.08460560441017151
         },
         {
          "emb": [
           -1.117292881011963,
           0.6095364689826965,
           -1.0485719442367554,
           -2.0496890544891357,
           0.39964911341667175,
           0.010594923049211502,
           0.7424185276031494,
           -1.6906766891479492,
           -0.2880329191684723,
           0.23102641105651855
          ],
          "id": 432,
          "words": "setembro",
          "x": 0.2014302760362625,
          "y": -1.212009310722351
         },
         {
          "emb": [
           1.0855005979537964,
           0.6814603209495544,
           -0.4165474474430084,
           0.09277297556400299,
           0.7592799663543701,
           -0.6202599406242371,
           -1.4968491792678833,
           0.48258787393569946,
           -0.32669371366500854,
           -0.5399200320243835
          ],
          "id": 433,
          "words": "elizabeth",
          "x": 0.2914913594722748,
          "y": 0.17963290214538574
         },
         {
          "emb": [
           2.338515281677246,
           -0.960559070110321,
           -0.9771274328231812,
           -2.646195650100708,
           0.9333977103233337,
           -1.3593961000442505,
           0.10391012579202652,
           -2.095089912414551,
           0.599485456943512,
           -0.5040112137794495
          ],
          "id": 434,
          "words": "estrogênio",
          "x": 0.9472774267196655,
          "y": -3.288362741470337
         },
         {
          "emb": [
           -1.1251767873764038,
           -0.9376464486122131,
           2.248152494430542,
           -0.03679511696100235,
           -0.24179960787296295,
           0.8567527532577515,
           0.11590304225683212,
           0.45723190903663635,
           -0.19137004017829895,
           -0.8405389189720154
          ],
          "id": 435,
          "words": "conduzida",
          "x": 0.18318091332912445,
          "y": 0.19356492161750793
         },
         {
          "emb": [
           -0.18865293264389038,
           -1.0589871406555176,
           -0.18659432232379913,
           -1.006488561630249,
           -0.7000126242637634,
           -0.7030583024024963,
           1.4036954641342163,
           1.1283838748931885,
           1.07016921043396,
           1.3103859424591064
          ],
          "id": 436,
          "words": "encontrou",
          "x": 0.6006740927696228,
          "y": -0.29371973872184753
         },
         {
          "emb": [
           0.0024155080318450928,
           0.9910221099853516,
           0.0773523673415184,
           2.271726131439209,
           -1.287370204925537,
           -0.35845863819122314,
           -0.7330527305603027,
           0.04166972637176514,
           1.1353245973587036,
           0.707248866558075
          ],
          "id": 437,
          "words": "caso",
          "x": -1.8731251955032349,
          "y": 1.4947090148925781
         },
         {
          "emb": [
           -0.21487799286842346,
           0.44830912351608276,
           -1.2723898887634277,
           0.6537036895751953,
           -0.2204047441482544,
           -0.4985327124595642,
           -0.3644549250602722,
           1.6647793054580688,
           1.7290148735046387,
           0.004683373030275106
          ],
          "id": 438,
          "words": "socialmente",
          "x": -0.24500936269760132,
          "y": 1.7781864404678345
         },
         {
          "emb": [
           -0.16730327904224396,
           -1.5520081520080566,
           -1.0489133596420288,
           -0.9981210827827454,
           0.46726953983306885,
           0.6986105442047119,
           -0.12368575483560562,
           -1.6847978830337524,
           0.8558276891708374,
           -1.5969078540802002
          ],
          "id": 439,
          "words": "presença",
          "x": 0.7953725457191467,
          "y": -0.707568347454071
         },
         {
          "emb": [
           0.9060280919075012,
           -0.7505542039871216,
           3.6841280460357666,
           -1.036454439163208,
           0.16962383687496185,
           1.7234104871749878,
           0.6048261523246765,
           -1.0024735927581787,
           -0.6450815200805664,
           -0.49424290657043457
          ],
          "id": 440,
          "words": "knew",
          "x": 0.09693507850170135,
          "y": -2.827253580093384
         },
         {
          "emb": [
           1.8659539222717285,
           2.4696531295776367,
           0.4716488718986511,
           -0.8415789008140564,
           1.4339061975479126,
           0.030278075486421585,
           1.0019315481185913,
           -1.456019401550293,
           1.486458420753479,
           -0.10811915993690491
          ],
          "id": 441,
          "words": "químicas",
          "x": -2.0930278301239014,
          "y": -2.649712085723877
         },
         {
          "emb": [
           -0.48617905378341675,
           0.6168074607849121,
           1.1236357688903809,
           -0.5965964794158936,
           0.9065441489219666,
           -1.1208786964416504,
           0.9722152948379517,
           -0.7344242930412292,
           2.045344114303589,
           -0.5159836411476135
          ],
          "id": 442,
          "words": "prisão",
          "x": -1.9668588638305664,
          "y": -0.9383842945098877
         },
         {
          "emb": [
           0.31908607482910156,
           -1.5006531476974487,
           0.24811288714408875,
           0.36156725883483887,
           -0.631366491317749,
           0.39042985439300537,
           0.2772754430770874,
           -0.9980648159980774,
           0.43651440739631653,
           -0.5063421726226807
          ],
          "id": 443,
          "words": "automático",
          "x": 0.0980956181883812,
          "y": -0.4203032851219177
         },
         {
          "emb": [
           1.405550479888916,
           0.6382001042366028,
           -0.9222095608711243,
           -1.3518407344818115,
           1.2415298223495483,
           1.5574153661727905,
           0.22822017967700958,
           0.29152002930641174,
           0.06741788983345032,
           -1.3526870012283325
          ],
          "id": 444,
          "words": "cabeceira",
          "x": 1.2053587436676025,
          "y": -1.1183702945709229
         },
         {
          "emb": [
           -1.8868451118469238,
           2.075559139251709,
           0.05949239805340767,
           -0.08765880018472672,
           0.332927405834198,
           1.8520909547805786,
           0.49970802664756775,
           0.4293276369571686,
           -0.07223983854055405,
           -0.07240556925535202
          ],
          "id": 445,
          "words": "introduziu",
          "x": -0.6756272315979004,
          "y": 0.8786339163780212
         },
         {
          "emb": [
           -0.9468569159507751,
           -0.13581639528274536,
           0.3938314914703369,
           -1.2876027822494507,
           0.6021797060966492,
           -0.2839653491973877,
           -0.617271363735199,
           0.2831909954547882,
           -1.5887280702590942,
           -1.2052844762802124
          ],
          "id": 446,
          "words": "pedido",
          "x": 1.293576955795288,
          "y": 0.13324062526226044
         },
         {
          "emb": [
           -0.26366737484931946,
           -0.6227365732192993,
           -0.4782927334308624,
           -1.338019609451294,
           0.8309248089790344,
           1.0520812273025513,
           -1.1569103002548218,
           -0.9987137913703918,
           1.067885398864746,
           -0.07682233303785324
          ],
          "id": 447,
          "words": "madras",
          "x": 0.6160325407981873,
          "y": -0.893684446811676
         },
         {
          "emb": [
           0.019831916317343712,
           0.12831085920333862,
           0.4358384311199188,
           -1.1686644554138184,
           -0.767325222492218,
           0.29649969935417175,
           -1.9468340873718262,
           0.5043497681617737,
           -0.5857493281364441,
           -0.8058869242668152
          ],
          "id": 448,
          "words": "irlandeses",
          "x": 1.508132815361023,
          "y": 0.2629654109477997
         },
         {
          "emb": [
           0.05649905279278755,
           -1.2706586122512817,
           -0.08928219228982925,
           0.6793318390846252,
           1.3422573804855347,
           -1.668267011642456,
           1.6381590366363525,
           -2.3937456607818604,
           1.426647663116455,
           0.8894226551055908
          ],
          "id": 449,
          "words": "mãe",
          "x": -2.2397122383117676,
          "y": -1.5823311805725098
         },
         {
          "emb": [
           0.7275814414024353,
           -0.7703431844711304,
           -0.16847437620162964,
           -1.336734414100647,
           0.02133038267493248,
           -0.019204122945666313,
           -0.6462565660476685,
           -2.215433120727539,
           0.1962539106607437,
           0.3315497040748596
          ],
          "id": 450,
          "words": "importante",
          "x": 0.3547006845474243,
          "y": -2.009392499923706
         },
         {
          "emb": [
           0.442009299993515,
           -1.1669844388961792,
           -0.19112442433834076,
           0.6840043067932129,
           -1.218820333480835,
           -0.38571467995643616,
           0.304560124874115,
           -1.3172131776809692,
           0.17256447672843933,
           0.6481929421424866
          ],
          "id": 451,
          "words": "maneira",
          "x": -0.2953483760356903,
          "y": -0.4011975824832916
         },
         {
          "emb": [
           0.5737885236740112,
           0.961723268032074,
           0.0009703554096631706,
           -1.167793869972229,
           -0.1731363981962204,
           0.11105536669492722,
           0.3248710334300995,
           0.06023457646369934,
           0.8168228268623352,
           -0.23225434124469757
          ],
          "id": 452,
          "words": "criminal",
          "x": -0.011746043339371681,
          "y": -0.8185156583786011
         },
         {
          "emb": [
           1.8033957481384277,
           -0.7680487632751465,
           -1.8917083740234375,
           -0.8128017783164978,
           0.9010804891586304,
           0.275734543800354,
           -1.0872968435287476,
           -0.8378850221633911,
           -0.011827526614069939,
           0.6332049369812012
          ],
          "id": 453,
          "words": "entretanto",
          "x": 1.2926496267318726,
          "y": -1.3359041213989258
         },
         {
          "emb": [
           1.8597455024719238,
           0.6899319291114807,
           -1.3615390062332153,
           -0.8629456162452698,
           2.613178014755249,
           -0.3821023404598236,
           -1.3367422819137573,
           0.39342498779296875,
           0.3086802363395691,
           0.7633380889892578
          ],
          "id": 454,
          "words": "outra",
          "x": 0.45360395312309265,
          "y": -1.2472823858261108
         },
         {
          "emb": [
           -0.4082086980342865,
           -0.002177928574383259,
           -2.4734253883361816,
           -0.2643219530582428,
           -0.8362754583358765,
           -0.9313857555389404,
           1.3612840175628662,
           -1.0995275974273682,
           -0.5309123992919922,
           -0.7529940605163574
          ],
          "id": 455,
          "words": "quebrar",
          "x": 0.3464803397655487,
          "y": 0.4665544033050537
         },
         {
          "emb": [
           -3.331444263458252,
           1.7520551681518555,
           -1.5964456796646118,
           -0.19857674837112427,
           -1.261655569076538,
           -1.0761103630065918,
           0.3644610345363617,
           1.5196181535720825,
           0.031073560938239098,
           -0.9285174608230591
          ],
          "id": 456,
          "words": "método",
          "x": -0.08559007197618484,
          "y": 3.3994626998901367
         },
         {
          "emb": [
           -0.7516884207725525,
           0.9007549285888672,
           1.0357048511505127,
           0.32386937737464905,
           0.7990896105766296,
           0.11520184576511383,
           0.5855847597122192,
           -1.4701859951019287,
           2.2437565326690674,
           -1.221910834312439
          ],
          "id": 457,
          "words": "números",
          "x": -2.4948275089263916,
          "y": -0.452272891998291
         },
         {
          "emb": [
           1.3441426753997803,
           -0.721253514289856,
           1.9479762315750122,
           -1.3818860054016113,
           1.4326223134994507,
           -1.1736186742782593,
           -1.718267560005188,
           -0.9006184339523315,
           0.8034510612487793,
           -3.1706936359405518
          ],
          "id": 458,
          "words": "montada",
          "x": 0.14775165915489197,
          "y": -1.5728743076324463
         },
         {
          "emb": [
           0.2674461603164673,
           -0.04190008342266083,
           0.7540150880813599,
           -0.6296427845954895,
           -0.17356061935424805,
           1.8815759420394897,
           -0.3382830023765564,
           0.1195715144276619,
           -1.0307114124298096,
           0.6184535622596741
          ],
          "id": 459,
          "words": "velho",
          "x": 1.0700851678848267,
          "y": -0.8251879811286926
         },
         {
          "emb": [
           1.9069510698318481,
           0.9426811337471008,
           0.048001278191804886,
           0.5615652203559875,
           -0.6930859088897705,
           0.1391807645559311,
           1.8485729694366455,
           1.1067357063293457,
           -0.4052180349826813,
           0.31651318073272705
          ],
          "id": 460,
          "words": "lenta",
          "x": -0.12952940165996552,
          "y": -0.5133596658706665
         },
         {
          "emb": [
           -1.2594972848892212,
           0.8166478276252747,
           0.6777822375297546,
           0.46620872616767883,
           -0.271109402179718,
           -0.2639790177345276,
           0.16968661546707153,
           1.2344114780426025,
           0.14964398741722107,
           -1.652070164680481
          ],
          "id": 461,
          "words": "stoneys",
          "x": -0.4345723092556,
          "y": 1.708738923072815
         },
         {
          "emb": [
           -0.915347695350647,
           -0.19596394896507263,
           -0.5818784236907959,
           -0.5587407350540161,
           -1.6688692569732666,
           -0.5816922783851624,
           -0.020884156227111816,
           0.22727516293525696,
           -0.9752439260482788,
           -1.3028782606124878
          ],
          "id": 462,
          "words": "pudesse",
          "x": 1.1905211210250854,
          "y": 1.2006560564041138
         },
         {
          "emb": [
           -0.61515212059021,
           -0.7161106467247009,
           1.9671670198440552,
           1.0293769836425781,
           0.8152778148651123,
           0.1176903247833252,
           1.4838299751281738,
           1.7067010402679443,
           -0.3931354582309723,
           -0.1992768794298172
          ],
          "id": 463,
          "words": "guerra",
          "x": -0.454292893409729,
          "y": 0.5002657771110535
         },
         {
          "emb": [
           0.9675402045249939,
           -0.9908344149589539,
           0.3921179473400116,
           -1.5931313037872314,
           -0.5454229712486267,
           0.02503279037773609,
           -0.2419515997171402,
           0.797904908657074,
           -0.5407485365867615,
           -0.8836000561714172
          ],
          "id": 464,
          "words": "real",
          "x": 2.0444483757019043,
          "y": -0.7300603985786438
         },
         {
          "emb": [
           0.28567561507225037,
           -0.20616143941879272,
           0.42326033115386963,
           -0.42609915137290955,
           -1.3316477537155151,
           -1.1836670637130737,
           -0.9618123769760132,
           -1.5228654146194458,
           2.665405750274658,
           0.26785603165626526
          ],
          "id": 465,
          "words": "ceruzzi",
          "x": -1.262315034866333,
          "y": -0.6708958148956299
         },
         {
          "emb": [
           -0.05914647877216339,
           -1.5736078023910522,
           -1.0102810859680176,
           -0.4456201493740082,
           0.07072851806879044,
           0.9987244009971619,
           0.8673467636108398,
           -0.0415009930729866,
           -0.7352029085159302,
           -0.2608199417591095
          ],
          "id": 466,
          "words": "cientista",
          "x": 1.5663719177246094,
          "y": -0.20331527292728424
         },
         {
          "emb": [
           0.36823248863220215,
           -0.2030244767665863,
           -1.0782593488693237,
           0.4063304662704468,
           0.2860947847366333,
           -2.605947971343994,
           -0.9612659215927124,
           -2.174743175506592,
           -0.506295382976532,
           0.5248600244522095
          ],
          "id": 467,
          "words": "após",
          "x": -0.9070042967796326,
          "y": -0.45534592866897583
         },
         {
          "emb": [
           1.5318968296051025,
           0.541098952293396,
           -0.0979442149400711,
           2.114851951599121,
           0.34485453367233276,
           1.0572278499603271,
           -0.39658939838409424,
           2.3936150074005127,
           0.9045971632003784,
           1.3260985612869263
          ],
          "id": 468,
          "words": "vindas",
          "x": -0.4438495635986328,
          "y": 1.033361792564392
         },
         {
          "emb": [
           1.4321410655975342,
           1.0385717153549194,
           -0.2961656451225281,
           0.8780809044837952,
           -0.10015882551670074,
           -1.4416474103927612,
           -0.82341468334198,
           -1.9625216722488403,
           1.325710415840149,
           1.520204782485962
          ],
          "id": 469,
          "words": "biografia",
          "x": -2.2184014320373535,
          "y": -1.1252368688583374
         },
         {
          "emb": [
           1.0817936658859253,
           0.7191942930221558,
           0.21673400700092316,
           -0.23513644933700562,
           1.6430912017822266,
           0.5276386141777039,
           -1.6813091039657593,
           -0.8231142163276672,
           0.2979446053504944,
           0.19694001972675323
          ],
          "id": 470,
          "words": "países",
          "x": -0.4087711274623871,
          "y": -1.2075310945510864
         },
         {
          "emb": [
           -1.3695306777954102,
           0.46155881881713867,
           0.7593746781349182,
           -1.3116044998168945,
           -1.1991922855377197,
           0.7093952894210815,
           0.01652168668806553,
           1.9108822345733643,
           -0.38999325037002563,
           1.671669363975525
          ],
          "id": 471,
          "words": "deste",
          "x": 1.1512929201126099,
          "y": 0.5256766080856323
         },
         {
          "emb": [
           0.3968653082847595,
           1.2036595344543457,
           0.7685555219650269,
           1.2321009635925293,
           -0.6966716647148132,
           -0.32276102900505066,
           -0.36958542466163635,
           0.22811856865882874,
           0.6421753764152527,
           1.782608151435852
          ],
          "id": 472,
          "words": "ics",
          "x": -1.5838825702667236,
          "y": 0.17095863819122314
         },
         {
          "emb": [
           0.2070162445306778,
           0.09014609456062317,
           1.861287236213684,
           -0.5571558475494385,
           0.8408718705177307,
           1.4725645780563354,
           0.19641228020191193,
           -0.10981922596693039,
           0.024426838383078575,
           1.0083478689193726
          ],
          "id": 473,
          "words": "orissa",
          "x": -0.2650192677974701,
          "y": -1.6132742166519165
         },
         {
          "emb": [
           -1.6794393062591553,
           0.4603053033351898,
           -0.19248241186141968,
           0.21518273651599884,
           0.6929005980491638,
           1.145638108253479,
           1.092344880104065,
           -0.10087567567825317,
           -1.9717378616333008,
           1.2251112461090088
          ],
          "id": 474,
          "words": "criados",
          "x": 0.04485178738832474,
          "y": 0.2229810655117035
         },
         {
          "emb": [
           -1.927991509437561,
           0.19879594445228577,
           0.6093387007713318,
           -0.007895071990787983,
           1.8201498985290527,
           -1.0155826807022095,
           -0.7295771241188049,
           -1.3679568767547607,
           -1.4378554821014404,
           -0.05527656152844429
          ],
          "id": 475,
          "words": "durante",
          "x": -0.8848731517791748,
          "y": 0.003359210677444935
         },
         {
          "emb": [
           -1.495057463645935,
           -2.371473550796509,
           0.13709409534931183,
           -1.1469128131866455,
           0.9709679484367371,
           -0.3286694586277008,
           0.4884408414363861,
           0.7725828289985657,
           -1.5952035188674927,
           0.6603249311447144
          ],
          "id": 476,
          "words": "feito",
          "x": 1.9225871562957764,
          "y": -0.06733045727014542
         },
         {
          "emb": [
           -0.9073773622512817,
           -0.46536439657211304,
           -0.3256698250770569,
           -0.9607966542243958,
           -1.2993806600570679,
           0.15109515190124512,
           -2.3532323837280273,
           -0.5036947727203369,
           0.7503694295883179,
           -1.5332485437393188
          ],
          "id": 477,
          "words": "símbolos",
          "x": 1.0736513137817383,
          "y": 0.9903357625007629
         },
         {
          "emb": [
           1.0706623792648315,
           -1.1737241744995117,
           -0.7125427722930908,
           -0.8551587462425232,
           -0.961769700050354,
           0.7899843454360962,
           -1.340084195137024,
           0.3838143050670624,
           0.31945210695266724,
           -0.8602481484413147
          ],
          "id": 478,
          "words": "acidental",
          "x": 2.0360982418060303,
          "y": 0.006462045479565859
         },
         {
          "emb": [
           0.3254317045211792,
           0.17578035593032837,
           -1.9866591691970825,
           0.30013391375541687,
           1.271777868270874,
           -0.1685933768749237,
           -0.28205862641334534,
           0.5252321362495422,
           0.351281076669693,
           0.5261816382408142
          ],
          "id": 479,
          "words": "gordon",
          "x": 0.1877322942018509,
          "y": 0.48940643668174744
         },
         {
          "emb": [
           -0.9125880002975464,
           1.043075442314148,
           -1.340330958366394,
           -0.4315152168273926,
           -1.28589928150177,
           -0.42407339811325073,
           0.6052927374839783,
           -1.0713039636611938,
           2.32780122756958,
           0.4163242280483246
          ],
          "id": 480,
          "words": "determinar",
          "x": -1.306697130203247,
          "y": 0.30585986375808716
         },
         {
          "emb": [
           -0.42704346776008606,
           -1.8221651315689087,
           0.7111122608184814,
           0.7806153893470764,
           -0.08604481816291809,
           -1.439071536064148,
           1.1608034372329712,
           -1.8657255172729492,
           -1.4334861040115356,
           1.6813344955444336
          ],
          "id": 481,
          "words": "mathison",
          "x": -0.7287296056747437,
          "y": -1.0748515129089355
         },
         {
          "emb": [
           0.413735568523407,
           -0.7778024077415466,
           -1.488958716392517,
           -0.4771472215652466,
           1.6012682914733887,
           0.4408148229122162,
           -0.5546436309814453,
           -1.006341576576233,
           0.31839415431022644,
           -2.355607032775879
          ],
          "id": 482,
          "words": "ligando",
          "x": 0.753365159034729,
          "y": -0.23268745839595795
         },
         {
          "emb": [
           -0.63595050573349,
           0.659879207611084,
           -1.1549676656723022,
           1.3418158292770386,
           -1.1159266233444214,
           0.5321349501609802,
           -0.5942685008049011,
           -0.6525263786315918,
           0.20102854073047638,
           -0.16923247277736664
          ],
          "id": 483,
          "words": "conto",
          "x": -0.6263209581375122,
          "y": 1.4702105522155762
         },
         {
          "emb": [
           -0.6914221048355103,
           -0.2843892574310303,
           -0.6899961233139038,
           -0.747372567653656,
           0.4814088046550751,
           0.48461902141571045,
           1.1442639827728271,
           -1.0964378118515015,
           2.337069272994995,
           -0.9995562434196472
          ],
          "id": 484,
          "words": "prazer",
          "x": -0.7787608504295349,
          "y": -0.5013906359672546
         },
         {
          "emb": [
           -0.03583743795752525,
           0.5765016674995422,
           -0.6734106540679932,
           -1.0121071338653564,
           -0.21835468709468842,
           0.5006274580955505,
           -0.12875723838806152,
           1.2287245988845825,
           0.8995775580406189,
           -0.5656379461288452
          ],
          "id": 485,
          "words": "benedict",
          "x": 0.8220919966697693,
          "y": 0.4668087363243103
         },
         {
          "emb": [
           0.21890060603618622,
           -0.48048287630081177,
           1.836745023727417,
           2.2846155166625977,
           -0.135304793715477,
           1.115172266960144,
           0.4004334807395935,
           0.6049675941467285,
           0.14980782568454742,
           -0.13016733527183533
          ],
          "id": 486,
          "words": "pioneiro",
          "x": -1.1066181659698486,
          "y": 0.6113166809082031
         },
         {
          "emb": [
           -0.6394092440605164,
           1.0240225791931152,
           0.23663778603076935,
           1.2548538446426392,
           0.7480295896530151,
           -0.3112339377403259,
           -1.8978848457336426,
           0.2898673117160797,
           0.37908557057380676,
           -1.127685546875
          ],
          "id": 487,
          "words": "político",
          "x": -1.0277751684188843,
          "y": 1.5937004089355469
         },
         {
          "emb": [
           -0.3226206302642822,
           0.9002892374992371,
           1.6451512575149536,
           -0.7361735105514526,
           -0.3301955461502075,
           -1.4551275968551636,
           -0.3714388310909271,
           -1.5473952293395996,
           -1.7069947719573975,
           -1.4714422225952148
          ],
          "id": 488,
          "words": "comida",
          "x": -0.5108830332756042,
          "y": -0.7830899953842163
         },
         {
          "emb": [
           -1.4010875225067139,
           1.258785605430603,
           1.3588001728057861,
           -0.1322212517261505,
           -1.3217363357543945,
           0.22048771381378174,
           0.4380732774734497,
           0.6183536648750305,
           1.4450252056121826,
           0.624760627746582
          ],
          "id": 489,
          "words": "britânico",
          "x": -1.2639106512069702,
          "y": 0.6125053763389587
         },
         {
          "emb": [
           0.8004999160766602,
           0.11697124689817429,
           -0.9943442344665527,
           1.0982450246810913,
           -1.4930698871612549,
           2.743060827255249,
           2.398735523223877,
           0.2534042000770569,
           -0.30135706067085266,
           -0.12976159155368805
          ],
          "id": 490,
          "words": "preso",
          "x": 0.4225183129310608,
          "y": 0.19667905569076538
         },
         {
          "emb": [
           2.110081672668457,
           0.751201868057251,
           -0.2512650787830353,
           -0.04007599875330925,
           1.8542910814285278,
           1.0095341205596924,
           0.30077049136161804,
           -1.25216805934906,
           -1.8615015745162964,
           0.6334570050239563
          ],
          "id": 491,
          "words": "bengali",
          "x": 0.070808544754982,
          "y": -2.3191514015197754
         },
         {
          "emb": [
           -0.05091964080929756,
           0.12499192357063293,
           0.7801862359046936,
           0.7474247217178345,
           1.2950749397277832,
           -0.34482160210609436,
           0.8042917847633362,
           -0.4552976191043854,
           -1.2891881465911865,
           0.7025728821754456
          ],
          "id": 492,
          "words": "ed",
          "x": -0.8870379328727722,
          "y": -0.6696325540542603
         },
         {
          "emb": [
           1.080058217048645,
           0.9568774104118347,
           1.9777582883834839,
           0.43708696961402893,
           -0.3862818479537964,
           0.0920819342136383,
           0.27832815051078796,
           -0.1307242214679718,
           -0.7604591846466064,
           -1.3817522525787354
          ],
          "id": 493,
          "words": "condado",
          "x": -0.6620418429374695,
          "y": -0.6338226795196533
         },
         {
          "emb": [
           0.3787916302680969,
           -1.462014079093933,
           -0.21620550751686096,
           0.38048622012138367,
           -0.29131415486335754,
           2.1144602298736572,
           -0.12050434201955795,
           0.9208648204803467,
           0.4755719304084778,
           -0.9026923775672913
          ],
          "id": 494,
          "words": "construídas",
          "x": 1.3789103031158447,
          "y": 0.5583925247192383
         },
         {
          "emb": [
           1.9007759094238281,
           -0.03362877666950226,
           3.1942574977874756,
           -0.4819061756134033,
           0.25198161602020264,
           -0.5158265829086304,
           0.4587099254131317,
           -0.48184919357299805,
           0.3581467568874359,
           1.1503562927246094
          ],
          "id": 495,
          "words": "ver",
          "x": -1.098696231842041,
          "y": -2.845205545425415
         },
         {
          "emb": [
           -0.37680912017822266,
           0.49730682373046875,
           1.5072307586669922,
           2.3442347049713135,
           -0.29650628566741943,
           -0.7642830610275269,
           -0.3789879381656647,
           -1.2758899927139282,
           0.2945583760738373,
           -0.19774286448955536
          ],
          "id": 496,
          "words": "sodomia",
          "x": -2.5712974071502686,
          "y": 0.5955699682235718
         },
         {
          "emb": [
           -0.6519147753715515,
           -1.6807297468185425,
           -0.9719939827919006,
           -0.2779156565666199,
           -0.1217954084277153,
           0.4858918786048889,
           -1.4876787662506104,
           -0.4576723873615265,
           2.286421537399292,
           1.7230958938598633
          ],
          "id": 497,
          "words": "além",
          "x": 0.26527878642082214,
          "y": 0.11336956173181534
         },
         {
          "emb": [
           -1.684635877609253,
           0.8143643140792847,
           1.1125612258911133,
           0.08196411281824112,
           -1.5622007846832275,
           -0.1803581416606903,
           -1.130079746246338,
           0.1472090184688568,
           0.7470108866691589,
           -2.011911630630493
          ],
          "id": 498,
          "words": "sara",
          "x": -0.5295302867889404,
          "y": 1.7630271911621094
         },
         {
          "emb": [
           0.14079691469669342,
           0.7963829040527344,
           -0.1591671258211136,
           -0.41206878423690796,
           -1.4809867143630981,
           -0.9069188833236694,
           0.23337781429290771,
           1.7270187139511108,
           0.049894485622644424,
           0.09923501312732697
          ],
          "id": 499,
          "words": "boa",
          "x": 0.5607531666755676,
          "y": 0.9236562252044678
         },
         {
          "emb": [
           1.4224282503128052,
           -1.7637131214141846,
           -0.18380320072174072,
           0.8920124173164368,
           0.5605401992797852,
           0.9259582161903381,
           0.5619086623191833,
           0.3371204435825348,
           -0.6968265175819397,
           -2.243417501449585
          ],
          "id": 500,
          "words": "disposição",
          "x": 1.1960407495498657,
          "y": 0.044271159917116165
         },
         {
          "emb": [
           0.08473146706819534,
           -0.540336549282074,
           0.5305138826370239,
           1.6848783493041992,
           1.1004899740219116,
           -0.26070913672447205,
           -0.7748724818229675,
           0.03392983600497246,
           -0.5676152110099792,
           -0.6219751834869385
          ],
          "id": 501,
          "words": "dia",
          "x": -0.5955766439437866,
          "y": 0.7083247303962708
         },
         {
          "emb": [
           0.5779606699943542,
           1.0528881549835205,
           0.00013480133202392608,
           1.1381844282150269,
           0.7370123863220215,
           -0.4692873954772949,
           -0.485611230134964,
           0.2266751229763031,
           0.43202531337738037,
           0.45917588472366333
          ],
          "id": 502,
          "words": "encenando",
          "x": -1.2616835832595825,
          "y": 0.27660852670669556
         },
         {
          "emb": [
           -1.0624568462371826,
           0.1986696422100067,
           -1.960849642753601,
           0.7080346345901489,
           0.11068471521139145,
           1.1273759603500366,
           -0.6632373929023743,
           -0.5639291405677795,
           0.7324821949005127,
           0.22062116861343384
          ],
          "id": 503,
          "words": "antes",
          "x": -0.18770886957645416,
          "y": 1.233327865600586
         },
         {
          "emb": [
           -1.6654481887817383,
           -1.2013928890228271,
           0.25689753890037537,
           -0.8196091055870056,
           -0.3068085312843323,
           -0.27711066603660583,
           0.19469845294952393,
           -1.6404322385787964,
           1.1913143396377563,
           0.35494279861450195
          ],
          "id": 504,
          "words": "necessariamente",
          "x": -0.4992724359035492,
          "y": -0.48441851139068604
         },
         {
          "emb": [
           0.4905252158641815,
           1.1923911571502686,
           -0.4745403230190277,
           1.0053842067718506,
           -1.4444823265075684,
           -0.23090249300003052,
           -0.8177728056907654,
           0.5745736956596375,
           -0.29952991008758545,
           -0.5884437561035156
          ],
          "id": 505,
          "words": "improvisado",
          "x": -0.1049392893910408,
          "y": 1.3764880895614624
         },
         {
          "emb": [
           -0.2654948830604553,
           -0.1742667704820633,
           0.7546682953834534,
           -1.2290140390396118,
           -0.06737551093101501,
           -0.21668167412281036,
           0.2829785645008087,
           1.728074312210083,
           -2.0711517333984375,
           1.9283424615859985
          ],
          "id": 506,
          "words": "processo",
          "x": 1.6337450742721558,
          "y": -0.426055371761322
         },
         {
          "emb": [
           0.12096220999956131,
           -1.328599214553833,
           -0.21878397464752197,
           -2.1524038314819336,
           -0.3532162308692932,
           0.03232327476143837,
           -1.3062888383865356,
           0.1879434883594513,
           -0.11701013147830963,
           0.4901846647262573
          ],
          "id": 507,
          "words": "brown",
          "x": 2.185342788696289,
          "y": -0.8168049454689026
         },
         {
          "emb": [
           1.5277901887893677,
           -0.2816928029060364,
           0.369405061006546,
           0.6706051230430603,
           -0.011929363943636417,
           0.4558206796646118,
           -0.598048210144043,
           1.6931908130645752,
           0.20944258570671082,
           -1.43087637424469
          ],
          "id": 508,
          "words": "wilmslow",
          "x": 0.7995235919952393,
          "y": 0.6266560554504395
         },
         {
          "emb": [
           2.1677653789520264,
           0.7534291744232178,
           -1.2707757949829102,
           1.1229426860809326,
           -0.23616109788417816,
           -0.10047361254692078,
           0.09684096276760101,
           -1.725699543952942,
           0.03136787563562393,
           2.362290143966675
          ],
          "id": 509,
          "words": "alan",
          "x": -1.181470274925232,
          "y": -1.4574649333953857
         },
         {
          "emb": [
           -1.8076306581497192,
           -0.5459030270576477,
           1.5829308032989502,
           1.458740472793579,
           0.0028364171739667654,
           -0.1429624706506729,
           0.750419557094574,
           -0.8388589024543762,
           1.4306275844573975,
           -0.3895699083805084
          ],
          "id": 510,
          "words": "normalidade",
          "x": -2.2334930896759033,
          "y": 0.703199028968811
         },
         {
          "emb": [
           -0.30203306674957275,
           2.163494110107422,
           0.22860422730445862,
           -1.9783909320831299,
           0.41377025842666626,
           -0.17384253442287445,
           0.207114115357399,
           -1.832010269165039,
           1.841963529586792,
           0.8221780061721802
          ],
          "id": 511,
          "words": "nacional",
          "x": -1.6720082759857178,
          "y": -2.004304885864258
         },
         {
          "emb": [
           0.42936548590660095,
           1.129576563835144,
           -0.11720122396945953,
           1.161073923110962,
           -0.7666133046150208,
           0.7424759864807129,
           -0.14034350216388702,
           -1.3134453296661377,
           -1.957514762878418,
           1.2848988771438599
          ],
          "id": 512,
          "words": "isbn",
          "x": -0.5666943788528442,
          "y": -0.3200438916683197
         },
         {
          "emb": [
           -0.9188116788864136,
           1.234123945236206,
           1.608984112739563,
           2.1360812187194824,
           0.27192720770835876,
           -1.3190447092056274,
           -0.0800183117389679,
           -0.07205046713352203,
           1.1609196662902832,
           -0.6999136805534363
          ],
          "id": 513,
          "words": "formado",
          "x": -2.9991183280944824,
          "y": 1.2899664640426636
         },
         {
          "emb": [
           0.030172131955623627,
           -0.26323261857032776,
           -2.5283501148223877,
           -0.4893285036087036,
           -0.5356093049049377,
           1.057484745979309,
           0.36474958062171936,
           -0.927515983581543,
           0.015980081632733345,
           0.5247987508773804
          ],
          "id": 514,
          "words": "cs",
          "x": 0.9664706587791443,
          "y": -0.0950717180967331
         },
         {
          "emb": [
           -0.3113884925842285,
           0.7685311436653137,
           1.039982795715332,
           0.4184035062789917,
           -0.6656727194786072,
           1.0467275381088257,
           2.0146193504333496,
           1.6103036403656006,
           -0.35804444551467896,
           -0.20174871385097504
          ],
          "id": 515,
          "words": "afirma",
          "x": -0.16283510625362396,
          "y": 0.4942787289619446
         },
         {
          "emb": [
           -0.6369227766990662,
           0.7854839563369751,
           0.7735829949378967,
           -0.1338832825422287,
           -0.4772343933582306,
           0.2950511574745178,
           -0.634022057056427,
           0.4026389420032501,
           -0.336161732673645,
           1.8778198957443237
          ],
          "id": 516,
          "words": "service",
          "x": -0.2303633838891983,
          "y": 0.014385187067091465
         },
         {
          "emb": [
           0.5473455786705017,
           -0.8854440450668335,
           1.0949567556381226,
           0.17857952415943146,
           -0.17663870751857758,
           0.6340112090110779,
           -0.05727769434452057,
           -0.6485928297042847,
           -0.5798795819282532,
           -0.7721797227859497
          ],
          "id": 517,
          "words": "consagração",
          "x": 0.2990356385707855,
          "y": -0.6932476758956909
         },
         {
          "emb": [
           -0.2990453243255615,
           0.48796355724334717,
           -1.6216580867767334,
           -0.385078489780426,
           -0.7039114236831665,
           0.8825746178627014,
           0.5179998874664307,
           0.9962260723114014,
           0.07972618192434311,
           -0.7824065685272217
          ],
          "id": 518,
          "words": "níveis",
          "x": 1.0728524923324585,
          "y": 1.0955203771591187
         },
         {
          "emb": [
           0.13575397431850433,
           -0.016202716156840324,
           0.2723381519317627,
           1.298875331878662,
           -0.1485053151845932,
           -0.6644434332847595,
           0.23584628105163574,
           0.3739364445209503,
           2.3124895095825195,
           -1.2552849054336548
          ],
          "id": 519,
          "words": "estudos",
          "x": -1.5297995805740356,
          "y": 0.9926361441612244
         },
         {
          "emb": [
           -1.2090226411819458,
           0.2746325135231018,
           -1.0642293691635132,
           0.8772047758102417,
           -0.11186197400093079,
           0.8859885334968567,
           -1.6466869115829468,
           0.12256766110658646,
           -0.30830058455467224,
           1.3270624876022339
          ],
          "id": 520,
          "words": "code",
          "x": 0.12767188251018524,
          "y": 1.4631520509719849
         },
         {
          "emb": [
           -2.9614384174346924,
           0.5283552408218384,
           0.1675296574831009,
           0.7791334986686707,
           -0.018797125667333603,
           1.315852165222168,
           -0.4505099952220917,
           -2.5707690715789795,
           -0.4908445179462433,
           0.8500920534133911
          ],
          "id": 521,
          "words": "levou",
          "x": -1.5726861953735352,
          "y": 0.5066566467285156
         },
         {
          "emb": [
           1.1422228813171387,
           -1.1496330499649048,
           0.9056917428970337,
           -0.996650755405426,
           0.04338899999856949,
           -1.3684866428375244,
           -1.3573566675186157,
           0.24021553993225098,
           -1.5261659622192383,
           -0.8551577925682068
          ],
          "id": 522,
          "words": "mactutor",
          "x": 1.6332162618637085,
          "y": -0.7320806980133057
         },
         {
          "emb": [
           -0.7986239790916443,
           1.2806075811386108,
           -0.15460972487926483,
           0.33385157585144043,
           0.28524261713027954,
           0.0784071534872055,
           0.7610428929328918,
           0.24744954705238342,
           0.37258973717689514,
           -0.25264644622802734
          ],
          "id": 523,
          "words": "man",
          "x": -1.0059638023376465,
          "y": 0.6077553629875183
         },
         {
          "emb": [
           0.626487135887146,
           1.5717124938964844,
           0.9900603294372559,
           0.49152860045433044,
           0.0661575198173523,
           1.411575436592102,
           0.4889843165874481,
           0.06477067619562149,
           2.7263598442077637,
           0.3314991593360901
          ],
          "id": 524,
          "words": "post",
          "x": -2.0088582038879395,
          "y": -0.6077286005020142
         },
         {
          "emb": [
           3.1689138412475586,
           0.5265525579452515,
           1.9253289699554443,
           -0.7722405195236206,
           0.8932529091835022,
           2.160633087158203,
           1.7399137020111084,
           1.3010532855987549,
           0.42188411951065063,
           -0.3007807433605194
          ],
          "id": 525,
          "words": "técnicas",
          "x": 0.4027625322341919,
          "y": -2.7054543495178223
         },
         {
          "emb": [
           1.7069346904754639,
           -0.2788126766681671,
           0.4763134717941284,
           0.8566588759422302,
           -0.2687203288078308,
           -1.0273665189743042,
           1.388107419013977,
           0.026465103030204773,
           1.649572491645813,
           0.05681902915239334
          ],
          "id": 526,
          "words": "tipperary",
          "x": -1.3244543075561523,
          "y": -0.7892301082611084
         },
         {
          "emb": [
           0.2744547724723816,
           -2.4243102073669434,
           -1.1509395837783813,
           0.41417089104652405,
           -1.1406207084655762,
           0.6513900756835938,
           -0.2756361961364746,
           -0.27303650975227356,
           0.8229103088378906,
           -1.0862246751785278
          ],
          "id": 527,
          "words": "dado",
          "x": 1.3216198682785034,
          "y": 0.7134669423103333
         },
         {
          "emb": [
           0.6069021821022034,
           -1.818996548652649,
           -1.0818277597427368,
           -0.4451305866241455,
           -1.1200766563415527,
           -0.2623557448387146,
           -0.13217660784721375,
           -1.110579252243042,
           0.5439131855964661,
           1.1532443761825562
          ],
          "id": 528,
          "words": "duzentas",
          "x": 0.845436692237854,
          "y": -0.7719497680664062
         },
         {
          "emb": [
           0.9618530869483948,
           0.1688595414161682,
           0.10264599323272705,
           0.8490439057350159,
           0.03097139112651348,
           -1.492625117301941,
           1.0518733263015747,
           0.48450154066085815,
           0.41214245557785034,
           0.4519139528274536
          ],
          "id": 529,
          "words": "uniformes",
          "x": -0.9925819635391235,
          "y": -0.11366946250200272
         },
         {
          "emb": [
           1.1871682405471802,
           -1.1797661781311035,
           2.213667869567871,
           -0.004469053819775581,
           -0.4916592538356781,
           -1.054358959197998,
           0.6856518983840942,
           -0.6035805344581604,
           -0.17690430581569672,
           -0.28275150060653687
          ],
          "id": 530,
          "words": "obe",
          "x": -0.3763759136199951,
          "y": -1.5320537090301514
         },
         {
          "emb": [
           0.2687309980392456,
           0.20514577627182007,
           0.21711722016334534,
           0.11662682890892029,
           -0.2925032079219818,
           0.5039823651313782,
           -2.0301873683929443,
           -0.3796890079975128,
           0.4591321647167206,
           -0.6537481546401978
          ],
          "id": 531,
          "words": "interpretado",
          "x": 0.11911457031965256,
          "y": 0.30404919385910034
         },
         {
          "emb": [
           -1.0009610652923584,
           -1.0657862424850464,
           -0.03255857527256012,
           -0.6515260338783264,
           -0.2240472435951233,
           0.9495465755462646,
           0.9251768589019775,
           -1.0147898197174072,
           0.1499728113412857,
           -1.2386276721954346
          ],
          "id": 532,
          "words": "incluindo",
          "x": 0.4585597813129425,
          "y": -0.2574942409992218
         },
         {
          "emb": [
           0.09899715334177017,
           0.5925422310829163,
           1.3414702415466309,
           0.5811827182769775,
           1.0886858701705933,
           0.4591866433620453,
           0.811490535736084,
           0.30850711464881897,
           3.7068283557891846,
           0.21662728488445282
          ],
          "id": 533,
          "words": "nasceu",
          "x": -2.5254757404327393,
          "y": -0.534454345703125
         },
         {
          "emb": [
           -0.617595911026001,
           -1.3271253108978271,
           -0.2599875330924988,
           -1.4059830904006958,
           -0.24251289665699005,
           1.2849677801132202,
           -1.791825294494629,
           3.0687360763549805,
           -0.7315678596496582,
           -0.8420326113700867
          ],
          "id": 534,
          "words": "moderno",
          "x": 3.5355348587036133,
          "y": 1.5862396955490112
         },
         {
          "emb": [
           -0.7738938331604004,
           -1.0421990156173706,
           -0.6110543012619019,
           0.49103644490242004,
           -1.1835676431655884,
           -0.7586434483528137,
           0.2261282503604889,
           0.10788621008396149,
           0.4459066689014435,
           -0.1786302626132965
          ],
          "id": 535,
          "words": "estrada",
          "x": 0.15644918382167816,
          "y": 1.157549500465393
         },
         {
          "emb": [
           0.054916106164455414,
           0.43805262446403503,
           0.07675742357969284,
           0.12440536916255951,
           -0.6130781769752502,
           -1.3747566938400269,
           0.8933568596839905,
           0.45450738072395325,
           1.873895525932312,
           -0.6273450255393982
          ],
          "id": 536,
          "words": "unido",
          "x": -1.1391139030456543,
          "y": 0.42576074600219727
         },
         {
          "emb": [
           -2.248054027557373,
           0.9931163191795349,
           0.5325248837471008,
           -0.5859966278076172,
           -1.169697642326355,
           0.3689289093017578,
           1.0539344549179077,
           1.2848889827728271,
           1.0968507528305054,
           -0.12770676612854004
          ],
          "id": 537,
          "words": "uniu",
          "x": -0.42273375391960144,
          "y": 1.3694413900375366
         },
         {
          "emb": [
           1.4527205228805542,
           -1.4892629384994507,
           0.1344674825668335,
           -1.4641395807266235,
           -0.24783049523830414,
           0.4137762784957886,
           1.0867342948913574,
           -0.2155272513628006,
           0.8834901452064514,
           1.4581577777862549
          ],
          "id": 538,
          "words": "paul",
          "x": 0.9407293200492859,
          "y": -2.270606517791748
         },
         {
          "emb": [
           1.6605569124221802,
           -0.0089632049202919,
           -1.2771782875061035,
           0.6577529311180115,
           -0.7999643087387085,
           -0.5063920021057129,
           0.10968104004859924,
           1.840139389038086,
           0.5833098292350769,
           -0.10493311285972595
          ],
          "id": 539,
          "words": "julgado",
          "x": 0.7373316884040833,
          "y": 0.9264959096908569
         },
         {
          "emb": [
           1.0257959365844727,
           2.258310079574585,
           2.2291417121887207,
           1.316272497177124,
           0.3547983467578888,
           -0.3172633945941925,
           0.5191843509674072,
           -0.2503175139427185,
           -0.11181335896253586,
           0.6849644780158997
          ],
          "id": 540,
          "words": "casa",
          "x": -2.5639097690582275,
          "y": -0.9200199842453003
         },
         {
          "emb": [
           -0.03877925127744675,
           1.3025317192077637,
           0.36939969658851624,
           1.290360927581787,
           0.6988704800605774,
           0.11955930292606354,
           -2.6789839267730713,
           -0.2326505035161972,
           2.0555293560028076,
           0.7160068154335022
          ],
          "id": 541,
          "words": "preocupação",
          "x": -1.9133291244506836,
          "y": 0.7436906099319458
         },
         {
          "emb": [
           -0.0891503393650055,
           1.4900990724563599,
           -0.5106475353240967,
           -0.6270367503166199,
           0.44952601194381714,
           -1.2430099248886108,
           0.06677311658859253,
           0.3713507354259491,
           -0.505071222782135,
           1.078068494796753
          ],
          "id": 542,
          "words": "centro",
          "x": -0.34597837924957275,
          "y": -0.1698560267686844
         },
         {
          "emb": [
           -1.6089757680892944,
           0.8424875736236572,
           0.18565289676189423,
           0.041393496096134186,
           -0.5063958764076233,
           -0.17678479850292206,
           -0.010108205489814281,
           -0.35748085379600525,
           0.624276340007782,
           -0.37556925415992737
          ],
          "id": 543,
          "words": "criou",
          "x": -0.9522294402122498,
          "y": 0.8794769644737244
         },
         {
          "emb": [
           0.9735323786735535,
           -0.7084047794342041,
           0.7162925601005554,
           0.1507895141839981,
           0.3671678900718689,
           1.109694242477417,
           -1.7595486640930176,
           -0.9201264977455139,
           0.9349151849746704,
           -0.879324197769165
          ],
          "id": 544,
          "words": "quanto",
          "x": 0.06155802682042122,
          "y": -0.6925684213638306
         },
         {
          "emb": [
           0.2242247462272644,
           -0.27003100514411926,
           0.9174834489822388,
           -0.2563301622867584,
           -0.16727711260318756,
           -0.6319308280944824,
           -0.18334239721298218,
           -0.682476818561554,
           1.0486866235733032,
           -0.5636407732963562
          ],
          "id": 545,
          "words": "passou",
          "x": -0.668490469455719,
          "y": -0.6075401902198792
         },
         {
          "emb": [
           -0.8881562352180481,
           -0.5990033745765686,
           -0.4451417624950409,
           0.06347355246543884,
           -1.026901364326477,
           0.22010491788387299,
           2.439610719680786,
           -0.8283829092979431,
           0.18721821904182434,
           -0.10553557425737381
          ],
          "id": 546,
          "words": "jacobi",
          "x": -0.36688360571861267,
          "y": -0.07939033955335617
         },
         {
          "emb": [
           -1.2121227979660034,
           -1.0994884967803955,
           0.9676186442375183,
           -0.5858636498451233,
           0.5369136333465576,
           0.2665436565876007,
           -0.6639837026596069,
           -0.2673484981060028,
           -0.49595165252685547,
           0.22781367599964142
          ],
          "id": 547,
          "words": "buscado",
          "x": 0.5141822099685669,
          "y": -0.20142938196659088
         },
         {
          "emb": [
           0.5725575685501099,
           -0.5592314004898071,
           -0.005828622728586197,
           1.198006510734558,
           0.2292383909225464,
           0.7656912207603455,
           -0.8165948987007141,
           0.824443519115448,
           0.5762085318565369,
           -0.9512531757354736
          ],
          "id": 548,
          "words": "dotado",
          "x": 0.1757853478193283,
          "y": 0.9480680227279663
         },
         {
          "emb": [
           0.8627674579620361,
           -0.9679607152938843,
           -0.29458221793174744,
           0.12276547402143478,
           0.6780890226364136,
           2.167832374572754,
           0.17465542256832123,
           0.015104250982403755,
           0.9122793078422546,
           1.317284345626831
          ],
          "id": 549,
          "words": "inquérito",
          "x": 0.4244954288005829,
          "y": -1.0147987604141235
         },
         {
          "emb": [
           0.4666537940502167,
           0.1639716625213623,
           1.310210108757019,
           0.3927776515483856,
           1.1242595911026,
           1.628766417503357,
           -0.0765901729464531,
           -0.14292027056217194,
           0.8612616658210754,
           0.19664080440998077
          ],
          "id": 550,
          "words": "anteriormente",
          "x": -0.8160409927368164,
          "y": -0.9347407817840576
         },
         {
          "emb": [
           1.1228054761886597,
           0.3825429081916809,
           -0.5492665767669678,
           1.2712849378585815,
           0.6307179927825928,
           0.595496416091919,
           -0.8799624443054199,
           -1.571431040763855,
           0.06157970055937767,
           -0.9332073926925659
          ],
          "id": 551,
          "words": "autor",
          "x": -0.858595609664917,
          "y": -0.2678452730178833
         },
         {
          "emb": [
           0.16767200827598572,
           -1.455161213874817,
           -0.5637511014938354,
           -1.0821571350097656,
           -0.7917842268943787,
           0.4108428359031677,
           -1.092688798904419,
           -1.4326757192611694,
           1.0784060955047607,
           0.6647658348083496
          ],
          "id": 552,
          "words": "julius",
          "x": 0.8110164403915405,
          "y": -0.9608721137046814
         },
         {
          "emb": [
           0.5149312615394592,
           -0.9396738409996033,
           -0.22238993644714355,
           -0.45005613565444946,
           -0.5925357937812805,
           -0.14007611572742462,
           -0.767210066318512,
           1.4447641372680664,
           -1.6531425714492798,
           -1.0238251686096191
          ],
          "id": 553,
          "words": "elaboradas",
          "x": 2.300139904022217,
          "y": 0.7467723488807678
         },
         {
          "emb": [
           0.5157674551010132,
           0.47497448325157166,
           0.293420672416687,
           0.431255578994751,
           1.2762045860290527,
           1.379368782043457,
           0.5555789470672607,
           0.16429494321346283,
           0.5769882202148438,
           -1.1353012323379517
          ],
          "id": 554,
          "words": "alguma",
          "x": -0.5097466111183167,
          "y": -0.3120710849761963
         },
         {
          "emb": [
           0.1605217605829239,
           -0.7236360907554626,
           0.07710126042366028,
           -1.2891390323638916,
           0.6020997166633606,
           -1.4087063074111938,
           -1.1661800146102905,
           -0.486735075712204,
           0.42954856157302856,
           1.914048194885254
          ],
          "id": 555,
          "words": "especializado",
          "x": 0.24303291738033295,
          "y": -1.2555700540542603
         },
         {
          "emb": [
           0.7050288319587708,
           -0.47795727849006653,
           0.352063924074173,
           0.6356852054595947,
           -0.3999479115009308,
           -0.5943219661712646,
           -0.8344182968139648,
           0.6056631207466125,
           -0.05247987434267998,
           -0.14627185463905334
          ],
          "id": 556,
          "words": "organismo",
          "x": 0.22763210535049438,
          "y": 0.4504674971103668
         },
         {
          "emb": [
           -1.7530083656311035,
           0.3911195695400238,
           -2.1723928451538086,
           -1.5846773386001587,
           0.041370220482349396,
           -0.2722688615322113,
           1.0958900451660156,
           0.7229470014572144,
           -1.8092821836471558,
           1.821912169456482
          ],
          "id": 557,
          "words": "john",
          "x": 1.565504789352417,
          "y": 0.4557814598083496
         },
         {
          "emb": [
           -0.14388898015022278,
           -1.3098088502883911,
           -2.1529757976531982,
           -1.327486276626587,
           1.9368698596954346,
           -0.6258971095085144,
           0.015317635610699654,
           -0.2671302556991577,
           1.0895546674728394,
           0.4097887873649597
          ],
          "id": 558,
          "words": "afirmativo",
          "x": 0.8386170268058777,
          "y": -0.6260168552398682
         },
         {
          "emb": [
           -0.5735618472099304,
           0.48989036679267883,
           0.16445471346378326,
           -2.118283987045288,
           -0.9914973378181458,
           -1.6170616149902344,
           0.08611149340867996,
           -1.6033129692077637,
           -0.5767256617546082,
           -0.6684310436248779
          ],
          "id": 559,
          "words": "formal",
          "x": 0.24454423785209656,
          "y": -1.063807487487793
         },
         {
          "emb": [
           -0.9939796924591064,
           1.0787180662155151,
           1.0184364318847656,
           1.1602798700332642,
           1.0356611013412476,
           1.5214664936065674,
           -1.8022735118865967,
           -0.6458057761192322,
           -0.4053195118904114,
           -0.4265410006046295
          ],
          "id": 560,
          "words": "derek",
          "x": -1.0517810583114624,
          "y": 0.6653822064399719
         },
         {
          "emb": [
           0.9758206009864807,
           -1.3256245851516724,
           -0.6535152792930603,
           1.1516830921173096,
           1.5363469123840332,
           -0.6049303412437439,
           0.04625970870256424,
           0.319151371717453,
           0.48092150688171387,
           0.09993717819452286
          ],
          "id": 561,
          "words": "lógico",
          "x": -0.18692882359027863,
          "y": 0.013173317536711693
         },
         {
          "emb": [
           -0.33073514699935913,
           -1.1407700777053833,
           -0.09493716061115265,
           0.6971597075462341,
           -1.0239042043685913,
           0.9451640844345093,
           -0.5688514113426208,
           -0.5902807712554932,
           1.3488082885742188,
           2.054861307144165
          ],
          "id": 562,
          "words": "investigação",
          "x": -0.3350470960140228,
          "y": 0.02532496489584446
         },
         {
          "emb": [
           -1.1454259157180786,
           -0.6824169754981995,
           0.470262736082077,
           2.1843647956848145,
           1.0437217950820923,
           0.6180896162986755,
           1.3255658149719238,
           -1.0852144956588745,
           -1.7853540182113647,
           0.9310634136199951
          ],
          "id": 563,
          "words": "park",
          "x": -1.246526837348938,
          "y": 0.21335728466510773
         },
         {
          "emb": [
           -0.949546754360199,
           -0.21651002764701843,
           0.8009291887283325,
           0.3664439022541046,
           1.2331348657608032,
           -1.4680150747299194,
           -1.4245574474334717,
           -0.6024696230888367,
           0.8755136132240295,
           -0.18521688878536224
          ],
          "id": 564,
          "words": "público",
          "x": -1.2829768657684326,
          "y": 0.3152127265930176
         },
         {
          "emb": [
           0.3624485731124878,
           -2.3209667205810547,
           -0.5174958109855652,
           -0.26826661825180054,
           -1.5084645748138428,
           0.6842120289802551,
           0.5829936265945435,
           -0.875340461730957,
           0.034330110996961594,
           -1.1576228141784668
          ],
          "id": 565,
          "words": "envenenamento",
          "x": 1.4543795585632324,
          "y": -0.23590324819087982
         },
         {
          "emb": [
           -0.40331387519836426,
           -0.12006572633981705,
           -1.522834062576294,
           -2.4366965293884277,
           0.8904158473014832,
           0.5932921767234802,
           0.5122830867767334,
           1.2218947410583496,
           -0.8963905572891235,
           1.5793569087982178
          ],
          "id": 566,
          "words": "churchill",
          "x": 2.253634214401245,
          "y": -0.7466208338737488
         },
         {
          "emb": [
           2.527785539627075,
           1.9926148653030396,
           -0.19177189469337463,
           -1.4129177331924438,
           -0.38146811723709106,
           -1.1556609869003296,
           -0.5776928663253784,
           -0.26606425642967224,
           0.9354317784309387,
           1.7131214141845703
          ],
          "id": 567,
          "words": "meio",
          "x": -0.4788331687450409,
          "y": -2.120194911956787
         },
         {
          "emb": [
           -0.12984363734722137,
           2.0645129680633545,
           -0.9744448661804199,
           -0.40371257066726685,
           0.736504316329956,
           -0.7993179559707642,
           -1.1051666736602783,
           0.044141847640275955,
           -0.3269495368003845,
           0.2672969698905945
          ],
          "id": 568,
          "words": "externas",
          "x": -0.4230974614620209,
          "y": 0.32995709776878357
         },
         {
          "emb": [
           -0.08892284333705902,
           -0.14459499716758728,
           -0.2051662653684616,
           1.3299038410186768,
           -0.5563943386077881,
           -0.892561674118042,
           -0.8585960865020752,
           1.066635012626648,
           0.945194661617279,
           0.5630127787590027
          ],
          "id": 569,
          "words": "condenado",
          "x": -0.5507572889328003,
          "y": 1.509757399559021
         },
         {
          "emb": [
           -0.6788631081581116,
           0.8950015306472778,
           2.189497470855713,
           0.2442341446876526,
           0.5301123857498169,
           0.31905093789100647,
           -0.4807187616825104,
           -0.38105854392051697,
           -0.7073206305503845,
           -1.8408914804458618
          ],
          "id": 570,
          "words": "enigma",
          "x": -0.8597249984741211,
          "y": 0.043591272085905075
         },
         {
          "emb": [
           0.07264602929353714,
           -2.0679426193237305,
           -0.7633823752403259,
           -0.9424101710319519,
           -0.8493161201477051,
           -1.8399896621704102,
           -1.3006449937820435,
           0.9755637049674988,
           -1.8528058528900146,
           -1.2067713737487793
          ],
          "id": 571,
          "words": "quartel",
          "x": 2.8352768421173096,
          "y": 0.9802201390266418
         },
         {
          "emb": [
           0.8447960019111633,
           -0.22822104394435883,
           0.8062190413475037,
           -1.0648002624511719,
           -0.7344302535057068,
           -0.9648293256759644,
           0.32298484444618225,
           1.2233318090438843,
           0.05550703778862953,
           -1.2738431692123413
          ],
          "id": 572,
          "words": "ter",
          "x": 0.9618796110153198,
          "y": -0.21035724878311157
         },
         {
          "emb": [
           -0.05147416889667511,
           2.437797784805298,
           -1.145728588104248,
           -0.06621325761079788,
           -0.41619420051574707,
           0.3662947416305542,
           1.1810492277145386,
           0.7979641556739807,
           0.19519509375095367,
           -0.9955688714981079
          ],
          "id": 573,
          "words": "vapores",
          "x": -0.4582445025444031,
          "y": 0.8503397703170776
         },
         {
          "emb": [
           0.033323656767606735,
           -1.8188915252685547,
           0.2326987087726593,
           -1.5510451793670654,
           -1.1164063215255737,
           -0.37188369035720825,
           -0.8503633737564087,
           0.8044962882995605,
           0.24432425200939178,
           0.9545994400978088
          ],
          "id": 574,
          "words": "feitos",
          "x": 1.9431519508361816,
          "y": -0.34467270970344543
         },
         {
          "emb": [
           -1.2696343660354614,
           -0.20811422169208527,
           0.34837305545806885,
           -0.13982968032360077,
           -0.362771213054657,
           -0.1805906742811203,
           -0.7006062865257263,
           -0.023578137159347534,
           -0.7700557112693787,
           -0.5713695287704468
          ],
          "id": 575,
          "words": "informação",
          "x": 0.3999535143375397,
          "y": 0.8360235095024109
         },
         {
          "emb": [
           1.8524134159088135,
           0.5310755968093872,
           -0.7978309392929077,
           0.3562954366207123,
           -0.8403118848800659,
           0.4229550361633301,
           -1.4296283721923828,
           0.724668562412262,
           -1.203606367111206,
           -0.567098081111908
          ],
          "id": 576,
          "words": "tecnologia",
          "x": 1.3707690238952637,
          "y": 0.42101791501045227
         },
         {
          "emb": [
           0.5274704694747925,
           0.20073120296001434,
           1.6709095239639282,
           0.4164395034313202,
           0.19152790307998657,
           -1.7972816228866577,
           -0.7984151244163513,
           -2.5440733432769775,
           -0.9172011017799377,
           -0.7402697801589966
          ],
          "id": 577,
          "words": "campanhas",
          "x": -1.5492554903030396,
          "y": -1.311771035194397
         },
         {
          "emb": [
           1.634807825088501,
           0.24828468263149261,
           1.4245145320892334,
           -0.07349692285060883,
           0.31087517738342285,
           -0.5964584350585938,
           1.981472134590149,
           -0.8175015449523926,
           0.6909095048904419,
           0.8916859030723572
          ],
          "id": 578,
          "words": "ginecomastia",
          "x": -1.506772518157959,
          "y": -2.3778367042541504
         },
         {
          "emb": [
           -0.635769248008728,
           -0.5098090171813965,
           2.5814802646636963,
           -0.6221375465393066,
           -0.7348016500473022,
           -2.077225685119629,
           -1.113852620124817,
           0.48650914430618286,
           -1.9394967555999756,
           0.7073503732681274
          ],
          "id": 579,
          "words": "envolveram",
          "x": 0.44521650671958923,
          "y": -0.18403348326683044
         },
         {
          "emb": [
           -0.46987247467041016,
           -1.815624713897705,
           -1.217315435409546,
           -0.11571266502141953,
           -0.2015167474746704,
           0.15264590084552765,
           0.39512908458709717,
           -0.3037433922290802,
           0.21975095570087433,
           0.17328648269176483
          ],
          "id": 580,
          "words": "breaking",
          "x": 0.9354029297828674,
          "y": 0.23881438374519348
         },
         {
          "emb": [
           1.3700124025344849,
           -0.4357505142688751,
           1.119133710861206,
           1.0921460390090942,
           0.8398234844207764,
           -0.005624745041131973,
           -1.6506714820861816,
           -0.25387877225875854,
           0.06605464220046997,
           -0.6457102298736572
          ],
          "id": 581,
          "words": "mortem",
          "x": -0.4121631383895874,
          "y": -0.3302280008792877
         },
         {
          "emb": [
           1.4978669881820679,
           -0.31709977984428406,
           -0.7675883173942566,
           -1.2839326858520508,
           -1.4155176877975464,
           0.9114902019500732,
           0.3867691457271576,
           1.0054975748062134,
           -0.539175271987915,
           0.5565207600593567
          ],
          "id": 582,
          "words": "secundário",
          "x": 2.152503728866577,
          "y": -0.7110258340835571
         },
         {
          "emb": [
           2.160818099975586,
           -2.233487367630005,
           0.33684390783309937,
           -0.17748631536960602,
           -0.191198468208313,
           0.21318572759628296,
           -0.7775441408157349,
           -0.44580546021461487,
           0.009115115739405155,
           -0.40769216418266296
          ],
          "id": 583,
          "words": "criptoanálise",
          "x": 1.3748220205307007,
          "y": -1.3331339359283447
         },
         {
          "emb": [
           1.0431568622589111,
           -0.5028488039970398,
           -1.0253385305404663,
           -2.1829538345336914,
           -1.23633873462677,
           1.289483666419983,
           -0.9549578428268433,
           0.6130547523498535,
           -0.16350150108337402,
           0.03667289391160011
          ],
          "id": 584,
          "words": "clérigo",
          "x": 2.7928881645202637,
          "y": -0.6923094391822815
         },
         {
          "emb": [
           1.6195060014724731,
           -0.012816743925213814,
           0.6033788323402405,
           0.9077762365341187,
           -0.05584186688065529,
           1.4402379989624023,
           -1.3358124494552612,
           -0.20522509515285492,
           0.4560569226741791,
           -1.5459630489349365
          ],
          "id": 585,
          "words": "tido",
          "x": 0.0681183859705925,
          "y": -0.1129869595170021
         },
         {
          "emb": [
           -0.5097482204437256,
           1.0843733549118042,
           0.36796969175338745,
           -0.3239876627922058,
           -0.4461970627307892,
           -1.5292822122573853,
           -0.1402476578950882,
           0.0338851697742939,
           -0.9450770020484924,
           -0.5882858633995056
          ],
          "id": 586,
          "words": "ambígua",
          "x": -0.29042625427246094,
          "y": 0.42716214060783386
         },
         {
          "emb": [
           -1.127886176109314,
           1.7388404607772827,
           -0.7266157269477844,
           0.678381085395813,
           0.10615123808383942,
           -1.2973158359527588,
           -1.2829190492630005,
           -2.2391974925994873,
           1.1048885583877563,
           0.9299432635307312
          ],
          "id": 587,
          "words": "máquina",
          "x": -2.513139009475708,
          "y": 0.3194432258605957
         },
         {
          "emb": [
           -0.3250903785228729,
           -0.8307287096977234,
           1.3956395387649536,
           0.3994634747505188,
           -1.5462990999221802,
           1.5512200593948364,
           0.2699352204799652,
           0.36073943972587585,
           1.4283205270767212,
           0.37327662110328674
          ],
          "id": 588,
          "words": "embora",
          "x": -0.1733158528804779,
          "y": 0.15079514682292938
         },
         {
          "emb": [
           -0.5405993461608887,
           0.2201317548751831,
           -1.928305983543396,
           0.15140365064144135,
           0.4122201204299927,
           -0.28825679421424866,
           -0.7465026378631592,
           -1.4598734378814697,
           -0.382124125957489,
           0.0193348191678524
          ],
          "id": 589,
          "words": "acordo",
          "x": -0.09190380573272705,
          "y": 0.3628043234348297
         },
         {
          "emb": [
           -1.3288512229919434,
           -2.251471996307373,
           0.32405462861061096,
           -1.2064093351364136,
           0.470430463552475,
           -0.006311195902526379,
           0.3151495158672333,
           -0.8224425911903381,
           -0.16041059792041779,
           0.2391941249370575
          ],
          "id": 590,
          "words": "consistia",
          "x": 0.9452242851257324,
          "y": -0.7431883215904236
         },
         {
          "emb": [
           -1.7313487529754639,
           0.21502287685871124,
           -0.012040222063660622,
           -0.45824530720710754,
           0.42463943362236023,
           0.14473973214626312,
           0.3314341902732849,
           0.6186414957046509,
           -0.5267883539199829,
           0.15171943604946136
          ],
          "id": 591,
          "words": "ativa",
          "x": 0.23779159784317017,
          "y": 0.7342271208763123
         },
         {
          "emb": [
           -0.8925399780273438,
           -0.2307543307542801,
           0.25026336312294006,
           1.3484407663345337,
           -0.5268290638923645,
           0.16239245235919952,
           0.8620874881744385,
           -0.26178616285324097,
           0.5944732427597046,
           -1.0430371761322021
          ],
          "id": 592,
          "words": "veneno",
          "x": -1.0540703535079956,
          "y": 1.0929524898529053
         },
         {
          "emb": [
           -0.9432738423347473,
           0.005642627365887165,
           0.8727046251296997,
           -1.1327462196350098,
           0.4594835937023163,
           -0.4898667633533478,
           -0.44248026609420776,
           0.016069140285253525,
           2.095850706100464,
           -1.077768325805664
          ],
          "id": 593,
          "words": "formais",
          "x": -0.5859233736991882,
          "y": -0.07574719190597534
         },
         {
          "emb": [
           -0.5210382342338562,
           0.29514816403388977,
           1.6489360332489014,
           1.463400959968567,
           -0.10034455358982086,
           -0.1532595455646515,
           -0.9729323387145996,
           0.8064693808555603,
           0.701530396938324,
           -0.4294630289077759
          ],
          "id": 594,
          "words": "cena",
          "x": -1.2029237747192383,
          "y": 1.225160837173462
         },
         {
          "emb": [
           -2.2907156944274902,
           -0.31188300251960754,
           0.37953677773475647,
           1.0987787246704102,
           -0.6065506339073181,
           -0.8742367029190063,
           0.9567797183990479,
           -2.136719226837158,
           0.6011420488357544,
           2.5998990535736084
          ],
          "id": 595,
          "words": "imitar",
          "x": -2.446422576904297,
          "y": 0.00020091912301722914
         },
         {
          "emb": [
           -0.43427202105522156,
           2.223097801208496,
           2.5556955337524414,
           -0.6086212992668152,
           -0.6102126836776733,
           -0.2653660476207733,
           1.134316086769104,
           -1.2868258953094482,
           0.34498295187950134,
           -1.7678648233413696
          ],
          "id": 596,
          "words": "prêmio",
          "x": -2.075779676437378,
          "y": -1.0531295537948608
         },
         {
          "emb": [
           0.21313321590423584,
           -0.677323043346405,
           -1.6795613765716553,
           -1.1407490968704224,
           0.7904764413833618,
           -0.3628740608692169,
           -0.1274702101945877,
           2.088677406311035,
           -0.5493762493133545,
           -1.4596524238586426
          ],
          "id": 597,
          "words": "ingestão",
          "x": 2.3802430629730225,
          "y": 0.9699153304100037
         },
         {
          "emb": [
           -0.7768719792366028,
           -2.1248738765716553,
           -0.4696060121059418,
           1.1942905187606812,
           -1.0665923357009888,
           -0.11790721118450165,
           2.296452522277832,
           1.7501862049102783,
           0.8500428795814514,
           -1.2090564966201782
          ],
          "id": 598,
          "words": "cianeto",
          "x": 0.5324248671531677,
          "y": 1.8949205875396729
         },
         {
          "emb": [
           -2.0720202922821045,
           -0.6487792134284973,
           0.2678910493850708,
           -0.23134903609752655,
           1.2978323698043823,
           0.6786006093025208,
           0.5384964942932129,
           0.43770524859428406,
           -1.0923144817352295,
           -0.0954231545329094
          ],
          "id": 599,
          "words": "casal",
          "x": 0.4816918671131134,
          "y": 0.5888882279396057
         },
         {
          "emb": [
           -0.47085651755332947,
           1.3390705585479736,
           0.39656922221183777,
           1.5995612144470215,
           1.0093508958816528,
           -0.9387644529342651,
           -0.13004246354103088,
           0.5635138154029846,
           -0.19497878849506378,
           0.3262958824634552
          ],
          "id": 600,
          "words": "afirmado",
          "x": -1.7242990732192993,
          "y": 1.0260435342788696
         },
         {
          "emb": [
           0.5436440110206604,
           -0.19945549964904785,
           0.4986516535282135,
           -0.6962280869483948,
           1.0229995250701904,
           -0.5777321457862854,
           -0.4534430205821991,
           0.07078855484724045,
           2.142051935195923,
           0.32032129168510437
          ],
          "id": 601,
          "words": "negação",
          "x": -0.6771886944770813,
          "y": -0.9466347098350525
         },
         {
          "emb": [
           0.006752977147698402,
           -0.7052802443504333,
           0.5467954874038696,
           -2.330538272857666,
           -0.7218418121337891,
           2.1251893043518066,
           0.24150677025318146,
           -0.19242766499519348,
           -1.217071533203125,
           -0.30395787954330444
          ],
          "id": 602,
          "words": "carreira",
          "x": 2.37616229057312,
          "y": -1.4604812860488892
         },
         {
          "emb": [
           0.870356023311615,
           2.792492151260376,
           1.0277230739593506,
           -0.4491301476955414,
           0.7511583566665649,
           0.8087104558944702,
           0.3862813413143158,
           -0.1898706704378128,
           2.809952735900879,
           0.7729415893554688
          ],
          "id": 603,
          "words": "códigos",
          "x": -2.4471757411956787,
          "y": -1.4825618267059326
         },
         {
          "emb": [
           -1.0063436031341553,
           -2.2467634677886963,
           1.0684785842895508,
           0.8194212317466736,
           -1.1051559448242188,
           -0.39028871059417725,
           0.3732081651687622,
           -0.19235417246818542,
           -0.9071317911148071,
           0.35662543773651123
          ],
          "id": 604,
          "words": "sistemas",
          "x": 0.39516112208366394,
          "y": 0.5312086343765259
         },
         {
          "emb": [
           -1.5940114259719849,
           0.040521588176488876,
           -2.903853416442871,
           0.8614081144332886,
           -0.2410227507352829,
           -1.015368938446045,
           0.4921271502971649,
           0.6054270267486572,
           -0.057705365121364594,
           0.43218809366226196
          ],
          "id": 605,
          "words": "ia",
          "x": 0.0853637233376503,
          "y": 2.352668046951294
         },
         {
          "emb": [
           -0.004541365895420313,
           -1.2763392925262451,
           0.007500291336327791,
           0.8722172379493713,
           0.5125442743301392,
           0.6288877129554749,
           -0.0850549265742302,
           -0.13207533955574036,
           1.3855571746826172,
           1.666181206703186
          ],
          "id": 606,
          "words": "muitos",
          "x": -0.5848403573036194,
          "y": -0.22821666300296783
         },
         {
          "emb": [
           1.799034833908081,
           -1.2019983530044556,
           -1.018555998802185,
           0.6796639561653137,
           1.1107029914855957,
           -1.2946654558181763,
           -0.16951267421245575,
           0.8264119625091553,
           -0.2425740510225296,
           -0.5587125420570374
          ],
          "id": 607,
          "words": "efeito",
          "x": 0.7215003371238708,
          "y": 0.05358218029141426
         },
         {
          "emb": [
           1.8614904880523682,
           -1.4409126043319702,
           -0.8517968058586121,
           -3.0137884616851807,
           -0.9197507500648499,
           -0.3892585337162018,
           0.5027632117271423,
           0.12041705846786499,
           -0.2952133119106293,
           -0.585252046585083
          ],
          "id": 608,
          "words": "causa",
          "x": 2.918253183364868,
          "y": -1.9770326614379883
         },
         {
          "emb": [
           1.3196830749511719,
           -0.10600253194570541,
           -0.27057692408561707,
           0.19765503704547882,
           -1.3290464878082275,
           -0.03591618314385414,
           -0.7319976091384888,
           0.8773381114006042,
           -1.2277034521102905,
           0.15243971347808838
          ],
          "id": 609,
          "words": "project",
          "x": 1.3524980545043945,
          "y": 0.3227468430995941
         },
         {
          "emb": [
           -0.7040952444076538,
           0.6060886979103088,
           2.819694995880127,
           -1.3708969354629517,
           -0.7610543370246887,
           -1.2000131607055664,
           2.937601089477539,
           -0.6052460074424744,
           0.8006901741027832,
           2.2074294090270996
          ],
          "id": 610,
          "words": "morfogênese",
          "x": -1.9328569173812866,
          "y": -2.3650381565093994
         },
         {
          "emb": [
           -1.5546666383743286,
           -0.47017306089401245,
           1.0682671070098877,
           0.5169866681098938,
           -0.747668445110321,
           -1.8479442596435547,
           -0.3402971923351288,
           -0.6429372429847717,
           0.15247169137001038,
           -0.9953868985176086
          ],
          "id": 611,
          "words": "primeiro",
          "x": -1.006728172302246,
          "y": 1.0355638265609741
         },
         {
          "emb": [
           -0.7962408065795898,
           0.33746278285980225,
           -2.2093417644500732,
           -0.2879105806350708,
           0.26869192719459534,
           1.7375386953353882,
           -1.3741300106048584,
           1.3261698484420776,
           0.23668640851974487,
           0.5202043056488037
          ],
          "id": 612,
          "words": "machine",
          "x": 1.5075725317001343,
          "y": 1.5470919609069824
         },
         {
          "emb": [
           -1.4698206186294556,
           -2.0012800693511963,
           -0.480633944272995,
           -1.2654279470443726,
           1.4139517545700073,
           1.0488498210906982,
           0.1320810765028,
           0.2018471658229828,
           -1.0831308364868164,
           -0.16121084988117218
          ],
          "id": 613,
          "words": "maida",
          "x": 1.9798415899276733,
          "y": -0.13307693600654602
         },
         {
          "emb": [
           0.6178617477416992,
           -0.11611422151327133,
           -0.2104029357433319,
           0.4970735013484955,
           -1.7657326459884644,
           -0.041043683886528015,
           -0.5357229113578796,
           1.6168640851974487,
           -0.892778754234314,
           0.4326821565628052
          ],
          "id": 614,
          "words": "acompanhar",
          "x": 1.2478746175765991,
          "y": 1.1530355215072632
         },
         {
          "emb": [
           0.135215163230896,
           1.1390713453292847,
           -0.11852416396141052,
           -1.2134679555892944,
           -0.8303841352462769,
           1.727121353149414,
           -0.8794678449630737,
           1.3927199840545654,
           -0.1251787692308426,
           -0.6476020812988281
          ],
          "id": 615,
          "words": "decodificadora",
          "x": 1.5364044904708862,
          "y": 0.43688783049583435
         },
         {
          "emb": [
           -0.595491886138916,
           -1.54171621799469,
           2.242116689682007,
           -0.12945617735385895,
           1.5906614065170288,
           -0.8651751279830933,
           -1.6254916191101074,
           2.6684374809265137,
           0.650181770324707,
           1.9710749387741089
          ],
          "id": 616,
          "words": "cognitivos",
          "x": 0.41127046942710876,
          "y": 0.2925359308719635
         },
         {
          "emb": [
           0.8690104484558105,
           -0.21718795597553253,
           -0.24430103600025177,
           0.4533239006996155,
           -0.06053999438881874,
           -0.5201660990715027,
           0.35791587829589844,
           1.2898752689361572,
           -0.6309431195259094,
           -1.0217647552490234
          ],
          "id": 617,
          "words": "aposentados",
          "x": 0.7092568278312683,
          "y": 0.6441570520401001
         }
        ]
       },
       "encoding": {
        "tooltip": {
         "field": "words",
         "type": "nominal"
        },
        "x": {
         "field": "x",
         "type": "quantitative"
        },
        "y": {
         "field": "y",
         "type": "quantitative"
        }
       },
       "height": 500,
       "mark": {
        "size": 180,
        "type": "circle"
       },
       "width": 500
      },
      "image/png": "[encoded data removed]",
      "text/plain": [
       "<VegaLite 2 object>\n",
       "\n",
       "If you see this message, it means the renderer has not been properly enabled\n",
       "for the frontend that you are using. For more information, see\n",
       "https://altair-viz.github.io/user_guide/troubleshooting.html\n"
      ]
     },
     "execution_count": 23,
     "metadata": {},
     "output_type": "execute_result"
    }
   ],
   "source": [
    "alt.themes.enable('opaque')\n",
    "base = alt.Chart(dataf).properties(\n",
    "        width=500,\n",
    "        height=500\n",
    "    )\n",
    "\n",
    "base.mark_circle(size=180).encode(x=\"x\", y=\"y\", tooltip=\"words\")"
   ]
  },
  {
   "cell_type": "code",
   "execution_count": 24,
   "metadata": {},
   "outputs": [],
   "source": [
    "from knn_eucl_cos import knn"
   ]
  },
  {
   "cell_type": "code",
   "execution_count": 40,
   "metadata": {},
   "outputs": [
    {
     "data": {
      "text/markdown": [
       "| rank sim cos| - | rank dist eucl | - |\n",
       "|--|--|--|--|\n",
       "|novas         | 0.28059 | novas         | 0.09326|\n",
       "|equivalia     | 0.31309 | polonesa      | 0.09989|\n",
       "|pioneiro      | 0.31798 | neve          | 0.10029|\n",
       "|afirma        | 0.32445 | andrew        | 0.10191|\n",
       "|neve          | 0.33447 | pioneiro      | 0.10310|\n",
       "|polonesa      | 0.33585 | afirma        | 0.10484|\n",
       "|massachusetts | 0.34675 | conduzida     | 0.10508|\n",
       "|conduzida     | 0.34768 | bombas        | 0.10641|\n",
       "|andrew        | 0.35143 | manipular     | 0.10718|\n",
       "|hastings      | 0.35665 | homossexuais  | 0.11074|\n"
      ],
      "text/plain": [
       "<IPython.core.display.Markdown object>"
      ]
     },
     "execution_count": 40,
     "metadata": {},
     "output_type": "execute_result"
    }
   ],
   "source": [
    "w = word2id[\"guerra\"]\n",
    "\n",
    "matrix = np.array([cbow.get_word_emb(word2id[i]).detach().numpy()[0] for i in uniques])\n",
    "result_pos, result_values = knn(dataf.emb, pos=w, n=10)\n",
    "result_p_eucl, result_v_eucl = knn(dataf.emb, pos=w, n=10, func=\"eucl\")\n",
    "\n",
    "mark = \"| rank sim cos| - | rank dist eucl | - |\\n|--|--|--|--|\\n\"\n",
    "for i, j, k, l in zip(result_pos, result_values, result_p_eucl, result_v_eucl):\n",
    "    mark += f\"|{id2word[i]:<13} | {j:.5f} | {id2word[k]:<13} | {l:.5f}|\\n\"\n",
    "\n",
    "Markdown(mark)"
   ]
  },
  {
   "cell_type": "code",
   "execution_count": 101,
   "metadata": {},
   "outputs": [
    {
     "data": {
      "image/png": "[encoded data removed]",
      "text/plain": [
       "<Figure size 720x576 with 1 Axes>"
      ]
     },
     "metadata": {},
     "output_type": "display_data"
    }
   ],
   "source": [
    "fig = figure()\n",
    "ax = fig.gca()\n",
    "dataf.plot.scatter(\"x\", \"y\", ax=ax, alpha=0.1)\n",
    "dataf.query(f\"id == {w}\").plot.scatter(\"x\", \"y\", ax=ax, s=100, c=\"yellow\")\n",
    "dataf[dataf['id'].isin(result_pos)].plot.scatter(\"x\", \"y\", ax=ax, s=100, c=\"blue\")\n",
    "dataf[dataf['id'].isin(result_p_eucl)].plot.scatter(\"x\", \"y\", ax=ax, s=100, c=\"red\", alpha=0.5)\n",
    "\n",
    "for i in set(result_p_eucl.tolist() + result_pos.tolist() + [w]):\n",
    "    coord = dataf.query(f\"id=={i}\")\n",
    "    ax.annotate(coord.words.values[0],(coord.x,coord.y), size=12)\n",
    "\n",
    "ax.set_xlim(-2, 2)\n",
    "ax.set_ylim(-2, 2)\n",
    "savefig(\"../images/word2vec-cbow-rank.png\", dpi=\"figure\", transparent=True)"
   ]
  },
  {
   "cell_type": "code",
   "execution_count": null,
   "metadata": {},
   "outputs": [],
   "source": []
  }
 ],
 "metadata": {
  "kernelspec": {
   "display_name": "Python 3",
   "language": "python",
   "name": "python3"
  },
  "language_info": {
   "codemirror_mode": {
    "name": "ipython",
    "version": 3
   },
   "file_extension": ".py",
   "mimetype": "text/x-python",
   "name": "python",
   "nbconvert_exporter": "python",
   "pygments_lexer": "ipython3",
   "version": "3.7.1"
  }
 },
 "nbformat": 4,
 "nbformat_minor": 2
}
