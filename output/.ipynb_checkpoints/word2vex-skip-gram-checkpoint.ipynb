{
 "cells": [
  {
   "cell_type": "code",
   "execution_count": 2,
   "metadata": {},
   "outputs": [],
   "source": [
    "%pylab inline\n",
    "import torch"
   ]
  },
  {
   "cell_type": "code",
   "execution_count": 2,
   "metadata": {},
   "outputs": [],
   "source": [
    "figsize(10, 8)\n",
    "plt.style.use(['dark_background'])"
   ]
  },
  {
   "cell_type": "code",
   "execution_count": 3,
   "metadata": {},
   "outputs": [],
   "source": [
    "import pickle\n",
    "\n",
    "corpus_text = pickle.load(\n",
    "    open(\"corpus_text.pickle\", \"rb\")\n",
    ")"
   ]
  },
  {
   "cell_type": "code",
   "execution_count": 6,
   "metadata": {},
   "outputs": [],
   "source": [
    "word2id, id2word = {}, {}\n",
    "\n",
    "uniques = set(corpus_text)\n",
    "\n",
    "count_id = 0\n",
    "for word in uniques:\n",
    "    word2id[word] = count_id\n",
    "    id2word[count_id] = word\n",
    "    count_id += 1"
   ]
  },
  {
   "cell_type": "code",
   "execution_count": 7,
   "metadata": {},
   "outputs": [
    {
     "data": {
      "text/plain": [
       "'oficiais'"
      ]
     },
     "execution_count": 7,
     "metadata": {},
     "output_type": "execute_result"
    }
   ],
   "source": [
    "id2word[23]"
   ]
  },
  {
   "cell_type": "code",
   "execution_count": 8,
   "metadata": {},
   "outputs": [
    {
     "data": {
      "text/plain": [
       "(618, 915)"
      ]
     },
     "execution_count": 8,
     "metadata": {},
     "output_type": "execute_result"
    }
   ],
   "source": [
    "len(uniques), len(corpus_text)"
   ]
  },
  {
   "cell_type": "code",
   "execution_count": 7,
   "metadata": {},
   "outputs": [],
   "source": [
    "window = 2\n",
    "pair_ids = []\n",
    "\n",
    "text_size = len(corpus_text)\n",
    "\n",
    "corpus_text = np.array(corpus_text)\n",
    "mask = np.array([i for i in range(-window, window+1) if i is not 0])\n",
    "\n",
    "for paragraph in corpus_text:\n",
    "    paragraph = np.array(paragraph)\n",
    "    text_size = len(paragraph)\n",
    "\n",
    "    for center_word in range(window, text_size-window):\n",
    "        center_word_id = word2id[paragraph[center_word]]\n",
    "        context_words = [word2id[i] for i in paragraph[mask + center_word]]\n",
    "\n",
    "        pair_ids.append([context_words, center_word_id])"
   ]
  },
  {
   "cell_type": "code",
   "execution_count": 11,
   "metadata": {},
   "outputs": [],
   "source": [
    "from IPython.display import Markdown"
   ]
  },
  {
   "cell_type": "code",
   "execution_count": 12,
   "metadata": {},
   "outputs": [
    {
     "data": {
      "text/markdown": [
       "|central | contexto | central | contexto |\n",
       "|--|--|--|--|\n",
       "|604 | 97 | máquina | desempenhando|\n",
       "|75 | 302 | turing | computação|\n",
       "|75 | 604 | turing | máquina|\n",
       "|75 | 97 | turing | desempenhando|\n",
       "|75 | 277 | turing | papel|\n",
       "|97 | 604 | desempenhando | máquina|\n",
       "|97 | 75 | desempenhando | turing|\n",
       "|97 | 277 | desempenhando | papel|\n",
       "|97 | 409 | desempenhando | importante|\n",
       "|277 | 75 | papel | turing|\n",
       "|277 | 97 | papel | desempenhando|\n"
      ],
      "text/plain": [
       "<IPython.core.display.Markdown object>"
      ]
     },
     "execution_count": 12,
     "metadata": {},
     "output_type": "execute_result"
    }
   ],
   "source": [
    "ex_out = \"|central | contexto | central | contexto |\\n|--|--|--|--|\\n\"\n",
    "for i in range(95, 106):\n",
    "    w0, w1 = pair_ids[i]\n",
    "    ex_out += f\"|{w0} | {w1} | {id2word[w0]} | {id2word[w1]}|\\n\"\n",
    "\n",
    "Markdown(ex_out)"
   ]
  },
  {
   "cell_type": "code",
   "execution_count": 12,
   "metadata": {},
   "outputs": [],
   "source": [
    "class SkipGram(torch.nn.Module):\n",
    "    def __init__(self, vocab_size, emb_size):\n",
    "        super(CBOW, self).__init__()\n",
    "        \n",
    "        self.embeddings = torch.nn.Embedding(vocab_size, emb_size)\n",
    "        \n",
    "        self.linear0 =  torch.nn.Linear(emb_size, 512)\n",
    "        self.linear1 = torch.nn.Linear(512, vocab_size)\n",
    "\n",
    "        self.log_softmax = torch.nn.LogSoftmax(dim=1)\n",
    "        \n",
    "    def forward(self, x):\n",
    "        out = self.embeddings(x)\n",
    "\n",
    "        out = self.linear0(out)\n",
    "        out = self.linear1(out)\n",
    "        \n",
    "        out = self.log_softmax(out)\n",
    "        return out\n",
    "    \n",
    "    def get_word_emb(self, word_id):\n",
    "        word = torch.LongTensor([word_id])\n",
    "        return self.embeddings(word).view(1, -1)"
   ]
  },
  {
   "cell_type": "code",
   "execution_count": 13,
   "metadata": {},
   "outputs": [],
   "source": [
    "skipgram = SkipGram(len(uniques), 10)"
   ]
  },
  {
   "cell_type": "code",
   "execution_count": 14,
   "metadata": {},
   "outputs": [
    {
     "data": {
      "text/plain": [
       "('aonde', 'maioria')"
      ]
     },
     "execution_count": 14,
     "metadata": {},
     "output_type": "execute_result"
    }
   ],
   "source": [
    "teste_data = torch.LongTensor([pair_ids[3000, 0]])\n",
    "res = skipgram(teste_data).argmax().item()\n",
    "id2word[res], id2word[pair_ids[3000, 1]]"
   ]
  },
  {
   "cell_type": "code",
   "execution_count": 15,
   "metadata": {},
   "outputs": [],
   "source": [
    "from torch.utils.data import Dataset, DataLoader"
   ]
  },
  {
   "cell_type": "code",
   "execution_count": 16,
   "metadata": {},
   "outputs": [],
   "source": [
    "class Dataset(Dataset):\n",
    "    def __init__(self, obj):\n",
    "        self.len = len(obj)\n",
    "        self.x = torch.LongTensor(obj[:, 0])\n",
    "        self.y = torch.LongTensor(obj[:, 1])\n",
    "    def __getitem__(self, index):\n",
    "        return (self.x[index], self.y[index])\n",
    "    def __len__(self):\n",
    "        return self.len"
   ]
  },
  {
   "cell_type": "code",
   "execution_count": 17,
   "metadata": {},
   "outputs": [],
   "source": [
    "dataset = Dataset(pair_ids)\n",
    "data = DataLoader(dataset=dataset, batch_size=1000, shuffle=True)"
   ]
  },
  {
   "cell_type": "code",
   "execution_count": 19,
   "metadata": {},
   "outputs": [
    {
     "name": "stdout",
     "output_type": "stream",
     "text": [
      "0  - 8.112\n",
      "1  - 8.132\n",
      "2  - 8.156\n",
      "3  - 8.143\n",
      "4  - 8.130\n",
      "5  - 8.085\n",
      "6  - 8.098\n",
      "7  - 8.119\n",
      "8  - 8.088\n",
      "9  - 8.066\n",
      "10 - 8.052\n",
      "11 - 8.085\n",
      "12 - 8.118\n",
      "13 - 8.116\n",
      "14 - 8.095\n",
      "15 - 8.101\n",
      "16 - 8.071\n",
      "17 - 8.077\n",
      "18 - 8.005\n",
      "19 - 8.056\n"
     ]
    }
   ],
   "source": [
    "nll_loss = torch.nn.NLLLoss()\n",
    "optimizer = torch.optim.SGD(cbow.parameters(), lr=0.001)\n",
    "losses = []\n",
    "for epoch in range(200):\n",
    "    for X, Y in data:\n",
    "        optimizer.zero_grad()\n",
    "        \n",
    "        out_prob = skipgram(X)\n",
    "        loss = nll_loss(out_prob, Y)\n",
    "        loss.backward()\n",
    "        optimizer.step()\n",
    "        losses.append(loss.item())\n",
    "    \n",
    "    if epoch % 20 == 0:\n",
    "        print(f\"{epoch:<2} - {loss.item():.3f}\")"
   ]
  },
  {
   "cell_type": "code",
   "execution_count": 50,
   "metadata": {},
   "outputs": [
    {
     "data": {
      "image/png": "[encoded data removed]",
      "text/plain": [
       "<Figure size 720x576 with 1 Axes>"
      ]
     },
     "metadata": {},
     "output_type": "display_data"
    }
   ],
   "source": [
    "fig = figure()\n",
    "ax = fig.gca()\n",
    "ax.plot(losses, c=\"darkcyan\")\n",
    "savefig(\"../images/word2vec-cbow-loss.png\", dpi=\"figure\", transparent=True)"
   ]
  },
  {
   "cell_type": "code",
   "execution_count": 15,
   "metadata": {},
   "outputs": [
    {
     "ename": "NameError",
     "evalue": "name 'cbow' is not defined",
     "output_type": "error",
     "traceback": [
      "\u001b[0;31m---------------------------------------------------------------------------\u001b[0m",
      "\u001b[0;31mNameError\u001b[0m                                 Traceback (most recent call last)",
      "\u001b[0;32m<ipython-input-15-722813873ddc>\u001b[0m in \u001b[0;36m<module>\u001b[0;34m\u001b[0m\n\u001b[1;32m      2\u001b[0m \u001b[0mteste_data\u001b[0m \u001b[0;34m=\u001b[0m \u001b[0mtorch\u001b[0m\u001b[0;34m.\u001b[0m\u001b[0mLongTensor\u001b[0m\u001b[0;34m(\u001b[0m\u001b[0mpair_ids\u001b[0m\u001b[0;34m[\u001b[0m\u001b[0m_pos\u001b[0m\u001b[0;34m]\u001b[0m\u001b[0;34m[\u001b[0m\u001b[0;36m0\u001b[0m\u001b[0;34m]\u001b[0m\u001b[0;34m)\u001b[0m\u001b[0;34m\u001b[0m\u001b[0;34m\u001b[0m\u001b[0m\n\u001b[1;32m      3\u001b[0m \u001b[0mtarget_data\u001b[0m \u001b[0;34m=\u001b[0m \u001b[0mtorch\u001b[0m\u001b[0;34m.\u001b[0m\u001b[0mLongTensor\u001b[0m\u001b[0;34m(\u001b[0m\u001b[0mpair_ids\u001b[0m\u001b[0;34m[\u001b[0m\u001b[0m_pos\u001b[0m\u001b[0;34m]\u001b[0m\u001b[0;34m[\u001b[0m\u001b[0;36m1\u001b[0m\u001b[0;34m]\u001b[0m\u001b[0;34m)\u001b[0m\u001b[0;34m\u001b[0m\u001b[0;34m\u001b[0m\u001b[0m\n\u001b[0;32m----> 4\u001b[0;31m \u001b[0mres\u001b[0m \u001b[0;34m=\u001b[0m \u001b[0mcbow\u001b[0m\u001b[0;34m(\u001b[0m\u001b[0mtorch\u001b[0m\u001b[0;34m.\u001b[0m\u001b[0mLongTensor\u001b[0m\u001b[0;34m(\u001b[0m\u001b[0;34m[\u001b[0m\u001b[0;36m23\u001b[0m\u001b[0;34m]\u001b[0m\u001b[0;34m)\u001b[0m\u001b[0;34m)\u001b[0m\u001b[0;34m.\u001b[0m\u001b[0margmax\u001b[0m\u001b[0;34m(\u001b[0m\u001b[0;34m)\u001b[0m\u001b[0;34m.\u001b[0m\u001b[0mitem\u001b[0m\u001b[0;34m(\u001b[0m\u001b[0;34m)\u001b[0m\u001b[0;34m\u001b[0m\u001b[0;34m\u001b[0m\u001b[0m\n\u001b[0m\u001b[1;32m      5\u001b[0m \u001b[0mprint\u001b[0m\u001b[0;34m(\u001b[0m\u001b[0;34mf\"data:{[id2word[_pos] ]} | target: {id2word[pair_ids[_pos][1]]}\"\u001b[0m\u001b[0;34m)\u001b[0m\u001b[0;34m\u001b[0m\u001b[0;34m\u001b[0m\u001b[0m\n\u001b[1;32m      6\u001b[0m \u001b[0mprint\u001b[0m\u001b[0;34m(\u001b[0m\u001b[0;34mf\"{id2word[res]}\"\u001b[0m\u001b[0;34m)\u001b[0m\u001b[0;34m\u001b[0m\u001b[0;34m\u001b[0m\u001b[0m\n",
      "\u001b[0;31mNameError\u001b[0m: name 'cbow' is not defined"
     ]
    }
   ],
   "source": [
    "_pos = 28\n",
    "teste_data = torch.LongTensor(pair_ids[_pos][0])\n",
    "target_data = torch.LongTensor(pair_ids[_pos][1])\n",
    "res = skipgram(torch.LongTensor([23])).argmax().item()\n",
    "print(f\"data:{[id2word[_pos] ]} | target: {id2word[pair_ids[_pos][1]]}\")\n",
    "print(f\"{id2word[res]}\")\n"
   ]
  },
  {
   "cell_type": "code",
   "execution_count": null,
   "metadata": {},
   "outputs": [],
   "source": [
    "skipgram.get_word_emb(_pos).detach().numpy()"
   ]
  },
  {
   "cell_type": "code",
   "execution_count": null,
   "metadata": {},
   "outputs": [],
   "source": [
    "from sklearn.decomposition import PCA\n",
    "import pandas as pd"
   ]
  },
  {
   "cell_type": "code",
   "execution_count": null,
   "metadata": {},
   "outputs": [],
   "source": [
    "dataf = pd.DataFrame({\n",
    "    \"words\":list(uniques),\n",
    "    \"id\": [word2id[i] for i in uniques],\n",
    "    \"emb\": [cbow.get_word_emb(word2id[i]).detach().numpy()[0] for i in uniques],\n",
    "    \"x\" : [0]*len(uniques),\n",
    "    \"y\": [0]*len(uniques)\n",
    "})"
   ]
  },
  {
   "cell_type": "code",
   "execution_count": null,
   "metadata": {},
   "outputs": [],
   "source": [
    "dataf.head()"
   ]
  },
  {
   "cell_type": "code",
   "execution_count": null,
   "metadata": {},
   "outputs": [],
   "source": [
    "pca = PCA(n_components=2)\n",
    "a = np.array([skipgram.get_word_emb(word2id[i]).detach().numpy()[0] for i in uniques],)\n",
    "XY = pca.fit_transform(a)"
   ]
  },
  {
   "cell_type": "code",
   "execution_count": null,
   "metadata": {},
   "outputs": [],
   "source": [
    "dataf[\"x\"] = XY[:, 0]\n",
    "dataf[\"y\"] = XY[:, 1]\n",
    "dataf.head()"
   ]
  },
  {
   "cell_type": "code",
   "execution_count": null,
   "metadata": {},
   "outputs": [],
   "source": [
    "import altair as alt"
   ]
  },
  {
   "cell_type": "code",
   "execution_count": null,
   "metadata": {},
   "outputs": [],
   "source": [
    "alt.themes.enable('opaque')\n",
    "base = alt.Chart(dataf).properties(\n",
    "        width=700,\n",
    "        height=700\n",
    "    )\n",
    "\n",
    "base.mark_circle(size=180).encode(x=\"x\", y=\"y\", tooltip=\"words\")"
   ]
  },
  {
   "cell_type": "code",
   "execution_count": 24,
   "metadata": {},
   "outputs": [],
   "source": [
    "from knn_eucl_cos import knn"
   ]
  },
  {
   "cell_type": "code",
   "execution_count": 40,
   "metadata": {},
   "outputs": [
    {
     "data": {
      "text/markdown": [
       "| rank sim cos| - | rank dist eucl | - |\n",
       "|--|--|--|--|\n",
       "|novas         | 0.28059 | novas         | 0.09326|\n",
       "|equivalia     | 0.31309 | polonesa      | 0.09989|\n",
       "|pioneiro      | 0.31798 | neve          | 0.10029|\n",
       "|afirma        | 0.32445 | andrew        | 0.10191|\n",
       "|neve          | 0.33447 | pioneiro      | 0.10310|\n",
       "|polonesa      | 0.33585 | afirma        | 0.10484|\n",
       "|massachusetts | 0.34675 | conduzida     | 0.10508|\n",
       "|conduzida     | 0.34768 | bombas        | 0.10641|\n",
       "|andrew        | 0.35143 | manipular     | 0.10718|\n",
       "|hastings      | 0.35665 | homossexuais  | 0.11074|\n"
      ],
      "text/plain": [
       "<IPython.core.display.Markdown object>"
      ]
     },
     "execution_count": 40,
     "metadata": {},
     "output_type": "execute_result"
    }
   ],
   "source": [
    "w = word2id[\"guerra\"]\n",
    "\n",
    "matrix = np.array([skipgram.get_word_emb(word2id[i]).detach().numpy()[0] for i in uniques])\n",
    "result_pos, result_values = knn(dataf.emb, pos=w, n=10)\n",
    "result_p_eucl, result_v_eucl = knn(dataf.emb, pos=w, n=10, func=\"eucl\")\n",
    "\n",
    "mark = \"| rank sim cos| - | rank dist eucl | - |\\n|--|--|--|--|\\n\"\n",
    "for i, j, k, l in zip(result_pos, result_values, result_p_eucl, result_v_eucl):\n",
    "    mark += f\"|{id2word[i]:<13} | {j:.5f} | {id2word[k]:<13} | {l:.5f}|\\n\"\n",
    "\n",
    "Markdown(mark)"
   ]
  },
  {
   "cell_type": "code",
   "execution_count": 101,
   "metadata": {},
   "outputs": [
    {
     "data": {
      "image/png": "[encoded data removed]",
      "text/plain": [
       "<Figure size 720x576 with 1 Axes>"
      ]
     },
     "metadata": {},
     "output_type": "display_data"
    }
   ],
   "source": [
    "fig = figure()\n",
    "ax = fig.gca()\n",
    "dataf.plot.scatter(\"x\", \"y\", ax=ax, alpha=0.1)\n",
    "dataf.query(f\"id == {w}\").plot.scatter(\"x\", \"y\", ax=ax, s=100, c=\"yellow\")\n",
    "dataf[dataf['id'].isin(result_pos)].plot.scatter(\"x\", \"y\", ax=ax, s=100, c=\"blue\")\n",
    "dataf[dataf['id'].isin(result_p_eucl)].plot.scatter(\"x\", \"y\", ax=ax, s=100, c=\"red\", alpha=0.5)\n",
    "\n",
    "for i in set(result_p_eucl.tolist() + result_pos.tolist() + [w]):\n",
    "    coord = dataf.query(f\"id=={i}\")\n",
    "    ax.annotate(coord.words.values[0],(coord.x,coord.y), size=12)\n",
    "\n",
    "ax.set_xlim(-2, 2)\n",
    "ax.set_ylim(-2, 2)\n",
    "savefig(\"../images/word2vec-cbow-rank.png\", dpi=\"figure\", transparent=True)"
   ]
  }
 ],
 "metadata": {
  "kernelspec": {
   "display_name": "Python 3",
   "language": "python",
   "name": "python3"
  },
  "language_info": {
   "codemirror_mode": {
    "name": "ipython",
    "version": 3
   },
   "file_extension": ".py",
   "mimetype": "text/x-python",
   "name": "python",
   "nbconvert_exporter": "python",
   "pygments_lexer": "ipython3",
   "version": "3.7.1"
  }
 },
 "nbformat": 4,
 "nbformat_minor": 2
}
