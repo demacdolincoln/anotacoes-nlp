{
 "cells": [
  {
   "cell_type": "code",
   "execution_count": 1,
   "metadata": {},
   "outputs": [
    {
     "name": "stdout",
     "output_type": "stream",
     "text": [
      "Populating the interactive namespace from numpy and matplotlib\n"
     ]
    }
   ],
   "source": [
    "%pylab inline\n",
    "import nltk\n",
    "import gensim\n",
    "import torch"
   ]
  },
  {
   "cell_type": "code",
   "execution_count": 2,
   "metadata": {},
   "outputs": [],
   "source": [
    "figsize(10, 8)"
   ]
  },
  {
   "cell_type": "code",
   "execution_count": 3,
   "metadata": {},
   "outputs": [],
   "source": [
    "import wikipedia"
   ]
  },
  {
   "cell_type": "code",
   "execution_count": 4,
   "metadata": {},
   "outputs": [],
   "source": [
    "wikipedia.set_lang(\"pt\")\n",
    "text = wikipedia.page(\"Alan_Turing\").content"
   ]
  },
  {
   "cell_type": "code",
   "execution_count": 5,
   "metadata": {},
   "outputs": [],
   "source": [
    "corpus_text = []\n",
    "\n",
    "stop_words = nltk.corpus.stopwords.words(\"portuguese\") + nltk.corpus.stopwords.words(\"english\")\n",
    "\n",
    "for i in text.splitlines():\n",
    "    clean_text = gensim.utils.simple_preprocess(i)\n",
    "    clean_text = [i for i in clean_text if i not in stop_words]\n",
    "    for ct in clean_text:\n",
    "        corpus_text.append(ct)"
   ]
  },
  {
   "cell_type": "code",
   "execution_count": 6,
   "metadata": {},
   "outputs": [
    {
     "data": {
      "text/plain": [
       "['alan', 'mathison', 'turing', 'obe', 'paddington']"
      ]
     },
     "execution_count": 6,
     "metadata": {},
     "output_type": "execute_result"
    }
   ],
   "source": [
    "corpus_text[:5]"
   ]
  },
  {
   "cell_type": "code",
   "execution_count": 7,
   "metadata": {},
   "outputs": [],
   "source": [
    "word2id, id2word = {}, {}\n",
    "\n",
    "uniques = set(corpus_text)\n",
    "\n",
    "count_id = 0\n",
    "for word in uniques:\n",
    "    word2id[word] = count_id\n",
    "    id2word[count_id] = word\n",
    "    count_id += 1"
   ]
  },
  {
   "cell_type": "code",
   "execution_count": 8,
   "metadata": {},
   "outputs": [
    {
     "data": {
      "text/plain": [
       "'automático'"
      ]
     },
     "execution_count": 8,
     "metadata": {},
     "output_type": "execute_result"
    }
   ],
   "source": [
    "id2word[23]"
   ]
  },
  {
   "cell_type": "code",
   "execution_count": 9,
   "metadata": {},
   "outputs": [
    {
     "data": {
      "text/plain": [
       "(623, 930)"
      ]
     },
     "execution_count": 9,
     "metadata": {},
     "output_type": "execute_result"
    }
   ],
   "source": [
    "len(uniques), len(corpus_text)"
   ]
  },
  {
   "cell_type": "code",
   "execution_count": 10,
   "metadata": {},
   "outputs": [],
   "source": [
    "import numpy as np"
   ]
  },
  {
   "cell_type": "code",
   "execution_count": 11,
   "metadata": {},
   "outputs": [],
   "source": [
    "window = 2\n",
    "pair_ids = []\n",
    "\n",
    "text_size = len(corpus_text)\n",
    "\n",
    "corpus_text = np.array(corpus_text)\n",
    "mask = np.array([i for i in range(-window, window+1) if i is not 0])\n",
    "\n",
    "for center_word in range(window, text_size-window):\n",
    "    center_word_id = word2id[corpus_text[center_word]]\n",
    "    context_words = [word2id[i] for i in corpus_text[mask + center_word]]\n",
    "    \n",
    "    pair_ids.append([context_words, center_word_id])"
   ]
  },
  {
   "cell_type": "code",
   "execution_count": 12,
   "metadata": {},
   "outputs": [],
   "source": [
    "from IPython.display import Markdown"
   ]
  },
  {
   "cell_type": "code",
   "execution_count": 13,
   "metadata": {},
   "outputs": [
    {
     "data": {
      "text/markdown": [
       "|contexto | central | contexto | central |\n",
       "|--|--|--|--|\n",
       "|[495, 152, 500, 77] | 389 | ['armazenado', 'ace', 'turing', 'interessou'] | posteriormente|\n",
       "|[152, 389, 77, 424] | 500 | ['ace', 'posteriormente', 'interessou', 'química'] | turing|\n",
       "|[389, 500, 424, 10] | 77 | ['posteriormente', 'turing', 'química', 'escreveu'] | interessou|\n",
       "|[500, 77, 10, 55] | 424 | ['turing', 'interessou', 'escreveu', 'artigo'] | química|\n",
       "|[77, 424, 55, 394] | 10 | ['interessou', 'química', 'artigo', 'sobre'] | escreveu|\n",
       "|[424, 10, 394, 348] | 55 | ['química', 'escreveu', 'sobre', 'base'] | artigo|\n",
       "|[10, 55, 348, 424] | 394 | ['escreveu', 'artigo', 'base', 'química'] | sobre|\n",
       "|[55, 394, 424, 548] | 348 | ['artigo', 'sobre', 'química', 'morfogênese'] | base|\n",
       "|[394, 348, 548, 294] | 424 | ['sobre', 'base', 'morfogênese', 'previu'] | química|\n",
       "|[348, 424, 294, 562] | 548 | ['base', 'química', 'previu', 'reações'] | morfogênese|\n",
       "|[424, 548, 562, 151] | 294 | ['química', 'morfogênese', 'reações', 'químicas'] | previu|\n"
      ],
      "text/plain": [
       "<IPython.core.display.Markdown object>"
      ]
     },
     "execution_count": 13,
     "metadata": {},
     "output_type": "execute_result"
    }
   ],
   "source": [
    "ex_out = \"|contexto | central | contexto | central |\\n|--|--|--|--|\\n\"\n",
    "for i in range(95, 106):\n",
    "    w0, w1 = pair_ids[i]\n",
    "    ex_out += f\"|{w0} | {w1} | {[id2word[w] for w in w0]} | {id2word[w1]}|\\n\"\n",
    "\n",
    "Markdown(ex_out)"
   ]
  },
  {
   "cell_type": "code",
   "execution_count": 31,
   "metadata": {},
   "outputs": [],
   "source": [
    "class CBOW(torch.nn.Module):\n",
    "    def __init__(self, vocab_size, emb_size, context_size):\n",
    "        super(CBOW, self).__init__()\n",
    "        \n",
    "        self.embeddings = torch.nn.Embedding(vocab_size, emb_size)\n",
    "        \n",
    "        self.linear0 =  torch.nn.Linear(2*emb_size*context_size, 512)\n",
    "        self.linear1 = torch.nn.Linear(512, vocab_size)\n",
    "\n",
    "        self.log_softmax = torch.nn.LogSoftmax(dim=1)\n",
    "        \n",
    "    def forward(self, x):\n",
    "        out = self.embeddings(x).view(1, -1)\n",
    "\n",
    "        out = self.linear0(out)\n",
    "        out = self.linear1(out)\n",
    "        \n",
    "        out = self.log_softmax(out)\n",
    "        return out\n",
    "    \n",
    "    def get_word_emb(self, word_id):\n",
    "        word = torch.LongTensor([word_id])\n",
    "        return self.embeddings(word).view(1, -1)"
   ]
  },
  {
   "cell_type": "code",
   "execution_count": 47,
   "metadata": {},
   "outputs": [],
   "source": [
    "cbow = CBOW(len(uniques), 10, 2)"
   ]
  },
  {
   "cell_type": "code",
   "execution_count": 48,
   "metadata": {},
   "outputs": [
    {
     "data": {
      "text/plain": [
       "'introduziu'"
      ]
     },
     "execution_count": 48,
     "metadata": {},
     "output_type": "execute_result"
    }
   ],
   "source": [
    "teste_data = torch.LongTensor(pair_ids[100][0])\n",
    "target_data = torch.LongTensor(pair_ids[100][1])\n",
    "res = cbow(teste_data).argmax().item()\n",
    "id2word[res]"
   ]
  },
  {
   "cell_type": "code",
   "execution_count": null,
   "metadata": {},
   "outputs": [
    {
     "name": "stdout",
     "output_type": "stream",
     "text": [
      "0  - 6.626\n",
      "10 - 3.307\n"
     ]
    }
   ],
   "source": [
    "nll_loss = torch.nn.NLLLoss()\n",
    "optimizer = torch.optim.SGD(cbow.parameters(), lr=0.001)\n",
    "\n",
    "indexes = np.arange(len(pair_ids))\n",
    "losses = []\n",
    "for epoch in range(51):\n",
    "    np.random.shuffle(indexes)\n",
    "    for index in indexes:\n",
    "        context, target = pair_ids[index]\n",
    "        optimizer.zero_grad()\n",
    "        cbow.zero_grad()\n",
    "        \n",
    "        X = torch.LongTensor(context)\n",
    "        Y = torch.LongTensor([target])\n",
    "        out_prob = cbow(X)\n",
    "        loss = nll_loss(out_prob, Y)\n",
    "        loss.backward()\n",
    "        optimizer.step()\n",
    "        \n",
    "        losses.append(loss.item())\n",
    "    if epoch %10 == 0:\n",
    "        print(f\"{epoch:<2} - {loss.item():.3f}\")"
   ]
  },
  {
   "cell_type": "code",
   "execution_count": 35,
   "metadata": {},
   "outputs": [
    {
     "data": {
      "text/plain": [
       "[<matplotlib.lines.Line2D at 0x7f13dc38d128>]"
      ]
     },
     "execution_count": 35,
     "metadata": {},
     "output_type": "execute_result"
    },
    {
     "data": {
      "image/png": "[encoded data removed]",
      "text/plain": [
       "<Figure size 720x576 with 1 Axes>"
      ]
     },
     "metadata": {
      "needs_background": "light"
     },
     "output_type": "display_data"
    }
   ],
   "source": [
    "plot(losses)"
   ]
  },
  {
   "cell_type": "code",
   "execution_count": 36,
   "metadata": {},
   "outputs": [
    {
     "name": "stdout",
     "output_type": "stream",
     "text": [
      "data:['papel', 'importante', 'computador', 'moderno'] | target: criação\n",
      "criação\n"
     ]
    }
   ],
   "source": [
    "_pos = 28\n",
    "teste_data = torch.LongTensor(pair_ids[_pos][0])\n",
    "target_data = torch.LongTensor(pair_ids[_pos][1])\n",
    "res = cbow(teste_data).argmax().item()\n",
    "print(f\"data:{[id2word[i] for i in pair_ids[_pos][0]]} | target: {id2word[pair_ids[_pos][1]]}\")\n",
    "print(f\"{id2word[res]}\")\n"
   ]
  },
  {
   "cell_type": "code",
   "execution_count": 37,
   "metadata": {},
   "outputs": [
    {
     "data": {
      "text/plain": [
       "array([[ 1.4503645 , -0.00673518,  1.8622327 , -0.88099694,  0.0185612 ,\n",
       "        -0.22558688, -0.4932858 ,  0.44633344, -0.3284861 ,  0.27222428]],\n",
       "      dtype=float32)"
      ]
     },
     "execution_count": 37,
     "metadata": {},
     "output_type": "execute_result"
    }
   ],
   "source": [
    "cbow.get_word_emb(_pos).detach().numpy()"
   ]
  },
  {
   "cell_type": "code",
   "execution_count": 38,
   "metadata": {},
   "outputs": [],
   "source": [
    "from sklearn.decomposition import PCA\n",
    "import matplotlib.pyplot as plt\n",
    "import pandas as pd\n",
    "%matplotlib inline"
   ]
  },
  {
   "cell_type": "code",
   "execution_count": 39,
   "metadata": {},
   "outputs": [],
   "source": [
    "dataf = pd.DataFrame({\n",
    "    \"words\":list(uniques),\n",
    "    \"id\": [word2id[i] for i in uniques],\n",
    "    \"emb\": [cbow.get_word_emb(word2id[i]).detach().numpy()[0] for i in uniques],\n",
    "    \"x\" : [0]*len(uniques),\n",
    "    \"y\": [0]*len(uniques)\n",
    "})"
   ]
  },
  {
   "cell_type": "code",
   "execution_count": 40,
   "metadata": {},
   "outputs": [
    {
     "data": {
      "text/html": [
       "<div>\n",
       "<style scoped>\n",
       "    .dataframe tbody tr th:only-of-type {\n",
       "        vertical-align: middle;\n",
       "    }\n",
       "\n",
       "    .dataframe tbody tr th {\n",
       "        vertical-align: top;\n",
       "    }\n",
       "\n",
       "    .dataframe thead th {\n",
       "        text-align: right;\n",
       "    }\n",
       "</style>\n",
       "<table border=\"1\" class=\"dataframe\">\n",
       "  <thead>\n",
       "    <tr style=\"text-align: right;\">\n",
       "      <th></th>\n",
       "      <th>words</th>\n",
       "      <th>id</th>\n",
       "      <th>emb</th>\n",
       "      <th>x</th>\n",
       "      <th>y</th>\n",
       "    </tr>\n",
       "  </thead>\n",
       "  <tbody>\n",
       "    <tr>\n",
       "      <th>0</th>\n",
       "      <td>criados</td>\n",
       "      <td>0</td>\n",
       "      <td>[-0.7369466, -0.8059866, 1.0027227, 0.64112455...</td>\n",
       "      <td>0</td>\n",
       "      <td>0</td>\n",
       "    </tr>\n",
       "    <tr>\n",
       "      <th>1</th>\n",
       "      <td>anos</td>\n",
       "      <td>1</td>\n",
       "      <td>[0.2901197, 2.4729302, -0.21075082, -0.9001942...</td>\n",
       "      <td>0</td>\n",
       "      <td>0</td>\n",
       "    </tr>\n",
       "    <tr>\n",
       "      <th>2</th>\n",
       "      <td>tratado</td>\n",
       "      <td>2</td>\n",
       "      <td>[0.113352485, -0.06995451, 0.8632336, 0.297103...</td>\n",
       "      <td>0</td>\n",
       "      <td>0</td>\n",
       "    </tr>\n",
       "    <tr>\n",
       "      <th>3</th>\n",
       "      <td>morto</td>\n",
       "      <td>3</td>\n",
       "      <td>[0.3952126, 0.76867807, -0.8826657, -1.0946348...</td>\n",
       "      <td>0</td>\n",
       "      <td>0</td>\n",
       "    </tr>\n",
       "    <tr>\n",
       "      <th>4</th>\n",
       "      <td>desculpa</td>\n",
       "      <td>4</td>\n",
       "      <td>[0.66456705, -0.15295699, -1.3683532, -0.33759...</td>\n",
       "      <td>0</td>\n",
       "      <td>0</td>\n",
       "    </tr>\n",
       "  </tbody>\n",
       "</table>\n",
       "</div>"
      ],
      "text/plain": [
       "      words  id                                                emb  x  y\n",
       "0   criados   0  [-0.7369466, -0.8059866, 1.0027227, 0.64112455...  0  0\n",
       "1      anos   1  [0.2901197, 2.4729302, -0.21075082, -0.9001942...  0  0\n",
       "2   tratado   2  [0.113352485, -0.06995451, 0.8632336, 0.297103...  0  0\n",
       "3     morto   3  [0.3952126, 0.76867807, -0.8826657, -1.0946348...  0  0\n",
       "4  desculpa   4  [0.66456705, -0.15295699, -1.3683532, -0.33759...  0  0"
      ]
     },
     "execution_count": 40,
     "metadata": {},
     "output_type": "execute_result"
    }
   ],
   "source": [
    "dataf.head()"
   ]
  },
  {
   "cell_type": "code",
   "execution_count": 41,
   "metadata": {},
   "outputs": [],
   "source": [
    "pca = PCA(n_components=2)\n",
    "a = np.array([cbow.get_word_emb(word2id[i]).detach().numpy()[0] for i in uniques],)\n",
    "XY = pca.fit_transform(a)"
   ]
  },
  {
   "cell_type": "code",
   "execution_count": 42,
   "metadata": {},
   "outputs": [
    {
     "data": {
      "text/html": [
       "<div>\n",
       "<style scoped>\n",
       "    .dataframe tbody tr th:only-of-type {\n",
       "        vertical-align: middle;\n",
       "    }\n",
       "\n",
       "    .dataframe tbody tr th {\n",
       "        vertical-align: top;\n",
       "    }\n",
       "\n",
       "    .dataframe thead th {\n",
       "        text-align: right;\n",
       "    }\n",
       "</style>\n",
       "<table border=\"1\" class=\"dataframe\">\n",
       "  <thead>\n",
       "    <tr style=\"text-align: right;\">\n",
       "      <th></th>\n",
       "      <th>words</th>\n",
       "      <th>id</th>\n",
       "      <th>emb</th>\n",
       "      <th>x</th>\n",
       "      <th>y</th>\n",
       "    </tr>\n",
       "  </thead>\n",
       "  <tbody>\n",
       "    <tr>\n",
       "      <th>0</th>\n",
       "      <td>criados</td>\n",
       "      <td>0</td>\n",
       "      <td>[-0.7369466, -0.8059866, 1.0027227, 0.64112455...</td>\n",
       "      <td>-0.183116</td>\n",
       "      <td>1.180047</td>\n",
       "    </tr>\n",
       "    <tr>\n",
       "      <th>1</th>\n",
       "      <td>anos</td>\n",
       "      <td>1</td>\n",
       "      <td>[0.2901197, 2.4729302, -0.21075082, -0.9001942...</td>\n",
       "      <td>-0.496510</td>\n",
       "      <td>-0.243766</td>\n",
       "    </tr>\n",
       "    <tr>\n",
       "      <th>2</th>\n",
       "      <td>tratado</td>\n",
       "      <td>2</td>\n",
       "      <td>[0.113352485, -0.06995451, 0.8632336, 0.297103...</td>\n",
       "      <td>1.819824</td>\n",
       "      <td>0.216353</td>\n",
       "    </tr>\n",
       "    <tr>\n",
       "      <th>3</th>\n",
       "      <td>morto</td>\n",
       "      <td>3</td>\n",
       "      <td>[0.3952126, 0.76867807, -0.8826657, -1.0946348...</td>\n",
       "      <td>-1.145312</td>\n",
       "      <td>-1.028603</td>\n",
       "    </tr>\n",
       "    <tr>\n",
       "      <th>4</th>\n",
       "      <td>desculpa</td>\n",
       "      <td>4</td>\n",
       "      <td>[0.66456705, -0.15295699, -1.3683532, -0.33759...</td>\n",
       "      <td>-0.163904</td>\n",
       "      <td>-1.456896</td>\n",
       "    </tr>\n",
       "  </tbody>\n",
       "</table>\n",
       "</div>"
      ],
      "text/plain": [
       "      words  id                                                emb         x  \\\n",
       "0   criados   0  [-0.7369466, -0.8059866, 1.0027227, 0.64112455... -0.183116   \n",
       "1      anos   1  [0.2901197, 2.4729302, -0.21075082, -0.9001942... -0.496510   \n",
       "2   tratado   2  [0.113352485, -0.06995451, 0.8632336, 0.297103...  1.819824   \n",
       "3     morto   3  [0.3952126, 0.76867807, -0.8826657, -1.0946348... -1.145312   \n",
       "4  desculpa   4  [0.66456705, -0.15295699, -1.3683532, -0.33759... -0.163904   \n",
       "\n",
       "          y  \n",
       "0  1.180047  \n",
       "1 -0.243766  \n",
       "2  0.216353  \n",
       "3 -1.028603  \n",
       "4 -1.456896  "
      ]
     },
     "execution_count": 42,
     "metadata": {},
     "output_type": "execute_result"
    }
   ],
   "source": [
    "dataf[\"x\"] = XY[:, 0]\n",
    "dataf[\"y\"] = XY[:, 1]\n",
    "dataf.head()"
   ]
  },
  {
   "cell_type": "code",
   "execution_count": 43,
   "metadata": {},
   "outputs": [],
   "source": [
    "import altair as alt"
   ]
  },
  {
   "cell_type": "code",
   "execution_count": 44,
   "metadata": {},
   "outputs": [
    {
     "data": {
      "application/vnd.vegalite.v2+json": {
       "$schema": "https://vega.github.io/schema/vega-lite/v2.6.0.json",
       "config": {
        "background": "white",
        "view": {
         "height": 300,
         "width": 400
        }
       },
       "data": {
        "name": "data-833712fd397e4436b605b83e7163770f"
       },
       "datasets": {
        "data-833712fd397e4436b605b83e7163770f": [
         {
          "emb": [
           -0.7369465827941895,
           -0.8059865832328796,
           1.0027227401733398,
           0.6411245465278625,
           0.6697608828544617,
           -0.353977233171463,
           0.4906826615333557,
           -0.6579520106315613,
           0.6523444652557373,
           0.9915990829467773
          ],
          "id": 0,
          "words": "criados",
          "x": -0.18311648070812225,
          "y": 1.1800473928451538
         },
         {
          "emb": [
           0.2901197075843811,
           2.4729301929473877,
           -0.21075081825256348,
           -0.9001942276954651,
           -2.0492799282073975,
           0.5681981444358826,
           0.8133951425552368,
           0.6418200731277466,
           -0.3461358845233917,
           0.41155287623405457
          ],
          "id": 1,
          "words": "anos",
          "x": -0.49650976061820984,
          "y": -0.24376563727855682
         },
         {
          "emb": [
           0.11335248500108719,
           -0.06995450705289841,
           0.8632336258888245,
           0.2971031069755554,
           -1.6523462533950806,
           1.549142837524414,
           0.5689894556999207,
           -0.0478818379342556,
           -0.05521485581994057,
           -1.0108368396759033
          ],
          "id": 2,
          "words": "tratado",
          "x": 1.8198238611221313,
          "y": 0.21635325253009796
         },
         {
          "emb": [
           0.3952125906944275,
           0.7686780691146851,
           -0.8826656937599182,
           -1.094634771347046,
           -1.7761421203613281,
           0.008985236287117004,
           -0.9795740842819214,
           0.4539681077003479,
           -0.6272013783454895,
           0.6104375720024109
          ],
          "id": 3,
          "words": "morto",
          "x": -1.1453124284744263,
          "y": -1.0286033153533936
         },
         {
          "emb": [
           0.6645670533180237,
           -0.1529569923877716,
           -1.368353247642517,
           -0.33759328722953796,
           1.0416091680526733,
           -0.2703196406364441,
           -1.7732720375061035,
           0.4561545252799988,
           -0.03961910679936409,
           -1.1536974906921387
          ],
          "id": 4,
          "words": "desculpa",
          "x": -0.1639041006565094,
          "y": -1.4568959474563599
         },
         {
          "emb": [
           0.23685218393802643,
           0.08290833234786987,
           -1.603963851928711,
           1.0796325206756592,
           -0.09141454845666885,
           0.7942580580711365,
           1.119842767715454,
           0.2703607976436615,
           0.2692035138607025,
           0.0049614678137004375
          ],
          "id": 5,
          "words": "teoria",
          "x": 0.3094152510166168,
          "y": -0.486253023147583
         },
         {
          "emb": [
           0.8439295291900635,
           1.992638349533081,
           0.9227811098098755,
           0.13298743963241577,
           -1.1980289220809937,
           1.473263144493103,
           2.6141908168792725,
           1.955917239189148,
           0.3557574152946472,
           -0.5015978217124939
          ],
          "id": 6,
          "words": "através",
          "x": 1.1976358890533447,
          "y": 1.3046499490737915
         },
         {
          "emb": [
           0.7146126627922058,
           1.225753903388977,
           -1.4451727867126465,
           0.8747426271438599,
           1.6960660219192505,
           0.48444151878356934,
           -0.8685050010681152,
           -0.5297493934631348,
           -0.278228223323822,
           -0.4742683470249176
          ],
          "id": 7,
          "words": "acidental",
          "x": 0.23283728957176208,
          "y": -0.5477545857429504
         },
         {
          "emb": [
           -0.4914186894893646,
           0.4341406524181366,
           0.7347135543823242,
           1.388319492340088,
           -0.014252268709242344,
           -0.28930050134658813,
           -0.40465790033340454,
           2.096956491470337,
           -0.04064324498176575,
           1.6160125732421875
          ],
          "id": 8,
          "words": "frota",
          "x": -1.4127432107925415,
          "y": 1.6516094207763672
         },
         {
          "emb": [
           0.22173412144184113,
           1.7535760402679443,
           0.25299394130706787,
           0.13594093918800354,
           -0.48934486508369446,
           0.04798320680856705,
           0.47865745425224304,
           1.4807108640670776,
           1.035140872001648,
           0.9068760871887207
          ],
          "id": 9,
          "words": "incluindo",
          "x": -1.0845539569854736,
          "y": 0.963550865650177
         },
         {
          "emb": [
           0.2721341848373413,
           -0.30741700530052185,
           0.0015959973679855466,
           0.5701227784156799,
           -0.182317316532135,
           -1.7621606588363647,
           0.07800648361444473,
           -0.21023735404014587,
           0.5718188285827637,
           -1.4590692520141602
          ],
          "id": 10,
          "words": "escreveu",
          "x": -0.3292185962200165,
          "y": -0.460527628660202
         },
         {
          "emb": [
           0.9829093217849731,
           0.4231566786766052,
           -1.3356671333312988,
           -0.07123294472694397,
           -0.37772172689437866,
           -1.1054364442825317,
           -0.453042596578598,
           0.786939799785614,
           0.4768036901950836,
           -1.804409384727478
          ],
          "id": 11,
          "words": "formais",
          "x": -0.4667028784751892,
          "y": -1.4933459758758545
         },
         {
          "emb": [
           0.40934017300605774,
           0.6899176836013794,
           -0.3839048743247986,
           -0.8239627480506897,
           0.4245590269565582,
           1.0095213651657104,
           -0.7502121329307556,
           0.6630757451057434,
           0.5627370476722717,
           0.9863599538803101
          ],
          "id": 12,
          "words": "nacional",
          "x": -0.42267194390296936,
          "y": 0.12255802750587463
         },
         {
          "emb": [
           -0.2009749412536621,
           -0.3112224340438843,
           -0.8187813758850098,
           0.36035287380218506,
           0.9479911923408508,
           0.8699209690093994,
           1.4797722101211548,
           0.5820280313491821,
           2.1093685626983643,
           -0.08825203776359558
          ],
          "id": 13,
          "words": "dados",
          "x": 0.5325556993484497,
          "y": -0.0017045493004843593
         },
         {
          "emb": [
           1.7393094301223755,
           0.14589838683605194,
           -0.6654746532440186,
           -0.01779780723154545,
           0.48038753867149353,
           0.25022372603416443,
           -0.5859915614128113,
           1.5489052534103394,
           3.1730172634124756,
           0.6979432702064514
          ],
          "id": 14,
          "words": "determinar",
          "x": -1.2074583768844604,
          "y": 0.8002632856369019
         },
         {
          "emb": [
           1.677422285079956,
           2.0214555263519287,
           -0.5318582653999329,
           0.549595296382904,
           -0.06831406056880951,
           1.2653653621673584,
           0.7151569724082947,
           0.44927194714546204,
           -0.28608229756355286,
           1.150054693222046
          ],
          "id": 15,
          "words": "muitos",
          "x": -0.14414538443088531,
          "y": 1.1172126531600952
         },
         {
          "emb": [
           -2.099127769470215,
           1.1120561361312866,
           0.11638747900724411,
           0.2692102789878845,
           0.14712296426296234,
           -0.33879342675209045,
           -1.5815197229385376,
           2.8036537170410156,
           0.04940415546298027,
           0.41839373111724854
          ],
          "id": 16,
          "words": "novas",
          "x": -1.44155752658844,
          "y": -0.26525136828422546
         },
         {
          "emb": [
           -0.3239808976650238,
           0.00296491920016706,
           -1.0769531726837158,
           1.0015870332717896,
           -1.2757997512817383,
           0.5006824135780334,
           -1.97292160987854,
           -1.1170328855514526,
           1.0568482875823975,
           0.41818398237228394
          ],
          "id": 17,
          "words": "desenvolveu",
          "x": -0.6407625675201416,
          "y": -0.7863234281539917
         },
         {
          "emb": [
           0.23338161408901215,
           0.419478178024292,
           0.00023618212435394526,
           -0.6533346772193909,
           0.9545667171478271,
           1.3009756803512573,
           0.3190038502216339,
           0.35109400749206543,
           -0.5973334312438965,
           0.26343047618865967
          ],
          "id": 18,
          "words": "decodificação",
          "x": 0.8497095108032227,
          "y": 0.18048852682113647
         },
         {
          "emb": [
           -1.4962800741195679,
           -1.307718276977539,
           -1.0427340269088745,
           0.30149781703948975,
           -1.1194392442703247,
           -0.08127648383378983,
           0.9247292876243591,
           -1.9301916360855103,
           0.38493749499320984,
           -1.7110759019851685
          ],
          "id": 19,
          "words": "chefe",
          "x": 1.256606936454773,
          "y": -2.166912794113159
         },
         {
          "emb": [
           3.6985011100769043,
           0.6098102331161499,
           0.7727735042572021,
           0.15928153693675995,
           -0.05439718812704086,
           -1.2998026609420776,
           0.2599918842315674,
           -2.2717349529266357,
           -0.09247312694787979,
           0.6457210183143616
          ],
          "id": 20,
          "words": "biografia",
          "x": -0.6807266473770142,
          "y": 1.8680140972137451
         },
         {
          "emb": [
           0.2955167889595032,
           0.583576500415802,
           -0.8332611322402954,
           0.9176722764968872,
           1.4035639762878418,
           0.043156951665878296,
           1.0024116039276123,
           -0.1289265751838684,
           0.7026330828666687,
           1.0024124383926392
          ],
          "id": 21,
          "words": "possível",
          "x": -0.5088983774185181,
          "y": 0.6374779939651489
         },
         {
          "emb": [
           1.0961695909500122,
           1.9019452333450317,
           0.4251521825790405,
           1.729515552520752,
           0.5367878079414368,
           0.6988248229026794,
           1.925429344177246,
           0.4315888583660126,
           1.085566520690918,
           -0.9341722130775452
          ],
          "id": 22,
          "words": "alemã",
          "x": 1.1083701848983765,
          "y": 1.4732967615127563
         },
         {
          "emb": [
           0.7560393810272217,
           -0.16667886078357697,
           -0.564115047454834,
           2.0853030681610107,
           -0.19418472051620483,
           1.281476378440857,
           0.8210480213165283,
           -0.5124110579490662,
           -0.5684965252876282,
           -2.53178071975708
          ],
          "id": 23,
          "words": "automático",
          "x": 2.6288323402404785,
          "y": -0.4474470913410187
         },
         {
          "emb": [
           0.357389897108078,
           -0.2836052477359772,
           -0.3875798285007477,
           -0.23632308840751648,
           0.17526574432849884,
           0.31842780113220215,
           1.373072624206543,
           1.4794340133666992,
           -1.0337380170822144,
           -0.46635982394218445
          ],
          "id": 24,
          "words": "irlandeses",
          "x": 0.6250911951065063,
          "y": -0.23203717172145844
         },
         {
          "emb": [
           -1.3190498352050781,
           -0.4248937666416168,
           -2.584040641784668,
           1.9697400331497192,
           0.8467570543289185,
           -0.2499101310968399,
           1.928476333618164,
           0.7825894951820374,
           0.4483417570590973,
           1.5130661725997925
          ],
          "id": 25,
          "words": "processo",
          "x": -1.2303682565689087,
          "y": -0.549468994140625
         },
         {
          "emb": [
           0.38955655694007874,
           -0.10101962089538574,
           -0.10063464939594269,
           -1.0701640844345093,
           1.281754732131958,
           1.2752279043197632,
           0.15029413998126984,
           -1.0627732276916504,
           0.9658139944076538,
           0.4191718101501465
          ],
          "id": 26,
          "words": "prêmio",
          "x": 0.8253645896911621,
          "y": 0.0820307657122612
         },
         {
          "emb": [
           0.6645885109901428,
           2.1581265926361084,
           1.0165328979492188,
           -1.673614263534546,
           -1.0687062740325928,
           0.531460702419281,
           -0.9062573909759521,
           -1.8972736597061157,
           0.9904137253761292,
           -0.36981266736984253
          ],
          "id": 27,
          "words": "press",
          "x": 0.28282982110977173,
          "y": -0.045231893658638
         },
         {
          "emb": [
           1.4503644704818726,
           -0.006735184695571661,
           1.8622326850891113,
           -0.8809969425201416,
           0.01856119930744171,
           -0.2255868762731552,
           -0.49328580498695374,
           0.4463334381580353,
           -0.3284861147403717,
           0.2722242772579193
          ],
          "id": 28,
          "words": "civil",
          "x": -0.003109093988314271,
          "y": 1.528168797492981
         },
         {
          "emb": [
           -1.402786135673523,
           0.02254319377243519,
           0.2697753310203552,
           -0.4518355131149292,
           0.7619782090187073,
           -0.14588405191898346,
           0.6217196583747864,
           0.1409737467765808,
           -1.7914170026779175,
           1.4666903018951416
          ],
          "id": 29,
          "words": "orissa",
          "x": -0.44056767225265503,
          "y": 0.1777338832616806
         },
         {
          "emb": [
           0.8413544297218323,
           0.6536821126937866,
           -2.458406925201416,
           0.016225453466176987,
           -1.1659432649612427,
           -0.16350077092647552,
           0.5929279327392578,
           -1.4399794340133667,
           -1.4383726119995117,
           -0.041109777987003326
          ],
          "id": 30,
          "words": "phoenix",
          "x": -0.3600798547267914,
          "y": -1.8544886112213135
         },
         {
          "emb": [
           -0.3274087905883789,
           -0.3339582681655884,
           -1.6554946899414062,
           0.5226961374282837,
           -1.3661353588104248,
           2.0967485904693604,
           0.3475792706012726,
           -2.462484359741211,
           -0.43669208884239197,
           0.4636366665363312
          ],
          "id": 31,
          "words": "alternativa",
          "x": 1.2438464164733887,
          "y": -1.2546367645263672
         },
         {
          "emb": [
           0.29757586121559143,
           1.3579005002975464,
           1.7724888324737549,
           1.408197045326233,
           -0.9028292894363403,
           -0.7726716995239258,
           1.0027052164077759,
           1.4583070278167725,
           1.6003243923187256,
           0.5030349493026733
          ],
          "id": 32,
          "words": "pediu",
          "x": -0.9303061962127686,
          "y": 2.3525867462158203
         },
         {
          "emb": [
           -0.28276580572128296,
           1.1707407236099243,
           0.8511709570884705,
           -1.226528286933899,
           0.46981748938560486,
           -0.18647518754005432,
           -0.7478421926498413,
           -1.9588290452957153,
           -0.4473711848258972,
           -0.24194402992725372
          ],
          "id": 33,
          "words": "eletromecânico",
          "x": 0.2983427345752716,
          "y": -0.2514740824699402
         },
         {
          "emb": [
           -0.3051580786705017,
           -0.6250306963920593,
           1.0489749908447266,
           -0.8315728902816772,
           -0.20923109352588654,
           -0.00365149462595582,
           0.5484629273414612,
           1.062303900718689,
           2.2343106269836426,
           -0.5443010926246643
          ],
          "id": 34,
          "words": "exército",
          "x": 0.23395556211471558,
          "y": 0.3781067132949829
         },
         {
          "emb": [
           0.054397452622652054,
           -1.0543580055236816,
           0.010308214463293552,
           -0.05469054356217384,
           -0.5400885343551636,
           0.5226699709892273,
           -0.861778974533081,
           0.4042605459690094,
           0.038153454661369324,
           0.5078990459442139
          ],
          "id": 35,
          "words": "comprovar",
          "x": -0.0720861554145813,
          "y": 0.014195797964930534
         },
         {
          "emb": [
           0.42131996154785156,
           0.4962216317653656,
           -0.1151929721236229,
           0.46601295471191406,
           -1.6511809825897217,
           -1.5460004806518555,
           -2.2110862731933594,
           0.26536664366722107,
           1.631591558456421,
           0.4976560175418854
          ],
          "id": 36,
          "words": "crematório",
          "x": -2.3706319332122803,
          "y": -0.013569281436502934
         },
         {
          "emb": [
           -2.36283016204834,
           1.4342715740203857,
           2.644388198852539,
           -0.6479613184928894,
           0.7189938426017761,
           0.6252531409263611,
           -1.604204535484314,
           -1.0800089836120605,
           -1.369706153869629,
           1.4765506982803345
          ],
          "id": 37,
          "words": "cumberbatch",
          "x": 0.1115284413099289,
          "y": 1.2620742321014404
         },
         {
          "emb": [
           0.8826901316642761,
           -1.0787516832351685,
           -0.6178039312362671,
           -0.29957863688468933,
           1.142503261566162,
           1.0966867208480835,
           -0.09092455357313156,
           0.08865097165107727,
           -0.6345347762107849,
           -0.17375145852565765
          ],
          "id": 38,
          "words": "castração",
          "x": 1.0674006938934326,
          "y": -0.24431094527244568
         },
         {
          "emb": [
           -1.648582100868225,
           1.1275790929794312,
           0.6172122955322266,
           -0.20237278938293457,
           1.8956189155578613,
           0.9252773523330688,
           -0.7229877710342407,
           0.8664250373840332,
           -1.2501487731933594,
           0.16548654437065125
          ],
          "id": 39,
          "words": "tecnologia",
          "x": 0.5945535898208618,
          "y": 0.12364698201417923
         },
         {
          "emb": [
           1.7017629146575928,
           0.17329736053943634,
           -0.8381732106208801,
           0.02278260886669159,
           -0.9798358678817749,
           -1.564377784729004,
           -1.9696576595306396,
           0.36348891258239746,
           0.6497163772583008,
           -0.038904573768377304
          ],
          "id": 40,
          "words": "tommy",
          "x": -1.9618538618087769,
          "y": -0.4547836482524872
         },
         {
          "emb": [
           1.244508981704712,
           -0.6735280156135559,
           -1.0754263401031494,
           -0.3017900288105011,
           -1.4058958292007446,
           1.1633433103561401,
           -0.12219280004501343,
           1.5984686613082886,
           -1.1820629835128784,
           0.7569091320037842
          ],
          "id": 41,
          "words": "preconceituoso",
          "x": -0.11366041749715805,
          "y": -0.3231891691684723
         },
         {
          "emb": [
           0.16151729226112366,
           0.04498135671019554,
           0.049748219549655914,
           -0.451747328042984,
           -0.41567328572273254,
           -0.3191216289997101,
           -0.9007619023323059,
           -0.07962124049663544,
           -0.7494609355926514,
           1.6580734252929688
          ],
          "id": 42,
          "words": "iniciar",
          "x": -1.2951111793518066,
          "y": 0.3293682038784027
         },
         {
          "emb": [
           -0.8118241429328918,
           1.4727674722671509,
           -0.7876019477844238,
           0.2306598573923111,
           -1.5035239458084106,
           0.20366567373275757,
           -1.622211217880249,
           0.6877481937408447,
           2.649049997329712,
           -0.9439002871513367
          ],
          "id": 43,
          "words": "disposição",
          "x": -0.774474561214447,
          "y": -1.2255067825317383
         },
         {
          "emb": [
           0.8803180456161499,
           0.08573757112026215,
           -0.14868098497390747,
           0.2383234202861786,
           -0.43324097990989685,
           -0.3123696446418762,
           0.10099048912525177,
           0.6878659725189209,
           0.5686001181602478,
           -0.09686499834060669
          ],
          "id": 44,
          "words": "países",
          "x": -0.42719337344169617,
          "y": 0.24794696271419525
         },
         {
          "emb": [
           0.1067236065864563,
           -1.4303585290908813,
           1.2133667469024658,
           -0.4344264268875122,
           -0.5113582611083984,
           0.22375017404556274,
           0.26201096177101135,
           0.45698636770248413,
           -0.25787216424942017,
           0.5205003023147583
          ],
          "id": 45,
          "words": "resultado",
          "x": 0.3386017382144928,
          "y": 0.8476043939590454
         },
         {
          "emb": [
           1.1914693117141724,
           0.6682459115982056,
           0.20385761559009552,
           -1.5550684928894043,
           0.5935245156288147,
           -1.5672856569290161,
           -1.069045066833496,
           0.040139779448509216,
           -0.1458292156457901,
           0.07430452108383179
          ],
          "id": 46,
          "words": "disponíveis",
          "x": -1.3656578063964844,
          "y": -0.13267549872398376
         },
         {
          "emb": [
           1.4245473146438599,
           -1.8573113679885864,
           0.48346906900405884,
           0.4116779565811157,
           -0.7668437361717224,
           0.5439916253089905,
           -1.027281403541565,
           -0.13137520849704742,
           0.5500880479812622,
           -1.057878851890564
          ],
          "id": 47,
          "words": "machine",
          "x": 1.0803167819976807,
          "y": 0.22670061886310577
         },
         {
          "emb": [
           1.1691439151763916,
           0.2974412739276886,
           -0.013325795531272888,
           0.2939636707305908,
           -0.5306416749954224,
           0.444641649723053,
           -1.1615816354751587,
           1.4111192226409912,
           0.8189919590950012,
           0.04613182693719864
          ],
          "id": 48,
          "words": "bombe",
          "x": -0.43425875902175903,
          "y": 0.4971826672554016
         },
         {
          "emb": [
           -1.912363886833191,
           -1.2030267715454102,
           -0.5014870762825012,
           -0.8560321927070618,
           0.5581158995628357,
           -1.4669064283370972,
           -1.3258633613586426,
           -1.0189019441604614,
           -0.26206934452056885,
           0.1392817199230194
          ],
          "id": 49,
          "words": "anteriormente",
          "x": -1.020474910736084,
          "y": -1.6454362869262695
         },
         {
          "emb": [
           -1.1733838319778442,
           -0.25308018922805786,
           0.45096901059150696,
           0.44354668259620667,
           1.8971784114837646,
           0.19647932052612305,
           -1.0656132698059082,
           0.9584368467330933,
           1.4093408584594727,
           -0.46659788489341736
          ],
          "id": 50,
          "words": "stoneys",
          "x": 0.21496838331222534,
          "y": 0.2107699066400528
         },
         {
          "emb": [
           0.8288032412528992,
           0.8765623569488525,
           0.198775053024292,
           1.4089211225509644,
           0.7464835047721863,
           1.9950177669525146,
           0.6705886125564575,
           0.6460366249084473,
           -0.8538506031036377,
           -0.1865222305059433
          ],
          "id": 51,
          "words": "férias",
          "x": 1.667983889579773,
          "y": 1.168152928352356
         },
         {
          "emb": [
           -0.8124023079872131,
           0.48693332076072693,
           -0.800167977809906,
           0.5289950966835022,
           -0.7232699990272522,
           0.9850595593452454,
           1.7764590978622437,
           -1.3587002754211426,
           0.028574779629707336,
           0.5775267481803894
          ],
          "id": 52,
          "words": "indicar",
          "x": 0.6063202023506165,
          "y": -0.36613020300865173
         },
         {
          "emb": [
           0.5426419377326965,
           1.0087566375732422,
           0.42401182651519775,
           -0.8440453410148621,
           0.42785483598709106,
           0.13685306906700134,
           0.07548291236162186,
           0.3794932961463928,
           2.0204081535339355,
           -0.9528325200080872
          ],
          "id": 53,
          "words": "filhos",
          "x": 0.2612650394439697,
          "y": 0.09124493598937988
         },
         {
          "emb": [
           -1.9228676557540894,
           0.1303223967552185,
           -2.8989410400390625,
           0.2750089466571808,
           -1.6688828468322754,
           0.19841386377811432,
           -0.6762740015983582,
           -0.6291341781616211,
           0.23075081408023834,
           -1.8063066005706787
          ],
          "id": 54,
          "words": "próprias",
          "x": 0.177088662981987,
          "y": -3.775616407394409
         },
         {
          "emb": [
           -0.5924896597862244,
           0.026553673669695854,
           -0.3924800753593445,
           0.5009432435035706,
           1.6378209590911865,
           -0.6249187588691711,
           -1.7750184535980225,
           0.510540246963501,
           0.9212444424629211,
           1.2270206212997437
          ],
          "id": 55,
          "words": "artigo",
          "x": -1.6048191785812378,
          "y": 0.2924167811870575
         },
         {
          "emb": [
           0.1614156812429428,
           -0.2107677012681961,
           1.7450051307678223,
           0.3700408637523651,
           0.776155412197113,
           -1.1960777044296265,
           1.072392225265503,
           1.9619874954223633,
           1.314675211906433,
           0.29981619119644165
          ],
          "id": 56,
          "words": "secundário",
          "x": -0.7142467498779297,
          "y": 1.9878178834915161
         },
         {
          "emb": [
           1.418574333190918,
           0.7464661598205566,
           -0.433496356010437,
           -1.2567957639694214,
           -1.0515271425247192,
           -2.3644027709960938,
           -0.54006427526474,
           -0.2495730072259903,
           -0.2933769226074219,
           -1.9316880702972412
          ],
          "id": 57,
          "words": "técnicas",
          "x": -0.9317730665206909,
          "y": -1.5112760066986084
         },
         {
          "emb": [
           -0.8504294157028198,
           -0.5614804625511169,
           0.29832252860069275,
           -0.25933411717414856,
           -1.188839316368103,
           0.45599719882011414,
           -0.22080498933792114,
           -0.11713126301765442,
           0.24367231130599976,
           -0.4001310169696808
          ],
          "id": 58,
          "words": "cambridge",
          "x": 0.5028617978096008,
          "y": -0.5638487339019775
         },
         {
          "emb": [
           -1.7006317377090454,
           -0.7318467497825623,
           -0.3330727517604828,
           -0.08259179443120956,
           0.8614243268966675,
           0.5195589065551758,
           -0.4696935713291168,
           -0.29695507884025574,
           0.20568768680095673,
           -1.076662540435791
          ],
          "id": 59,
          "words": "compatíveis",
          "x": 1.0457899570465088,
          "y": -1.2811758518218994
         },
         {
          "emb": [
           0.6224808096885681,
           -0.8680920004844666,
           1.0168161392211914,
           -1.276883840560913,
           2.200679063796997,
           -0.14014719426631927,
           0.35982632637023926,
           1.162578821182251,
           -0.8125133514404297,
           -0.9222623109817505
          ],
          "id": 60,
          "words": "fadas",
          "x": 1.043756365776062,
          "y": 0.3991590738296509
         },
         {
          "emb": [
           -1.5523011684417725,
           -0.20493154227733612,
           0.6254206299781799,
           -0.32704970240592957,
           0.23304128646850586,
           -0.776484489440918,
           -0.25862255692481995,
           -0.7947424054145813,
           0.32647448778152466,
           -0.9474553465843201
          ],
          "id": 61,
          "words": "encontrou",
          "x": 0.2684389054775238,
          "y": -0.7273727655410767
         },
         {
          "emb": [
           -0.6778188943862915,
           0.3403858542442322,
           -1.0919513702392578,
           -0.49466636776924133,
           0.28875020146369934,
           -0.3980172872543335,
           0.18038664758205414,
           -0.7613296508789062,
           1.234797716140747,
           0.39661768078804016
          ],
          "id": 62,
          "words": "veneno",
          "x": -0.8114073872566223,
          "y": -0.9620330929756165
         },
         {
          "emb": [
           0.18960531055927277,
           0.1738235503435135,
           -0.25564146041870117,
           -0.665206253528595,
           -0.7335013747215271,
           -0.08956152200698853,
           0.30721473693847656,
           -1.5388883352279663,
           0.4153807461261749,
           -1.4687979221343994
          ],
          "id": 63,
          "words": "bletchley",
          "x": 0.8630933165550232,
          "y": -1.1821939945220947
         },
         {
          "emb": [
           -0.7799248695373535,
           -0.45038747787475586,
           0.12896250188350677,
           -0.45845964550971985,
           -0.5896458625793457,
           -0.39084941148757935,
           0.8718743920326233,
           -0.8871089816093445,
           -0.5580333471298218,
           -0.39756888151168823
          ],
          "id": 64,
          "words": "morte",
          "x": 0.40831542015075684,
          "y": -0.6944083571434021
         },
         {
          "emb": [
           -0.6390078067779541,
           1.2929311990737915,
           -1.00262451171875,
           -0.057372722774744034,
           -0.8605489134788513,
           -0.7891409993171692,
           0.238203763961792,
           0.8177058696746826,
           -0.09589838981628418,
           0.39368364214897156
          ],
          "id": 65,
          "words": "bomba",
          "x": -1.4202239513397217,
          "y": -0.8354219794273376
         },
         {
          "emb": [
           -0.0718270093202591,
           0.047109197825193405,
           0.27425214648246765,
           0.30917203426361084,
           -1.766919493675232,
           -1.79202401638031,
           -0.12871727347373962,
           -1.5730841159820557,
           0.14986732602119446,
           -0.43906643986701965
          ],
          "id": 66,
          "words": "dedicação",
          "x": -0.8699690103530884,
          "y": -0.4447932839393616
         },
         {
          "emb": [
           2.357104539871216,
           0.6341407299041748,
           -0.07404983043670654,
           -0.17519091069698334,
           0.8833383917808533,
           1.3692797422409058,
           -0.6239986419677734,
           -1.4819202423095703,
           0.37156152725219727,
           1.0677226781845093
          ],
          "id": 67,
          "words": "construídos",
          "x": 0.3857821822166443,
          "y": 1.1668938398361206
         },
         {
          "emb": [
           0.8725511431694031,
           1.5204439163208008,
           -1.1637295484542847,
           -1.1567198038101196,
           0.6745014190673828,
           -1.6635537147521973,
           -0.8301399350166321,
           2.1919288635253906,
           0.48630082607269287,
           -0.6020244359970093
          ],
          "id": 68,
          "words": "seios",
          "x": -1.9311645030975342,
          "y": -1.03421950340271
         },
         {
          "emb": [
           0.21615786850452423,
           -0.5554425716400146,
           -0.09111075103282928,
           -1.0551263093948364,
           2.3256380558013916,
           -1.0474481582641602,
           0.9221423864364624,
           -0.5313674211502075,
           0.3420693576335907,
           1.143639087677002
          ],
          "id": 69,
          "words": "longford",
          "x": -0.8133294582366943,
          "y": 0.4160531759262085
         },
         {
          "emb": [
           -2.398178815841675,
           0.18599997460842133,
           0.3117566406726837,
           -0.8669443130493164,
           -0.3538409173488617,
           0.21302516758441925,
           -1.5434818267822266,
           -1.853398084640503,
           -0.40902554988861084,
           -2.998812675476074
          ],
          "id": 70,
          "words": "imitation",
          "x": 1.909546136856079,
          "y": -2.622709274291992
         },
         {
          "emb": [
           1.3838098049163818,
           0.6985957622528076,
           -0.8226935267448425,
           -0.5053347945213318,
           -0.5349286794662476,
           -1.0454258918762207,
           -0.4478589594364166,
           -1.3381742238998413,
           -0.05120762065052986,
           -0.07866071909666061
          ],
          "id": 71,
          "words": "investigação",
          "x": -0.9149855971336365,
          "y": -0.6588002443313599
         },
         {
          "emb": [
           0.4815049171447754,
           0.04751356691122055,
           0.9308140873908997,
           0.5993643999099731,
           -0.7222697734832764,
           0.5130304098129272,
           -0.29681384563446045,
           0.5174286961555481,
           -0.43046900629997253,
           -0.043750181794166565
          ],
          "id": 72,
          "words": "prazer",
          "x": 0.4500354826450348,
          "y": 0.8969268202781677
         },
         {
          "emb": [
           0.5760226845741272,
           -1.0987303256988525,
           -0.446846604347229,
           -1.043972134590149,
           -0.6315138339996338,
           -0.7656997442245483,
           -0.15589644014835358,
           1.4219820499420166,
           -1.7532873153686523,
           -0.4308832287788391
          ],
          "id": 73,
          "words": "quebra",
          "x": -0.34671685099601746,
          "y": -0.9659018516540527
         },
         {
          "emb": [
           0.6128461360931396,
           0.5679815411567688,
           -0.017514951527118683,
           1.8105844259262085,
           -1.6101709604263306,
           0.9652436375617981,
           1.0903031826019287,
           -0.4867042601108551,
           0.24847708642482758,
           -0.5427820682525635
          ],
          "id": 74,
          "words": "enquanto",
          "x": 1.0335185527801514,
          "y": 0.5562106370925903
         },
         {
          "emb": [
           -1.234114170074463,
           -1.1665935516357422,
           -1.2829489707946777,
           1.0715709924697876,
           -1.504229187965393,
           0.8372753262519836,
           -0.7781643271446228,
           -0.2781987190246582,
           -0.5952126979827881,
           -0.17128770053386688
          ],
          "id": 75,
          "words": "ocorrido",
          "x": 0.3843148350715637,
          "y": -1.462717056274414
         },
         {
          "emb": [
           1.714088797569275,
           0.955183207988739,
           0.720393717288971,
           -0.30779269337654114,
           0.05940936878323555,
           1.2512651681900024,
           0.19405852258205414,
           -0.5529661178588867,
           -0.20405495166778564,
           -0.026141470298171043
          ],
          "id": 76,
          "words": "experiência",
          "x": 1.0588737726211548,
          "y": 1.0345968008041382
         },
         {
          "emb": [
           -0.1457747519016266,
           -1.413544774055481,
           -2.1967108249664307,
           1.6411566734313965,
           -0.7811828255653381,
           -0.8520081639289856,
           -1.097884178161621,
           -1.1387388706207275,
           1.335607647895813,
           -1.1842881441116333
          ],
          "id": 77,
          "words": "interessou",
          "x": -0.44708800315856934,
          "y": -1.9314383268356323
         },
         {
          "emb": [
           0.27613216638565063,
           1.3993237018585205,
           -0.04778418689966202,
           -1.4909577369689941,
           -0.6996021866798401,
           -0.14240968227386475,
           -1.4971145391464233,
           0.9675515294075012,
           -0.006900194101035595,
           0.8708428144454956
          ],
          "id": 78,
          "words": "government",
          "x": -1.4712940454483032,
          "y": -0.28395509719848633
         },
         {
          "emb": [
           -1.0528688430786133,
           0.4223570227622986,
           0.42485928535461426,
           -0.3809119164943695,
           0.36067405343055725,
           -2.1827194690704346,
           1.7625468969345093,
           -2.1176137924194336,
           -0.42658933997154236,
           -0.7760164141654968
          ],
          "id": 79,
          "words": "dois",
          "x": -0.1647058129310608,
          "y": -0.6169086694717407
         },
         {
          "emb": [
           -1.4392993450164795,
           1.1924811601638794,
           -0.15313363075256348,
           -1.7114979028701782,
           -0.12243545055389404,
           -0.5263423323631287,
           1.0255742073059082,
           -0.7002310156822205,
           1.110365629196167,
           0.3539423942565918
          ],
          "id": 80,
          "words": "ministro",
          "x": -0.7004587054252625,
          "y": -0.9270053505897522
         },
         {
          "emb": [
           0.08889275044202805,
           0.060435693711042404,
           -1.2934287786483765,
           -1.3624217510223389,
           -1.1212862730026245,
           1.1732202768325806,
           0.38415053486824036,
           0.9913893342018127,
           -0.47915199398994446,
           0.08299849182367325
          ],
          "id": 81,
          "words": "chhatrapur",
          "x": 0.20610655844211578,
          "y": -1.3879802227020264
         },
         {
          "emb": [
           -0.391063928604126,
           1.4379645586013794,
           0.31176623702049255,
           -0.665966808795929,
           -0.7159368991851807,
           1.1761330366134644,
           0.7082018256187439,
           -0.32212722301483154,
           1.158264398574829,
           -0.5912498831748962
          ],
          "id": 82,
          "words": "aparente",
          "x": 0.9086190462112427,
          "y": -0.2280798852443695
         },
         {
          "emb": [
           -0.033521346747875214,
           -0.38794800639152527,
           1.9402803182601929,
           1.9124326705932617,
           -0.8358727097511292,
           -0.772379457950592,
           1.1409004926681519,
           -0.5194092392921448,
           1.531316876411438,
           0.6693423390388489
          ],
          "id": 83,
          "words": "vez",
          "x": -0.2645445168018341,
          "y": 2.3632915019989014
         },
         {
          "emb": [
           -0.5706844329833984,
           -0.050600603222846985,
           0.6017705202102661,
           -1.0180249214172363,
           0.6212645173072815,
           -0.11332335323095322,
           -0.22568444907665253,
           0.09962248057126999,
           0.03437536209821701,
           0.4721508324146271
          ],
          "id": 84,
          "words": "homofobia",
          "x": -0.21877463161945343,
          "y": 0.1003049984574318
         },
         {
          "emb": [
           -0.2584250271320343,
           2.353889226913452,
           -1.5167198181152344,
           0.6440836787223816,
           -0.9553375244140625,
           -1.0580859184265137,
           -0.20080845057964325,
           1.885560154914856,
           1.1578694581985474,
           -0.6323381066322327
          ],
          "id": 85,
          "words": "principal",
          "x": -1.7684376239776611,
          "y": -1.076479196548462
         },
         {
          "emb": [
           -0.9735649228096008,
           2.0370054244995117,
           2.067385673522949,
           0.5179367661476135,
           -0.6013505458831787,
           0.6354202628135681,
           0.14100989699363708,
           1.6796753406524658,
           2.192003011703491,
           3.040449857711792
          ],
          "id": 86,
          "words": "pai",
          "x": -1.7767119407653809,
          "y": 3.014326810836792
         },
         {
          "emb": [
           -0.2517291009426117,
           -0.7127508521080017,
           -1.1429435014724731,
           0.3611134886741638,
           0.2751094698905945,
           -0.31401127576828003,
           0.25337645411491394,
           2.9392037391662598,
           0.5728727579116821,
           -0.7705397009849548
          ],
          "id": 87,
          "words": "portanto",
          "x": -0.4371984004974365,
          "y": -0.807736873626709
         },
         {
          "emb": [
           0.06665320694446564,
           -0.4544747769832611,
           1.3856350183486938,
           0.7924655079841614,
           0.8648202419281006,
           -0.7234183549880981,
           -0.10067885369062424,
           0.46833160519599915,
           1.0324516296386719,
           0.3636935353279114
          ],
          "id": 88,
          "words": "ativistas",
          "x": -0.3870859444141388,
          "y": 1.6027374267578125
         },
         {
          "emb": [
           0.8504542708396912,
           -0.9605294466018677,
           -1.8450660705566406,
           -0.2969305217266083,
           0.41363418102264404,
           0.4036600589752197,
           -0.032529957592487335,
           -0.6099093556404114,
           2.3612163066864014,
           -0.41207122802734375
          ],
          "id": 89,
          "words": "transatlânticos",
          "x": 0.027306314557790756,
          "y": -1.1738731861114502
         },
         {
          "emb": [
           -1.2581053972244263,
           0.5112586617469788,
           -0.5886651277542114,
           -0.47129085659980774,
           0.5978099703788757,
           -0.10754845291376114,
           1.2236634492874146,
           -0.9521521925926208,
           0.33572161197662354,
           3.407926321029663
          ],
          "id": 90,
          "words": "criptoanálise",
          "x": -1.8303940296173096,
          "y": 0.5888370871543884
         },
         {
          "emb": [
           1.5296128988265991,
           -0.30986127257347107,
           -0.10634636878967285,
           -0.5692149996757507,
           0.2523514926433563,
           -0.17276422679424286,
           0.4114583134651184,
           -0.6913439035415649,
           -0.020733356475830078,
           2.210486650466919
          ],
          "id": 91,
          "words": "pós",
          "x": -1.1324126720428467,
          "y": 1.129308819770813
         },
         {
          "emb": [
           1.7616534233093262,
           0.3212980329990387,
           3.0610239505767822,
           0.39901429414749146,
           0.4164327383041382,
           0.5588699579238892,
           1.0719599723815918,
           -0.14696666598320007,
           -1.0672070980072021,
           2.10568904876709
          ],
          "id": 92,
          "words": "decisivo",
          "x": 0.35995572805404663,
          "y": 3.934316635131836
         },
         {
          "emb": [
           2.1084892749786377,
           1.5946108102798462,
           -0.8939518332481384,
           -0.09922776371240616,
           2.1359901428222656,
           0.73653644323349,
           0.2715376317501068,
           -1.8658833503723145,
           1.054364800453186,
           1.261326551437378
          ],
          "id": 93,
          "words": "determinou",
          "x": -0.21290242671966553,
          "y": 0.936299741268158
         },
         {
          "emb": [
           -1.5644422769546509,
           0.4455367922782898,
           -0.46643778681755066,
           -1.0174983739852905,
           -1.2404160499572754,
           -0.13926154375076294,
           -0.9293677806854248,
           1.8783432245254517,
           0.4931674599647522,
           -0.6529470682144165
          ],
          "id": 94,
          "words": "direcionada",
          "x": -0.7002435326576233,
          "y": -1.6135433912277222
         },
         {
          "emb": [
           0.8422818779945374,
           -2.7541794776916504,
           0.43343594670295715,
           0.704311728477478,
           -0.30710768699645996,
           0.9267649054527283,
           -0.3698578476905823,
           -0.9065518975257874,
           0.11496741324663162,
           0.9148836731910706
          ],
          "id": 95,
          "words": "braço",
          "x": 0.7523037791252136,
          "y": 0.9487571120262146
         },
         {
          "emb": [
           0.12508833408355713,
           0.7060114145278931,
           0.20080839097499847,
           0.22413574159145355,
           1.4735510349273682,
           -0.46438372135162354,
           1.5497151613235474,
           -0.95184326171875,
           0.9545271992683411,
           0.8406268358230591
          ],
          "id": 96,
          "words": "projeto",
          "x": -0.31695806980133057,
          "y": 1.0048564672470093
         },
         {
          "emb": [
           0.23865172266960144,
           1.31631600856781,
           2.059232711791992,
           -1.4067744016647339,
           0.3559556305408478,
           -0.2588382363319397,
           1.398377537727356,
           0.6110002398490906,
           1.4144213199615479,
           0.6097872853279114
          ],
          "id": 97,
          "words": "observadas",
          "x": -0.2603001892566681,
          "y": 1.732484221458435
         },
         {
          "emb": [
           -0.7940228581428528,
           1.9954721927642822,
           1.249041199684143,
           -1.0246028900146484,
           -0.0018165182555094361,
           -1.4767228364944458,
           -1.013168215751648,
           -0.4804005026817322,
           0.8656954169273376,
           1.2430733442306519
          ],
          "id": 98,
          "words": "definições",
          "x": -2.0343754291534424,
          "y": 0.6720543503761292
         },
         {
          "emb": [
           -1.9031562805175781,
           -1.8519296646118164,
           0.1609751433134079,
           -0.0436951108276844,
           0.7673737406730652,
           -0.026245735585689545,
           -0.2224900722503662,
           1.3159888982772827,
           1.9405726194381714,
           0.9140523672103882
          ],
          "id": 99,
          "words": "oficiais",
          "x": -0.6511049270629883,
          "y": 0.07764039188623428
         },
         {
          "emb": [
           -2.091299295425415,
           -0.0340917706489563,
           -0.9775505065917969,
           1.373845100402832,
           0.7687215209007263,
           -1.2385176420211792,
           0.3235112726688385,
           0.7935129404067993,
           0.23571093380451202,
           0.5324189066886902
          ],
          "id": 100,
          "words": "prerrogativa",
          "x": -1.346962571144104,
          "y": -0.5535738468170166
         },
         {
          "emb": [
           -2.1536927223205566,
           -2.5220351219177246,
           0.5191560983657837,
           0.3402716815471649,
           0.3571508228778839,
           0.7505351901054382,
           0.10318103432655334,
           0.5001646280288696,
           0.43017280101776123,
           -0.6344891786575317
          ],
          "id": 101,
          "words": "escoceses",
          "x": 1.3679020404815674,
          "y": -0.4769665598869324
         },
         {
          "emb": [
           -1.272515058517456,
           1.3707472085952759,
           -1.5777329206466675,
           0.4633444845676422,
           -1.1241158246994019,
           0.19690410792827606,
           1.0936328172683716,
           -0.19747856259346008,
           0.5789963603019714,
           1.3976835012435913
          ],
          "id": 102,
          "words": "copeland",
          "x": -1.2298181056976318,
          "y": -0.7500791549682617
         },
         {
          "emb": [
           1.4422274827957153,
           1.5652984380722046,
           1.5797507762908936,
           -0.811320960521698,
           0.6160430908203125,
           0.0718662217259407,
           -0.23064805567264557,
           0.4350995421409607,
           -0.9074658751487732,
           1.8600350618362427
          ],
          "id": 103,
          "words": "unido",
          "x": -0.8381075859069824,
          "y": 2.190185308456421
         },
         {
          "emb": [
           0.03990582376718521,
           -1.040269374847412,
           0.2903458774089813,
           -0.7519964575767517,
           1.6473151445388794,
           -0.7422209978103638,
           -2.691835641860962,
           0.1730796843767166,
           0.4880634844303131,
           -1.2150015830993652
          ],
          "id": 104,
          "words": "aposentados",
          "x": -0.04434946924448013,
          "y": -0.7339575290679932
         },
         {
          "emb": [
           0.023738358169794083,
           -0.5619542598724365,
           -0.7678802609443665,
           -1.0356935262680054,
           -1.2733350992202759,
           -0.7691207528114319,
           1.4341405630111694,
           1.5471583604812622,
           0.050327833741903305,
           0.03775420039892197
          ],
          "id": 105,
          "words": "equivalia",
          "x": -0.815386176109314,
          "y": -0.8820182681083679
         },
         {
          "emb": [
           -0.5020849108695984,
           -0.40402570366859436,
           -0.4990657866001129,
           -1.7699651718139648,
           -0.8435205817222595,
           1.3012648820877075,
           0.15928730368614197,
           -1.6009697914123535,
           2.395719528198242,
           0.1696336269378662
          ],
          "id": 106,
          "words": "reação",
          "x": 0.5469585061073303,
          "y": -1.114233136177063
         },
         {
          "emb": [
           1.4738130569458008,
           1.0068038702011108,
           2.8339474201202393,
           0.5427111387252808,
           -0.44948920607566833,
           0.556710958480835,
           -1.1079483032226562,
           -0.11402395367622375,
           -0.8540955781936646,
           1.0174798965454102
          ],
          "id": 107,
          "words": "poderiam",
          "x": 0.21832337975502014,
          "y": 2.928208827972412
         },
         {
          "emb": [
           -0.0016764340689405799,
           -0.26952898502349854,
           -0.19234737753868103,
           -1.2471576929092407,
           0.5386465787887573,
           -0.8746755719184875,
           -0.8307957649230957,
           1.662022590637207,
           -0.11085527390241623,
           -0.9759569764137268
          ],
          "id": 108,
          "words": "buscado",
          "x": -0.4708811640739441,
          "y": -0.9908237457275391
         },
         {
          "emb": [
           -0.3561839461326599,
           -1.4861230850219727,
           -0.21404260396957397,
           0.9565868377685547,
           1.8846628665924072,
           -2.55332612991333,
           -0.5676295757293701,
           -0.7079476714134216,
           0.43603625893592834,
           0.44294440746307373
          ],
          "id": 109,
          "words": "woking",
          "x": -1.5771621465682983,
          "y": 0.1689048558473587
         },
         {
          "emb": [
           -1.0888495445251465,
           0.9694532752037048,
           0.30625149607658386,
           2.4542596340179443,
           -0.15752732753753662,
           0.6091182827949524,
           0.13798411190509796,
           0.43113216757774353,
           -0.6833400726318359,
           1.4902727603912354
          ],
          "id": 110,
          "words": "sir",
          "x": -0.3987160921096802,
          "y": 1.401052474975586
         },
         {
          "emb": [
           1.564532995223999,
           0.4167763292789459,
           -1.5234501361846924,
           -1.2262229919433594,
           1.2553026676177979,
           0.5910284519195557,
           0.8786070346832275,
           -0.2560192048549652,
           0.5058277249336243,
           -0.3716472089290619
          ],
          "id": 111,
          "words": "forçado",
          "x": 0.43477290868759155,
          "y": -0.8289214968681335
         },
         {
          "emb": [
           0.7195768356323242,
           0.8741424679756165,
           0.6261451840400696,
           0.29531678557395935,
           -0.9542636871337891,
           1.4602364301681519,
           -0.8650132417678833,
           -0.8352082371711731,
           0.2090289294719696,
           -1.3822355270385742
          ],
          "id": 112,
          "words": "nascida",
          "x": 1.6411962509155273,
          "y": 0.016622357070446014
         },
         {
          "emb": [
           -0.2521631121635437,
           0.28254690766334534,
           -1.1464762687683105,
           1.3892496824264526,
           0.3538244366645813,
           -1.5958948135375977,
           0.01229806337505579,
           0.45379406213760376,
           1.0879371166229248,
           0.28360313177108765
          ],
          "id": 113,
          "words": "decodificadora",
          "x": -1.7160621881484985,
          "y": -0.21285134553909302
         },
         {
          "emb": [
           1.383029818534851,
           0.22595202922821045,
           1.3967987298965454,
           -1.4111342430114746,
           0.15033572912216187,
           -1.5857027769088745,
           -0.1834973841905594,
           0.5779428482055664,
           0.9528200030326843,
           1.8697397708892822
          ],
          "id": 114,
          "words": "ed",
          "x": -2.1518683433532715,
          "y": 1.7628540992736816
         },
         {
          "emb": [
           -0.4865911900997162,
           -0.538059651851654,
           -0.30172502994537354,
           1.868141531944275,
           0.30067840218544006,
           -0.7592465877532959,
           -1.418563961982727,
           -0.7974763512611389,
           -0.7690266966819763,
           0.571196436882019
          ],
          "id": 115,
          "words": "biógrafo",
          "x": -0.7578220963478088,
          "y": 0.15765364468097687
         },
         {
          "emb": [
           0.10316284000873566,
           2.3454041481018066,
           0.6724819540977478,
           1.0262222290039062,
           -1.860796332359314,
           0.10301590710878372,
           1.227743148803711,
           0.8029532432556152,
           -0.016288384795188904,
           0.8336780667304993
          ],
          "id": 116,
          "words": "carreira",
          "x": -0.703966498374939,
          "y": 1.2922265529632568
         },
         {
          "emb": [
           0.06303322315216064,
           -2.2141265869140625,
           1.303957462310791,
           0.9411124587059021,
           1.4623990058898926,
           -1.361011028289795,
           -0.23131214082241058,
           1.34896981716156,
           0.33197832107543945,
           2.5323257446289062
          ],
          "id": 117,
          "words": "havia",
          "x": -1.7963231801986694,
          "y": 2.4660391807556152
         },
         {
          "emb": [
           -1.0238497257232666,
           -0.4994255304336548,
           0.07481040060520172,
           -1.801417589187622,
           -0.1268889605998993,
           0.32561054825782776,
           1.4262930154800415,
           1.1446022987365723,
           1.0356661081314087,
           0.6759237051010132
          ],
          "id": 118,
          "words": "knew",
          "x": -0.19859202206134796,
          "y": -0.35157665610313416
         },
         {
          "emb": [
           -0.5292952060699463,
           0.05888954550027847,
           -0.7502290606498718,
           0.049520403146743774,
           -0.6809611320495605,
           -1.9934626817703247,
           2.9225261211395264,
           -0.6855459213256836,
           1.9400088787078857,
           0.5900437831878662
          ],
          "id": 119,
          "words": "mal",
          "x": -1.5127025842666626,
          "y": -0.23419523239135742
         },
         {
          "emb": [
           -0.28543370962142944,
           0.296664834022522,
           0.17808033525943756,
           -0.35340386629104614,
           0.8588432669639587,
           -0.26172515749931335,
           -2.173306703567505,
           1.9509538412094116,
           -1.4715207815170288,
           -0.07642542570829391
          ],
          "id": 120,
          "words": "série",
          "x": -0.6395793557167053,
          "y": -0.2603099048137665
         },
         {
          "emb": [
           0.2768721878528595,
           1.662198543548584,
           -0.6740295886993408,
           0.7021079659461975,
           0.720099925994873,
           0.04237177222967148,
           0.02613544836640358,
           -1.2022544145584106,
           -0.15584756433963776,
           -0.2577790915966034
          ],
          "id": 121,
          "words": "decifração",
          "x": 0.09010554850101471,
          "y": -0.19805023074150085
         },
         {
          "emb": [
           1.4132533073425293,
           0.5707522630691528,
           -0.559764564037323,
           -0.39810535311698914,
           -0.5402761101722717,
           -0.1468847393989563,
           -0.18254122138023376,
           0.04659867286682129,
           -0.9509836435317993,
           0.7927058339118958
          ],
          "id": 122,
          "words": "bruxa",
          "x": -0.7769150733947754,
          "y": 0.0725688636302948
         },
         {
          "emb": [
           0.014128711074590683,
           -1.2378017902374268,
           0.5361718535423279,
           -1.301927089691162,
           -0.318819522857666,
           -0.5134590864181519,
           -2.1721949577331543,
           0.7316849231719971,
           0.6243981719017029,
           1.0749382972717285
          ],
          "id": 123,
          "words": "responsável",
          "x": -1.3808326721191406,
          "y": 0.04165060445666313
         },
         {
          "emb": [
           -0.5229034423828125,
           0.4870526194572449,
           -0.5539093017578125,
           1.6905797719955444,
           -1.3465099334716797,
           0.6041199564933777,
           -1.4384695291519165,
           -1.8667478561401367,
           -0.44471102952957153,
           1.413748025894165
          ],
          "id": 124,
          "words": "então",
          "x": -0.6160088181495667,
          "y": 0.08305471390485764
         },
         {
          "emb": [
           0.8668171167373657,
           3.776824712753296,
           -0.08239083737134933,
           -0.17627215385437012,
           1.2923847436904907,
           -0.9795700311660767,
           -1.1851139068603516,
           1.0552048683166504,
           -0.3582194745540619,
           -0.907848060131073
          ],
          "id": 125,
          "words": "gc",
          "x": -1.0400391817092896,
          "y": 0.0040280576795339584
         },
         {
          "emb": [
           0.7402188777923584,
           -0.06885039806365967,
           -0.23219479620456696,
           2.4701437950134277,
           0.3287455141544342,
           0.6437191367149353,
           0.018240051344037056,
           0.03071371279656887,
           0.09600812941789627,
           -0.558433473110199
          ],
          "id": 126,
          "words": "polonesa",
          "x": 0.8439452648162842,
          "y": 0.8080362677574158
         },
         {
          "emb": [
           -0.2245568335056305,
           -1.6391384601593018,
           0.14780151844024658,
           0.5997315049171448,
           -1.0395286083221436,
           0.2030087411403656,
           0.10373922437429428,
           0.8518314957618713,
           -0.8064429759979248,
           -1.5355550050735474
          ],
          "id": 127,
          "words": "computer",
          "x": 1.2264286279678345,
          "y": -0.6444082260131836
         },
         {
          "emb": [
           0.4820493459701538,
           -0.033898234367370605,
           0.9869168996810913,
           -0.6468662023544312,
           1.9399837255477905,
           0.6133212447166443,
           -0.6584963798522949,
           0.690948486328125,
           -1.7348872423171997,
           -0.33510419726371765
          ],
          "id": 128,
          "words": "acidentes",
          "x": 1.065872073173523,
          "y": 0.6111545562744141
         },
         {
          "emb": [
           1.689468264579773,
           0.39468294382095337,
           2.9717133045196533,
           -1.0018852949142456,
           -0.8558420538902283,
           -0.5900900363922119,
           -1.8315764665603638,
           -1.5272388458251953,
           1.1088491678237915,
           -1.0195603370666504
          ],
          "id": 129,
          "words": "aceitou",
          "x": 0.45948052406311035,
          "y": 1.471333384513855
         },
         {
          "emb": [
           0.07725517451763153,
           -0.5344991683959961,
           0.585317850112915,
           0.3014395833015442,
           -1.845779299736023,
           0.8443301320075989,
           -1.2767060995101929,
           0.5488724708557129,
           0.2128097116947174,
           -0.986655592918396
          ],
          "id": 130,
          "words": "venenosa",
          "x": 0.7803143858909607,
          "y": -0.23282885551452637
         },
         {
          "emb": [
           -0.04877616465091705,
           1.0554276704788208,
           -0.08890324085950851,
           -0.40937259793281555,
           0.4739720821380615,
           -1.2210191488265991,
           -0.06713592261075974,
           -0.7902607321739197,
           -0.7928360104560852,
           1.0426007509231567
          ],
          "id": 131,
          "words": "poderia",
          "x": -1.3462094068527222,
          "y": 0.0804399847984314
         },
         {
          "emb": [
           2.0504887104034424,
           -0.6779568195343018,
           -0.40875205397605896,
           -0.9029114246368408,
           -0.14093469083309174,
           -0.7502484321594238,
           0.3438681364059448,
           0.23089899122714996,
           -0.30132564902305603,
           1.8505539894104004
          ],
          "id": 132,
          "words": "cometido",
          "x": -1.5316418409347534,
          "y": 0.7515533566474915
         },
         {
          "emb": [
           0.49958500266075134,
           -0.37040063738822937,
           0.0064311036840081215,
           0.18711908161640167,
           0.08631938695907593,
           -0.5336542725563049,
           0.8856289982795715,
           -0.9219388961791992,
           0.09704069793224335,
           -0.3923656940460205
          ],
          "id": 133,
          "words": "produtos",
          "x": 0.2889825403690338,
          "y": 0.03722856938838959
         },
         {
          "emb": [
           -0.20339129865169525,
           0.5378305912017822,
           -0.03351389616727829,
           -0.28072860836982727,
           0.23061813414096832,
           -0.8239517211914062,
           -1.5648280382156372,
           0.23077230155467987,
           -0.9024820327758789,
           0.17886099219322205
          ],
          "id": 134,
          "words": "sugerem",
          "x": -0.9820709228515625,
          "y": -0.39307981729507446
         },
         {
          "emb": [
           -2.2047080993652344,
           -1.4821747541427612,
           -0.2715766131877899,
           -0.030799714848399162,
           0.5262680053710938,
           1.1759288311004639,
           -0.632968544960022,
           0.4916975200176239,
           -0.42049849033355713,
           -0.7797498106956482
          ],
          "id": 135,
          "words": "província",
          "x": 1.3402715921401978,
          "y": -1.3172757625579834
         },
         {
          "emb": [
           -0.041661784052848816,
           -0.6186552047729492,
           0.7563812136650085,
           0.41042986512184143,
           -0.9692993760108948,
           0.9889923334121704,
           0.03231418505311012,
           0.013155980966985226,
           -0.008126411586999893,
           -0.9061084389686584
          ],
          "id": 136,
          "words": "ajudaria",
          "x": 1.401585578918457,
          "y": 0.15145131945610046
         },
         {
          "emb": [
           0.23769913613796234,
           -0.9573349952697754,
           0.6825554966926575,
           -1.9365718364715576,
           0.6928201913833618,
           -0.5165281891822815,
           -0.4279116690158844,
           -0.04022933915257454,
           -0.4786856770515442,
           0.22337962687015533
          ],
          "id": 137,
          "words": "mathison",
          "x": -0.1461370289325714,
          "y": -0.1528618484735489
         },
         {
          "emb": [
           -0.33754611015319824,
           0.5847564339637756,
           0.6725953221321106,
           -2.6419572830200195,
           1.1326967477798462,
           0.5036443471908569,
           0.25008678436279297,
           0.9114747047424316,
           -0.8269428014755249,
           -0.26064878702163696
          ],
          "id": 138,
          "words": "mordaz",
          "x": 0.6071582436561584,
          "y": -0.46478649973869324
         },
         {
          "emb": [
           0.7369193434715271,
           0.8991175889968872,
           -1.397873878479004,
           1.2174913883209229,
           0.42131343483924866,
           -0.05760864168405533,
           0.5928083062171936,
           0.26005953550338745,
           -1.479796051979065,
           -0.8738707900047302
          ],
          "id": 139,
          "words": "decriptar",
          "x": 0.3551125228404999,
          "y": -0.6413155198097229
         },
         {
          "emb": [
           1.0860352516174316,
           0.4876502752304077,
           -0.8034902811050415,
           1.1825965642929077,
           -0.5013842582702637,
           0.31177830696105957,
           -0.1983691155910492,
           0.7089628577232361,
           -1.420850157737732,
           -0.4581742286682129
          ],
          "id": 140,
          "words": "família",
          "x": 0.21992981433868408,
          "y": -0.12124352902173996
         },
         {
          "emb": [
           0.12676610052585602,
           -0.2426328808069229,
           0.6850076913833618,
           -1.3119337558746338,
           1.5634284019470215,
           0.5278647541999817,
           -0.5405580401420593,
           -0.4375407099723816,
           -0.05109714716672897,
           -1.3851768970489502
          ],
          "id": 141,
          "words": "cheshire",
          "x": 1.4864544868469238,
          "y": -0.42190688848495483
         },
         {
          "emb": [
           -0.2456541359424591,
           -0.31441164016723633,
           -0.792137086391449,
           -0.23563264310359955,
           1.187310814857483,
           -1.5358062982559204,
           -0.20989678800106049,
           -1.1080238819122314,
           -1.9450466632843018,
           -0.47367754578590393
          ],
          "id": 142,
          "words": "diariamente",
          "x": -0.3468173146247864,
          "y": -1.2041282653808594
         },
         {
          "emb": [
           -0.34776216745376587,
           -0.42576801776885986,
           -0.1351253092288971,
           -0.7554563879966736,
           -1.2010934352874756,
           -1.6426432132720947,
           0.496672123670578,
           -0.11335280537605286,
           -2.225677251815796,
           -1.6699271202087402
          ],
          "id": 143,
          "words": "tempo",
          "x": 0.15120072662830353,
          "y": -1.6707431077957153
         },
         {
          "emb": [
           0.9019957780838013,
           2.386112689971924,
           -1.65079927444458,
           -0.44278883934020996,
           0.24488182365894318,
           -1.4876399040222168,
           2.5335886478424072,
           0.7375773191452026,
           -1.0563634634017944,
           -0.7753834128379822
          ],
          "id": 144,
          "words": "genealogy",
          "x": -0.8205003142356873,
          "y": -1.041006326675415
         },
         {
          "emb": [
           0.8418431282043457,
           1.002305269241333,
           -1.7518633604049683,
           1.0777446031570435,
           0.05237036198377609,
           1.698627233505249,
           -0.148587167263031,
           1.2150239944458008,
           1.5881415605545044,
           0.6344888210296631
          ],
          "id": 145,
          "words": "causa",
          "x": -0.23437587916851044,
          "y": 0.04596749693155289
         },
         {
          "emb": [
           0.5146571397781372,
           -0.4395020008087158,
           0.6047490835189819,
           -0.4206524193286896,
           1.2739851474761963,
           -1.4580321311950684,
           -1.0304679870605469,
           1.3106883764266968,
           1.532828688621521,
           -0.2974169850349426
          ],
          "id": 146,
          "words": "protestantes",
          "x": -1.12050199508667,
          "y": 0.49302345514297485
         },
         {
          "emb": [
           1.393602967262268,
           0.02239331044256687,
           -0.32659709453582764,
           0.2223748117685318,
           -0.06191601976752281,
           -0.18482349812984467,
           -0.7832474112510681,
           1.2979756593704224,
           -1.0148086547851562,
           0.4858231544494629
          ],
          "id": 147,
          "words": "algoritmo",
          "x": -0.7329315543174744,
          "y": 0.3993668556213379
         },
         {
          "emb": [
           0.2644312381744385,
           -0.43724992871284485,
           0.6668813824653625,
           0.17518138885498047,
           -0.49722790718078613,
           -0.2993154525756836,
           -0.6156542301177979,
           -0.4734097421169281,
           -1.916741967201233,
           0.7741680145263672
          ],
          "id": 148,
          "words": "game",
          "x": -0.22481593489646912,
          "y": 0.5236839056015015
         },
         {
          "emb": [
           0.606439471244812,
           -0.593504011631012,
           1.3322393894195557,
           1.7388609647750854,
           1.6171224117279053,
           0.037894848734140396,
           -0.7734826803207397,
           -0.779211163520813,
           0.8845831155776978,
           0.09078259766101837
          ],
          "id": 149,
          "words": "início",
          "x": 0.5328629612922668,
          "y": 1.9168680906295776
         },
         {
          "emb": [
           -0.14734159409999847,
           -0.3146922290325165,
           3.2644898891448975,
           0.7029531598091125,
           -0.4471126198768616,
           0.5380972623825073,
           -1.2879618406295776,
           -0.7359483242034912,
           0.1363631933927536,
           1.6637895107269287
          ],
          "id": 150,
          "words": "ainda",
          "x": 0.10424336791038513,
          "y": 2.9560890197753906
         },
         {
          "emb": [
           -1.1620625257492065,
           0.0526704266667366,
           0.5877111554145813,
           0.2660278081893921,
           -0.8467617034912109,
           0.29874786734580994,
           0.6165995001792908,
           -1.0305485725402832,
           -1.087202548980713,
           -0.23044228553771973
          ],
          "id": 151,
          "words": "químicas",
          "x": 0.8559168577194214,
          "y": -0.21894007921218872
         },
         {
          "emb": [
           0.9892063736915588,
           1.0162078142166138,
           -0.9913073182106018,
           0.49369922280311584,
           0.8615803718566895,
           0.11615431308746338,
           -1.9462970495224,
           0.424737811088562,
           -0.3857315480709076,
           1.4256014823913574
          ],
          "id": 152,
          "words": "ace",
          "x": -1.4586833715438843,
          "y": 0.3204716145992279
         },
         {
          "emb": [
           -0.8734397292137146,
           0.9742344617843628,
           0.25135067105293274,
           -0.7103921175003052,
           -1.2528672218322754,
           -0.47802409529685974,
           -0.4201752841472626,
           0.5093216896057129,
           0.6453189253807068,
           0.45761972665786743
          ],
          "id": 153,
          "words": "projetos",
          "x": -1.1382725238800049,
          "y": -0.3240032494068146
         },
         {
          "emb": [
           -0.8114629983901978,
           -0.48957177996635437,
           0.5849971175193787,
           0.27000710368156433,
           2.221910238265991,
           0.20912306010723114,
           -1.822725534439087,
           -0.578030526638031,
           0.635613739490509,
           0.04083694890141487
          ],
          "id": 154,
          "words": "mostrou",
          "x": 0.26608559489250183,
          "y": 0.3170630931854248
         },
         {
          "emb": [
           -0.3646787703037262,
           0.20399007201194763,
           -1.9694668054580688,
           -0.03965280205011368,
           -0.07868509739637375,
           0.5187567472457886,
           -0.8347151279449463,
           0.59311842918396,
           -1.7106870412826538,
           1.058167576789856
          ],
          "id": 155,
          "words": "projetou",
          "x": -0.8251218199729919,
          "y": -1.3090813159942627
         },
         {
          "emb": [
           -0.6884583830833435,
           -0.19309918582439423,
           0.2734474241733551,
           -1.1048229932785034,
           -0.35842207074165344,
           -0.4012468457221985,
           -0.2574634253978729,
           -0.06069404259324074,
           -0.5288181900978088,
           -0.5503029227256775
          ],
          "id": 156,
          "words": "construídas",
          "x": 0.09509947150945663,
          "y": -0.8749977946281433
         },
         {
          "emb": [
           1.6177668571472168,
           -1.333356261253357,
           -1.222987413406372,
           0.48957139253616333,
           -0.9148584604263306,
           -0.563241183757782,
           -1.4306163787841797,
           -0.08023086190223694,
           1.5685312747955322,
           1.5605705976486206
          ],
          "id": 157,
          "words": "cognitivos",
          "x": -1.950309157371521,
          "y": 0.1808435320854187
         },
         {
          "emb": [
           0.6796525716781616,
           -1.5851531028747559,
           -0.5698456764221191,
           0.7702997326850891,
           -1.0146268606185913,
           -0.608484148979187,
           -0.5213212966918945,
           0.3140809237957001,
           0.8509900569915771,
           1.840478539466858
          ],
          "id": 158,
          "words": "preocupação",
          "x": -1.7164223194122314,
          "y": 0.6075093746185303
         },
         {
          "emb": [
           -0.20050190389156342,
           0.1880546510219574,
           -0.8362739086151123,
           -1.3021208047866821,
           -0.16858182847499847,
           -1.1352946758270264,
           2.4159300327301025,
           0.7374008297920227,
           0.13399358093738556,
           -0.07191433757543564
          ],
          "id": 159,
          "words": "fazer",
          "x": -0.6855207681655884,
          "y": -0.9130429625511169
         },
         {
          "emb": [
           0.6613989472389221,
           -0.6197051405906677,
           0.0375569611787796,
           -0.1116776093840599,
           1.5428918600082397,
           0.7746946811676025,
           -0.13850247859954834,
           -1.0706350803375244,
           -0.3641524016857147,
           0.5104804635047913
          ],
          "id": 160,
          "words": "negação",
          "x": 0.7550702095031738,
          "y": 0.4866345524787903
         },
         {
          "emb": [
           -1.381449818611145,
           1.7758440971374512,
           1.2018662691116333,
           -0.06303612142801285,
           0.6383503079414368,
           0.3519771695137024,
           -0.6643561720848083,
           -0.6919481754302979,
           -0.1944473385810852,
           -0.4921140968799591
          ],
          "id": 161,
          "words": "pesquisadores",
          "x": 0.612696647644043,
          "y": 0.1827310472726822
         },
         {
          "emb": [
           1.0421442985534668,
           -0.715104341506958,
           0.7904060482978821,
           0.2244323492050171,
           -0.3327447474002838,
           0.7032667994499207,
           0.2842530906200409,
           -0.06384947896003723,
           0.05908336862921715,
           0.12335068732500076
          ],
          "id": 162,
          "words": "defende",
          "x": 0.7681559920310974,
          "y": 1.009915828704834
         },
         {
          "emb": [
           0.7530878782272339,
           0.8775649666786194,
           -1.6317858695983887,
           -0.3629521429538727,
           -0.26662737131118774,
           -0.6222301125526428,
           0.953656017780304,
           1.145000696182251,
           -0.7279780507087708,
           -0.28830352425575256
          ],
          "id": 163,
          "words": "manipular",
          "x": -0.7576531171798706,
          "y": -1.078016757965088
         },
         {
          "emb": [
           -0.6540680527687073,
           0.5875739455223083,
           -0.1948717087507248,
           0.4124894142150879,
           -1.707822561264038,
           -1.170769214630127,
           0.7770488262176514,
           1.0789625644683838,
           1.938825249671936,
           -1.5085737705230713
          ],
          "id": 164,
          "words": "artificial",
          "x": -0.5716121792793274,
          "y": -0.8103395700454712
         },
         {
          "emb": [
           -0.6811150908470154,
           -0.2099216729402542,
           0.2007158398628235,
           1.5769976377487183,
           -0.7335723638534546,
           -0.3358473479747772,
           -0.9003574252128601,
           0.819061815738678,
           0.8536264896392822,
           1.644232153892517
          ],
          "id": 165,
          "words": "humilhante",
          "x": -1.5661574602127075,
          "y": 1.0427387952804565
         },
         {
          "emb": [
           -0.7113185524940491,
           -0.19138576090335846,
           2.347285270690918,
           -0.4117894470691681,
           1.5563838481903076,
           1.31398344039917,
           1.6147063970565796,
           -0.9512454271316528,
           -1.0435876846313477,
           -1.186485767364502
          ],
          "id": 166,
          "words": "desculpas",
          "x": 3.033487319946289,
          "y": 1.084886074066162
         },
         {
          "emb": [
           0.2662883698940277,
           -0.2775590419769287,
           -0.11918242275714874,
           0.979787290096283,
           -0.8372179865837097,
           1.1696165800094604,
           -0.3805157244205475,
           -0.4574670195579529,
           0.5634820461273193,
           -0.17867577075958252
          ],
          "id": 167,
          "words": "comissão",
          "x": 0.784661591053009,
          "y": 0.14551790058612823
         },
         {
          "emb": [
           -0.6036658883094788,
           0.4796619117259979,
           1.8615163564682007,
           0.9020048975944519,
           0.06813601404428482,
           0.9321736693382263,
           -0.3189101815223694,
           0.7280648946762085,
           -1.2631632089614868,
           0.5753523707389832
          ],
          "id": 168,
          "words": "gentia",
          "x": 0.7210309505462646,
          "y": 1.678788185119629
         },
         {
          "emb": [
           0.4685452878475189,
           -1.6199902296066284,
           -0.13746504485607147,
           0.5359182357788086,
           0.6560765504837036,
           0.540638267993927,
           0.14868181943893433,
           2.541971206665039,
           1.985784649848938,
           0.4162379503250122
          ],
          "id": 169,
          "words": "maneira",
          "x": -0.22792573273181915,
          "y": 0.8563005924224854
         },
         {
          "emb": [
           -0.38308805227279663,
           0.10288740694522858,
           0.4802694022655487,
           1.4489195346832275,
           0.6434658765792847,
           0.9097603559494019,
           0.24254116415977478,
           -0.4355177581310272,
           -0.297347754240036,
           -2.380023717880249
          ],
          "id": 170,
          "words": "constata",
          "x": 2.4044017791748047,
          "y": -0.17546842992305756
         },
         {
          "emb": [
           1.923033595085144,
           0.02467387355864048,
           -0.4440995454788208,
           3.243480682373047,
           -0.7281904220581055,
           0.9902198314666748,
           -0.04469562694430351,
           0.786500096321106,
           2.94675874710083,
           0.44143903255462646
          ],
          "id": 171,
          "words": "hormônios",
          "x": -0.21390938758850098,
          "y": 1.9382038116455078
         },
         {
          "emb": [
           -1.3492794036865234,
           -0.7919953465461731,
           1.3154388666152954,
           -1.5136102437973022,
           0.0026690890081226826,
           0.7454462647438049,
           -1.0762765407562256,
           1.2249643802642822,
           0.02050488442182541,
           -1.0826472043991089
          ],
          "id": 172,
          "words": "and",
          "x": 1.0925147533416748,
          "y": -0.5702444911003113
         },
         {
          "emb": [
           -0.5754579305648804,
           0.6237242817878723,
           -1.1036661863327026,
           -1.5598219633102417,
           0.893273651599884,
           0.10394386947154999,
           -2.000678539276123,
           -1.8045140504837036,
           -0.8438345789909363,
           -1.1603821516036987
          ],
          "id": 173,
          "words": "humilhado",
          "x": 0.4328341484069824,
          "y": -2.3898823261260986
         },
         {
          "emb": [
           -2.0614709854125977,
           1.1878077983856201,
           -0.35622212290763855,
           -0.7136182188987732,
           1.0109970569610596,
           0.41640618443489075,
           2.6585094928741455,
           0.3010527491569519,
           -0.9939539432525635,
           -1.329673171043396
          ],
          "id": 174,
          "words": "mactutor",
          "x": 1.4980573654174805,
          "y": -1.2987393140792847
         },
         {
          "emb": [
           -0.5375283360481262,
           -0.3741162121295929,
           -0.13625359535217285,
           0.3754754364490509,
           1.3259385824203491,
           0.9620720744132996,
           2.072868585586548,
           1.2620136737823486,
           -0.2328406125307083,
           -0.061402659863233566
          ],
          "id": 175,
          "words": "lorenz",
          "x": 1.1429718732833862,
          "y": 0.37967649102211
         },
         {
          "emb": [
           -0.26030173897743225,
           -1.0053316354751587,
           -0.6175304651260376,
           -0.12864981591701508,
           -1.2259862422943115,
           0.4847559630870819,
           0.24188970029354095,
           0.24576832354068756,
           -0.660645067691803,
           -0.08325774222612381
          ],
          "id": 176,
          "words": "isbn",
          "x": 0.3489004969596863,
          "y": -0.8582890033721924
         },
         {
          "emb": [
           -0.04734766110777855,
           -1.2681013345718384,
           1.018143653869629,
           1.9555749893188477,
           -0.49796780943870544,
           0.4337054193019867,
           -1.827049970626831,
           0.22450879216194153,
           -0.9737610816955566,
           -0.06915845721960068
          ],
          "id": 177,
          "words": "lenta",
          "x": 0.5467461347579956,
          "y": 0.9556853175163269
         },
         {
          "emb": [
           1.6861193180084229,
           0.608717679977417,
           0.25105634331703186,
           0.3619474172592163,
           1.3196423053741455,
           0.6433327198028564,
           -0.10034118592739105,
           -0.3266723155975342,
           0.8457561731338501,
           -0.6374818682670593
          ],
          "id": 178,
          "words": "década",
          "x": 0.8650156855583191,
          "y": 0.8771511912345886
         },
         {
          "emb": [
           0.13738057017326355,
           0.7163736820220947,
           0.9789755940437317,
           -0.3246467709541321,
           -0.2961038053035736,
           -1.2738583087921143,
           0.8095131516456604,
           0.15648531913757324,
           0.6161619424819946,
           0.4236309826374054
          ],
          "id": 179,
          "words": "programada",
          "x": -0.9776331782341003,
          "y": 0.8622379302978516
         },
         {
          "emb": [
           0.02258552983403206,
           -1.397434949874878,
           1.7908523082733154,
           0.8372368812561035,
           -1.509345531463623,
           0.5034505128860474,
           1.4947272539138794,
           1.4748435020446777,
           0.8594741821289062,
           -0.8868011832237244
          ],
          "id": 180,
          "words": "books",
          "x": 1.3232611417770386,
          "y": 1.3163118362426758
         },
         {
          "emb": [
           0.2285371571779251,
           0.2002081274986267,
           -0.3744129240512848,
           -1.5952829122543335,
           -0.709658682346344,
           -0.4014448821544647,
           1.519806981086731,
           0.3876383602619171,
           0.056750282645225525,
           1.3504853248596191
          ],
          "id": 181,
          "words": "alegre",
          "x": -1.0798466205596924,
          "y": -0.12523764371871948
         },
         {
          "emb": [
           0.5652452111244202,
           2.0401856899261475,
           0.4336045980453491,
           0.8814007639884949,
           0.7419873476028442,
           1.3826888799667358,
           -0.5076249241828918,
           -0.15066972374916077,
           -0.581265926361084,
           -0.32131892442703247
          ],
          "id": 182,
          "words": "acompanhar",
          "x": 1.0237261056900024,
          "y": 0.8307909369468689
         },
         {
          "emb": [
           -0.4785293936729431,
           -0.4054664671421051,
           -0.4645984172821045,
           -1.268446922302246,
           -0.04945128783583641,
           0.12420600652694702,
           1.137039303779602,
           0.682578444480896,
           -2.104423999786377,
           0.9808072447776794
          ],
          "id": 183,
          "words": "cianeto",
          "x": -0.16153588891029358,
          "y": -0.5798112154006958
         },
         {
          "emb": [
           -0.8549009561538696,
           -0.4298022985458374,
           2.3202691078186035,
           0.47631266713142395,
           0.33499637246131897,
           0.9377973079681396,
           1.1532853841781616,
           -0.3462042808532715,
           0.6683374643325806,
           -1.6460336446762085
          ],
          "id": 184,
          "words": "sugere",
          "x": 2.513401746749878,
          "y": 1.0765902996063232
         },
         {
          "emb": [
           -0.7502506375312805,
           -1.012621521949768,
           -1.5030076503753662,
           1.2446024417877197,
           0.32714754343032837,
           -1.4040437936782837,
           -1.7027451992034912,
           -2.2064919471740723,
           1.1552512645721436,
           -0.07277420908212662
          ],
          "id": 185,
          "words": "engenheiro",
          "x": -1.1493955850601196,
          "y": -1.348107933998108
         },
         {
          "emb": [
           -1.8560422658920288,
           -0.37236452102661133,
           0.1947096288204193,
           -0.4300728738307953,
           -0.30462655425071716,
           1.5850824117660522,
           -0.07246188819408417,
           -0.3985467553138733,
           -0.5741513967514038,
           -0.8413729667663574
          ],
          "id": 186,
          "words": "marian",
          "x": 1.764918327331543,
          "y": -1.0952529907226562
         },
         {
          "emb": [
           1.8189952373504639,
           -1.7241202592849731,
           1.789849877357483,
           -1.1083616018295288,
           -0.551706850528717,
           0.18984852731227875,
           0.05463434010744095,
           0.6483917832374573,
           -0.6345805525779724,
           0.1795664280653
          ],
          "id": 187,
          "words": "leavitt",
          "x": 0.6531585454940796,
          "y": 1.3867902755737305
         },
         {
          "emb": [
           0.25825297832489014,
           0.794921875,
           1.4522712230682373,
           -0.9973158836364746,
           -0.6733390092849731,
           0.8976714611053467,
           -0.6452993154525757,
           0.026012329384684563,
           -1.8170087337493896,
           1.0138375759124756
          ],
          "id": 188,
          "words": "pioneiro",
          "x": 0.2619594931602478,
          "y": 0.9259085655212402
         },
         {
          "emb": [
           -1.2723859548568726,
           0.24105103313922882,
           -0.2834997773170471,
           -1.3071184158325195,
           -0.5156638622283936,
           -0.5297392010688782,
           0.741917610168457,
           1.1955242156982422,
           0.049925465136766434,
           0.9465977549552917
          ],
          "id": 189,
          "words": "começou",
          "x": -1.1935644149780273,
          "y": -0.6349783539772034
         },
         {
          "emb": [
           -0.5948068499565125,
           0.2441515028476715,
           -0.7871516942977905,
           0.14005081355571747,
           -1.4406038522720337,
           -0.10743851959705353,
           -0.9448328018188477,
           0.34430941939353943,
           -0.7293568849563599,
           -0.04514513164758682
          ],
          "id": 190,
          "words": "campanha",
          "x": -0.6047964096069336,
          "y": -1.1237891912460327
         },
         {
          "emb": [
           0.8913441896438599,
           -1.2411695718765259,
           1.2309156656265259,
           -0.39527300000190735,
           0.27073022723197937,
           1.2150501012802124,
           -0.7287144660949707,
           -0.3558967113494873,
           -1.7070814371109009,
           -0.2835317850112915
          ],
          "id": 191,
          "words": "femininos",
          "x": 1.6913926601409912,
          "y": 0.664284884929657
         },
         {
          "emb": [
           -0.41777506470680237,
           1.1114729642868042,
           -1.7715402841567993,
           -1.8466187715530396,
           -0.8299662470817566,
           0.8779014348983765,
           -0.03527217358350754,
           -0.20266187191009521,
           -0.12938600778579712,
           0.24341151118278503
          ],
          "id": 192,
          "words": "salientando",
          "x": -0.2947794497013092,
          "y": -2.0576632022857666
         },
         {
          "emb": [
           -0.06082674115896225,
           -0.174977645277977,
           -2.6654703617095947,
           -1.5483019351959229,
           0.059813160449266434,
           -0.6852440237998962,
           0.6021307110786438,
           -0.15282100439071655,
           0.14204004406929016,
           -0.17324240505695343
          ],
          "id": 193,
          "words": "dirigido",
          "x": -0.9191495776176453,
          "y": -2.575225591659546
         },
         {
          "emb": [
           -1.210870385169983,
           0.18584784865379333,
           -0.4769758880138397,
           -0.16980642080307007,
           -0.9895742535591125,
           -1.2914783954620361,
           0.19558008015155792,
           -1.6599916219711304,
           -1.295906901359558,
           -0.338814914226532
          ],
          "id": 194,
          "words": "vindas",
          "x": -0.4354470372200012,
          "y": -1.4427921772003174
         },
         {
          "emb": [
           1.2295575141906738,
           -1.0141252279281616,
           0.7487509250640869,
           -0.6177589893341064,
           -0.07098718732595444,
           0.4481489062309265,
           -0.28282931447029114,
           0.17262010276317596,
           1.4910035133361816,
           -0.2893291413784027
          ],
          "id": 195,
          "words": "criou",
          "x": 0.5058600902557373,
          "y": 0.6456205248832703
         },
         {
          "emb": [
           0.022357400506734848,
           -0.5780622363090515,
           -1.033506989479065,
           -0.9264664053916931,
           -0.16088652610778809,
           -0.4451141655445099,
           0.32338130474090576,
           0.2723316252231598,
           0.3244880735874176,
           0.09505198150873184
          ],
          "id": 196,
          "words": "nasceu",
          "x": -0.5949105620384216,
          "y": -1.055329442024231
         },
         {
          "emb": [
           -0.3700043261051178,
           2.3923511505126953,
           -0.0213288813829422,
           1.6552766561508179,
           -0.4946609437465668,
           0.05849352478981018,
           0.6577315330505371,
           -0.8892245888710022,
           -1.0788819789886475,
           0.27846038341522217
          ],
          "id": 197,
          "words": "levou",
          "x": -0.07158031314611435,
          "y": 0.5130996704101562
         },
         {
          "emb": [
           0.49052098393440247,
           0.12716086208820343,
           0.9338319897651672,
           -1.6999180316925049,
           -1.6270313262939453,
           0.8132623434066772,
           -1.3376065492630005,
           -0.914482593536377,
           0.06041558086872101,
           -0.3776640295982361
          ],
          "id": 198,
          "words": "focado",
          "x": 0.602530300617218,
          "y": -0.39817699790000916
         },
         {
          "emb": [
           -0.8704795837402344,
           0.06052708998322487,
           0.49830958247184753,
           0.2834749221801758,
           0.4670639634132385,
           -0.5587304830551147,
           -2.2050116062164307,
           -1.234424114227295,
           -0.33769938349723816,
           -1.1037014722824097
          ],
          "id": 199,
          "words": "lógico",
          "x": 0.2493603527545929,
          "y": -0.7089762091636658
         },
         {
          "emb": [
           0.705775797367096,
           1.200912594795227,
           0.5936106443405151,
           1.6798484325408936,
           -1.2995151281356812,
           -0.40601250529289246,
           -0.2060135006904602,
           -0.05767841637134552,
           1.5964303016662598,
           -0.07272184640169144
          ],
          "id": 200,
          "words": "retratada",
          "x": -0.6345176696777344,
          "y": 1.1687965393066406
         },
         {
          "emb": [
           -0.7354882955551147,
           0.023213714361190796,
           0.7966389060020447,
           0.8916592597961426,
           -0.8111354112625122,
           -2.2366437911987305,
           0.7750820517539978,
           -1.616576075553894,
           0.514806866645813,
           0.3989909887313843
          ],
          "id": 201,
          "words": "operações",
          "x": -1.2375664710998535,
          "y": 0.5230502486228943
         },
         {
          "emb": [
           -0.8295122981071472,
           -0.1659928262233734,
           1.35960853099823,
           -0.5697328448295593,
           -0.13221457600593567,
           -0.8370587825775146,
           0.1885904222726822,
           1.2748658657073975,
           -1.2782626152038574,
           0.5895042419433594
          ],
          "id": 202,
          "words": "morten",
          "x": -0.5815068483352661,
          "y": 0.6506214141845703
         },
         {
          "emb": [
           0.2954586446285248,
           0.3656141459941864,
           -1.218718409538269,
           -0.557580828666687,
           1.366919994354248,
           1.024159550666809,
           1.2136720418930054,
           0.26100286841392517,
           1.2341077327728271,
           0.19193659722805023
          ],
          "id": 203,
          "words": "bengali",
          "x": 0.40260565280914307,
          "y": -0.3667663633823395
         },
         {
          "emb": [
           1.042615532875061,
           0.41308191418647766,
           -0.49461475014686584,
           -0.7387291789054871,
           2.4326248168945312,
           -1.4805941581726074,
           -0.17457547783851624,
           0.7075238227844238,
           1.0020350217819214,
           0.4222556948661804
          ],
          "id": 204,
          "words": "modo",
          "x": -1.4791009426116943,
          "y": 0.2903544306755066
         },
         {
          "emb": [
           -0.4744793176651001,
           -0.5855490565299988,
           1.3015780448913574,
           -0.31767499446868896,
           1.3585423231124878,
           -0.2499626874923706,
           0.18351757526397705,
           0.12866751849651337,
           0.4646710455417633,
           -1.0781221389770508
          ],
          "id": 205,
          "words": "normalidade",
          "x": 0.9824861884117126,
          "y": 0.3975820541381836
         },
         {
          "emb": [
           -0.9951549768447876,
           -0.09318333119153976,
           0.07813412696123123,
           -0.16998787224292755,
           0.6990095973014832,
           -0.5283758640289307,
           -0.2681048810482025,
           -0.5459038615226746,
           0.46488216519355774,
           0.9930109977722168
          ],
          "id": 206,
          "words": "justiça",
          "x": -0.837214469909668,
          "y": 0.06625699996948242
         },
         {
          "emb": [
           0.7455427646636963,
           -0.7343606352806091,
           0.0052849543280899525,
           -0.9385599493980408,
           1.7749286890029907,
           1.457811713218689,
           -1.1067832708358765,
           -0.36109352111816406,
           -0.10297434031963348,
           -0.8728454113006592
          ],
          "id": 207,
          "words": "equipamento",
          "x": 1.6563189029693604,
          "y": -0.3560256063938141
         },
         {
          "emb": [
           0.346134215593338,
           -0.2478366643190384,
           0.21325615048408508,
           -0.9662004709243774,
           -0.04942042753100395,
           -0.265762597322464,
           0.5473837852478027,
           0.6307737231254578,
           -1.572513461112976,
           -1.8221808671951294
          ],
          "id": 208,
          "words": "realidade",
          "x": 1.150815486907959,
          "y": -0.933405339717865
         },
         {
          "emb": [
           1.6386799812316895,
           -0.515733540058136,
           -0.04723651707172394,
           0.5157042145729065,
           -1.1092053651809692,
           -0.7973120212554932,
           1.4755337238311768,
           -0.09749540686607361,
           1.1993274688720703,
           -0.765943169593811
          ],
          "id": 209,
          "words": "boa",
          "x": 0.024146130308508873,
          "y": 0.38911953568458557
         },
         {
          "emb": [
           -0.4087144434452057,
           -0.8918544054031372,
           1.248335838317871,
           0.650626003742218,
           1.1875709295272827,
           0.33245179057121277,
           1.0155291557312012,
           1.8871288299560547,
           -0.8381313681602478,
           1.4748215675354004
          ],
          "id": 210,
          "words": "época",
          "x": 0.012280864641070366,
          "y": 1.9513219594955444
         },
         {
          "emb": [
           1.3200583457946777,
           0.14536915719509125,
           0.1248256042599678,
           -1.0743639469146729,
           0.3946727514266968,
           0.3704535663127899,
           0.21833309531211853,
           -1.06941819190979,
           -0.8026764988899231,
           -0.46492114663124084
          ],
          "id": 211,
          "words": "socialmente",
          "x": 0.8923928737640381,
          "y": -0.13462486863136292
         },
         {
          "emb": [
           -0.6549748778343201,
           -0.7721015214920044,
           0.25485214591026306,
           1.4796762466430664,
           -0.012626715004444122,
           1.2004749774932861,
           -0.8767141699790955,
           0.07361292839050293,
           -0.25513750314712524,
           -0.34107866883277893
          ],
          "id": 212,
          "words": "vida",
          "x": 1.1127671003341675,
          "y": 0.22646087408065796
         },
         {
          "emb": [
           -0.7982193827629089,
           -0.5868101119995117,
           0.14000387489795685,
           -0.15126502513885498,
           -1.314721941947937,
           -1.2368909120559692,
           0.3228856325149536,
           0.399418443441391,
           -1.2674978971481323,
           -0.19464872777462006
          ],
          "id": 213,
          "words": "lgbt",
          "x": -0.5795525908470154,
          "y": -0.6759992837905884
         },
         {
          "emb": [
           -0.6079351305961609,
           0.6168025135993958,
           0.4212677478790283,
           0.33552777767181396,
           -0.5561879873275757,
           -0.1769672930240631,
           2.6765151023864746,
           1.0483484268188477,
           -0.22595709562301636,
           0.30514562129974365
          ],
          "id": 214,
          "words": "primeira",
          "x": 0.05989234521985054,
          "y": 0.6609050631523132
         },
         {
          "emb": [
           0.027289927005767822,
           -1.2113664150238037,
           -0.11274781823158264,
           -0.31845951080322266,
           -1.838159203529358,
           -1.1777517795562744,
           -0.8353947401046753,
           1.4494616985321045,
           0.2451842725276947,
           0.7764448523521423
          ],
          "id": 215,
          "words": "lado",
          "x": -1.7691172361373901,
          "y": -0.25436562299728394
         },
         {
          "emb": [
           2.2597265243530273,
           0.8504105806350708,
           -0.49045687913894653,
           -0.6197550892829895,
           0.42535632848739624,
           -0.08337084949016571,
           1.7997568845748901,
           -0.651329755783081,
           0.1892792135477066,
           0.9555515646934509
          ],
          "id": 216,
          "words": "pois",
          "x": -0.3704317808151245,
          "y": 0.8403692841529846
         },
         {
          "emb": [
           0.02995111607015133,
           -1.546836256980896,
           1.4479068517684937,
           1.0497609376907349,
           0.42868176102638245,
           -0.5202929973602295,
           0.41520214080810547,
           -0.34491175413131714,
           0.358747273683548,
           -1.3440802097320557
          ],
          "id": 217,
          "words": "homossexual",
          "x": 1.2427878379821777,
          "y": 0.8293612599372864
         },
         {
          "emb": [
           0.45586761832237244,
           1.0179545879364014,
           -1.151172161102295,
           -0.3322174847126007,
           -1.381807804107666,
           -0.13630656898021698,
           1.5626418590545654,
           -0.8237339854240417,
           -1.3445823192596436,
           1.2988303899765015
          ],
          "id": 218,
          "words": "equipe",
          "x": -0.80865877866745,
          "y": -0.43301793932914734
         },
         {
          "emb": [
           -0.3794262707233429,
           -1.2851552963256836,
           -1.2460888624191284,
           0.5317450165748596,
           -1.4936556816101074,
           -0.2281855195760727,
           -2.7557339668273926,
           2.1421568393707275,
           -0.3341372609138489,
           -0.4075924754142761
          ],
          "id": 219,
          "words": "ia",
          "x": -1.0807278156280518,
          "y": -1.5190322399139404
         },
         {
          "emb": [
           -1.5484555959701538,
           1.815246343612671,
           -0.2751810550689697,
           -0.3273784816265106,
           0.10507059097290039,
           0.3397512137889862,
           -0.5580897331237793,
           -0.6701192259788513,
           0.83146733045578,
           2.1239013671875
          ],
          "id": 220,
          "words": "jovem",
          "x": -1.4796533584594727,
          "y": 0.1002211943268776
         },
         {
          "emb": [
           -0.5403800010681152,
           0.7675595879554749,
           -0.3317018449306488,
           -0.40839752554893494,
           1.2294471263885498,
           -0.9780426621437073,
           -2.673619508743286,
           -0.5220127701759338,
           0.5860083103179932,
           1.5891131162643433
          ],
          "id": 221,
          "words": "condenado",
          "x": -2.2056400775909424,
          "y": -0.0981561467051506
         },
         {
          "emb": [
           -0.007350539788603783,
           -1.1444969177246094,
           -0.5621992349624634,
           0.3786091208457947,
           -1.2255862951278687,
           -1.7028509378433228,
           -2.3255221843719482,
           0.9563626050949097,
           -0.623165488243103,
           1.7696694135665894
          ],
          "id": 222,
          "words": "especialmente",
          "x": -2.8203341960906982,
          "y": -0.16035950183868408
         },
         {
          "emb": [
           -1.0225332975387573,
           0.5216081142425537,
           -0.6908341646194458,
           -0.09839633107185364,
           0.5859165787696838,
           -0.550972580909729,
           -1.7654956579208374,
           0.1794455200433731,
           -0.2525986135005951,
           0.1603619009256363
          ],
          "id": 223,
          "words": "winston",
          "x": -1.0234758853912354,
          "y": -0.9888042211532593
         },
         {
          "emb": [
           -1.2433521747589111,
           1.0533136129379272,
           1.6356397867202759,
           2.8715219497680664,
           0.7336695194244385,
           0.13001815974712372,
           0.8036695122718811,
           1.4704375267028809,
           -0.09858046472072601,
           -1.1088944673538208
          ],
          "id": 224,
          "words": "impedido",
          "x": 1.081651210784912,
          "y": 1.6917279958724976
         },
         {
          "emb": [
           -1.5687726736068726,
           -0.09347472339868546,
           -0.6184158325195312,
           -0.00522252544760704,
           0.07228779792785645,
           -0.4260371923446655,
           0.5716554522514343,
           0.7354301810264587,
           -0.5370064973831177,
           0.4789562225341797
          ],
          "id": 225,
          "words": "autor",
          "x": -0.6278858780860901,
          "y": -0.7395256757736206
         },
         {
          "emb": [
           -0.8094803690910339,
           -0.956615149974823,
           0.1524873822927475,
           -1.194730520248413,
           -0.9549990296363831,
           -1.126166820526123,
           -0.9741162061691284,
           0.2346518188714981,
           0.21886755526065826,
           -0.7729297876358032
          ],
          "id": 226,
          "words": "solicitando",
          "x": -0.556471049785614,
          "y": -1.300233244895935
         },
         {
          "emb": [
           -2.03308367729187,
           -2.402338981628418,
           0.9623833894729614,
           1.2636514902114868,
           1.5596215724945068,
           -0.27527639269828796,
           -0.01877494901418686,
           0.13879024982452393,
           0.9411317110061646,
           -0.33555227518081665
          ],
          "id": 227,
          "words": "primeiro",
          "x": 0.7359447479248047,
          "y": 0.46084022521972656
         },
         {
          "emb": [
           0.945500910282135,
           0.856532633304596,
           -0.9129049181938171,
           1.0420249700546265,
           -0.1841968148946762,
           -0.0070867277681827545,
           0.22498121857643127,
           -0.2809947431087494,
           -0.36492079496383667,
           -0.08599518984556198
          ],
          "id": 228,
          "words": "acordo",
          "x": -0.1534620225429535,
          "y": -0.03841644525527954
         },
         {
          "emb": [
           1.0017791986465454,
           0.16686365008354187,
           -0.9693191051483154,
           -1.7695026397705078,
           -0.8435720801353455,
           -0.747957170009613,
           -0.008462974801659584,
           0.694226861000061,
           -1.1952173709869385,
           1.042786955833435
          ],
          "id": 229,
          "words": "perdão",
          "x": -1.5008111000061035,
          "y": -0.7985118627548218
         },
         {
          "emb": [
           -1.3339813947677612,
           0.1672932654619217,
           -0.13116773962974548,
           -0.4853225350379944,
           0.4577217102050781,
           0.8901001214981079,
           -0.34499800205230713,
           0.38628020882606506,
           -0.8858557939529419,
           0.48253342509269714
          ],
          "id": 230,
          "words": "filha",
          "x": 0.29344630241394043,
          "y": -0.5066063404083252
         },
         {
          "emb": [
           -0.09770049154758453,
           -2.204174518585205,
           0.6067283153533936,
           1.0673484802246094,
           -0.06660501658916473,
           1.1848113536834717,
           0.49134689569473267,
           -0.7389407753944397,
           -0.8018770217895508,
           -0.3993295431137085
          ],
          "id": 231,
          "words": "conclui",
          "x": 1.9561840295791626,
          "y": 0.4557759463787079
         },
         {
          "emb": [
           -0.5547205209732056,
           1.4182184934616089,
           -0.3696679174900055,
           -0.961203932762146,
           0.6532452702522278,
           1.0001543760299683,
           2.0385258197784424,
           0.8605402112007141,
           -0.23919057846069336,
           0.012825163081288338
          ],
          "id": 232,
          "words": "preso",
          "x": 0.6930656433105469,
          "y": -0.28752535581588745
         },
         {
          "emb": [
           -0.4479694962501526,
           0.39520490169525146,
           -0.2288062572479248,
           0.41818496584892273,
           -0.649960458278656,
           -0.8200286030769348,
           2.485994577407837,
           0.26709553599357605,
           1.7756167650222778,
           -0.3394845724105835
          ],
          "id": 233,
          "words": "entretanto",
          "x": -0.3252665102481842,
          "y": 0.021517174318432808
         },
         {
          "emb": [
           -1.1066982746124268,
           -1.1426997184753418,
           -0.03442591428756714,
           1.386940360069275,
           0.46166688203811646,
           0.6500607132911682,
           -0.45496371388435364,
           0.6747949719429016,
           -0.784157395362854,
           2.235311985015869
          ],
          "id": 234,
          "words": "memorial",
          "x": -0.6446080803871155,
          "y": 0.9947731494903564
         },
         {
          "emb": [
           0.3748117983341217,
           -0.23866666853427887,
           1.2199844121932983,
           1.4316385984420776,
           -0.13775883615016937,
           0.6417946815490723,
           0.19914580881595612,
           0.09007950127124786,
           -0.6035051345825195,
           1.9175645112991333
          ],
          "id": 235,
          "words": "formal",
          "x": -0.1602230966091156,
          "y": 2.2846426963806152
         },
         {
          "emb": [
           -0.07447286695241928,
           -0.7491593360900879,
           0.2672971785068512,
           -0.6393130421638489,
           0.5065740346908569,
           -0.8721694350242615,
           -0.8808507323265076,
           -0.6536011695861816,
           -1.962742567062378,
           -0.2687878906726837
          ],
          "id": 236,
          "words": "cremado",
          "x": 0.00975355226546526,
          "y": -0.571819007396698
         },
         {
          "emb": [
           -0.09350936114788055,
           1.0820904970169067,
           -0.9383664727210999,
           0.46580153703689575,
           -0.9708160161972046,
           -1.076945424079895,
           0.19061537086963654,
           0.559792697429657,
           0.15234413743019104,
           0.0777389332652092
          ],
          "id": 237,
          "words": "especula",
          "x": -1.3734596967697144,
          "y": -0.6008079648017883
         },
         {
          "emb": [
           1.3420794010162354,
           1.5203850269317627,
           0.15092816948890686,
           1.004947304725647,
           -0.22111216187477112,
           -0.46577852964401245,
           -1.1346219778060913,
           -0.21145100891590118,
           0.4206065237522125,
           1.6865993738174438
          ],
          "id": 238,
          "words": "passagens",
          "x": -1.746868371963501,
          "y": 1.503374457359314
         },
         {
          "emb": [
           -0.24473834037780762,
           -0.32100924849510193,
           -0.37798553705215454,
           2.931292772293091,
           1.3936041593551636,
           0.07973480969667435,
           -0.33266979455947876,
           -0.3761262893676758,
           -0.6191523671150208,
           1.5447642803192139
          ],
          "id": 239,
          "words": "britânica",
          "x": -0.49664703011512756,
          "y": 1.390614628791809
         },
         {
          "emb": [
           0.4476434886455536,
           -1.5873247385025024,
           0.35610130429267883,
           0.5003149509429932,
           0.9278165102005005,
           -1.2296782732009888,
           0.3347865641117096,
           0.1328016221523285,
           1.615487813949585,
           1.1723887920379639
          ],
          "id": 240,
          "words": "casa",
          "x": -1.1966334581375122,
          "y": 1.2179967164993286
         },
         {
          "emb": [
           -1.4117461442947388,
           1.0054534673690796,
           0.9519972205162048,
           -1.5842617750167847,
           0.8716257214546204,
           -0.05879095196723938,
           0.4006812870502472,
           0.7604227662086487,
           1.4230409860610962,
           -1.089375615119934
          ],
          "id": 241,
          "words": "durante",
          "x": 0.44512760639190674,
          "y": -0.4411843419075012
         },
         {
          "emb": [
           -0.9512180089950562,
           -0.9854987859725952,
           2.0492708683013916,
           -0.7048221826553345,
           0.5075726509094238,
           -0.16331401467323303,
           -0.5778635740280151,
           1.613638162612915,
           0.12087909132242203,
           1.6177724599838257
          ],
          "id": 242,
          "words": "cabeceira",
          "x": -0.749330461025238,
          "y": 1.6379057168960571
         },
         {
          "emb": [
           -0.404509574174881,
           -0.15679746866226196,
           -2.0526010990142822,
           -0.48024895787239075,
           -1.2948739528656006,
           -2.257390260696411,
           -1.067368507385254,
           0.8579810857772827,
           1.11556077003479,
           -1.2326586246490479
          ],
          "id": 243,
          "words": "inglês",
          "x": -2.023200035095215,
          "y": -2.635944366455078
         },
         {
          "emb": [
           -0.5575452446937561,
           0.18918104469776154,
           0.8254663944244385,
           2.040916919708252,
           1.629751443862915,
           0.7666311860084534,
           -2.3888938426971436,
           0.8685935735702515,
           -1.4408236742019653,
           1.03501558303833
          ],
          "id": 244,
          "words": "alemães",
          "x": -0.06477712839841843,
          "y": 1.500801920890808
         },
         {
          "emb": [
           0.3894504904747009,
           -0.3033181130886078,
           -0.6347061395645142,
           -1.6966626644134521,
           0.42820677161216736,
           -0.409254789352417,
           -2.0674211978912354,
           -0.6976186037063599,
           -0.256072461605072,
           1.416977882385254
          ],
          "id": 245,
          "words": "afirmativo",
          "x": -1.480032205581665,
          "y": -0.696980357170105
         },
         {
          "emb": [
           -2.7218754291534424,
           -0.14923572540283203,
           0.18517732620239258,
           0.19844947755336761,
           -0.35343778133392334,
           0.7062636017799377,
           -0.9747831225395203,
           -0.8709914684295654,
           -0.30317503213882446,
           0.23342421650886536
          ],
          "id": 246,
          "words": "flowers",
          "x": 0.3819630444049835,
          "y": -0.8926591873168945
         },
         {
          "emb": [
           0.507084846496582,
           0.2844803035259247,
           -0.8308400511741638,
           0.49651992321014404,
           1.4311634302139282,
           1.129237174987793,
           0.2793535590171814,
           -0.9192176461219788,
           -1.1998646259307861,
           -1.6445847749710083
          ],
          "id": 247,
          "words": "alex",
          "x": 2.0539968013763428,
          "y": -0.8309656381607056
         },
         {
          "emb": [
           0.1254919171333313,
           0.5092079639434814,
           0.7111877799034119,
           -0.7152965068817139,
           1.0218311548233032,
           0.0040204524993896484,
           -1.508000135421753,
           1.0398976802825928,
           -0.4732566475868225,
           1.1739256381988525
          ],
          "id": 248,
          "words": "suicídio",
          "x": -0.9136949181556702,
          "y": 0.797686755657196
         },
         {
          "emb": [
           -0.6707388758659363,
           -2.1597821712493896,
           0.15269051492214203,
           -0.13805072009563446,
           -0.8018327951431274,
           -0.21822293102741241,
           -0.1185968667268753,
           -1.206785798072815,
           0.30678215622901917,
           -1.9965263605117798
          ],
          "id": 249,
          "words": "intelligence",
          "x": 1.4575600624084473,
          "y": -1.388321876525879
         },
         {
          "emb": [
           1.572618842124939,
           -1.0284470319747925,
           1.3048288822174072,
           0.5571982264518738,
           -0.5285364985466003,
           -0.7957288026809692,
           0.7066425681114197,
           0.3547731339931488,
           -0.8672435879707336,
           -0.04149208962917328
          ],
          "id": 250,
          "words": "afirmado",
          "x": 0.15863852202892303,
          "y": 1.4814934730529785
         },
         {
          "emb": [
           -1.0283008813858032,
           -0.8379811644554138,
           0.8956510424613953,
           -0.7803735733032227,
           -0.8746901154518127,
           0.65545254945755,
           -0.32343819737434387,
           0.5630788803100586,
           1.5600731372833252,
           -1.8663984537124634
          ],
          "id": 251,
          "words": "quanto",
          "x": 1.3650606870651245,
          "y": -0.7961971759796143
         },
         {
          "emb": [
           -0.3124491572380066,
           0.9112955927848816,
           -0.1954735517501831,
           -1.0779792070388794,
           -0.44687405228614807,
           0.03843611106276512,
           -0.5623623728752136,
           -0.7946990728378296,
           -1.1488025188446045,
           -1.5720458030700684
          ],
          "id": 252,
          "words": "favorito",
          "x": 0.8236405253410339,
          "y": -1.589722990989685
         },
         {
          "emb": [
           1.331793189048767,
           0.990978479385376,
           -0.9762558937072754,
           -0.16084033250808716,
           0.9161933660507202,
           -1.1474279165267944,
           -1.3090319633483887,
           -0.6484651565551758,
           0.5346713662147522,
           0.4630287289619446
          ],
          "id": 253,
          "words": "setembro",
          "x": -1.5825245380401611,
          "y": -0.2044554203748703
         },
         {
          "emb": [
           -0.08759763091802597,
           -1.6781476736068726,
           -0.11615125834941864,
           -0.9560055732727051,
           -0.4067035913467407,
           0.8576143383979797,
           -0.625511109828949,
           0.7997654676437378,
           -0.8160406947135925,
           1.6131855249404907
          ],
          "id": 254,
          "words": "argumentou",
          "x": -0.3241376280784607,
          "y": 0.01070467196404934
         },
         {
          "emb": [
           0.8755890130996704,
           0.07518423348665237,
           -0.9091850519180298,
           0.6781691312789917,
           -0.19683143496513367,
           2.0821266174316406,
           -0.3748602867126465,
           -0.6539135575294495,
           -0.00811409205198288,
           0.453921914100647
          ],
          "id": 255,
          "words": "organismo",
          "x": 0.9694783687591553,
          "y": 0.04352796450257301
         },
         {
          "emb": [
           -1.1189388036727905,
           -0.32999327778816223,
           0.13275620341300964,
           -0.09430668503046036,
           0.5643874406814575,
           0.43588927388191223,
           -0.1908676028251648,
           -0.323068767786026,
           -0.10659565031528473,
           -1.331180214881897
          ],
          "id": 256,
          "words": "telefilme",
          "x": 1.2551085948944092,
          "y": -0.8832050561904907
         },
         {
          "emb": [
           0.24201688170433044,
           0.9100900292396545,
           0.9117804169654846,
           -0.4867965579032898,
           0.545299768447876,
           1.311713695526123,
           -0.35643962025642395,
           0.751347005367279,
           0.054252468049526215,
           1.09566068649292
          ],
          "id": 257,
          "words": "gordon",
          "x": 0.17392665147781372,
          "y": 1.226408839225769
         },
         {
          "emb": [
           1.49264657497406,
           1.3961460590362549,
           0.5448687672615051,
           0.3817498981952667,
           0.5755020976066589,
           -0.07013702392578125,
           -0.0324275866150856,
           0.7993953227996826,
           0.4101354479789734,
           0.052673786878585815
          ],
          "id": 258,
          "words": "bem",
          "x": -0.2947298586368561,
          "y": 1.282441258430481
         },
         {
          "emb": [
           2.021883964538574,
           0.17914220690727234,
           1.569659948348999,
           2.4248831272125244,
           -1.843917727470398,
           1.3104825019836426,
           0.40020453929901123,
           -0.40531083941459656,
           -0.20956861972808838,
           0.5218145251274109
          ],
          "id": 259,
          "words": "consistia",
          "x": 1.0248873233795166,
          "y": 2.6930227279663086
         },
         {
          "emb": [
           -1.1683776378631592,
           0.3843871057033539,
           -0.4117654263973236,
           -0.8753128051757812,
           2.138716220855713,
           -0.15779681503772736,
           1.5361297130584717,
           -0.7503254413604736,
           0.47153377532958984,
           -0.5492777824401855
          ],
          "id": 260,
          "words": "tido",
          "x": 0.6577015519142151,
          "y": -0.7852402329444885
         },
         {
          "emb": [
           -1.0232716798782349,
           0.6160258650779724,
           0.6769014596939087,
           -1.165239930152893,
           1.0727651119232178,
           -0.5163818001747131,
           -0.5014076828956604,
           0.6537607312202454,
           0.3216007947921753,
           0.8160783648490906
          ],
          "id": 261,
          "words": "uniu",
          "x": -0.9363352656364441,
          "y": 0.2112244814634323
         },
         {
          "emb": [
           -1.166792869567871,
           0.5336351990699768,
           1.0171265602111816,
           -1.8331315517425537,
           0.8262307047843933,
           0.308572918176651,
           -1.0491093397140503,
           1.5051767826080322,
           1.3841264247894287,
           1.5014402866363525
          ],
          "id": 262,
          "words": "física",
          "x": -1.1439136266708374,
          "y": 0.5648844242095947
         },
         {
          "emb": [
           0.913581371307373,
           1.8423866033554077,
           -0.06492239236831665,
           -0.873501181602478,
           -1.2709587812423706,
           0.42703619599342346,
           -0.9002029299736023,
           -1.2683366537094116,
           -0.6593530178070068,
           -1.233148217201233
          ],
          "id": 263,
          "words": "obe",
          "x": 0.6222718358039856,
          "y": -0.9521294236183167
         },
         {
          "emb": [
           0.7106996178627014,
           1.4902136325836182,
           -1.598710536956787,
           0.22279511392116547,
           0.8945046067237854,
           0.14970745146274567,
           -1.2804731130599976,
           0.513738751411438,
           -0.642157256603241,
           0.23972098529338837
          ],
          "id": 264,
          "words": "infância",
          "x": -0.8340997099876404,
          "y": -0.7080780863761902
         },
         {
          "emb": [
           -0.4021921157836914,
           -0.38243094086647034,
           1.101505994796753,
           -0.06132286787033081,
           0.21675263345241547,
           0.7814788818359375,
           -0.5045860409736633,
           0.5381036996841431,
           -0.3215230107307434,
           0.03750823810696602
          ],
          "id": 265,
          "words": "oficial",
          "x": 0.7259069085121155,
          "y": 0.6316444873809814
         },
         {
          "emb": [
           0.7005820274353027,
           2.2884459495544434,
           0.9843543767929077,
           0.1913076490163803,
           0.0029888791032135487,
           0.592042863368988,
           0.7077468633651733,
           -1.577612042427063,
           0.21739156544208527,
           0.005315389484167099
          ],
          "id": 266,
          "words": "homossexuais",
          "x": 0.6722503304481506,
          "y": 1.1087170839309692
         },
         {
          "emb": [
           -0.2749941647052765,
           0.5787044763565063,
           -0.2744338810443878,
           0.11813776195049286,
           1.8881890773773193,
           -1.2088699340820312,
           0.3201495409011841,
           0.3935112953186035,
           0.22013024985790253,
           0.01972469501197338
          ],
          "id": 267,
          "words": "comprovados",
          "x": -0.7984545230865479,
          "y": 0.05532365292310715
         },
         {
          "emb": [
           -0.2450258582830429,
           0.731896162033081,
           0.6251096129417419,
           -0.4793524742126465,
           -1.6629655361175537,
           0.48842233419418335,
           1.134613275527954,
           0.18609003722667694,
           -0.9423441886901855,
           0.278170108795166
          ],
          "id": 268,
          "words": "history",
          "x": 0.3287881910800934,
          "y": 0.17659933865070343
         },
         {
          "emb": [
           -0.8811085820198059,
           1.207861304283142,
           0.2357259839773178,
           -1.623430848121643,
           1.1811282634735107,
           0.1715015321969986,
           0.7485684156417847,
           -0.8033872842788696,
           -1.2821130752563477,
           -1.4120709896087646
          ],
          "id": 269,
          "words": "much",
          "x": 1.3491641283035278,
          "y": -1.1893093585968018
         },
         {
          "emb": [
           0.9223227500915527,
           -0.18950463831424713,
           0.2018747627735138,
           1.412409782409668,
           0.3648974597454071,
           0.35270068049430847,
           0.3706837296485901,
           -0.6114175319671631,
           1.32659912109375,
           -0.3183184266090393
          ],
          "id": 270,
          "words": "dia",
          "x": 0.6132144331932068,
          "y": 0.9731872081756592
         },
         {
          "emb": [
           -1.5067514181137085,
           0.40682920813560486,
           -0.5332028865814209,
           -0.1653243750333786,
           -1.8481684923171997,
           -0.45576295256614685,
           0.9235159158706665,
           -1.3120054006576538,
           0.07308536022901535,
           -1.3720647096633911
          ],
          "id": 271,
          "words": "fim",
          "x": 0.4675399959087372,
          "y": -1.839288592338562
         },
         {
          "emb": [
           0.41267088055610657,
           0.8868659138679504,
           0.39605340361595154,
           1.5597314834594727,
           0.8989768028259277,
           -0.618126630783081,
           -0.06810023635625839,
           -0.0504753477871418,
           -1.93440842628479,
           -0.6054527163505554
          ],
          "id": 272,
          "words": "encenando",
          "x": 0.3226775527000427,
          "y": 0.6614721417427063
         },
         {
          "emb": [
           -0.3056490421295166,
           -0.26644688844680786,
           -0.7951799035072327,
           -0.5789427161216736,
           0.8915842771530151,
           1.4942224025726318,
           0.2651754915714264,
           0.07909110933542252,
           0.5751439929008484,
           -0.5185317397117615
          ],
          "id": 273,
          "words": "diferenciar",
          "x": 1.2142527103424072,
          "y": -0.8397912979125977
         },
         {
          "emb": [
           1.1210260391235352,
           -1.4288594722747803,
           0.05520038306713104,
           1.0591193437576294,
           0.9416095614433289,
           -1.041494607925415,
           0.18843334913253784,
           -0.7850615978240967,
           -1.5297785997390747,
           -1.4029179811477661
          ],
          "id": 274,
          "words": "velho",
          "x": 0.9171167612075806,
          "y": -0.006788268219679594
         },
         {
          "emb": [
           0.02747989445924759,
           0.42841923236846924,
           2.5838892459869385,
           1.6676750183105469,
           -0.4574064016342163,
           0.9951665997505188,
           -0.36155688762664795,
           0.22036147117614746,
           -0.0014592098305001855,
           -1.0737651586532593
          ],
          "id": 275,
          "words": "condado",
          "x": 1.7721986770629883,
          "y": 1.9768941402435303
         },
         {
          "emb": [
           -0.43957486748695374,
           0.32676365971565247,
           1.444332242012024,
           -0.5270106196403503,
           0.5312424302101135,
           0.272722065448761,
           2.488067626953125,
           -1.2351490259170532,
           -0.9271971583366394,
           -0.38688191771507263
          ],
          "id": 276,
          "words": "bombas",
          "x": 1.6379847526550293,
          "y": 0.7302096486091614
         },
         {
          "emb": [
           0.7542706727981567,
           -1.095258116722107,
           0.3384478688240051,
           0.5882837772369385,
           -0.14219334721565247,
           2.1034042835235596,
           0.4757557511329651,
           0.9328078031539917,
           0.623030960559845,
           -0.4058012068271637
          ],
          "id": 277,
          "words": "lawther",
          "x": 1.796974539756775,
          "y": 0.7520952224731445
         },
         {
          "emb": [
           0.9393232464790344,
           -0.8798409700393677,
           -0.10174963623285294,
           -0.7825435400009155,
           -0.4881381392478943,
           0.8827043175697327,
           0.7235245108604431,
           -1.5175286531448364,
           1.7459733486175537,
           -0.4677713215351105
          ],
          "id": 278,
          "words": "paul",
          "x": 1.0889497995376587,
          "y": -0.23043371737003326
         },
         {
          "emb": [
           -1.4366399049758911,
           0.7949166893959045,
           1.2419538497924805,
           -0.22570385038852692,
           0.9084896445274353,
           0.8484413623809814,
           0.389081746339798,
           -2.5922107696533203,
           -1.2912781238555908,
           0.14552494883537292
          ],
          "id": 279,
          "words": "concedida",
          "x": 1.5057531595230103,
          "y": 0.2843044400215149
         },
         {
          "emb": [
           -0.4393664002418518,
           0.27422210574150085,
           -0.12323127686977386,
           0.00037103594513610005,
           1.3856126070022583,
           0.2988196909427643,
           -0.43893808126449585,
           0.3531505763530731,
           -0.20169828832149506,
           -0.42517104744911194
          ],
          "id": 280,
          "words": "belousov",
          "x": 0.4179532527923584,
          "y": -0.2543298006057739
         },
         {
          "emb": [
           -0.4710093140602112,
           0.14930212497711182,
           -1.3572348356246948,
           1.208478569984436,
           1.0018713474273682,
           0.8247082233428955,
           1.0295400619506836,
           -0.1451878696680069,
           0.3465840518474579,
           1.503806710243225
          ],
          "id": 281,
          "words": "stoney",
          "x": -0.3004298806190491,
          "y": 0.2551570236682892
         },
         {
          "emb": [
           -0.1544942557811737,
           0.3423246443271637,
           1.4193834066390991,
           1.1145418882369995,
           0.21450497210025787,
           -2.289355516433716,
           0.8999549150466919,
           0.286274254322052,
           -0.05754602327942848,
           0.3763905167579651
          ],
          "id": 282,
          "words": "ver",
          "x": -1.2588781118392944,
          "y": 1.5390455722808838
         },
         {
          "emb": [
           1.007256269454956,
           0.34717872738838196,
           1.8226823806762695,
           1.3349835872650146,
           -0.3430461585521698,
           -0.2352173775434494,
           1.2811870574951172,
           -0.3175426721572876,
           0.002132612047716975,
           -0.4707091450691223
          ],
          "id": 283,
          "words": "too",
          "x": 0.8517877459526062,
          "y": 1.9873191118240356
         },
         {
          "emb": [
           -0.3380294740200043,
           0.2673596143722534,
           0.11756500601768494,
           0.5495251417160034,
           -1.7497498989105225,
           0.2719177305698395,
           -0.3771328926086426,
           -0.865729808807373,
           -1.2762956619262695,
           -0.4599224328994751
          ],
          "id": 284,
          "words": "perguntas",
          "x": 0.5078643560409546,
          "y": -0.5195373296737671
         },
         {
          "emb": [
           1.1591721773147583,
           0.24814458191394806,
           -0.4973447620868683,
           0.20525199174880981,
           0.23246698081493378,
           -0.18316148221492767,
           -0.21426324546337128,
           -0.5336776375770569,
           1.1811145544052124,
           0.3917640745639801
          ],
          "id": 285,
          "words": "formalização",
          "x": -0.5894058346748352,
          "y": 0.3051619231700897
         },
         {
          "emb": [
           0.3442706763744354,
           0.9509745836257935,
           -1.355458378791809,
           -0.1570124477148056,
           -1.136669397354126,
           -0.47993630170822144,
           0.6521297097206116,
           1.62869393825531,
           -0.0828595831990242,
           1.3400834798812866
          ],
          "id": 286,
          "words": "sido",
          "x": -1.8800841569900513,
          "y": -0.3085089921951294
         },
         {
          "emb": [
           1.0578032732009888,
           0.3139534592628479,
           1.0711634159088135,
           0.04414119943976402,
           1.0789635181427002,
           0.9146344661712646,
           -0.9055079817771912,
           -2.040679931640625,
           -0.27839377522468567,
           -1.9955164194107056
          ],
          "id": 287,
          "words": "armazenamento",
          "x": 2.342926502227783,
          "y": 0.17963367700576782
         },
         {
          "emb": [
           -2.1896989345550537,
           -0.12764546275138855,
           0.3108881115913391,
           0.3098023235797882,
           -0.7570809721946716,
           -0.2679991126060486,
           0.04022764787077904,
           0.15161234140396118,
           1.6148730516433716,
           -0.8217185139656067
          ],
          "id": 288,
          "words": "seguindo",
          "x": 0.06452557444572449,
          "y": -0.760208785533905
         },
         {
          "emb": [
           -0.410237580537796,
           -1.411852240562439,
           -1.1254396438598633,
           -1.051590919494629,
           -1.8400713205337524,
           -0.24543417990207672,
           0.9572364687919617,
           -0.7067596912384033,
           1.6716877222061157,
           0.845656156539917
          ],
          "id": 289,
          "words": "project",
          "x": -0.8635796308517456,
          "y": -1.1674542427062988
         },
         {
          "emb": [
           0.16164332628250122,
           -0.6921671628952026,
           0.10845761001110077,
           0.17572441697120667,
           0.4336310625076294,
           0.46097102761268616,
           -0.7726845741271973,
           -0.8491294980049133,
           0.806200385093689,
           -0.9243459701538086
          ],
          "id": 290,
          "words": "pudesse",
          "x": 0.9336036443710327,
          "y": -0.2750255763530731
         },
         {
          "emb": [
           -0.4731995165348053,
           0.7851350903511047,
           0.43483975529670715,
           -1.6524269580841064,
           0.9668760895729065,
           -0.09096688032150269,
           0.7425442934036255,
           -1.3594499826431274,
           -0.9957618713378906,
           -1.4481033086776733
          ],
          "id": 291,
          "words": "moderno",
          "x": 1.3442450761795044,
          "y": -1.0301693677902222
         },
         {
          "emb": [
           0.0030835235957056284,
           1.1572085618972778,
           2.0475900173187256,
           3.40732479095459,
           1.3448331356048584,
           -0.4959082305431366,
           0.12271851301193237,
           -0.7880467772483826,
           0.30545318126678467,
           -0.9124768376350403
          ],
          "id": 292,
          "words": "estabelecido",
          "x": 0.929646909236908,
          "y": 2.4920437335968018
         },
         {
          "emb": [
           -0.4717451333999634,
           0.4946780502796173,
           0.8131183981895447,
           -0.8401097655296326,
           0.0741860494017601,
           2.4929587841033936,
           1.4410892724990845,
           1.2143964767456055,
           0.10040968656539917,
           -0.5987932085990906
          ],
          "id": 293,
          "words": "casal",
          "x": 2.214451313018799,
          "y": 0.32019731402397156
         },
         {
          "emb": [
           -0.8599444627761841,
           0.023277413100004196,
           -0.7088279724121094,
           2.250276803970337,
           -2.2537193298339844,
           1.0429027080535889,
           0.3405279815196991,
           -0.0180783923715353,
           0.02781987376511097,
           -0.23316292464733124
          ],
          "id": 294,
          "words": "previu",
          "x": 0.5558927655220032,
          "y": -0.3378216624259949
         },
         {
          "emb": [
           0.958942174911499,
           0.05948549881577492,
           -0.7559800148010254,
           -0.12850449979305267,
           -1.60902738571167,
           -1.5718563795089722,
           0.5413897037506104,
           -0.3548123240470886,
           -0.6012045741081238,
           -0.552065372467041
          ],
          "id": 295,
          "words": "ics",
          "x": -0.8827584385871887,
          "y": -0.879322350025177
         },
         {
          "emb": [
           0.48625001311302185,
           -0.05775805935263634,
           -1.2461621761322021,
           -0.07488591969013214,
           -0.24389171600341797,
           -1.3862779140472412,
           -1.029672384262085,
           0.1258486807346344,
           0.3985437750816345,
           -0.6389690637588501
          ],
          "id": 296,
          "words": "feitos",
          "x": -1.1996086835861206,
          "y": -1.267881989479065
         },
         {
          "emb": [
           1.2904869318008423,
           -0.12501603364944458,
           -1.2521445751190186,
           -0.0057860142551362514,
           0.35623636841773987,
           0.35057562589645386,
           0.28769928216934204,
           0.21511223912239075,
           2.194488048553467,
           1.1377347707748413
          ],
          "id": 297,
          "words": "mortem",
          "x": -0.9464089274406433,
          "y": 0.29351043701171875
         },
         {
          "emb": [
           1.1197623014450073,
           0.2370404154062271,
           0.7916760444641113,
           -0.5395137667655945,
           0.43318986892700195,
           -0.8914200067520142,
           -0.925472617149353,
           -0.43957194685935974,
           2.6811182498931885,
           -0.19004960358142853
          ],
          "id": 298,
          "words": "químicos",
          "x": -0.7977088689804077,
          "y": 0.7387869954109192
         },
         {
          "emb": [
           -1.3173149824142456,
           -0.7842704653739929,
           -0.8483425974845886,
           -0.3702375590801239,
           0.2980102598667145,
           0.8316357731819153,
           0.22279976308345795,
           -0.36788713932037354,
           0.040778256952762604,
           -2.351285457611084
          ],
          "id": 299,
          "words": "filho",
          "x": 1.973736047744751,
          "y": -2.165367603302002
         },
         {
          "emb": [
           1.1513959169387817,
           -1.6290663480758667,
           0.6857753992080688,
           1.1274551153182983,
           1.1112208366394043,
           0.2958242893218994,
           -0.7158331871032715,
           0.37263739109039307,
           0.017254039645195007,
           -0.04590996727347374
          ],
          "id": 300,
          "words": "sodomia",
          "x": 0.6467154622077942,
          "y": 1.2766590118408203
         },
         {
          "emb": [
           1.6319807767868042,
           -0.2324744313955307,
           0.3657304346561432,
           0.15702149271965027,
           -0.09760261327028275,
           -1.8022778034210205,
           -1.7182743549346924,
           -0.565292477607727,
           0.7995792031288147,
           -0.998167872428894
          ],
          "id": 301,
          "words": "corria",
          "x": -0.8918145895004272,
          "y": 0.08470799773931503
         },
         {
          "emb": [
           -1.092305302619934,
           -0.13385449349880219,
           1.1198793649673462,
           -0.6087909936904907,
           0.4803995192050934,
           0.20975686609745026,
           1.2907156944274902,
           0.09445656090974808,
           0.10917795449495316,
           1.528972864151001
          ],
          "id": 302,
          "words": "poção",
          "x": -0.15643852949142456,
          "y": 1.0795831680297852
         },
         {
          "emb": [
           -0.3018024265766144,
           -0.3225790858268738,
           -0.0354195274412632,
           0.2399398535490036,
           -0.07571969926357269,
           2.570652484893799,
           -0.7054154872894287,
           -0.2735397517681122,
           0.17263951897621155,
           -1.3589065074920654
          ],
          "id": 303,
          "words": "referências",
          "x": 2.4640519618988037,
          "y": -0.6155700087547302
         },
         {
          "emb": [
           0.6141394972801208,
           0.005377663299441338,
           0.9491115212440491,
           -1.1277798414230347,
           -1.1614660024642944,
           -0.6217620372772217,
           1.041948914527893,
           -1.2891631126403809,
           0.563753068447113,
           1.807405948638916
          ],
          "id": 304,
          "words": "crescer",
          "x": -1.0352340936660767,
          "y": 1.0632743835449219
         },
         {
          "emb": [
           0.7542140483856201,
           -0.33818551898002625,
           0.32298794388771057,
           -0.1437542587518692,
           0.05768200382590294,
           -0.5056170225143433,
           -0.2714109420776367,
           -0.3200337290763855,
           -1.4032437801361084,
           -0.6779064536094666
          ],
          "id": 305,
          "words": "viajaram",
          "x": 0.39339613914489746,
          "y": -0.11099514365196228
         },
         {
          "emb": [
           0.6598826050758362,
           -0.26297658681869507,
           -0.05940905585885048,
           1.5346078872680664,
           1.8360925912857056,
           0.03169289231300354,
           0.17970655858516693,
           -0.714045524597168,
           -1.9633394479751587,
           0.16350698471069336
          ],
          "id": 306,
          "words": "encontrada",
          "x": 0.6937918663024902,
          "y": 0.8165760040283203
         },
         {
          "emb": [
           2.1707777976989746,
           -0.5689263939857483,
           0.4441254734992981,
           -0.09373889863491058,
           0.4085293710231781,
           -1.7959368228912354,
           -0.43804988265037537,
           0.9252156019210815,
           0.9845476150512695,
           0.4730016887187958
          ],
          "id": 307,
          "words": "antes",
          "x": -1.6300491094589233,
          "y": 1.2175748348236084
         },
         {
          "emb": [
           -0.6758267879486084,
           1.837855339050293,
           -1.030150055885315,
           0.9157320857048035,
           -0.7705391645431519,
           -0.9752461910247803,
           -2.5573856830596924,
           -0.08547001332044601,
           -1.7794053554534912,
           0.5756837725639343
          ],
          "id": 308,
          "words": "barão",
          "x": -1.8857030868530273,
          "y": -0.9804946780204773
         },
         {
          "emb": [
           0.2513889670372009,
           0.07903680205345154,
           1.465057134628296,
           -0.3687781095504761,
           1.107553482055664,
           0.26604583859443665,
           0.04081138223409653,
           1.167248249053955,
           0.9488663077354431,
           -1.341392159461975
          ],
          "id": 309,
          "words": "conto",
          "x": 1.0968278646469116,
          "y": 0.779453456401825
         },
         {
          "emb": [
           -0.3077917695045471,
           0.013213309459388256,
           0.1025964617729187,
           0.22056765854358673,
           0.9018369317054749,
           -1.5526763200759888,
           -1.6613366603851318,
           -0.5770227909088135,
           0.9667341113090515,
           -1.5562421083450317
          ],
          "id": 310,
          "words": "externas",
          "x": -0.39789626002311707,
          "y": -0.776646614074707
         },
         {
          "emb": [
           1.0484960079193115,
           -1.063148856163025,
           0.6213020086288452,
           -1.4985982179641724,
           0.6549539566040039,
           1.0384712219238281,
           -1.7679284811019897,
           0.12391156703233719,
           1.2046513557434082,
           -1.3079193830490112
          ],
          "id": 311,
          "words": "waller",
          "x": 1.2621023654937744,
          "y": -0.3302454948425293
         },
         {
          "emb": [
           0.2751464545726776,
           -0.7305442094802856,
           -1.10935640335083,
           -0.14025667309761047,
           1.0719999074935913,
           -0.35257837176322937,
           -0.5781963467597961,
           -0.0548793263733387,
           1.734636902809143,
           -1.446040391921997
          ],
          "id": 312,
          "words": "pode",
          "x": 0.21161891520023346,
          "y": -1.2289023399353027
         },
         {
          "emb": [
           -2.1933634281158447,
           -0.19256716966629028,
           0.38876020908355713,
           0.09743448346853256,
           1.3374671936035156,
           -1.3216944932937622,
           0.13677839934825897,
           -0.5867535471916199,
           -0.4245784282684326,
           0.6972046494483948
          ],
          "id": 313,
          "words": "ligações",
          "x": -0.8086623549461365,
          "y": -0.13476982712745667
         },
         {
          "emb": [
           -1.519600510597229,
           1.1169861555099487,
           0.6465374231338501,
           0.5407747626304626,
           0.20853452384471893,
           -0.7432643175125122,
           0.6145501136779785,
           -1.4134025573730469,
           0.9393842816352844,
           0.8269035816192627
          ],
          "id": 314,
          "words": "conhecido",
          "x": -0.7119218707084656,
          "y": 0.5393943190574646
         },
         {
          "emb": [
           0.2570270895957947,
           0.011045520193874836,
           1.8086519241333008,
           -0.1943999081850052,
           -0.37764453887939453,
           -0.02365158312022686,
           1.42327082157135,
           0.002891534473747015,
           0.4154941439628601,
           -0.33458924293518066
          ],
          "id": 315,
          "words": "apoio",
          "x": 0.819084107875824,
          "y": 1.2976410388946533
         },
         {
          "emb": [
           -2.4685354232788086,
           0.08579453080892563,
           -0.8812326788902283,
           0.4434281587600708,
           -0.7538793683052063,
           -1.6693317890167236,
           0.05131172761321068,
           -0.2422240972518921,
           -0.2520688474178314,
           0.0012544345809146762
          ],
          "id": 316,
          "words": "rejewski",
          "x": -1.3551559448242188,
          "y": -1.58626127243042
         },
         {
          "emb": [
           -0.3341023027896881,
           1.1841259002685547,
           -0.98838871717453,
           -2.1075997352600098,
           -2.036410331726074,
           1.1703795194625854,
           0.3574313819408417,
           0.689324140548706,
           -0.7621139287948608,
           -0.9217053055763245
          ],
          "id": 317,
          "words": "centro",
          "x": 0.6143154501914978,
          "y": -2.134563684463501
         },
         {
          "emb": [
           -0.11746110022068024,
           -0.4131802022457123,
           1.2153013944625854,
           0.622140109539032,
           -0.1437002420425415,
           1.149770975112915,
           -0.2316068559885025,
           -0.25042402744293213,
           -0.08972493559122086,
           0.2385098785161972
          ],
          "id": 318,
          "words": "tal",
          "x": 1.0446290969848633,
          "y": 1.0942013263702393
         },
         {
          "emb": [
           -0.1314523071050644,
           1.375474452972412,
           -0.9326249957084656,
           -0.4430866539478302,
           0.8669474720954895,
           -1.0775166749954224,
           -0.16912339627742767,
           0.8335140943527222,
           2.2369461059570312,
           0.1614469736814499
          ],
          "id": 319,
          "words": "matado",
          "x": -1.7053471803665161,
          "y": -0.4569106698036194
         },
         {
          "emb": [
           -0.7219236493110657,
           0.9062358736991882,
           0.17462918162345886,
           -0.8426389098167419,
           -0.8502076864242554,
           -0.6095187664031982,
           -0.45046016573905945,
           0.8635309338569641,
           -0.7750664949417114,
           -0.38677653670310974
          ],
          "id": 320,
          "words": "filme",
          "x": -0.5737859010696411,
          "y": -0.7808552980422974
         },
         {
          "emb": [
           0.17030814290046692,
           -0.9616602659225464,
           0.9602497220039368,
           -1.288982629776001,
           -1.001973032951355,
           1.6984312534332275,
           -0.5400101542472839,
           -1.1035878658294678,
           -1.0146682262420654,
           -0.6023794412612915
          ],
          "id": 321,
          "words": "plausível",
          "x": 1.973235845565796,
          "y": -0.3580643832683563
         },
         {
          "emb": [
           0.13073845207691193,
           0.23318110406398773,
           1.115256667137146,
           -0.6025837063789368,
           -1.2398220300674438,
           -0.18931810557842255,
           1.0093019008636475,
           -0.26118943095207214,
           0.16318930685520172,
           -0.27788105607032776
          ],
          "id": 322,
          "words": "clérigo",
          "x": 0.33789268136024475,
          "y": 0.4107132852077484
         },
         {
          "emb": [
           0.4049183130264282,
           -0.44949719309806824,
           -1.4781935214996338,
           -1.4468947649002075,
           -0.7400360107421875,
           1.2968499660491943,
           -0.42138150334358215,
           1.1636536121368408,
           -0.44534510374069214,
           -1.1626982688903809
          ],
          "id": 323,
          "words": "desumano",
          "x": 0.8866938352584839,
          "y": -2.0159380435943604
         },
         {
          "emb": [
           -0.6375747919082642,
           -0.8085484504699707,
           0.5359885096549988,
           -0.6205105781555176,
           -0.7489436864852905,
           0.04253697767853737,
           0.5697773694992065,
           -1.0091091394424438,
           -2.421872854232788,
           0.8234013915061951
          ],
          "id": 324,
          "words": "números",
          "x": 0.36325082182884216,
          "y": -0.12471010535955429
         },
         {
          "emb": [
           1.018654704093933,
           -0.185413658618927,
           0.5545562505722046,
           1.1942585706710815,
           -0.3732844591140747,
           -1.3666045665740967,
           0.018760671839118004,
           0.3163021504878998,
           0.7528648376464844,
           0.1281445473432541
          ],
          "id": 325,
          "words": "vale",
          "x": -0.9845626950263977,
          "y": 1.144111156463623
         },
         {
          "emb": [
           -1.2987148761749268,
           1.2703429460525513,
           1.5770045518875122,
           -1.1114476919174194,
           -0.9477494359016418,
           -1.888135552406311,
           -0.7245762348175049,
           -2.3754806518554688,
           -0.012710333801805973,
           1.4432982206344604
          ],
          "id": 326,
          "words": "respostas",
          "x": -1.8175179958343506,
          "y": 0.37597334384918213
         },
         {
          "emb": [
           -0.5066043138504028,
           -0.1834564507007599,
           -0.5768026113510132,
           -1.568264365196228,
           -0.5943344831466675,
           -1.8313243389129639,
           0.8353312611579895,
           1.0222814083099365,
           0.1743854135274887,
           -0.563627302646637
          ],
          "id": 327,
          "words": "improvisado",
          "x": -1.1991678476333618,
          "y": -1.426561951637268
         },
         {
          "emb": [
           1.452418327331543,
           -0.3551018536090851,
           0.804607093334198,
           -0.1203305721282959,
           0.5073497295379639,
           -0.902182936668396,
           -0.049282506108284,
           -1.0865039825439453,
           0.717099130153656,
           -0.7343055009841919
          ],
          "id": 328,
          "words": "rainha",
          "x": 0.21748726069927216,
          "y": 0.640488862991333
         },
         {
          "emb": [
           0.21192720532417297,
           -1.542576551437378,
           -1.8436684608459473,
           -0.5398828983306885,
           -0.8990650773048401,
           0.9091031551361084,
           -2.288325786590576,
           -0.9413836598396301,
           -0.5270898342132568,
           -1.6737531423568726
          ],
          "id": 329,
          "words": "indian",
          "x": 1.0262928009033203,
          "y": -2.7639505863189697
         },
         {
          "emb": [
           -0.21535886824131012,
           0.6320275068283081,
           0.32225266098976135,
           -1.0268049240112305,
           -0.28125452995300293,
           2.0969791412353516,
           -0.6520317792892456,
           -1.3134793043136597,
           -0.3076707124710083,
           0.1276514083147049
          ],
          "id": 330,
          "words": "ambígua",
          "x": 1.4038602113723755,
          "y": -0.2977912724018097
         },
         {
          "emb": [
           1.673219084739685,
           0.6879282593727112,
           -0.2325623333454132,
           -2.0556817054748535,
           1.2469419240951538,
           -0.7928821444511414,
           0.7080820202827454,
           0.12083751708269119,
           -0.4271714687347412,
           -0.22228261828422546
          ],
          "id": 331,
          "words": "the",
          "x": -0.3220735192298889,
          "y": -0.24283431470394135
         },
         {
          "emb": [
           -0.46356016397476196,
           -1.5880182981491089,
           0.7429206371307373,
           -0.08274699747562408,
           0.9304735660552979,
           1.524902105331421,
           -0.6290499567985535,
           -1.095926284790039,
           -0.9144391417503357,
           -0.0160058606415987
          ],
          "id": 332,
          "words": "condados",
          "x": 1.816702127456665,
          "y": 0.19403167068958282
         },
         {
          "emb": [
           0.5729039907455444,
           -0.2720252275466919,
           0.8117194771766663,
           0.6990379691123962,
           -1.2098088264465332,
           -0.7523367404937744,
           1.6113078594207764,
           -1.6549381017684937,
           0.8568175435066223,
           -1.8827860355377197
          ],
          "id": 333,
          "words": "mudava",
          "x": 1.220418930053711,
          "y": 0.09025238454341888
         },
         {
          "emb": [
           -2.000122308731079,
           -0.5191495418548584,
           1.1847267150878906,
           0.5606808066368103,
           0.07486236840486526,
           2.123703718185425,
           0.7531223893165588,
           -0.6324605941772461,
           -0.7724841833114624,
           -0.737220287322998
          ],
          "id": 334,
          "words": "alguns",
          "x": 2.673096179962158,
          "y": 0.11619742959737778
         },
         {
          "emb": [
           0.5700945854187012,
           0.9199122190475464,
           -0.3494643270969391,
           0.05933862924575806,
           0.013053902424871922,
           1.6380243301391602,
           -0.033734362572431564,
           -0.1906309574842453,
           -0.25563547015190125,
           0.09420859813690186
          ],
          "id": 335,
          "words": "iniciais",
          "x": 0.8933218121528625,
          "y": 0.07775197923183441
         },
         {
          "emb": [
           1.3963228464126587,
           -1.3029202222824097,
           0.13016685843467712,
           -0.9007396697998047,
           -0.13886702060699463,
           1.6775914430618286,
           1.213000774383545,
           0.6860084533691406,
           1.4402662515640259,
           -0.8667224049568176
          ],
          "id": 336,
          "words": "cena",
          "x": 1.7797307968139648,
          "y": 0.18791601061820984
         },
         {
          "emb": [
           0.07661505788564682,
           1.0398069620132446,
           1.0308667421340942,
           -0.07643783092498779,
           -0.2135324627161026,
           0.73781418800354,
           -0.5169636607170105,
           -1.708093285560608,
           0.9631825089454651,
           -1.4261900186538696
          ],
          "id": 337,
          "words": "elementos",
          "x": 1.442875862121582,
          "y": 0.040697112679481506
         },
         {
          "emb": [
           1.040441870689392,
           0.6013003587722778,
           -0.5946268439292908,
           -0.2374846637248993,
           1.1408382654190063,
           -0.01188686117529869,
           -0.37651363015174866,
           -0.4974938929080963,
           0.7888410091400146,
           -0.8400968313217163
          ],
          "id": 338,
          "words": "computabilidade",
          "x": 0.25885269045829773,
          "y": -0.37349429726600647
         },
         {
          "emb": [
           1.320420742034912,
           1.1408363580703735,
           -0.0863478034734726,
           1.377073049545288,
           0.5715160965919495,
           -0.7584899067878723,
           -1.2345201969146729,
           1.4891427755355835,
           -0.4949072599411011,
           0.11935389041900635
          ],
          "id": 339,
          "words": "criada",
          "x": -1.124650239944458,
          "y": 0.9371200203895569
         },
         {
          "emb": [
           -1.1545472145080566,
           -0.5265525579452515,
           0.33227622509002686,
           0.04837919771671295,
           -1.418434977531433,
           0.2323000133037567,
           0.5178879499435425,
           -0.5314249396324158,
           0.10037557035684586,
           -1.2518991231918335
          ],
          "id": 340,
          "words": "efeito",
          "x": 1.0759177207946777,
          "y": -0.8934082984924316
         },
         {
          "emb": [
           2.3909199237823486,
           0.9344872236251831,
           1.0124080181121826,
           0.2589053809642792,
           1.7027989625930786,
           0.2907053828239441,
           -1.0779169797897339,
           -0.5254443287849426,
           1.1002532243728638,
           0.7951855063438416
          ],
          "id": 341,
          "words": "computacionais",
          "x": -0.2261064499616623,
          "y": 2.165126323699951
         },
         {
          "emb": [
           0.70332270860672,
           -0.7468003034591675,
           1.6452401876449585,
           -0.8828332424163818,
           -1.2284486293792725,
           -1.4666889905929565,
           -1.88906991481781,
           -0.013117133639752865,
           -1.183071494102478,
           -1.1543083190917969
          ],
          "id": 342,
          "words": "fez",
          "x": -0.1972101777791977,
          "y": -0.0711493268609047
         },
         {
          "emb": [
           1.2057706117630005,
           -0.6835697293281555,
           -0.7293469905853271,
           0.5979122519493103,
           0.3966885209083557,
           -0.8535557389259338,
           -0.8158139586448669,
           -0.9982189536094666,
           -1.1374667882919312,
           -0.34229183197021484
          ],
          "id": 343,
          "words": "teste",
          "x": -0.2002606987953186,
          "y": -0.3992309272289276
         },
         {
          "emb": [
           -0.1649133414030075,
           1.7007368803024292,
           -0.6118842959403992,
           0.7558393478393555,
           0.965021550655365,
           0.494862824678421,
           -1.7688044309616089,
           -1.4743270874023438,
           0.5980520248413086,
           -0.4856337606906891
          ],
          "id": 344,
          "words": "estabeleceu",
          "x": 0.13555969297885895,
          "y": -0.4947364330291748
         },
         {
          "emb": [
           0.22289158403873444,
           -1.0889167785644531,
           0.41462913155555725,
           0.5243693590164185,
           0.9750797748565674,
           -0.6767464280128479,
           -1.56156325340271,
           -0.36342114210128784,
           -0.617958128452301,
           -0.011736978776752949
          ],
          "id": 345,
          "words": "john",
          "x": -0.19260859489440918,
          "y": 0.2867755889892578
         },
         {
          "emb": [
           -1.28106689453125,
           -0.08549084514379501,
           -0.6111138463020325,
           -0.5677775740623474,
           1.2923498153686523,
           1.4810560941696167,
           -1.6402556896209717,
           0.661353588104248,
           0.7016432285308838,
           0.9566262364387512
          ],
          "id": 346,
          "words": "ceruzzi",
          "x": -0.10176735371351242,
          "y": -0.5160920023918152
         },
         {
          "emb": [
           -0.681908369064331,
           -1.4478626251220703,
           0.6582412719726562,
           -0.5640168786048889,
           -0.34353822469711304,
           0.9275665879249573,
           0.8258386850357056,
           -0.07347958534955978,
           0.44561320543289185,
           0.2715831696987152
          ],
          "id": 347,
          "words": "concreta",
          "x": 0.952594518661499,
          "y": 0.18060486018657684
         },
         {
          "emb": [
           0.18170873820781708,
           -0.6798446774482727,
           -1.3500616550445557,
           -0.48987480998039246,
           -1.444651484489441,
           -0.9359215497970581,
           0.1931905895471573,
           1.013114094734192,
           -0.5426808595657349,
           0.17412006855010986
          ],
          "id": 348,
          "words": "base",
          "x": -1.2114882469177246,
          "y": -1.2865456342697144
         },
         {
          "emb": [
           1.2002168893814087,
           3.0988380908966064,
           0.7393820881843567,
           1.1157751083374023,
           -0.7973984479904175,
           1.0913695096969604,
           -0.29808148741722107,
           0.4923253059387207,
           0.07386501133441925,
           1.1330974102020264
          ],
          "id": 349,
          "words": "neve",
          "x": -0.4564738869667053,
          "y": 1.91860032081604
         },
         {
          "emb": [
           -0.8286556601524353,
           1.0239975452423096,
           0.9600743055343628,
           -1.2458252906799316,
           0.43007075786590576,
           -0.7055048942565918,
           -1.0209373235702515,
           0.9103835225105286,
           1.7647336721420288,
           -2.2075259685516357
          ],
          "id": 350,
          "words": "dado",
          "x": 0.23388710618019104,
          "y": -0.823655903339386
         },
         {
          "emb": [
           -0.27900421619415283,
           -0.3266426622867584,
           -0.40105366706848145,
           1.043017864227295,
           -0.4028676450252533,
           -0.5569244623184204,
           1.2781528234481812,
           1.5207558870315552,
           0.2580081820487976,
           -1.1632176637649536
          ],
          "id": 351,
          "words": "uniformes",
          "x": 0.20137163996696472,
          "y": -0.3225904107093811
         },
         {
          "emb": [
           -0.9636236429214478,
           -1.72282874584198,
           1.2002583742141724,
           1.7221953868865967,
           0.803188681602478,
           -0.6517852544784546,
           0.6503385901451111,
           -0.6532443165779114,
           -0.4405057430267334,
           0.1323065608739853
          ],
          "id": 352,
          "words": "político",
          "x": 0.5607776045799255,
          "y": 1.1516717672348022
         },
         {
          "emb": [
           -0.561373770236969,
           1.6596542596817017,
           -1.3259979486465454,
           -0.2384667992591858,
           -0.05113238841295242,
           0.5973826050758362,
           -0.244104266166687,
           1.3547768592834473,
           -0.5951535701751709,
           -1.494036316871643
          ],
          "id": 353,
          "words": "criminal",
          "x": 0.43204760551452637,
          "y": -1.7352020740509033
         },
         {
          "emb": [
           0.3550366759300232,
           0.44267749786376953,
           -0.6996492743492126,
           0.15663224458694458,
           -0.2196328490972519,
           0.39535078406333923,
           -0.8320564031600952,
           -1.5426769256591797,
           -0.8458356261253357,
           -1.1442022323608398
          ],
          "id": 354,
          "words": "parte",
          "x": 0.8868710398674011,
          "y": -1.1418285369873047
         },
         {
          "emb": [
           -2.3345794677734375,
           -0.5909294486045837,
           -0.7770469784736633,
           -1.107548475265503,
           -0.22863659262657166,
           -1.2517974376678467,
           0.6765229105949402,
           -0.3076654076576233,
           1.0137226581573486,
           -1.1695747375488281
          ],
          "id": 355,
          "words": "desenvolvimento",
          "x": -0.290679931640625,
          "y": -2.27535080909729
         },
         {
          "emb": [
           0.2654127776622772,
           -0.22479791939258575,
           0.813323438167572,
           0.3313600718975067,
           0.21780158579349518,
           -0.1410512775182724,
           0.24085095524787903,
           0.4761066436767578,
           0.754133939743042,
           0.1436486542224884
          ],
          "id": 356,
          "words": "vícios",
          "x": -0.03249974176287651,
          "y": 0.9704257845878601
         },
         {
          "emb": [
           -0.936286211013794,
           0.7994785904884338,
           -0.5465903878211975,
           0.5393459796905518,
           -0.4699609577655792,
           -0.8578519225120544,
           -0.4716436564922333,
           -0.1459529995918274,
           0.4297889471054077,
           0.6570415496826172
          ],
          "id": 357,
          "words": "east",
          "x": -1.4002008438110352,
          "y": -0.3826160728931427
         },
         {
          "emb": [
           0.5950621366500854,
           0.5255445837974548,
           -1.7337357997894287,
           1.0739108324050903,
           2.90140438079834,
           0.5004021525382996,
           -1.5362849235534668,
           -0.09318947792053223,
           1.7547065019607544,
           -2.1224961280822754
          ],
          "id": 358,
          "words": "recebeu",
          "x": 0.8851135969161987,
          "y": -1.1453016996383667
         },
         {
          "emb": [
           -1.8385403156280518,
           0.9608027338981628,
           0.983650267124176,
           -1.7376445531845093,
           0.8053995966911316,
           -0.6332767605781555,
           -0.3849375247955322,
           0.03454788029193878,
           1.2076523303985596,
           -1.1118546724319458
          ],
          "id": 359,
          "words": "code",
          "x": 0.06356147676706314,
          "y": -0.8565646409988403
         },
         {
          "emb": [
           1.1149061918258667,
           -1.0385842323303223,
           -1.1342036724090576,
           0.8901464939117432,
           1.1561208963394165,
           1.02534818649292,
           -0.14148256182670593,
           -1.069953441619873,
           0.2934665381908417,
           -0.5804446935653687
          ],
          "id": 360,
          "words": "embora",
          "x": 1.2307941913604736,
          "y": -0.3057684004306793
         },
         {
          "emb": [
           -0.8313860297203064,
           -0.9211469888687134,
           -0.9691067337989807,
           -0.20573286712169647,
           0.174985870718956,
           2.5233004093170166,
           -1.3725982904434204,
           0.3554443120956421,
           1.2246302366256714,
           -2.18729829788208
          ],
          "id": 361,
          "words": "dermot",
          "x": 2.386286973953247,
          "y": -1.9103553295135498
         },
         {
          "emb": [
           -0.6381579637527466,
           0.4255216121673584,
           -0.8661636710166931,
           1.0034573078155518,
           -0.9287421107292175,
           0.5102975964546204,
           -0.8139055967330933,
           1.0223042964935303,
           -0.5154224038124084,
           -0.14389988780021667
          ],
          "id": 362,
          "words": "burnett",
          "x": -0.20612534880638123,
          "y": -0.7048218250274658
         },
         {
          "emb": [
           0.08660242706537247,
           1.4153183698654175,
           0.6656128764152527,
           1.05620276927948,
           -1.1247235536575317,
           -0.2778845727443695,
           0.04636598005890846,
           0.01570320501923561,
           0.6861026883125305,
           -1.084453821182251
          ],
          "id": 363,
          "words": "london",
          "x": 0.18083733320236206,
          "y": 0.36152076721191406
         },
         {
          "emb": [
           -1.6043277978897095,
           1.3350297212600708,
           2.9167747497558594,
           -1.478489637374878,
           0.0218283049762249,
           -1.6727834939956665,
           -1.815940022468567,
           1.0485275983810425,
           0.24694469571113586,
           -0.38525116443634033
          ],
          "id": 364,
          "words": "outros",
          "x": -1.0719590187072754,
          "y": 0.6837692260742188
         },
         {
          "emb": [
           -0.5589005947113037,
           0.1982727199792862,
           -0.36098983883857727,
           0.1529553383588791,
           -0.8267936110496521,
           -0.6437434554100037,
           -1.7385789155960083,
           0.8508124947547913,
           -0.4001496136188507,
           -0.16548185050487518
          ],
          "id": 365,
          "words": "passou",
          "x": -1.0157138109207153,
          "y": -0.8211718201637268
         },
         {
          "emb": [
           -1.1072883605957031,
           -0.35890719294548035,
           0.5868012309074402,
           -0.3136598467826843,
           -1.027593970298767,
           -0.23222047090530396,
           -0.24874131381511688,
           1.1512421369552612,
           0.5511224865913391,
           0.8949543833732605
          ],
          "id": 366,
          "words": "após",
          "x": -0.933807373046875,
          "y": 0.21271559596061707
         },
         {
          "emb": [
           -0.6838341355323792,
           -1.6012909412384033,
           -0.1407385766506195,
           0.6243909597396851,
           0.599409818649292,
           -2.101484775543213,
           -0.5480170845985413,
           0.25451576709747314,
           1.6445074081420898,
           -0.12254173308610916
          ],
          "id": 367,
          "words": "obteve",
          "x": -1.4157706499099731,
          "y": -0.221427783370018
         },
         {
          "emb": [
           0.4160522520542145,
           -0.29580411314964294,
           -0.13982902467250824,
           1.282145619392395,
           -0.33371663093566895,
           0.008523551747202873,
           1.5580096244812012,
           0.5259043574333191,
           1.229415774345398,
           0.23110799491405487
          ],
          "id": 368,
          "words": "ser",
          "x": -0.03712540119886398,
          "y": 0.8521553874015808
         },
         {
          "emb": [
           1.3313305377960205,
           0.8822059631347656,
           -1.4875086545944214,
           -0.5004399418830872,
           0.8429284691810608,
           -0.6427111625671387,
           -0.87212735414505,
           0.8468055129051208,
           0.459747850894928,
           0.04850686714053154
          ],
          "id": 369,
          "words": "modern",
          "x": -1.2978366613388062,
          "y": -0.6743796467781067
         },
         {
          "emb": [
           -2.151918888092041,
           -1.6974198818206787,
           0.09631386399269104,
           1.1878470182418823,
           -0.04970180243253708,
           -0.16942498087882996,
           -0.20445874333381653,
           -0.29446813464164734,
           -0.37581807374954224,
           0.349113404750824
          ],
          "id": 370,
          "words": "operador",
          "x": 0.10548187792301178,
          "y": -0.30840998888015747
         },
         {
          "emb": [
           -0.4964272975921631,
           0.9353950619697571,
           2.2820351123809814,
           -1.255312204360962,
           1.810857892036438,
           1.3531911373138428,
           -2.661890983581543,
           0.3107156753540039,
           -0.70667564868927,
           0.6220788955688477
          ],
          "id": 371,
          "words": "processamento",
          "x": 0.6397809982299805,
          "y": 1.280534267425537
         },
         {
          "emb": [
           -0.8143916726112366,
           2.2318241596221924,
           0.6432045102119446,
           0.14077994227409363,
           0.6706587672233582,
           -1.2774451971054077,
           0.21537555754184723,
           0.31698179244995117,
           0.6854367852210999,
           0.5119886994361877
          ],
          "id": 372,
          "words": "condenação",
          "x": -1.4027915000915527,
          "y": 0.676311194896698
         },
         {
          "emb": [
           1.1125725507736206,
           -0.3558281660079956,
           -0.22359433770179749,
           -0.8552396893501282,
           0.6641193628311157,
           3.388582944869995,
           -0.1203695610165596,
           -0.1782269924879074,
           -0.3189981281757355,
           1.0252361297607422
          ],
          "id": 373,
          "words": "avô",
          "x": 1.8330847024917603,
          "y": 0.5307027697563171
         },
         {
          "emb": [
           -1.311621069908142,
           0.4011242687702179,
           0.3833943009376526,
           0.030570996925234795,
           0.24204756319522858,
           -0.42592287063598633,
           1.2382824420928955,
           -1.436357021331787,
           0.3988604247570038,
           0.8611918687820435
          ],
          "id": 374,
          "words": "prisão",
          "x": -0.2630711495876312,
          "y": 0.26333701610565186
         },
         {
          "emb": [
           -0.3936752676963806,
           0.5613158345222473,
           0.6487821340560913,
           -0.938840925693512,
           0.5786322951316833,
           -0.5406941771507263,
           0.22396326065063477,
           -0.201533704996109,
           -1.1533535718917847,
           0.9359333515167236
          ],
          "id": 375,
          "words": "quartel",
          "x": -0.5541495680809021,
          "y": 0.34435203671455383
         },
         {
          "emb": [
           2.183685541152954,
           0.7751583456993103,
           0.24439971148967743,
           -0.590201199054718,
           -0.6909664273262024,
           -0.7038303017616272,
           0.49685603380203247,
           1.4894791841506958,
           0.7546039819717407,
           0.7238573431968689
          ],
          "id": 376,
          "words": "park",
          "x": -1.3347848653793335,
          "y": 1.1292942762374878
         },
         {
          "emb": [
           -0.35698211193084717,
           1.1202642917633057,
           -0.8458765745162964,
           0.024480009451508522,
           1.281660556793213,
           -0.9724725484848022,
           0.5757802724838257,
           0.02136940509080887,
           1.186428189277649,
           0.1679867058992386
          ],
          "id": 377,
          "words": "colossus",
          "x": -1.0526695251464844,
          "y": -0.3168673813343048
         },
         {
          "emb": [
           0.23180808126926422,
           -0.07453266531229019,
           -1.1435081958770752,
           -1.5034459829330444,
           -0.5818993449211121,
           -0.5983501672744751,
           1.0002979040145874,
           -1.37099027633667,
           -0.10306419432163239,
           0.61085045337677
          ],
          "id": 378,
          "words": "codificação",
          "x": -0.685714840888977,
          "y": -1.1997876167297363
         },
         {
          "emb": [
           -1.5513968467712402,
           -0.37155881524086,
           0.7132949829101562,
           -0.8757080435752869,
           -0.5814202427864075,
           1.1975516080856323,
           -0.8456901907920837,
           -0.0782320499420166,
           0.4396529495716095,
           0.2757270336151123
          ],
          "id": 379,
          "words": "público",
          "x": 0.5736092329025269,
          "y": -0.35317710041999817
         },
         {
          "emb": [
           -0.45933040976524353,
           0.45459362864494324,
           -2.1278202533721924,
           0.4401245415210724,
           1.8892329931259155,
           0.6365087032318115,
           0.15578356385231018,
           0.08186975121498108,
           1.1589349508285522,
           -0.3038491904735565
          ],
          "id": 380,
          "words": "malvada",
          "x": 0.10361460596323013,
          "y": -1.2183133363723755
         },
         {
          "emb": [
           0.3186006546020508,
           0.32677778601646423,
           0.010604766197502613,
           0.07377379387617111,
           -1.831591248512268,
           0.8513991832733154,
           -0.545902669429779,
           -0.6941258311271667,
           1.844196081161499,
           0.7593562602996826
          ],
          "id": 381,
          "words": "jack",
          "x": -0.373208224773407,
          "y": 0.26073336601257324
         },
         {
          "emb": [
           1.006488561630249,
           -0.37406060099601746,
           1.5898081064224243,
           1.3859232664108276,
           -0.3728688359260559,
           0.022302517667412758,
           0.9506246447563171,
           -1.9703408479690552,
           1.9511312246322632,
           -0.3107801675796509
          ],
          "id": 382,
          "words": "bihar",
          "x": 0.9485101699829102,
          "y": 1.858842134475708
         },
         {
          "emb": [
           0.7502038478851318,
           0.11548735946416855,
           1.0993071794509888,
           0.11862093210220337,
           -0.15853489935398102,
           1.125859260559082,
           0.3349827826023102,
           1.6605613231658936,
           -0.18581777811050415,
           1.8087012767791748
          ],
          "id": 383,
          "words": "hodges",
          "x": -0.224895641207695,
          "y": 2.041980266571045
         },
         {
          "emb": [
           -0.9733418226242065,
           -0.1542539745569229,
           -1.9374107122421265,
           0.18158575892448425,
           0.2501438558101654,
           3.1195616722106934,
           -1.4639580249786377,
           -0.23018978536128998,
           -0.5361806750297546,
           -2.0515713691711426
          ],
          "id": 384,
          "words": "massachusetts",
          "x": 2.70229434967041,
          "y": -2.584364175796509
         },
         {
          "emb": [
           -2.800583600997925,
           1.3624327182769775,
           -1.4187942743301392,
           0.8076902031898499,
           0.5364976525306702,
           1.5054956674575806,
           -0.47447600960731506,
           2.080277919769287,
           0.8285222053527832,
           -1.332034945487976
          ],
          "id": 385,
          "words": "teoremas",
          "x": 0.7134854197502136,
          "y": -1.8242442607879639
         },
         {
          "emb": [
           -1.1347981691360474,
           0.9729595184326172,
           -0.043161001056432724,
           0.8242988586425781,
           0.9088863134384155,
           -1.341935157775879,
           0.9090628623962402,
           -0.006949849892407656,
           -1.0090206861495972,
           1.834425926208496
          ],
          "id": 386,
          "words": "considerado",
          "x": -1.664217472076416,
          "y": 0.7524932622909546
         },
         {
          "emb": [
           0.9372438788414001,
           0.32035619020462036,
           0.25153467059135437,
           -0.2222980409860611,
           0.6400036215782166,
           0.8616509437561035,
           -1.2447441816329956,
           0.5344533920288086,
           0.42802637815475464,
           -0.2765088379383087
          ],
          "id": 387,
          "words": "julius",
          "x": 0.4144933521747589,
          "y": 0.3612062335014343
         },
         {
          "emb": [
           0.41957518458366394,
           0.7733022570610046,
           1.2760298252105713,
           -0.9329062104225159,
           1.5725332498550415,
           0.8670836091041565,
           1.138454794883728,
           -0.12054052948951721,
           -0.7874853014945984,
           -0.2675604820251465
          ],
          "id": 388,
          "words": "who",
          "x": 1.4653993844985962,
          "y": 0.9608858823776245
         },
         {
          "emb": [
           0.7232853770256042,
           1.2326138019561768,
           -1.0300325155258179,
           -0.8804642558097839,
           1.2166868448257446,
           -1.7617372274398804,
           2.0810513496398926,
           0.48451074957847595,
           1.1905816793441772,
           0.06082834303379059
          ],
          "id": 389,
          "words": "posteriormente",
          "x": -1.4050949811935425,
          "y": -0.28121617436408997
         },
         {
          "emb": [
           1.9206180572509766,
           -0.589179277420044,
           1.8270580768585205,
           -0.9890128374099731,
           -0.7047126889228821,
           -0.22281616926193237,
           -1.4142013788223267,
           0.726832389831543,
           0.9997365474700928,
           -0.4363687038421631
          ],
          "id": 390,
          "words": "naval",
          "x": -0.02628735452890396,
          "y": 1.2128163576126099
         },
         {
          "emb": [
           1.5218836069107056,
           -0.8260496258735657,
           1.7417476177215576,
           -0.8767592310905457,
           -0.6747269034385681,
           -0.720416784286499,
           -0.059189341962337494,
           0.27128297090530396,
           2.047214984893799,
           -0.16244864463806152
          ],
          "id": 391,
          "words": "introduziu",
          "x": -0.28044700622558594,
          "y": 1.3526028394699097
         },
         {
          "emb": [
           -0.5015774369239807,
           -1.3051344156265259,
           0.4533439874649048,
           -0.19676654040813446,
           1.7927647829055786,
           -1.1390289068222046,
           -1.3375558853149414,
           0.4690069854259491,
           -0.21851477026939392,
           -1.3737030029296875
          ],
          "id": 392,
          "words": "bastante",
          "x": 0.2320256382226944,
          "y": -0.549839198589325
         },
         {
          "emb": [
           -0.8313124775886536,
           1.4150822162628174,
           -1.9592430591583252,
           0.8386478424072266,
           1.1950825452804565,
           -0.7120736837387085,
           -0.3609336018562317,
           0.4646386504173279,
           -0.7030766606330872,
           0.6822178959846497
          ],
          "id": 393,
          "words": "contrariamente",
          "x": -1.4854427576065063,
          "y": -0.9867637157440186
         },
         {
          "emb": [
           0.9607561230659485,
           0.048948321491479874,
           1.0833978652954102,
           0.776250958442688,
           0.09696859866380692,
           0.08535969257354736,
           -0.6905817985534668,
           -2.174490213394165,
           0.7029445767402649,
           -1.533994197845459
          ],
          "id": 394,
          "words": "sobre",
          "x": 1.399538516998291,
          "y": 0.5070560574531555
         },
         {
          "emb": [
           1.1389092206954956,
           0.38443508744239807,
           -0.4868539869785309,
           -2.2873215675354004,
           0.03398498520255089,
           1.0496159791946411,
           -0.049386054277420044,
           -1.3884447813034058,
           -0.3405851721763611,
           0.004253620747476816
          ],
          "id": 395,
          "words": "zhabotinsky",
          "x": 0.7351393103599548,
          "y": -0.8976742625236511
         },
         {
          "emb": [
           1.0610589981079102,
           -0.16894474625587463,
           -0.6395168304443359,
           -0.31293565034866333,
           3.011098861694336,
           -0.6292198896408081,
           0.985799252986908,
           1.5374211072921753,
           -0.5694795250892639,
           1.3993159532546997
          ],
          "id": 396,
          "words": "papel",
          "x": -0.9927179217338562,
          "y": 0.9458973407745361
         },
         {
          "emb": [
           0.08190929889678955,
           1.320665717124939,
           0.843747615814209,
           -1.7860033512115479,
           -0.01773512177169323,
           -0.5629632472991943,
           2.0105903148651123,
           0.5981500744819641,
           1.847159504890442,
           0.7232195138931274
          ],
          "id": 397,
          "words": "regras",
          "x": -0.8296222686767578,
          "y": 0.755310595035553
         },
         {
          "emb": [
           0.05400947108864784,
           -0.281704306602478,
           0.39846134185791016,
           0.4905458688735962,
           -0.38600271940231323,
           0.5184198021888733,
           -0.30638056993484497,
           0.9250800013542175,
           -1.3553627729415894,
           0.5249437689781189
          ],
          "id": 398,
          "words": "ginecomastia",
          "x": 0.14187981188297272,
          "y": 0.5565912127494812
         },
         {
          "emb": [
           1.224150538444519,
           -2.3989641666412354,
           1.0287201404571533,
           0.8225657939910889,
           -0.26235854625701904,
           -0.934831440448761,
           0.8944398760795593,
           1.4052011966705322,
           -0.3647209107875824,
           0.09111941605806351
          ],
          "id": 399,
          "words": "paddington",
          "x": -0.026059327647089958,
          "y": 1.434661865234375
         },
         {
          "emb": [
           0.5027071833610535,
           1.7639336585998535,
           -1.533461332321167,
           1.6059584617614746,
           1.6112669706344604,
           0.8243983387947083,
           0.8050863146781921,
           0.7754895687103271,
           -0.36099204421043396,
           0.4788905084133148
          ],
          "id": 400,
          "words": "envolveram",
          "x": -0.05132044106721878,
          "y": 0.3398039638996124
         },
         {
          "emb": [
           0.5321099162101746,
           0.7555896639823914,
           -0.44746097922325134,
           2.1948087215423584,
           1.2464187145233154,
           -0.4570644795894623,
           -1.3089478015899658,
           0.5061328411102295,
           0.8577812910079956,
           0.08742769062519073
          ],
          "id": 401,
          "words": "chirs",
          "x": -0.8443700671195984,
          "y": 0.8118551969528198
         },
         {
          "emb": [
           1.7653083801269531,
           0.0723922923207283,
           -0.676386833190918,
           -0.9281582236289978,
           -0.5328514575958252,
           -1.1873630285263062,
           -0.8480958938598633,
           -1.5041300058364868,
           1.3908581733703613,
           -1.0020686388015747
          ],
          "id": 402,
          "words": "retratado",
          "x": -0.612320601940155,
          "y": -0.949010968208313
         },
         {
          "emb": [
           0.9911642670631409,
           -0.047265611588954926,
           0.6525669097900391,
           0.9754826426506042,
           -0.3981130123138428,
           -0.7199706435203552,
           -0.5647746920585632,
           -1.8314566612243652,
           0.8219346404075623,
           2.2793080806732178
          ],
          "id": 403,
          "words": "dedicava",
          "x": -1.5382282733917236,
          "y": 1.8182967901229858
         },
         {
          "emb": [
           -0.15701715648174286,
           -0.8197471499443054,
           0.2438417673110962,
           -0.8761796355247498,
           1.2917433977127075,
           -0.5797505378723145,
           -1.124401569366455,
           0.6640158295631409,
           -1.182725191116333,
           -0.8882250189781189
          ],
          "id": 404,
          "words": "agar",
          "x": 0.25874337553977966,
          "y": -0.6787764430046082
         },
         {
          "emb": [
           0.09171608090400696,
           -1.2610876560211182,
           0.6875637173652649,
           0.41811099648475647,
           0.3384803831577301,
           -0.25938311219215393,
           -0.13033588230609894,
           -1.7045363187789917,
           -0.3978516757488251,
           0.7323792576789856
          ],
          "id": 405,
          "words": "informação",
          "x": 0.18900929391384125,
          "y": 0.713386058807373
         },
         {
          "emb": [
           -0.2256360799074173,
           -1.24431574344635,
           -0.43776625394821167,
           0.0922151431441307,
           0.9262778162956238,
           -1.805305004119873,
           1.1100698709487915,
           0.07843656837940216,
           0.18933700025081635,
           -0.6080335378646851
          ],
          "id": 406,
          "words": "elaboradas",
          "x": -0.46489256620407104,
          "y": -0.5296099781990051
         },
         {
          "emb": [
           0.0755605474114418,
           -0.026749728247523308,
           0.7709838151931763,
           -1.1883845329284668,
           -1.7634843587875366,
           -0.4602200984954834,
           1.5470750331878662,
           -0.1004629135131836,
           -0.581064760684967,
           -0.28855276107788086
          ],
          "id": 407,
          "words": "semanas",
          "x": 0.22049854695796967,
          "y": -0.16407054662704468
         },
         {
          "emb": [
           1.3345321416854858,
           0.3648916184902191,
           -0.11818190664052963,
           -0.8192769885063171,
           -0.14347490668296814,
           0.5212196111679077,
           -2.2030029296875,
           -1.547483205795288,
           -0.7537185549736023,
           0.8559439778327942
          ],
          "id": 408,
          "words": "índia",
          "x": -0.34573811292648315,
          "y": -0.05102961137890816
         },
         {
          "emb": [
           0.762382447719574,
           -0.2635979652404785,
           -0.300455778837204,
           0.9162219762802124,
           1.9418901205062866,
           -0.517867386341095,
           0.40891411900520325,
           -0.9485118389129639,
           0.9864295125007629,
           1.1020246744155884
          ],
          "id": 409,
          "words": "guerra",
          "x": -0.6223754286766052,
          "y": 1.0959033966064453
         },
         {
          "emb": [
           0.15055985748767853,
           -1.6043099164962769,
           0.7852264642715454,
           1.9585720300674438,
           -0.8684212565422058,
           -0.24461445212364197,
           0.48882409930229187,
           -0.7108210921287537,
           -1.4461637735366821,
           -0.6772409081459045
          ],
          "id": 410,
          "words": "tratamento",
          "x": 1.108328104019165,
          "y": 0.6476224660873413
         },
         {
          "emb": [
           0.17645175755023956,
           -1.538840651512146,
           -0.15054535865783691,
           1.2692500352859497,
           -0.10719627141952515,
           -0.5146448016166687,
           0.0816798210144043,
           1.4781465530395508,
           0.43527066707611084,
           -0.19436514377593994
          ],
          "id": 411,
          "words": "necessariamente",
          "x": -0.27975523471832275,
          "y": 0.345603346824646
         },
         {
          "emb": [
           -0.5547419190406799,
           -1.607093334197998,
           0.5111303329467773,
           0.10020458698272705,
           -0.931867241859436,
           -0.42305633425712585,
           1.3023008108139038,
           -0.27204522490501404,
           1.875362515449524,
           0.8586684465408325
          ],
          "id": 412,
          "words": "estrada",
          "x": -0.4285931885242462,
          "y": 0.5948834419250488
         },
         {
          "emb": [
           0.6342543959617615,
           -0.9180854558944702,
           0.80101478099823,
           -0.31210100650787354,
           -0.32772237062454224,
           2.4519293308258057,
           -1.1975071430206299,
           -0.11186130344867706,
           0.6666383743286133,
           -1.2358031272888184
          ],
          "id": 413,
          "words": "petição",
          "x": 2.370208740234375,
          "y": 0.07337675243616104
         },
         {
          "emb": [
           0.4651430547237396,
           1.0700334310531616,
           -0.7657963037490845,
           -0.4429682195186615,
           -0.18068835139274597,
           -0.23952962458133698,
           -0.09094661474227905,
           0.008874183520674706,
           -0.9555655717849731,
           0.02697155624628067
          ],
          "id": 414,
          "words": "transmissão",
          "x": -0.46973809599876404,
          "y": -0.6535719633102417
         },
         {
          "emb": [
           -1.896615982055664,
           -1.6181217432022095,
           1.717647671699524,
           -0.03390299156308174,
           -0.020640967413783073,
           1.238649845123291,
           1.0726728439331055,
           0.6184051036834717,
           0.09094035625457764,
           -1.0165431499481201
          ],
          "id": 415,
          "words": "trabalhou",
          "x": 2.235931396484375,
          "y": 0.29922908544540405
         },
         {
          "emb": [
           -1.7633055448532104,
           -0.7276603579521179,
           1.1751691102981567,
           -1.1411212682724,
           1.613574504852295,
           -0.6116753220558167,
           1.2660324573516846,
           -0.5719200968742371,
           -0.6956882476806641,
           -0.9933026432991028
          ],
          "id": 416,
          "words": "baixos",
          "x": 1.193296194076538,
          "y": -0.4145015478134155
         },
         {
          "emb": [
           0.2564435601234436,
           0.3956821858882904,
           0.2827451527118683,
           -1.4870002269744873,
           -1.0335423946380615,
           0.30125972628593445,
           -0.03351013734936714,
           -0.39257434010505676,
           1.250626802444458,
           -0.11647513508796692
          ],
          "id": 417,
          "words": "sistemas",
          "x": -0.015891699120402336,
          "y": -0.375178724527359
         },
         {
          "emb": [
           -0.1420563906431198,
           -1.160366415977478,
           -0.3908385932445526,
           0.8509401082992554,
           0.22190062701702118,
           1.463646411895752,
           -0.5050110816955566,
           -2.2462825775146484,
           -0.2817630469799042,
           0.32095691561698914
          ],
          "id": 418,
          "words": "mensagens",
          "x": 1.318240761756897,
          "y": -0.14778080582618713
         },
         {
          "emb": [
           1.4905405044555664,
           -0.5242774486541748,
           -0.4512840807437897,
           -1.7710990905761719,
           -0.04387607052922249,
           1.3718373775482178,
           1.1081100702285767,
           0.6721058487892151,
           -0.48473480343818665,
           -1.4818061590194702
          ],
          "id": 419,
          "words": "estados",
          "x": 1.8782819509506226,
          "y": -0.9183456301689148
         },
         {
          "emb": [
           -0.8615493774414062,
           -2.009399890899658,
           -2.042163848876953,
           0.8782966732978821,
           -0.4338890314102173,
           -0.1637195497751236,
           -0.11600371450185776,
           -0.2742635905742645,
           1.0627139806747437,
           -0.23356489837169647
          ],
          "id": 420,
          "words": "partir",
          "x": -0.28415071964263916,
          "y": -1.702093243598938
         },
         {
          "emb": [
           0.5549731850624084,
           0.7571665048599243,
           0.8146225810050964,
           -1.1287301778793335,
           -1.1543177366256714,
           -1.2959375381469727,
           -0.6103002429008484,
           0.7863853573799133,
           0.4684391915798187,
           -1.2399253845214844
          ],
          "id": 421,
          "words": "veemência",
          "x": -0.6082478761672974,
          "y": -0.36617571115493774
         },
         {
          "emb": [
           -0.2850784957408905,
           -0.414682000875473,
           -1.5757925510406494,
           -0.07008736580610275,
           -0.08033239096403122,
           -0.37044739723205566,
           -0.3842860758304596,
           0.3676395118236542,
           -0.062090855091810226,
           -0.3039802014827728
          ],
          "id": 422,
          "words": "níveis",
          "x": -0.5451515316963196,
          "y": -1.4940298795700073
         },
         {
          "emb": [
           -0.10026754438877106,
           -0.4048391878604889,
           0.2128228098154068,
           -0.9327237606048584,
           0.7481964230537415,
           0.21985910832881927,
           0.3617722690105438,
           -0.5492236614227295,
           1.2218701839447021,
           -0.19933421909809113
          ],
          "id": 423,
          "words": "man",
          "x": 0.4475014805793762,
          "y": -0.13439702987670898
         },
         {
          "emb": [
           1.0871553421020508,
           2.346104621887207,
           0.7809796333312988,
           1.851190447807312,
           0.34511756896972656,
           0.9416601657867432,
           0.5741667747497559,
           0.7487310171127319,
           -2.02567458152771,
           1.4991648197174072
          ],
          "id": 424,
          "words": "química",
          "x": -0.027369553223252296,
          "y": 2.3971993923187256
         },
         {
          "emb": [
           -0.6927391886711121,
           0.4228590726852417,
           -1.069926381111145,
           0.44877055287361145,
           1.510264277458191,
           2.2372422218322754,
           0.14799855649471283,
           1.406620979309082,
           0.8594622611999512,
           -1.2540793418884277
          ],
          "id": 425,
          "words": "computing",
          "x": 1.7692525386810303,
          "y": -0.8021445274353027
         },
         {
          "emb": [
           -0.06951365619897842,
           1.3682242631912231,
           -0.15647432208061218,
           -1.5323424339294434,
           -2.70851731300354,
           0.9283807277679443,
           0.43165725469589233,
           1.388232707977295,
           -1.1438571214675903,
           0.4742424488067627
          ],
          "id": 426,
          "words": "ter",
          "x": -0.29038238525390625,
          "y": -0.7142845392227173
         },
         {
          "emb": [
           1.3911840915679932,
           0.8588730692863464,
           -1.2949005365371704,
           -1.4617295265197754,
           0.9231377243995667,
           -0.42184680700302124,
           0.030631111934781075,
           0.5187301635742188,
           0.35782530903816223,
           1.1587224006652832
          ],
          "id": 427,
          "words": "quebrar",
          "x": -1.4994910955429077,
          "y": -0.29865115880966187
         },
         {
          "emb": [
           -1.1148414611816406,
           -0.2440965324640274,
           -0.26018771529197693,
           -0.7271334528923035,
           1.0271196365356445,
           0.3174358010292053,
           -1.5762327909469604,
           -0.4810965955257416,
           -1.6263296604156494,
           0.5090432167053223
          ],
          "id": 428,
          "words": "cientista",
          "x": -0.011228249408304691,
          "y": -0.8708788156509399
         },
         {
          "emb": [
           -1.3883349895477295,
           -0.0485038198530674,
           -3.073521852493286,
           0.5552453994750977,
           0.9938604831695557,
           -0.1257462501525879,
           -0.8581457138061523,
           1.0147757530212402,
           -0.14824597537517548,
           -0.18937470018863678
          ],
          "id": 429,
          "words": "devido",
          "x": -0.9316068887710571,
          "y": -2.483764886856079
         },
         {
          "emb": [
           -0.06709197163581848,
           0.23566871881484985,
           -1.8937557935714722,
           -0.17472796142101288,
           0.6358963251113892,
           1.3221620321273804,
           1.4098573923110962,
           -0.46271437406539917,
           0.03311881422996521,
           -0.28659749031066895
          ],
          "id": 430,
          "words": "ingerida",
          "x": 1.0021504163742065,
          "y": -1.278658151626587
         },
         {
          "emb": [
           0.6549462080001831,
           0.4948233366012573,
           2.308870553970337,
           0.596646249294281,
           -0.6042888760566711,
           1.491577386856079,
           0.13577750325202942,
           0.20328202843666077,
           -0.05882159620523453,
           -1.2558754682540894
          ],
          "id": 431,
          "words": "podiam",
          "x": 2.1913788318634033,
          "y": 1.5932828187942505
         },
         {
          "emb": [
           0.7624139785766602,
           -0.39589831233024597,
           0.15208615362644196,
           -1.3705302476882935,
           0.2832241356372833,
           -0.4057387709617615,
           -1.6123220920562744,
           1.1473406553268433,
           0.20321154594421387,
           -0.9131314754486084
          ],
          "id": 432,
          "words": "matemático",
          "x": -0.2299666404724121,
          "y": -0.6344255208969116
         },
         {
          "emb": [
           0.031054727733135223,
           0.6198856830596924,
           1.9288029670715332,
           2.4833638668060303,
           0.36281684041023254,
           -0.11195702850818634,
           -0.5692129135131836,
           -0.9558781385421753,
           0.05640128627419472,
           -0.3321855664253235
          ],
          "id": 433,
          "words": "assinaturas",
          "x": 0.6850560903549194,
          "y": 2.0531020164489746
         },
         {
          "emb": [
           0.5896673202514648,
           0.8710827231407166,
           0.9414602518081665,
           0.053978048264980316,
           0.5524232387542725,
           0.08982155472040176,
           -0.9822143912315369,
           1.117327332496643,
           -0.4694957137107849,
           -0.840891420841217
          ],
          "id": 434,
          "words": "desempenhando",
          "x": 0.36937084794044495,
          "y": 0.5779648423194885
         },
         {
          "emb": [
           0.5215621590614319,
           0.4318659007549286,
           0.3321622610092163,
           -0.7703325152397156,
           -0.7767067551612854,
           0.64969801902771,
           0.7080618739128113,
           -0.7886775732040405,
           -1.1977399587631226,
           1.2979105710983276
          ],
          "id": 435,
          "words": "formado",
          "x": 0.049217548221349716,
          "y": 0.510903537273407
         },
         {
          "emb": [
           -0.2982369661331177,
           -0.7046335339546204,
           -0.4798908829689026,
           1.3856278657913208,
           1.183809757232666,
           1.2900232076644897,
           -0.518719494342804,
           0.6208412647247314,
           0.1117069348692894,
           1.6860674619674683
          ],
          "id": 436,
          "words": "decodificar",
          "x": -0.12117942422628403,
          "y": 0.9502426981925964
         },
         {
          "emb": [
           0.6050860285758972,
           0.7209558486938477,
           -0.34010016918182373,
           1.6330435276031494,
           -1.012468695640564,
           -1.0959033966064453,
           0.07653956860303879,
           0.38753852248191833,
           -0.0421527661383152,
           -2.5043277740478516
          ],
          "id": 437,
          "words": "deliberadamente",
          "x": 0.38704055547714233,
          "y": -0.673656165599823
         },
         {
          "emb": [
           2.58713698387146,
           -0.7024930119514465,
           1.3420065641403198,
           -0.2186318039894104,
           -1.8577818870544434,
           -0.42530396580696106,
           0.76814866065979,
           1.5770584344863892,
           -0.21380189061164856,
           -0.052337732166051865
          ],
          "id": 438,
          "words": "vieram",
          "x": -0.11835621297359467,
          "y": 1.584463357925415
         },
         {
          "emb": [
           1.739492654800415,
           -0.7888773083686829,
           1.1898646354675293,
           1.5842214822769165,
           2.543635606765747,
           1.4595423936843872,
           0.5373108983039856,
           0.648837149143219,
           0.9923020601272583,
           0.6640530824661255
          ],
          "id": 439,
          "words": "unidos",
          "x": 1.280998706817627,
          "y": 2.8957669734954834
         },
         {
          "emb": [
           1.8793575763702393,
           -2.2436039447784424,
           -0.4484643340110779,
           -1.2621244192123413,
           0.03340500220656395,
           -0.4905088543891907,
           -0.2670045495033264,
           0.6227052211761475,
           0.7133869528770447,
           -1.6008466482162476
          ],
          "id": 440,
          "words": "poder",
          "x": 0.5518316626548767,
          "y": -0.9173305630683899
         },
         {
          "emb": [
           -0.7512388229370117,
           -0.7287070155143738,
           -1.4912326335906982,
           2.260922431945801,
           0.013191662728786469,
           -0.920707106590271,
           -0.7797465324401855,
           -1.7851831912994385,
           -0.8590940237045288,
           0.8586207628250122
          ],
          "id": 441,
          "words": "método",
          "x": -0.994414210319519,
          "y": -0.6024021506309509
         },
         {
          "emb": [
           0.4934206008911133,
           -0.3870415985584259,
           -0.3702634871006012,
           0.19158940017223358,
           0.5410791039466858,
           -0.35501939058303833,
           -1.659414529800415,
           -1.358662486076355,
           0.01364598236978054,
           1.3450177907943726
          ],
          "id": 442,
          "words": "churchill",
          "x": -1.0670040845870972,
          "y": 0.21383143961429596
         },
         {
          "emb": [
           0.5992302894592285,
           0.5674896240234375,
           0.14848832786083221,
           0.2784368395805359,
           -1.28548264503479,
           0.315292626619339,
           0.440458208322525,
           -0.5227677226066589,
           -1.9828156232833862,
           0.560024619102478
          ],
          "id": 443,
          "words": "inteligência",
          "x": 0.1645360141992569,
          "y": 0.3090257942676544
         },
         {
          "emb": [
           1.3422939777374268,
           -0.5986690521240234,
           0.08465109765529633,
           0.927431046962738,
           -0.3665110766887665,
           0.16560040414333344,
           0.47064727544784546,
           -0.3650893568992615,
           1.1450469493865967,
           0.5535731911659241
          ],
          "id": 444,
          "words": "serviço",
          "x": -0.07976941764354706,
          "y": 1.1002050638198853
         },
         {
          "emb": [
           0.4222910702228546,
           0.938149631023407,
           -0.8451816439628601,
           -0.24156242609024048,
           0.5696452856063843,
           0.4126121401786804,
           0.23129647970199585,
           1.922475814819336,
           -0.9383941888809204,
           -0.14596568048000336
          ],
          "id": 445,
          "words": "comerciantes",
          "x": -0.10247881710529327,
          "y": -0.369133323431015
         },
         {
          "emb": [
           -0.344963401556015,
           0.5878033638000488,
           -0.12053634971380234,
           -1.0217642784118652,
           -0.2452981323003769,
           1.8544399738311768,
           -0.2054789662361145,
           -0.26313167810440063,
           -0.11915205419063568,
           -0.9813160300254822
          ],
          "id": 446,
          "words": "dezembro",
          "x": 1.655498743057251,
          "y": -0.9720284938812256
         },
         {
          "emb": [
           -1.691620945930481,
           -0.1211075559258461,
           -1.078213095664978,
           -0.6814867258071899,
           -1.948158621788025,
           -2.062964916229248,
           -1.249596357345581,
           -0.4874487519264221,
           0.9378200173377991,
           2.103951930999756
          ],
          "id": 447,
          "words": "interagia",
          "x": -3.432373285293579,
          "y": -1.2766753435134888
         },
         {
          "emb": [
           0.5696836113929749,
           -1.3494375944137573,
           0.5293659567832947,
           -0.06436361372470856,
           -0.6269938945770264,
           0.30604422092437744,
           -0.5038861632347107,
           -0.18791447579860687,
           0.004643102176487446,
           0.06217868626117706
          ],
          "id": 448,
          "words": "resultou",
          "x": 0.3926970958709717,
          "y": 0.3161891996860504
         },
         {
          "emb": [
           -0.7163170576095581,
           -1.492797613143921,
           -0.1386575847864151,
           1.8785916566848755,
           -0.27611443400382996,
           -0.5161654949188232,
           -0.03293127566576004,
           0.49584510922431946,
           -1.6581584215164185,
           0.11168956011533737
          ],
          "id": 449,
          "words": "aniversário",
          "x": -0.009192710742354393,
          "y": 0.09553331136703491
         },
         {
          "emb": [
           -0.5950727462768555,
           -0.9040012955665588,
           0.12389283627271652,
           0.778374195098877,
           1.1685274839401245,
           -0.2953015863895416,
           -0.4766688942909241,
           0.42982053756713867,
           1.6922030448913574,
           0.09608683735132217
          ],
          "id": 450,
          "words": "hut",
          "x": -0.3109082579612732,
          "y": 0.40802568197250366
         },
         {
          "emb": [
           0.4153316020965576,
           0.12921161949634552,
           1.825247883796692,
           0.9214659929275513,
           2.009229898452759,
           -0.05181329324841499,
           1.1547088623046875,
           1.0256025791168213,
           -0.6144408583641052,
           -1.7157584428787231
          ],
          "id": 451,
          "words": "exame",
          "x": 1.8186259269714355,
          "y": 1.5089160203933716
         },
         {
          "emb": [
           -1.7733566761016846,
           -0.42947113513946533,
           -2.4466428756713867,
           -0.7743233442306519,
           0.06584290415048599,
           -1.165557861328125,
           0.8205499649047852,
           0.3002597987651825,
           -2.226999282836914,
           -0.7032385468482971
          ],
          "id": 452,
          "words": "deixando",
          "x": -0.5133126378059387,
          "y": -3.120940923690796
         },
         {
          "emb": [
           -1.6911265850067139,
           -0.404990553855896,
           1.8175402879714966,
           -0.8591086268424988,
           0.027824273332953453,
           -0.7384675741195679,
           -2.2200050354003906,
           -0.6421826481819153,
           0.30117732286453247,
           1.3524264097213745
          ],
          "id": 453,
          "words": "tipperary",
          "x": -1.176116943359375,
          "y": 0.5891725420951843
         },
         {
          "emb": [
           -1.8806920051574707,
           -0.13748125731945038,
           0.6514253616333008,
           -0.7728912234306335,
           0.9890501499176025,
           -0.1311580091714859,
           1.732848882675171,
           -1.5707277059555054,
           0.8968168497085571,
           -0.45362281799316406
          ],
          "id": 454,
          "words": "real",
          "x": 0.9675754904747009,
          "y": -0.3918091952800751
         },
         {
          "emb": [
           1.3204435110092163,
           0.6264718770980835,
           1.3202091455459595,
           -0.7293696403503418,
           -0.6585649251937866,
           -0.4694771468639374,
           0.143947035074234,
           0.5649601221084595,
           -1.0597896575927734,
           -0.6098173260688782
          ],
          "id": 455,
          "words": "andrew",
          "x": 0.23403601348400116,
          "y": 0.7236074805259705
         },
         {
          "emb": [
           -0.14371544122695923,
           0.2460116446018219,
           0.370312362909317,
           -2.2954349517822266,
           0.12184084951877594,
           -1.3012925386428833,
           -0.7909552454948425,
           0.172721728682518,
           -0.27119162678718567,
           2.5289230346679688
          ],
          "id": 456,
          "words": "campanhas",
          "x": -2.5185317993164062,
          "y": 0.26190313696861267
         },
         {
          "emb": [
           0.45066025853157043,
           2.2165045738220215,
           -1.2953596115112305,
           -0.0995372012257576,
           0.1007649302482605,
           0.023842955008149147,
           0.5937009453773499,
           -0.8472710251808167,
           -0.9773821234703064,
           -1.0340367555618286
          ],
          "id": 457,
          "words": "duzentas",
          "x": 0.3393208682537079,
          "y": -1.235798954963684
         },
         {
          "emb": [
           -1.4424222707748413,
           0.23290865123271942,
           -0.5972108840942383,
           0.006799523252993822,
           -1.1673091650009155,
           -0.7835861444473267,
           0.5537852644920349,
           -1.5922425985336304,
           -0.5784795880317688,
           1.3717111349105835
          ],
          "id": 458,
          "words": "conceito",
          "x": -1.1652451753616333,
          "y": -0.7009085416793823
         },
         {
          "emb": [
           -0.004481570329517126,
           -1.4324311017990112,
           0.7769227623939514,
           -0.6630538105964661,
           0.7630385160446167,
           0.45186805725097656,
           -0.3815373480319977,
           0.8978150486946106,
           2.347856283187866,
           1.6675018072128296
          ],
          "id": 459,
          "words": "mundial",
          "x": -0.7140643000602722,
          "y": 1.2851159572601318
         },
         {
          "emb": [
           -1.0010557174682617,
           2.430445909500122,
           1.662681221961975,
           1.6200368404388428,
           -2.763455867767334,
           0.07921040803194046,
           -1.0757486820220947,
           -0.8186098337173462,
           0.4540615379810333,
           -0.8420493006706238
          ],
          "id": 460,
          "words": "projeção",
          "x": 0.13113251328468323,
          "y": 0.6200889945030212
         },
         {
          "emb": [
           -0.7299715280532837,
           0.24201442301273346,
           -0.3367042541503906,
           -0.32294762134552,
           0.3502156734466553,
           1.898980975151062,
           -0.6317926049232483,
           -0.7484034299850464,
           0.5692704916000366,
           -0.19424094259738922
          ],
          "id": 461,
          "words": "post",
          "x": 1.237131953239441,
          "y": -0.6366966366767883
         },
         {
          "emb": [
           -0.3488740622997284,
           -1.551239013671875,
           -1.5608043670654297,
           -1.1554436683654785,
           0.26467087864875793,
           -1.1962332725524902,
           0.658101499080658,
           -0.5295705199241638,
           0.05566604435443878,
           1.5789703130722046
          ],
          "id": 462,
          "words": "precipitada",
          "x": -1.6322520971298218,
          "y": -1.107319712638855
         },
         {
          "emb": [
           -0.10383290797472,
           -0.13021814823150635,
           -0.863507866859436,
           -0.37264466285705566,
           -0.5827890038490295,
           0.05339616909623146,
           1.0458478927612305,
           -1.02875816822052,
           1.4005943536758423,
           -1.132129192352295
          ],
          "id": 463,
          "words": "algumas",
          "x": 0.6188587546348572,
          "y": -1.232413649559021
         },
         {
          "emb": [
           -0.22242727875709534,
           -0.9750144481658936,
           -0.6956217288970947,
           -2.7671468257904053,
           0.2739839553833008,
           0.4368799030780792,
           0.5096132159233093,
           1.5758110284805298,
           1.3577443361282349,
           1.5670166015625
          ],
          "id": 464,
          "words": "ii",
          "x": -1.0502642393112183,
          "y": -0.6162996292114258
         },
         {
          "emb": [
           -0.5449111461639404,
           0.1796415001153946,
           0.4430842995643616,
           0.06521610915660858,
           1.7619653940200806,
           -0.9815945625305176,
           0.9732953906059265,
           0.32944542169570923,
           1.1027411222457886,
           0.11038879305124283
          ],
          "id": 465,
          "words": "computação",
          "x": -0.4431716799736023,
          "y": 0.6247668266296387
         },
         {
          "emb": [
           -1.5453381538391113,
           0.3282914459705353,
           -3.1008546352386475,
           0.34619444608688354,
           0.41924217343330383,
           -0.47162434458732605,
           0.7980214953422546,
           0.8369644284248352,
           -1.4704818725585938,
           0.34415778517723083
          ],
          "id": 466,
          "words": "planejou",
          "x": -1.0568464994430542,
          "y": -2.4182260036468506
         },
         {
          "emb": [
           0.28151124715805054,
           1.4407514333724976,
           0.7682621479034424,
           0.48824310302734375,
           0.7481148838996887,
           2.000079393386841,
           0.7511340379714966,
           2.2902121543884277,
           0.49716609716415405,
           -0.9252663254737854
          ],
          "id": 467,
          "words": "ator",
          "x": 1.6349002122879028,
          "y": 1.0527844429016113
         },
         {
          "emb": [
           1.1966549158096313,
           0.22108568251132965,
           1.0542876720428467,
           -0.40767109394073486,
           -2.2213492393493652,
           -0.43553486466407776,
           -0.6614065766334534,
           1.2153191566467285,
           0.6117762327194214,
           -1.8751986026763916
          ],
          "id": 468,
          "words": "descoberto",
          "x": 0.28766098618507385,
          "y": -0.07148673385381699
         },
         {
          "emb": [
           0.27244794368743896,
           -0.5116252899169922,
           0.10309230536222458,
           1.4901950359344482,
           1.121535062789917,
           0.6706669330596924,
           1.9079256057739258,
           1.538482904434204,
           -0.49586769938468933,
           1.0864449739456177
          ],
          "id": 469,
          "words": "indiciam",
          "x": 0.3415737450122833,
          "y": 1.6406142711639404
         },
         {
          "emb": [
           -1.4409160614013672,
           0.9515639543533325,
           -1.1288409233093262,
           -0.24579378962516785,
           1.3855575323104858,
           1.038367748260498,
           0.23899035155773163,
           -1.1670442819595337,
           -0.9072607159614563,
           -0.5601852536201477
          ],
          "id": 470,
          "words": "apesar",
          "x": 1.1361290216445923,
          "y": -1.4933843612670898
         },
         {
          "emb": [
           0.7708469033241272,
           -0.22717395424842834,
           0.36693522334098816,
           0.5741744637489319,
           0.5596625804901123,
           0.5932948589324951,
           0.6950470805168152,
           -0.9651476740837097,
           0.9394496083259583,
           0.43984368443489075
          ],
          "id": 471,
          "words": "feito",
          "x": 0.5656021237373352,
          "y": 1.0721508264541626
         },
         {
          "emb": [
           -0.3619193732738495,
           0.005330703221261501,
           1.248560905456543,
           1.5133895874023438,
           1.0745463371276855,
           -0.5961591005325317,
           -1.610148310661316,
           1.5962141752243042,
           -1.038021445274353,
           0.2739306092262268
          ],
          "id": 472,
          "words": "irmão",
          "x": -0.5317181944847107,
          "y": 1.3800716400146484
         },
         {
          "emb": [
           -0.3271809220314026,
           -1.6561113595962524,
           -0.13640597462654114,
           0.08296630531549454,
           0.042411208152770996,
           -0.1597166806459427,
           1.0919235944747925,
           -2.068751335144043,
           1.1901178359985352,
           -1.0717413425445557
          ],
          "id": 473,
          "words": "computador",
          "x": 1.2009611129760742,
          "y": -0.7046486735343933
         },
         {
          "emb": [
           -1.0438990592956543,
           0.5767583250999451,
           1.846436858177185,
           -0.02530408836901188,
           1.686971664428711,
           3.282705307006836,
           0.9867571592330933,
           1.310020923614502,
           0.49395376443862915,
           -1.2846746444702148
          ],
          "id": 474,
          "words": "segura",
          "x": 3.4504144191741943,
          "y": 1.152082085609436
         },
         {
          "emb": [
           1.3510545492172241,
           -0.5682938694953918,
           -0.32260051369667053,
           1.6171197891235352,
           -0.6325035691261292,
           1.007398009300232,
           0.5305580496788025,
           -2.739593029022217,
           1.2550510168075562,
           -0.6254299283027649
          ],
          "id": 475,
          "words": "códigos",
          "x": 1.483100175857544,
          "y": 0.38216760754585266
         },
         {
          "emb": [
           -0.5779903531074524,
           -0.18786120414733887,
           -0.7992225289344788,
           0.8900340795516968,
           0.09259287267923355,
           -0.6374422907829285,
           0.41620662808418274,
           0.5574281215667725,
           -0.5670446753501892,
           0.23482868075370789
          ],
          "id": 476,
          "words": "criptográfica",
          "x": -0.617577075958252,
          "y": -0.36539068818092346
         },
         {
          "emb": [
           -1.0020438432693481,
           0.32581934332847595,
           -1.426741361618042,
           -0.7348009943962097,
           2.2553489208221436,
           0.806698739528656,
           -0.5214912295341492,
           -0.2734171152114868,
           1.441926121711731,
           -1.3242826461791992
          ],
          "id": 477,
          "words": "onde",
          "x": 0.8826420307159424,
          "y": -1.7890865802764893
         },
         {
          "emb": [
           2.187800407409668,
           -0.734137237071991,
           0.08993039280176163,
           -0.552840530872345,
           1.0619767904281616,
           -0.33376145362854004,
           1.4758111238479614,
           -0.1667785942554474,
           0.9602667689323425,
           -0.17260445654392242
          ],
          "id": 478,
          "words": "ciência",
          "x": 0.3386599123477936,
          "y": 0.8437432050704956
         },
         {
          "emb": [
           -0.2265852987766266,
           0.3018096089363098,
           -0.033253539353609085,
           1.4196290969848633,
           0.040636081248521805,
           0.5853341817855835,
           1.474959373474121,
           -0.4388975501060486,
           -1.3449938297271729,
           -0.6269363760948181
          ],
          "id": 479,
          "words": "mit",
          "x": 1.3462340831756592,
          "y": 0.20097370445728302
         },
         {
          "emb": [
           -0.04288513958454132,
           -1.49856436252594,
           0.8287299275398254,
           -0.18500378727912903,
           1.1402777433395386,
           0.8389053344726562,
           -3.031203031539917,
           0.6631667017936707,
           -1.5293612480163574,
           -1.1789966821670532
          ],
          "id": 480,
          "words": "dose",
          "x": 1.3153119087219238,
          "y": -0.33035632967948914
         },
         {
          "emb": [
           -0.5258001685142517,
           -0.007754829246550798,
           0.27864813804626465,
           -1.5612455606460571,
           1.0322524309158325,
           1.9106725454330444,
           0.5445287823677063,
           -1.3641945123672485,
           -1.1278330087661743,
           1.517521858215332
          ],
          "id": 481,
          "words": "mergulha",
          "x": 1.0895127058029175,
          "y": 0.1769724041223526
         },
         {
          "emb": [
           -3.0310451984405518,
           0.36006811261177063,
           -3.295180559158325,
           0.14825496077537537,
           0.06002506986260414,
           0.9708527326583862,
           0.523005485534668,
           -1.1223468780517578,
           1.4717940092086792,
           -1.0218074321746826
          ],
          "id": 482,
          "words": "andava",
          "x": 0.47949135303497314,
          "y": -3.62365984916687
         },
         {
          "emb": [
           0.49523958563804626,
           -1.255988597869873,
           -1.1357837915420532,
           0.8788797855377197,
           -0.33361226320266724,
           0.8199447393417358,
           0.18820005655288696,
           -1.306241750717163,
           -1.0392727851867676,
           1.3565542697906494
          ],
          "id": 483,
          "words": "rápido",
          "x": 0.1327623426914215,
          "y": -0.04281550645828247
         },
         {
          "emb": [
           0.3097617030143738,
           -0.5879877209663391,
           0.8673192262649536,
           -0.1621135026216507,
           -0.21895518898963928,
           -0.4765518307685852,
           0.5434572100639343,
           -2.08160138130188,
           0.32628896832466125,
           -0.8883970379829407
          ],
          "id": 484,
          "words": "poderosos",
          "x": 0.9185262322425842,
          "y": 0.07625386863946915
         },
         {
          "emb": [
           -0.988110363483429,
           1.2439473867416382,
           2.122727394104004,
           -0.16325049102306366,
           -0.02783147059381008,
           0.2859386205673218,
           -0.21121346950531006,
           0.5808888077735901,
           1.7563270330429077,
           -0.22703994810581207
          ],
          "id": 485,
          "words": "sistema",
          "x": 0.24131733179092407,
          "y": 1.2626219987869263
         },
         {
          "emb": [
           0.7983975410461426,
           -0.5968111753463745,
           0.12604299187660217,
           0.18629775941371918,
           1.8606534004211426,
           0.09203305840492249,
           -0.7589530348777771,
           1.1963392496109009,
           -0.6130632758140564,
           -1.8349710702896118
          ],
          "id": 486,
          "words": "trazido",
          "x": 1.2061318159103394,
          "y": -0.17449110746383667
         },
         {
          "emb": [
           -0.8526598811149597,
           1.2253516912460327,
           0.23044809699058533,
           -0.08444720506668091,
           1.2749382257461548,
           -0.0986468568444252,
           -0.6079997420310974,
           1.069873571395874,
           -0.9930134415626526,
           -0.1514112949371338
          ],
          "id": 487,
          "words": "laboratório",
          "x": -0.1531258374452591,
          "y": -0.0698271319270134
         },
         {
          "emb": [
           0.9188827872276306,
           -1.0313180685043335,
           -0.6179852485656738,
           -0.006862481590360403,
           -0.7922002077102661,
           0.4136958718299866,
           1.3069688081741333,
           -0.6518003344535828,
           0.23421131074428558,
           -0.029475530609488487
          ],
          "id": 488,
          "words": "pedido",
          "x": 0.5896196961402893,
          "y": -0.20541836321353912
         },
         {
          "emb": [
           0.40890493988990784,
           0.33181703090667725,
           0.1963898092508316,
           -1.1235935688018799,
           0.2803345024585724,
           0.60057532787323,
           -0.2235664427280426,
           -0.12850087881088257,
           -2.334127426147461,
           0.6824660301208496
          ],
          "id": 489,
          "words": "bibliografia",
          "x": 0.3149999678134918,
          "y": -0.021637413650751114
         },
         {
          "emb": [
           1.0912882089614868,
           0.8350368142127991,
           0.8825808167457581,
           -0.05600721761584282,
           -1.8317041397094727,
           1.336114525794983,
           -1.29399573802948,
           0.07715476304292679,
           0.8669489622116089,
           -1.2660599946975708
          ],
          "id": 490,
          "words": "especializado",
          "x": 1.093943476676941,
          "y": 0.19545523822307587
         },
         {
          "emb": [
           0.31029778718948364,
           0.6239731311798096,
           -1.6418203115463257,
           1.0643129348754883,
           1.047836184501648,
           -1.611003041267395,
           -0.4787389039993286,
           0.7523981928825378,
           0.49032512307167053,
           1.0128785371780396
          ],
          "id": 491,
          "words": "impróprios",
          "x": -2.327223300933838,
          "y": -0.15581966936588287
         },
         {
          "emb": [
           1.363864779472351,
           0.563607931137085,
           0.7840021252632141,
           -1.9372390508651733,
           0.3433935344219208,
           0.9365273714065552,
           0.9612438678741455,
           0.020465191453695297,
           -0.15172666311264038,
           -0.19481946527957916
          ],
          "id": 492,
          "words": "seção",
          "x": 1.043599247932434,
          "y": 0.45110082626342773
         },
         {
          "emb": [
           -0.01794065535068512,
           1.3273648023605347,
           1.4893907308578491,
           -0.17192640900611877,
           0.5734861493110657,
           -0.11063183099031448,
           0.6761831045150757,
           0.6008683443069458,
           0.9395089149475098,
           -1.8059481382369995
          ],
          "id": 493,
          "words": "alan",
          "x": 1.0786467790603638,
          "y": 0.5751023888587952
         },
         {
          "emb": [
           1.12198805809021,
           0.985942542552948,
           1.6516863107681274,
           0.47088897228240967,
           0.11755385249853134,
           0.3977688252925873,
           1.301138997077942,
           -1.5714874267578125,
           0.6281542778015137,
           0.07593902200460434
          ],
          "id": 494,
          "words": "edward",
          "x": 0.9788745045661926,
          "y": 1.906063437461853
         },
         {
          "emb": [
           0.24048349261283875,
           -0.8440492749214172,
           0.9484084844589233,
           1.5042016506195068,
           -0.6913827657699585,
           -0.6213716864585876,
           -1.5133947134017944,
           -0.02828291431069374,
           -0.309874951839447,
           -1.7397247552871704
          ],
          "id": 495,
          "words": "armazenado",
          "x": 0.6738459467887878,
          "y": 0.13822293281555176
         },
         {
          "emb": [
           -0.8451525568962097,
           0.0966939702630043,
           1.3659265041351318,
           -0.19476839900016785,
           0.18700957298278809,
           -0.48673292994499207,
           -0.7688845992088318,
           -0.9050722122192383,
           0.9825631976127625,
           0.6341951489448547
          ],
          "id": 496,
          "words": "hastings",
          "x": -0.4893392324447632,
          "y": 0.7708027958869934
         },
         {
          "emb": [
           -0.8581459522247314,
           -0.5375211834907532,
           0.17563670873641968,
           0.07684275507926941,
           -1.1743130683898926,
           -0.05619392544031143,
           0.7673705220222473,
           0.5844775438308716,
           0.9108749032020569,
           -3.2054898738861084
          ],
          "id": 497,
          "words": "qualquer",
          "x": 1.733193278312683,
          "y": -1.5005897283554077
         },
         {
          "emb": [
           1.944257378578186,
           -0.8215329647064209,
           0.0975138321518898,
           -1.2424225807189941,
           1.2656121253967285,
           0.6401472091674805,
           0.13032163679599762,
           -0.5357489585876465,
           0.832952082157135,
           -0.9870386123657227
          ],
          "id": 498,
          "words": "ferro",
          "x": 1.2876474857330322,
          "y": 0.046732623130083084
         },
         {
          "emb": [
           0.9430128335952759,
           -0.8379141092300415,
           1.208177924156189,
           0.03992864862084389,
           0.5445738434791565,
           -1.4518427848815918,
           0.7434552311897278,
           -0.45724812150001526,
           -0.8068202137947083,
           0.5722941756248474
          ],
          "id": 499,
          "words": "terem",
          "x": -0.44526082277297974,
          "y": 1.3349285125732422
         },
         {
          "emb": [
           -1.9309470653533936,
           0.9973354339599609,
           1.1960455179214478,
           2.5426228046417236,
           -0.1503354161977768,
           -1.2608669996261597,
           1.8781309127807617,
           0.4379487931728363,
           0.26495039463043213,
           1.4080640077590942
          ],
          "id": 500,
          "words": "turing",
          "x": -1.1776283979415894,
          "y": 1.9401519298553467
         },
         {
          "emb": [
           -0.8200709223747253,
           -1.3627986907958984,
           -1.654711365699768,
           -0.1590326577425003,
           0.8897671699523926,
           0.4980168640613556,
           -0.9239303469657898,
           -0.34062066674232483,
           -0.3680077791213989,
           0.5535358786582947
          ],
          "id": 501,
          "words": "branca",
          "x": -0.13322174549102783,
          "y": -1.4151291847229004
         },
         {
          "emb": [
           0.2474198192358017,
           -0.5078682899475098,
           -1.3156763315200806,
           0.9238201379776001,
           0.043942708522081375,
           0.1237112283706665,
           0.3708634376525879,
           -0.2924819886684418,
           0.9157111048698425,
           -0.46913814544677734
          ],
          "id": 502,
          "words": "ligando",
          "x": 0.16031678020954132,
          "y": -0.6724705100059509
         },
         {
          "emb": [
           -0.2915460467338562,
           -0.34050965309143066,
           0.9218903183937073,
           0.35290083289146423,
           1.8123704195022583,
           -1.050515055656433,
           -0.7691985964775085,
           -0.10704496502876282,
           1.6272766590118408,
           -0.5376517176628113
          ],
          "id": 503,
          "words": "programa",
          "x": -0.25192198157310486,
          "y": 0.6510206460952759
         },
         {
          "emb": [
           -1.0769211053848267,
           0.6096591949462891,
           1.8980333805084229,
           0.5089757442474365,
           1.1628435850143433,
           0.14619173109531403,
           0.3600713610649109,
           -0.22466881573200226,
           -0.16748900711536407,
           0.4502403438091278
          ],
          "id": 504,
          "words": "ideia",
          "x": 0.5172216296195984,
          "y": 1.5634084939956665
         },
         {
          "emb": [
           1.5170669555664062,
           -0.345198392868042,
           -0.09713400900363922,
           0.43726253509521484,
           -0.3073982298374176,
           2.0169730186462402,
           0.5578500032424927,
           0.4566209614276886,
           -0.5726243853569031,
           0.2764071822166443
          ],
          "id": 505,
          "words": "efetuar",
          "x": 1.3566714525222778,
          "y": 0.8044195175170898
         },
         {
          "emb": [
           -1.8719720840454102,
           -0.19551950693130493,
           -0.8209986686706543,
           0.461852103471756,
           1.2048002481460571,
           -1.6328306198120117,
           0.22103255987167358,
           0.478471040725708,
           1.208061695098877,
           0.3196590542793274
          ],
          "id": 506,
          "words": "teórica",
          "x": -1.5130330324172974,
          "y": -0.7129796743392944
         },
         {
          "emb": [
           -1.5963335037231445,
           1.3909897804260254,
           1.119281530380249,
           1.4886530637741089,
           -0.7800489664077759,
           1.019809603691101,
           0.8485575914382935,
           1.8257445096969604,
           -2.141906499862671,
           0.08910942822694778
          ],
          "id": 507,
          "words": "baronete",
          "x": 0.8104182481765747,
          "y": 0.914614200592041
         },
         {
          "emb": [
           -0.4088342785835266,
           -0.149638369679451,
           -0.8522919416427612,
           0.999679684638977,
           -0.9088048934936523,
           -1.7408064603805542,
           -1.8387451171875,
           1.2771482467651367,
           -0.46100467443466187,
           0.06021437421441078
          ],
          "id": 508,
          "words": "meio",
          "x": -2.02207612991333,
          "y": -0.7987266778945923
         },
         {
          "emb": [
           1.8783531188964844,
           -0.8421791195869446,
           0.15246693789958954,
           0.059723712503910065,
           1.1624300479888916,
           0.15699617564678192,
           -0.300600528717041,
           0.04432825744152069,
           -1.4405277967453003,
           1.2283544540405273
          ],
          "id": 509,
          "words": "deste",
          "x": -0.1301998794078827,
          "y": 1.225754737854004
         },
         {
          "emb": [
           0.12481899559497833,
           -0.913870096206665,
           0.5628029108047485,
           -0.6245858669281006,
           0.7519429326057434,
           -0.8774070143699646,
           0.14661915600299835,
           0.03254634514451027,
           -1.7559601068496704,
           0.3478498160839081
          ],
          "id": 510,
          "words": "hoje",
          "x": -0.1532362848520279,
          "y": 0.20707957446575165
         },
         {
          "emb": [
           0.9592396020889282,
           1.6270101070404053,
           1.0977343320846558,
           0.22742797434329987,
           -0.15723928809165955,
           -1.3252613544464111,
           -1.2353566884994507,
           -0.759882926940918,
           -1.213735580444336,
           1.8103437423706055
          ],
          "id": 511,
          "words": "montada",
          "x": -1.8989728689193726,
          "y": 1.5824840068817139
         },
         {
          "emb": [
           -0.3369956910610199,
           -0.5122356414794922,
           -1.2659939527511597,
           1.3114280700683594,
           -0.5581408739089966,
           -0.8329302072525024,
           -0.06704641133546829,
           0.6635928153991699,
           1.1097450256347656,
           -0.8683685660362244
          ],
          "id": 512,
          "words": "service",
          "x": -0.5985032320022583,
          "y": -0.9610887765884399
         },
         {
          "emb": [
           0.023821916431188583,
           1.3821901082992554,
           -0.06799918413162231,
           0.06649421155452728,
           0.8286396861076355,
           2.1107280254364014,
           -0.8452673554420471,
           -0.495338499546051,
           0.4845023453235626,
           1.1327730417251587
          ],
          "id": 513,
          "words": "testada",
          "x": 0.4874740242958069,
          "y": 0.6466431021690369
         },
         {
          "emb": [
           0.5101016163825989,
           0.9739428162574768,
           -3.2571678161621094,
           0.6551349759101868,
           -0.5308265089988708,
           0.18634675443172455,
           -1.210074543952942,
           -0.850706934928894,
           -1.1970475912094116,
           0.215957909822464
          ],
          "id": 514,
          "words": "mudaram",
          "x": -0.9397348761558533,
          "y": -2.2177393436431885
         },
         {
          "emb": [
           -0.26983410120010376,
           -0.4105657637119293,
           -0.5165793895721436,
           2.3334591388702393,
           0.4983578026294708,
           -0.6013590097427368,
           1.450603723526001,
           -0.15111185610294342,
           2.228416919708252,
           1.7540814876556396
          ],
          "id": 515,
          "words": "cama",
          "x": -1.3055665493011475,
          "y": 1.465416669845581
         },
         {
          "emb": [
           0.6841071844100952,
           -1.4185991287231445,
           0.6752298474311829,
           -1.7367873191833496,
           0.5477432608604431,
           -0.176275834441185,
           0.7413097023963928,
           -0.8936429619789124,
           -0.10672114044427872,
           -0.18656419217586517
          ],
          "id": 516,
          "words": "tyldum",
          "x": 0.7344641089439392,
          "y": -0.0321086049079895
         },
         {
          "emb": [
           0.15093612670898438,
           -0.3434852659702301,
           0.21381023526191711,
           1.814011573791504,
           -1.0500476360321045,
           -0.44032034277915955,
           0.4963519275188446,
           0.194010391831398,
           1.5870251655578613,
           1.1439166069030762
          ],
          "id": 517,
          "words": "mãe",
          "x": -1.051148772239685,
          "y": 1.3295174837112427
         },
         {
          "emb": [
           -1.0651640892028809,
           -0.45379090309143066,
           1.0696954727172852,
           -0.4294983744621277,
           1.2751599550247192,
           2.269526481628418,
           -0.09601318091154099,
           -0.16997425258159637,
           0.8463859558105469,
           0.8225415349006653
          ],
          "id": 518,
          "words": "forma",
          "x": 1.4520561695098877,
          "y": 0.9140825271606445
         },
         {
          "emb": [
           0.5628235936164856,
           0.44603902101516724,
           0.9667472243309021,
           1.308341383934021,
           1.7476264238357544,
           2.9034676551818848,
           -1.5897053480148315,
           -1.7258635759353638,
           0.18762663006782532,
           -0.13106496632099152
          ],
          "id": 519,
          "words": "grayling",
          "x": 2.4423043727874756,
          "y": 1.3944035768508911
         },
         {
          "emb": [
           -2.0398612022399902,
           0.31657320261001587,
           0.11747127771377563,
           -1.8112949132919312,
           0.5001168847084045,
           0.22962166368961334,
           -1.926627278327942,
           1.1890308856964111,
           1.6756142377853394,
           -0.13730357587337494
          ],
          "id": 520,
          "words": "afirma",
          "x": -0.6519104242324829,
          "y": -1.2365695238113403
         },
         {
          "emb": [
           1.020419955253601,
           -0.7920840978622437,
           0.7346644997596741,
           0.308162659406662,
           0.21882657706737518,
           0.2158513069152832,
           0.7844827771186829,
           0.39734452962875366,
           -2.665181875228882,
           -1.0107083320617676
          ],
          "id": 521,
          "words": "mathematics",
          "x": 1.5670983791351318,
          "y": 0.42691364884376526
         },
         {
          "emb": [
           -0.13174761831760406,
           0.19615653157234192,
           -1.3347116708755493,
           0.01594780758023262,
           0.7753557562828064,
           -0.2094828486442566,
           -0.5035158395767212,
           0.24026066064834595,
           -0.25412052869796753,
           2.2367053031921387
          ],
          "id": 522,
          "words": "cs",
          "x": -1.8080121278762817,
          "y": -0.039996955543756485
         },
         {
          "emb": [
           1.8650524616241455,
           -0.6917573809623718,
           -0.18805530667304993,
           -0.6929113268852234,
           -0.15526804327964783,
           0.40430161356925964,
           0.7344723343849182,
           -1.4994577169418335,
           0.5814327001571655,
           0.2401857227087021
          ],
          "id": 523,
          "words": "além",
          "x": 0.5120906829833984,
          "y": 0.282826691865921
         },
         {
          "emb": [
           1.1951196193695068,
           0.06673040241003036,
           -0.36941009759902954,
           -1.1583366394042969,
           -0.11809442937374115,
           2.316391944885254,
           1.3149794340133667,
           -0.5958195924758911,
           -0.6769135594367981,
           0.8623052835464478
          ],
          "id": 524,
          "words": "morreu",
          "x": 1.4066962003707886,
          "y": 0.22677478194236755
         },
         {
          "emb": [
           0.7823666930198669,
           -1.1458463668823242,
           -0.9299476742744446,
           -0.9401782751083374,
           2.320666790008545,
           -0.0023275138810276985,
           -0.5869596004486084,
           -0.8482816815376282,
           1.5109444856643677,
           -2.8383400440216064
          ],
          "id": 525,
          "words": "norueguês",
          "x": 1.6597058773040771,
          "y": -1.7159628868103027
         },
         {
          "emb": [
           -0.5739881992340088,
           -1.617016315460205,
           -0.2312476634979248,
           0.05533242225646973,
           -0.06548076122999191,
           0.33325257897377014,
           -0.2521366775035858,
           1.658962368965149,
           0.0975334569811821,
           -1.2174705266952515
          ],
          "id": 526,
          "words": "madras",
          "x": 0.7814971208572388,
          "y": -0.8393271565437317
         },
         {
          "emb": [
           0.7330843806266785,
           0.6557255387306213,
           -1.2250335216522217,
           -1.3893139362335205,
           -0.40308183431625366,
           1.2926337718963623,
           -0.14120866358280182,
           -0.704787015914917,
           -0.6555891633033752,
           -1.008131980895996
          ],
          "id": 527,
          "words": "simples",
          "x": 1.1369229555130005,
          "y": -1.6785109043121338
         },
         {
          "emb": [
           -0.9929544925689697,
           -0.6039902567863464,
           -1.152565360069275,
           0.841218888759613,
           -0.11299379914999008,
           1.4209868907928467,
           0.5353959798812866,
           -0.734604001045227,
           -0.2959836423397064,
           -0.15419349074363708
          ],
          "id": 528,
          "words": "internet",
          "x": 1.1829700469970703,
          "y": -0.9451972246170044
         },
         {
          "emb": [
           -0.9933791756629944,
           -0.4995501935482025,
           -1.6622087955474854,
           0.1343332976102829,
           -1.2517356872558594,
           0.9031338691711426,
           -0.33017492294311523,
           -0.8937399387359619,
           1.1864688396453857,
           -1.175162434577942
          ],
          "id": 529,
          "words": "trabalho",
          "x": 0.7420719265937805,
          "y": -2.1845383644104004
         },
         {
          "emb": [
           -0.7644521594047546,
           0.7426815629005432,
           -0.01748795062303543,
           1.9342647790908813,
           -0.6478398442268372,
           0.7192587852478027,
           1.1071819067001343,
           1.4998912811279297,
           -0.1375824213027954,
           0.16667336225509644
          ],
          "id": 530,
          "words": "dar",
          "x": 0.2492510825395584,
          "y": 0.7167803645133972
         },
         {
          "emb": [
           -0.4669857919216156,
           -1.1765846014022827,
           -1.140594244003296,
           0.9965029358863831,
           -0.2556437849998474,
           -0.8585623502731323,
           0.7429426908493042,
           -0.004504587966948748,
           0.7837732434272766,
           2.1487107276916504
          ],
          "id": 531,
          "words": "primeiros",
          "x": -1.8465607166290283,
          "y": 0.2624770998954773
         },
         {
          "emb": [
           -2.1589865684509277,
           -0.9562200903892517,
           -1.1158987283706665,
           -0.21319983899593353,
           1.1578046083450317,
           0.4795902669429779,
           1.3171597719192505,
           -0.995404839515686,
           -0.2443687617778778,
           -1.188141942024231
          ],
          "id": 532,
          "words": "estudos",
          "x": 1.5182948112487793,
          "y": -1.9446407556533813
         },
         {
          "emb": [
           -1.326709270477295,
           -0.1372142732143402,
           0.32025668025016785,
           0.5378395318984985,
           -0.9783062934875488,
           0.046321287751197815,
           0.5447337627410889,
           0.3334696888923645,
           0.06781363487243652,
           1.315721869468689
          ],
          "id": 533,
          "words": "estrogênio",
          "x": -0.6695539951324463,
          "y": 0.4531094431877136
         },
         {
          "emb": [
           -0.09931112080812454,
           -0.8780373930931091,
           -0.12132662534713745,
           -0.6073219776153564,
           0.7597838640213013,
           0.5476426482200623,
           -0.4123433232307434,
           -2.1431682109832764,
           -0.5664255619049072,
           0.05009913817048073
          ],
          "id": 534,
          "words": "revolutionary",
          "x": 0.9175597429275513,
          "y": -0.5495370030403137
         },
         {
          "emb": [
           -1.326972246170044,
           0.08813804388046265,
           0.8045388460159302,
           -0.19240160286426544,
           1.633583426475525,
           0.7434824109077454,
           -0.1705382764339447,
           0.7592636346817017,
           -0.0948883593082428,
           0.12378950417041779
          ],
          "id": 535,
          "words": "obrigando",
          "x": 0.658515989780426,
          "y": 0.40653520822525024
         },
         {
          "emb": [
           1.771884799003601,
           -1.600815773010254,
           1.2712805271148682,
           -0.15299871563911438,
           1.658469319343567,
           0.49848005175590515,
           0.016749227419495583,
           0.4302566647529602,
           0.053385358303785324,
           -0.17793019115924835
          ],
          "id": 536,
          "words": "presença",
          "x": 1.156980276107788,
          "y": 1.57998526096344
         },
         {
          "emb": [
           0.019868498668074608,
           -1.5725958347320557,
           0.48978549242019653,
           1.905584454536438,
           -0.4090217649936676,
           -0.12837673723697662,
           -0.16911455988883972,
           0.5189109444618225,
           -0.3212883770465851,
           -0.9511899352073669
          ],
          "id": 537,
          "words": "sara",
          "x": 0.8006364107131958,
          "y": 0.45922911167144775
         },
         {
          "emb": [
           1.5071861743927002,
           -0.40578123927116394,
           0.12795446813106537,
           0.36063987016677856,
           -0.11519992351531982,
           0.4517742991447449,
           0.5985162258148193,
           0.8334528207778931,
           0.45870524644851685,
           -0.19272670149803162
          ],
          "id": 538,
          "words": "invention",
          "x": 0.4401986300945282,
          "y": 0.7946475148200989
         },
         {
          "emb": [
           0.5826014280319214,
           0.05967721343040466,
           -2.764458417892456,
           -2.558198928833008,
           -0.6885375380516052,
           -1.520251750946045,
           0.8041677474975586,
           0.11076895147562027,
           -0.7349956631660461,
           0.14548633992671967
          ],
          "id": 539,
          "words": "outra",
          "x": -1.746360182762146,
          "y": -2.8372538089752197
         },
         {
          "emb": [
           0.7084100842475891,
           0.04951972886919975,
           1.0949125289916992,
           -0.8416687846183777,
           -0.5444846153259277,
           -2.068913221359253,
           -1.1019489765167236,
           -0.5714321136474609,
           -0.2239009290933609,
           -0.09500432759523392
          ],
          "id": 540,
          "words": "enigma",
          "x": -1.278031587600708,
          "y": 0.23493698239326477
         },
         {
          "emb": [
           -1.8653441667556763,
           0.1759725958108902,
           0.4031851291656494,
           -0.8488972783088684,
           0.2130293995141983,
           1.4827086925506592,
           -0.23350979387760162,
           -1.061110019683838,
           0.3592429459095001,
           -0.1142834722995758
          ],
          "id": 541,
          "words": "criptoanalista",
          "x": 1.233850359916687,
          "y": -0.692255437374115
         },
         {
          "emb": [
           0.4049285650253296,
           1.0304951667785645,
           -0.632494330406189,
           0.9475509524345398,
           0.21355007588863373,
           -1.2300554513931274,
           0.20192711055278778,
           0.15459147095680237,
           -2.048344850540161,
           0.5592984557151794
          ],
          "id": 542,
          "words": "queriam",
          "x": -1.1177366971969604,
          "y": 0.1003282368183136
         },
         {
          "emb": [
           1.9258522987365723,
           -0.8890262842178345,
           0.7743352055549622,
           2.2498655319213867,
           -0.20555512607097626,
           -0.17200016975402832,
           -0.1311740279197693,
           0.055410780012607574,
           -1.4735873937606812,
           -0.5977864861488342
          ],
          "id": 543,
          "words": "dotado",
          "x": 0.818672776222229,
          "y": 1.5092859268188477
         },
         {
          "emb": [
           0.8930385708808899,
           0.18338175117969513,
           -1.414119005203247,
           1.3294047117233276,
           0.12689833343029022,
           1.678808331489563,
           0.16155588626861572,
           1.4834778308868408,
           0.4324648976325989,
           -0.32660895586013794
          ],
          "id": 544,
          "words": "ativa",
          "x": 0.7296004295349121,
          "y": -0.08128206431865692
         },
         {
          "emb": [
           0.5287126898765564,
           -1.05314302444458,
           -0.4235576391220093,
           0.03964896500110626,
           0.6631296873092651,
           -1.3771628141403198,
           0.008389202877879143,
           -0.1130865141749382,
           -0.49046504497528076,
           0.8263759613037109
          ],
          "id": 545,
          "words": "fatal",
          "x": -1.159106969833374,
          "y": 0.10674185305833817
         },
         {
          "emb": [
           0.11351334303617477,
           1.0977513790130615,
           0.6803585290908813,
           1.1407787799835205,
           -0.6551950573921204,
           -0.6775571703910828,
           -1.8197752237319946,
           -2.0273430347442627,
           0.7301976084709167,
           0.7676361203193665
          ],
          "id": 546,
          "words": "criação",
          "x": -1.0689740180969238,
          "y": 0.8098384737968445
         },
         {
          "emb": [
           0.2969921827316284,
           0.06790737807750702,
           0.3111785352230072,
           -0.7063583135604858,
           0.9891862869262695,
           -0.595117449760437,
           0.104495108127594,
           0.895819365978241,
           1.344315767288208,
           0.8362703323364258
          ],
          "id": 547,
          "words": "governo",
          "x": -1.0516098737716675,
          "y": 0.7089856863021851
         },
         {
          "emb": [
           -0.2557760775089264,
           -0.47752824425697327,
           0.38865312933921814,
           -0.13928847014904022,
           0.511896550655365,
           2.2416532039642334,
           1.6395378112792969,
           -0.14138482511043549,
           -2.574763536453247,
           -0.5744845867156982
          ],
          "id": 548,
          "words": "morfogênese",
          "x": 2.8356235027313232,
          "y": 0.018541812896728516
         },
         {
          "emb": [
           0.6644603610038757,
           -2.507577896118164,
           0.2530915141105652,
           -1.359057068824768,
           -0.2636001706123352,
           -1.3133034706115723,
           -0.6481075286865234,
           -1.9404244422912598,
           1.0160092115402222,
           0.39189857244491577
          ],
          "id": 549,
          "words": "tornasse",
          "x": -0.6393843293190002,
          "y": -0.37717920541763306
         },
         {
          "emb": [
           -2.238678455352783,
           -1.2380540370941162,
           0.28015875816345215,
           -0.22376607358455658,
           -0.2013607770204544,
           -0.7466477155685425,
           1.57651948928833,
           1.386186957359314,
           -0.20493796467781067,
           2.148627758026123
          ],
          "id": 550,
          "words": "david",
          "x": -1.3829576969146729,
          "y": 0.3946201503276825
         },
         {
          "emb": [
           -1.0796624422073364,
           1.1388299465179443,
           -0.8220399022102356,
           -2.004101037979126,
           -0.6656492352485657,
           -1.2762274742126465,
           -1.3013255596160889,
           -0.0370556078851223,
           1.2359702587127686,
           2.09136962890625
          ],
          "id": 551,
          "words": "interpretado",
          "x": -3.069856643676758,
          "y": -1.0062681436538696
         },
         {
          "emb": [
           -3.492093086242676,
           -1.2026208639144897,
           1.5673000812530518,
           0.26433369517326355,
           1.4658888578414917,
           -2.0428426265716553,
           -0.781825065612793,
           1.7824327945709229,
           -0.25975972414016724,
           0.05009011924266815
          ],
          "id": 552,
          "words": "influente",
          "x": -1.0814086198806763,
          "y": 0.09299741685390472
         },
         {
          "emb": [
           1.1314008235931396,
           2.008363723754883,
           -0.1095544770359993,
           -1.2336902618408203,
           0.2903616726398468,
           -0.39156097173690796,
           -0.5900459885597229,
           -0.7395350337028503,
           1.4336602687835693,
           0.11785443127155304
          ],
          "id": 553,
          "words": "jacobi",
          "x": -0.9051825404167175,
          "y": -0.015099736861884594
         },
         {
          "emb": [
           -0.7906063795089722,
           0.8231615424156189,
           0.43887898325920105,
           -0.32869553565979004,
           1.0671907663345337,
           -0.39730095863342285,
           1.4415313005447388,
           -1.644248366355896,
           -0.06833699345588684,
           -0.5036194920539856
          ],
          "id": 554,
          "words": "ingestão",
          "x": 0.7160685658454895,
          "y": -0.11531480401754379
         },
         {
          "emb": [
           -0.5830833315849304,
           1.023787498474121,
           -0.3063430190086365,
           -0.7935847640037537,
           -0.2682240903377533,
           -0.2693556845188141,
           -0.33428242802619934,
           -0.38555610179901123,
           -0.5985449552536011,
           0.097088523209095
          ],
          "id": 555,
          "words": "pedidos",
          "x": -0.4646856486797333,
          "y": -0.8270264267921448
         },
         {
          "emb": [
           -0.23086248338222504,
           -0.5444360971450806,
           0.3915730118751526,
           -0.4482637643814087,
           0.5199828743934631,
           -0.23917578160762787,
           0.7771860361099243,
           2.337531805038452,
           -0.2995406985282898,
           -0.06876838207244873
          ],
          "id": 556,
          "words": "general",
          "x": -0.09498009830713272,
          "y": 0.2890041172504425
         },
         {
          "emb": [
           0.2755456268787384,
           -1.3559483289718628,
           2.281989574432373,
           -0.3980427384376526,
           1.6288315057754517,
           -0.3027234971523285,
           0.17668108642101288,
           -0.14982114732265472,
           0.016563111916184425,
           0.2745380103588104
          ],
          "id": 557,
          "words": "cinebiografias",
          "x": 0.6886679530143738,
          "y": 1.8268846273422241
         },
         {
          "emb": [
           0.33632972836494446,
           0.17854386568069458,
           -0.4948137402534485,
           -0.8523833751678467,
           -0.7388308644294739,
           -0.2130715698003769,
           -0.3480564057826996,
           0.7461955547332764,
           -1.7850052118301392,
           -0.7752452492713928
          ],
          "id": 558,
          "words": "nome",
          "x": 0.07774771749973297,
          "y": -1.1565159559249878
         },
         {
          "emb": [
           1.3385106325149536,
           -1.2206443548202515,
           -0.7562257647514343,
           -0.4256649911403656,
           -2.529715061187744,
           -0.106805220246315,
           -0.8017688989639282,
           0.4413406252861023,
           -0.12489860504865646,
           0.882956326007843
          ],
          "id": 559,
          "words": "inglaterra",
          "x": -1.1048880815505981,
          "y": -0.42215511202812195
         },
         {
          "emb": [
           -0.17309683561325073,
           1.2060450315475464,
           1.3311107158660889,
           1.542317509651184,
           -2.5554537773132324,
           -0.03356843441724777,
           1.4921894073486328,
           -1.1571297645568848,
           1.7595996856689453,
           -0.44969913363456726
          ],
          "id": 560,
          "words": "residência",
          "x": 0.39039868116378784,
          "y": 1.1579734086990356
         },
         {
          "emb": [
           0.3616626560688019,
           0.3807440400123596,
           -0.3171239197254181,
           -1.491137981414795,
           -1.3048335313796997,
           -0.06776991486549377,
           -0.2281631976366043,
           0.02382633462548256,
           0.7230362892150879,
           -0.18185023963451385
          ],
          "id": 561,
          "words": "junho",
          "x": -0.45069342851638794,
          "y": -0.8959765434265137
         },
         {
          "emb": [
           0.24700339138507843,
           -0.09827879071235657,
           -0.5932959914207458,
           0.7784968018531799,
           0.27944421768188477,
           3.056211233139038,
           1.3715049028396606,
           0.11325789988040924,
           -0.5021638870239258,
           -1.030260443687439
          ],
          "id": 562,
          "words": "reações",
          "x": 2.954744577407837,
          "y": -0.1692761331796646
         },
         {
          "emb": [
           -2.536118268966675,
           0.8743655681610107,
           2.3902337551116943,
           -2.9393470287323,
           -0.34345653653144836,
           -0.609486997127533,
           -1.1369576454162598,
           -0.13752484321594238,
           -0.1438196450471878,
           0.9499024748802185
          ],
          "id": 563,
          "words": "comida",
          "x": -0.8610215187072754,
          "y": -0.04636082798242569
         },
         {
          "emb": [
           0.8716896772384644,
           0.472613126039505,
           -2.9807374477386475,
           0.18861865997314453,
           -0.7812052369117737,
           0.5692890286445618,
           -0.9302706122398376,
           1.4975266456604004,
           -0.7392197847366333,
           -0.00489642983302474
          ],
          "id": 564,
          "words": "tendo",
          "x": -0.8728740811347961,
          "y": -1.9149693250656128
         },
         {
          "emb": [
           -0.8546819686889648,
           -0.5523152351379395,
           0.20690645277500153,
           1.7028908729553223,
           1.9925938844680786,
           -1.0801273584365845,
           0.8424355387687683,
           -1.7030805349349976,
           -0.06439686566591263,
           -1.2092589139938354
          ],
          "id": 565,
          "words": "inquérito",
          "x": 0.9101269245147705,
          "y": 0.07607343047857285
         },
         {
          "emb": [
           -0.8643361330032349,
           0.16004836559295654,
           -0.3675082325935364,
           -1.1895533800125122,
           0.3198339641094208,
           1.7404056787490845,
           -0.7806549072265625,
           0.08344797044992447,
           1.4475315809249878,
           0.315774142742157
          ],
          "id": 566,
          "words": "tornou",
          "x": 0.49834275245666504,
          "y": -0.6897756457328796
         },
         {
          "emb": [
           -0.4451538920402527,
           -0.2968134880065918,
           -0.6724321842193604,
           0.8371051549911499,
           -1.790293574333191,
           0.8176071047782898,
           0.9585451483726501,
           0.06007727235555649,
           0.708818256855011,
           -0.9791173934936523
          ],
          "id": 567,
          "words": "operavam",
          "x": 0.9142469167709351,
          "y": -0.8195638656616211
         },
         {
          "emb": [
           0.508470892906189,
           0.8827581405639648,
           -0.4981045126914978,
           -0.0726301446557045,
           2.062314987182617,
           -0.23855724930763245,
           -1.0902444124221802,
           0.4014907479286194,
           1.68495774269104,
           -0.17878057062625885
          ],
          "id": 568,
          "words": "causada",
          "x": -0.6209163069725037,
          "y": 0.061701610684394836
         },
         {
          "emb": [
           0.4471883475780487,
           -1.3526419401168823,
           0.8175985813140869,
           0.6569463610649109,
           -2.5956339836120605,
           1.4837929010391235,
           0.5146118998527527,
           1.9847021102905273,
           0.057345449924468994,
           -0.09848210215568542
          ],
          "id": 569,
          "words": "jon",
          "x": 0.9667240977287292,
          "y": 0.7849017381668091
         },
         {
          "emb": [
           -0.5702906847000122,
           0.5515722632408142,
           0.8206694722175598,
           -0.31969085335731506,
           -0.29239967465400696,
           -1.3903872966766357,
           0.9357776045799255,
           0.014243615791201591,
           -0.33735862374305725,
           1.7934746742248535
          ],
          "id": 570,
          "words": "corpo",
          "x": -1.6691912412643433,
          "y": 0.993114173412323
         },
         {
          "emb": [
           1.8524110317230225,
           0.2820125222206116,
           -0.42798733711242676,
           -1.0543509721755981,
           -0.7052209973335266,
           -0.4263801574707031,
           -0.2727121412754059,
           -1.4962265491485596,
           -0.9414899349212646,
           -0.19861899316310883
          ],
          "id": 571,
          "words": "of",
          "x": -0.10377480089664459,
          "y": -0.5464392304420471
         },
         {
          "emb": [
           -0.0415286123752594,
           1.0356590747833252,
           0.8918818235397339,
           0.726525068283081,
           -0.40494292974472046,
           -1.233727216720581,
           -1.3926042318344116,
           1.2998298406600952,
           -0.054106228053569794,
           0.3681376874446869
          ],
          "id": 572,
          "words": "elizabeth",
          "x": -1.5370540618896484,
          "y": 0.8721902370452881
         },
         {
          "emb": [
           -0.6659360527992249,
           -0.4472062587738037,
           0.431824266910553,
           2.0605175495147705,
           -0.6861714720726013,
           -0.6883309483528137,
           -1.5043809413909912,
           -1.65227210521698,
           -0.07857946306467056,
           1.9344395399093628
          ],
          "id": 573,
          "words": "consagrou",
          "x": -1.4004706144332886,
          "y": 1.106810212135315
         },
         {
          "emb": [
           -0.8461198806762695,
           1.0631823539733887,
           -0.6300729513168335,
           -0.10080168396234512,
           -0.5533189177513123,
           0.2270321249961853,
           0.5578562021255493,
           1.5310413837432861,
           -0.6616477966308594,
           -0.5430697798728943
          ],
          "id": 574,
          "words": "derek",
          "x": -0.0014754614094272256,
          "y": -0.899539589881897
         },
         {
          "emb": [
           -0.24911059439182281,
           0.2851046919822693,
           -0.06592357158660889,
           1.0374748706817627,
           2.2079055309295654,
           2.2259225845336914,
           0.712060809135437,
           -0.931291937828064,
           1.3942606449127197,
           -0.19605915248394012
          ],
          "id": 575,
          "words": "importante",
          "x": 1.9977200031280518,
          "y": 0.7309743762016296
         },
         {
          "emb": [
           0.3341387212276459,
           0.43766167759895325,
           1.9481761455535889,
           -0.12847398221492767,
           -0.4439488649368286,
           1.3562226295471191,
           -1.071581482887268,
           0.3481796383857727,
           -0.03839236870408058,
           0.3202895522117615
          ],
          "id": 576,
          "words": "anterior",
          "x": 0.8207048177719116,
          "y": 1.5044013261795044
         },
         {
          "emb": [
           -1.553148865699768,
           1.3362971544265747,
           -0.5163481831550598,
           0.06654651463031769,
           -0.7676090598106384,
           0.6356271505355835,
           0.6372240781784058,
           -0.3767006993293762,
           0.583773136138916,
           -0.2931002080440521
          ],
          "id": 577,
          "words": "sob",
          "x": 0.2762426733970642,
          "y": -0.9344450831413269
         },
         {
          "emb": [
           -0.40843909978866577,
           1.5871264934539795,
           -0.11087511479854584,
           -0.3989272117614746,
           0.5433380603790283,
           0.5988402962684631,
           -2.4260194301605225,
           -0.8566659092903137,
           -0.44380131363868713,
           -1.2043049335479736
          ],
          "id": 578,
          "words": "conduzida",
          "x": 0.5673991441726685,
          "y": -1.1182935237884521
         },
         {
          "emb": [
           0.13216561079025269,
           -0.6581568121910095,
           -1.484865427017212,
           -0.2747933268547058,
           -1.1151372194290161,
           -0.10332843661308289,
           -1.6967421770095825,
           0.9459735751152039,
           -0.3932255804538727,
           -0.21113556623458862
          ],
          "id": 579,
          "words": "delineada",
          "x": -0.8160645961761475,
          "y": -1.6113137006759644
         },
         {
          "emb": [
           0.8072676062583923,
           1.80647611618042,
           1.8965601921081543,
           -0.7793752551078796,
           -0.28203412890434265,
           -0.4553045928478241,
           -0.5077248215675354,
           -2.0330941677093506,
           -0.08847468346357346,
           0.7747603058815002
          ],
          "id": 580,
          "words": "consagração",
          "x": -0.3756484389305115,
          "y": 1.4219480752944946
         },
         {
          "emb": [
           -0.8980804681777954,
           2.6556873321533203,
           0.5907630324363708,
           -0.3875536620616913,
           -0.35872283577919006,
           -2.628448724746704,
           -0.6119384765625,
           -0.9916828274726868,
           -0.22995083034038544,
           -0.3200834393501282
          ],
          "id": 581,
          "words": "símbolos",
          "x": -1.884731411933899,
          "y": -0.44317764043807983
         },
         {
          "emb": [
           0.38545307517051697,
           -1.203752040863037,
           -0.6587062478065491,
           -0.9712966084480286,
           -2.097043514251709,
           -1.2318096160888672,
           -0.17506437003612518,
           0.6948343515396118,
           -0.2563890516757965,
           0.23595091700553894
          ],
          "id": 582,
          "words": "benedict",
          "x": -1.3447365760803223,
          "y": -1.0611281394958496
         },
         {
          "emb": [
           1.0116620063781738,
           -0.8731527924537659,
           -0.7530102133750916,
           0.185999795794487,
           -0.7150646448135376,
           0.3427194356918335,
           2.0419740676879883,
           -0.32256174087524414,
           -0.12790115177631378,
           -0.46124160289764404
          ],
          "id": 583,
          "words": "declarar",
          "x": 0.8921651840209961,
          "y": -0.27860957384109497
         },
         {
          "emb": [
           1.750680685043335,
           0.6138697266578674,
           -0.8427078723907471,
           0.16269801557064056,
           2.3043484687805176,
           -1.457878589630127,
           0.08105888962745667,
           -0.3993253707885742,
           0.5146054625511169,
           -0.4173877239227295
          ],
          "id": 584,
          "words": "eletromecânica",
          "x": -0.7593814730644226,
          "y": 0.1361970454454422
         },
         {
          "emb": [
           -0.8318997025489807,
           -2.7875125408172607,
           2.2312724590301514,
           0.8202143907546997,
           1.6316887140274048,
           -0.4539627134799957,
           1.5220469236373901,
           0.6004298329353333,
           0.39573046565055847,
           -0.8397029638290405
          ],
          "id": 585,
          "words": "direcionado",
          "x": 1.5978763103485107,
          "y": 1.5686328411102295
         },
         {
          "emb": [
           0.7113838791847229,
           -0.8565546870231628,
           0.055240631103515625,
           0.7810952067375183,
           -0.25698038935661316,
           -1.0924296379089355,
           0.40864452719688416,
           0.29172709584236145,
           1.564842939376831,
           1.7431390285491943
          ],
          "id": 586,
          "words": "sofrera",
          "x": -1.7691646814346313,
          "y": 1.3270604610443115
         },
         {
          "emb": [
           -0.02474924363195896,
           -1.0714441537857056,
           -1.3817733526229858,
           -0.18299682438373566,
           0.6506521105766296,
           -1.5706350803375244,
           -1.0112444162368774,
           1.0078736543655396,
           -0.2768571972846985,
           -1.131858468055725
          ],
          "id": 587,
          "words": "ajudou",
          "x": -0.85768723487854,
          "y": -1.698228120803833
         },
         {
          "emb": [
           -0.5429362654685974,
           0.04305798560380936,
           -1.7856496572494507,
           0.44885921478271484,
           -0.6539275050163269,
           0.03350311517715454,
           0.15448571741580963,
           -1.0721516609191895,
           0.6523082256317139,
           1.7455438375473022
          ],
          "id": 588,
          "words": "brown",
          "x": -1.3591187000274658,
          "y": -0.713102400302887
         },
         {
          "emb": [
           0.7327557802200317,
           0.6510374546051025,
           0.7403343319892883,
           0.21838286519050598,
           -0.5225472450256348,
           0.31466811895370483,
           -0.0009407336474396288,
           1.5368971824645996,
           0.5489423871040344,
           -0.8958541750907898
          ],
          "id": 589,
          "words": "reino",
          "x": 0.4031834304332733,
          "y": 0.6105323433876038
         },
         {
          "emb": [
           -0.42198866605758667,
           -0.6394941210746765,
           0.5118980407714844,
           0.505748450756073,
           -2.06564998626709,
           -0.6793236136436462,
           -0.4603128731250763,
           0.739563524723053,
           0.8758818507194519,
           -0.1540345549583435
          ],
          "id": 590,
          "words": "terapias",
          "x": -0.7150295972824097,
          "y": 0.015737110748887062
         },
         {
          "emb": [
           -0.43821975588798523,
           0.3493577241897583,
           0.17945288121700287,
           -1.1242319345474243,
           1.8136305809020996,
           0.11018145829439163,
           -0.2191055864095688,
           -0.30296334624290466,
           -0.5446073412895203,
           -0.3430715799331665
          ],
          "id": 591,
          "words": "pedirem",
          "x": 0.5248820781707764,
          "y": -0.4162699282169342
         },
         {
          "emb": [
           0.4376514256000519,
           1.6539493799209595,
           -1.5962508916854858,
           -0.562920093536377,
           -0.018130771815776825,
           -0.6681016087532043,
           0.29229989647865295,
           -1.6160874366760254,
           -0.009475241415202618,
           0.27816811203956604
          ],
          "id": 592,
          "words": "ilegais",
          "x": -0.9621344804763794,
          "y": -1.1834508180618286
         },
         {
          "emb": [
           0.22112426161766052,
           -1.1161948442459106,
           1.0433622598648071,
           -1.2984182834625244,
           0.48330262303352356,
           -1.136516809463501,
           -0.49354884028434753,
           1.2495721578598022,
           -1.2173806428909302,
           -2.5902671813964844
          ],
          "id": 593,
          "words": "ethel",
          "x": 1.0266329050064087,
          "y": -0.8890437483787537
         },
         {
          "emb": [
           -0.40681251883506775,
           -1.200378656387329,
           0.5340123772621155,
           1.6097439527511597,
           -0.6634891629219055,
           -1.374790906906128,
           0.6370097398757935,
           0.046474020928144455,
           -0.6777232885360718,
           1.301059603691101
          ],
          "id": 594,
          "words": "alguma",
          "x": -1.1360586881637573,
          "y": 1.122532606124878
         },
         {
          "emb": [
           1.1739189624786377,
           0.23767772316932678,
           1.5049644708633423,
           -2.3451547622680664,
           1.2964597940444946,
           -1.664560317993164,
           0.5436684489250183,
           1.4930819272994995,
           0.13757920265197754,
           0.8943937420845032
          ],
          "id": 595,
          "words": "juventude",
          "x": -1.414088249206543,
          "y": 1.284173846244812
         },
         {
          "emb": [
           0.6248577833175659,
           -1.7646961212158203,
           -1.9039424657821655,
           -0.5008116960525513,
           0.10215222090482712,
           -1.3398101329803467,
           1.2174636125564575,
           -1.3053048849105835,
           -0.4661465883255005,
           0.3462127447128296
          ],
          "id": 596,
          "words": "inalação",
          "x": -0.7322826385498047,
          "y": -1.397050142288208
         },
         {
          "emb": [
           -0.7414040565490723,
           0.6984621286392212,
           0.954167366027832,
           0.4464276134967804,
           -1.400140643119812,
           1.6220201253890991,
           0.1299566924571991,
           0.7858968377113342,
           -0.38594353199005127,
           1.3938645124435425
          ],
          "id": 597,
          "words": "maida",
          "x": 0.2187929004430771,
          "y": 1.1362290382385254
         },
         {
          "emb": [
           0.7471067905426025,
           1.1403496265411377,
           0.02715122513473034,
           -0.25924235582351685,
           1.7057081460952759,
           -0.6771038770675659,
           -0.5227432250976562,
           -1.1681774854660034,
           0.31292733550071716,
           0.667201578617096
          ],
          "id": 598,
          "words": "londres",
          "x": -0.7734737992286682,
          "y": 0.5539133548736572
         },
         {
          "emb": [
           0.7615945339202881,
           -0.13675321638584137,
           -0.36716508865356445,
           1.8547215461730957,
           0.8511807918548584,
           1.5801481008529663,
           0.645536482334137,
           -0.3401109278202057,
           -0.7482099533081055,
           0.8819498419761658
          ],
          "id": 599,
          "words": "feitas",
          "x": 0.9888333082199097,
          "y": 1.203871488571167
         },
         {
          "emb": [
           0.9327875375747681,
           -0.2735276222229004,
           -0.8224647641181946,
           0.6212668418884277,
           0.6083242297172546,
           0.20556147396564484,
           -2.197186231613159,
           1.794358491897583,
           0.3526718020439148,
           -1.126391053199768
          ],
          "id": 600,
          "words": "maçã",
          "x": -0.09657731652259827,
          "y": -0.5535551309585571
         },
         {
          "emb": [
           -0.3158453106880188,
           0.35874271392822266,
           -0.3002412021160126,
           -0.7871116995811462,
           -0.19368937611579895,
           -1.0540121793746948,
           -0.3193967044353485,
           0.8214433789253235,
           -0.36936065554618835,
           -2.332070827484131
          ],
          "id": 601,
          "words": "primitivo",
          "x": 0.27608534693717957,
          "y": -1.6983486413955688
         },
         {
          "emb": [
           -0.38137850165367126,
           -0.9609679579734802,
           2.326493978500366,
           -2.1234681606292725,
           0.47749948501586914,
           0.4596307575702667,
           -0.06922881305217743,
           -0.7732915282249451,
           -0.9932470917701721,
           -2.001802682876587
          ],
          "id": 602,
          "words": "envenenamento",
          "x": 2.456669569015503,
          "y": -0.22524888813495636
         },
         {
          "emb": [
           1.4424664974212646,
           0.8225093483924866,
           -0.36448416113853455,
           1.0759692192077637,
           0.670903205871582,
           -1.1872280836105347,
           -2.108752727508545,
           -2.1815950870513916,
           1.0049524307250977,
           1.0052481889724731
          ],
          "id": 603,
          "words": "anglo",
          "x": -1.6794308423995972,
          "y": 0.7074921727180481
         },
         {
          "emb": [
           0.8590134382247925,
           -0.8242737054824829,
           -0.256778746843338,
           0.3415844738483429,
           1.1846932172775269,
           -1.8282480239868164,
           -0.9441731572151184,
           2.797034740447998,
           0.172784224152565,
           -0.4455280303955078
          ],
          "id": 604,
          "words": "caso",
          "x": -1.472718596458435,
          "y": 0.1729511171579361
         },
         {
          "emb": [
           -1.4819365739822388,
           0.7430433034896851,
           -2.0804169178009033,
           -1.5773025751113892,
           1.475197672843933,
           -0.887883722782135,
           -0.762688398361206,
           -1.578701376914978,
           -0.19852198660373688,
           -0.05043896660208702
          ],
          "id": 605,
          "words": "descuidado",
          "x": -0.9516887664794922,
          "y": -2.6753756999969482
         },
         {
          "emb": [
           1.6283855438232422,
           0.7096181511878967,
           0.15309202671051025,
           0.5651673674583435,
           1.2104806900024414,
           -0.5409252047538757,
           0.2212694138288498,
           1.0115470886230469,
           -1.4704293012619019,
           -0.6280220150947571
          ],
          "id": 606,
          "words": "atos",
          "x": 0.16205936670303345,
          "y": 0.7394391894340515
         },
         {
          "emb": [
           0.5808484554290771,
           0.6121892333030701,
           -0.0909997746348381,
           1.5244176387786865,
           0.441677987575531,
           0.10406279563903809,
           -1.8961560726165771,
           -0.016555456444621086,
           0.08668547868728638,
           0.34987252950668335
          ],
          "id": 607,
          "words": "computadores",
          "x": -0.5422185063362122,
          "y": 0.6734783053398132
         },
         {
          "emb": [
           0.044572826474905014,
           0.7318803668022156,
           0.2363823652267456,
           0.7076336741447449,
           -0.15415479242801666,
           0.2559005916118622,
           0.07755160331726074,
           1.3565428256988525,
           0.8187181353569031,
           -1.0670676231384277
          ],
          "id": 608,
          "words": "imitar",
          "x": 0.3948499858379364,
          "y": 0.19306901097297668
         },
         {
          "emb": [
           -1.1299703121185303,
           -0.022414011880755424,
           -0.033466555178165436,
           -0.5251398086547852,
           1.9001158475875854,
           0.14479103684425354,
           0.19018541276454926,
           -0.32909682393074036,
           -0.5345818996429443,
           1.3256155252456665
          ],
          "id": 609,
          "words": "alemanha",
          "x": -0.27902427315711975,
          "y": 0.16229909658432007
         },
         {
          "emb": [
           -1.890037178993225,
           2.231961727142334,
           -1.0135183334350586,
           -0.012370074167847633,
           0.2848713994026184,
           -0.37859585881233215,
           0.4541245102882385,
           -0.1750226765871048,
           1.7420750856399536,
           -0.3623586595058441
          ],
          "id": 610,
          "words": "britânico",
          "x": -0.7685396671295166,
          "y": -1.2262300252914429
         },
         {
          "emb": [
           -0.9330230355262756,
           0.905463457107544,
           -0.679369330406189,
           0.6383707523345947,
           1.607306718826294,
           1.0003756284713745,
           -0.2227276712656021,
           3.112375259399414,
           -0.41034698486328125,
           1.896657109260559
          ],
          "id": 611,
          "words": "descuido",
          "x": -1.0547137260437012,
          "y": 0.7560851573944092
         },
         {
          "emb": [
           0.3881152868270874,
           -0.17453433573246002,
           0.11873890459537506,
           -1.299190878868103,
           0.21121281385421753,
           -0.47174587845802307,
           -1.0239756107330322,
           -0.4589915871620178,
           0.6659244298934937,
           -0.08075076341629028
          ],
          "id": 612,
          "words": "segunda",
          "x": -0.46093353629112244,
          "y": -0.4409424364566803
         },
         {
          "emb": [
           0.06781148165464401,
           -1.607676386833191,
           -1.8318504095077515,
           -1.884934902191162,
           -0.6765455007553101,
           0.8912580609321594,
           -0.12710678577423096,
           1.2835195064544678,
           -1.642260193824768,
           -0.4321928024291992
          ],
          "id": 613,
          "words": "criado",
          "x": 0.4995613396167755,
          "y": -2.3707897663116455
         },
         {
          "emb": [
           0.9335108399391174,
           0.5107749700546265,
           -1.2207685708999634,
           -2.080886125564575,
           0.12901832163333893,
           2.6904513835906982,
           0.05544370785355568,
           0.5208417177200317,
           0.37021076679229736,
           -1.4669620990753174
          ],
          "id": 614,
          "words": "abstração",
          "x": 2.092366933822632,
          "y": -1.6727439165115356
         },
         {
          "emb": [
           -1.4924755096435547,
           -0.6500388979911804,
           0.5100741982460022,
           0.38659682869911194,
           -0.03459867835044861,
           0.555689811706543,
           0.327928364276886,
           0.2609999179840088,
           1.3373358249664307,
           1.3204704523086548
          ],
          "id": 615,
          "words": "vapores",
          "x": -0.29497453570365906,
          "y": 0.6997678875923157
         },
         {
          "emb": [
           -2.470900774002075,
           0.008442476391792297,
           -0.6085363030433655,
           -0.3394962251186371,
           -0.8994412422180176,
           1.5775901079177856,
           1.8959331512451172,
           -1.4632529020309448,
           -0.026383191347122192,
           0.06848061084747314
          ],
          "id": 616,
          "words": "encontrar",
          "x": 1.4259413480758667,
          "y": -1.334114909172058
         },
         {
          "emb": [
           0.35176926851272583,
           1.673125982284546,
           -0.01632847636938095,
           0.8892885446548462,
           -0.9557557106018066,
           -1.329047441482544,
           -1.5212187767028809,
           -0.8378089070320129,
           -0.4030628204345703,
           2.3088254928588867
          ],
          "id": 617,
          "words": "oscilantes",
          "x": -2.7077317237854004,
          "y": 0.9405070543289185
         },
         {
          "emb": [
           -0.6414708495140076,
           0.8880466818809509,
           -0.8734942078590393,
           1.3424288034439087,
           0.4816342294216156,
           2.19287109375,
           -0.022091399878263474,
           -0.8950289487838745,
           0.7944273948669434,
           2.6775035858154297
          ],
          "id": 618,
          "words": "declarado",
          "x": -0.25489115715026855,
          "y": 0.9784476161003113
         },
         {
          "emb": [
           1.2899988889694214,
           0.7243424654006958,
           -0.09085060656070709,
           0.8887851238250732,
           -1.263659119606018,
           0.21681338548660278,
           0.33697307109832764,
           0.36737295985221863,
           -0.04056328535079956,
           -1.2487068176269531
          ],
          "id": 619,
          "words": "máquina",
          "x": 0.6209661364555359,
          "y": 0.07109486311674118
         },
         {
          "emb": [
           0.1595085710287094,
           -0.0650758147239685,
           -1.4374881982803345,
           0.8157852292060852,
           0.7592126131057739,
           -1.1345034837722778,
           -0.40473413467407227,
           0.6012900471687317,
           -1.6182515621185303,
           -0.2943260073661804
          ],
          "id": 620,
          "words": "breaking",
          "x": -0.7839388251304626,
          "y": -0.9406338930130005
         },
         {
          "emb": [
           -0.24099794030189514,
           -0.05183983966708183,
           0.10603757947683334,
           -0.2587003707885742,
           -0.8380659222602844,
           -0.9370404481887817,
           -1.0865193605422974,
           0.7318391799926758,
           1.5221461057662964,
           1.8894665241241455
          ],
          "id": 621,
          "words": "julgado",
          "x": -2.3709354400634766,
          "y": 0.544109046459198
         },
         {
          "emb": [
           0.3764236569404602,
           1.831752896308899,
           0.14685148000717163,
           -1.1755002737045288,
           1.0314897298812866,
           2.308760643005371,
           -0.5281859040260315,
           -0.44958433508872986,
           0.17776568233966827,
           0.10346698760986328
          ],
          "id": 622,
          "words": "wilmslow",
          "x": 1.2692629098892212,
          "y": 0.11802324652671814
         }
        ]
       },
       "encoding": {
        "tooltip": {
         "field": "words",
         "type": "nominal"
        },
        "x": {
         "field": "x",
         "type": "quantitative"
        },
        "y": {
         "field": "y",
         "type": "quantitative"
        }
       },
       "height": 500,
       "mark": {
        "size": 180,
        "type": "circle"
       },
       "width": 500
      },
      "image/png": "[encoded data removed]",
      "text/plain": [
       "<VegaLite 2 object>\n",
       "\n",
       "If you see this message, it means the renderer has not been properly enabled\n",
       "for the frontend that you are using. For more information, see\n",
       "https://altair-viz.github.io/user_guide/troubleshooting.html\n"
      ]
     },
     "execution_count": 44,
     "metadata": {},
     "output_type": "execute_result"
    }
   ],
   "source": [
    "alt.themes.enable('opaque')\n",
    "base = alt.Chart(dataf).properties(\n",
    "        width=500,\n",
    "        height=500\n",
    "    )\n",
    "\n",
    "base.mark_circle(size=180).encode(x=\"x\", y=\"y\", tooltip=\"words\")"
   ]
  },
  {
   "cell_type": "code",
   "execution_count": null,
   "metadata": {},
   "outputs": [],
   "source": []
  }
 ],
 "metadata": {
  "kernelspec": {
   "display_name": "Python 3",
   "language": "python",
   "name": "python3"
  },
  "language_info": {
   "codemirror_mode": {
    "name": "ipython",
    "version": 3
   },
   "file_extension": ".py",
   "mimetype": "text/x-python",
   "name": "python",
   "nbconvert_exporter": "python",
   "pygments_lexer": "ipython3",
   "version": "3.7.1"
  }
 },
 "nbformat": 4,
 "nbformat_minor": 2
}
