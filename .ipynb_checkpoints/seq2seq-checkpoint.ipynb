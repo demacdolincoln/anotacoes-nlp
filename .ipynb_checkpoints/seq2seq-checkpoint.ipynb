{
 "cells": [
  {
   "cell_type": "code",
   "execution_count": 2,
   "metadata": {},
   "outputs": [
    {
     "name": "stdout",
     "output_type": "stream",
     "text": [
      "Populating the interactive namespace from numpy and matplotlib\n"
     ]
    }
   ],
   "source": [
    "%pylab inline\n",
    "\n",
    "import zipfile\n",
    "import unicodedata\n",
    "import re\n",
    "\n",
    "import torch\n",
    "from torch import nn\n",
    "from torch import optim\n",
    "\n",
    "from tqdm import tqdm_notebook as tqdm"
   ]
  },
  {
   "cell_type": "code",
   "execution_count": 3,
   "metadata": {},
   "outputs": [],
   "source": [
    "figsize(8, 8)"
   ]
  },
  {
   "cell_type": "markdown",
   "metadata": {},
   "source": [
    "## Load text examples"
   ]
  },
  {
   "cell_type": "code",
   "execution_count": 4,
   "metadata": {},
   "outputs": [
    {
     "data": {
      "text/plain": [
       "[\"We recommend adding sentences and translations in your strongest language. If you are interested primarily in having your sentences corrected, you should try a site like Lang-8.com, where that's the focus.\",\n",
       " 'Recomendamos acrescentar frases e traduções na língua em que você é mais forte. Se está interessado principalmente em ter suas sentenças corrigidas, você deve tentar um site como Lang-8.com, onde esse é o foco.']"
      ]
     },
     "execution_count": 4,
     "metadata": {},
     "output_type": "execute_result"
    }
   ],
   "source": [
    "z = zipfile.ZipFile(\"../../../datasets/por-eng.zip\")\n",
    "txt = z.read(z.filelist[1]).decode()\n",
    "del z\n",
    "txt.splitlines()[-1].split(\"\\t\")"
   ]
  },
  {
   "cell_type": "markdown",
   "metadata": {},
   "source": [
    "## filter sentences\n",
    "\n",
    "len(words) <= 10"
   ]
  },
  {
   "cell_type": "code",
   "execution_count": 5,
   "metadata": {},
   "outputs": [],
   "source": [
    "# source: https://pytorch.org/tutorials/intermediate/seq2seq_translation_tutorial.html\n",
    "\n",
    "# Turn a Unicode string to plain ASCII, thanks to\n",
    "# http://stackoverflow.com/a/518232/2809427\n",
    "def unicodeToAscii(s):\n",
    "    return ''.join(\n",
    "        c for c in unicodedata.normalize('NFD', s)\n",
    "        if unicodedata.category(c) != 'Mn'\n",
    "    )\n",
    "\n",
    "def normalizeString(s):\n",
    "    s = unicodeToAscii(s.lower().strip())\n",
    "    s = re.sub(r\"([.!?])\", r\" \\1\", s)\n",
    "    s = re.sub(r\"[^a-zA-Z.!?]+\", r\" \", s)\n",
    "    return s"
   ]
  },
  {
   "cell_type": "code",
   "execution_count": 6,
   "metadata": {},
   "outputs": [
    {
     "data": {
      "application/vnd.jupyter.widget-view+json": {
       "model_id": "4ee0032abc2e4966af17b82376610e28",
       "version_major": 2,
       "version_minor": 0
      },
      "text/plain": [
       "HBox(children=(IntProgress(value=0, max=135671), HTML(value='')))"
      ]
     },
     "metadata": {},
     "output_type": "display_data"
    },
    {
     "name": "stdout",
     "output_type": "stream",
     "text": [
      "\n"
     ]
    }
   ],
   "source": [
    "eng, por = [],[]\n",
    "\n",
    "limit = 10\n",
    "for line in tqdm(txt.splitlines()):\n",
    "    e, p = line.split(\"\\t\")\n",
    "    if len(e.split()) < limit or len(p.split()) < limit:\n",
    "        eng.append(normalizeString(e))\n",
    "        por.append(normalizeString(p))"
   ]
  },
  {
   "cell_type": "code",
   "execution_count": 7,
   "metadata": {},
   "outputs": [
    {
     "data": {
      "text/plain": [
       "(129489, 129489)"
      ]
     },
     "execution_count": 7,
     "metadata": {},
     "output_type": "execute_result"
    }
   ],
   "source": [
    "len(eng), len(por)"
   ]
  },
  {
   "cell_type": "code",
   "execution_count": 8,
   "metadata": {},
   "outputs": [
    {
     "name": "stdout",
     "output_type": "stream",
     "text": [
      "hello ! -> oi .\n",
      "hello ! -> alo .\n",
      "hello ! -> ola !\n",
      "i ran . -> eu corri .\n",
      "i see . -> estou vendo .\n",
      "i try . -> eu tento .\n",
      "i try . -> tento .\n",
      "i won ! -> ganhei !\n",
      "i won . -> eu venci .\n",
      "oh no ! -> ah nao !\n"
     ]
    }
   ],
   "source": [
    "for i, j in zip(eng[25:35], por[25:35]):\n",
    "    print(f\"{i} -> {j}\")"
   ]
  },
  {
   "cell_type": "code",
   "execution_count": 9,
   "metadata": {},
   "outputs": [],
   "source": [
    "eng_vocab, por_vocab = set(), set()\n",
    "eng_word2id, por_word2id = {}, {}\n",
    "\n",
    "for i in range(len(eng)):\n",
    "    for word_eng in eng[i]:\n",
    "        eng_vocab.add(word_eng)\n",
    "    for word_por in por[i]:\n",
    "        por_vocab.add(word_por)\n",
    "\n",
    "eng_vocab, por_vocab = np.array(list(eng_vocab)), np.array(list(por_vocab))\n",
    "eng_word2id = {word: id_ for id_, word in enumerate(eng_vocab)}\n",
    "por_word2id = {word: id_ for id_, word in enumerate(por_vocab)}"
   ]
  },
  {
   "cell_type": "code",
   "execution_count": 10,
   "metadata": {},
   "outputs": [
    {
     "data": {
      "text/plain": [
       "(30, 30)"
      ]
     },
     "execution_count": 10,
     "metadata": {},
     "output_type": "execute_result"
    }
   ],
   "source": [
    "len(eng_vocab), len(por_vocab)"
   ]
  },
  {
   "cell_type": "code",
   "execution_count": 11,
   "metadata": {},
   "outputs": [
    {
     "data": {
      "text/plain": [
       "(122, 'z')"
      ]
     },
     "execution_count": 11,
     "metadata": {},
     "output_type": "execute_result"
    }
   ],
   "source": [
    "max_voc = 0\n",
    "\n",
    "for i in por_vocab:\n",
    "    for j in i:\n",
    "        x = ord(j)\n",
    "        if x > max_voc:\n",
    "            max_voc = x\n",
    "max_voc, chr(max_voc)"
   ]
  },
  {
   "cell_type": "code",
   "execution_count": 181,
   "metadata": {},
   "outputs": [],
   "source": [
    "from torch.utils.data import Dataset, DataLoader"
   ]
  },
  {
   "cell_type": "code",
   "execution_count": null,
   "metadata": {},
   "outputs": [],
   "source": [
    "class TranslateDataset(Dataset):\n",
    "    def __init__(self, lang1, lang2):\n",
    "        self._len = lang1\n",
    "        self.x = []\n",
    "        self.y = []\n",
    "        pbar = tqdm(unit=\" frases\", total=self._len)\n",
    "        for l1, l2 in zip(lang1, lang2):\n",
    "            pass"
   ]
  },
  {
   "cell_type": "markdown",
   "metadata": {},
   "source": [
    "## encoder, decoder, att_decoder"
   ]
  },
  {
   "cell_type": "code",
   "execution_count": 12,
   "metadata": {},
   "outputs": [],
   "source": [
    "class Encoder(nn.Module):\n",
    "    def __init__(self, input_size, hidden_size, n_layers=1):\n",
    "        super(Encoder, self).__init__()\n",
    "        \n",
    "        self.emb = nn.Embedding(input_size, hidden_size)\n",
    "        self.gru = nn.GRU(hidden_size, hidden_size, n_layers)\n",
    "        \n",
    "    def forward(self, X, hidden):\n",
    "        seq_len = len(X)\n",
    "        emb = self.emb(X).view(seq_len, 1, -1)\n",
    "        out, hidden = self.gru(emb, hidden)\n",
    "        return out, hidden"
   ]
  },
  {
   "cell_type": "code",
   "execution_count": 13,
   "metadata": {},
   "outputs": [],
   "source": [
    "class Decoder(nn.Module):\n",
    "    def __init__(self, hidden_size, out_size, n_layers=1):\n",
    "        super(Decoder, self).__init__()\n",
    "        \n",
    "        self.emb = nn.Embedding(out_size, hidden_size)\n",
    "        self.gru = nn.GRU(hidden_size, hidden_size, n_layers)\n",
    "        self.out = nn.Linear(hidden_size, out_size)\n",
    "        \n",
    "    def forward(self, X, hidden):\n",
    "        out = self.emb(X).view(1, 1, -1)\n",
    "        out, hidden = self.gru(out, hidden)\n",
    "        out = self.out(out[0])\n",
    "        return out, hidden"
   ]
  },
  {
   "cell_type": "code",
   "execution_count": 14,
   "metadata": {},
   "outputs": [],
   "source": [
    "class AttnDecoder(nn.Module):\n",
    "    def __init__(self, hidden_size, out_size, n_layers=1, dropout_p=0.1):\n",
    "        super(AttnDecoder, self).__init__()\n",
    "        \n",
    "        self.emb = nn.Embedding(out_size, hidden_size)\n",
    "        self.gru = nn.GRU(hidden_size, hidden_size,\n",
    "                          n_layers, dropout=dropout_p)\n",
    "        \n",
    "        self.attn = nn.Linear(hidden_size, hidden_size)\n",
    "        self.out = nn.Linear(hidden_size*2, out_size)\n",
    "        \n",
    "    def forward(self, X, last_hidden, encoder_hidden):\n",
    "        out = self.emb(X).view(1, 1, -1)\n",
    "        out, hidden = self.gru(out, last_hidden)\n",
    "        \n",
    "        attn_weights = self.get_attn_weights(\n",
    "            out.squeeze(0), encoder_hidden\n",
    "        )\n",
    "        context = torch.bmm(attn_weights, encoder_hidden.transpose(0, 1))\n",
    "        \n",
    "        out = out.squeeze(0)\n",
    "        context = context.squeeze(1)\n",
    "        \n",
    "        out = self.out(\n",
    "            torch.cat((out, context), 1),\n",
    "        )\n",
    "        \n",
    "        return out, hidden, attn_weights\n",
    "    \n",
    "    def get_attn_weights(self, hidden, encoder_hidden):\n",
    "        seq_len = len(encoder_hidden)\n",
    "        \n",
    "        attn_scores = torch.zeros(seq_len)\n",
    "        \n",
    "        for i in range(seq_len):\n",
    "            score = self.attn(encoder_hidden[i])\n",
    "            attn_scores[i] = torch.dot(\n",
    "                hidden.view(-1),\n",
    "                score.view(-1)\n",
    "            )\n",
    "        try:\n",
    "            return torch.softmax(attn_scores, dim=1).view(1, 1, -1)\n",
    "        except:\n",
    "            print(attn_scores)"
   ]
  },
  {
   "cell_type": "code",
   "execution_count": 15,
   "metadata": {},
   "outputs": [],
   "source": [
    "def init_hidden(hidden_size, n_layers=1):\n",
    "    return torch.zeros(n_layers, 1, hidden_size)"
   ]
  },
  {
   "cell_type": "code",
   "execution_count": 16,
   "metadata": {},
   "outputs": [],
   "source": [
    "SOS_token = chr(0)\n",
    "EOS_token = 1"
   ]
  },
  {
   "cell_type": "code",
   "execution_count": 17,
   "metadata": {},
   "outputs": [],
   "source": [
    "N_EPOCH = 100\n",
    "N_CHARS = 122  # max_voc\n",
    "HIDDEN_SIZE = N_CHARS"
   ]
  },
  {
   "cell_type": "code",
   "execution_count": 103,
   "metadata": {},
   "outputs": [
    {
     "name": "stdout",
     "output_type": "stream",
     "text": [
      "n.P.b.0.y.#."
     ]
    }
   ],
   "source": [
    "enc = Encoder(N_CHARS, N_CHARS)\n",
    "dec = Decoder(N_CHARS, N_CHARS)\n",
    "hidden = init_hidden(N_CHARS)\n",
    "\n",
    "word_input = torch.LongTensor([ord(i) for i in \"Python\"])\n",
    "enc_out, hidden_enc = enc(word_input, hidden)\n",
    "word_target = torch.LongTensor([ord(i) for i in \"Python\"])\n",
    "\n",
    "for char in range(len(word_target)):\n",
    "    dec_out, hidden = dec(word_target[char], hidden_enc)\n",
    "    print(chr(dec_out.argmax()), end=\".\")"
   ]
  },
  {
   "cell_type": "code",
   "execution_count": 109,
   "metadata": {},
   "outputs": [
    {
     "data": {
      "text/plain": [
       "('voces me assustam .', 'you scare me .')"
      ]
     },
     "execution_count": 109,
     "metadata": {},
     "output_type": "execute_result"
    }
   ],
   "source": [
    "por[4567], eng[4567]"
   ]
  },
  {
   "cell_type": "code",
   "execution_count": 159,
   "metadata": {},
   "outputs": [
    {
     "data": {
      "application/vnd.jupyter.widget-view+json": {
       "model_id": "76fbae4b6f3d4694864b7410c88741d0",
       "version_major": 2,
       "version_minor": 0
      },
      "text/plain": [
       "HBox(children=(IntProgress(value=0, max=10), HTML(value='')))"
      ]
     },
     "metadata": {},
     "output_type": "display_data"
    },
    {
     "name": "stdout",
     "output_type": "stream",
     "text": [
      "teste\n",
      "iuyui\n"
     ]
    }
   ],
   "source": [
    "a = tqdm(unit=\" epoch\", total=10)\n",
    "a.write(\"teste\")\n",
    "a.update()\n",
    "a.write(\"iuyui\")"
   ]
  },
  {
   "cell_type": "code",
   "execution_count": 180,
   "metadata": {},
   "outputs": [],
   "source": [
    "a.update()"
   ]
  },
  {
   "cell_type": "code",
   "execution_count": null,
   "metadata": {},
   "outputs": [],
   "source": []
  }
 ],
 "metadata": {
  "kernelspec": {
   "display_name": "Python 3",
   "language": "python",
   "name": "python3"
  },
  "language_info": {
   "codemirror_mode": {
    "name": "ipython",
    "version": 3
   },
   "file_extension": ".py",
   "mimetype": "text/x-python",
   "name": "python",
   "nbconvert_exporter": "python",
   "pygments_lexer": "ipython3",
   "version": "3.7.2"
  }
 },
 "nbformat": 4,
 "nbformat_minor": 2
}
