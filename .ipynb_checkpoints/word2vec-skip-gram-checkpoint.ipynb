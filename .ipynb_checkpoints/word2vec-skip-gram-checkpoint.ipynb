{
 "cells": [
  {
   "cell_type": "code",
   "execution_count": 1,
   "metadata": {},
   "outputs": [
    {
     "name": "stdout",
     "output_type": "stream",
     "text": [
      "Populating the interactive namespace from numpy and matplotlib\n"
     ]
    }
   ],
   "source": [
    "%pylab inline\n",
    "import torch"
   ]
  },
  {
   "cell_type": "code",
   "execution_count": 2,
   "metadata": {},
   "outputs": [],
   "source": [
    "figsize(10, 8)\n",
    "plt.style.use(['dark_background'])"
   ]
  },
  {
   "cell_type": "code",
   "execution_count": 3,
   "metadata": {},
   "outputs": [],
   "source": [
    "import pickle\n",
    "\n",
    "corpus_text = pickle.load(\n",
    "    open(\"corpus_text.pickle\", \"rb\")\n",
    ")"
   ]
  },
  {
   "cell_type": "code",
   "execution_count": 4,
   "metadata": {},
   "outputs": [],
   "source": [
    "word2id, id2word = {}, {}\n",
    "\n",
    "uniques = set()\n",
    "for words in corpus_text:\n",
    "    for w in words:\n",
    "        uniques.add(w)\n",
    "\n",
    "count_id = 0\n",
    "for word in uniques:\n",
    "    word2id[word] = count_id\n",
    "    id2word[count_id] = word\n",
    "    count_id += 1"
   ]
  },
  {
   "cell_type": "code",
   "execution_count": 5,
   "metadata": {},
   "outputs": [
    {
     "data": {
      "text/plain": [
       "'projetou'"
      ]
     },
     "execution_count": 5,
     "metadata": {},
     "output_type": "execute_result"
    }
   ],
   "source": [
    "id2word[23]"
   ]
  },
  {
   "cell_type": "code",
   "execution_count": 6,
   "metadata": {},
   "outputs": [
    {
     "data": {
      "text/plain": [
       "(618, 61)"
      ]
     },
     "execution_count": 6,
     "metadata": {},
     "output_type": "execute_result"
    }
   ],
   "source": [
    "len(uniques), len(corpus_text)"
   ]
  },
  {
   "cell_type": "code",
   "execution_count": 7,
   "metadata": {},
   "outputs": [],
   "source": [
    "window = 2\n",
    "pair_ids = []\n",
    "\n",
    "text_size = len(corpus_text)\n",
    "\n",
    "corpus_text = np.array(corpus_text)\n",
    "mask = np.array([i for i in range(-window, window+1) if i is not 0])\n",
    "\n",
    "for paragraph in corpus_text:\n",
    "    paragraph = np.array(paragraph)\n",
    "    text_size = len(paragraph)\n",
    "\n",
    "    for center_word in range(window, text_size-window):\n",
    "        center_word_id = word2id[paragraph[center_word]]\n",
    "        for i in paragraph[mask + center_word]:\n",
    "            context_word_id = word2id[i]\n",
    "            pair_ids.append([center_word_id, context_word_id])\n",
    "\n",
    "pair_ids = np.array(pair_ids)"
   ]
  },
  {
   "cell_type": "code",
   "execution_count": 8,
   "metadata": {},
   "outputs": [],
   "source": [
    "from IPython.display import Markdown"
   ]
  },
  {
   "cell_type": "code",
   "execution_count": 9,
   "metadata": {},
   "outputs": [
    {
     "data": {
      "text/markdown": [
       "|central | contexto | central | contexto |\n",
       "|--|--|--|--|\n",
       "|345 | 318 | máquina | desempenhando|\n",
       "|140 | 15 | turing | computação|\n",
       "|140 | 345 | turing | máquina|\n",
       "|140 | 318 | turing | desempenhando|\n",
       "|140 | 536 | turing | papel|\n",
       "|318 | 345 | desempenhando | máquina|\n",
       "|318 | 140 | desempenhando | turing|\n",
       "|318 | 536 | desempenhando | papel|\n",
       "|318 | 149 | desempenhando | importante|\n",
       "|536 | 140 | papel | turing|\n",
       "|536 | 318 | papel | desempenhando|\n"
      ],
      "text/plain": [
       "<IPython.core.display.Markdown object>"
      ]
     },
     "execution_count": 9,
     "metadata": {},
     "output_type": "execute_result"
    }
   ],
   "source": [
    "ex_out = \"|central | contexto | central | contexto |\\n|--|--|--|--|\\n\"\n",
    "for i in range(95, 106):\n",
    "    w0, w1 = pair_ids[i]\n",
    "    ex_out += f\"|{w0} | {w1} | {id2word[w0]} | {id2word[w1]}|\\n\"\n",
    "\n",
    "Markdown(ex_out)"
   ]
  },
  {
   "cell_type": "code",
   "execution_count": 10,
   "metadata": {},
   "outputs": [],
   "source": [
    "class SkipGram(torch.nn.Module):\n",
    "    def __init__(self, vocab_size, emb_size):\n",
    "        super(SkipGram, self).__init__()\n",
    "        \n",
    "        self.embeddings = torch.nn.Embedding(vocab_size, emb_size)\n",
    "        \n",
    "        self.linear0 =  torch.nn.Linear(emb_size, 512)\n",
    "        self.linear1 = torch.nn.Linear(512, vocab_size)\n",
    "\n",
    "        self.log_softmax = torch.nn.LogSoftmax(dim=1)\n",
    "        \n",
    "    def forward(self, x):\n",
    "        out = self.embeddings(x)\n",
    "\n",
    "        out = self.linear0(out)\n",
    "        out = self.linear1(out)\n",
    "        \n",
    "        out = self.log_softmax(out)\n",
    "        return out\n",
    "    \n",
    "    def get_word_emb(self, word_id):\n",
    "        word = torch.LongTensor([word_id])\n",
    "        return self.embeddings(word).view(1, -1)"
   ]
  },
  {
   "cell_type": "code",
   "execution_count": 11,
   "metadata": {},
   "outputs": [],
   "source": [
    "skipgram = SkipGram(len(uniques), 10)"
   ]
  },
  {
   "cell_type": "code",
   "execution_count": 12,
   "metadata": {},
   "outputs": [
    {
     "data": {
      "text/plain": [
       "('conceito', 'durante')"
      ]
     },
     "execution_count": 12,
     "metadata": {},
     "output_type": "execute_result"
    }
   ],
   "source": [
    "teste_data = torch.LongTensor([pair_ids[3000, 0]])\n",
    "res = skipgram(teste_data).argmax().item()\n",
    "id2word[res], id2word[pair_ids[3000, 1]]"
   ]
  },
  {
   "cell_type": "code",
   "execution_count": 13,
   "metadata": {},
   "outputs": [],
   "source": [
    "from torch.utils.data import Dataset, DataLoader"
   ]
  },
  {
   "cell_type": "code",
   "execution_count": 14,
   "metadata": {},
   "outputs": [],
   "source": [
    "class Dataset(Dataset):\n",
    "    def __init__(self, obj):\n",
    "        self.len = len(obj)\n",
    "        self.x = torch.LongTensor(obj[:, 0])\n",
    "        self.y = torch.LongTensor(obj[:, 1])\n",
    "    def __getitem__(self, index):\n",
    "        return (self.x[index], self.y[index])\n",
    "    def __len__(self):\n",
    "        return self.len"
   ]
  },
  {
   "cell_type": "code",
   "execution_count": 15,
   "metadata": {},
   "outputs": [],
   "source": [
    "dataset = Dataset(pair_ids)\n",
    "data = DataLoader(dataset=dataset, batch_size=1000, shuffle=True)"
   ]
  },
  {
   "cell_type": "code",
   "execution_count": 16,
   "metadata": {},
   "outputs": [
    {
     "name": "stdout",
     "output_type": "stream",
     "text": [
      "0  - 6.489\n",
      "500 - 6.287\n",
      "1000 - 6.162\n",
      "1500 - 6.018\n",
      "2000 - 5.975\n",
      "2500 - 5.873\n"
     ]
    }
   ],
   "source": [
    "nll_loss = torch.nn.NLLLoss()\n",
    "optimizer = torch.optim.SGD(skipgram.parameters(), lr=0.001)\n",
    "losses = []\n",
    "for epoch in range(2501):\n",
    "    for X, Y in data:\n",
    "        optimizer.zero_grad()\n",
    "        \n",
    "        out_prob = skipgram(X)\n",
    "        loss = nll_loss(out_prob, Y)\n",
    "        loss.backward()\n",
    "        optimizer.step()\n",
    "        losses.append(loss.item())\n",
    "    \n",
    "    if epoch % 500 == 0:\n",
    "        print(f\"{epoch:<2} - {loss.item():.3f}\")"
   ]
  },
  {
   "cell_type": "code",
   "execution_count": 17,
   "metadata": {},
   "outputs": [
    {
     "data": {
      "image/png": "[encoded data removed]",
      "text/plain": [
       "<Figure size 720x576 with 1 Axes>"
      ]
     },
     "metadata": {},
     "output_type": "display_data"
    }
   ],
   "source": [
    "fig = figure()\n",
    "ax = fig.gca()\n",
    "ax.plot(losses, c=\"darkcyan\")\n",
    "savefig(\"../images/word2vec-skipgram-loss.png\", dpi=\"figure\", transparent=True)"
   ]
  },
  {
   "cell_type": "code",
   "execution_count": 18,
   "metadata": {},
   "outputs": [
    {
     "name": "stdout",
     "output_type": "stream",
     "text": [
      "data:['estabelecido'] | target: cheshire\n",
      "turing\n"
     ]
    }
   ],
   "source": [
    "_pos = 28\n",
    "teste_data = torch.LongTensor(pair_ids[_pos][0])\n",
    "target_data = torch.LongTensor(pair_ids[_pos][1])\n",
    "res = skipgram(torch.LongTensor([23])).argmax().item()\n",
    "print(f\"data:{[id2word[_pos] ]} | target: {id2word[pair_ids[_pos][1]]}\")\n",
    "print(f\"{id2word[res]}\")\n"
   ]
  },
  {
   "cell_type": "code",
   "execution_count": 19,
   "metadata": {},
   "outputs": [
    {
     "data": {
      "text/plain": [
       "array([[ 0.74846876, -0.38319612, -2.0393155 ,  0.7892148 , -0.30229536,\n",
       "         0.08340574,  0.36708632,  1.4052113 , -0.7146022 ,  0.03139668]],\n",
       "      dtype=float32)"
      ]
     },
     "execution_count": 19,
     "metadata": {},
     "output_type": "execute_result"
    }
   ],
   "source": [
    "skipgram.get_word_emb(_pos).detach().numpy()"
   ]
  },
  {
   "cell_type": "code",
   "execution_count": 20,
   "metadata": {},
   "outputs": [],
   "source": [
    "from sklearn.decomposition import PCA\n",
    "import pandas as pd"
   ]
  },
  {
   "cell_type": "code",
   "execution_count": 21,
   "metadata": {},
   "outputs": [],
   "source": [
    "dataf = pd.DataFrame({\n",
    "    \"words\":list(uniques),\n",
    "    \"id\": [word2id[i] for i in uniques],\n",
    "    \"emb\": [skipgram.get_word_emb(word2id[i]).detach().numpy()[0] for i in uniques],\n",
    "    \"x\" : [0]*len(uniques),\n",
    "    \"y\": [0]*len(uniques)\n",
    "})"
   ]
  },
  {
   "cell_type": "code",
   "execution_count": 22,
   "metadata": {},
   "outputs": [
    {
     "data": {
      "text/html": [
       "<div>\n",
       "<style scoped>\n",
       "    .dataframe tbody tr th:only-of-type {\n",
       "        vertical-align: middle;\n",
       "    }\n",
       "\n",
       "    .dataframe tbody tr th {\n",
       "        vertical-align: top;\n",
       "    }\n",
       "\n",
       "    .dataframe thead th {\n",
       "        text-align: right;\n",
       "    }\n",
       "</style>\n",
       "<table border=\"1\" class=\"dataframe\">\n",
       "  <thead>\n",
       "    <tr style=\"text-align: right;\">\n",
       "      <th></th>\n",
       "      <th>words</th>\n",
       "      <th>id</th>\n",
       "      <th>emb</th>\n",
       "      <th>x</th>\n",
       "      <th>y</th>\n",
       "    </tr>\n",
       "  </thead>\n",
       "  <tbody>\n",
       "    <tr>\n",
       "      <th>0</th>\n",
       "      <td>seção</td>\n",
       "      <td>0</td>\n",
       "      <td>[0.18961886, 3.1793153, 0.58098125, 0.33478755...</td>\n",
       "      <td>0</td>\n",
       "      <td>0</td>\n",
       "    </tr>\n",
       "    <tr>\n",
       "      <th>1</th>\n",
       "      <td>ingerida</td>\n",
       "      <td>1</td>\n",
       "      <td>[0.30912983, -0.44858375, 0.21493591, -1.71769...</td>\n",
       "      <td>0</td>\n",
       "      <td>0</td>\n",
       "    </tr>\n",
       "    <tr>\n",
       "      <th>2</th>\n",
       "      <td>baronete</td>\n",
       "      <td>2</td>\n",
       "      <td>[-1.4124938, -0.12927267, -0.45383695, -0.2109...</td>\n",
       "      <td>0</td>\n",
       "      <td>0</td>\n",
       "    </tr>\n",
       "    <tr>\n",
       "      <th>3</th>\n",
       "      <td>constata</td>\n",
       "      <td>3</td>\n",
       "      <td>[-6.4023943e-06, 1.689993, 0.5669997, -1.05180...</td>\n",
       "      <td>0</td>\n",
       "      <td>0</td>\n",
       "    </tr>\n",
       "    <tr>\n",
       "      <th>4</th>\n",
       "      <td>resultado</td>\n",
       "      <td>4</td>\n",
       "      <td>[0.58150846, 1.0726862, -0.020895923, -0.09269...</td>\n",
       "      <td>0</td>\n",
       "      <td>0</td>\n",
       "    </tr>\n",
       "  </tbody>\n",
       "</table>\n",
       "</div>"
      ],
      "text/plain": [
       "       words  id                                                emb  x  y\n",
       "0      seção   0  [0.18961886, 3.1793153, 0.58098125, 0.33478755...  0  0\n",
       "1   ingerida   1  [0.30912983, -0.44858375, 0.21493591, -1.71769...  0  0\n",
       "2   baronete   2  [-1.4124938, -0.12927267, -0.45383695, -0.2109...  0  0\n",
       "3   constata   3  [-6.4023943e-06, 1.689993, 0.5669997, -1.05180...  0  0\n",
       "4  resultado   4  [0.58150846, 1.0726862, -0.020895923, -0.09269...  0  0"
      ]
     },
     "execution_count": 22,
     "metadata": {},
     "output_type": "execute_result"
    }
   ],
   "source": [
    "dataf.head()"
   ]
  },
  {
   "cell_type": "code",
   "execution_count": 23,
   "metadata": {},
   "outputs": [],
   "source": [
    "pca = PCA(n_components=2)\n",
    "a = np.array([skipgram.get_word_emb(word2id[i]).detach().numpy()[0] for i in uniques],)\n",
    "XY = pca.fit_transform(a)"
   ]
  },
  {
   "cell_type": "code",
   "execution_count": 24,
   "metadata": {},
   "outputs": [
    {
     "data": {
      "text/html": [
       "<div>\n",
       "<style scoped>\n",
       "    .dataframe tbody tr th:only-of-type {\n",
       "        vertical-align: middle;\n",
       "    }\n",
       "\n",
       "    .dataframe tbody tr th {\n",
       "        vertical-align: top;\n",
       "    }\n",
       "\n",
       "    .dataframe thead th {\n",
       "        text-align: right;\n",
       "    }\n",
       "</style>\n",
       "<table border=\"1\" class=\"dataframe\">\n",
       "  <thead>\n",
       "    <tr style=\"text-align: right;\">\n",
       "      <th></th>\n",
       "      <th>words</th>\n",
       "      <th>id</th>\n",
       "      <th>emb</th>\n",
       "      <th>x</th>\n",
       "      <th>y</th>\n",
       "    </tr>\n",
       "  </thead>\n",
       "  <tbody>\n",
       "    <tr>\n",
       "      <th>0</th>\n",
       "      <td>seção</td>\n",
       "      <td>0</td>\n",
       "      <td>[0.18961886, 3.1793153, 0.58098125, 0.33478755...</td>\n",
       "      <td>1.084898</td>\n",
       "      <td>1.929788</td>\n",
       "    </tr>\n",
       "    <tr>\n",
       "      <th>1</th>\n",
       "      <td>ingerida</td>\n",
       "      <td>1</td>\n",
       "      <td>[0.30912983, -0.44858375, 0.21493591, -1.71769...</td>\n",
       "      <td>-0.243921</td>\n",
       "      <td>-1.393110</td>\n",
       "    </tr>\n",
       "    <tr>\n",
       "      <th>2</th>\n",
       "      <td>baronete</td>\n",
       "      <td>2</td>\n",
       "      <td>[-1.4124938, -0.12927267, -0.45383695, -0.2109...</td>\n",
       "      <td>-1.546296</td>\n",
       "      <td>-0.275127</td>\n",
       "    </tr>\n",
       "    <tr>\n",
       "      <th>3</th>\n",
       "      <td>constata</td>\n",
       "      <td>3</td>\n",
       "      <td>[-6.4023943e-06, 1.689993, 0.5669997, -1.05180...</td>\n",
       "      <td>0.637173</td>\n",
       "      <td>0.069856</td>\n",
       "    </tr>\n",
       "    <tr>\n",
       "      <th>4</th>\n",
       "      <td>resultado</td>\n",
       "      <td>4</td>\n",
       "      <td>[0.58150846, 1.0726862, -0.020895923, -0.09269...</td>\n",
       "      <td>0.070311</td>\n",
       "      <td>1.021042</td>\n",
       "    </tr>\n",
       "  </tbody>\n",
       "</table>\n",
       "</div>"
      ],
      "text/plain": [
       "       words  id                                                emb         x  \\\n",
       "0      seção   0  [0.18961886, 3.1793153, 0.58098125, 0.33478755...  1.084898   \n",
       "1   ingerida   1  [0.30912983, -0.44858375, 0.21493591, -1.71769... -0.243921   \n",
       "2   baronete   2  [-1.4124938, -0.12927267, -0.45383695, -0.2109... -1.546296   \n",
       "3   constata   3  [-6.4023943e-06, 1.689993, 0.5669997, -1.05180...  0.637173   \n",
       "4  resultado   4  [0.58150846, 1.0726862, -0.020895923, -0.09269...  0.070311   \n",
       "\n",
       "          y  \n",
       "0  1.929788  \n",
       "1 -1.393110  \n",
       "2 -0.275127  \n",
       "3  0.069856  \n",
       "4  1.021042  "
      ]
     },
     "execution_count": 24,
     "metadata": {},
     "output_type": "execute_result"
    }
   ],
   "source": [
    "dataf[\"x\"] = XY[:, 0]\n",
    "dataf[\"y\"] = XY[:, 1]\n",
    "dataf.head()"
   ]
  },
  {
   "cell_type": "code",
   "execution_count": 25,
   "metadata": {},
   "outputs": [],
   "source": [
    "import altair as alt"
   ]
  },
  {
   "cell_type": "code",
   "execution_count": 26,
   "metadata": {},
   "outputs": [
    {
     "data": {
      "application/vnd.vegalite.v2+json": {
       "$schema": "https://vega.github.io/schema/vega-lite/v2.6.0.json",
       "config": {
        "background": "white",
        "view": {
         "height": 300,
         "width": 400
        }
       },
       "data": {
        "name": "data-4822fe9ac9ee29e488c77c01281a492f"
       },
       "datasets": {
        "data-4822fe9ac9ee29e488c77c01281a492f": [
         {
          "emb": [
           0.18961885571479797,
           3.1793153285980225,
           0.5809812545776367,
           0.3347875475883484,
           -0.047187935560941696,
           -1.261484980583191,
           0.19215142726898193,
           1.493306040763855,
           -0.16288445889949799,
           -0.9654501676559448
          ],
          "id": 0,
          "words": "seção",
          "x": 1.0848976373672485,
          "y": 1.9297881126403809
         },
         {
          "emb": [
           0.30912983417510986,
           -0.4485837519168854,
           0.21493591368198395,
           -1.7176982164382935,
           1.207053780555725,
           -0.38499584794044495,
           -0.7584099769592285,
           -0.36207401752471924,
           -1.2991772890090942,
           1.0363034009933472
          ],
          "id": 1,
          "words": "ingerida",
          "x": -0.24392110109329224,
          "y": -1.393109917640686
         },
         {
          "emb": [
           -1.4124938249588013,
           -0.1292726695537567,
           -0.45383694767951965,
           -0.21090559661388397,
           -0.6999058127403259,
           -0.40697428584098816,
           -0.5588653683662415,
           -0.34925952553749084,
           0.8132174611091614,
           0.9187973141670227
          ],
          "id": 2,
          "words": "baronete",
          "x": -1.5462957620620728,
          "y": -0.27512726187705994
         },
         {
          "emb": [
           -6.402394319593441e-06,
           1.6899930238723755,
           0.5669996738433838,
           -1.0518009662628174,
           2.602018356323242,
           -0.16437433660030365,
           -0.015993667766451836,
           0.0354340523481369,
           0.3691013753414154,
           -0.8931182622909546
          ],
          "id": 3,
          "words": "constata",
          "x": 0.6371732354164124,
          "y": 0.06985647976398468
         },
         {
          "emb": [
           0.581508457660675,
           1.0726861953735352,
           -0.02089592255651951,
           -0.09269203990697861,
           -0.5429360866546631,
           -0.02011212892830372,
           -2.4371206760406494,
           1.161319613456726,
           1.0305423736572266,
           -0.6224363446235657
          ],
          "id": 4,
          "words": "resultado",
          "x": 0.07031115889549255,
          "y": 1.021041989326477
         },
         {
          "emb": [
           -0.9951533675193787,
           -0.9996592402458191,
           -1.450787901878357,
           0.8609499335289001,
           0.043970149010419846,
           -0.021314695477485657,
           -0.419307678937912,
           -0.2166430801153183,
           -1.077566146850586,
           1.2791398763656616
          ],
          "id": 5,
          "words": "anos",
          "x": -1.7442539930343628,
          "y": -0.4460708498954773
         },
         {
          "emb": [
           -0.351074755191803,
           0.6091000437736511,
           0.5190969705581665,
           -0.4812203645706177,
           -0.3239787518978119,
           -0.3150463402271271,
           0.8347238302230835,
           -0.8883949518203735,
           1.864486813545227,
           -0.74564129114151
          ],
          "id": 6,
          "words": "david",
          "x": 0.19224776327610016,
          "y": 0.07045094668865204
         },
         {
          "emb": [
           -0.09681757539510727,
           0.6939725279808044,
           0.46102744340896606,
           0.2218550741672516,
           -1.139209270477295,
           0.10741826146841049,
           0.9884557723999023,
           -0.694547712802887,
           1.6535731554031372,
           0.5180924534797668
          ],
          "id": 7,
          "words": "mostrou",
          "x": 0.4268052875995636,
          "y": -0.5305640697479248
         },
         {
          "emb": [
           1.113334059715271,
           0.3077668249607086,
           -1.2599937915802002,
           -1.0342472791671753,
           0.4139726161956787,
           0.420053094625473,
           -1.739865779876709,
           -2.076702356338501,
           -0.1121501624584198,
           -0.8078658580780029
          ],
          "id": 8,
          "words": "sob",
          "x": -0.48444485664367676,
          "y": -1.2900896072387695
         },
         {
          "emb": [
           -0.5801562666893005,
           -1.1156572103500366,
           -1.1227984428405762,
           -1.1843832731246948,
           1.6177181005477905,
           -1.752805233001709,
           -1.0897661447525024,
           -2.5523414611816406,
           -0.7845924496650696,
           1.250718593597412
          ],
          "id": 9,
          "words": "agar",
          "x": -2.513295888900757,
          "y": -2.0460946559906006
         },
         {
          "emb": [
           2.3255364894866943,
           1.170261025428772,
           -0.9828408360481262,
           -0.18591436743736267,
           -0.7253510355949402,
           0.9415348172187805,
           0.021379612386226654,
           0.957909345626831,
           2.1816251277923584,
           -0.03563866391777992
          ],
          "id": 10,
          "words": "unidos",
          "x": 0.9605216383934021,
          "y": -0.6158695816993713
         },
         {
          "emb": [
           0.27374881505966187,
           1.656148910522461,
           -0.7975015640258789,
           -0.645477831363678,
           0.16455335915088654,
           -0.24987906217575073,
           -0.36147570610046387,
           0.9207793474197388,
           -0.933491587638855,
           -1.377347707748413
          ],
          "id": 11,
          "words": "condenação",
          "x": 0.15157382190227509,
          "y": 1.17250394821167
         },
         {
          "emb": [
           0.38794419169425964,
           1.7647554874420166,
           0.0209702979773283,
           -1.4850339889526367,
           0.0017855584155768156,
           -0.500916600227356,
           0.02993929758667946,
           -1.8134756088256836,
           -0.9247768521308899,
           0.07398347556591034
          ],
          "id": 12,
          "words": "afirmado",
          "x": 0.32291728258132935,
          "y": -1.2812775373458862
         },
         {
          "emb": [
           -2.745734691619873,
           -0.7340457439422607,
           0.3737180829048157,
           -0.232827290892601,
           -0.28404200077056885,
           -1.366994023323059,
           0.6777032613754272,
           -1.2396023273468018,
           1.96010160446167,
           -0.1389211118221283
          ],
          "id": 13,
          "words": "introduziu",
          "x": -1.944214105606079,
          "y": 0.5166535377502441
         },
         {
          "emb": [
           2.3539652824401855,
           -1.1058878898620605,
           -0.36017224192619324,
           0.4766125977039337,
           1.6417169570922852,
           -0.7399362325668335,
           -1.5455305576324463,
           1.3230589628219604,
           -0.7263945937156677,
           -0.42115744948387146
          ],
          "id": 14,
          "words": "ingestão",
          "x": 0.423478364944458,
          "y": 0.5144396424293518
         },
         {
          "emb": [
           -0.4219611883163452,
           0.7639299631118774,
           -1.488290786743164,
           0.8913936614990234,
           0.8244391679763794,
           0.6339263916015625,
           0.3281281888484955,
           0.7279055714607239,
           0.3324846029281616,
           0.02322402596473694
          ],
          "id": 15,
          "words": "computação",
          "x": -0.6647527813911438,
          "y": 0.2922394871711731
         },
         {
          "emb": [
           1.4789378643035889,
           -0.9138948917388916,
           -0.3077511191368103,
           -1.989212989807129,
           1.5126556158065796,
           1.3490487337112427,
           0.19097939133644104,
           0.18345265090465546,
           -1.4562995433807373,
           -0.08973481506109238
          ],
          "id": 16,
          "words": "bletchley",
          "x": 0.9270123243331909,
          "y": -1.4378745555877686
         },
         {
          "emb": [
           1.431532382965088,
           -0.6119692921638489,
           -0.11616414040327072,
           0.42050015926361084,
           0.354844868183136,
           -0.21727310121059418,
           -0.05926630273461342,
           -0.14517618715763092,
           0.1023411899805069,
           -0.08952656388282776
          ],
          "id": 17,
          "words": "dedicação",
          "x": 0.5092346668243408,
          "y": -0.2628175914287567
         },
         {
          "emb": [
           0.795357346534729,
           -0.6685629487037659,
           0.5741675496101379,
           -0.2239047884941101,
           0.6132935285568237,
           -1.1312901973724365,
           -0.738264262676239,
           -0.7189852595329285,
           -0.1961173713207245,
           -1.09031343460083
          ],
          "id": 18,
          "words": "desumano",
          "x": 0.24806953966617584,
          "y": 0.4658859968185425
         },
         {
          "emb": [
           0.2835131883621216,
           -1.2715333700180054,
           0.3913934528827667,
           0.6651260256767273,
           0.6941412091255188,
           -0.21718788146972656,
           -1.0273548364639282,
           -1.249712347984314,
           -0.7117605805397034,
           1.5844874382019043
          ],
          "id": 19,
          "words": "biógrafo",
          "x": -0.28736719489097595,
          "y": -1.3782846927642822
         },
         {
          "emb": [
           -0.5160993337631226,
           0.7646557688713074,
           1.008530616760254,
           0.9935253858566284,
           -0.20308615267276764,
           -1.0954258441925049,
           1.798587679862976,
           -1.2113913297653198,
           1.0731174945831299,
           0.4236566424369812
          ],
          "id": 20,
          "words": "much",
          "x": 0.4350431561470032,
          "y": -0.0944533422589302
         },
         {
          "emb": [
           1.5500398874282837,
           1.051275372505188,
           -0.7201583385467529,
           0.5639780759811401,
           1.5488431453704834,
           -0.4238903820514679,
           2.199277877807617,
           1.8229693174362183,
           -0.21613186597824097,
           0.08134499192237854
          ],
          "id": 21,
          "words": "estrada",
          "x": 1.0326851606369019,
          "y": 0.29326382279396057
         },
         {
          "emb": [
           -0.281363308429718,
           0.07633230090141296,
           1.217610239982605,
           -0.3553142249584198,
           0.6711651682853699,
           -0.46753454208374023,
           1.399169683456421,
           1.722639799118042,
           -1.449754238128662,
           0.26126813888549805
          ],
          "id": 22,
          "words": "investigação",
          "x": 1.077987790107727,
          "y": 0.8528587818145752
         },
         {
          "emb": [
           -0.1658671647310257,
           -0.5117257833480835,
           1.4352747201919556,
           -0.9712328910827637,
           -0.42250972986221313,
           2.257833242416382,
           0.08527117967605591,
           -1.4221328496932983,
           -0.5472403764724731,
           1.409210443496704
          ],
          "id": 23,
          "words": "projetou",
          "x": 1.35854172706604,
          "y": -2.217616558074951
         },
         {
          "emb": [
           -0.612373411655426,
           0.14276619255542755,
           0.1699858158826828,
           -0.16467532515525818,
           1.3248807191848755,
           -1.0204650163650513,
           -0.08110971003770828,
           -1.3350712060928345,
           0.7331660985946655,
           -0.22105467319488525
          ],
          "id": 24,
          "words": "teórica",
          "x": -0.7088855504989624,
          "y": -0.26377519965171814
         },
         {
          "emb": [
           2.384221076965332,
           1.5180126428604126,
           0.49450254440307617,
           -0.6023609638214111,
           -1.0401129722595215,
           -0.07817242294549942,
           1.0855432748794556,
           0.6086341142654419,
           -0.7329889535903931,
           -0.4148925244808197
          ],
          "id": 25,
          "words": "portanto",
          "x": 2.312932252883911,
          "y": -0.06324169784784317
         },
         {
          "emb": [
           0.413284033536911,
           -0.8280396461486816,
           -2.0716676712036133,
           -1.0326544046401978,
           -0.06979923695325851,
           -1.4235689640045166,
           -0.6488759517669678,
           -0.4581107199192047,
           -0.8080313205718994,
           1.7925933599472046
          ],
          "id": 26,
          "words": "mensagens",
          "x": -2.2527384757995605,
          "y": -1.633839726448059
         },
         {
          "emb": [
           1.0715620517730713,
           -2.382443428039551,
           0.09684021770954132,
           1.9964184761047363,
           -1.8049429655075073,
           -0.37527674436569214,
           0.9264426231384277,
           0.6253045797348022,
           -1.4317938089370728,
           -1.3262149095535278
          ],
          "id": 27,
          "words": "suicídio",
          "x": 0.8934120535850525,
          "y": 1.941301941871643
         },
         {
          "emb": [
           0.7484687566757202,
           -0.3831961154937744,
           -2.0393154621124268,
           0.7892147898674011,
           -0.30229535698890686,
           0.0834057405591011,
           0.3670863211154938,
           1.405211329460144,
           -0.7146021723747253,
           0.03139667958021164
          ],
          "id": 28,
          "words": "estabelecido",
          "x": -0.6620038151741028,
          "y": 0.5238473415374756
         },
         {
          "emb": [
           -1.4879716634750366,
           0.36369168758392334,
           -0.03424273803830147,
           -0.7062398791313171,
           -0.2404896765947342,
           0.8575251698493958,
           -0.925925612449646,
           -1.1242964267730713,
           0.022155476734042168,
           1.23067045211792
          ],
          "id": 29,
          "words": "contrariamente",
          "x": -0.869933545589447,
          "y": -1.2686845064163208
         },
         {
          "emb": [
           2.7447943687438965,
           -0.11103089153766632,
           0.2134653627872467,
           -1.216936469078064,
           -0.7554727792739868,
           -0.31811678409576416,
           0.5898682475090027,
           -0.7927567362785339,
           1.363553762435913,
           -1.3688877820968628
          ],
          "id": 30,
          "words": "inglaterra",
          "x": 1.49214506149292,
          "y": -0.5481451153755188
         },
         {
          "emb": [
           1.2364659309387207,
           1.4317586421966553,
           0.8012600541114807,
           -0.5289095640182495,
           -0.6090861558914185,
           -0.34996089339256287,
           -1.9224262237548828,
           0.9369820356369019,
           1.2335600852966309,
           -1.90250563621521
          ],
          "id": 31,
          "words": "ativa",
          "x": 1.147091269493103,
          "y": 1.5924848318099976
         },
         {
          "emb": [
           2.7937021255493164,
           -0.4244413375854492,
           -0.45861485600471497,
           -0.33456549048423767,
           -0.006653381045907736,
           -1.8836599588394165,
           0.12733301520347595,
           -0.0012325691059231758,
           -0.11960050463676453,
           0.8246739506721497
          ],
          "id": 32,
          "words": "família",
          "x": 0.3020486831665039,
          "y": -0.9977457523345947
         },
         {
          "emb": [
           0.5250003933906555,
           -0.22313575446605682,
           1.0584983825683594,
           0.12238262593746185,
           1.234829306602478,
           0.49180012941360474,
           1.1779322624206543,
           -1.154049277305603,
           -0.09416696429252625,
           0.33141401410102844
          ],
          "id": 33,
          "words": "elizabeth",
          "x": 1.2853760719299316,
          "y": -1.1035711765289307
         },
         {
          "emb": [
           -0.5193246603012085,
           1.0348424911499023,
           -0.5936291813850403,
           0.5669395923614502,
           -0.4804063141345978,
           -0.9381885528564453,
           -0.9493317008018494,
           0.14072929322719574,
           1.2730225324630737,
           0.35051271319389343
          ],
          "id": 34,
          "words": "filho",
          "x": -1.090049386024475,
          "y": 0.45197170972824097
         },
         {
          "emb": [
           1.0907807350158691,
           -1.079991102218628,
           -0.4016406238079071,
           -0.149800643324852,
           -1.1541683673858643,
           -1.534059762954712,
           1.0911426544189453,
           -0.1298161894083023,
           -0.524806022644043,
           -0.3077975809574127
          ],
          "id": 35,
          "words": "anteriormente",
          "x": -0.07778117060661316,
          "y": 0.2757005989551544
         },
         {
          "emb": [
           -0.24751944839954376,
           1.6506083011627197,
           0.7002038955688477,
           1.1842108964920044,
           0.08035925775766373,
           -0.00488205486908555,
           -0.28290456533432007,
           2.737541437149048,
           0.4694976210594177,
           -0.20220986008644104
          ],
          "id": 36,
          "words": "bruxa",
          "x": 0.9229345917701721,
          "y": 2.065842866897583
         },
         {
          "emb": [
           -1.0158034563064575,
           -0.12888170778751373,
           0.7478925585746765,
           -0.2363724410533905,
           0.08726046979427338,
           -0.5676340460777283,
           1.395012617111206,
           0.5072938203811646,
           -0.8611497282981873,
           0.7169831991195679
          ],
          "id": 37,
          "words": "chirs",
          "x": 0.10868935286998749,
          "y": 0.2130734920501709
         },
         {
          "emb": [
           0.23199909925460815,
           -0.7619752287864685,
           -1.7339110374450684,
           1.5510897636413574,
           -0.28696364164352417,
           1.1384762525558472,
           -0.18322882056236267,
           -1.5589505434036255,
           0.8386649489402771,
           -0.5700576305389404
          ],
          "id": 38,
          "words": "london",
          "x": -0.7638133764266968,
          "y": -0.4275265038013458
         },
         {
          "emb": [
           -0.7742246389389038,
           -0.527616560459137,
           -0.7963287234306335,
           0.07699627429246902,
           -0.8248491883277893,
           0.144128680229187,
           -0.6728931665420532,
           -0.4488506019115448,
           -1.322013258934021,
           -1.12748122215271
          ],
          "id": 39,
          "words": "feitas",
          "x": -0.7473753094673157,
          "y": 0.929720401763916
         },
         {
          "emb": [
           1.5939375162124634,
           -1.68940007686615,
           -0.2980417013168335,
           -1.3412485122680664,
           0.4025648832321167,
           -0.7061309218406677,
           -1.5828801393508911,
           -0.6134286522865295,
           1.0812208652496338,
           -2.093194007873535
          ],
          "id": 40,
          "words": "construídas",
          "x": -0.2775232493877411,
          "y": 0.354446679353714
         },
         {
          "emb": [
           0.2051115185022354,
           1.9703776836395264,
           0.12497975677251816,
           1.1481788158416748,
           0.30470895767211914,
           -0.16462190449237823,
           -0.8964378237724304,
           -1.0418622493743896,
           -1.286122441291809,
           -0.33285611867904663
          ],
          "id": 41,
          "words": "argumentou",
          "x": 0.6521329879760742,
          "y": 0.27054479718208313
         },
         {
          "emb": [
           1.8085936307907104,
           -1.2484089136123657,
           1.194185495376587,
           -0.3175341486930847,
           -0.22954995930194855,
           -1.4906774759292603,
           1.5533024072647095,
           -0.9365778565406799,
           -0.9087986946105957,
           1.2101906538009644
          ],
          "id": 42,
          "words": "alguma",
          "x": 1.183101773262024,
          "y": -1.346795916557312
         },
         {
          "emb": [
           -0.8063124418258667,
           2.1560862064361572,
           0.5608202815055847,
           -1.2928249835968018,
           -1.3596032857894897,
           -0.5780350565910339,
           -0.12137133628129959,
           -0.7458935379981995,
           0.5992520451545715,
           0.16867244243621826
          ],
          "id": 43,
          "words": "copeland",
          "x": 0.0052272239699959755,
          "y": -0.2233152836561203
         },
         {
          "emb": [
           0.360917866230011,
           0.4903564453125,
           -1.1968512535095215,
           0.4200611710548401,
           -0.9266943335533142,
           0.3172208368778229,
           0.9817714691162109,
           0.13449519872665405,
           -0.37407824397087097,
           0.18932145833969116
          ],
          "id": 44,
          "words": "criptográfica",
          "x": -0.05220862850546837,
          "y": -0.13735271990299225
         },
         {
          "emb": [
           -0.5698857307434082,
           1.1474369764328003,
           2.0810883045196533,
           0.3104305863380432,
           -0.13730721175670624,
           1.2639504671096802,
           0.4676421880722046,
           -0.8985950946807861,
           0.7136409878730774,
           1.978193998336792
          ],
          "id": 45,
          "words": "post",
          "x": 1.5496855974197388,
          "y": -1.579766035079956
         },
         {
          "emb": [
           -0.2666436731815338,
           -0.8724201321601868,
           -0.06560482084751129,
           -0.07646720856428146,
           -1.2816393375396729,
           1.2170859575271606,
           0.6521334052085876,
           0.0065238201059401035,
           -1.0329076051712036,
           1.6788654327392578
          ],
          "id": 46,
          "words": "bem",
          "x": 0.17782360315322876,
          "y": -1.1837172508239746
         },
         {
          "emb": [
           0.3462897837162018,
           0.6495333909988403,
           1.3385626077651978,
           -0.39460867643356323,
           -0.6949813365936279,
           0.9076199531555176,
           -1.2307233810424805,
           -0.48502597212791443,
           -2.01102614402771,
           -0.20275942981243134
          ],
          "id": 47,
          "words": "sobre",
          "x": 1.584681749343872,
          "y": -0.04310399293899536
         },
         {
          "emb": [
           1.0968084335327148,
           0.35886672139167786,
           1.0573159456253052,
           0.7552986145019531,
           -0.1598445028066635,
           -1.3454575538635254,
           -1.9831055402755737,
           0.5216587781906128,
           -1.1693260669708252,
           0.20650288462638855
          ],
          "id": 48,
          "words": "sistema",
          "x": 0.7255222797393799,
          "y": 0.8268956542015076
         },
         {
          "emb": [
           0.5272096991539001,
           -0.7856869697570801,
           -0.6458656191825867,
           -0.6748901009559631,
           0.5245147943496704,
           -0.9206309914588928,
           1.6060817241668701,
           -0.5528659820556641,
           1.055631399154663,
           -0.960266649723053
          ],
          "id": 49,
          "words": "além",
          "x": -0.37547609210014343,
          "y": -0.06254927814006805
         },
         {
          "emb": [
           0.5089802145957947,
           -0.9914147853851318,
           0.030193472281098366,
           -1.0938948392868042,
           0.8814239501953125,
           0.057996343821287155,
           0.09842468053102493,
           -0.01049708016216755,
           -0.8956259489059448,
           -1.381941318511963
          ],
          "id": 50,
          "words": "nome",
          "x": 0.3626041114330292,
          "y": 0.3590325117111206
         },
         {
          "emb": [
           1.5051532983779907,
           -0.24675948917865753,
           -1.2899922132492065,
           1.153732419013977,
           -0.11127177625894547,
           -0.386578232049942,
           0.6155005097389221,
           -1.4057421684265137,
           -0.754649817943573,
           -1.231381893157959
          ],
          "id": 51,
          "words": "apoio",
          "x": 0.19933535158634186,
          "y": 0.08479461073875427
         },
         {
          "emb": [
           0.28851279616355896,
           -0.25778329372406006,
           -0.3847295343875885,
           -0.7332037687301636,
           -1.0391180515289307,
           -0.8949110507965088,
           -1.1115208864212036,
           -0.5445917844772339,
           0.3471793234348297,
           -0.6860768795013428
          ],
          "id": 52,
          "words": "década",
          "x": -0.6886230707168579,
          "y": 0.293329119682312
         },
         {
          "emb": [
           -0.47647443413734436,
           0.36440038681030273,
           1.0371836423873901,
           -0.4576115310192108,
           -0.4875120222568512,
           -0.5940943360328674,
           -0.8261783123016357,
           0.45085853338241577,
           0.5476596355438232,
           -0.5289618968963623
          ],
          "id": 53,
          "words": "stoney",
          "x": 0.19952085614204407,
          "y": 0.9865522384643555
         },
         {
          "emb": [
           -0.2479647696018219,
           0.2499140053987503,
           0.6397196054458618,
           0.8107295036315918,
           -0.2113039642572403,
           1.1449072360992432,
           -0.9768813252449036,
           0.991231381893158,
           0.9177683591842651,
           -0.7897697687149048
          ],
          "id": 54,
          "words": "corpo",
          "x": 0.7511265277862549,
          "y": 1.2105858325958252
         },
         {
          "emb": [
           1.0181115865707397,
           -0.270987331867218,
           1.5068461894989014,
           -0.22797171771526337,
           -0.18912862241268158,
           1.6291078329086304,
           0.3890875577926636,
           0.9649776220321655,
           -1.1159887313842773,
           0.6445435881614685
          ],
          "id": 55,
          "words": "direcionada",
          "x": 2.304319381713867,
          "y": -0.4731867015361786
         },
         {
          "emb": [
           1.021155595779419,
           -0.21841435134410858,
           1.2833276987075806,
           1.5139390230178833,
           0.03274893760681152,
           -0.5360775589942932,
           0.5172793865203857,
           -0.0029826583340764046,
           0.2619129717350006,
           -0.8774909973144531
          ],
          "id": 56,
          "words": "pode",
          "x": 1.5529093742370605,
          "y": 1.07872474193573
         },
         {
          "emb": [
           0.6554512977600098,
           -0.44334834814071655,
           0.498815655708313,
           1.149295449256897,
           -1.1185189485549927,
           -0.5761404633522034,
           -0.5697261095046997,
           1.8437960147857666,
           0.3492995798587799,
           -0.07949065417051315
          ],
          "id": 57,
          "words": "decodificadora",
          "x": 0.5218008160591125,
          "y": 1.5645134449005127
         },
         {
          "emb": [
           0.993743360042572,
           -1.4160698652267456,
           -1.0432695150375366,
           1.456458330154419,
           0.7588071227073669,
           -0.5054406523704529,
           -0.06531590968370438,
           1.9980095624923706,
           0.48841622471809387,
           1.7988438606262207
          ],
          "id": 58,
          "words": "ator",
          "x": -0.7403583526611328,
          "y": -0.1458696573972702
         },
         {
          "emb": [
           0.6357035636901855,
           0.23901665210723877,
           -1.1013432741165161,
           -0.8930746912956238,
           -0.9712091684341431,
           0.6365903615951538,
           -0.16726122796535492,
           0.6256142854690552,
           -0.1536271870136261,
           -0.12601099908351898
          ],
          "id": 59,
          "words": "preocupação",
          "x": -0.0989360362291336,
          "y": -0.2055763453245163
         },
         {
          "emb": [
           -1.212877631187439,
           -0.34718120098114014,
           -1.0053696632385254,
           -0.011647951789200306,
           -0.24916374683380127,
           0.3788418769836426,
           0.13067223131656647,
           0.9830884337425232,
           0.5188930630683899,
           -0.1250145137310028
          ],
          "id": 60,
          "words": "hastings",
          "x": -1.150219440460205,
          "y": 0.7089582681655884
         },
         {
          "emb": [
           1.4388879537582397,
           0.5644508600234985,
           -1.772711992263794,
           0.4086345136165619,
           1.6542505025863647,
           -1.0496647357940674,
           -0.20379413664340973,
           0.5916668176651001,
           2.742243766784668,
           1.6804369688034058
          ],
          "id": 61,
          "words": "tido",
          "x": -1.3005422353744507,
          "y": -1.409396767616272
         },
         {
          "emb": [
           -1.0353045463562012,
           -0.18153585493564606,
           1.0374329090118408,
           1.2485586404800415,
           0.9412569999694824,
           -0.18217436969280243,
           -0.6372842788696289,
           -0.18133731186389923,
           1.6941816806793213,
           0.34861308336257935
          ],
          "id": 62,
          "words": "man",
          "x": -0.2234744429588318,
          "y": 0.41792216897010803
         },
         {
          "emb": [
           1.0114778280258179,
           -0.9145997762680054,
           1.0629640817642212,
           -0.4654063284397125,
           1.9967445135116577,
           -0.08234453201293945,
           -0.9853264093399048,
           -0.919251024723053,
           0.5785378813743591,
           0.02568717859685421
          ],
          "id": 63,
          "words": "sodomia",
          "x": 0.6192713379859924,
          "y": -0.9682250022888184
         },
         {
          "emb": [
           0.44832301139831543,
           1.1861096620559692,
           -0.3757026195526123,
           1.422991394996643,
           -0.4992978274822235,
           1.3698452711105347,
           -0.9912747740745544,
           -0.9894413352012634,
           1.8367561101913452,
           0.7003722190856934
          ],
          "id": 64,
          "words": "criptoanalista",
          "x": 0.29752156138420105,
          "y": -0.9521279335021973
         },
         {
          "emb": [
           -0.22919800877571106,
           -1.2156164646148682,
           -1.350245714187622,
           0.6637185215950012,
           -0.6514785289764404,
           -1.1632459163665771,
           -0.8180733323097229,
           -1.6374479532241821,
           0.9051480889320374,
           0.73972088098526
          ],
          "id": 65,
          "words": "sistemas",
          "x": -2.084578514099121,
          "y": -0.7557642459869385
         },
         {
          "emb": [
           -0.9066958427429199,
           -1.2007527351379395,
           -1.065873622894287,
           -0.47407591342926025,
           0.9246600866317749,
           -1.4104489088058472,
           0.22081969678401947,
           -0.2959739863872528,
           0.3452635109424591,
           0.22469700872898102
          ],
          "id": 66,
          "words": "matemático",
          "x": -2.025923252105713,
          "y": -0.08546150475740433
         },
         {
          "emb": [
           -1.6924097537994385,
           0.13580171763896942,
           0.5023946166038513,
           1.3794925212860107,
           -0.5605287551879883,
           -0.7692943811416626,
           -0.5722642540931702,
           -0.06849035620689392,
           -1.6871654987335205,
           -1.3461964130401611
          ],
          "id": 67,
          "words": "teoria",
          "x": -0.29584068059921265,
          "y": 2.3612983226776123
         },
         {
          "emb": [
           0.443806916475296,
           -0.7441455125808716,
           1.3995033502578735,
           0.10728257894515991,
           0.06086239591240883,
           0.29660463333129883,
           0.6470088958740234,
           -0.4045814275741577,
           -0.33586883544921875,
           -0.40757304430007935
          ],
          "id": 68,
          "words": "forma",
          "x": 1.4042861461639404,
          "y": 0.07862885296344757
         },
         {
          "emb": [
           0.17936937510967255,
           1.0363166332244873,
           -0.4805015027523041,
           -1.0693947076797485,
           -0.18722514808177948,
           0.6825738549232483,
           0.12271244078874588,
           -0.775824785232544,
           1.3678412437438965,
           1.5332272052764893
          ],
          "id": 69,
          "words": "churchill",
          "x": -0.24195846915245056,
          "y": -2.079230546951294
         },
         {
          "emb": [
           -0.6854416131973267,
           -2.4443023204803467,
           -0.920109748840332,
           -0.7608470320701599,
           1.0496318340301514,
           -0.20034264028072357,
           -1.1536445617675781,
           -0.8843744993209839,
           -1.2565511465072632,
           -0.9245908260345459
          ],
          "id": 70,
          "words": "definições",
          "x": -1.616041898727417,
          "y": 0.10402002930641174
         },
         {
          "emb": [
           0.4786986708641052,
           -0.2299463152885437,
           2.589538335800171,
           1.8600951433181763,
           -0.450732946395874,
           -1.8019652366638184,
           -1.0374857187271118,
           -1.2741219997406006,
           0.12504711747169495,
           -0.3490540683269501
          ],
          "id": 71,
          "words": "colossus",
          "x": 1.2725951671600342,
          "y": 1.0676336288452148
         },
         {
          "emb": [
           0.8647638559341431,
           1.9469913244247437,
           -1.1362206935882568,
           -1.6630017757415771,
           1.5493909120559692,
           1.5894277095794678,
           0.8555922508239746,
           -0.501764714717865,
           0.4591010510921478,
           1.3657417297363281
          ],
          "id": 72,
          "words": "cheshire",
          "x": 0.39644917845726013,
          "y": -2.772512912750244
         },
         {
          "emb": [
           1.010624647140503,
           -1.246458649635315,
           0.03045586682856083,
           -0.026965327560901642,
           -0.1360667198896408,
           -0.2388424426317215,
           -2.3135242462158203,
           -0.9476868510246277,
           -0.5280671715736389,
           2.4421379566192627
          ],
          "id": 73,
          "words": "encontrar",
          "x": -0.6057817339897156,
          "y": -2.095951557159424
         },
         {
          "emb": [
           -0.12062525004148483,
           -1.7497159242630005,
           0.08659587800502777,
           1.2598772048950195,
           -0.3461163640022278,
           0.9816087484359741,
           1.7298507690429688,
           -0.27955952286720276,
           2.0801703929901123,
           -0.11299313604831696
          ],
          "id": 74,
          "words": "método",
          "x": 0.2560531795024872,
          "y": -0.05536465719342232
         },
         {
          "emb": [
           -0.13220268487930298,
           -0.3421107530593872,
           -0.4677377939224243,
           0.910936176776886,
           -0.9972956776618958,
           0.5618613958358765,
           0.14873291552066803,
           1.1740578413009644,
           -0.09159568697214127,
           2.6806440353393555
          ],
          "id": 75,
          "words": "parte",
          "x": -0.3783261775970459,
          "y": -0.93144291639328
         },
         {
          "emb": [
           1.6970523595809937,
           0.8313188552856445,
           1.7912743091583252,
           -0.7869361639022827,
           0.48530858755111694,
           2.669290542602539,
           1.4272814989089966,
           0.1108950823545456,
           -0.8016102313995361,
           0.453384131193161
          ],
          "id": 76,
          "words": "hormônios",
          "x": 3.541142225265503,
          "y": -1.559059739112854
         },
         {
          "emb": [
           0.41824910044670105,
           0.3486440181732178,
           2.0748562812805176,
           0.88863605260849,
           -0.20743253827095032,
           -2.4148788452148438,
           -0.6801199316978455,
           -0.9680190086364746,
           0.8548320531845093,
           0.2572579085826874
          ],
          "id": 77,
          "words": "alternativa",
          "x": 0.6054569482803345,
          "y": 0.5047279000282288
         },
         {
          "emb": [
           1.1098296642303467,
           1.013587236404419,
           -0.37237006425857544,
           -0.2323063760995865,
           -0.06992067396640778,
           0.7175082564353943,
           -1.1297669410705566,
           -0.11629032343626022,
           -2.0692365169525146,
           -0.4306547939777374
          ],
          "id": 78,
          "words": "prisão",
          "x": 0.9092956781387329,
          "y": -0.127894788980484
         },
         {
          "emb": [
           -0.14938946068286896,
           1.6879690885543823,
           -0.9404195547103882,
           1.256100058555603,
           2.1869406700134277,
           1.4182615280151367,
           1.1106641292572021,
           -0.971379280090332,
           0.012390930205583572,
           -0.6808694005012512
          ],
          "id": 79,
          "words": "especialmente",
          "x": 0.52708899974823,
          "y": -0.36968526244163513
         },
         {
          "emb": [
           0.31165021657943726,
           -0.7574921250343323,
           -0.599658191204071,
           -0.830662727355957,
           -1.256463885307312,
           -1.8776589632034302,
           1.316775918006897,
           -1.0593101978302002,
           -0.3506696820259094,
           -0.21038644015789032
          ],
          "id": 80,
          "words": "ii",
          "x": -0.7763184309005737,
          "y": -0.1845524162054062
         },
         {
          "emb": [
           -0.4023875892162323,
           1.5858774185180664,
           -0.4078286290168762,
           1.3088934421539307,
           1.2993316650390625,
           -0.3404085040092468,
           -0.7507320642471313,
           -0.5966470241546631,
           0.4328401982784271,
           0.34587299823760986
          ],
          "id": 81,
          "words": "diariamente",
          "x": -0.45149075984954834,
          "y": -0.0219550970941782
         },
         {
          "emb": [
           1.0414568185806274,
           -1.402295470237732,
           0.14444930851459503,
           0.17021991312503815,
           0.7645092010498047,
           -0.5435081124305725,
           -0.25306642055511475,
           -0.745652973651886,
           -0.5592911243438721,
           0.23413848876953125
          ],
          "id": 82,
          "words": "ativistas",
          "x": 0.12409403175115585,
          "y": -0.6307563185691833
         },
         {
          "emb": [
           0.13449788093566895,
           -1.0837888717651367,
           0.2679694890975952,
           -2.128345251083374,
           -0.19788438081741333,
           -0.019806798547506332,
           0.9543324708938599,
           -0.7264858484268188,
           -0.0063873580656945705,
           1.607823371887207
          ],
          "id": 83,
          "words": "elementos",
          "x": -0.20434769988059998,
          "y": -2.1564114093780518
         },
         {
          "emb": [
           1.5760037899017334,
           0.14236873388290405,
           -0.040315769612789154,
           0.02062242664396763,
           1.0492675304412842,
           -1.5077792406082153,
           -0.5193452835083008,
           1.5969265699386597,
           -0.02756914496421814,
           -0.8446736335754395
          ],
          "id": 84,
          "words": "indian",
          "x": 0.4087660610675812,
          "y": 1.2316312789916992
         },
         {
          "emb": [
           0.8693056106567383,
           0.2774203419685364,
           1.0596853494644165,
           1.6425007581710815,
           -0.16450849175453186,
           0.02498571388423443,
           -0.23593249917030334,
           -0.9151716828346252,
           -1.2992782592773438,
           -1.9899076223373413
          ],
          "id": 85,
          "words": "antes",
          "x": 1.8011524677276611,
          "y": 1.4791030883789062
         },
         {
          "emb": [
           -0.34267720580101013,
           -1.5016683340072632,
           1.0462586879730225,
           -0.8338929414749146,
           1.9394294023513794,
           0.38577181100845337,
           -0.745832085609436,
           -1.9635268449783325,
           1.492385983467102,
           1.5312154293060303
          ],
          "id": 86,
          "words": "aceitou",
          "x": -0.43694430589675903,
          "y": -2.4217159748077393
         },
         {
          "emb": [
           0.3631021976470947,
           -0.10755564272403717,
           0.9126372933387756,
           0.46103450655937195,
           0.37438422441482544,
           -0.5625426173210144,
           0.42229822278022766,
           -1.0926729440689087,
           0.01418407540768385,
           0.604616105556488
          ],
          "id": 87,
          "words": "declarar",
          "x": 0.5908327102661133,
          "y": -0.6681100130081177
         },
         {
          "emb": [
           1.9428870677947998,
           1.3986271619796753,
           0.4189557731151581,
           -1.2559177875518799,
           1.3540951013565063,
           0.21342553198337555,
           0.04156758263707161,
           -0.9607261419296265,
           1.2628469467163086,
           1.7801434993743896
          ],
          "id": 88,
          "words": "sugerem",
          "x": 1.0697355270385742,
          "y": -2.8622889518737793
         },
         {
          "emb": [
           1.5083478689193726,
           0.5239843726158142,
           -0.2595943212509155,
           -0.9347376823425293,
           -0.9123137593269348,
           -1.2389863729476929,
           -0.19618269801139832,
           0.1726691871881485,
           -1.7938611507415771,
           -1.9650145769119263
          ],
          "id": 89,
          "words": "service",
          "x": 0.7565189003944397,
          "y": 1.2566583156585693
         },
         {
          "emb": [
           0.6276531219482422,
           -0.5915994048118591,
           -0.9577518701553345,
           0.7762444615364075,
           -0.9865942001342773,
           -1.1362943649291992,
           -1.5150291919708252,
           -0.389622300863266,
           -1.2841955423355103,
           -0.14674772322177887
          ],
          "id": 90,
          "words": "internet",
          "x": -0.8674721121788025,
          "y": 0.5257523059844971
         },
         {
          "emb": [
           0.06703434139490128,
           -1.4303274154663086,
           1.2856802940368652,
           0.8448194861412048,
           0.5223692655563354,
           0.8178660869598389,
           0.29661861062049866,
           -0.8939936757087708,
           -1.2155615091323853,
           0.23513351380825043
          ],
          "id": 91,
          "words": "general",
          "x": 1.1426222324371338,
          "y": -0.38020408153533936
         },
         {
          "emb": [
           0.04705095291137695,
           0.6522935628890991,
           -0.8367841839790344,
           0.4422306418418884,
           0.708820104598999,
           0.5824628472328186,
           -1.473307728767395,
           0.3668293058872223,
           -1.0221177339553833,
           -0.6494315266609192
          ],
          "id": 92,
          "words": "armazenamento",
          "x": -0.19009077548980713,
          "y": 0.6106287837028503
         },
         {
          "emb": [
           -0.88591468334198,
           0.2527076005935669,
           -0.7019460797309875,
           0.05570540577173233,
           1.4109045267105103,
           -0.6042267680168152,
           -0.6390410661697388,
           0.34446921944618225,
           -1.1389222145080566,
           0.500937819480896
          ],
          "id": 93,
          "words": "armazenado",
          "x": -1.1309280395507812,
          "y": 0.15297581255435944
         },
         {
          "emb": [
           -1.0510228872299194,
           -0.5304033160209656,
           -0.928684651851654,
           0.7189329862594604,
           0.013296620920300484,
           -2.3697662353515625,
           -0.2642938792705536,
           -0.3109436333179474,
           0.1456136256456375,
           -0.8001933097839355
          ],
          "id": 94,
          "words": "fez",
          "x": -2.0004591941833496,
          "y": 1.489098310470581
         },
         {
          "emb": [
           -1.0200471878051758,
           1.058077335357666,
           -0.03290330246090889,
           0.05335359647870064,
           -1.1011182069778442,
           0.4862326383590698,
           0.3310081362724304,
           0.9510563611984253,
           0.2701347768306732,
           1.282544493675232
          ],
          "id": 95,
          "words": "genealogy",
          "x": -0.16271738708019257,
          "y": -0.056134242564439774
         },
         {
          "emb": [
           -0.6020848751068115,
           0.33175793290138245,
           -0.7923328280448914,
           0.6067417860031128,
           0.18674029409885406,
           -0.9999299049377441,
           -1.15828275680542,
           2.3394081592559814,
           0.5435484647750854,
           0.035599369555711746
          ],
          "id": 96,
          "words": "ics",
          "x": -1.2220120429992676,
          "y": 1.726884365081787
         },
         {
          "emb": [
           -0.3675256073474884,
           -1.5497348308563232,
           1.41837739944458,
           1.8948540687561035,
           1.1458191871643066,
           0.8805187344551086,
           0.026461392641067505,
           1.8577888011932373,
           1.2890444993972778,
           -1.0299508571624756
          ],
          "id": 97,
          "words": "disposição",
          "x": 1.0559202432632446,
          "y": 2.054932117462158
         },
         {
          "emb": [
           0.8122166991233826,
           0.08519528806209564,
           -0.5754083395004272,
           0.33157482743263245,
           0.40009474754333496,
           0.3074081540107727,
           -0.408286452293396,
           -0.3622380793094635,
           -0.03770303726196289,
           -0.34942710399627686
          ],
          "id": 98,
          "words": "waller",
          "x": 0.17341044545173645,
          "y": -0.205088272690773
         },
         {
          "emb": [
           0.6554827690124512,
           1.454696536064148,
           1.0437912940979004,
           -0.020581627264618874,
           -2.5582082271575928,
           -0.3673025965690613,
           0.6319267749786377,
           0.9233678579330444,
           -1.10483717918396,
           0.6056365966796875
          ],
          "id": 99,
          "words": "fatal",
          "x": 1.5911684036254883,
          "y": 0.510141134262085
         },
         {
          "emb": [
           0.2136380672454834,
           -0.5472414493560791,
           -0.5436797738075256,
           -0.4582763910293579,
           -0.020656192675232887,
           2.5965847969055176,
           -0.5769979953765869,
           1.223441243171692,
           0.6471405625343323,
           -0.09113210439682007
          ],
          "id": 100,
          "words": "países",
          "x": 0.4525000751018524,
          "y": -0.2880956828594208
         },
         {
          "emb": [
           0.01672402396798134,
           0.1703440248966217,
           -0.23853784799575806,
           1.5734577178955078,
           -0.6010119915008545,
           0.33028915524482727,
           0.02575831301510334,
           -0.34721288084983826,
           0.501183271408081,
           -0.633482038974762
          ],
          "id": 101,
          "words": "durante",
          "x": 0.22719335556030273,
          "y": 0.7443141937255859
         },
         {
          "emb": [
           0.3601326048374176,
           0.5903995633125305,
           0.790938138961792,
           -0.024774789810180664,
           -0.5759889483451843,
           0.6279696822166443,
           -1.607205867767334,
           -0.30612850189208984,
           -0.6725628972053528,
           0.14863979816436768
          ],
          "id": 102,
          "words": "socialmente",
          "x": 0.8401860594749451,
          "y": -0.1454913467168808
         },
         {
          "emb": [
           -1.7270355224609375,
           0.07453272491693497,
           0.8149256110191345,
           0.9182912707328796,
           -1.1046223640441895,
           -1.455635905265808,
           0.5630643963813782,
           -1.4203875064849854,
           -0.1344521939754486,
           -1.2005069255828857
          ],
          "id": 103,
          "words": "comerciantes",
          "x": -0.45234519243240356,
          "y": 1.5750943422317505
         },
         {
          "emb": [
           -1.2439329624176025,
           0.983991801738739,
           1.051575779914856,
           -1.4734370708465576,
           -0.46869999170303345,
           0.5609415769577026,
           0.30530884861946106,
           1.4487565755844116,
           1.6059423685073853,
           0.04753255471587181
          ],
          "id": 104,
          "words": "computing",
          "x": 0.3448995053768158,
          "y": 0.5188966989517212
         },
         {
          "emb": [
           -1.1346405744552612,
           0.8261958360671997,
           -0.6609455347061157,
           0.8308027982711792,
           1.0694003105163574,
           -0.9830909967422485,
           -1.0365922451019287,
           -1.5568767786026,
           -1.7083039283752441,
           1.7073732614517212
          ],
          "id": 105,
          "words": "comprovados",
          "x": -1.4750933647155762,
          "y": -1.0278918743133545
         },
         {
          "emb": [
           -1.0067811012268066,
           -1.4234817028045654,
           1.4160550832748413,
           0.0831843763589859,
           -0.4283704459667206,
           -1.1219024658203125,
           0.24005287885665894,
           -0.26565778255462646,
           0.38230544328689575,
           -0.4805818498134613
          ],
          "id": 106,
          "words": "disponíveis",
          "x": -0.13812391459941864,
          "y": 1.0315041542053223
         },
         {
          "emb": [
           0.8554182052612305,
           -0.8868465423583984,
           -0.4133335053920746,
           -0.6291472315788269,
           -0.9470944404602051,
           0.2648676931858063,
           -0.8605355024337769,
           -1.4114881753921509,
           -0.2084587961435318,
           -1.0609065294265747
          ],
          "id": 107,
          "words": "inteligência",
          "x": 0.007663586176931858,
          "y": -0.3247792720794678
         },
         {
          "emb": [
           -0.5247799754142761,
           -1.1925536394119263,
           1.278073787689209,
           -0.8239792585372925,
           -0.278511643409729,
           1.7667568922042847,
           -1.0947693586349487,
           -0.39291226863861084,
           -0.40894392132759094,
           0.3015325963497162
          ],
          "id": 108,
          "words": "juventude",
          "x": 0.7136761546134949,
          "y": -0.659970223903656
         },
         {
          "emb": [
           -0.6504440903663635,
           0.2783889174461365,
           -1.798727035522461,
           2.473008632659912,
           0.08070296049118042,
           0.277878075838089,
           -1.1474465131759644,
           0.6036571264266968,
           -0.6426641941070557,
           0.44565221667289734
          ],
          "id": 109,
          "words": "morten",
          "x": -1.3160396814346313,
          "y": 0.859853208065033
         },
         {
          "emb": [
           -0.08925162255764008,
           -1.089002013206482,
           0.7106277942657471,
           -0.9636719226837158,
           0.6378496289253235,
           0.5130711197853088,
           2.29048752784729,
           -0.6035118103027344,
           1.4899393320083618,
           -0.1115494892001152
          ],
          "id": 110,
          "words": "real",
          "x": 0.608352541923523,
          "y": -0.8833162188529968
         },
         {
          "emb": [
           1.4311177730560303,
           0.021832751110196114,
           -0.4984954297542572,
           -0.6314796209335327,
           0.6428208947181702,
           0.07313847541809082,
           1.5919499397277832,
           -0.0018991852412000299,
           2.0474231243133545,
           -0.7531647086143494
          ],
          "id": 111,
          "words": "negação",
          "x": 0.5909117460250854,
          "y": -0.4991826117038727
         },
         {
          "emb": [
           -0.8829563856124878,
           -0.718201756477356,
           -0.005890906322747469,
           -0.3010035455226898,
           0.6268662810325623,
           -0.47246110439300537,
           0.6547073125839233,
           0.35412365198135376,
           0.09949342161417007,
           -0.5139327645301819
          ],
          "id": 112,
          "words": "longford",
          "x": -0.554216742515564,
          "y": 0.6929242610931396
         },
         {
          "emb": [
           1.2968493700027466,
           0.511820912361145,
           -0.43494904041290283,
           -0.038455646485090256,
           -0.6083648204803467,
           0.5926350355148315,
           -1.1292152404785156,
           -0.6003260612487793,
           -0.07961151003837585,
           0.8603470921516418
          ],
          "id": 113,
          "words": "responsável",
          "x": 0.3641274571418762,
          "y": -1.25983464717865
         },
         {
          "emb": [
           0.2608901560306549,
           -1.5756713151931763,
           -1.9389046430587769,
           0.20579683780670166,
           -0.09635243564844131,
           -1.0902992486953735,
           -0.5615664720535278,
           0.7835036516189575,
           -0.22218695282936096,
           1.4908584356307983
          ],
          "id": 114,
          "words": "criptoanálise",
          "x": -2.1007444858551025,
          "y": -0.49371758103370667
         },
         {
          "emb": [
           -0.2453063279390335,
           0.6907557249069214,
           0.6810305118560791,
           0.7380934357643127,
           -0.951808750629425,
           1.293612003326416,
           -1.7677204608917236,
           -0.5136550068855286,
           0.4229665994644165,
           -1.3250796794891357
          ],
          "id": 115,
          "words": "escreveu",
          "x": 0.8265271782875061,
          "y": 0.9724295735359192
         },
         {
          "emb": [
           -0.8578285574913025,
           0.6361445784568787,
           0.43005040287971497,
           0.49831587076187134,
           -0.3746788203716278,
           0.9159149527549744,
           -0.25838854908943176,
           -1.4273724555969238,
           0.7842856049537659,
           0.06284748017787933
          ],
          "id": 116,
          "words": "code",
          "x": 0.16352930665016174,
          "y": -0.4477987289428711
         },
         {
          "emb": [
           -0.3246603012084961,
           -0.7136980295181274,
           0.08773906528949738,
           1.477508544921875,
           -0.26086288690567017,
           -0.858476459980011,
           -0.3128957152366638,
           0.3310316801071167,
           -0.8495113253593445,
           -1.3662617206573486
          ],
          "id": 117,
          "words": "mathematics",
          "x": -0.10703057795763016,
          "y": 2.049955129623413
         },
         {
          "emb": [
           0.45491141080856323,
           0.10166940838098526,
           1.7379655838012695,
           0.29439717531204224,
           -0.8540268540382385,
           -0.21198983490467072,
           0.5007752776145935,
           0.9049519896507263,
           0.14818964898586273,
           2.286374807357788
          ],
          "id": 118,
          "words": "poder",
          "x": 1.26034414768219,
          "y": -0.7406787276268005
         },
         {
          "emb": [
           0.012456066906452179,
           -0.30088120698928833,
           -0.6098635792732239,
           -1.3622043132781982,
           0.8836974501609802,
           -1.3145487308502197,
           0.826225996017456,
           0.24257224798202515,
           1.5414444208145142,
           0.09526558965444565
          ],
          "id": 119,
          "words": "dados",
          "x": -1.071654200553894,
          "y": -0.37079867720603943
         },
         {
          "emb": [
           0.280184268951416,
           -0.3421214818954468,
           1.0832992792129517,
           3.1181912422180176,
           1.102989673614502,
           0.3817344605922699,
           -0.2328847497701645,
           -0.07722429186105728,
           -0.25583234429359436,
           -0.3487586975097656
          ],
          "id": 120,
          "words": "buscado",
          "x": 1.2760179042816162,
          "y": 1.1050297021865845
         },
         {
          "emb": [
           -0.7629601955413818,
           0.7729983329772949,
           -0.49489253759384155,
           -0.4635533392429352,
           0.23022696375846863,
           0.4174768030643463,
           -0.9658080339431763,
           1.1201622486114502,
           0.21961688995361328,
           0.16958114504814148
          ],
          "id": 121,
          "words": "guerra",
          "x": -0.6097058057785034,
          "y": 0.3988153636455536
         },
         {
          "emb": [
           1.1357080936431885,
           2.080535411834717,
           -0.014219884760677814,
           1.9946343898773193,
           -0.9233283400535583,
           0.8299300074577332,
           -0.2411169856786728,
           0.46435385942459106,
           -0.31943124532699585,
           0.40957072377204895
          ],
          "id": 122,
          "words": "declarado",
          "x": 1.531617283821106,
          "y": 0.2896888554096222
         },
         {
          "emb": [
           -1.5807311534881592,
           1.7995781898498535,
           -1.6789792776107788,
           -1.0090023279190063,
           1.8928956985473633,
           -0.9822548627853394,
           -1.7077138423919678,
           -0.5502945184707642,
           0.3331066071987152,
           1.5968822240829468
          ],
          "id": 123,
          "words": "homossexual",
          "x": -2.7165029048919678,
          "y": -1.2586824893951416
         },
         {
          "emb": [
           -0.34827184677124023,
           -0.6736871600151062,
           0.7344446182250977,
           0.0075192865915596485,
           0.3500713109970093,
           0.12336166948080063,
           -0.1447192281484604,
           -0.2883279621601105,
           -0.8829057216644287,
           -0.5653434991836548
          ],
          "id": 124,
          "words": "decisivo",
          "x": 0.4107840061187744,
          "y": 0.4549650251865387
         },
         {
          "emb": [
           -1.0863919258117676,
           -0.8001461625099182,
           0.560318112373352,
           1.1580564975738525,
           1.068481683731079,
           1.9142502546310425,
           1.8642196655273438,
           -1.344764232635498,
           -0.6239192485809326,
           0.16229401528835297
          ],
          "id": 125,
          "words": "determinar",
          "x": 0.8361831903457642,
          "y": -0.7138673067092896
         },
         {
          "emb": [
           1.3855907917022705,
           -0.4501427710056305,
           -0.6337024569511414,
           0.03712210804224014,
           -0.6812167167663574,
           1.8204859495162964,
           0.08671823143959045,
           -0.27747681736946106,
           -0.8361336588859558,
           1.8181406259536743
          ],
          "id": 126,
          "words": "enquanto",
          "x": 0.7605515718460083,
          "y": -2.1411807537078857
         },
         {
          "emb": [
           -0.7649942636489868,
           0.6527040004730225,
           -0.9458544254302979,
           -2.3646671772003174,
           0.3328711688518524,
           -0.39978861808776855,
           -1.2847793102264404,
           0.3652333915233612,
           0.4438264071941376,
           -0.8876369595527649
          ],
          "id": 127,
          "words": "informação",
          "x": -1.3988676071166992,
          "y": 0.26475754380226135
         },
         {
          "emb": [
           1.2625343799591064,
           1.6224346160888672,
           2.1772382259368896,
           -0.11944182217121124,
           0.21562394499778748,
           0.5883405804634094,
           -1.0849740505218506,
           -0.00806809589266777,
           0.2667100131511688,
           -0.5897842645645142
          ],
          "id": 128,
          "words": "levou",
          "x": 2.5344693660736084,
          "y": 0.19539697468280792
         },
         {
          "emb": [
           -1.9835551977157593,
           -0.64463871717453,
           -1.7493064403533936,
           0.89164799451828,
           -1.2159180641174316,
           -1.261565089225769,
           -0.27419131994247437,
           0.9116738438606262,
           -2.126964807510376,
           -2.325810194015503
          ],
          "id": 129,
          "words": "decodificação",
          "x": -2.010354518890381,
          "y": 3.352670669555664
         },
         {
          "emb": [
           1.8334777355194092,
           -1.2811758518218994,
           -0.21158738434314728,
           -1.92843759059906,
           0.5946995615959167,
           -0.7258583307266235,
           -2.4993746280670166,
           0.35798266530036926,
           -0.6601812243461609,
           -1.6892573833465576
          ],
          "id": 130,
          "words": "organismo",
          "x": -0.04587798938155174,
          "y": 0.46712642908096313
         },
         {
          "emb": [
           -2.126241683959961,
           -0.6305887699127197,
           0.5134448409080505,
           -0.21766412258148193,
           1.3397411108016968,
           1.057839035987854,
           -0.9614192843437195,
           2.681058168411255,
           -0.24905849993228912,
           1.636509895324707
          ],
          "id": 131,
          "words": "andrew",
          "x": -0.7695021629333496,
          "y": 0.4699835479259491
         },
         {
          "emb": [
           0.7223657369613647,
           0.01150168664753437,
           -1.547967553138733,
           0.08933468908071518,
           0.3599434494972229,
           0.3078620731830597,
           1.2225444316864014,
           0.20847775042057037,
           1.1677749156951904,
           1.0906955003738403
          ],
          "id": 132,
          "words": "memorial",
          "x": -0.5580217242240906,
          "y": -1.2632761001586914
         },
         {
          "emb": [
           1.2866957187652588,
           -0.7996904850006104,
           -0.4314504861831665,
           -0.37290117144584656,
           0.19563773274421692,
           -1.2581173181533813,
           -2.0894381999969482,
           -0.2709106504917145,
           -0.8762757778167725,
           -0.14815527200698853
          ],
          "id": 133,
          "words": "desenvolvimento",
          "x": -0.5680445432662964,
          "y": -0.03854312375187874
         },
         {
          "emb": [
           -1.6674485206604004,
           -1.73202645778656,
           0.9178670644760132,
           -0.7428547739982605,
           0.2486509531736374,
           0.30071625113487244,
           0.04803535342216492,
           -1.734464406967163,
           -0.4881761372089386,
           0.29097408056259155
          ],
          "id": 134,
          "words": "férias",
          "x": -0.598673939704895,
          "y": -0.754736065864563
         },
         {
          "emb": [
           0.7418063282966614,
           0.12791708111763,
           -0.9442104697227478,
           1.1867520809173584,
           0.6378613114356995,
           -0.7933600544929504,
           0.9453762769699097,
           0.9984622001647949,
           -0.533765435218811,
           -0.7543851733207703
          ],
          "id": 135,
          "words": "ethel",
          "x": 0.06833663582801819,
          "y": 1.1874955892562866
         },
         {
          "emb": [
           -1.804629921913147,
           -1.402231216430664,
           -0.02319282479584217,
           1.4510843753814697,
           0.2956046462059021,
           0.0035286634229123592,
           -0.6404390931129456,
           0.30721181631088257,
           -1.8234658241271973,
           -0.43770208954811096
          ],
          "id": 136,
          "words": "incluindo",
          "x": -0.8847053647041321,
          "y": 1.5939159393310547
         },
         {
          "emb": [
           -0.4721265435218811,
           -0.24718765914440155,
           -0.530558705329895,
           -0.6133319735527039,
           0.847553014755249,
           0.48040273785591125,
           -2.750518560409546,
           -1.2412745952606201,
           0.1352822184562683,
           -2.737825870513916
          ],
          "id": 137,
          "words": "carreira",
          "x": -0.7874183654785156,
          "y": 1.0809950828552246
         },
         {
          "emb": [
           0.3653310239315033,
           0.9829702973365784,
           -0.5538555383682251,
           1.085075855255127,
           -0.3538160026073456,
           -1.8968640565872192,
           0.3541352450847626,
           -0.034426379948854446,
           -0.9888944029808044,
           1.2968106269836426
          ],
          "id": 138,
          "words": "britânico",
          "x": -0.4975140690803528,
          "y": -0.05472432076931
         },
         {
          "emb": [
           0.22053731977939606,
           -0.5591051578521729,
           -0.2715686559677124,
           2.3019886016845703,
           -0.5891655683517456,
           -0.8827661871910095,
           -0.1725875288248062,
           -1.0988037586212158,
           -1.15518319606781,
           1.2542496919631958
          ],
          "id": 139,
          "words": "defende",
          "x": -0.3706425726413727,
          "y": -0.27465635538101196
         },
         {
          "emb": [
           1.0255377292633057,
           -1.0943255424499512,
           1.7177553176879883,
           -0.7637616395950317,
           0.16217710077762604,
           0.5353807210922241,
           0.9759320020675659,
           -0.992561936378479,
           -0.17874003946781158,
           -0.7356905341148376
          ],
          "id": 140,
          "words": "turing",
          "x": 1.9137758016586304,
          "y": -0.5220693349838257
         },
         {
          "emb": [
           -0.5315165519714355,
           2.1399142742156982,
           0.7956053614616394,
           0.9068379402160645,
           -0.5554367303848267,
           -0.5884110331535339,
           1.3145707845687866,
           -1.805797815322876,
           1.3763355016708374,
           0.25493454933166504
          ],
          "id": 141,
          "words": "burnett",
          "x": 0.6035922169685364,
          "y": -0.3775075674057007
         },
         {
          "emb": [
           -0.36704254150390625,
           -0.09801333397626877,
           1.0227214097976685,
           -0.4633390009403229,
           -0.45919400453567505,
           -0.9891864657402039,
           1.0939842462539673,
           -0.1262357234954834,
           1.9416775703430176,
           -1.51096773147583
          ],
          "id": 142,
          "words": "interessou",
          "x": 0.34624260663986206,
          "y": 1.1968028545379639
         },
         {
          "emb": [
           3.1721415519714355,
           0.43555012345314026,
           0.12536273896694183,
           -0.37535062432289124,
           0.5153207182884216,
           2.339599370956421,
           1.2303212881088257,
           -1.6035985946655273,
           -1.0318167209625244,
           1.0487771034240723
          ],
          "id": 143,
          "words": "teoremas",
          "x": 2.8025498390197754,
          "y": -3.190189838409424
         },
         {
          "emb": [
           0.3000200092792511,
           1.608303189277649,
           0.7187049388885498,
           -0.871060311794281,
           -1.1201207637786865,
           -0.2941097319126129,
           0.9177831411361694,
           1.8016948699951172,
           -3.1451034545898438,
           0.7736138105392456
          ],
          "id": 144,
          "words": "equivalia",
          "x": 1.4797207117080688,
          "y": 0.5058940649032593
         },
         {
          "emb": [
           1.105286955833435,
           1.4659466743469238,
           1.2141622304916382,
           -0.4366315007209778,
           0.14668534696102142,
           0.5116481781005859,
           -0.3216043710708618,
           0.7405946850776672,
           -0.6846982836723328,
           0.7289138436317444
          ],
          "id": 145,
          "words": "níveis",
          "x": 1.8484452962875366,
          "y": -0.471495121717453
         },
         {
          "emb": [
           0.6619122624397278,
           -1.1298900842666626,
           0.620906412601471,
           0.5517841577529907,
           0.25826722383499146,
           0.22457171976566315,
           -0.3642577528953552,
           2.3361659049987793,
           1.6635862588882446,
           -0.9605314135551453
          ],
          "id": 146,
          "words": "sir",
          "x": 0.6902520060539246,
          "y": 1.699852466583252
         },
         {
          "emb": [
           1.2622129917144775,
           -0.003983981907367706,
           -0.7281585335731506,
           0.28610628843307495,
           1.661007285118103,
           -0.6439372301101685,
           -0.09939619898796082,
           0.31259965896606445,
           0.7753737568855286,
           0.5394589304924011
          ],
          "id": 147,
          "words": "operavam",
          "x": -0.234916090965271,
          "y": -0.631317675113678
         },
         {
          "emb": [
           -1.4203283786773682,
           0.2527962028980255,
           -0.15993863344192505,
           -1.6428816318511963,
           0.3352489769458771,
           -0.12532788515090942,
           0.5932436585426331,
           -0.385891854763031,
           0.5334426760673523,
           -1.2767069339752197
          ],
          "id": 148,
          "words": "history",
          "x": -0.7213658094406128,
          "y": 0.4709538221359253
         },
         {
          "emb": [
           1.8854807615280151,
           0.29297807812690735,
           0.9544404149055481,
           0.24073562026023865,
           1.7193809747695923,
           -0.7275418639183044,
           0.5176138877868652,
           0.24319618940353394,
           0.8290676474571228,
           -0.5067426562309265
          ],
          "id": 149,
          "words": "importante",
          "x": 1.5322215557098389,
          "y": 0.025391990318894386
         },
         {
          "emb": [
           -0.13338854908943176,
           -1.1598504781723022,
           0.2904340922832489,
           -0.33664417266845703,
           -0.49259132146835327,
           -1.0445998907089233,
           -0.2805113196372986,
           -1.2569591999053955,
           -0.29888153076171875,
           -0.46952036023139954
          ],
          "id": 150,
          "words": "respostas",
          "x": -0.4874591827392578,
          "y": 0.07789506018161774
         },
         {
          "emb": [
           -0.0026462520472705364,
           0.22859211266040802,
           0.26725637912750244,
           -0.358264297246933,
           -1.4966199398040771,
           -0.2715100646018982,
           -0.2843071520328522,
           0.9053090810775757,
           0.5410963296890259,
           0.2328532636165619
          ],
          "id": 151,
          "words": "operador",
          "x": 0.08123617619276047,
          "y": 0.5041121244430542
         },
         {
          "emb": [
           -1.1763139963150024,
           -1.0919545888900757,
           -0.8072267770767212,
           -1.2884337902069092,
           -0.20426800847053528,
           1.1936440467834473,
           -0.277831494808197,
           2.8324060440063477,
           0.31730595231056213,
           -0.6396344900131226
          ],
          "id": 152,
          "words": "cs",
          "x": -0.8480134010314941,
          "y": 1.3543349504470825
         },
         {
          "emb": [
           0.9185910224914551,
           0.24567995965480804,
           1.1388978958129883,
           -0.3973691165447235,
           -2.493818521499634,
           0.7204573750495911,
           -2.8787617683410645,
           -1.0017845630645752,
           -2.568728446960449,
           0.012613899074494839
          ],
          "id": 153,
          "words": "especializado",
          "x": 1.3041404485702515,
          "y": -0.1891653686761856
         },
         {
          "emb": [
           -0.8251543641090393,
           1.6569193601608276,
           0.09506173431873322,
           -0.16284719109535217,
           0.5253369808197021,
           -2.334686040878296,
           0.7897543907165527,
           -1.1160897016525269,
           -0.19998304545879364,
           -0.23459340631961823
          ],
          "id": 154,
          "words": "inglês",
          "x": -0.6770637631416321,
          "y": 0.38519707322120667
         },
         {
          "emb": [
           -1.214483618736267,
           0.008250216022133827,
           -0.6863960027694702,
           0.3439219295978546,
           1.2611141204833984,
           0.07056351751089096,
           0.12790821492671967,
           0.7560012936592102,
           -0.18149101734161377,
           -0.1318303942680359
          ],
          "id": 155,
          "words": "imitation",
          "x": -0.9076554775238037,
          "y": 0.6904770731925964
         },
         {
          "emb": [
           0.23224017024040222,
           -1.2233437299728394,
           -0.5435081720352173,
           -0.08478745818138123,
           0.06313972175121307,
           0.5045083165168762,
           -0.29580894112586975,
           1.8725841045379639,
           1.0412448644638062,
           0.510966420173645
          ],
          "id": 156,
          "words": "malvada",
          "x": -0.4454990029335022,
          "y": 0.23741650581359863
         },
         {
          "emb": [
           1.115882396697998,
           0.19172589480876923,
           -0.013603328727185726,
           1.5432714223861694,
           0.19995632767677307,
           -0.6191230416297913,
           -0.6942061185836792,
           1.6913307905197144,
           1.3437422513961792,
           -0.6926801204681396
          ],
          "id": 157,
          "words": "algumas",
          "x": 0.45205292105674744,
          "y": 1.6186355352401733
         },
         {
          "emb": [
           -0.357282429933548,
           0.17471100389957428,
           -0.8657125234603882,
           0.7818053960800171,
           -0.9043226838111877,
           -1.0469768047332764,
           -0.39512377977371216,
           0.07302533090114594,
           -0.42129752039909363,
           -1.2006258964538574
          ],
          "id": 158,
          "words": "retratada",
          "x": -0.8093410730361938,
          "y": 1.5978068113327026
         },
         {
          "emb": [
           -0.320854127407074,
           -0.42751795053482056,
           0.4944797158241272,
           -0.4900348484516144,
           1.3186924457550049,
           0.3726319372653961,
           0.19767433404922485,
           -1.778324842453003,
           1.0522509813308716,
           -0.20037846267223358
          ],
          "id": 159,
          "words": "humilhante",
          "x": 0.0030113374814391136,
          "y": -1.0667359828948975
         },
         {
          "emb": [
           1.3952587842941284,
           0.6334199905395508,
           -0.44540292024612427,
           -0.26728954911231995,
           0.44200944900512695,
           -0.047599270939826965,
           -0.7983621954917908,
           -1.6173691749572754,
           0.9760177731513977,
           -0.062481947243213654
          ],
          "id": 160,
          "words": "casal",
          "x": 0.15815556049346924,
          "y": -1.3037095069885254
         },
         {
          "emb": [
           -1.0400716066360474,
           1.0950652360916138,
           0.6179319620132446,
           -0.28698989748954773,
           1.417314887046814,
           -0.5183228254318237,
           -0.11247067153453827,
           -0.7619518041610718,
           -1.2996416091918945,
           0.7203461527824402
          ],
          "id": 161,
          "words": "trazido",
          "x": -0.10645011067390442,
          "y": -0.4752064347267151
         },
         {
          "emb": [
           0.6541731357574463,
           2.495429754257202,
           1.313307285308838,
           0.09786833822727203,
           0.8379240036010742,
           0.04978955164551735,
           0.8067623972892761,
           -0.04713695868849754,
           0.9649583101272583,
           -0.16517750918865204
          ],
          "id": 162,
          "words": "político",
          "x": 1.8717252016067505,
          "y": -0.07858086377382278
         },
         {
          "emb": [
           1.4324743747711182,
           -0.02619314007461071,
           0.7282846570014954,
           1.6496074199676514,
           0.32719364762306213,
           -0.08982496708631516,
           1.553145170211792,
           0.3867078423500061,
           1.466111183166504,
           -0.16512660682201385
          ],
          "id": 163,
          "words": "breaking",
          "x": 1.5756851434707642,
          "y": 0.33491915464401245
         },
         {
          "emb": [
           1.9775292873382568,
           -0.39526820182800293,
           -1.1887967586517334,
           -1.382002592086792,
           -0.5647197365760803,
           -1.318831205368042,
           1.589919924736023,
           0.7461578845977783,
           -0.4186769127845764,
           -0.631234347820282
          ],
          "id": 164,
          "words": "transatlânticos",
          "x": 0.13327640295028687,
          "y": -0.018521089106798172
         },
         {
          "emb": [
           1.2220053672790527,
           1.2566441297531128,
           -0.6242643594741821,
           0.4455569088459015,
           0.15566383302211761,
           -1.7662421464920044,
           1.613581657409668,
           1.4527443647384644,
           0.18566708266735077,
           -0.6705642342567444
          ],
          "id": 165,
          "words": "ambígua",
          "x": 0.431246280670166,
          "y": 1.253546118736267
         },
         {
          "emb": [
           -0.5625506639480591,
           -0.8477545976638794,
           1.1430171728134155,
           -0.36823734641075134,
           1.743916392326355,
           -0.1517956554889679,
           1.7012593746185303,
           0.23715740442276,
           0.12587732076644897,
           -0.6662801504135132
          ],
          "id": 166,
          "words": "eletromecânica",
          "x": 0.6744163632392883,
          "y": 0.4525410234928131
         },
         {
          "emb": [
           0.7267490029335022,
           1.4972258806228638,
           -0.6302669048309326,
           -0.1382312923669815,
           0.11621253192424774,
           1.3939944505691528,
           -0.9469173550605774,
           -1.1231704950332642,
           0.2720600664615631,
           0.8468279838562012
          ],
          "id": 167,
          "words": "boa",
          "x": 0.36493605375289917,
          "y": -1.7339719533920288
         },
         {
          "emb": [
           -1.1451358795166016,
           -0.7838314175605774,
           -0.8335005640983582,
           -1.1533299684524536,
           -1.7447772026062012,
           -0.38622838258743286,
           2.5603883266448975,
           -0.03440043330192566,
           -0.21834440529346466,
           0.1662147045135498
          ],
          "id": 168,
          "words": "ferro",
          "x": -0.9144172668457031,
          "y": -0.08248275518417358
         },
         {
          "emb": [
           -0.6487253904342651,
           -0.7216398119926453,
           -0.928396999835968,
           -2.1044435501098633,
           0.575506865978241,
           -0.6434104442596436,
           0.04355967417359352,
           -0.7421420216560364,
           -0.2020041048526764,
           -0.47059166431427
          ],
          "id": 169,
          "words": "indiciam",
          "x": -1.4493619203567505,
          "y": -0.5385255217552185
         },
         {
          "emb": [
           -0.15949341654777527,
           1.7300106287002563,
           0.4630967676639557,
           -0.8076528906822205,
           -0.784153938293457,
           1.6878784894943237,
           0.6201761960983276,
           -0.31052058935165405,
           0.33261430263519287,
           0.6748604774475098
          ],
          "id": 170,
          "words": "prerrogativa",
          "x": 1.1727484464645386,
          "y": -1.1176214218139648
         },
         {
          "emb": [
           -0.3693062961101532,
           -0.43234124779701233,
           -2.1098997592926025,
           1.9507744312286377,
           2.7673494815826416,
           0.6626643538475037,
           -0.43231746554374695,
           1.0906182527542114,
           0.492245614528656,
           -1.1497061252593994
          ],
          "id": 171,
          "words": "governo",
          "x": -1.2486116886138916,
          "y": 1.271453857421875
         },
         {
          "emb": [
           -1.052223563194275,
           -0.6305847764015198,
           -1.001272439956665,
           0.20416735112667084,
           1.250388741493225,
           1.084429383277893,
           0.3187219798564911,
           -1.2860891819000244,
           -1.4631091356277466,
           0.5056248903274536
          ],
          "id": 172,
          "words": "londres",
          "x": -0.8307159543037415,
          "y": -1.075109601020813
         },
         {
          "emb": [
           -2.2655019760131836,
           -0.10059820115566254,
           -0.48826879262924194,
           0.11005896329879761,
           0.49065926671028137,
           1.534223198890686,
           -0.986785888671875,
           -0.3007114827632904,
           -1.8583751916885376,
           -0.9938678741455078
          ],
          "id": 173,
          "words": "previu",
          "x": -0.7640021443367004,
          "y": 0.9080769419670105
         },
         {
          "emb": [
           -0.7889441251754761,
           0.38903409242630005,
           -1.35548734664917,
           0.4124889671802521,
           1.668701171875,
           0.5695909857749939,
           -1.790566086769104,
           -0.38072091341018677,
           0.9121739864349365,
           -0.4052450358867645
          ],
          "id": 174,
          "words": "dotado",
          "x": -1.46950101852417,
          "y": 0.015246796421706676
         },
         {
          "emb": [
           -1.5927886962890625,
           -1.5519745349884033,
           -1.5597865581512451,
           0.6596843600273132,
           -0.3375614583492279,
           0.8808766603469849,
           -0.6036880612373352,
           -0.8236026763916016,
           -0.6073386669158936,
           2.3970963954925537
          ],
          "id": 175,
          "words": "preso",
          "x": -2.2302584648132324,
          "y": -1.614945411682129
         },
         {
          "emb": [
           0.7054580450057983,
           -0.4484546184539795,
           0.4254240095615387,
           0.4227626323699951,
           0.5674668550491333,
           0.128310889005661,
           -0.213352769613266,
           -0.14089630544185638,
           0.10189655423164368,
           1.03009033203125
          ],
          "id": 176,
          "words": "ver",
          "x": 0.45279833674430847,
          "y": -0.8405469059944153
         },
         {
          "emb": [
           -0.1811584085226059,
           0.06004637852311134,
           -0.404455304145813,
           1.7692575454711914,
           -0.6488868594169617,
           0.9633506536483765,
           -1.4179627895355225,
           0.7310458421707153,
           -0.745865523815155,
           0.08964814245700836
          ],
          "id": 177,
          "words": "tempo",
          "x": 0.04836473986506462,
          "y": 0.9058632254600525
         },
         {
          "emb": [
           -1.400554895401001,
           -1.1192694902420044,
           -0.0629553571343422,
           1.941114902496338,
           1.740716814994812,
           -0.8257599472999573,
           1.507507085800171,
           -0.7991169095039368,
           0.05558415502309799,
           2.392134428024292
          ],
          "id": 178,
          "words": "delineada",
          "x": -1.2207735776901245,
          "y": -1.0530109405517578
         },
         {
          "emb": [
           0.7201600074768066,
           2.2711424827575684,
           0.045568447560071945,
           -0.36865290999412537,
           0.4868503212928772,
           -0.42002156376838684,
           -0.36370521783828735,
           -1.5923477411270142,
           0.564341127872467,
           -0.4577552080154419
          ],
          "id": 179,
          "words": "centro",
          "x": 0.5488230586051941,
          "y": -0.6894881725311279
         },
         {
          "emb": [
           -0.36383524537086487,
           0.7025408148765564,
           0.7975789904594421,
           -0.8214556574821472,
           -2.0395262241363525,
           -1.1731748580932617,
           -0.45390668511390686,
           -0.7488223910331726,
           1.244321584701538,
           0.26799073815345764
          ],
          "id": 180,
          "words": "salientando",
          "x": -0.23235490918159485,
          "y": -0.019523240625858307
         },
         {
          "emb": [
           0.27093660831451416,
           -0.23841702938079834,
           0.9886457324028015,
           1.7456327676773071,
           0.22986912727355957,
           0.7392565011978149,
           1.0322822332382202,
           -0.008363834582269192,
           -1.6711128950119019,
           -1.9363652467727661
          ],
          "id": 181,
          "words": "jon",
          "x": 1.9578443765640259,
          "y": 1.7664551734924316
         },
         {
          "emb": [
           -0.5239289402961731,
           0.48397135734558105,
           0.7500221133232117,
           -1.3531752824783325,
           0.9126490950584412,
           1.2464258670806885,
           -0.3688065707683563,
           1.247818946838379,
           0.026141280308365822,
           -1.6945298910140991
          ],
          "id": 182,
          "words": "algoritmo",
          "x": 0.9346714019775391,
          "y": 1.1573957204818726
         },
         {
          "emb": [
           0.29562708735466003,
           -1.0657063722610474,
           0.3121868073940277,
           -0.5478326678276062,
           0.12930113077163696,
           -0.9612369537353516,
           1.1150556802749634,
           -1.1009831428527832,
           -0.09175094962120056,
           -1.3980172872543335
          ],
          "id": 183,
          "words": "programada",
          "x": 0.18127861618995667,
          "y": 0.36667126417160034
         },
         {
          "emb": [
           -0.8453785181045532,
           -0.9561939835548401,
           0.23571933805942535,
           -0.837417721748352,
           -2.125896453857422,
           -0.28721049427986145,
           0.23815323412418365,
           -1.3702586889266968,
           -1.5811117887496948,
           -0.015294019132852554
          ],
          "id": 184,
          "words": "tornasse",
          "x": -0.3684239983558655,
          "y": -0.1802215725183487
         },
         {
          "emb": [
           2.397679567337036,
           0.01579905115067959,
           -2.964980363845825,
           0.047228194773197174,
           -1.7997759580612183,
           -0.7543402314186096,
           -1.9858238697052002,
           1.2461110353469849,
           -0.015503335744142532,
           1.143020749092102
          ],
          "id": 185,
          "words": "matado",
          "x": -1.448379635810852,
          "y": -0.5890049338340759
         },
         {
          "emb": [
           -0.09352471679449081,
           0.4349478483200073,
           -1.087149739265442,
           0.12282849848270416,
           0.5204201936721802,
           -0.5705958604812622,
           -1.241706371307373,
           0.7106949687004089,
           -0.41276535391807556,
           2.7510504722595215
          ],
          "id": 186,
          "words": "formalização",
          "x": -1.437411904335022,
          "y": -1.327749252319336
         },
         {
          "emb": [
           -1.5496814250946045,
           -0.09162367135286331,
           -2.228355646133423,
           -0.9037855267524719,
           -0.13288220763206482,
           -0.8440361022949219,
           -0.08093386143445969,
           0.9611160755157471,
           0.38278961181640625,
           -0.28381139039993286
          ],
          "id": 187,
          "words": "comida",
          "x": -2.631319284439087,
          "y": 0.7912159562110901
         },
         {
          "emb": [
           1.0996685028076172,
           0.5474072098731995,
           0.7849926352500916,
           -0.41241148114204407,
           -0.2368312031030655,
           0.9514372944831848,
           -1.0726550817489624,
           0.19049611687660217,
           -0.12243989109992981,
           1.1211540699005127
          ],
          "id": 188,
          "words": "encontrou",
          "x": 1.2074456214904785,
          "y": -1.1091943979263306
         },
         {
          "emb": [
           0.31917431950569153,
           1.9274213314056396,
           -1.7458375692367554,
           -0.20297475159168243,
           -2.0652496814727783,
           0.4828869104385376,
           1.1861741542816162,
           -0.8207780122756958,
           0.2169072926044464,
           0.1825856864452362
          ],
          "id": 189,
          "words": "ciência",
          "x": -0.19664224982261658,
          "y": -0.787212610244751
         },
         {
          "emb": [
           -0.38424545526504517,
           1.2117401361465454,
           -2.336897850036621,
           0.829165518283844,
           0.19360199570655823,
           -0.1827145665884018,
           -0.16004794836044312,
           0.7542095184326172,
           1.2528027296066284,
           1.1387966871261597
          ],
          "id": 190,
          "words": "começou",
          "x": -1.7979131937026978,
          "y": -0.2986173927783966
         },
         {
          "emb": [
           -1.6091173887252808,
           0.0512436181306839,
           -0.8765700459480286,
           3.0364997386932373,
           -1.4979289770126343,
           0.03627092018723488,
           -1.5137920379638672,
           1.2658313512802124,
           1.133624792098999,
           -0.40639370679855347
          ],
          "id": 191,
          "words": "pedidos",
          "x": -1.3631887435913086,
          "y": 2.5237209796905518
         },
         {
          "emb": [
           -0.8381766080856323,
           -0.05268998444080353,
           -1.038916826248169,
           0.14719223976135254,
           0.5834742784500122,
           -1.2886674404144287,
           0.06518184393644333,
           -0.5618443489074707,
           0.1384887844324112,
           0.3007761538028717
          ],
          "id": 192,
          "words": "ajudou",
          "x": -1.6535358428955078,
          "y": -0.022826559841632843
         },
         {
          "emb": [
           -0.7179353833198547,
           -1.0073498487472534,
           -0.2591441869735718,
           0.6925992369651794,
           0.3246975243091583,
           0.5609649419784546,
           -0.33306580781936646,
           -0.22017502784729004,
           -0.4955001771450043,
           1.0263627767562866
          ],
          "id": 193,
          "words": "benedict",
          "x": -0.6284310221672058,
          "y": -0.5022797584533691
         },
         {
          "emb": [
           0.882805347442627,
           0.961004912853241,
           1.786880373954773,
           2.708463668823242,
           0.6845710277557373,
           0.673213005065918,
           0.3691847324371338,
           1.1355254650115967,
           -0.5239121913909912,
           -0.5679208636283875
          ],
          "id": 194,
          "words": "belousov",
          "x": 2.690544366836548,
          "y": 1.5914870500564575
         },
         {
          "emb": [
           -1.9519001245498657,
           -0.06659034639596939,
           -1.7748489379882812,
           -2.4172308444976807,
           -0.45436620712280273,
           -0.07044132798910141,
           1.0001227855682373,
           1.9293155670166016,
           0.15820766985416412,
           -0.41616296768188477
          ],
          "id": 195,
          "words": "marian",
          "x": -2.0357415676116943,
          "y": 0.7978474497795105
         },
         {
          "emb": [
           0.9742564558982849,
           1.626665711402893,
           0.7727627754211426,
           -0.9342269897460938,
           0.4910086393356323,
           0.09952482581138611,
           0.6759941577911377,
           0.7789513468742371,
           1.3244218826293945,
           0.9179877042770386
          ],
          "id": 196,
          "words": "ajudaria",
          "x": 1.2355623245239258,
          "y": -0.900151789188385
         },
         {
          "emb": [
           2.467710494995117,
           -0.5793294906616211,
           -1.0693678855895996,
           -0.5404428839683533,
           0.5912154316902161,
           -0.338314950466156,
           -1.51620352268219,
           0.7595980167388916,
           0.2827259600162506,
           1.395059585571289
          ],
          "id": 197,
          "words": "pedirem",
          "x": -0.23599545657634735,
          "y": -1.4678049087524414
         },
         {
          "emb": [
           -1.166146159172058,
           -0.2899801433086395,
           -0.29950183629989624,
           -0.2049601972103119,
           0.5582354068756104,
           1.0387662649154663,
           0.6726999878883362,
           1.3482327461242676,
           -0.2758699059486389,
           2.282392740249634
          ],
          "id": 198,
          "words": "inquérito",
          "x": -0.5592872500419617,
          "y": -0.9910984635353088
         },
         {
          "emb": [
           2.275176525115967,
           -1.1899185180664062,
           -0.7342345714569092,
           0.7906523942947388,
           0.838553249835968,
           -2.1351237297058105,
           -1.207025408744812,
           -0.9040274024009705,
           -0.5220791697502136,
           1.2872544527053833
          ],
          "id": 199,
          "words": "concedida",
          "x": -0.6859695315361023,
          "y": -1.1944392919540405
         },
         {
          "emb": [
           0.03234155848622322,
           0.4794401526451111,
           0.16060273349285126,
           1.5295640230178833,
           0.25531700253486633,
           -0.018468650057911873,
           1.1103037595748901,
           -0.31327468156814575,
           -0.20999978482723236,
           -0.5933222770690918
          ],
          "id": 200,
          "words": "compatíveis",
          "x": 0.7355467677116394,
          "y": 0.7160164713859558
         },
         {
          "emb": [
           2.2337872982025146,
           -0.9597418308258057,
           0.5579240918159485,
           1.6884472370147705,
           -1.292175054550171,
           0.22595268487930298,
           1.1779582500457764,
           -1.550018310546875,
           -0.5505279302597046,
           1.2895605564117432
          ],
          "id": 201,
          "words": "lenta",
          "x": 1.691714882850647,
          "y": -1.5463284254074097
         },
         {
          "emb": [
           0.038472361862659454,
           -0.623599648475647,
           0.9662902355194092,
           -0.09065145999193192,
           -0.836752712726593,
           -0.10265691578388214,
           -0.35441941022872925,
           1.3218601942062378,
           0.09810739010572433,
           -1.2521635293960571
          ],
          "id": 202,
          "words": "norueguês",
          "x": 0.7535430788993835,
          "y": 1.758357048034668
         },
         {
          "emb": [
           -0.5346105098724365,
           0.026164723560214043,
           0.12211089581251144,
           -0.03809874877333641,
           -0.9265806674957275,
           0.43115901947021484,
           -1.2913919687271118,
           1.2418066263198853,
           0.3824578523635864,
           1.403849720954895
          ],
          "id": 203,
          "words": "vez",
          "x": -0.4196729063987732,
          "y": -0.061979975551366806
         },
         {
          "emb": [
           2.205751657485962,
           0.16983875632286072,
           1.2398394346237183,
           -1.7487525939941406,
           0.733892560005188,
           0.6474992036819458,
           -0.07889093458652496,
           -1.4483085870742798,
           -0.6806908845901489,
           -0.43051713705062866
          ],
          "id": 204,
          "words": "ligações",
          "x": 2.164644956588745,
          "y": -1.6632130146026611
         },
         {
          "emb": [
           -0.20645156502723694,
           0.7336475849151611,
           -0.8492490649223328,
           0.6987369060516357,
           -1.0815935134887695,
           -0.0717938095331192,
           -0.16460514068603516,
           2.3043017387390137,
           -0.7661487460136414,
           0.6799284815788269
          ],
          "id": 205,
          "words": "mergulha",
          "x": -0.30387869477272034,
          "y": 1.1286031007766724
         },
         {
          "emb": [
           -0.560479998588562,
           -0.6711063385009766,
           -0.7927075028419495,
           0.6611358523368835,
           -0.4792903959751129,
           0.6354119181632996,
           0.7367355823516846,
           0.001957591390237212,
           -0.7412827610969543,
           0.2010747790336609
          ],
          "id": 206,
          "words": "mudava",
          "x": -0.3903560936450958,
          "y": 0.0698397159576416
         },
         {
          "emb": [
           -0.7480908632278442,
           0.6696093678474426,
           0.08007798343896866,
           0.4139271080493927,
           -0.6971780061721802,
           0.9011111259460449,
           -1.9904632568359375,
           -1.6722509860992432,
           -0.5934634804725647,
           -2.522228956222534
          ],
          "id": 207,
          "words": "poderia",
          "x": 0.1692551225423813,
          "y": 1.3275285959243774
         },
         {
          "emb": [
           -0.7927520275115967,
           -0.105740487575531,
           -1.8072683811187744,
           -0.0887632891535759,
           1.2548415660858154,
           -0.2560155987739563,
           -0.13236701488494873,
           -0.2697368264198303,
           -0.7593370079994202,
           0.4701082706451416
          ],
          "id": 208,
          "words": "tyldum",
          "x": -1.764144778251648,
          "y": -0.4789779484272003
         },
         {
          "emb": [
           -0.6912121772766113,
           0.5043350458145142,
           0.5374770760536194,
           -1.0800451040267944,
           1.0410184860229492,
           -0.4192999303340912,
           0.7524587512016296,
           -0.6588492393493652,
           -1.1957775354385376,
           -1.3560901880264282
          ],
          "id": 209,
          "words": "através",
          "x": 0.3599017858505249,
          "y": 0.5429831147193909
         },
         {
          "emb": [
           -0.6923647522926331,
           1.3632819652557373,
           -0.7148351669311523,
           -0.298259973526001,
           -0.5348079204559326,
           -0.07767172902822495,
           0.12243510782718658,
           0.41554248332977295,
           -0.3435811400413513,
           -1.1463333368301392
          ],
          "id": 210,
          "words": "possível",
          "x": -0.27715563774108887,
          "y": 1.1496121883392334
         },
         {
          "emb": [
           -0.5290732383728027,
           -0.16911987960338593,
           -0.09387335181236267,
           0.2359851896762848,
           -0.10142942517995834,
           -0.02159973606467247,
           -0.25168249011039734,
           0.3852473199367523,
           -0.014104923233389854,
           0.5492702722549438
          ],
          "id": 211,
          "words": "criada",
          "x": -0.4179897904396057,
          "y": 0.11537850648164749
         },
         {
          "emb": [
           0.08705485612154007,
           0.012594840489327908,
           0.23480795323848724,
           -0.7246748208999634,
           0.7888354659080505,
           0.9490918517112732,
           -3.5090646743774414,
           -0.0767643004655838,
           0.055477678775787354,
           -1.837449312210083
          ],
          "id": 212,
          "words": "processo",
          "x": 0.020236490294337273,
          "y": 0.8860850930213928
         },
         {
          "emb": [
           1.1703400611877441,
           -0.2335835099220276,
           -0.3802613615989685,
           1.3935834169387817,
           -1.0056788921356201,
           0.09673701971769333,
           0.28685349225997925,
           -0.17484426498413086,
           -1.6806163787841797,
           0.9439833164215088
          ],
          "id": 213,
          "words": "podiam",
          "x": 0.6690364480018616,
          "y": -0.40806812047958374
         },
         {
          "emb": [
           -0.00476499367505312,
           1.0130726099014282,
           0.20053628087043762,
           0.3012060225009918,
           2.247220754623413,
           -0.36328956484794617,
           -0.9257104396820068,
           -0.9361953139305115,
           0.8592915534973145,
           -2.444448471069336
          ],
          "id": 214,
          "words": "cabeceira",
          "x": 0.2214183658361435,
          "y": 1.168217658996582
         },
         {
          "emb": [
           -0.838622510433197,
           0.40042033791542053,
           1.7883788347244263,
           0.5449404716491699,
           0.5655175447463989,
           0.4668954908847809,
           -1.3273941278457642,
           -0.4118572771549225,
           -0.4218386709690094,
           -0.9425922632217407
          ],
          "id": 215,
          "words": "ceruzzi",
          "x": 0.9995751976966858,
          "y": 1.0500167608261108
         },
         {
          "emb": [
           1.3899425268173218,
           0.02457122690975666,
           1.3022505044937134,
           1.0949723720550537,
           0.3387031555175781,
           1.7076256275177002,
           0.2943801283836365,
           2.3804588317871094,
           -0.4032801389694214,
           -1.0192413330078125
          ],
          "id": 216,
          "words": "consagrou",
          "x": 2.7763895988464355,
          "y": 1.5109940767288208
         },
         {
          "emb": [
           0.11013352870941162,
           -0.7201108336448669,
           -0.23071716725826263,
           0.028754480183124542,
           -0.08396775275468826,
           -0.6970072388648987,
           1.0976215600967407,
           0.527871310710907,
           -1.999624252319336,
           0.8158542513847351
          ],
          "id": 217,
          "words": "castração",
          "x": -0.042450033128261566,
          "y": -0.060881249606609344
         },
         {
          "emb": [
           -0.6499751210212708,
           -0.8504231572151184,
           -0.29101064801216125,
           0.8842474818229675,
           -2.238600492477417,
           2.0591719150543213,
           0.6501834392547607,
           1.2464051246643066,
           0.5065132975578308,
           0.25138211250305176
          ],
          "id": 218,
          "words": "conhecido",
          "x": 0.3418562710285187,
          "y": 0.5851076245307922
         },
         {
          "emb": [
           -1.1686515808105469,
           -0.6296315789222717,
           0.6817895174026489,
           -0.07684814929962158,
           1.0321804285049438,
           1.1820814609527588,
           0.9086201786994934,
           0.4491868317127228,
           0.7066300511360168,
           0.4659547209739685
          ],
          "id": 219,
          "words": "estabeleceu",
          "x": 0.22180627286434174,
          "y": -0.22990374267101288
         },
         {
          "emb": [
           -0.6684845685958862,
           -0.4608525037765503,
           0.4973877966403961,
           1.270315408706665,
           0.46788132190704346,
           -1.875049114227295,
           -0.01652577705681324,
           0.7172828316688538,
           0.11523466557264328,
           1.9882817268371582
          ],
          "id": 220,
          "words": "alemães",
          "x": -0.905099630355835,
          "y": 0.16036787629127502
         },
         {
          "emb": [
           -0.2023795247077942,
           0.317814439535141,
           0.2876495122909546,
           1.2860438823699951,
           1.3600269556045532,
           -0.6901564002037048,
           0.9538394808769226,
           0.32845044136047363,
           -0.14734870195388794,
           1.9039300680160522
          ],
          "id": 221,
          "words": "mundial",
          "x": -0.010008145123720169,
          "y": -0.6101940274238586
         },
         {
          "emb": [
           0.018723100423812866,
           1.087397813796997,
           -1.0249977111816406,
           0.4575287401676178,
           -0.1969349980354309,
           -2.115391492843628,
           -0.911159098148346,
           0.385392963886261,
           0.201161727309227,
           1.8984462022781372
          ],
          "id": 222,
          "words": "série",
          "x": -1.6062172651290894,
          "y": -0.37068384885787964
         },
         {
          "emb": [
           0.028454739600419998,
           -0.06414993107318878,
           2.4602456092834473,
           -0.5401067137718201,
           0.11625568568706512,
           1.710957407951355,
           1.318657636642456,
           -0.3339393138885498,
           -0.7505797743797302,
           -1.4781016111373901
          ],
          "id": 223,
          "words": "causada",
          "x": 2.8642497062683105,
          "y": 0.47390037775039673
         },
         {
          "emb": [
           -1.0193051099777222,
           -0.898813784122467,
           0.6009876132011414,
           -0.231219083070755,
           -0.013452213257551193,
           -2.2767574787139893,
           -0.3285112679004669,
           2.095167398452759,
           0.8245340585708618,
           0.7201210260391235
          ],
          "id": 224,
          "words": "perdão",
          "x": -1.2602629661560059,
          "y": 1.44338858127594
         },
         {
          "emb": [
           -1.429390549659729,
           1.0316046476364136,
           0.9240196347236633,
           -0.028008606284856796,
           -0.6307340860366821,
           -0.008382200263440609,
           0.76047682762146,
           0.6964619159698486,
           0.9752010107040405,
           -1.6236933469772339
          ],
          "id": 225,
          "words": "estados",
          "x": 0.488839328289032,
          "y": 1.977187156677246
         },
         {
          "emb": [
           0.3224950432777405,
           0.5552424788475037,
           -1.100403904914856,
           -0.04349903389811516,
           -0.4620967209339142,
           -1.3403114080429077,
           -2.1790459156036377,
           -0.36573249101638794,
           1.6626189947128296,
           -1.0035481452941895
          ],
          "id": 226,
          "words": "morreu",
          "x": -1.442495346069336,
          "y": 0.7640447616577148
         },
         {
          "emb": [
           -0.5874056220054626,
           -0.25711217522621155,
           0.21558575332164764,
           0.6822937726974487,
           -1.7970457077026367,
           -0.7604454755783081,
           0.45241406559944153,
           0.6559638381004333,
           -0.030536919832229614,
           1.2465269565582275
          ],
          "id": 227,
          "words": "reação",
          "x": -0.36555030941963196,
          "y": 0.3613154888153076
         },
         {
          "emb": [
           -0.5312097072601318,
           0.1330823302268982,
           0.11140137910842896,
           -1.1213791370391846,
           -0.6765456795692444,
           0.8993573784828186,
           -0.18356990814208984,
           -0.21330857276916504,
           1.4450043439865112,
           2.9408457279205322
          ],
          "id": 228,
          "words": "ocorrido",
          "x": -0.562062680721283,
          "y": -2.4729981422424316
         },
         {
          "emb": [
           -0.3740846812725067,
           -0.6826452612876892,
           -0.4317895770072937,
           -0.6387650370597839,
           1.0963413715362549,
           -0.5074310898780823,
           0.29249683022499084,
           -0.2229175567626953,
           -0.08663933724164963,
           -0.16954393684864044
          ],
          "id": 229,
          "words": "conceito",
          "x": -0.7706607580184937,
          "y": -0.14977803826332092
         },
         {
          "emb": [
           1.5049103498458862,
           0.1317261904478073,
           -0.11612245440483093,
           0.50010085105896,
           -0.7292882800102234,
           -0.7599990367889404,
           0.4261871576309204,
           -1.228367567062378,
           1.3364626169204712,
           1.5149586200714111
          ],
          "id": 230,
          "words": "interpretado",
          "x": 0.1838856041431427,
          "y": -1.6767791509628296
         },
         {
          "emb": [
           -0.191047802567482,
           1.0837972164154053,
           -1.6635725498199463,
           0.986924409866333,
           -0.19317704439163208,
           1.2833188772201538,
           -0.3333708941936493,
           -1.2005043029785156,
           -1.5248098373413086,
           0.7705618143081665
          ],
          "id": 231,
          "words": "campanhas",
          "x": -0.45185327529907227,
          "y": -1.0701544284820557
         },
         {
          "emb": [
           -1.4510979652404785,
           0.5682846903800964,
           0.2069387584924698,
           -1.1739387512207031,
           1.5619279146194458,
           -0.006926452741026878,
           -0.7562395930290222,
           0.6206279993057251,
           -0.9664490222930908,
           -0.49588701128959656
          ],
          "id": 232,
          "words": "oscilantes",
          "x": -0.5232213735580444,
          "y": 0.648995041847229
         },
         {
          "emb": [
           -0.3682076036930084,
           1.5103814601898193,
           -1.871766209602356,
           -1.044083833694458,
           0.16897207498550415,
           1.4254000186920166,
           -0.10539308190345764,
           0.5257527828216553,
           0.017463982105255127,
           -0.06533901393413544
          ],
          "id": 233,
          "words": "tendo",
          "x": -0.6616547703742981,
          "y": -0.5158647894859314
         },
         {
          "emb": [
           -0.6775403618812561,
           -2.141766309738159,
           1.5375148057937622,
           -1.1194456815719604,
           1.400673747062683,
           0.17571115493774414,
           -1.5587025880813599,
           -0.4401583969593048,
           -0.31222113966941833,
           -0.26294422149658203
          ],
          "id": 234,
          "words": "queriam",
          "x": -0.07251816242933273,
          "y": -0.11142728477716446
         },
         {
          "emb": [
           -2.293309450149536,
           1.5360312461853027,
           -0.710788369178772,
           2.186816453933716,
           0.7000347971916199,
           0.48835939168930054,
           0.14274412393569946,
           -0.8819805383682251,
           -0.04110437259078026,
           -1.4982359409332275
          ],
          "id": 235,
          "words": "britânica",
          "x": -0.7345901727676392,
          "y": 1.7071243524551392
         },
         {
          "emb": [
           -1.3836991786956787,
           2.5497241020202637,
           -0.6530816555023193,
           -0.6111335754394531,
           -2.255439281463623,
           -0.38842275738716125,
           -1.2847808599472046,
           0.32050904631614685,
           -0.4155501425266266,
           -2.075885057449341
          ],
          "id": 236,
          "words": "passagens",
          "x": -0.5890325307846069,
          "y": 2.270622491836548
         },
         {
          "emb": [
           0.3262901306152344,
           0.13406862318515778,
           -0.560437023639679,
           -0.9382693767547607,
           0.8023503422737122,
           -1.4814153909683228,
           0.19455792009830475,
           -0.7009650468826294,
           0.2122826874256134,
           0.762182891368866
          ],
          "id": 237,
          "words": "baixos",
          "x": -0.9230714440345764,
          "y": -1.0290693044662476
         },
         {
          "emb": [
           -0.5788578987121582,
           -0.5019616484642029,
           1.9091659784317017,
           0.10573341697454453,
           0.4008176922798157,
           0.21657361090183258,
           1.7859386205673218,
           1.7886502742767334,
           -0.408730685710907,
           -1.072540044784546
          ],
          "id": 238,
          "words": "partir",
          "x": 1.7200196981430054,
          "y": 1.8581023216247559
         },
         {
          "emb": [
           0.06354774534702301,
           -0.6239257454872131,
           -0.5900781154632568,
           -0.5267083644866943,
           0.7174819707870483,
           1.0221378803253174,
           1.0040614604949951,
           -0.5722351670265198,
           1.4956132173538208,
           -1.080681324005127
          ],
          "id": 239,
          "words": "frota",
          "x": -0.003966545686125755,
          "y": -0.3309357166290283
         },
         {
          "emb": [
           -0.2666439116001129,
           -0.3740769326686859,
           -0.48673394322395325,
           0.24725626409053802,
           1.018757939338684,
           -0.738529622554779,
           -0.6279832720756531,
           0.46447646617889404,
           -1.5850471258163452,
           -0.026999518275260925
          ],
          "id": 240,
          "words": "corria",
          "x": -0.6681521534919739,
          "y": 0.586302638053894
         },
         {
          "emb": [
           -1.4076834917068481,
           -0.9709523916244507,
           -1.043968677520752,
           -0.663370668888092,
           1.0497511625289917,
           -0.5951734185218811,
           -0.43368130922317505,
           -1.0903855562210083,
           1.361320972442627,
           -1.019115686416626
          ],
          "id": 241,
          "words": "lawther",
          "x": -2.0834524631500244,
          "y": 0.19603818655014038
         },
         {
          "emb": [
           0.016481894999742508,
           -0.30957743525505066,
           -1.8344138860702515,
           0.2896071672439575,
           -0.9139915108680725,
           -0.3175259530544281,
           -0.9430448412895203,
           0.32348233461380005,
           1.8912619352340698,
           -0.6935487389564514
          ],
          "id": 242,
          "words": "tratado",
          "x": -1.635959267616272,
          "y": 0.6706680059432983
         },
         {
          "emb": [
           0.9693077206611633,
           -0.6731430292129517,
           -0.5809597373008728,
           -0.6201719045639038,
           0.9693055748939514,
           1.0791822671890259,
           0.8274893164634705,
           0.1360929310321808,
           1.0012140274047852,
           -1.0773332118988037
          ],
          "id": 243,
          "words": "resultou",
          "x": 0.5342395305633545,
          "y": -0.2864973545074463
         },
         {
          "emb": [
           -2.276577949523926,
           -0.18903309106826782,
           1.283470869064331,
           -1.2880640029907227,
           0.6950151920318604,
           -0.7320711612701416,
           -0.4233893156051636,
           -0.47583845257759094,
           -1.531710147857666,
           -1.075124979019165
          ],
          "id": 244,
          "words": "maçã",
          "x": -0.4602302014827728,
          "y": 1.1580308675765991
         },
         {
          "emb": [
           0.45334145426750183,
           0.4223491847515106,
           -0.1726016104221344,
           -1.0333033800125122,
           0.1507417857646942,
           0.0303088016808033,
           0.9768831133842468,
           0.8641391396522522,
           0.518419086933136,
           -1.454826831817627
          ],
          "id": 245,
          "words": "computer",
          "x": 0.5798521637916565,
          "y": 0.8146011829376221
         },
         {
          "emb": [
           -0.9789424538612366,
           0.5747303366661072,
           0.7755146622657776,
           1.8488285541534424,
           0.48289164900779724,
           1.772661805152893,
           -0.18432483077049255,
           1.9773075580596924,
           -0.286866158246994,
           -1.7394077777862549
          ],
          "id": 246,
          "words": "paul",
          "x": 1.3636009693145752,
          "y": 2.668193817138672
         },
         {
          "emb": [
           -0.32223549485206604,
           -0.29164063930511475,
           -1.081018090248108,
           -1.0723228454589844,
           -1.0017507076263428,
           -0.3007192015647888,
           0.7452420592308044,
           2.276700258255005,
           1.4349985122680664,
           0.4962902367115021
          ],
          "id": 247,
          "words": "obrigando",
          "x": -1.0502190589904785,
          "y": 0.4820503294467926
         },
         {
          "emb": [
           0.43203064799308777,
           -0.9754423499107361,
           -1.618273377418518,
           -2.3981096744537354,
           -0.07668013125658035,
           1.1789872646331787,
           -0.4822379946708679,
           -0.6516587734222412,
           -0.8955767154693604,
           1.289304494857788
          ],
          "id": 248,
          "words": "mordaz",
          "x": -1.0409666299819946,
          "y": -2.4969093799591064
         },
         {
          "emb": [
           0.9198358654975891,
           -0.4776786267757416,
           -0.585407555103302,
           -0.021869326010346413,
           0.3989717364311218,
           1.7737334966659546,
           -1.1240016222000122,
           0.15326057374477386,
           0.07619079947471619,
           1.0412063598632812
          ],
          "id": 249,
          "words": "escoceses",
          "x": 0.25565269589424133,
          "y": -1.395057201385498
         },
         {
          "emb": [
           -0.20972824096679688,
           0.08004279434680939,
           1.0904450416564941,
           -0.034986115992069244,
           0.32281559705734253,
           -1.0892479419708252,
           -1.0268722772598267,
           0.3749927878379822,
           0.24386464059352875,
           1.9502798318862915
          ],
          "id": 250,
          "words": "teste",
          "x": -0.23170240223407745,
          "y": -0.5931413769721985
         },
         {
          "emb": [
           0.42797356843948364,
           -1.2407695055007935,
           -1.177499771118164,
           0.12445667386054993,
           0.8367421627044678,
           1.3316272497177124,
           -0.13487915694713593,
           -1.0821868181228638,
           2.179503917694092,
           0.4575708210468292
          ],
          "id": 251,
          "words": "pudesse",
          "x": -0.7712867856025696,
          "y": -1.648059368133545
         },
         {
          "emb": [
           -0.5346127152442932,
           0.9315524101257324,
           0.7707566618919373,
           -2.490746259689331,
           -1.0128222703933716,
           1.8663225173950195,
           0.7348453402519226,
           -0.20387451350688934,
           -0.41135889291763306,
           2.2362067699432373
          ],
          "id": 252,
          "words": "segura",
          "x": 0.8307720422744751,
          "y": -2.5122270584106445
         },
         {
          "emb": [
           0.28899094462394714,
           0.14044396579265594,
           -0.14391741156578064,
           1.2136290073394775,
           -0.8434065580368042,
           -1.280339002609253,
           0.12114422768354416,
           -0.4678541123867035,
           0.9063490629196167,
           -2.3152503967285156
          ],
          "id": 253,
          "words": "filha",
          "x": 0.031689468771219254,
          "y": 2.0597026348114014
         },
         {
          "emb": [
           -0.6638782620429993,
           -0.5551902651786804,
           -0.735150933265686,
           0.31627416610717773,
           -1.156679630279541,
           -0.22410711646080017,
           -0.05224691703915596,
           0.5484503507614136,
           0.6189591288566589,
           -1.250288724899292
          ],
          "id": 254,
          "words": "uniformes",
          "x": -0.7963765263557434,
          "y": 1.5251405239105225
         },
         {
          "emb": [
           -0.8600773215293884,
           0.21417468786239624,
           -0.42680594325065613,
           -0.033535223454236984,
           -1.9597759246826172,
           -0.9597106575965881,
           1.3541914224624634,
           0.9013758301734924,
           1.3042068481445312,
           1.590151309967041
          ],
          "id": 255,
          "words": "nacional",
          "x": -0.9930033087730408,
          "y": -0.06006648764014244
         },
         {
          "emb": [
           -0.5774961709976196,
           -0.5399038791656494,
           1.0332180261611938,
           -0.27134275436401367,
           0.6463974714279175,
           -0.6646772027015686,
           -0.8856260776519775,
           1.119325876235962,
           -0.816730260848999,
           0.04833998531103134
          ],
          "id": 256,
          "words": "casa",
          "x": 0.030626824125647545,
          "y": 0.962246835231781
         },
         {
          "emb": [
           0.4335097670555115,
           -1.6611517667770386,
           -0.06779869645833969,
           -0.4989061951637268,
           -0.4250306487083435,
           1.4975225925445557,
           -0.25424546003341675,
           -1.385883092880249,
           -1.1032869815826416,
           0.23073704540729523
          ],
          "id": 257,
          "words": "ter",
          "x": 0.3558740019798279,
          "y": -1.3664480447769165
         },
         {
          "emb": [
           -1.5117617845535278,
           0.2898964583873749,
           1.6719377040863037,
           0.8878706693649292,
           2.2805912494659424,
           0.4625817537307739,
           -0.43250271677970886,
           -0.297670841217041,
           -2.0708069801330566,
           -0.300470232963562
          ],
          "id": 258,
          "words": "morto",
          "x": 0.8435164093971252,
          "y": 0.7806584239006042
         },
         {
          "emb": [
           -0.07993538677692413,
           -1.1711889505386353,
           -0.9184781312942505,
           0.04556279256939888,
           -0.6932542324066162,
           -0.03819446265697479,
           -0.8846178650856018,
           -0.242686465382576,
           -1.1117362976074219,
           0.9578829407691956
          ],
          "id": 259,
          "words": "ideia",
          "x": -1.052539348602295,
          "y": -0.5749062299728394
         },
         {
          "emb": [
           -0.6601287722587585,
           1.1979942321777344,
           -1.404623031616211,
           0.028463048860430717,
           -0.48497042059898376,
           1.351218342781067,
           0.8221418857574463,
           0.673896312713623,
           0.6890769600868225,
           0.7754113078117371
          ],
          "id": 260,
          "words": "justiça",
          "x": -0.4764227271080017,
          "y": -0.5138190388679504
         },
         {
          "emb": [
           -1.4595519304275513,
           0.6588882803916931,
           0.7866503596305847,
           0.32202473282814026,
           -0.1475411206483841,
           -0.35307201743125916,
           -0.5469349026679993,
           0.8464348316192627,
           -0.012792888097465038,
           0.11091594398021698
          ],
          "id": 261,
          "words": "pós",
          "x": -0.2078731507062912,
          "y": 1.1727795600891113
         },
         {
          "emb": [
           0.2480585128068924,
           -1.3988758325576782,
           -3.0777759552001953,
           -0.35922297835350037,
           -1.0473270416259766,
           1.1386886835098267,
           -1.3464386463165283,
           -0.8652636408805847,
           -0.6746425628662109,
           0.0109749436378479
          ],
          "id": 262,
          "words": "filhos",
          "x": -2.047577381134033,
          "y": -1.0122448205947876
         },
         {
          "emb": [
           -0.8525131344795227,
           -0.7141079306602478,
           -0.7421683669090271,
           -0.8418827652931213,
           -0.33812016248703003,
           0.6993655562400818,
           0.431426465511322,
           -0.5049252510070801,
           -0.3263140618801117,
           -1.7830729484558105
          ],
          "id": 263,
          "words": "morfogênese",
          "x": -0.48753613233566284,
          "y": 0.7055469155311584
         },
         {
          "emb": [
           -0.2145843654870987,
           -1.5016282796859741,
           -2.1590585708618164,
           -0.24591030180454254,
           -0.14872628450393677,
           -0.32474425435066223,
           1.4649455547332764,
           0.4204345643520355,
           0.5342211127281189,
           -0.22468844056129456
          ],
          "id": 264,
          "words": "conclui",
          "x": -1.6730848550796509,
          "y": 0.05062999948859215
         },
         {
          "emb": [
           -2.3417646884918213,
           0.5883476734161377,
           -2.0395843982696533,
           -1.1074285507202148,
           -0.4311944544315338,
           -0.36568522453308105,
           0.7413467764854431,
           -0.0985383465886116,
           1.0023223161697388,
           -0.7144986987113953
          ],
          "id": 265,
          "words": "poção",
          "x": -2.5118567943573,
          "y": 0.5726302862167358
         },
         {
          "emb": [
           -0.8345269560813904,
           0.7739627361297607,
           1.7583959102630615,
           0.23232820630073547,
           -1.3412580490112305,
           -0.5990282893180847,
           0.44500166177749634,
           -0.04115699231624603,
           2.1455438137054443,
           0.27869850397109985
          ],
          "id": 266,
          "words": "efeito",
          "x": 0.5891166925430298,
          "y": 0.5558756589889526
         },
         {
          "emb": [
           -0.83391934633255,
           0.015838060528039932,
           -1.62933349609375,
           0.23862780630588531,
           -2.8943099975585938,
           -0.5722414255142212,
           -0.3489384651184082,
           -0.4633266031742096,
           0.08195566385984421,
           -1.1418919563293457
          ],
          "id": 267,
          "words": "causa",
          "x": -1.5211001634597778,
          "y": 1.2626808881759644
         },
         {
          "emb": [
           -2.4297454357147217,
           0.010633591562509537,
           0.9335293173789978,
           1.3402810096740723,
           -0.47710877656936646,
           0.43931058049201965,
           -0.10295575112104416,
           -1.7469199895858765,
           0.3768763542175293,
           -0.820760190486908
          ],
          "id": 268,
          "words": "muitos",
          "x": -0.331988662481308,
          "y": 0.9402289986610413
         },
         {
          "emb": [
           -0.19594253599643707,
           -0.46816015243530273,
           0.4546701908111572,
           -0.44838443398475647,
           0.5435448884963989,
           0.9102652668952942,
           0.0665905699133873,
           -0.2019360363483429,
           0.6968491077423096,
           0.3840803802013397
          ],
          "id": 269,
          "words": "modo",
          "x": 0.28122174739837646,
          "y": -0.7254531383514404
         },
         {
          "emb": [
           -0.5034817457199097,
           -0.9187575578689575,
           -0.5603065490722656,
           -0.8876575827598572,
           0.30354657769203186,
           0.5260788202285767,
           0.33513587713241577,
           0.03769903630018234,
           -0.6912901997566223,
           -0.05695294588804245
          ],
          "id": 270,
          "words": "desculpas",
          "x": -0.5122971534729004,
          "y": -0.2958027124404907
         },
         {
          "emb": [
           0.8042747974395752,
           0.6232011318206787,
           0.5191640853881836,
           -0.3717583119869232,
           0.4427838623523712,
           -0.21549873054027557,
           -1.5158370733261108,
           -0.7901942133903503,
           -0.7524528503417969,
           -0.3049222230911255
          ],
          "id": 271,
          "words": "artigo",
          "x": 0.593230664730072,
          "y": -0.26855793595314026
         },
         {
          "emb": [
           0.2800014019012451,
           1.4921152591705322,
           0.3649265766143799,
           -2.2492012977600098,
           0.6186452507972717,
           -0.8347947597503662,
           -1.6727306842803955,
           0.07145489007234573,
           -1.4843840599060059,
           1.1710680723190308
          ],
          "id": 272,
          "words": "trabalhou",
          "x": -0.10722977668046951,
          "y": -1.1178308725357056
         },
         {
          "emb": [
           0.20071955025196075,
           0.22237196564674377,
           -0.964986264705658,
           -0.9013698101043701,
           -0.8263529539108276,
           -1.861197829246521,
           -0.09822162240743637,
           0.5263040661811829,
           1.609005093574524,
           -0.0561646968126297
          ],
          "id": 273,
          "words": "primeira",
          "x": -1.3738937377929688,
          "y": 0.3696970045566559
         },
         {
          "emb": [
           1.0492216348648071,
           -1.171855092048645,
           0.030523695051670074,
           0.3371231257915497,
           0.026645099744200706,
           0.35771384835243225,
           -1.0404330492019653,
           -0.4504467844963074,
           0.2645275294780731,
           -0.8073769807815552
          ],
          "id": 274,
          "words": "pois",
          "x": 0.3611387610435486,
          "y": 0.11515016853809357
         },
         {
          "emb": [
           0.690211296081543,
           1.6052435636520386,
           -0.07023259252309799,
           0.22164423763751984,
           1.4081040620803833,
           -0.5800157785415649,
           -0.44076260924339294,
           1.6011861562728882,
           -1.6496981382369995,
           0.04801879823207855
          ],
          "id": 275,
          "words": "jacobi",
          "x": 0.6750501394271851,
          "y": 0.7774056792259216
         },
         {
          "emb": [
           1.3640719652175903,
           1.0053924322128296,
           0.3431715965270996,
           -0.8168030977249146,
           0.27530521154403687,
           0.6377893090248108,
           0.12557461857795715,
           0.09639304131269455,
           -0.9417728781700134,
           2.4706037044525146
          ],
          "id": 276,
          "words": "abstração",
          "x": 1.1300815343856812,
          "y": -2.340039014816284
         },
         {
          "emb": [
           -1.776850700378418,
           -0.477742463350296,
           -0.4093678891658783,
           -0.13057686388492584,
           -1.386739730834961,
           0.8920120000839233,
           1.0423197746276855,
           0.10486676543951035,
           0.1763048619031906,
           0.5906398296356201
          ],
          "id": 277,
          "words": "bibliografia",
          "x": -0.7771610021591187,
          "y": -0.027300065383315086
         },
         {
          "emb": [
           0.466072142124176,
           -1.0806541442871094,
           1.8079372644424438,
           -0.4867018163204193,
           0.5028632879257202,
           -1.4846090078353882,
           -0.30410635471343994,
           0.11058349907398224,
           -0.6555081009864807,
           0.06112923473119736
          ],
          "id": 278,
          "words": "estudos",
          "x": 0.7101678848266602,
          "y": 0.3651008605957031
         },
         {
          "emb": [
           0.15348920226097107,
           -0.1404644399881363,
           -0.031224964186549187,
           0.15445087850093842,
           -0.09639754146337509,
           0.3978852331638336,
           -0.14257632195949554,
           0.14807839691638947,
           -0.5538576245307922,
           -0.02591796964406967
          ],
          "id": 279,
          "words": "junho",
          "x": 0.29300323128700256,
          "y": 0.08322308212518692
         },
         {
          "emb": [
           0.631899356842041,
           0.22661417722702026,
           0.5205780863761902,
           1.1787872314453125,
           -0.7490400671958923,
           -0.5623178482055664,
           2.1126949787139893,
           -0.6531915068626404,
           0.26870349049568176,
           -0.6776805520057678
          ],
          "id": 280,
          "words": "segunda",
          "x": 1.1830775737762451,
          "y": 0.5374639630317688
         },
         {
          "emb": [
           1.5700870752334595,
           0.700387716293335,
           0.12985341250896454,
           -0.6079369783401489,
           0.050370775163173676,
           1.024078130722046,
           -0.0164901465177536,
           0.6340793967247009,
           -1.11519193649292,
           0.15110144019126892
          ],
          "id": 281,
          "words": "grayling",
          "x": 1.5669525861740112,
          "y": -0.5928839445114136
         },
         {
          "emb": [
           -0.3976881504058838,
           -0.893184244632721,
           0.09044107049703598,
           0.08593186736106873,
           -1.499028205871582,
           -2.6869335174560547,
           0.6397826671600342,
           0.7965130805969238,
           -1.2319843769073486,
           -0.41072776913642883
          ],
          "id": 282,
          "words": "considerado",
          "x": -0.7907251119613647,
          "y": 1.8074367046356201
         },
         {
          "emb": [
           0.4736904203891754,
           1.362471342086792,
           0.7943516969680786,
           -1.4025051593780518,
           -0.7193130850791931,
           -0.5836006999015808,
           0.8734721541404724,
           2.1433637142181396,
           -0.35382428765296936,
           -0.3176628053188324
          ],
          "id": 283,
          "words": "poderiam",
          "x": 1.2144867181777954,
          "y": 1.0279815196990967
         },
         {
          "emb": [
           0.2160244733095169,
           -0.3022225499153137,
           -0.6448314189910889,
           0.7891210913658142,
           -3.2676479816436768,
           0.20663125813007355,
           0.6416243314743042,
           1.6077853441238403,
           0.5294252038002014,
           -0.03609604761004448
          ],
          "id": 284,
          "words": "ainda",
          "x": 0.0800405740737915,
          "y": 1.2688121795654297
         },
         {
          "emb": [
           1.717407464981079,
           -0.9820772409439087,
           1.7162092924118042,
           -1.1622438430786133,
           -1.3043913841247559,
           0.24325668811798096,
           0.8594085574150085,
           0.015471912920475006,
           -0.2964458763599396,
           0.9785717129707336
          ],
          "id": 285,
          "words": "chefe",
          "x": 1.992432951927185,
          "y": -1.221419095993042
         },
         {
          "emb": [
           -1.7893544435501099,
           0.4459042251110077,
           1.0474514961242676,
           -0.5543551445007324,
           -1.2755727767944336,
           0.45388323068618774,
           0.6706259846687317,
           -0.34506461024284363,
           0.5223830342292786,
           -0.4759097695350647
          ],
          "id": 286,
          "words": "infância",
          "x": 0.2055327147245407,
          "y": 0.6359217762947083
         },
         {
          "emb": [
           0.5781779289245605,
           -1.2276616096496582,
           -0.639761745929718,
           1.6362239122390747,
           0.3612483739852905,
           1.9682823419570923,
           1.6702338457107544,
           -1.9136073589324951,
           0.19404852390289307,
           -1.216800332069397
          ],
          "id": 287,
          "words": "acidentes",
          "x": 0.9026590585708618,
          "y": -0.5063942670822144
         },
         {
          "emb": [
           0.23570089042186737,
           -0.8697150945663452,
           1.66213858127594,
           0.4968318045139313,
           -0.023656602948904037,
           0.42183932662010193,
           0.42731326818466187,
           0.13928131759166718,
           -0.6412599682807922,
           -0.25124794244766235
          ],
          "id": 288,
          "words": "operações",
          "x": 1.5344407558441162,
          "y": 0.47392183542251587
         },
         {
          "emb": [
           0.3639417290687561,
           -0.013222145847976208,
           -0.21332432329654694,
           0.5560015439987183,
           -0.9002912044525146,
           0.9445456266403198,
           -0.8957428932189941,
           0.32669076323509216,
           0.9827673435211182,
           -0.811296284198761
          ],
          "id": 289,
          "words": "exército",
          "x": 0.3310807943344116,
          "y": 0.6640016436576843
         },
         {
          "emb": [
           -0.8760193586349487,
           -0.13607673346996307,
           -0.28483954071998596,
           0.6171430945396423,
           -0.9425431489944458,
           -1.8501578569412231,
           0.4654359817504883,
           0.5224546194076538,
           -0.7943432331085205,
           1.354760766029358
          ],
          "id": 290,
          "words": "imitar",
          "x": -1.1762778759002686,
          "y": 0.44959932565689087
         },
         {
          "emb": [
           0.9019559025764465,
           -0.6185529828071594,
           -0.587253212928772,
           -1.1169291734695435,
           1.4164049625396729,
           -1.0442168712615967,
           0.019069725647568703,
           -0.7902263402938843,
           1.0342023372650146,
           0.4724246859550476
          ],
          "id": 291,
          "words": "solicitando",
          "x": -0.7861647605895996,
          "y": -1.360181212425232
         },
         {
          "emb": [
           0.8436047434806824,
           -0.43674907088279724,
           1.2293188571929932,
           0.9934378862380981,
           -0.9781956672668457,
           0.09338235855102539,
           0.25938281416893005,
           2.494616746902466,
           0.5109893679618835,
           -0.09053045511245728
          ],
          "id": 292,
          "words": "alemanha",
          "x": 1.5367634296417236,
          "y": 1.6068533658981323
         },
         {
          "emb": [
           0.8077004551887512,
           0.16716475784778595,
           -1.2429909706115723,
           -0.1469544768333435,
           0.1864527463912964,
           -0.46022534370422363,
           -0.19863355159759521,
           -0.801010012626648,
           -1.8614366054534912,
           0.1839180886745453
          ],
          "id": 293,
          "words": "cama",
          "x": -0.4024360477924347,
          "y": -0.678787887096405
         },
         {
          "emb": [
           0.3423762917518616,
           0.25130775570869446,
           -1.3173391819000244,
           0.5650811791419983,
           -0.29384568333625793,
           0.6224507093429565,
           -1.6765161752700806,
           -1.085831642150879,
           -0.27533218264579773,
           0.18653461337089539
          ],
          "id": 294,
          "words": "pioneiro",
          "x": -0.7463968396186829,
          "y": -0.6795693039894104
         },
         {
          "emb": [
           1.8153458833694458,
           1.0428178310394287,
           0.4890926480293274,
           0.6869174838066101,
           -0.3008252680301666,
           -1.9471909999847412,
           -1.03135347366333,
           -0.5315175652503967,
           0.279345840215683,
           -0.6976988911628723
          ],
          "id": 295,
          "words": "naval",
          "x": 0.722477376461029,
          "y": 0.6436354517936707
         },
         {
          "emb": [
           -0.9388332366943359,
           0.045608822256326675,
           -0.8215746879577637,
           -0.38410839438438416,
           0.6943048238754272,
           -0.7029575109481812,
           0.2972888648509979,
           0.9244887828826904,
           0.25796055793762207,
           -0.36751338839530945
          ],
          "id": 296,
          "words": "prêmio",
          "x": -1.152528166770935,
          "y": 0.8356863260269165
         },
         {
          "emb": [
           0.3241402804851532,
           -0.3906291425228119,
           0.17249231040477753,
           -0.6296425461769104,
           0.6316836476325989,
           0.12543438374996185,
           -2.1240134239196777,
           0.8467013835906982,
           0.5326897501945496,
           -0.29940927028656006
          ],
          "id": 297,
          "words": "condado",
          "x": -0.20806454122066498,
          "y": 0.36429035663604736
         },
         {
          "emb": [
           -0.20141084492206573,
           -0.5946655869483948,
           0.030846698209643364,
           -1.3568936586380005,
           1.076841115951538,
           0.9883130192756653,
           -0.06956019997596741,
           0.6354032158851624,
           -0.10974805802106857,
           0.14769117534160614
          ],
          "id": 298,
          "words": "conduzida",
          "x": 0.05615290626883507,
          "y": -0.5447475910186768
         },
         {
          "emb": [
           0.405184268951416,
           1.5451985597610474,
           0.518500566482544,
           -0.5268464088439941,
           1.4669243097305298,
           0.7835793495178223,
           -0.9121890664100647,
           -0.5950062274932861,
           -0.7757998108863831,
           0.27050113677978516
          ],
          "id": 299,
          "words": "lorenz",
          "x": 0.9529257416725159,
          "y": -0.9318377375602722
         },
         {
          "emb": [
           0.38900306820869446,
           0.2658509314060211,
           1.4331392049789429,
           -1.5968629121780396,
           -1.6023038625717163,
           0.2465706616640091,
           -0.4156554639339447,
           -1.5814167261123657,
           -0.14387933909893036,
           -0.3934297263622284
          ],
          "id": 300,
          "words": "computador",
          "x": 1.161810278892517,
          "y": -0.7346304059028625
         },
         {
          "emb": [
           -0.27336564660072327,
           -0.11904921382665634,
           1.1812885999679565,
           0.25206997990608215,
           -1.1765443086624146,
           0.12202800810337067,
           -1.1334177255630493,
           1.2442399263381958,
           1.018306016921997,
           -0.4725487530231476
          ],
          "id": 301,
          "words": "passou",
          "x": 0.558259129524231,
          "y": 1.4163403511047363
         },
         {
          "emb": [
           -2.702080011367798,
           -0.7371830344200134,
           0.2360514998435974,
           -0.4225870668888092,
           0.15957751870155334,
           -1.0197099447250366,
           -1.2124478816986084,
           1.2081571817398071,
           -0.22175994515419006,
           -1.0936238765716553
          ],
          "id": 302,
          "words": "viajaram",
          "x": -1.7476171255111694,
          "y": 2.38274884223938
         },
         {
          "emb": [
           -0.43729734420776367,
           1.1528030633926392,
           1.4384628534317017,
           0.48052969574928284,
           1.0549120903015137,
           2.1984965801239014,
           0.014453243464231491,
           -0.5893691778182983,
           -1.219353437423706,
           0.6616398096084595
          ],
          "id": 303,
          "words": "diferenciar",
          "x": 1.8718867301940918,
          "y": -0.8612474203109741
         },
         {
          "emb": [
           -0.909993052482605,
           2.4585585594177246,
           2.1688835620880127,
           2.0117368698120117,
           -0.42252117395401,
           -1.9266878366470337,
           0.7831143140792847,
           -0.3399026691913605,
           0.011352093890309334,
           1.2497237920761108
          ],
          "id": 304,
          "words": "ia",
          "x": 1.0244594812393188,
          "y": 0.7926855683326721
         },
         {
          "emb": [
           -0.40183570981025696,
           -0.10208519548177719,
           -0.5710660219192505,
           0.010038703680038452,
           -1.1722463369369507,
           1.4837595224380493,
           -0.42716920375823975,
           0.15858139097690582,
           -0.2667843699455261,
           0.4806917905807495
          ],
          "id": 305,
          "words": "tipperary",
          "x": -0.11380846798419952,
          "y": -0.3500857651233673
         },
         {
          "emb": [
           1.9229174852371216,
           -0.012109322473406792,
           0.35014405846595764,
           0.9855549335479736,
           0.341499388217926,
           0.49083277583122253,
           1.4225716590881348,
           -0.156619593501091,
           0.09124986827373505,
           -0.593436598777771
          ],
          "id": 306,
          "words": "semanas",
          "x": 1.907006025314331,
          "y": -0.11135143786668777
         },
         {
          "emb": [
           -0.40016648173332214,
           1.0497421026229858,
           1.0009205341339111,
           -0.5997495055198669,
           -0.374517560005188,
           1.7884610891342163,
           1.1204851865768433,
           -1.3139612674713135,
           0.07014019787311554,
           1.36921226978302
          ],
          "id": 307,
          "words": "winston",
          "x": 1.2880115509033203,
          "y": -1.9759464263916016
         },
         {
          "emb": [
           0.713687002658844,
           -0.7220823764801025,
           1.1175994873046875,
           -0.29439738392829895,
           -0.7120333909988403,
           0.7528587579727173,
           -0.3077123761177063,
           0.449934720993042,
           -0.3510274887084961,
           0.2807069718837738
          ],
          "id": 308,
          "words": "transmissão",
          "x": 1.2559151649475098,
          "y": -0.16301828622817993
         },
         {
          "emb": [
           -0.6055968999862671,
           -0.11453256756067276,
           0.13610123097896576,
           0.6311206221580505,
           -1.3173655271530151,
           0.3455149233341217,
           0.9174366593360901,
           -1.3811991214752197,
           0.23391126096248627,
           0.37407124042510986
          ],
          "id": 309,
          "words": "revolutionary",
          "x": 0.051997989416122437,
          "y": -0.4777323603630066
         },
         {
          "emb": [
           -0.10194689780473709,
           0.3641997277736664,
           -0.6298342943191528,
           0.35357505083084106,
           -0.006273150444030762,
           1.158186912536621,
           0.03893531113862991,
           -0.47217774391174316,
           -0.2670908570289612,
           0.6770097017288208
          ],
          "id": 310,
          "words": "quebra",
          "x": 0.008961698971688747,
          "y": -0.8680424690246582
         },
         {
          "emb": [
           -0.6721988320350647,
           0.47283586859703064,
           -0.004844146780669689,
           -0.3607296347618103,
           -1.0382641553878784,
           0.8418198823928833,
           1.0359950065612793,
           -1.1656029224395752,
           2.264652967453003,
           0.6791700720787048
          ],
          "id": 311,
          "words": "regras",
          "x": -0.14700834453105927,
          "y": -1.210641860961914
         },
         {
          "emb": [
           -1.2687194347381592,
           0.2704598605632782,
           -0.9952017664909363,
           0.7626932859420776,
           0.5986266732215881,
           -0.32406604290008545,
           0.21206586062908173,
           -0.4344255030155182,
           0.18685825169086456,
           -1.043738842010498
          ],
          "id": 312,
          "words": "atos",
          "x": -1.1397087574005127,
          "y": 1.0076602697372437
         },
         {
          "emb": [
           -1.8814427852630615,
           -1.8190619945526123,
           -1.0078635215759277,
           1.1162829399108887,
           0.8259932994842529,
           0.6159898638725281,
           -0.40795233845710754,
           0.8898612260818481,
           -0.9434109330177307,
           0.99039226770401
          ],
          "id": 313,
          "words": "woking",
          "x": -1.749322533607483,
          "y": 0.38864195346832275
         },
         {
          "emb": [
           -1.268473505973816,
           1.1849417686462402,
           -1.280791163444519,
           -0.8407341837882996,
           -0.6968270540237427,
           0.1796201467514038,
           0.3337112069129944,
           1.5424917936325073,
           0.6994291543960571,
           -0.4160831570625305
          ],
          "id": 314,
          "words": "aposentados",
          "x": -1.079430103302002,
          "y": 0.9910770654678345
         },
         {
          "emb": [
           0.056546688079833984,
           0.14137040078639984,
           -0.9097577929496765,
           0.26962214708328247,
           0.6588387489318848,
           0.6249388456344604,
           -0.7254363894462585,
           -0.11643606424331665,
           0.5662068128585815,
           1.4230594635009766
          ],
          "id": 315,
          "words": "dirigido",
          "x": -0.7291415333747864,
          "y": -1.255657434463501
         },
         {
          "emb": [
           0.4599241316318512,
           -0.2330903261899948,
           0.166622593998909,
           -0.0743713453412056,
           -0.06055503711104393,
           -0.29475605487823486,
           0.2751660645008087,
           0.3855527341365814,
           1.7832508087158203,
           -1.3489736318588257
          ],
          "id": 316,
          "words": "após",
          "x": 0.2915598452091217,
          "y": 0.9441390037536621
         },
         {
          "emb": [
           -0.5327926874160767,
           -1.7470691204071045,
           0.5620686411857605,
           -0.22153834998607635,
           -1.52436363697052,
           -0.35520562529563904,
           -0.5025600790977478,
           0.17275047302246094,
           -0.3965407609939575,
           0.7835478186607361
          ],
          "id": 317,
          "words": "isbn",
          "x": -0.4773291051387787,
          "y": 0.09145969897508621
         },
         {
          "emb": [
           0.7942047119140625,
           -0.6198641061782837,
           1.1867058277130127,
           -0.24047644436359406,
           -0.02379392273724079,
           0.11615107953548431,
           -0.7873551845550537,
           -0.7481564879417419,
           0.4968563914299011,
           -1.5520902872085571
          ],
          "id": 318,
          "words": "desempenhando",
          "x": 1.108012318611145,
          "y": 0.5448766350746155
         },
         {
          "emb": [
           1.7836757898330688,
           -0.13130633533000946,
           0.44743385910987854,
           0.8348013758659363,
           0.23160304129123688,
           2.0090339183807373,
           -1.5291428565979004,
           0.535566508769989,
           1.0555940866470337,
           0.6066979169845581
          ],
          "id": 319,
          "words": "dedicava",
          "x": 1.5178427696228027,
          "y": -0.8239063024520874
         },
         {
          "emb": [
           -0.9284597039222717,
           -1.8572947978973389,
           -2.250584125518799,
           -0.4661269187927246,
           -0.2794862985610962,
           -1.0943732261657715,
           0.003932486288249493,
           -1.1816409826278687,
           0.6995829939842224,
           0.49030598998069763
          ],
          "id": 320,
          "words": "flowers",
          "x": -3.013105630874634,
          "y": -0.7746162414550781
         },
         {
          "emb": [
           1.483000636100769,
           -1.6669868230819702,
           0.27290108799934387,
           0.4266393184661865,
           -1.0972124338150024,
           -0.246001735329628,
           -0.47526073455810547,
           0.4015986919403076,
           -1.1420042514801025,
           -1.3677672147750854
          ],
          "id": 321,
          "words": "velho",
          "x": 0.9117702841758728,
          "y": 1.201067566871643
         },
         {
          "emb": [
           -0.4648739695549011,
           0.4780097007751465,
           -0.6134105324745178,
           -0.3872985243797302,
           -0.25534072518348694,
           -0.10238078981637955,
           -0.544659435749054,
           -0.5632495284080505,
           -1.2660874128341675,
           -0.25167763233184814
          ],
          "id": 322,
          "words": "codificação",
          "x": -0.5193937420845032,
          "y": 0.053778670728206635
         },
         {
          "emb": [
           -0.7371436357498169,
           -0.14318116009235382,
           0.043846048414707184,
           -1.0796469449996948,
           0.3184465169906616,
           -0.14996416866779327,
           1.4410080909729004,
           -0.96377032995224,
           1.5022006034851074,
           0.22339296340942383
          ],
          "id": 323,
          "words": "fadas",
          "x": -0.4757687449455261,
          "y": -0.9248873591423035
         },
         {
          "emb": [
           -0.759099006652832,
           1.1232035160064697,
           -0.3276124596595764,
           0.2992475628852844,
           -0.5635877847671509,
           1.2135080099105835,
           -0.8250200748443604,
           -0.31709498167037964,
           -1.4978293180465698,
           0.4388883113861084
          ],
          "id": 324,
          "words": "vieram",
          "x": 0.0868130549788475,
          "y": -0.20763935148715973
         },
         {
          "emb": [
           -0.2694133520126343,
           0.3830059766769409,
           0.07693102955818176,
           -0.9515383243560791,
           -0.11878598481416702,
           -1.2066676616668701,
           -2.1902592182159424,
           -0.09363347291946411,
           -1.0891914367675781,
           0.6530623435974121
          ],
          "id": 325,
          "words": "primitivo",
          "x": -0.9073438048362732,
          "y": -0.09962545335292816
         },
         {
          "emb": [
           1.1639680862426758,
           -0.1032504141330719,
           0.7220461368560791,
           0.5059605240821838,
           0.9390968084335327,
           1.2224279642105103,
           -0.5181179046630859,
           -1.2227354049682617,
           0.2419588416814804,
           0.9659243822097778
          ],
          "id": 326,
          "words": "homofobia",
          "x": 1.2143992185592651,
          "y": -1.719749093055725
         },
         {
          "emb": [
           -1.2400113344192505,
           -0.331551730632782,
           0.6550934314727783,
           0.005181760061532259,
           1.1389391422271729,
           0.2524721622467041,
           -1.381819248199463,
           1.6776010990142822,
           0.4108988642692566,
           0.5734893083572388
          ],
          "id": 327,
          "words": "anglo",
          "x": -0.4945352375507355,
          "y": 0.7630143165588379
         },
         {
          "emb": [
           -0.5812956094741821,
           1.0742844343185425,
           1.745847225189209,
           -0.4427354335784912,
           -1.0068789720535278,
           0.6118270754814148,
           -0.45030656456947327,
           0.5439770817756653,
           -0.9725003242492676,
           0.6509506106376648
          ],
          "id": 328,
          "words": "retratado",
          "x": 1.3352251052856445,
          "y": 0.1938873827457428
         },
         {
          "emb": [
           0.4548971652984619,
           0.19913247227668762,
           -0.8168330788612366,
           1.1982660293579102,
           0.4254857897758484,
           -0.18549010157585144,
           1.4703407287597656,
           0.8586376905441284,
           0.5971546769142151,
           1.1015783548355103
          ],
          "id": 329,
          "words": "ministro",
          "x": -0.07423137873411179,
          "y": -0.2690860629081726
         },
         {
          "emb": [
           -0.10332945734262466,
           1.456615924835205,
           1.627996802330017,
           -1.0624035596847534,
           -0.5383289456367493,
           -0.7602633237838745,
           0.584201991558075,
           -1.7187470197677612,
           -0.3920891582965851,
           0.32238808274269104
          ],
          "id": 330,
          "words": "principal",
          "x": 1.0727125406265259,
          "y": -0.8506348729133606
         },
         {
          "emb": [
           -0.3211847245693207,
           -0.25469762086868286,
           0.9810114502906799,
           0.7145616412162781,
           0.7762917280197144,
           -0.18101592361927032,
           1.3473329544067383,
           0.1891472339630127,
           -0.18870504200458527,
           -2.0648698806762695
          ],
          "id": 331,
          "words": "dar",
          "x": 1.1049187183380127,
          "y": 1.8305631875991821
         },
         {
          "emb": [
           -0.00338723580352962,
           -1.1634180545806885,
           0.21630847454071045,
           0.3770664930343628,
           0.35911825299263,
           0.23946699500083923,
           -0.17303988337516785,
           1.950547695159912,
           -1.1476497650146484,
           -1.2928084135055542
          ],
          "id": 332,
          "words": "recebeu",
          "x": 0.4854543209075928,
          "y": 1.9722223281860352
         },
         {
          "emb": [
           1.1171842813491821,
           -0.09430328756570816,
           1.8449541330337524,
           -0.6659712195396423,
           -0.022562682628631592,
           1.3014659881591797,
           1.2490253448486328,
           -0.5669897198677063,
           -0.5928606986999512,
           1.3204790353775024
          ],
          "id": 333,
          "words": "reações",
          "x": 2.378755807876587,
          "y": -1.8336092233657837
         },
         {
          "emb": [
           -0.25502780079841614,
           -0.9561746120452881,
           -0.41845881938934326,
           1.8703317642211914,
           1.7557642459869385,
           -0.382597416639328,
           0.5340367555618286,
           -2.100773572921753,
           -1.2402453422546387,
           -0.14700935781002045
          ],
          "id": 334,
          "words": "comprovar",
          "x": -0.41971921920776367,
          "y": -0.3477655351161957
         },
         {
          "emb": [
           0.3082352876663208,
           0.22114813327789307,
           -0.8972241878509521,
           -0.752320408821106,
           0.6486449837684631,
           1.9433536529541016,
           0.5941572785377502,
           -0.09560858458280563,
           -0.09812372922897339,
           2.6080799102783203
          ],
          "id": 335,
          "words": "mal",
          "x": 0.0017500434769317508,
          "y": -2.854598045349121
         },
         {
          "emb": [
           -0.3234667181968689,
           1.8921356201171875,
           0.2556898891925812,
           -1.2035095691680908,
           1.631955623626709,
           -1.2093849182128906,
           0.10051844269037247,
           -0.05621848255395889,
           -1.208818793296814,
           -1.3002657890319824
          ],
          "id": 336,
          "words": "bastante",
          "x": 0.22679153084754944,
          "y": 0.8129085898399353
         },
         {
          "emb": [
           -0.7087509632110596,
           -0.5393854379653931,
           -1.0797516107559204,
           1.6233888864517212,
           1.2921019792556763,
           -0.7403444647789001,
           0.43041422963142395,
           0.6608662605285645,
           -0.4259716272354126,
           0.664425253868103
          ],
          "id": 337,
          "words": "devido",
          "x": -1.233344316482544,
          "y": 0.5376771688461304
         },
         {
          "emb": [
           -0.28073805570602417,
           1.5046340227127075,
           0.6023190021514893,
           0.3218609094619751,
           -0.5578749179840088,
           -1.35990309715271,
           -0.9732758402824402,
           -0.18672648072242737,
           -0.07832764089107513,
           0.4931320548057556
          ],
          "id": 338,
          "words": "outros",
          "x": -0.09963282197713852,
          "y": 0.41758522391319275
         },
         {
          "emb": [
           0.17346352338790894,
           -0.802217423915863,
           2.016970634460449,
           -1.7806661128997803,
           -1.6875327825546265,
           0.8823840022087097,
           -0.3538142144680023,
           -0.2736043632030487,
           0.6504153609275818,
           0.0022846076171845198
          ],
          "id": 339,
          "words": "decriptar",
          "x": 1.3671669960021973,
          "y": -0.5169910788536072
         },
         {
          "emb": [
           0.30438682436943054,
           -1.259769320487976,
           -0.4149147570133209,
           -1.8307175636291504,
           -0.3930443525314331,
           0.2161494940519333,
           0.7225131988525391,
           1.2231526374816895,
           -0.3167588710784912,
           0.5767750144004822
          ],
          "id": 340,
          "words": "químicas",
          "x": -0.23262853920459747,
          "y": -0.5527932643890381
         },
         {
          "emb": [
           -1.1556787490844727,
           -1.049613356590271,
           0.41344502568244934,
           -0.9580144882202148,
           -1.2552266120910645,
           -0.4801507294178009,
           3.0099356174468994,
           0.36017000675201416,
           1.1925818920135498,
           0.9266186952590942
          ],
          "id": 341,
          "words": "paddington",
          "x": -0.33970826864242554,
          "y": -0.3444753587245941
         },
         {
          "emb": [
           0.5225048661231995,
           1.8149945735931396,
           1.8598655462265015,
           0.3119489252567291,
           -0.825657844543457,
           0.16578000783920288,
           0.11089802533388138,
           -0.9860760569572449,
           0.21992766857147217,
           -1.791620135307312
          ],
          "id": 342,
          "words": "rainha",
          "x": 2.27891206741333,
          "y": 1.019446611404419
         },
         {
          "emb": [
           -0.337256520986557,
           0.11885445564985275,
           -0.9823410511016846,
           -0.15210534632205963,
           0.9748309254646301,
           -0.19791406393051147,
           0.25827929377555847,
           0.6843339204788208,
           -0.3304769992828369,
           -0.420788437128067
          ],
          "id": 343,
          "words": "massachusetts",
          "x": -0.678375244140625,
          "y": 0.5048696994781494
         },
         {
          "emb": [
           -0.3929053544998169,
           -0.6299670934677124,
           1.4975892305374146,
           0.7913317084312439,
           -0.30128881335258484,
           -0.22726686298847198,
           0.48458531498908997,
           0.32698801159858704,
           -0.9556953310966492,
           -0.8385651111602783
          ],
          "id": 344,
          "words": "dermot",
          "x": 1.1024494171142578,
          "y": 1.4514200687408447
         },
         {
          "emb": [
           -0.7850285172462463,
           -1.5502971410751343,
           -1.3370726108551025,
           1.4849488735198975,
           -0.074150450527668,
           1.6597875356674194,
           0.4451136887073517,
           -0.8939895629882812,
           -0.8437596559524536,
           0.7116421461105347
          ],
          "id": 345,
          "words": "máquina",
          "x": -0.8084564805030823,
          "y": -0.7536774277687073
         },
         {
          "emb": [
           0.31183937191963196,
           3.2396316528320312,
           -0.8702759742736816,
           -0.27960529923439026,
           -0.21677745878696442,
           -0.3556981682777405,
           -0.7638415098190308,
           -1.1893693208694458,
           2.0414209365844727,
           0.6813865303993225
          ],
          "id": 346,
          "words": "formado",
          "x": -0.4512668251991272,
          "y": -1.2034401893615723
         },
         {
          "emb": [
           -0.45116615295410156,
           0.2404162734746933,
           0.10185837000608444,
           -0.09543054550886154,
           0.3528417944908142,
           -0.4161149561405182,
           1.277984619140625,
           0.9944867491722107,
           1.9824153184890747,
           0.8578001260757446
          ],
          "id": 347,
          "words": "cognitivos",
          "x": -0.28782790899276733,
          "y": -0.09363403916358948
         },
         {
          "emb": [
           0.4601045846939087,
           -2.1970736980438232,
           -0.3883102536201477,
           1.068921685218811,
           -0.3669983744621277,
           -0.6653771996498108,
           -2.2776522636413574,
           -0.04092148691415787,
           -0.833967387676239,
           0.7572690844535828
          ],
          "id": 348,
          "words": "símbolos",
          "x": -1.0646063089370728,
          "y": 0.09985832124948502
         },
         {
          "emb": [
           0.2166731208562851,
           0.21931785345077515,
           1.291974663734436,
           0.10809777677059174,
           -1.380309820175171,
           -2.2236201763153076,
           0.22642973065376282,
           0.14529253542423248,
           -1.3561933040618896,
           0.2102256864309311
          ],
          "id": 349,
          "words": "projeto",
          "x": 0.5355088114738464,
          "y": 0.9656995534896851
         },
         {
          "emb": [
           0.2179228663444519,
           -0.5195677280426025,
           -0.8500488996505737,
           0.05731707438826561,
           1.773138403892517,
           0.018490906804800034,
           -3.2744274139404297,
           -0.1546756774187088,
           0.20355714857578278,
           1.1400539875030518
          ],
          "id": 350,
          "words": "iniciar",
          "x": -1.4753035306930542,
          "y": -0.9855368733406067
         },
         {
          "emb": [
           0.8388279676437378,
           1.2387877702713013,
           -0.7043012976646423,
           -0.7396911978721619,
           0.8962410688400269,
           0.649497389793396,
           -0.8319237232208252,
           -1.2722758054733276,
           -1.7075005769729614,
           1.228433609008789
          ],
          "id": 351,
          "words": "mãe",
          "x": 0.1871359795331955,
          "y": -2.092628240585327
         },
         {
          "emb": [
           0.3422819972038269,
           -0.7200482487678528,
           0.9645736217498779,
           -0.055048950016498566,
           -0.5133107304573059,
           -0.37994295358657837,
           0.9863014817237854,
           -0.29464396834373474,
           -0.5504164099693298,
           0.3098558485507965
          ],
          "id": 352,
          "words": "neve",
          "x": 0.8203890919685364,
          "y": -0.17970529198646545
         },
         {
          "emb": [
           0.853277325630188,
           -0.1451910138130188,
           -2.0387938022613525,
           0.2651233971118927,
           -0.6508272886276245,
           -0.2708689868450165,
           2.441737651824951,
           -0.825443685054779,
           0.34862828254699707,
           2.5540990829467773
          ],
          "id": 353,
          "words": "residência",
          "x": -0.9327148795127869,
          "y": -2.5352275371551514
         },
         {
          "emb": [
           -1.0545315742492676,
           0.8627300262451172,
           -0.2094801515340805,
           0.9308685660362244,
           0.6647359132766724,
           0.6729540824890137,
           0.7571828365325928,
           -0.005127372685819864,
           -0.4461551904678345,
           0.7804620265960693
          ],
          "id": 354,
          "words": "impedido",
          "x": -0.04678718373179436,
          "y": -0.18144717812538147
         },
         {
          "emb": [
           0.8983191847801208,
           0.02709469199180603,
           -0.08929497748613358,
           -0.05373222753405571,
           -0.24014051258563995,
           1.033334493637085,
           0.15908585488796234,
           -0.35038408637046814,
           -1.756162166595459,
           0.6213012337684631
          ],
          "id": 355,
          "words": "aparente",
          "x": 0.9827086925506592,
          "y": -0.9791805744171143
         },
         {
          "emb": [
           -0.3353976607322693,
           -1.2180975675582886,
           0.8188557624816895,
           -0.6904836297035217,
           -1.74936044216156,
           0.6358257532119751,
           -0.7921136617660522,
           -0.2960887849330902,
           1.4011976718902588,
           1.5431994199752808
          ],
          "id": 356,
          "words": "presença",
          "x": -0.2076856940984726,
          "y": -1.1537621021270752
         },
         {
          "emb": [
           -1.1686688661575317,
           -0.39586153626441956,
           -1.2130649089813232,
           1.1671375036239624,
           -1.22833251953125,
           -1.3330579996109009,
           -1.363817811012268,
           0.5939260721206665,
           -1.250450611114502,
           -0.7058343291282654
          ],
          "id": 357,
          "words": "entretanto",
          "x": -1.7839150428771973,
          "y": 2.0762012004852295
         },
         {
          "emb": [
           -1.9082374572753906,
           1.2670775651931763,
           -1.2519536018371582,
           0.13184116780757904,
           0.6784206628799438,
           -0.7679717540740967,
           0.3156560957431793,
           -0.3218071758747101,
           -0.33413395285606384,
           0.31832537055015564
          ],
          "id": 358,
          "words": "externas",
          "x": -1.7627445459365845,
          "y": 0.2397138625383377
         },
         {
          "emb": [
           -0.14327600598335266,
           -0.18129149079322815,
           -0.7058773040771484,
           2.672022581100464,
           -1.0157181024551392,
           -0.011954542249441147,
           0.7250683307647705,
           0.6687576174736023,
           0.8584593534469604,
           -1.0988649129867554
          ],
          "id": 359,
          "words": "consistia",
          "x": -0.021265944465994835,
          "y": 1.9744735956192017
         },
         {
          "emb": [
           -3.1572964191436768,
           -0.10418937355279922,
           -0.49429500102996826,
           -0.13365483283996582,
           -0.49894940853118896,
           -1.3117501735687256,
           -0.4516735374927521,
           0.6850941777229309,
           -0.05427718535065651,
           0.41224005818367004
          ],
          "id": 360,
          "words": "eletromecânico",
          "x": -2.520829200744629,
          "y": 1.3627524375915527
         },
         {
          "emb": [
           0.6383439302444458,
           -0.35461780428886414,
           0.4210153818130493,
           0.05066754296422005,
           -0.6897469162940979,
           -1.2445878982543945,
           0.1398123800754547,
           0.5650352835655212,
           0.5808025002479553,
           -0.8606440424919128
          ],
          "id": 361,
          "words": "nasceu",
          "x": 0.2844267189502716,
          "y": 1.1525976657867432
         },
         {
          "emb": [
           -0.2552419602870941,
           0.05138298496603966,
           0.40343835949897766,
           1.5038690567016602,
           -1.9200299978256226,
           0.8364077210426331,
           -0.8738610744476318,
           -1.016599416732788,
           0.24665674567222595,
           1.2762552499771118
          ],
          "id": 362,
          "words": "setembro",
          "x": 0.22659781575202942,
          "y": -0.6049035787582397
         },
         {
          "emb": [
           -1.671390414237976,
           -0.618205189704895,
           1.0341393947601318,
           -0.545700192451477,
           -1.0293103456497192,
           -0.4026186168193817,
           0.6038378477096558,
           -0.8844888806343079,
           -0.04109311103820801,
           0.728303074836731
          ],
          "id": 363,
          "words": "protestantes",
          "x": -0.4369359612464905,
          "y": -0.24511036276817322
         },
         {
          "emb": [
           0.3495485186576843,
           -0.23896002769470215,
           -0.19241242110729218,
           -0.49144822359085083,
           0.9478808045387268,
           -1.3948090076446533,
           -1.4155080318450928,
           0.1774671971797943,
           0.6469720005989075,
           0.7000564932823181
          ],
          "id": 364,
          "words": "terapias",
          "x": -1.0107133388519287,
          "y": -0.33232638239860535
         },
         {
          "emb": [
           -1.0880248546600342,
           -0.5451600551605225,
           -0.6094118356704712,
           0.5663763880729675,
           1.7886322736740112,
           0.8016166090965271,
           0.46691569685935974,
           0.473199725151062,
           -0.18102142214775085,
           0.7471397519111633
          ],
          "id": 365,
          "words": "tornou",
          "x": -0.715336799621582,
          "y": -0.2902541160583496
         },
         {
          "emb": [
           -0.20480985939502716,
           0.3254876732826233,
           0.5255402326583862,
           1.3991466760635376,
           -0.05466995760798454,
           -0.5056785345077515,
           -1.0995831489562988,
           -1.8376423120498657,
           0.46352335810661316,
           0.2002355307340622
          ],
          "id": 366,
          "words": "mortem",
          "x": -0.1241329163312912,
          "y": -0.20384183526039124
         },
         {
          "emb": [
           -0.8752594590187073,
           0.8929370641708374,
           0.5894131660461426,
           -0.10249917954206467,
           -1.5378762483596802,
           -0.1415509432554245,
           0.018150076270103455,
           -1.4689408540725708,
           1.1066731214523315,
           -0.6850964426994324
          ],
          "id": 367,
          "words": "oficial",
          "x": 0.042739979922771454,
          "y": 0.2641051113605499
         },
         {
          "emb": [
           -1.1093767881393433,
           -1.0533367395401,
           0.8739474415779114,
           1.8107104301452637,
           -0.6725078225135803,
           0.4703286588191986,
           1.5769684314727783,
           -1.879340410232544,
           -1.256524682044983,
           -0.10642274469137192
          ],
          "id": 368,
          "words": "construídos",
          "x": 0.6045911312103271,
          "y": 0.15165705978870392
         },
         {
          "emb": [
           -2.3916208744049072,
           0.5903202891349792,
           -0.7581920623779297,
           0.08990896493196487,
           -0.29704922437667847,
           -1.9138000011444092,
           0.4543609023094177,
           0.1301707923412323,
           0.011655613780021667,
           0.13136374950408936
          ],
          "id": 369,
          "words": "forçado",
          "x": -2.1673035621643066,
          "y": 1.1731735467910767
         },
         {
          "emb": [
           -0.2900939881801605,
           0.6894832253456116,
           -1.4629335403442383,
           0.41462457180023193,
           -0.4733337163925171,
           3.221410036087036,
           -0.09196282923221588,
           -0.41003283858299255,
           1.6174105405807495,
           0.7781652212142944
          ],
          "id": 370,
          "words": "projetos",
          "x": -0.10526168346405029,
          "y": -1.5364350080490112
         },
         {
          "emb": [
           -0.5845848917961121,
           -0.021878955885767937,
           -0.4101911187171936,
           0.4266122281551361,
           0.4759373962879181,
           0.9963294863700867,
           -0.1609685719013214,
           -0.5852063298225403,
           0.12464673817157745,
           0.5785894989967346
          ],
          "id": 371,
          "words": "cientista",
          "x": -0.3257286250591278,
          "y": -0.7030053734779358
         },
         {
          "emb": [
           -0.5021246075630188,
           0.01983233354985714,
           -0.23905803263187408,
           0.0829736515879631,
           1.0751103162765503,
           0.4681883752346039,
           0.8306680917739868,
           0.19813507795333862,
           0.9378511905670166,
           -1.0049293041229248
          ],
          "id": 372,
          "words": "computacionais",
          "x": -0.0069311438128352165,
          "y": 0.5628881454467773
         },
         {
          "emb": [
           0.08938726782798767,
           -0.16713003814220428,
           -0.7893722057342529,
           -1.1077001094818115,
           -0.22885626554489136,
           0.0012019384885206819,
           -0.27923861145973206,
           -0.599673330783844,
           -0.18321380019187927,
           -0.04825233295559883
          ],
          "id": 373,
          "words": "pedido",
          "x": -0.6343293786048889,
          "y": -0.653518795967102
         },
         {
          "emb": [
           0.020440327003598213,
           0.8455626964569092,
           0.3539372980594635,
           -0.02683291956782341,
           0.12571661174297333,
           0.48798495531082153,
           -0.25929874181747437,
           -1.6323062181472778,
           -0.6195957660675049,
           1.1662087440490723
          ],
          "id": 374,
          "words": "autor",
          "x": 0.3970501124858856,
          "y": -1.5867750644683838
         },
         {
          "emb": [
           -1.877120018005371,
           1.1836841106414795,
           1.0860306024551392,
           0.48207738995552063,
           -0.7514352202415466,
           -1.1186374425888062,
           0.5242354869842529,
           -1.818666696548462,
           -0.09324607253074646,
           0.20758534967899323
          ],
          "id": 375,
          "words": "julgado",
          "x": -0.2917090058326721,
          "y": 0.24450470507144928
         },
         {
          "emb": [
           0.9344832301139832,
           -0.43196386098861694,
           1.5424538850784302,
           -1.0830777883529663,
           1.4083136320114136,
           1.8695390224456787,
           0.219064861536026,
           0.2783951461315155,
           -0.2409311980009079,
           1.9090893268585205
          ],
          "id": 376,
          "words": "oficiais",
          "x": 1.8278459310531616,
          "y": -2.241314649581909
         },
         {
          "emb": [
           -0.2546629011631012,
           -0.33371227979660034,
           -0.552672266960144,
           -0.22708024084568024,
           -0.6548300385475159,
           -2.0397722721099854,
           -0.949982225894928,
           1.6258286237716675,
           0.4965380132198334,
           -0.2722308933734894
          ],
          "id": 377,
          "words": "dois",
          "x": -1.3922017812728882,
          "y": 1.61072838306427
         },
         {
          "emb": [
           -0.10482274740934372,
           -0.8895618915557861,
           1.7967807054519653,
           -0.057097114622592926,
           0.3842858076095581,
           -0.7891666889190674,
           -0.3958909213542938,
           -0.6712870597839355,
           0.6970893740653992,
           -0.7284597158432007
          ],
          "id": 378,
          "words": "assinaturas",
          "x": 0.6158965826034546,
          "y": 0.5717300176620483
         },
         {
          "emb": [
           -2.064802885055542,
           0.14285767078399658,
           -1.3345272541046143,
           -0.08792675286531448,
           0.838172197341919,
           -1.1164636611938477,
           -0.5413497686386108,
           -0.32090088725090027,
           1.4327162504196167,
           1.201033592224121
          ],
          "id": 379,
          "words": "envenenamento",
          "x": -2.8336644172668457,
          "y": -0.38861891627311707
         },
         {
          "emb": [
           0.3710784614086151,
           0.40363073348999023,
           0.2892344295978546,
           -0.4861548840999603,
           1.0028516054153442,
           0.08016844093799591,
           0.7993316054344177,
           0.11048730462789536,
           0.773656964302063,
           -0.4333467185497284
          ],
          "id": 380,
          "words": "east",
          "x": 0.6170977354049683,
          "y": -0.10808373987674713
         },
         {
          "emb": [
           -0.8441064953804016,
           0.622020423412323,
           2.1319103240966797,
           1.477222204208374,
           0.18902002274990082,
           0.46042734384536743,
           -0.4117678701877594,
           1.137052059173584,
           0.5187478065490723,
           0.5440269112586975
          ],
          "id": 381,
          "words": "automático",
          "x": 1.3157227039337158,
          "y": 1.0897032022476196
         },
         {
          "emb": [
           0.5894238948822021,
           2.4080886840820312,
           0.3474569618701935,
           1.8198961019515991,
           -0.12061576545238495,
           0.4313005208969116,
           0.9953927397727966,
           0.03901486098766327,
           -0.5895013809204102,
           0.3381303548812866
          ],
          "id": 382,
          "words": "madras",
          "x": 1.6630830764770508,
          "y": 0.20891211926937103
         },
         {
          "emb": [
           1.9501657485961914,
           0.6935814023017883,
           -1.444371223449707,
           -1.5719698667526245,
           1.078073263168335,
           -0.6095468997955322,
           -1.082289695739746,
           -0.4873267412185669,
           -0.8267384171485901,
           1.6962686777114868
          ],
          "id": 383,
          "words": "início",
          "x": -0.5813959836959839,
          "y": -2.4521701335906982
         },
         {
          "emb": [
           -1.2312103509902954,
           0.24385954439640045,
           0.8228113055229187,
           0.5334974527359009,
           0.20445632934570312,
           0.5035837292671204,
           -0.8076679110527039,
           0.12083384394645691,
           0.42096146941185,
           -0.4325559437274933
          ],
          "id": 384,
          "words": "condados",
          "x": 0.08980058878660202,
          "y": 0.899700939655304
         },
         {
          "emb": [
           -1.7290964126586914,
           1.656638264656067,
           -0.3494333326816559,
           0.7778741717338562,
           -0.677405595779419,
           1.9611849784851074,
           0.14218845963478088,
           0.46716082096099854,
           1.2093287706375122,
           0.3594972491264343
          ],
          "id": 385,
          "words": "crescer",
          "x": -0.08663224428892136,
          "y": 0.2416141778230667
         },
         {
          "emb": [
           0.9983358979225159,
           -0.5135644674301147,
           1.5335674285888672,
           -0.7113630175590515,
           -0.48365816473960876,
           -1.4373047351837158,
           -0.5738565921783447,
           1.0609976053237915,
           1.3270065784454346,
           -1.376243233680725
          ],
          "id": 386,
          "words": "desculpa",
          "x": 0.903289794921875,
          "y": 1.5474520921707153
         },
         {
          "emb": [
           -0.4922238290309906,
           -2.7714779376983643,
           1.9140398502349854,
           -1.3492330312728882,
           -0.3823798894882202,
           0.33659231662750244,
           1.0305368900299072,
           -1.093070149421692,
           -0.6691542267799377,
           -0.8360340595245361
          ],
          "id": 387,
          "words": "game",
          "x": 0.8854207396507263,
          "y": -0.0981299951672554
         },
         {
          "emb": [
           -0.5896089673042297,
           0.36757826805114746,
           0.29063093662261963,
           0.345723420381546,
           -1.2306300401687622,
           0.34813448786735535,
           0.4322938919067383,
           0.5090115070343018,
           0.6804226040840149,
           1.307740330696106
          ],
          "id": 388,
          "words": "exame",
          "x": 0.05209262669086456,
          "y": -0.2643222212791443
         },
         {
          "emb": [
           0.16016067564487457,
           -1.3818635940551758,
           1.9649635553359985,
           0.43977171182632446,
           0.9695460796356201,
           -0.11856265366077423,
           1.361023187637329,
           -0.09223543852567673,
           0.9563583731651306,
           2.376315116882324
          ],
          "id": 389,
          "words": "stoneys",
          "x": 0.9444034099578857,
          "y": -1.530908465385437
         },
         {
          "emb": [
           -0.6578561067581177,
           0.3417929708957672,
           0.7517032027244568,
           0.1571408361196518,
           0.3042260408401489,
           -0.9261163473129272,
           0.5227254033088684,
           -0.21625474095344543,
           1.6875030994415283,
           -0.24117881059646606
          ],
          "id": 390,
          "words": "criminal",
          "x": -0.12485520541667938,
          "y": 0.4990202486515045
         },
         {
          "emb": [
           -1.1893035173416138,
           0.627745509147644,
           0.9502273201942444,
           1.039600133895874,
           -0.9114310145378113,
           -0.12403158098459244,
           -0.5135477185249329,
           -2.0174102783203125,
           0.8900023698806763,
           1.3454883098602295
          ],
          "id": 391,
          "words": "alex",
          "x": -0.26365625858306885,
          "y": -0.8918960094451904
         },
         {
          "emb": [
           0.3940991163253784,
           -0.014385863207280636,
           -0.01320777926594019,
           1.831246018409729,
           -1.1364659070968628,
           1.0875520706176758,
           0.5773870348930359,
           1.1691020727157593,
           1.2793399095535278,
           -0.5237576365470886
          ],
          "id": 392,
          "words": "dia",
          "x": 0.9427960515022278,
          "y": 1.1906640529632568
         },
         {
          "emb": [
           -0.7930808663368225,
           1.6858808994293213,
           0.21418209373950958,
           0.5067126154899597,
           0.09854571521282196,
           -1.731298804283142,
           0.3249705731868744,
           -1.3363189697265625,
           -0.5043413043022156,
           1.4832228422164917
          ],
          "id": 393,
          "words": "cinebiografias",
          "x": -0.6126592755317688,
          "y": -0.698395311832428
         },
         {
          "emb": [
           0.9648321270942688,
           -1.919973611831665,
           0.2820623517036438,
           -1.0436427593231201,
           1.5133686065673828,
           -0.5673267245292664,
           -0.1087624803185463,
           -0.803683876991272,
           0.6717736124992371,
           2.1650335788726807
          ],
          "id": 394,
          "words": "telefilme",
          "x": -0.4972613751888275,
          "y": -2.512948513031006
         },
         {
          "emb": [
           0.8707888722419739,
           1.8876574039459229,
           1.0776690244674683,
           -0.9500833749771118,
           0.07076723873615265,
           -0.2717868983745575,
           -0.3014654517173767,
           1.3688890933990479,
           0.37572041153907776,
           -0.2535051703453064
          ],
          "id": 395,
          "words": "computabilidade",
          "x": 1.4478272199630737,
          "y": 0.5300900936126709
         },
         {
          "emb": [
           -0.5781456828117371,
           -0.13666647672653198,
           -0.4396842420101166,
           -1.1387196779251099,
           0.9487447738647461,
           1.8150216341018677,
           -0.12703639268875122,
           -0.8585852384567261,
           -0.07982379198074341,
           -0.043748363852500916
          ],
          "id": 396,
          "words": "trabalho",
          "x": -0.11805616319179535,
          "y": -1.2180485725402832
         },
         {
          "emb": [
           -1.050323247909546,
           0.7308375239372253,
           -0.32971319556236267,
           0.5994885563850403,
           0.22018447518348694,
           -0.49651259183883667,
           -1.0467063188552856,
           0.723893404006958,
           0.236364483833313,
           0.8495726585388184
          ],
          "id": 397,
          "words": "público",
          "x": -1.0336123704910278,
          "y": 0.4572005271911621
         },
         {
          "emb": [
           -0.8248249292373657,
           -0.4461924135684967,
           0.0309091005474329,
           1.8324666023254395,
           -0.6772995591163635,
           -0.5284246206283569,
           0.3928249478340149,
           -0.22142402827739716,
           -1.5902471542358398,
           0.6799250841140747
          ],
          "id": 398,
          "words": "gordon",
          "x": -0.2768220007419586,
          "y": 0.6320455074310303
         },
         {
          "emb": [
           -0.5557210445404053,
           0.13562113046646118,
           0.7276560664176941,
           0.3306962847709656,
           -0.4453792870044708,
           -0.41776522994041443,
           -0.8728191256523132,
           -0.1668792963027954,
           0.8469910621643066,
           -0.4891415238380432
          ],
          "id": 399,
          "words": "rápido",
          "x": -0.057899776846170425,
          "y": 0.8320392370223999
         },
         {
          "emb": [
           0.5080625414848328,
           0.826285719871521,
           -0.6262267231941223,
           0.49627622961997986,
           -1.6406222581863403,
           1.262077808380127,
           -0.5794866681098938,
           0.3866869807243347,
           -1.420856237411499,
           -0.7083092927932739
          ],
          "id": 400,
          "words": "realidade",
          "x": 0.8041467666625977,
          "y": 0.6715351343154907
         },
         {
          "emb": [
           1.0441356897354126,
           1.083713412284851,
           -1.0987547636032104,
           -1.988759160041809,
           1.8884308338165283,
           -1.4712028503417969,
           -0.18017904460430145,
           -1.6224669218063354,
           0.13446620106697083,
           -1.243595004081726
          ],
          "id": 401,
          "words": "homossexuais",
          "x": -0.668366014957428,
          "y": -0.8625714778900146
         },
         {
          "emb": [
           1.1053658723831177,
           1.5480079650878906,
           -0.5840542912483215,
           -0.1713179498910904,
           -1.5878573656082153,
           0.1504768282175064,
           -2.146085739135742,
           0.6927316784858704,
           0.7841269373893738,
           -2.441931962966919
          ],
          "id": 402,
          "words": "acidental",
          "x": 0.48518696427345276,
          "y": 1.8627591133117676
         },
         {
          "emb": [
           1.1470869779586792,
           0.903584361076355,
           -0.581875205039978,
           0.10171114653348923,
           1.0300284624099731,
           0.3127339780330658,
           0.3016110956668854,
           1.059304118156433,
           1.3478374481201172,
           1.0313453674316406
          ],
          "id": 403,
          "words": "humilhado",
          "x": 0.3266189694404602,
          "y": -0.832253098487854
         },
         {
          "emb": [
           1.2218183279037476,
           1.7776440382003784,
           2.1507129669189453,
           -1.3884118795394897,
           -1.1848480701446533,
           0.1974789798259735,
           0.09609460830688477,
           0.18499653041362762,
           0.23394691944122314,
           -0.45900943875312805
          ],
          "id": 404,
          "words": "cena",
          "x": 2.5636608600616455,
          "y": 0.003356603439897299
         },
         {
          "emb": [
           0.9479063153266907,
           -1.6682837009429932,
           -2.656322956085205,
           0.9929423928260803,
           -0.8072625994682312,
           -0.1433274745941162,
           -0.3717443346977234,
           -1.8815386295318604,
           0.8277482390403748,
           0.7938801646232605
          ],
          "id": 405,
          "words": "avô",
          "x": -1.970632553100586,
          "y": -1.5951284170150757
         },
         {
          "emb": [
           -0.042966078966856,
           -0.967792809009552,
           -0.5326371788978577,
           1.3570886850357056,
           0.597067654132843,
           1.7241483926773071,
           -1.0140750408172607,
           -1.1899917125701904,
           0.5400879979133606,
           -0.10110741853713989
          ],
          "id": 406,
          "words": "criado",
          "x": -0.15539608895778656,
          "y": -0.5957278609275818
         },
         {
          "emb": [
           1.5232627391815186,
           0.05852473899722099,
           -1.037374496459961,
           0.21698427200317383,
           0.6326755285263062,
           -1.359317660331726,
           0.227427139878273,
           1.0508966445922852,
           -0.05442830175161362,
           -0.18890772759914398
          ],
          "id": 407,
          "words": "elaboradas",
          "x": -0.1961122304201126,
          "y": 0.44315454363822937
         },
         {
          "emb": [
           -0.9014248251914978,
           0.042013123631477356,
           0.016196556389331818,
           0.3398497998714447,
           1.1014785766601562,
           -0.13331778347492218,
           0.01426554936915636,
           0.9873170256614685,
           1.3345218896865845,
           -0.1258699744939804
          ],
          "id": 408,
          "words": "afirmativo",
          "x": -0.5404481291770935,
          "y": 0.7812021970748901
         },
         {
          "emb": [
           1.4413508176803589,
           -1.8677433729171753,
           0.5098282694816589,
           -0.09259336441755295,
           1.166825771331787,
           1.5116630792617798,
           -2.0375051498413086,
           -0.1744755357503891,
           0.6466119885444641,
           -1.7810884714126587
          ],
          "id": 409,
          "words": "montada",
          "x": 0.9842773079872131,
          "y": 0.2803615927696228
         },
         {
          "emb": [
           0.9044374227523804,
           0.8103589415550232,
           0.6311599016189575,
           0.37980037927627563,
           0.15184015035629272,
           -0.39986637234687805,
           1.2245179414749146,
           -1.307346224784851,
           -0.7805295586585999,
           0.5362587571144104
          ],
          "id": 410,
          "words": "ginecomastia",
          "x": 1.2038482427597046,
          "y": -0.9534669518470764
         },
         {
          "emb": [
           1.726515531539917,
           -0.10471261292695999,
           0.695974588394165,
           -0.4636472761631012,
           -1.4246444702148438,
           -0.6011568903923035,
           0.18552015721797943,
           0.07014896720647812,
           -1.614280343055725,
           1.678096890449524
          ],
          "id": 411,
          "words": "braço",
          "x": 1.1789207458496094,
          "y": -1.175589919090271
         },
         {
          "emb": [
           -0.7322602868080139,
           -1.7630776166915894,
           -0.42896661162376404,
           -0.6826744079589844,
           0.41817647218704224,
           2.5443224906921387,
           1.9443538188934326,
           -0.9745275974273682,
           0.7171539068222046,
           -0.5121050477027893
          ],
          "id": 412,
          "words": "duzentas",
          "x": 0.19158850610256195,
          "y": -1.1075347661972046
         },
         {
          "emb": [
           -2.1376380920410156,
           0.5962586402893066,
           -2.1648881435394287,
           1.290213942527771,
           0.6387823820114136,
           -2.1139283180236816,
           0.23569586873054504,
           -0.2503202259540558,
           -0.637162446975708,
           0.8091055154800415
          ],
          "id": 413,
          "words": "equipe",
          "x": -3.066906213760376,
          "y": 0.6638475060462952
         },
         {
          "emb": [
           -0.6793174743652344,
           -0.7039147019386292,
           1.824210524559021,
           1.8109407424926758,
           -0.6174178719520569,
           0.722730278968811,
           1.4104613065719604,
           1.6276594400405884,
           -2.581235408782959,
           1.2457971572875977
          ],
          "id": 414,
          "words": "alegre",
          "x": 1.7833975553512573,
          "y": 0.976259171962738
         },
         {
          "emb": [
           0.34796565771102905,
           1.01840341091156,
           1.7102205753326416,
           -0.2596123218536377,
           2.0038535594940186,
           1.1496511697769165,
           -0.45195698738098145,
           -0.31519147753715515,
           2.2799646854400635,
           0.8837525248527527
          ],
          "id": 415,
          "words": "feitos",
          "x": 1.3849095106124878,
          "y": -1.362453818321228
         },
         {
          "emb": [
           0.5567886233329773,
           0.428090900182724,
           2.726987600326538,
           -1.320164680480957,
           -0.28793492913246155,
           0.015665125101804733,
           -0.07637707889080048,
           -0.2883065938949585,
           -0.7543463706970215,
           0.04407939687371254
          ],
          "id": 416,
          "words": "bihar",
          "x": 2.226956367492676,
          "y": -0.2896045744419098
         },
         {
          "emb": [
           -1.3592641353607178,
           -0.10882467776536942,
           1.479154109954834,
           -0.5606032013893127,
           -0.5571503043174744,
           -1.1001008749008179,
           -0.22037316858768463,
           0.7091294527053833,
           -0.4223061501979828,
           -0.4128480851650238
          ],
          "id": 417,
          "words": "especula",
          "x": 0.00789684895426035,
          "y": 1.4725396633148193
         },
         {
          "emb": [
           -0.34389838576316833,
           -0.25983381271362305,
           -1.1727491617202759,
           -0.8482266664505005,
           -0.3644704818725586,
           -0.3205011487007141,
           0.6077786087989807,
           -0.2682100534439087,
           -0.08135687559843063,
           0.7741040587425232
          ],
          "id": 418,
          "words": "vindas",
          "x": -1.1525298357009888,
          "y": -0.8472873568534851
         },
         {
          "emb": [
           -2.0107321739196777,
           -1.7214642763137817,
           -0.5476787090301514,
           -0.5365465879440308,
           0.20439326763153076,
           1.347679853439331,
           -0.17472270131111145,
           -0.1886173039674759,
           0.228123739361763,
           -1.489072561264038
          ],
          "id": 419,
          "words": "hoje",
          "x": -1.1482852697372437,
          "y": 0.8714361786842346
         },
         {
          "emb": [
           0.45019596815109253,
           -1.3696866035461426,
           1.1216905117034912,
           0.6827470660209656,
           -0.3832038938999176,
           0.5298004150390625,
           0.10979270935058594,
           -1.1549208164215088,
           1.3354862928390503,
           0.37569040060043335
          ],
          "id": 420,
          "words": "técnicas",
          "x": 0.7413462996482849,
          "y": -0.7411428093910217
         },
         {
          "emb": [
           -0.9285401105880737,
           1.2706763744354248,
           -1.8735488653182983,
           -0.2896346151828766,
           1.638701319694519,
           -1.2248237133026123,
           -0.14887665212154388,
           1.2742012739181519,
           -0.4088495075702667,
           0.06655614078044891
          ],
          "id": 421,
          "words": "bombe",
          "x": -1.8638523817062378,
          "y": 0.7131805419921875
         },
         {
          "emb": [
           -0.49486032128334045,
           0.42722252011299133,
           0.4315018653869629,
           0.5221152901649475,
           0.904539942741394,
           -0.8849874138832092,
           1.3807750940322876,
           0.22196611762046814,
           -0.8198607563972473,
           -0.706356406211853
          ],
          "id": 422,
          "words": "caso",
          "x": 0.3978813886642456,
          "y": 1.0703214406967163
         },
         {
          "emb": [
           0.377411812543869,
           1.3122247457504272,
           -0.07723988592624664,
           -0.5085159540176392,
           0.1263735145330429,
           1.7811169624328613,
           -0.8461530804634094,
           -1.2442797422409058,
           0.37196865677833557,
           1.0659440755844116
          ],
          "id": 423,
          "words": "jovem",
          "x": 0.5940139889717102,
          "y": -2.0128517150878906
         },
         {
          "emb": [
           -0.5796471834182739,
           0.9344262480735779,
           -2.6203465461730957,
           -0.14236854016780853,
           0.10235730558633804,
           -1.800071358680725,
           -1.0598167181015015,
           -1.3625742197036743,
           0.6915400624275208,
           0.018374841660261154
          ],
          "id": 424,
          "words": "veemência",
          "x": -2.9002323150634766,
          "y": -0.3357865512371063
         },
         {
          "emb": [
           -0.2327342927455902,
           0.8525370955467224,
           -1.641297459602356,
           0.1496131271123886,
           -0.12923717498779297,
           -0.9586418271064758,
           0.4885839819908142,
           0.07889817655086517,
           0.3136255145072937,
           0.2653437852859497
          ],
          "id": 425,
          "words": "sido",
          "x": -1.3045588731765747,
          "y": 0.03992733359336853
         },
         {
          "emb": [
           0.5988467335700989,
           0.3102913498878479,
           -0.862477719783783,
           1.2740155458450317,
           0.9682871699333191,
           1.1891977787017822,
           1.5484391450881958,
           1.0198860168457031,
           -1.3548356294631958,
           0.4296923875808716
          ],
          "id": 426,
          "words": "lgbt",
          "x": 0.8614621162414551,
          "y": -0.07998516410589218
         },
         {
          "emb": [
           0.8810178637504578,
           -1.1535333395004272,
           2.729170560836792,
           -0.10718624293804169,
           -1.0500011444091797,
           -1.728324055671692,
           -0.47142910957336426,
           0.6073747873306274,
           -0.273396372795105,
           0.05475107952952385
          ],
          "id": 427,
          "words": "determinou",
          "x": 1.4743589162826538,
          "y": 0.9956408143043518
         },
         {
          "emb": [
           0.4436866343021393,
           0.6453503966331482,
           -1.2017570734024048,
           0.3734155297279358,
           -0.06902425736188889,
           -0.31957411766052246,
           0.9510228633880615,
           0.6206068992614746,
           1.28432297706604,
           0.2241639941930771
          ],
          "id": 428,
          "words": "equipamento",
          "x": -0.4393885135650635,
          "y": -0.014254589565098286
         },
         {
          "emb": [
           0.15245623886585236,
           -0.33607494831085205,
           1.4595260620117188,
           -1.4779253005981445,
           0.26763999462127686,
           0.6344516277313232,
           -0.5127322673797607,
           -1.1761877536773682,
           1.6826884746551514,
           0.804275393486023
          ],
          "id": 429,
          "words": "sofrera",
          "x": 0.6095055341720581,
          "y": -1.7088165283203125
         },
         {
          "emb": [
           -0.19339200854301453,
           0.5000033974647522,
           -0.588042676448822,
           -1.3992276191711426,
           -0.5789662003517151,
           0.16621629893779755,
           0.3022838830947876,
           -1.136252760887146,
           1.5863218307495117,
           1.5588948726654053
          ],
          "id": 430,
          "words": "intelligence",
          "x": -0.840891420841217,
          "y": -2.129439115524292
         },
         {
          "emb": [
           0.16956384479999542,
           -0.6436606645584106,
           0.7826263308525085,
           -0.06876075267791748,
           -0.421501487493515,
           -0.4029458165168762,
           0.5150793790817261,
           0.3183997869491577,
           0.9009902477264404,
           -1.256223440170288
          ],
          "id": 431,
          "words": "programa",
          "x": 0.5937684178352356,
          "y": 1.12694251537323
         },
         {
          "emb": [
           -1.2022470235824585,
           -0.8300300240516663,
           1.6671713590621948,
           -0.496807336807251,
           -0.8543354868888855,
           1.136552095413208,
           0.14907468855381012,
           0.9832144975662231,
           0.19237098097801208,
           -0.25387200713157654
          ],
          "id": 432,
          "words": "ser",
          "x": 0.879146933555603,
          "y": 0.862768828868866
         },
         {
          "emb": [
           -0.48434919118881226,
           -0.4953271150588989,
           -0.3981940448284149,
           1.2595443725585938,
           -0.1865384727716446,
           -0.7634475231170654,
           0.809295117855072,
           -0.40147727727890015,
           -0.34413576126098633,
           1.6033121347427368
          ],
          "id": 433,
          "words": "pai",
          "x": -0.7776108384132385,
          "y": -0.535639762878418
         },
         {
          "emb": [
           -1.127016544342041,
           -1.3097275495529175,
           0.05458454042673111,
           -0.9110305309295654,
           -0.23132997751235962,
           -1.3561991453170776,
           -0.38669613003730774,
           -1.9685730934143066,
           2.106586456298828,
           2.4509921073913574
          ],
          "id": 434,
          "words": "cambridge",
          "x": -2.1848978996276855,
          "y": -2.266735315322876
         },
         {
          "emb": [
           0.1861494928598404,
           0.34610608220100403,
           -2.0892796516418457,
           -1.139965295791626,
           -0.5057626366615295,
           0.8260840177536011,
           -1.171420931816101,
           -0.9832966327667236,
           -0.9269337058067322,
           0.23155921697616577
          ],
          "id": 435,
          "words": "desenvolveu",
          "x": -1.2135568857192993,
          "y": -1.2965357303619385
         },
         {
          "emb": [
           -0.21614953875541687,
           0.06006217747926712,
           -0.536059558391571,
           -0.9728356599807739,
           -0.7485207915306091,
           0.11144144088029861,
           -1.1803324222564697,
           -1.3129479885101318,
           0.7759100198745728,
           0.7497450709342957
          ],
          "id": 436,
          "words": "plausível",
          "x": -0.986435055732727,
          "y": -1.326127052307129
         },
         {
          "emb": [
           0.6044463515281677,
           -0.47502344846725464,
           -1.7126905918121338,
           -0.136638805270195,
           -0.2148393988609314,
           -0.3364432752132416,
           -0.892204761505127,
           0.42832884192466736,
           -0.17539629340171814,
           0.7617237567901611
          ],
          "id": 437,
          "words": "favorito",
          "x": -1.282971739768982,
          "y": -0.5131255984306335
         },
         {
          "emb": [
           0.6432567238807678,
           0.10490479320287704,
           -2.4498679637908936,
           0.4743248522281647,
           -0.3000231087207794,
           -0.61622154712677,
           1.3438900709152222,
           0.4243367612361908,
           -0.23732271790504456,
           -0.9723454117774963
          ],
          "id": 438,
          "words": "pediu",
          "x": -0.9360851645469666,
          "y": 0.6867696642875671
         },
         {
          "emb": [
           1.313638687133789,
           0.6759923696517944,
           0.49912020564079285,
           0.5803457498550415,
           -0.5935066342353821,
           1.4455331563949585,
           -0.8724263310432434,
           0.6186423897743225,
           0.3526190519332886,
           0.42166924476623535
          ],
          "id": 439,
          "words": "computadores",
          "x": 1.5436896085739136,
          "y": -0.3272349536418915
         },
         {
          "emb": [
           0.3462132215499878,
           -0.37018883228302,
           0.04006364941596985,
           0.2879278063774109,
           0.5365062355995178,
           -0.580639123916626,
           -0.7617697715759277,
           0.13213132321834564,
           -0.16568683087825775,
           0.564950168132782
          ],
          "id": 440,
          "words": "knew",
          "x": -0.24093559384346008,
          "y": -0.13193392753601074
         },
         {
          "emb": [
           0.7442293167114258,
           0.5600863695144653,
           0.6471403241157532,
           0.4599904417991638,
           -1.3358025550842285,
           1.1994794607162476,
           0.9415958523750305,
           -0.3462282717227936,
           -0.11603301763534546,
           -0.575400173664093
          ],
          "id": 441,
          "words": "descuidado",
          "x": 1.7884935140609741,
          "y": 0.08327299356460571
         },
         {
          "emb": [
           -1.0630865097045898,
           -0.1920541375875473,
           -0.4450630843639374,
           -2.112227439880371,
           -0.5550638437271118,
           0.3821234107017517,
           -0.9825981259346008,
           -0.8088328838348389,
           1.9625009298324585,
           -1.8328152894973755
          ],
          "id": 442,
          "words": "referências",
          "x": -1.122048258781433,
          "y": 0.3399116098880768
         },
         {
          "emb": [
           -1.7646970748901367,
           -1.229247808456421,
           0.04081183671951294,
           0.05974270775914192,
           -0.43271687626838684,
           -0.9667323231697083,
           -0.06989114731550217,
           -0.9615956544876099,
           -1.5238431692123413,
           -0.508491575717926
          ],
          "id": 443,
          "words": "morte",
          "x": -1.2233830690383911,
          "y": 0.8583104014396667
         },
         {
          "emb": [
           1.2320101261138916,
           0.5900686383247375,
           -0.6875326037406921,
           0.08275774866342545,
           0.2395748645067215,
           0.6257041096687317,
           -2.1606051921844482,
           -0.5509163737297058,
           -1.105579137802124,
           -1.5158040523529053
          ],
          "id": 444,
          "words": "manipular",
          "x": 0.44562941789627075,
          "y": 0.4058040380477905
         },
         {
          "emb": [
           0.0703689381480217,
           -1.5489411354064941,
           -1.9018943309783936,
           1.0851285457611084,
           0.5367833375930786,
           -0.6798068284988403,
           -0.7043829560279846,
           -1.2890117168426514,
           -0.6092740297317505,
           -0.31293848156929016
          ],
          "id": 445,
          "words": "feito",
          "x": -1.795832872390747,
          "y": -0.09989289194345474
         },
         {
          "emb": [
           -0.8366337418556213,
           -0.057406820356845856,
           -2.0286293029785156,
           -2.041109561920166,
           -0.2952970564365387,
           1.474503517150879,
           -0.28036826848983765,
           -0.08037589490413666,
           1.7207231521606445,
           0.796028733253479
          ],
          "id": 446,
          "words": "projeção",
          "x": -1.8253895044326782,
          "y": -1.674938440322876
         },
         {
          "emb": [
           -0.24434611201286316,
           -0.010972538031637669,
           1.0825973749160767,
           0.5491275787353516,
           -0.6824746131896973,
           -0.30732691287994385,
           1.4717284440994263,
           -0.28038549423217773,
           -0.20694519579410553,
           -0.16516444087028503
          ],
          "id": 447,
          "words": "produtos",
          "x": 0.9641037583351135,
          "y": 0.48839423060417175
         },
         {
          "emb": [
           0.26467567682266235,
           0.06698890030384064,
           0.049608904868364334,
           -0.7993666529655457,
           0.45253294706344604,
           0.023227721452713013,
           -1.1419047117233276,
           1.1590907573699951,
           0.26424509286880493,
           -0.8367649912834167
          ],
          "id": 448,
          "words": "modern",
          "x": 0.07245185971260071,
          "y": 0.8281710743904114
         },
         {
          "emb": [
           0.9476314187049866,
           0.39215728640556335,
           -0.4730372726917267,
           0.6947537660598755,
           0.302824467420578,
           0.9232712984085083,
           2.2413723468780518,
           1.9291819334030151,
           -0.07068971544504166,
           -0.28548404574394226
          ],
          "id": 449,
          "words": "mit",
          "x": 1.3385295867919922,
          "y": 0.6280534863471985
         },
         {
          "emb": [
           0.8581922650337219,
           1.9383832216262817,
           1.0388785600662231,
           -0.44814997911453247,
           0.015905294567346573,
           1.0370311737060547,
           -0.3203904926776886,
           0.33719387650489807,
           -1.1376185417175293,
           -0.006166381295770407
          ],
          "id": 450,
          "words": "focado",
          "x": 2.0389041900634766,
          "y": -0.2157067209482193
         },
         {
          "emb": [
           -0.885369598865509,
           0.6986175775527954,
           -0.28373900055885315,
           0.7934969663619995,
           -0.003422502661123872,
           -0.49497708678245544,
           -0.6338097453117371,
           -0.6630905270576477,
           -1.4637782573699951,
           -0.7252752184867859
          ],
          "id": 451,
          "words": "femininos",
          "x": -0.436847448348999,
          "y": 0.9730933308601379
         },
         {
          "emb": [
           1.301804780960083,
           0.54110187292099,
           0.692371666431427,
           0.1522311568260193,
           -1.2545971870422363,
           -0.06175752356648445,
           0.8739007115364075,
           1.0114706754684448,
           0.3403109908103943,
           2.1841864585876465
          ],
          "id": 452,
          "words": "maida",
          "x": 1.2123048305511475,
          "y": -1.0657644271850586
         },
         {
          "emb": [
           -1.649497151374817,
           -1.2126046419143677,
           -1.4271013736724854,
           -0.1984032243490219,
           -0.12734368443489075,
           -0.15695418417453766,
           -0.9080577492713928,
           1.3286821842193604,
           -1.6373132467269897,
           -0.4885999262332916
          ],
          "id": 453,
          "words": "quartel",
          "x": -1.9231946468353271,
          "y": 1.464752197265625
         },
         {
          "emb": [
           0.07099246978759766,
           0.6474263668060303,
           -0.6026554107666016,
           1.6248114109039307,
           0.038083627820014954,
           0.7956023812294006,
           -0.1708715260028839,
           -0.7351518273353577,
           -1.1249531507492065,
           -1.9669078588485718
          ],
          "id": 454,
          "words": "ed",
          "x": 0.6083674430847168,
          "y": 1.3217062950134277
         },
         {
          "emb": [
           0.2626120150089264,
           -0.5517200231552124,
           -0.6322450637817383,
           0.2866598069667816,
           0.12598153948783875,
           0.8098464608192444,
           0.17977571487426758,
           -1.7684681415557861,
           1.7536593675613403,
           0.48876866698265076
          ],
          "id": 455,
          "words": "planejou",
          "x": -0.41765597462654114,
          "y": -1.5813806056976318
         },
         {
          "emb": [
           -0.1721392571926117,
           0.59207683801651,
           0.39039701223373413,
           0.3937964141368866,
           -1.9193228483200073,
           -0.8607540130615234,
           1.9125068187713623,
           0.17740343511104584,
           -0.7944111824035645,
           0.312928169965744
          ],
          "id": 456,
          "words": "física",
          "x": 0.6107096076011658,
          "y": 0.561333179473877
         },
         {
          "emb": [
           -0.47483670711517334,
           0.24482114613056183,
           -0.05562374368309975,
           -0.8686655759811401,
           0.1156342476606369,
           0.12519121170043945,
           0.09364709258079529,
           -0.7439484596252441,
           -0.48146072030067444,
           1.4057193994522095
          ],
          "id": 457,
          "words": "alemã",
          "x": -0.39459991455078125,
          "y": -1.4456255435943604
         },
         {
          "emb": [
           0.10794000327587128,
           0.9032491445541382,
           0.7786330580711365,
           -1.0970414876937866,
           0.044818464666604996,
           -0.04814990982413292,
           -0.9170260429382324,
           0.15295566618442535,
           1.0610369443893433,
           -1.2799116373062134
          ],
          "id": 458,
          "words": "anterior",
          "x": 0.5699832439422607,
          "y": 0.6917742490768433
         },
         {
          "emb": [
           0.803187906742096,
           0.08736672252416611,
           0.43455860018730164,
           0.10588821768760681,
           1.2355245351791382,
           0.37412527203559875,
           0.7696561217308044,
           1.1367586851119995,
           0.15609276294708252,
           2.7411186695098877
          ],
          "id": 459,
          "words": "books",
          "x": 0.6861120462417603,
          "y": -1.7231274843215942
         },
         {
          "emb": [
           -0.389563649892807,
           0.2754945456981659,
           0.08498664945363998,
           1.5552687644958496,
           -1.0364222526550293,
           -0.8449971675872803,
           0.1284775286912918,
           0.5185320377349854,
           -1.1791521310806274,
           1.593600869178772
          ],
          "id": 460,
          "words": "alan",
          "x": -0.19393901526927948,
          "y": 0.30204758048057556
         },
         {
          "emb": [
           2.2830898761749268,
           0.5567345023155212,
           -2.3819899559020996,
           0.6208628416061401,
           1.215533971786499,
           -0.5328704714775085,
           0.8368574976921082,
           -0.4790983498096466,
           0.911689043045044,
           -0.747788667678833
          ],
          "id": 461,
          "words": "comissão",
          "x": -0.2981615662574768,
          "y": -0.5857266783714294
         },
         {
          "emb": [
           0.06790690869092941,
           1.6947886943817139,
           -0.15072382986545563,
           -0.6735707521438599,
           0.08357496559619904,
           0.886358380317688,
           -1.153488039970398,
           2.183499336242676,
           1.9326975345611572,
           0.5728551149368286
          ],
          "id": 462,
          "words": "polonesa",
          "x": 0.1424933522939682,
          "y": 0.18544621765613556
         },
         {
          "emb": [
           -1.0796256065368652,
           0.7298503518104553,
           -1.3154906034469604,
           -0.2476268708705902,
           -1.61290442943573,
           -0.7377451658248901,
           -1.5487114191055298,
           0.36718329787254333,
           0.21236169338226318,
           1.905953049659729
          ],
          "id": 463,
          "words": "lado",
          "x": -2.109865665435791,
          "y": -0.47331786155700684
         },
         {
          "emb": [
           -0.4936586320400238,
           1.2787964344024658,
           0.2900134027004242,
           2.3244340419769287,
           0.49231070280075073,
           -1.600629210472107,
           1.055054783821106,
           -1.7002696990966797,
           -0.13528312742710114,
           1.5645885467529297
          ],
          "id": 464,
          "words": "dezembro",
          "x": -0.2172427624464035,
          "y": -0.5743791460990906
         },
         {
          "emb": [
           -0.24078750610351562,
           0.07853171229362488,
           -0.5183694958686829,
           -0.753041684627533,
           0.21441532671451569,
           0.8039639592170715,
           -0.3716024160385132,
           1.3734962940216064,
           0.7484369874000549,
           0.24720503389835358
          ],
          "id": 465,
          "words": "quebrar",
          "x": -0.32599732279777527,
          "y": 0.031185047701001167
         },
         {
          "emb": [
           0.18574459850788116,
           1.3877209424972534,
           -0.3796251118183136,
           -0.7500894069671631,
           -0.5048552751541138,
           0.0309413131326437,
           1.2267122268676758,
           0.04132630676031113,
           -0.30213063955307007,
           0.9892732501029968
          ],
          "id": 466,
          "words": "consagração",
          "x": 0.29365891218185425,
          "y": -0.9451438188552856
         },
         {
          "emb": [
           0.7625705599784851,
           0.17341992259025574,
           0.6994584798812866,
           -0.40851476788520813,
           1.1318299770355225,
           2.4458134174346924,
           2.0211355686187744,
           -0.0980888083577156,
           -0.20368921756744385,
           -0.709505021572113
          ],
          "id": 467,
          "words": "ace",
          "x": 2.32426381111145,
          "y": -0.7385464906692505
         },
         {
          "emb": [
           -0.934430718421936,
           0.03302745893597603,
           0.2532227337360382,
           -0.8663660883903503,
           0.6829384565353394,
           -1.7667361497879028,
           0.5227968692779541,
           -0.8861821293830872,
           0.027224557474255562,
           -0.48305991291999817
          ],
          "id": 468,
          "words": "descoberto",
          "x": -0.8674190044403076,
          "y": 0.29130780696868896
         },
         {
          "emb": [
           0.3451114892959595,
           0.5205743312835693,
           0.8671069741249084,
           -0.905815839767456,
           -1.1079210042953491,
           0.49195268750190735,
           -0.6889543533325195,
           -0.26409584283828735,
           1.1415761709213257,
           1.1794178485870361
          ],
          "id": 469,
          "words": "vapores",
          "x": 0.5636725425720215,
          "y": -1.1730749607086182
         },
         {
          "emb": [
           -0.20103424787521362,
           -1.5897705554962158,
           -1.212605357170105,
           -1.0069257020950317,
           -0.5895260572433472,
           -0.7704676985740662,
           -1.3952988386154175,
           -1.043814778327942,
           0.014650585129857063,
           0.19531923532485962
          ],
          "id": 470,
          "words": "lógico",
          "x": -1.9573990106582642,
          "y": -0.6654220223426819
         },
         {
          "emb": [
           -0.11642470955848694,
           0.2823810577392578,
           1.3679097890853882,
           0.7985416650772095,
           -0.4241500794887543,
           -0.6643425226211548,
           -0.04353049397468567,
           -0.32799965143203735,
           -1.5430505275726318,
           0.1570928692817688
          ],
          "id": 471,
          "words": "biografia",
          "x": 0.9699686765670776,
          "y": 0.590988039970398
         },
         {
          "emb": [
           -1.948633074760437,
           0.37618643045425415,
           -0.8420141339302063,
           0.2927407920360565,
           0.305388480424881,
           -1.3160351514816284,
           0.46179676055908203,
           0.46030667424201965,
           0.7242491841316223,
           -0.25598499178886414
          ],
          "id": 472,
          "words": "vale",
          "x": -1.8373922109603882,
          "y": 1.2298916578292847
         },
         {
          "emb": [
           -0.05940017104148865,
           -0.13709816336631775,
           -0.28814244270324707,
           -0.1316809356212616,
           -0.4169926345348358,
           0.7606158256530762,
           -0.25398480892181396,
           -0.8784443736076355,
           -1.1665579080581665,
           -0.4903567135334015
          ],
          "id": 473,
          "words": "experiência",
          "x": 0.18711310625076294,
          "y": -0.176327183842659
         },
         {
          "emb": [
           -1.3138785362243652,
           0.48174118995666504,
           -0.33064034581184387,
           -0.4473452866077423,
           0.7558964490890503,
           0.37346163392066956,
           -0.6503463387489319,
           1.2825124263763428,
           0.8728258609771729,
           1.3163588047027588
          ],
          "id": 474,
          "words": "sara",
          "x": -1.0552195310592651,
          "y": -0.23472315073013306
         },
         {
          "emb": [
           -0.4506658613681793,
           -0.6997623443603516,
           -0.8879408240318298,
           -1.154294729232788,
           -1.121193289756775,
           0.5504418611526489,
           0.052414994686841965,
           -0.25380414724349976,
           1.1870354413986206,
           0.6435859799385071
          ],
          "id": 475,
          "words": "normalidade",
          "x": -1.0614076852798462,
          "y": -0.9674299955368042
         },
         {
          "emb": [
           1.8910667896270752,
           -0.07515452057123184,
           1.3958274126052856,
           1.0548404455184937,
           -0.9279643297195435,
           -0.5254016518592834,
           -0.0010119399521499872,
           -1.2865818738937378,
           -1.1036696434020996,
           -0.33030641078948975
          ],
          "id": 476,
          "words": "edward",
          "x": 2.007220983505249,
          "y": -0.049880336970090866
         },
         {
          "emb": [
           0.0956602618098259,
           0.7142603397369385,
           -0.6407798528671265,
           -0.8578786849975586,
           -1.0511162281036377,
           1.8933907747268677,
           1.1828166246414185,
           -0.223268523812294,
           -0.6215925812721252,
           -2.240105152130127
          ],
          "id": 477,
          "words": "embora",
          "x": 1.1089214086532593,
          "y": 0.6425157189369202
         },
         {
          "emb": [
           0.3133486211299896,
           0.8068429231643677,
           0.6886719465255737,
           0.7286945581436157,
           0.36725977063179016,
           1.0594425201416016,
           -2.0369460582733154,
           -0.5101630687713623,
           0.4323914051055908,
           0.5026285648345947
          ],
          "id": 478,
          "words": "cometido",
          "x": 0.6856663227081299,
          "y": -0.514563262462616
         },
         {
          "emb": [
           -0.16737020015716553,
           0.1477964073419571,
           -0.3187784254550934,
           -1.75968599319458,
           -1.5764998197555542,
           0.08944874256849289,
           -0.08653473854064941,
           -0.3943142592906952,
           -0.39959290623664856,
           -0.2809572219848633
          ],
          "id": 479,
          "words": "onde",
          "x": -0.25089067220687866,
          "y": -0.315462589263916
         },
         {
          "emb": [
           1.4954320192337036,
           -0.2511911988258362,
           0.9139984250068665,
           0.2462521195411682,
           -0.26946312189102173,
           -1.8788137435913086,
           -1.146195888519287,
           -0.6872715353965759,
           -1.7242218255996704,
           -0.3362045884132385
          ],
          "id": 480,
          "words": "filme",
          "x": 0.729565441608429,
          "y": 0.425521582365036
         },
         {
          "emb": [
           -0.5952138900756836,
           0.667305588722229,
           -0.9892672300338745,
           0.21304495632648468,
           -0.7882393598556519,
           0.7344309091567993,
           -1.0584518909454346,
           0.156312957406044,
           -0.26607373356819153,
           1.6538538932800293
          ],
          "id": 481,
          "words": "terem",
          "x": -0.9109289050102234,
          "y": -0.8645683526992798
         },
         {
          "emb": [
           1.2332983016967773,
           -0.7271799445152283,
           0.4753321409225464,
           -0.49913260340690613,
           0.5480296611785889,
           -0.07434076815843582,
           -1.7109510898590088,
           0.6847270727157593,
           0.106440968811512,
           -1.1478493213653564
          ],
          "id": 482,
          "words": "serviço",
          "x": 0.6006156206130981,
          "y": 0.7314722537994385
         },
         {
          "emb": [
           0.6058120727539062,
           0.40766701102256775,
           0.6828985810279846,
           1.0236752033233643,
           0.40249842405319214,
           1.827496886253357,
           -0.6509204506874084,
           2.5319201946258545,
           -0.5805264711380005,
           0.04878419265151024
          ],
          "id": 483,
          "words": "machine",
          "x": 1.736013412475586,
          "y": 1.0366955995559692
         },
         {
          "emb": [
           -1.7743873596191406,
           0.5789713263511658,
           -1.0018343925476074,
           -0.4644944965839386,
           1.9585528373718262,
           -0.20807243883609772,
           1.1455929279327393,
           0.7734005451202393,
           -1.205336332321167,
           -0.43521466851234436
          ],
          "id": 484,
          "words": "posteriormente",
          "x": -1.0888699293136597,
          "y": 0.7393681406974792
         },
         {
          "emb": [
           0.5330159068107605,
           1.4480236768722534,
           1.424495816230774,
           1.0230944156646729,
           -0.36143526434898376,
           0.5229199528694153,
           -1.4052320718765259,
           1.3924616575241089,
           -0.43339577317237854,
           -0.8038179874420166
          ],
          "id": 485,
          "words": "deliberadamente",
          "x": 1.849867820739746,
          "y": 1.6806609630584717
         },
         {
          "emb": [
           2.1017253398895264,
           -0.18235759437084198,
           -0.5896627902984619,
           0.4907291829586029,
           -1.9272805452346802,
           1.377712368965149,
           1.6036779880523682,
           -1.3103852272033691,
           -1.389383316040039,
           0.8269765973091125
          ],
          "id": 486,
          "words": "deixando",
          "x": 1.6198168992996216,
          "y": -1.8114975690841675
         },
         {
          "emb": [
           -1.3700615167617798,
           -0.5812739729881287,
           1.0927940607070923,
           1.048952341079712,
           0.15940111875534058,
           -0.8168769478797913,
           0.32413971424102783,
           0.4004405736923218,
           0.17164018750190735,
           -0.9917834997177124
          ],
          "id": 487,
          "words": "rejewski",
          "x": -0.024651190266013145,
          "y": 1.942530632019043
         },
         {
          "emb": [
           0.9063395261764526,
           -1.2541263103485107,
           -0.5658167004585266,
           1.0183534622192383,
           -0.023202382028102875,
           0.400329053401947,
           -0.32964691519737244,
           1.057178020477295,
           1.2858779430389404,
           0.6025019884109497
          ],
          "id": 488,
          "words": "hut",
          "x": -0.15550746023654938,
          "y": -0.02847367338836193
         },
         {
          "emb": [
           -1.4267733097076416,
           -1.0904598236083984,
           0.6233691573143005,
           -0.2272343635559082,
           0.045986078679561615,
           0.7471885085105896,
           0.16756992042064667,
           -0.13200829923152924,
           -0.2813838720321655,
           -0.9782717227935791
          ],
          "id": 489,
          "words": "inalação",
          "x": -0.036830004304647446,
          "y": 0.8370310068130493
         },
         {
          "emb": [
           -1.2492529153823853,
           -1.2588061094284058,
           -0.5215726494789124,
           -0.9529982805252075,
           0.18156945705413818,
           0.10381925851106644,
           0.6665343046188354,
           -1.588266134262085,
           0.38988158106803894,
           2.0600621700286865
          ],
          "id": 490,
          "words": "seguindo",
          "x": -1.5857564210891724,
          "y": -2.279637575149536
         },
         {
          "emb": [
           0.8424649238586426,
           1.7031177282333374,
           1.3152387142181396,
           2.1084516048431396,
           0.8236140012741089,
           1.5153264999389648,
           1.085810661315918,
           -1.0328314304351807,
           -0.9509730339050293,
           0.02768486738204956
          ],
          "id": 491,
          "words": "clérigo",
          "x": 2.7376513481140137,
          "y": -0.37101322412490845
         },
         {
          "emb": [
           -1.4019068479537964,
           -0.0988050326704979,
           0.8636474609375,
           -0.4607502222061157,
           0.28231585025787354,
           0.5633777379989624,
           -0.86092209815979,
           0.9815576076507568,
           0.8789188861846924,
           -0.2503927946090698
          ],
          "id": 492,
          "words": "branca",
          "x": -0.16034366190433502,
          "y": 0.8640320301055908
         },
         {
          "emb": [
           -0.35624322295188904,
           1.1048274040222168,
           0.5370876789093018,
           -1.6461317539215088,
           -0.693881094455719,
           0.6283140182495117,
           0.06851635873317719,
           -0.7114138603210449,
           -0.41851258277893066,
           0.9840664267539978
          ],
          "id": 493,
          "words": "decodificar",
          "x": 0.43665802478790283,
          "y": -1.3802216053009033
         },
         {
          "emb": [
           1.5359455347061157,
           -0.4883469343185425,
           0.27413541078567505,
           -0.1793513298034668,
           -0.4922772943973541,
           0.21633964776992798,
           0.8414825797080994,
           0.36742040514945984,
           -0.9446902275085449,
           -2.632697343826294
          ],
          "id": 494,
          "words": "campanha",
          "x": 1.724669098854065,
          "y": 1.5201126337051392
         },
         {
          "emb": [
           -0.9387679100036621,
           1.0989444255828857,
           -0.3446756601333618,
           -0.4761946201324463,
           0.7118219137191772,
           -0.9282017946243286,
           -0.04464474320411682,
           -0.901486337184906,
           -1.1940605640411377,
           -0.09244769811630249
          ],
          "id": 495,
          "words": "testada",
          "x": -0.734929621219635,
          "y": -0.017571182921528816
         },
         {
          "emb": [
           1.1648849248886108,
           -0.8175529837608337,
           -0.21361124515533447,
           -0.4146793484687805,
           0.46107593178749084,
           -0.9259486794471741,
           -1.2914392948150635,
           0.778619110584259,
           -0.3562759757041931,
           0.21318593621253967
          ],
          "id": 496,
          "words": "criados",
          "x": -0.26618000864982605,
          "y": 0.06296352297067642
         },
         {
          "emb": [
           -0.4848940670490265,
           1.5167124271392822,
           -0.8597735166549683,
           1.6134297847747803,
           -0.19551946222782135,
           -0.6425606608390808,
           1.9710993766784668,
           0.725365400314331,
           0.0058078281581401825,
           0.3994569480419159
          ],
          "id": 497,
          "words": "cumberbatch",
          "x": -0.13841933012008667,
          "y": 0.7709848284721375
         },
         {
          "emb": [
           -0.7478201389312744,
           -0.656394898891449,
           -0.4080635607242584,
           2.099215507507324,
           -0.855163037776947,
           -0.9598187804222107,
           -1.001627802848816,
           -0.9606391191482544,
           -0.20473702251911163,
           0.2776670455932617
          ],
          "id": 498,
          "words": "laboratório",
          "x": -1.1690326929092407,
          "y": 0.6982218027114868
         },
         {
          "emb": [
           -0.1594071239233017,
           2.1379382610321045,
           -0.8965201377868652,
           1.438462734222412,
           -0.12794256210327148,
           -1.7534266710281372,
           1.2745167016983032,
           -0.17753200232982635,
           -0.029174037277698517,
           0.45113611221313477
          ],
          "id": 499,
          "words": "improvisado",
          "x": -0.4912135899066925,
          "y": 0.4877151846885681
         },
         {
          "emb": [
           0.03421201929450035,
           1.7946325540542603,
           -0.6836826205253601,
           0.2944316267967224,
           0.35901886224746704,
           -0.1872989982366562,
           -2.759676933288574,
           1.2430589199066162,
           0.18348784744739532,
           -1.9537335634231567
          ],
          "id": 500,
          "words": "secundário",
          "x": -0.3165643513202667,
          "y": 2.169752597808838
         },
         {
          "emb": [
           1.4575551748275757,
           0.0074967374093830585,
           -0.7070873975753784,
           1.8707332611083984,
           0.900528073310852,
           0.029908407479524612,
           -0.47182536125183105,
           -0.14349353313446045,
           0.04157153517007828,
           0.011372553184628487
          ],
          "id": 501,
          "words": "artificial",
          "x": 0.3618875741958618,
          "y": -0.029248176142573357
         },
         {
          "emb": [
           0.00567683856934309,
           1.0263794660568237,
           -0.05046156421303749,
           -0.4443473815917969,
           0.36922115087509155,
           -1.70218825340271,
           -1.2413359880447388,
           1.0404924154281616,
           0.1099725291132927,
           1.31187105178833
          ],
          "id": 502,
          "words": "brown",
          "x": -0.8465391397476196,
          "y": 0.011527114547789097
         },
         {
          "emb": [
           -0.2123657912015915,
           1.2305620908737183,
           -1.3845666646957397,
           -1.3168216943740845,
           -0.8130674362182617,
           1.3353896141052246,
           2.192115306854248,
           -1.6638184785842896,
           1.3071821928024292,
           1.733210802078247
          ],
          "id": 503,
          "words": "cremado",
          "x": -0.41756895184516907,
          "y": -2.9606034755706787
         },
         {
          "emb": [
           0.9396519064903259,
           -1.0014569759368896,
           1.0226092338562012,
           0.9551035165786743,
           0.8112591505050659,
           -0.07348981499671936,
           0.48553594946861267,
           1.3919506072998047,
           -0.053923349827528,
           -0.8534241318702698
          ],
          "id": 504,
          "words": "fazer",
          "x": 1.377579927444458,
          "y": 1.3304260969161987
         },
         {
          "emb": [
           0.8783215880393982,
           -1.0893868207931519,
           1.8545689582824707,
           0.2249734252691269,
           1.250463604927063,
           0.7204927802085876,
           -0.4419025778770447,
           1.5464227199554443,
           -1.612231969833374,
           0.10035557299852371
          ],
          "id": 505,
          "words": "químicos",
          "x": 1.9687334299087524,
          "y": 0.5405237674713135
         },
         {
          "emb": [
           0.7020878195762634,
           -1.3761577606201172,
           -0.5174626708030701,
           -1.3563015460968018,
           -1.3078207969665527,
           1.5050115585327148,
           -0.883732795715332,
           -1.6253833770751953,
           0.03713399916887283,
           -0.7303179502487183
          ],
          "id": 506,
          "words": "direcionado",
          "x": 0.04747116193175316,
          "y": -1.1658918857574463
         },
         {
          "emb": [
           0.8074552416801453,
           -0.3472057282924652,
           -1.4896368980407715,
           -0.052164770662784576,
           0.9753735661506653,
           0.47466403245925903,
           0.22360672056674957,
           1.8633068799972534,
           0.9339649081230164,
           -2.3360376358032227
          ],
          "id": 507,
          "words": "vida",
          "x": -0.08890606462955475,
          "y": 1.7347654104232788
         },
         {
          "emb": [
           0.04927099123597145,
           -1.1724159717559814,
           0.8946061730384827,
           0.5818610191345215,
           0.5844593048095703,
           1.0077422857284546,
           0.11507949978113174,
           0.715259850025177,
           2.413757562637329,
           0.20556794106960297
          ],
          "id": 508,
          "words": "orissa",
          "x": 0.5555189251899719,
          "y": 0.010990937240421772
         },
         {
          "emb": [
           -0.49647367000579834,
           -1.5086383819580078,
           -0.6254180073738098,
           -0.7228707075119019,
           -0.5658255219459534,
           0.3678256571292877,
           -0.27870938181877136,
           -0.23002862930297852,
           -1.433161973953247,
           1.0890016555786133
          ],
          "id": 509,
          "words": "alguns",
          "x": -0.9150945544242859,
          "y": -0.9065322279930115
         },
         {
          "emb": [
           1.2759753465652466,
           1.3294565677642822,
           0.45899301767349243,
           -0.3303661048412323,
           1.141210913658142,
           0.8887587189674377,
           -1.04676353931427,
           1.5293992757797241,
           -0.00817484688013792,
           -0.3306359052658081
          ],
          "id": 510,
          "words": "concreta",
          "x": 1.475104808807373,
          "y": 0.2841283977031708
         },
         {
          "emb": [
           0.6935025453567505,
           -1.5878498554229736,
           0.056786201894283295,
           0.013358823023736477,
           1.611769676208496,
           -0.13684967160224915,
           -2.1052639484405518,
           -1.191672444343567,
           1.0747501850128174,
           0.5497812628746033
          ],
          "id": 511,
          "words": "poderosos",
          "x": -0.7327814102172852,
          "y": -1.2237019538879395
         },
         {
          "emb": [
           0.5564525723457336,
           0.08143602311611176,
           -0.48273640871047974,
           1.0620924234390259,
           1.1236637830734253,
           0.7590864300727844,
           -2.5302391052246094,
           -1.040610909461975,
           -0.17583933472633362,
           0.7056495547294617
          ],
          "id": 512,
          "words": "mathison",
          "x": -0.32575923204421997,
          "y": -0.9745121002197266
         },
         {
          "emb": [
           -0.9339396953582764,
           -1.318396806716919,
           -0.17265288531780243,
           -1.5731196403503418,
           1.4294952154159546,
           -0.21772794425487518,
           -0.5701151490211487,
           -1.0546883344650269,
           -0.267557293176651,
           -0.36739563941955566
          ],
          "id": 513,
          "words": "impróprios",
          "x": -1.1917625665664673,
          "y": -0.5947090983390808
         },
         {
          "emb": [
           0.7083317637443542,
           -0.299302339553833,
           0.14902245998382568,
           -0.44770580530166626,
           0.30916696786880493,
           -0.2382073700428009,
           -0.572619616985321,
           1.592462420463562,
           0.1606309562921524,
           -0.5337571501731873
          ],
          "id": 514,
          "words": "novas",
          "x": 0.350966215133667,
          "y": 0.8870386481285095
         },
         {
          "emb": [
           0.35911208391189575,
           -0.970559298992157,
           -0.8287085890769958,
           -0.5710433125495911,
           -0.4539758563041687,
           -0.07841556519269943,
           -0.11925165355205536,
           3.228052854537964,
           -0.4898494780063629,
           -0.045894887298345566
          ],
          "id": 515,
          "words": "park",
          "x": -0.35443735122680664,
          "y": 1.355392575263977
         },
         {
          "emb": [
           0.8272863030433655,
           -0.2247893363237381,
           0.630444347858429,
           2.2071692943573,
           1.133447289466858,
           -0.12946151196956635,
           -0.20390218496322632,
           -1.1323878765106201,
           1.2637797594070435,
           0.409972220659256
          ],
          "id": 516,
          "words": "quanto",
          "x": 0.6369938254356384,
          "y": -0.4055829346179962
         },
         {
          "emb": [
           -0.651521623134613,
           0.974033534526825,
           -1.7269009351730347,
           -0.4690059721469879,
           0.197059765458107,
           -0.3390471339225769,
           0.4221520721912384,
           0.05482703074812889,
           0.4109531044960022,
           0.6432501077651978
          ],
          "id": 517,
          "words": "gentia",
          "x": -1.4817581176757812,
          "y": -0.5306854844093323
         },
         {
          "emb": [
           -3.1490859985351562,
           -1.1401236057281494,
           -0.6587908267974854,
           -0.027335692197084427,
           -1.5741885900497437,
           0.06982776522636414,
           -0.16614817082881927,
           2.1279802322387695,
           0.577165424823761,
           -0.6054827570915222
          ],
          "id": 518,
          "words": "influente",
          "x": -2.0841405391693115,
          "y": 2.461644172668457
         },
         {
          "emb": [
           -0.8123443722724915,
           -0.7641019225120544,
           0.24356573820114136,
           0.25489580631256104,
           1.030256748199463,
           0.19838690757751465,
           1.8621478080749512,
           -0.6860870718955994,
           1.632536768913269,
           0.3910200297832489
          ],
          "id": 519,
          "words": "conto",
          "x": -0.21909335255622864,
          "y": -0.6484928727149963
         },
         {
          "emb": [
           1.587047815322876,
           0.17216534912586212,
           -1.664180040359497,
           -0.37352651357650757,
           0.011322823353111744,
           0.45554980635643005,
           -0.34434282779693604,
           0.05833182856440544,
           0.18265999853610992,
           0.2114381492137909
          ],
          "id": 520,
          "words": "maneira",
          "x": -0.218072772026062,
          "y": -0.9795240163803101
         },
         {
          "emb": [
           -0.753573477268219,
           0.09024082869291306,
           -0.7745004296302795,
           -0.6432445049285889,
           -0.6922840476036072,
           -1.0693567991256714,
           0.07849815487861633,
           0.3392421305179596,
           0.5080986618995667,
           -0.5792087316513062
          ],
          "id": 521,
          "words": "seios",
          "x": -1.212096095085144,
          "y": 0.8448650240898132
         },
         {
          "emb": [
           -0.6866684556007385,
           0.49183231592178345,
           0.46501854062080383,
           0.016897626221179962,
           -0.2552237808704376,
           0.2946934700012207,
           0.38182106614112854,
           1.761642336845398,
           0.6888101696968079,
           -1.1087675094604492
          ],
          "id": 522,
          "words": "simples",
          "x": 0.49453291296958923,
          "y": 1.7974612712860107
         },
         {
          "emb": [
           2.4078664779663086,
           0.1910378783941269,
           -2.5569751262664795,
           0.8864472508430481,
           0.6318890452384949,
           1.371357798576355,
           0.9085835218429565,
           -0.24503344297409058,
           0.5259178876876831,
           1.009373664855957
          ],
          "id": 523,
          "words": "engenheiro",
          "x": 0.11683976650238037,
          "y": -2.0386128425598145
         },
         {
          "emb": [
           1.8348389863967896,
           -0.15499554574489594,
           -0.0500137098133564,
           -0.28725117444992065,
           0.30511680245399475,
           -0.16550105810165405,
           0.4079177975654602,
           -0.2528182864189148,
           0.6427749395370483,
           1.0573885440826416
          ],
          "id": 524,
          "words": "vícios",
          "x": 0.6648802757263184,
          "y": -1.4998564720153809
         },
         {
          "emb": [
           -1.3514107465744019,
           -0.281975120306015,
           -3.0560357570648193,
           -0.22696420550346375,
           -0.3926886022090912,
           0.06948006898164749,
           -1.1091675758361816,
           1.152279019355774,
           -0.24315854907035828,
           -1.186015248298645
          ],
          "id": 525,
          "words": "números",
          "x": -2.721348524093628,
          "y": 1.4549356698989868
         },
         {
          "emb": [
           1.8357313871383667,
           1.0137779712677002,
           -0.7431869506835938,
           -1.116658329963684,
           1.3987051248550415,
           1.2299995422363281,
           -0.5698668360710144,
           -1.8957488536834717,
           -0.2521374225616455,
           -1.3553094863891602
          ],
          "id": 526,
          "words": "obe",
          "x": 1.0044302940368652,
          "y": -1.4221532344818115
         },
         {
          "emb": [
           -0.16099761426448822,
           -1.4706989526748657,
           0.398921936750412,
           1.519417405128479,
           0.06465581804513931,
           -1.0018748044967651,
           -0.40842968225479126,
           -0.0870032012462616,
           -1.025665521621704,
           -0.2427646964788437
          ],
          "id": 527,
          "words": "julius",
          "x": -0.2204723209142685,
          "y": 1.099835753440857
         },
         {
          "emb": [
           -1.9538692235946655,
           -0.34105098247528076,
           -0.9322894811630249,
           -2.329439163208008,
           -0.23463067412376404,
           -1.513217806816101,
           0.4275903105735779,
           -0.041786059737205505,
           -1.1831002235412598,
           0.6653114557266235
          ],
          "id": 528,
          "words": "formal",
          "x": -2.2737388610839844,
          "y": -0.270383358001709
         },
         {
          "emb": [
           -0.7865785360336304,
           -0.0760195329785347,
           -1.3413176536560059,
           -1.667159080505371,
           -0.4577084481716156,
           -0.12821127474308014,
           0.5937859416007996,
           -1.2763886451721191,
           0.6721578240394592,
           -1.827568769454956
          ],
          "id": 529,
          "words": "obteve",
          "x": -1.232153296470642,
          "y": 0.1596103012561798
         },
         {
          "emb": [
           -0.3240613639354706,
           -0.17044642567634583,
           -0.29124435782432556,
           -0.5603166818618774,
           -0.2412876933813095,
           -0.9583331942558289,
           1.2465475797653198,
           -0.304256409406662,
           1.2654613256454468,
           -0.816724956035614
          ],
          "id": 530,
          "words": "primeiros",
          "x": -0.536101758480072,
          "y": 0.42702558636665344
         },
         {
          "emb": [
           0.4922271966934204,
           -1.1543200016021729,
           -1.1936861276626587,
           1.1764700412750244,
           -1.930312156677246,
           0.7613918781280518,
           0.11071065068244934,
           1.179497241973877,
           0.5499953627586365,
           0.12777535617351532
          ],
          "id": 531,
          "words": "tal",
          "x": -0.30127719044685364,
          "y": 0.6236832737922668
         },
         {
          "emb": [
           0.08211225271224976,
           -0.040954455733299255,
           -0.4535972774028778,
           0.31867000460624695,
           1.3724764585494995,
           -0.2455226629972458,
           -0.5026591420173645,
           -0.6039265990257263,
           -0.6803271174430847,
           1.2341105937957764
          ],
          "id": 532,
          "words": "observadas",
          "x": -0.5679469704627991,
          "y": -1.0994731187820435
         },
         {
          "emb": [
           0.9607154726982117,
           -1.0452369451522827,
           -0.9644867777824402,
           0.09157101064920425,
           -0.13544397056102753,
           0.9088874459266663,
           1.6005561351776123,
           -0.18938478827476501,
           -1.4097230434417725,
           -0.9363328218460083
          ],
          "id": 533,
          "words": "unido",
          "x": 0.6685805320739746,
          "y": -0.0557616725564003
         },
         {
          "emb": [
           0.5643165707588196,
           -1.8538391590118408,
           0.3060736358165741,
           -0.32568907737731934,
           -0.23834934830665588,
           -0.8529420495033264,
           0.23457886278629303,
           -0.9979944825172424,
           1.1559182405471802,
           -2.4707930088043213
          ],
          "id": 534,
          "words": "press",
          "x": 0.03711835294961929,
          "y": 1.1237965822219849
         },
         {
          "emb": [
           1.4207924604415894,
           1.0189933776855469,
           0.00389655283652246,
           1.1600096225738525,
           1.07717764377594,
           0.36715999245643616,
           -0.4724518954753876,
           1.1855367422103882,
           0.7850522994995117,
           1.010691523551941
          ],
          "id": 535,
          "words": "perguntas",
          "x": 0.923031210899353,
          "y": -0.3379390835762024
         },
         {
          "emb": [
           1.2566688060760498,
           0.0063615054823458195,
           -2.093569755554199,
           0.31370043754577637,
           -0.020628897473216057,
           0.7014419436454773,
           0.8281727433204651,
           0.24963076412677765,
           -0.9458189606666565,
           1.21116304397583
          ],
          "id": 536,
          "words": "papel",
          "x": -0.30225127935409546,
          "y": -1.3613498210906982
         },
         {
          "emb": [
           -1.670250415802002,
           0.3318125009536743,
           -1.3552038669586182,
           -1.5509922504425049,
           -0.43607407808303833,
           -0.6900246739387512,
           -0.06599554419517517,
           -0.10574591904878616,
           0.74686199426651,
           1.205420732498169
          ],
          "id": 537,
          "words": "deste",
          "x": -2.3403992652893066,
          "y": -0.8180445432662964
         },
         {
          "emb": [
           -0.27165713906288147,
           -0.3836873471736908,
           -0.3165886104106903,
           1.2337701320648193,
           -0.22853635251522064,
           -0.046873703598976135,
           0.9079117774963379,
           0.014951721765100956,
           1.3110027313232422,
           -0.7758656740188599
          ],
          "id": 538,
          "words": "leavitt",
          "x": -0.14335760474205017,
          "y": 0.9048349261283875
         },
         {
          "emb": [
           1.057513952255249,
           -0.31451356410980225,
           0.6810482740402222,
           -0.29312729835510254,
           0.8255513906478882,
           -1.8547254800796509,
           -2.6224422454833984,
           0.1972953826189041,
           -0.511518120765686,
           -0.8723856210708618
          ],
          "id": 539,
          "words": "uniu",
          "x": -0.08230583369731903,
          "y": 1.0055204629898071
         },
         {
          "emb": [
           -0.9309149384498596,
           -0.26980364322662354,
           1.3741084337234497,
           1.467619776725769,
           -0.6049795746803284,
           1.0025255680084229,
           0.9859938025474548,
           -1.5765771865844727,
           0.4154601991176605,
           -0.5342139005661011
          ],
          "id": 540,
          "words": "condenado",
          "x": 1.0972900390625,
          "y": 0.27496448159217834
         },
         {
          "emb": [
           0.2644365727901459,
           -0.09222199767827988,
           -1.613549828529358,
           -0.01858232356607914,
           1.3401613235473633,
           2.029755115509033,
           0.6887219548225403,
           -1.274085521697998,
           1.7823784351348877,
           0.5326165556907654
          ],
          "id": 541,
          "words": "tratamento",
          "x": -0.48137471079826355,
          "y": -2.1203765869140625
         },
         {
          "emb": [
           -0.035887461155653,
           -0.9980116486549377,
           -0.21037715673446655,
           -2.4989969730377197,
           0.4153699278831482,
           -0.4759264886379242,
           -1.0930765867233276,
           -0.23161785304546356,
           0.7217776775360107,
           0.6447115540504456
          ],
          "id": 542,
          "words": "bengali",
          "x": -1.1746848821640015,
          "y": -1.2637007236480713
         },
         {
          "emb": [
           0.6633262634277344,
           -0.8110149502754211,
           -0.019200948998332024,
           -0.28598323464393616,
           -1.7475149631500244,
           0.5624202489852905,
           -2.3720505237579346,
           0.010448776185512543,
           0.7639044523239136,
           1.8926256895065308
          ],
          "id": 543,
          "words": "andava",
          "x": -0.4519820809364319,
          "y": -1.322168231010437
         },
         {
          "emb": [
           -2.142991542816162,
           0.871126115322113,
           -1.4756182432174683,
           -0.9101603031158447,
           1.1248074769973755,
           1.6453731060028076,
           -0.4929002821445465,
           -0.9357666969299316,
           -1.1416337490081787,
           0.6557057499885559
          ],
          "id": 544,
          "words": "efetuar",
          "x": -1.5128744840621948,
          "y": -1.1947875022888184
         },
         {
          "emb": [
           -0.16502328217029572,
           0.4809138774871826,
           -0.2566814720630646,
           1.332572102546692,
           -1.99232816696167,
           0.44578513503074646,
           -0.9001967906951904,
           1.8819786310195923,
           -1.6684931516647339,
           0.8331697583198547
          ],
          "id": 545,
          "words": "bomba",
          "x": 0.25045526027679443,
          "y": 1.1866244077682495
         },
         {
          "emb": [
           0.801723837852478,
           -1.276788592338562,
           -0.3923507630825043,
           -1.364654541015625,
           1.8904521465301514,
           -0.27567946910858154,
           0.23174263536930084,
           -0.31899768114089966,
           -0.7675183415412903,
           -0.33812347054481506
          ],
          "id": 546,
          "words": "moderno",
          "x": -0.17273060977458954,
          "y": -0.790434718132019
         },
         {
          "emb": [
           -0.4366832375526428,
           0.30802056193351746,
           -0.10281830281019211,
           -0.3841800093650818,
           -0.06477116793394089,
           -2.2859535217285156,
           0.1564539521932602,
           0.7823395729064941,
           1.9035394191741943,
           0.8029076457023621
          ],
          "id": 547,
          "words": "qualquer",
          "x": -1.3279763460159302,
          "y": 0.358158141374588
         },
         {
          "emb": [
           -0.10189081728458405,
           -0.5466699600219727,
           1.764609932899475,
           -1.0834695100784302,
           0.19531308114528656,
           0.7414712309837341,
           1.9918572902679443,
           -0.3889092206954956,
           -0.13327373564243317,
           1.3556586503982544
          ],
          "id": 548,
          "words": "ilegais",
          "x": 1.4563201665878296,
          "y": -1.5330623388290405
         },
         {
          "emb": [
           0.23076646029949188,
           -1.4355534315109253,
           -1.6280709505081177,
           0.7320370674133301,
           -1.8033804893493652,
           -0.1623474359512329,
           -0.46743762493133545,
           0.4944102466106415,
           1.5341640710830688,
           0.7786687016487122
          ],
          "id": 549,
          "words": "phoenix",
          "x": -1.5601953268051147,
          "y": -0.07061793655157089
         },
         {
          "emb": [
           0.1577172577381134,
           1.1278935670852661,
           1.0552891492843628,
           0.6694270968437195,
           2.1282689571380615,
           -0.7080221772193909,
           0.31337904930114746,
           0.5679728388786316,
           0.2876010537147522,
           1.5925908088684082
          ],
          "id": 550,
          "words": "acompanhar",
          "x": 0.6478164792060852,
          "y": -0.5682046413421631
         },
         {
          "emb": [
           -1.0709104537963867,
           -0.36765256524086,
           -0.3925584554672241,
           0.10782116651535034,
           -0.04001438990235329,
           1.4341492652893066,
           -0.026246730238199234,
           1.3825936317443848,
           1.0420151948928833,
           -1.3727717399597168
          ],
          "id": 551,
          "words": "criação",
          "x": -0.17030854523181915,
          "y": 1.48313307762146
         },
         {
          "emb": [
           0.9358285665512085,
           0.08447007089853287,
           -0.4378277659416199,
           -0.8411153554916382,
           -0.007085275370627642,
           -0.8628519773483276,
           -2.0202832221984863,
           -1.1308881044387817,
           -0.20808175206184387,
           1.54698646068573
          ],
          "id": 552,
          "words": "aniversário",
          "x": -0.8415118455886841,
          "y": -1.7664217948913574
         },
         {
          "emb": [
           0.526943564414978,
           -1.2898309230804443,
           -0.27552759647369385,
           0.13721293210983276,
           -1.0592913627624512,
           0.022291142493486404,
           0.31693562865257263,
           0.47779345512390137,
           0.1257844716310501,
           0.45344385504722595
          ],
          "id": 553,
          "words": "irmão",
          "x": -0.07064280658960342,
          "y": -0.08468042314052582
         },
         {
          "emb": [
           -1.1656502485275269,
           -0.7753896713256836,
           -1.1778192520141602,
           -0.053987786173820496,
           -1.0964430570602417,
           -0.9818382859230042,
           -0.76561039686203,
           0.23402158915996552,
           0.13593903183937073,
           0.020608684048056602
          ],
          "id": 554,
          "words": "civil",
          "x": -2.011321783065796,
          "y": 0.7598173022270203
         },
         {
          "emb": [
           -1.4561922550201416,
           -0.8359072804450989,
           -0.10548944026231766,
           1.0295966863632202,
           1.6175258159637451,
           -0.2761622667312622,
           -1.460387945175171,
           -0.31463897228240967,
           -0.4642571210861206,
           0.22348599135875702
          ],
          "id": 555,
          "words": "precipitada",
          "x": -1.3121145963668823,
          "y": 0.46716567873954773
         },
         {
          "emb": [
           0.5849756002426147,
           0.12123441696166992,
           0.45589137077331543,
           0.314357191324234,
           -0.6474366188049316,
           -0.16446569561958313,
           1.8977868556976318,
           -0.030070995911955833,
           -0.7017663717269897,
           -0.0870312750339508
          ],
          "id": 556,
          "words": "encontrada",
          "x": 1.1844804286956787,
          "y": 0.11983717232942581
         },
         {
          "emb": [
           0.6592722535133362,
           -0.22746767103672028,
           0.368437796831131,
           1.1697790622711182,
           0.2794193923473358,
           -0.30114853382110596,
           -0.15297657251358032,
           -0.2939848303794861,
           2.135768413543701,
           -0.7116724252700806
          ],
          "id": 557,
          "words": "dose",
          "x": 0.3584573566913605,
          "y": 0.5287119746208191
         },
         {
          "emb": [
           -1.0662260055541992,
           -2.3759751319885254,
           -0.20892132818698883,
           0.4324672222137451,
           0.9974337816238403,
           0.4973982274532318,
           -1.3683233261108398,
           -0.3459693491458893,
           1.0031453371047974,
           0.016942735761404037
          ],
          "id": 558,
          "words": "sugere",
          "x": -1.4033434391021729,
          "y": 0.019089190289378166
         },
         {
          "emb": [
           -0.4117405116558075,
           0.8667562007904053,
           0.728706955909729,
           -2.9661049842834473,
           -1.2921408414840698,
           0.259819358587265,
           -0.4182668924331665,
           2.3855321407318115,
           -1.8610894680023193,
           -0.7783910632133484
          ],
          "id": 559,
          "words": "jack",
          "x": 0.7913705110549927,
          "y": 1.2216618061065674
         },
         {
          "emb": [
           -0.01738744229078293,
           -0.576666533946991,
           -0.6307969689369202,
           -0.8363023996353149,
           -1.5270106792449951,
           -0.7838349938392639,
           1.0688236951828003,
           -0.8445648550987244,
           0.1737925112247467,
           -0.823140561580658
          ],
          "id": 560,
          "words": "acordo",
          "x": -0.5432129502296448,
          "y": 0.15068477392196655
         },
         {
          "emb": [
           -1.29605233669281,
           0.12472712993621826,
           -1.0184582471847534,
           1.9484351873397827,
           0.1951875239610672,
           -1.769212245941162,
           -0.4829390048980713,
           0.05072201415896416,
           2.2578988075256348,
           -0.6585581302642822
          ],
          "id": 561,
          "words": "índia",
          "x": -2.0484158992767334,
          "y": 1.7383859157562256
         },
         {
          "emb": [
           -1.5632222890853882,
           -0.1266702115535736,
           -0.7095450758934021,
           -0.1614534556865692,
           -0.01179323811084032,
           -0.4153895676136017,
           0.2462081015110016,
           0.5235128402709961,
           0.3483783006668091,
           -0.679404616355896
          ],
          "id": 562,
          "words": "reino",
          "x": -1.2902041673660278,
          "y": 1.1337940692901611
         },
         {
          "emb": [
           1.7454115152359009,
           0.035474151372909546,
           1.5367037057876587,
           0.9285321235656738,
           -1.0513358116149902,
           -1.1197223663330078,
           -0.19521911442279816,
           -0.8646175861358643,
           0.6009413003921509,
           -1.2481590509414673
          ],
          "id": 563,
          "words": "enigma",
          "x": 1.727913737297058,
          "y": 0.8702874183654785
         },
         {
          "emb": [
           0.2702349126338959,
           -0.09300431609153748,
           1.1826692819595337,
           -1.1606624126434326,
           -0.8214980363845825,
           -1.1688531637191772,
           -0.6656535267829895,
           0.03227519989013672,
           0.9685255885124207,
           0.3577594757080078
          ],
          "id": 564,
          "words": "barão",
          "x": 0.14726054668426514,
          "y": -0.09124799072742462
         },
         {
          "emb": [
           1.1272554397583008,
           0.22518731653690338,
           -1.7826597690582275,
           0.27446889877319336,
           -0.10458379238843918,
           -1.002159595489502,
           2.630532741546631,
           -0.2996172308921814,
           0.4110111892223358,
           0.3301143944263458
          ],
          "id": 565,
          "words": "wilmslow",
          "x": -0.4210432469844818,
          "y": -0.7196388244628906
         },
         {
          "emb": [
           0.20743410289287567,
           0.3433545231819153,
           0.5725771188735962,
           0.7276471257209778,
           2.796534299850464,
           1.3041545152664185,
           -0.5536137819290161,
           0.5246192216873169,
           1.6687182188034058,
           0.2440273016691208
          ],
          "id": 566,
          "words": "ligando",
          "x": 0.7262861728668213,
          "y": -0.40923941135406494
         },
         {
          "emb": [
           2.595299243927002,
           -2.5906825065612793,
           1.544533610343933,
           -0.9879526495933533,
           -0.523216187953949,
           1.355109453201294,
           0.9644109010696411,
           0.7786874175071716,
           -0.3962053656578064,
           0.537725567817688
          ],
          "id": 567,
          "words": "encenando",
          "x": 2.533496379852295,
          "y": -1.1990562677383423
         },
         {
          "emb": [
           -0.2999131679534912,
           -1.708570957183838,
           1.0254734754562378,
           1.9348901510238647,
           1.5946422815322876,
           -0.01368566881865263,
           0.24618826806545258,
           -0.47044888138771057,
           0.9340278506278992,
           0.8956202864646912
          ],
          "id": 568,
          "words": "então",
          "x": 0.11953576654195786,
          "y": -0.2452373057603836
         },
         {
          "emb": [
           1.6928988695144653,
           -1.69216787815094,
           0.05261824280023575,
           -2.672569513320923,
           -0.5845911502838135,
           -1.3892929553985596,
           -1.435039758682251,
           -1.046711802482605,
           2.4093329906463623,
           0.9308478832244873
          ],
          "id": 569,
          "words": "bombas",
          "x": -0.9495313167572021,
          "y": -2.09552264213562
         },
         {
          "emb": [
           0.027028236538171768,
           0.5368399620056152,
           1.1179136037826538,
           0.40961915254592896,
           0.11749036610126495,
           -0.06749069690704346,
           -0.07883110642433167,
           -0.3206322491168976,
           -0.2551269829273224,
           -0.029552113264799118
          ],
          "id": 570,
          "words": "fim",
          "x": 0.9441007375717163,
          "y": 0.2050389051437378
         },
         {
          "emb": [
           -1.8487014770507812,
           -0.3793361783027649,
           -1.5264134407043457,
           -0.43734288215637207,
           0.9755569696426392,
           -0.6954560875892639,
           0.2324046641588211,
           1.5315240621566772,
           1.2054846286773682,
           -1.3828803300857544
          ],
          "id": 571,
          "words": "criou",
          "x": -2.148965835571289,
          "y": 1.8681079149246216
         },
         {
          "emb": [
           0.8208077549934387,
           0.8861373066902161,
           0.6571446061134338,
           0.5190452933311462,
           -0.6896606683731079,
           -0.41943007707595825,
           -0.5893804430961609,
           0.49910303950309753,
           -0.12473711371421814,
           -1.2852528095245361
          ],
          "id": 572,
          "words": "zhabotinsky",
          "x": 1.1361801624298096,
          "y": 1.4315605163574219
         },
         {
          "emb": [
           -1.3338104486465454,
           0.5884936451911926,
           -0.09829447418451309,
           0.6558184027671814,
           -0.5366421937942505,
           -1.2621991634368896,
           -0.3189728558063507,
           0.8538177013397217,
           -0.034722913056612015,
           -0.45753970742225647
          ],
          "id": 573,
          "words": "irlandeses",
          "x": -0.9056416749954224,
          "y": 1.801281213760376
         },
         {
          "emb": [
           1.2125102281570435,
           -0.013535928912460804,
           -0.5828291773796082,
           0.06598131358623505,
           -0.8467349410057068,
           -0.0178079716861248,
           -0.38844364881515503,
           -0.20823024213314056,
           -0.7754618525505066,
           -0.15843692421913147
          ],
          "id": 574,
          "words": "base",
          "x": 0.33288177847862244,
          "y": -0.1618375927209854
         },
         {
          "emb": [
           0.8126852512359619,
           -1.568215012550354,
           -0.9713394641876221,
           -0.6284308433532715,
           -1.2851780652999878,
           1.5796345472335815,
           0.2676406502723694,
           -0.16133446991443634,
           -1.291210412979126,
           -0.3004719316959381
          ],
          "id": 575,
          "words": "descuido",
          "x": 0.29464879631996155,
          "y": -0.6096299290657043
         },
         {
          "emb": [
           2.117300033569336,
           -0.21300290524959564,
           -0.037871018052101135,
           1.2474784851074219,
           0.8564088344573975,
           -1.6436368227005005,
           0.30177825689315796,
           1.7049976587295532,
           0.8046296834945679,
           -2.418867588043213
          ],
          "id": 576,
          "words": "tecnologia",
          "x": 0.994915783405304,
          "y": 2.5368528366088867
         },
         {
          "emb": [
           1.282799482345581,
           3.012690305709839,
           1.8585766553878784,
           -0.21968908607959747,
           1.1230098009109497,
           -0.7800776958465576,
           0.24384497106075287,
           -0.7684200406074524,
           1.1904207468032837,
           -0.8391205668449402
          ],
          "id": 577,
          "words": "próprias",
          "x": 2.244755744934082,
          "y": 0.019435914233326912
         },
         {
          "emb": [
           0.3838152289390564,
           2.3671772480010986,
           -0.4707691967487335,
           -0.4728687107563019,
           -0.34058019518852234,
           -1.3906841278076172,
           0.710607647895813,
           -1.3504388332366943,
           -0.8556164503097534,
           0.36233630776405334
          ],
          "id": 578,
          "words": "john",
          "x": 0.0178701039403677,
          "y": -0.7342684864997864
         },
         {
          "emb": [
           0.3136710822582245,
           0.6265742182731628,
           0.619914710521698,
           -0.8675548434257507,
           -0.16833381354808807,
           -1.1458295583724976,
           -1.6261146068572998,
           -0.5269917249679565,
           -0.4870232343673706,
           0.47893640398979187
          ],
          "id": 579,
          "words": "invention",
          "x": -0.11361288279294968,
          "y": -0.3530387580394745
         },
         {
          "emb": [
           -1.028691291809082,
           -1.3241790533065796,
           0.20670442283153534,
           0.2576007843017578,
           0.5753798484802246,
           -1.25146484375,
           -0.6344999670982361,
           0.2233799546957016,
           1.28580904006958,
           0.4438847601413727
          ],
          "id": 580,
          "words": "época",
          "x": -1.4242916107177734,
          "y": 0.46276894211769104
         },
         {
          "emb": [
           -0.6443042159080505,
           1.3281596899032593,
           1.559922218322754,
           -0.16136425733566284,
           0.9452834129333496,
           0.013809455558657646,
           1.6896017789840698,
           0.5024741291999817,
           -0.41255518794059753,
           -0.281769722700119
          ],
          "id": 581,
          "words": "project",
          "x": 1.502036452293396,
          "y": 0.5977743268013
         },
         {
          "emb": [
           1.3772497177124023,
           1.359534502029419,
           0.8415231704711914,
           -0.5214820504188538,
           -1.1011793613433838,
           1.6096340417861938,
           1.0207455158233643,
           0.6651721596717834,
           1.5050498247146606,
           -0.02237638272345066
          ],
          "id": 582,
          "words": "estrogênio",
          "x": 2.2510581016540527,
          "y": -0.5243138670921326
         },
         {
          "emb": [
           -1.107722520828247,
           -1.7938264608383179,
           -1.7822933197021484,
           2.3850526809692383,
           0.3231099843978882,
           0.061113391071558,
           0.12674157321453094,
           0.628679096698761,
           2.0494754314422607,
           0.14856088161468506
          ],
          "id": 583,
          "words": "preconceituoso",
          "x": -2.103489637374878,
          "y": 0.9077443480491638
         },
         {
          "emb": [
           1.3932011127471924,
           3.090306282043457,
           0.40618816018104553,
           1.1330287456512451,
           -0.1880757361650467,
           0.5304790139198303,
           0.197967529296875,
           -0.6452280879020691,
           -0.547087550163269,
           0.697921872138977
          ],
          "id": 584,
          "words": "mactutor",
          "x": 1.9648401737213135,
          "y": -0.7752593159675598
         },
         {
          "emb": [
           -0.5447571873664856,
           0.6559678912162781,
           -0.7663382291793823,
           0.07586745172739029,
           -0.9647398591041565,
           1.0207176208496094,
           -0.008670073933899403,
           1.2414000034332275,
           -1.556761622428894,
           0.10498754680156708
          ],
          "id": 585,
          "words": "iniciais",
          "x": 0.052650585770606995,
          "y": 0.6296755075454712
         },
         {
          "emb": [
           0.16507360339164734,
           0.1414177119731903,
           0.5847551822662354,
           0.2353309839963913,
           -1.3455500602722168,
           -1.1690757274627686,
           -1.3606420755386353,
           -0.6007465720176697,
           -1.0556542873382568,
           -0.12481790781021118
          ],
          "id": 586,
          "words": "província",
          "x": 0.029802143573760986,
          "y": 0.5997600555419922
         },
         {
          "emb": [
           -0.8027122616767883,
           0.5001774430274963,
           1.90199613571167,
           3.400264024734497,
           -0.23850372433662415,
           1.2143491506576538,
           0.5140050053596497,
           1.9328851699829102,
           0.3372134864330292,
           -0.9906052947044373
          ],
          "id": 587,
          "words": "mudaram",
          "x": 2.1181020736694336,
          "y": 2.9062159061431885
         },
         {
          "emb": [
           1.186985969543457,
           -0.4326576590538025,
           -0.5091695189476013,
           1.164596438407898,
           -1.1028387546539307,
           0.417930006980896,
           -0.5372653007507324,
           1.2029913663864136,
           0.8390761017799377,
           0.11758200079202652
          ],
          "id": 588,
          "words": "gc",
          "x": 0.3495611548423767,
          "y": 0.5392615795135498
         },
         {
          "emb": [
           -0.850771427154541,
           0.02529263123869896,
           -2.091831684112549,
           -0.06677994132041931,
           1.1791741847991943,
           -1.7826714515686035,
           -0.1947757750749588,
           -0.36076727509498596,
           -0.20386232435703278,
           0.035319533199071884
          ],
          "id": 589,
          "words": "crematório",
          "x": -2.5324525833129883,
          "y": 0.14636221528053284
         },
         {
          "emb": [
           -0.04074503853917122,
           0.5902701616287231,
           0.17207656800746918,
           0.8264581561088562,
           -0.16651175916194916,
           0.3696177899837494,
           -0.32821351289749146,
           0.18144284188747406,
           -0.01607433892786503,
           -1.6287322044372559
          ],
          "id": 590,
          "words": "prazer",
          "x": 0.6702061295509338,
          "y": 1.4865144491195679
         },
         {
          "emb": [
           1.0740615129470825,
           0.3024829924106598,
           0.9095050096511841,
           -0.9278961420059204,
           -0.9809127449989319,
           0.0448225662112236,
           0.7435029745101929,
           -0.5284263491630554,
           0.6607508659362793,
           1.748659610748291
          ],
          "id": 591,
          "words": "outra",
          "x": 1.023976445198059,
          "y": -1.869350790977478
         },
         {
          "emb": [
           0.363105833530426,
           0.585776150226593,
           -0.33950695395469666,
           -1.0191214084625244,
           0.1631961464881897,
           1.1972508430480957,
           0.35938072204589844,
           1.9441003799438477,
           0.4251861870288849,
           1.5985357761383057
          ],
          "id": 592,
          "words": "hodges",
          "x": 0.3642406463623047,
          "y": -0.9628385305404663
         },
         {
          "emb": [
           -0.6397531032562256,
           1.5364129543304443,
           0.5928792953491211,
           -0.08596813678741455,
           -1.5865551233291626,
           0.27203696966171265,
           0.005098777823150158,
           -1.1730281114578247,
           0.3646683096885681,
           0.07765454798936844
          ],
          "id": 593,
          "words": "códigos",
          "x": 0.4522184729576111,
          "y": -0.21289552748203278
         },
         {
          "emb": [
           -0.1647183895111084,
           -0.06735503673553467,
           -0.6292284727096558,
           -1.2760682106018066,
           1.1150966882705688,
           1.7654194831848145,
           -1.218820333480835,
           -0.5738047361373901,
           -0.3518194854259491,
           1.6671061515808105
          ],
          "id": 594,
          "words": "necessariamente",
          "x": -0.4914928376674652,
          "y": -2.3311405181884766
         },
         {
          "emb": [
           0.6886433362960815,
           0.5871578454971313,
           -0.18507422506809235,
           -3.2986748218536377,
           -1.1431101560592651,
           0.42611631751060486,
           1.3462364673614502,
           1.0648658275604248,
           0.020944658666849136,
           -1.007347583770752
          ],
          "id": 595,
          "words": "petição",
          "x": 0.7927148342132568,
          "y": -0.13290636241436005
         },
         {
          "emb": [
           0.47899261116981506,
           -1.251643180847168,
           0.08448397368192673,
           -0.30870893597602844,
           0.7047049403190613,
           0.5087257623672485,
           1.450332522392273,
           0.698902428150177,
           -1.0728847980499268,
           -0.7786139845848083
          ],
          "id": 596,
          "words": "nascida",
          "x": 0.8346719145774841,
          "y": 0.390668123960495
         },
         {
          "emb": [
           -1.0870060920715332,
           -0.7762799263000488,
           1.308038592338562,
           -0.35088032484054565,
           -0.16381603479385376,
           -0.4838763177394867,
           -0.8502691984176636,
           -0.5014131665229797,
           -0.15819400548934937,
           0.8683756589889526
          ],
          "id": 597,
          "words": "meio",
          "x": -0.3142072260379791,
          "y": -0.20936062932014465
         },
         {
          "emb": [
           0.09934207797050476,
           -1.5616774559020996,
           0.015644170343875885,
           0.42866042256355286,
           0.7851696014404297,
           -0.7267064452171326,
           0.5134605169296265,
           -0.3927205801010132,
           -0.12847746908664703,
           -0.16983066499233246
          ],
          "id": 598,
          "words": "indicar",
          "x": -0.3369126617908478,
          "y": 0.11759158223867416
         },
         {
          "emb": [
           -0.5171979665756226,
           -1.4987576007843018,
           2.1270670890808105,
           -0.2981553077697754,
           0.6589043140411377,
           -1.091172695159912,
           1.172821283340454,
           2.2233195304870605,
           1.024080753326416,
           -0.8089656829833984
          ],
          "id": 599,
          "words": "government",
          "x": 0.8416792154312134,
          "y": 2.0207197666168213
         },
         {
          "emb": [
           -0.6134324073791504,
           -1.0552257299423218,
           -0.15449368953704834,
           0.9552603363990784,
           0.06631443649530411,
           0.8938659429550171,
           -0.08022530376911163,
           0.5200189352035522,
           -0.47052231431007385,
           0.5505293607711792
          ],
          "id": 600,
          "words": "tommy",
          "x": -0.19358861446380615,
          "y": 0.17372427880764008
         },
         {
          "emb": [
           -0.46666648983955383,
           -0.7177430987358093,
           0.10487603396177292,
           0.31661880016326904,
           0.6855652332305908,
           -0.5548912882804871,
           -0.4912552535533905,
           -0.46679091453552246,
           -0.6325984597206116,
           0.8221468925476074
          ],
          "id": 601,
          "words": "envolveram",
          "x": -0.6396399736404419,
          "y": -0.36270251870155334
         },
         {
          "emb": [
           0.9582183361053467,
           2.094191551208496,
           -1.1382211446762085,
           -0.043606821447610855,
           -0.08208843320608139,
           -1.101962924003601,
           -0.15855878591537476,
           -0.7499866485595703,
           -3.9859683513641357,
           -0.7939698100090027
          ],
          "id": 602,
          "words": "apesar",
          "x": 0.37372124195098877,
          "y": 0.3775009512901306
         },
         {
          "emb": [
           1.3263639211654663,
           0.5114740133285522,
           -0.03219623491168022,
           1.1683506965637207,
           2.1519057750701904,
           0.03146537393331528,
           -0.5070040225982666,
           0.2046511024236679,
           0.004709363915026188,
           -0.6561046838760376
          ],
          "id": 603,
          "words": "primeiro",
          "x": 0.873982846736908,
          "y": 0.3206198513507843
         },
         {
          "emb": [
           0.7385939359664917,
           -1.0738346576690674,
           0.7785069942474365,
           -1.492959976196289,
           -0.8967261910438538,
           1.9844398498535156,
           0.10889236629009247,
           0.31658029556274414,
           -0.18676039576530457,
           -2.72381854057312
          ],
          "id": 604,
          "words": "formais",
          "x": 1.8165218830108643,
          "y": 0.9916132688522339
         },
         {
          "emb": [
           0.8316544890403748,
           -0.8395987153053284,
           -1.1820788383483887,
           -1.340692400932312,
           0.6863667964935303,
           -1.1614433526992798,
           1.713679552078247,
           -0.1569894701242447,
           -0.5454196929931641,
           -0.10414742678403854
          ],
          "id": 605,
          "words": "chhatrapur",
          "x": -0.6178312301635742,
          "y": -0.6831514239311218
         },
         {
          "emb": [
           -1.1277754306793213,
           1.0219144821166992,
           0.5555858612060547,
           -2.263845920562744,
           1.0100804567337036,
           1.2367351055145264,
           -0.28785043954849243,
           1.8763463497161865,
           0.09742944687604904,
           -0.46696382761001587
          ],
          "id": 606,
          "words": "interagia",
          "x": 0.37615469098091125,
          "y": 0.4736417829990387
         },
         {
          "emb": [
           -1.3583171367645264,
           0.5695003271102905,
           0.8970531821250916,
           0.7293374538421631,
           0.42163515090942383,
           0.16948390007019043,
           -0.45707735419273376,
           -1.9085180759429932,
           0.2467907816171646,
           -1.51456618309021
          ],
          "id": 607,
          "words": "cianeto",
          "x": 0.1692747175693512,
          "y": 0.7997819781303406
         },
         {
          "emb": [
           -1.1923798322677612,
           0.7623320817947388,
           1.8536090850830078,
           -0.03818873316049576,
           -0.2174781858921051,
           0.9258629083633423,
           -0.6504873037338257,
           0.16454389691352844,
           -0.44983652234077454,
           1.0481210947036743
          ],
          "id": 608,
          "words": "havia",
          "x": 0.9585366249084473,
          "y": -0.14749012887477875
         },
         {
          "emb": [
           -1.2884129285812378,
           -0.6572102904319763,
           0.42498284578323364,
           -0.1400972157716751,
           1.1205800771713257,
           -1.1959043741226196,
           -0.032311778515577316,
           0.1591261625289917,
           -0.06090019643306732,
           0.6308966875076294
          ],
          "id": 609,
          "words": "química",
          "x": -1.0308046340942383,
          "y": 0.24229151010513306
         },
         {
          "emb": [
           -1.0468109846115112,
           -0.6730906963348389,
           0.262958824634552,
           1.5573217868804932,
           -0.5626586675643921,
           1.5159989595413208,
           -0.6247467398643494,
           2.2318458557128906,
           -0.6053491830825806,
           0.3191784918308258
          ],
          "id": 610,
          "words": "veneno",
          "x": 0.2854619026184082,
          "y": 1.5138334035873413
         },
         {
          "emb": [
           0.28108587861061096,
           0.09174174070358276,
           0.35355329513549805,
           0.892480194568634,
           2.795801877975464,
           1.553903341293335,
           0.11333227157592773,
           -0.32091808319091797,
           -0.37919458746910095,
           1.5454384088516235
          ],
          "id": 611,
          "words": "dado",
          "x": 0.831177830696106,
          "y": -1.6735050678253174
         },
         {
          "emb": [
           2.389214038848877,
           -0.04753942787647247,
           -0.20125441253185272,
           0.7883145809173584,
           0.6324347853660583,
           1.1919025182724,
           0.6070785522460938,
           0.05503877252340317,
           0.3769863545894623,
           -0.28624990582466125
          ],
          "id": 612,
          "words": "derek",
          "x": 1.747923731803894,
          "y": -0.6742314696311951
         },
         {
          "emb": [
           0.1352999210357666,
           -0.6711459755897522,
           0.20317910611629486,
           0.28157559037208557,
           1.4348328113555908,
           0.18600383400917053,
           -0.4479522407054901,
           -0.8386349081993103,
           -0.051992181688547134,
           -0.729880154132843
          ],
          "id": 613,
          "words": "venenosa",
          "x": 0.13291731476783752,
          "y": -0.01666402444243431
         },
         {
          "emb": [
           0.6569516062736511,
           1.020270586013794,
           -0.14659267663955688,
           0.7903367877006531,
           1.0500446557998657,
           0.18052645027637482,
           1.429479956626892,
           -1.363835096359253,
           -0.5670828819274902,
           -0.009935038164258003
          ],
          "id": 614,
          "words": "processamento",
          "x": 0.9066494107246399,
          "y": -0.8077139258384705
         },
         {
          "emb": [
           0.36676931381225586,
           -0.3649912178516388,
           0.07261712849140167,
           1.0629900693893433,
           0.9651193618774414,
           -0.5550544857978821,
           -0.9321489930152893,
           0.4253622889518738,
           0.11544099450111389,
           -0.0355922132730484
          ],
          "id": 615,
          "words": "afirma",
          "x": -0.10532905161380768,
          "y": 0.5988070368766785
         },
         {
          "emb": [
           1.1497266292572021,
           0.42259201407432556,
           -0.7964246869087219,
           -1.3723856210708618,
           -1.9101154804229736,
           -0.4725362956523895,
           -0.2338274121284485,
           2.076436996459961,
           1.1055614948272705,
           0.9275197982788086
          ],
          "id": 616,
          "words": "pesquisadores",
          "x": -0.25089749693870544,
          "y": -0.12693533301353455
         },
         {
          "emb": [
           -0.07113740593194962,
           -1.9306358098983765,
           2.495502471923828,
           0.30803531408309937,
           -0.4734167754650116,
           0.015587078407406807,
           -2.6931662559509277,
           0.7487819790840149,
           0.27706530690193176,
           0.9910581707954407
          ],
          "id": 617,
          "words": "decifração",
          "x": 0.6302807331085205,
          "y": 0.38717418909072876
         }
        ]
       },
       "encoding": {
        "tooltip": {
         "field": "words",
         "type": "nominal"
        },
        "x": {
         "field": "x",
         "type": "quantitative"
        },
        "y": {
         "field": "y",
         "type": "quantitative"
        }
       },
       "height": 700,
       "mark": {
        "size": 180,
        "type": "circle"
       },
       "width": 700
      },
      "image/png": "[encoded data removed]",
      "text/plain": [
       "<VegaLite 2 object>\n",
       "\n",
       "If you see this message, it means the renderer has not been properly enabled\n",
       "for the frontend that you are using. For more information, see\n",
       "https://altair-viz.github.io/user_guide/troubleshooting.html\n"
      ]
     },
     "execution_count": 26,
     "metadata": {},
     "output_type": "execute_result"
    }
   ],
   "source": [
    "alt.themes.enable('opaque')\n",
    "base = alt.Chart(dataf).properties(\n",
    "        width=700,\n",
    "        height=700\n",
    "    )\n",
    "\n",
    "base.mark_circle(size=180).encode(x=\"x\", y=\"y\", tooltip=\"words\")"
   ]
  },
  {
   "cell_type": "code",
   "execution_count": 27,
   "metadata": {},
   "outputs": [],
   "source": [
    "from knn_eucl_cos import knn"
   ]
  },
  {
   "cell_type": "code",
   "execution_count": 28,
   "metadata": {},
   "outputs": [
    {
     "data": {
      "text/markdown": [
       "| rank sim cos| - | rank dist eucl | - |\n",
       "|--|--|--|--|\n",
       "|muitos        | 0.14544 | muitos        | 0.07375|\n",
       "|poderia       | 0.26087 | code          | 0.08692|\n",
       "|ceruzzi       | 0.28141 | ceruzzi       | 0.08939|\n",
       "|code          | 0.28206 | condados      | 0.09595|\n",
       "|britânica     | 0.28430 | mortem        | 0.09709|\n",
       "|mortem        | 0.33544 | atos          | 0.10284|\n",
       "|condenado     | 0.33660 | teórica       | 0.10357|\n",
       "|comerciantes  | 0.33929 | condenado     | 0.10376|\n",
       "|cabeceira     | 0.34548 | rápido        | 0.10433|\n",
       "|condados      | 0.36041 | prazer        | 0.10648|\n"
      ],
      "text/plain": [
       "<IPython.core.display.Markdown object>"
      ]
     },
     "execution_count": 28,
     "metadata": {},
     "output_type": "execute_result"
    }
   ],
   "source": [
    "w = word2id[\"cianeto\"]\n",
    "\n",
    "matrix = np.array([skipgram.get_word_emb(word2id[i]).detach().numpy()[0] for i in uniques])\n",
    "result_pos, result_values = knn(dataf.emb, pos=w, n=10)\n",
    "result_p_eucl, result_v_eucl = knn(dataf.emb, pos=w, n=10, func=\"eucl\")\n",
    "\n",
    "mark = \"| rank sim cos| - | rank dist eucl | - |\\n|--|--|--|--|\\n\"\n",
    "for i, j, k, l in zip(result_pos, result_values, result_p_eucl, result_v_eucl):\n",
    "    mark += f\"|{id2word[i]:<13} | {j:.5f} | {id2word[k]:<13} | {l:.5f}|\\n\"\n",
    "\n",
    "Markdown(mark)"
   ]
  },
  {
   "cell_type": "code",
   "execution_count": 32,
   "metadata": {},
   "outputs": [
    {
     "data": {
      "image/png": "[encoded data removed]",
      "text/plain": [
       "<Figure size 720x576 with 1 Axes>"
      ]
     },
     "metadata": {},
     "output_type": "display_data"
    }
   ],
   "source": [
    "fig = figure()\n",
    "ax = fig.gca()\n",
    "dataf.plot.scatter(\"x\", \"y\", ax=ax, alpha=0.1)\n",
    "dataf.query(f\"id == {w}\").plot.scatter(\"x\", \"y\", ax=ax, s=100, c=\"yellow\")\n",
    "dataf[dataf['id'].isin(result_pos)].plot.scatter(\"x\", \"y\", ax=ax, s=100, c=\"blue\")\n",
    "dataf[dataf['id'].isin(result_p_eucl)].plot.scatter(\"x\", \"y\", ax=ax, s=100, c=\"red\", alpha=0.5)\n",
    "\n",
    "for i in set(result_p_eucl.tolist() + result_pos.tolist() + [w]):\n",
    "    coord = dataf.query(f\"id=={i}\")\n",
    "    ax.annotate(coord.words.values[0],(coord.x,coord.y), size=12)\n",
    "\n",
    "ax.set_xlim(-1.5, 3)\n",
    "ax.set_ylim(-1, 3.5)\n",
    "savefig(\"../images/word2vec-skipgram-rank.png\", dpi=\"figure\", transparent=True)"
   ]
  }
 ],
 "metadata": {
  "kernelspec": {
   "display_name": "Python 3",
   "language": "python",
   "name": "python3"
  },
  "language_info": {
   "codemirror_mode": {
    "name": "ipython",
    "version": 3
   },
   "file_extension": ".py",
   "mimetype": "text/x-python",
   "name": "python",
   "nbconvert_exporter": "python",
   "pygments_lexer": "ipython3",
   "version": "3.7.1"
  }
 },
 "nbformat": 4,
 "nbformat_minor": 2
}
