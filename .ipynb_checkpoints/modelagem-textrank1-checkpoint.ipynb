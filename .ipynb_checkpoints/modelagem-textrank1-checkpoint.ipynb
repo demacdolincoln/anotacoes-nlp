{
 "cells": [
  {
   "cell_type": "code",
   "execution_count": 1,
   "metadata": {},
   "outputs": [
    {
     "name": "stdout",
     "output_type": "stream",
     "text": [
      "Populating the interactive namespace from numpy and matplotlib\n"
     ]
    }
   ],
   "source": [
    "%pylab inline\n",
    "import pickle\n",
    "import networkx as nx\n",
    "from sklearn.metrics.pairwise import cosine_similarity\n",
    "from tqdm import tqdm_notebook as tqdm"
   ]
  },
  {
   "cell_type": "code",
   "execution_count": 2,
   "metadata": {},
   "outputs": [],
   "source": [
    "figsize(8, 8)"
   ]
  },
  {
   "cell_type": "code",
   "execution_count": 3,
   "metadata": {},
   "outputs": [],
   "source": [
    "id2word = pickle.load(\n",
    "    open(\"../../../datasets/skip_id2word.pickle\", \"rb\")\n",
    ")\n",
    "\n",
    "word2id = pickle.load(\n",
    "    open(\"../../../datasets/skip_word2id.pickle\", \"rb\")\n",
    ")\n",
    "\n",
    "data = np.memmap(\"../../../datasets/skip_np.npy\", mode=\"r+\",\n",
    "                    dtype=np.float, shape=(929605,100))"
   ]
  },
  {
   "cell_type": "code",
   "execution_count": 4,
   "metadata": {},
   "outputs": [
    {
     "data": {
      "text/plain": [
       "(37,\n",
       " 'após guerra trabalhou laboratório nacional física reino unido onde criou primeiros projetos computador programa armazenado ace posteriormente turing interessou química escreveu artigo sobre base química morfogênese previu reações químicas oscilantes reação belousov zhabotinsky observadas primeira vez década ')"
      ]
     },
     "execution_count": 4,
     "metadata": {},
     "output_type": "execute_result"
    }
   ],
   "source": [
    "text = pickle.load(\n",
    "    open(\"corpus_text.pickle\", \"rb\")\n",
    ")\n",
    "\n",
    "len(text), \"\".join([i+\" \" for i in text[2]])"
   ]
  },
  {
   "cell_type": "code",
   "execution_count": 5,
   "metadata": {},
   "outputs": [],
   "source": [
    "sentences = []\n",
    "\n",
    "for paragraph in text:\n",
    "    sentences.append([word2id[word] for word in paragraph if word in id2word])"
   ]
  },
  {
   "cell_type": "code",
   "execution_count": 6,
   "metadata": {},
   "outputs": [],
   "source": [
    "similarity_matrix = np.zeros(shape=(len(text),\n",
    "                                    len(text)), dtype=np.float)"
   ]
  },
  {
   "cell_type": "code",
   "execution_count": 7,
   "metadata": {},
   "outputs": [],
   "source": [
    "for i, x in enumerate(sentences):\n",
    "    for j, y in enumerate(sentences):\n",
    "        if i != j :\n",
    "            similarity_matrix[i, j] = np.sum(\n",
    "                                          cosine_similarity(data[x],data[y])\n",
    "                                      ).item(0)"
   ]
  },
  {
   "cell_type": "code",
   "execution_count": 8,
   "metadata": {},
   "outputs": [
    {
     "data": {
      "text/plain": [
       "<matplotlib.image.AxesImage at 0x7f8b1d860a58>"
      ]
     },
     "execution_count": 8,
     "metadata": {},
     "output_type": "execute_result"
    },
    {
     "data": {
      "image/png": "[encoded data removed]",
      "text/plain": [
       "<Figure size 576x576 with 1 Axes>"
      ]
     },
     "metadata": {
      "needs_background": "light"
     },
     "output_type": "display_data"
    }
   ],
   "source": [
    "matshow(similarity_matrix, cmap=cm.viridis)\n",
    "savefig(\"../images/similarity_matrix-classificacao-1.png\")"
   ]
  },
  {
   "cell_type": "code",
   "execution_count": 9,
   "metadata": {},
   "outputs": [],
   "source": [
    "G = nx.from_numpy_array(similarity_matrix)"
   ]
  },
  {
   "cell_type": "code",
   "execution_count": 10,
   "metadata": {},
   "outputs": [],
   "source": [
    "scores = nx.pagerank(G)"
   ]
  },
  {
   "cell_type": "code",
   "execution_count": 11,
   "metadata": {},
   "outputs": [],
   "source": [
    "original = pickle.load(\n",
    "    open(\"original_text-Alan_Turing.pickle\", \"rb\")\n",
    ")"
   ]
  },
  {
   "cell_type": "code",
   "execution_count": 12,
   "metadata": {},
   "outputs": [],
   "source": [
    "word_rank = sorted([(scores[i],i, s) for i, s in enumerate(original)], key=lambda x:x[0], reverse=True)"
   ]
  },
  {
   "cell_type": "code",
   "execution_count": 17,
   "metadata": {},
   "outputs": [
    {
     "name": "stdout",
     "output_type": "stream",
     "text": [
      "-- parágrafo do resumo: 0 | parágrafo original: 19\n",
      "Por muitos anos, foram feitas campanhas que envolveram ativistas da tecnologia da informação, do meio político e do público LGBT. Em 11 de setembro de 2009, 55 anos após sua morte, o primeiro-ministro do Reino Unido, Gordon Brown, seguindo um pedido feito através de uma petição direcionada ao governo britânico, pediu desculpas formais em nome do governo pelo tratamento preconceituoso e desumano dado a Turing, que o levou ao suicídio. Em 24 de dezembro de 2013, passou a ter efeito a Real Prerrogativa do Perdão, concedida a Turing pela Rainha Elizabeth II, a pedido do ministro da justiça do Reino Unido, Chirs Grayling, depois que uma petição criada em 2012 obteve mais de 37.000 assinaturas solicitando o devido perdão.\n",
      "\n",
      "-- parágrafo do resumo: 1 | parágrafo original: 3\n",
      "A homossexualidade de Turing resultou em um processo criminal em 1952, pois atos homossexuais eram ilegais no Reino Unido na época, e ele aceitou o tratamento com hormônios femininos e castração química, como alternativa à prisão. Morreu em 1954, algumas semanas antes de seu aniversário de 42 anos, devido a um aparente autoadministrado envenenamento por cianeto, apesar de sua mãe (e alguns outros) terem considerado sua morte acidental. Em 10 de setembro de 2009, após uma campanha de internet, o primeiro-ministro britânico Gordon Brown fez um pedido oficial de desculpas público, em nome do governo britânico, devido à maneira pela qual Turing foi tratado após a guerra. Em 24 de dezembro de 2013, Alan Turing recebeu o perdão real da rainha Elizabeth II, da condenação por homossexualidade.\n",
      "\n",
      "-- parágrafo do resumo: 2 | parágrafo original: 12\n",
      "Em 1938, Turing se uniu ao GC&CS, o braço de decodificação de mensagens da inteligência britânica, para efetuar a Criptoanálise da Máquina Enigma. O Enigma era uma máquina de codificação que mudava seus códigos diariamente, obrigando a que o projeto de decifração se tornasse bastante rápido. Após o Reino Unido iniciar a Segunda Guerra Mundial ao declarar guerra à Alemanha em 1939, Turing foi direcionado para o quartel da GC&CS em Bletchley Park. A partir de uma máquina decodificadora polonesa, Turing projetou a Bomba eletromecânica (\"Bombe\"),  um equipamento eletromecânico que ajudaria a decriptar as mensagens do Enigma e foi montada em 1940. Novas Bombas foram construídas após Turing e sua equipe pedirem apoio a Winston Churchill, e mais de duzentas operavam ao fim da Guerra em 1945. Turing também introduziu sua equipe em Bletchley Park ao matemático Tommy Flowers, que em 1943 projetou o Colossus, um computador primitivo que ajudou a decodificar outra máquina criptográfica alemã, o Lorenz.\n",
      "\n",
      "-- parágrafo do resumo: 3 | parágrafo original: 10\n",
      "Aos 24 anos, consagrou-se com a projeção de uma máquina que, de acordo com um sistema formal, pudesse fazer operações computacionais. Mostrou como um simples sistema automático poderia manipular símbolos de um sistema de regras próprias. A máquina teórica de Turing pode indicar que sistemas poderosos poderiam ser construídos. Tornou possível o processamento de símbolos, ligando a abstração de sistemas cognitivos e a realidade concreta dos números. Isto é buscado até hoje por pesquisadores de sistemas com Inteligência Artificial (IA). Para comprovar a inteligência artificial ou não de um computador, Turing desenvolveu um teste que consistia em um operador não poder diferenciar se as respostas a perguntas elaboradas pelo operador eram vindas ou não de um computador. Caso afirmativo, o computador poderia ser considerado como dotado de inteligência artificial. Sua máquina pode ser programada de tal modo que pode imitar qualquer sistema formal. A ideia de computabilidade começou a ser delineada. Devido a esses feitos, Alan Turing é tido como Pai da ciência da computação.\n",
      "\n",
      "-- parágrafo do resumo: 4 | parágrafo original: 17\n",
      "A mãe de Turing argumentou com veemência que a ingestão fora acidental, causada pelo armazenamento descuidado de seu filho de produtos químicos de laboratório. O biógrafo Andrew Hodges sugere que Turing pode ter se matado deliberadamente de forma bastante ambígua para dar à sua mãe alguma negação plausível. Outros sugerem que Turing estava encenando uma cena do filme Branca de Neve, de 1937, seu conto de fadas favorito, salientando que ele tinha \"um prazer especialmente mordaz na cena em que a bruxa malvada mergulha a maçã na poção venenosa\".Jack Copeland defende que a morte pode ter sido acidental como resultado de inalação de vapores de cianeto durante uma experiência química conduzida no improvisado laboratório que tinha em casa e onde já anteriormente sofrera acidentes por descuido. O mesmo autor afirma que - contrariamente ao que se tem afirmado - profissionalmente o trabalho lhe corria bem, que andava alegre e que interagia socialmente com normalidade e boa disposição. Constata que a maçã encontrada à cabeceira não foi testada laboratorialmente para determinar a presença de cianeto, que os níveis do veneno no organismo eram uniformes, portanto mais compatíveis com a inalação lenta do que com a ingestão. Conclui, deste modo, que a investigação foi mal conduzida e precipitada e que os elementos disponíveis não indiciam necessariamente que a causa da morte seja suicídio.\n",
      "\n"
     ]
    }
   ],
   "source": [
    "qnt_lines = 5\n",
    "\n",
    "top = sorted(word_rank[:qnt_lines], key=lambda x:x[0])\n",
    "\n",
    "for i in range(qnt_lines):\n",
    "    print(f\"-- parágrafo do resumo: {i} | parágrafo original: {top[i][1]}\")\n",
    "    print(top[i][2], end=\"\\n\\n\")"
   ]
  }
 ],
 "metadata": {
  "kernelspec": {
   "display_name": "Python 3",
   "language": "python",
   "name": "python3"
  },
  "language_info": {
   "codemirror_mode": {
    "name": "ipython",
    "version": 3
   },
   "file_extension": ".py",
   "mimetype": "text/x-python",
   "name": "python",
   "nbconvert_exporter": "python",
   "pygments_lexer": "ipython3",
   "version": "3.7.1"
  }
 },
 "nbformat": 4,
 "nbformat_minor": 2
}
